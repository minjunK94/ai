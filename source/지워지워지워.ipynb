{
 "cells": [
  {
   "cell_type": "code",
   "execution_count": 1,
   "id": "fbc1ac92",
   "metadata": {},
   "outputs": [],
   "source": [
    "import cx_Oracle\n",
    "# 없으면 pip install cx_Oracle 진행"
   ]
  },
  {
   "cell_type": "code",
   "execution_count": 3,
   "id": "4da44f13",
   "metadata": {},
   "outputs": [
    {
     "data": {
      "text/plain": [
       "'(DESCRIPTION=(ADDRESS=(PROTOCOL=TCP)(HOST=localhost)(PORT=1521))(CONNECT_DATA=(SID=xe)))'"
      ]
     },
     "execution_count": 3,
     "metadata": {},
     "output_type": "execute_result"
    }
   ],
   "source": [
    "dsn = cx_Oracle.makedsn(host='localhost',\n",
    "                       port=1521,\n",
    "                       sid='xe')\n",
    "dsn"
   ]
  },
  {
   "cell_type": "code",
   "execution_count": 4,
   "id": "0db874fa",
   "metadata": {},
   "outputs": [
    {
     "data": {
      "text/plain": [
       "<cx_Oracle.Connection to scott@(DESCRIPTION=(ADDRESS=(PROTOCOL=TCP)(HOST=localhost)(PORT=1521))(CONNECT_DATA=(SID=xe)))>"
      ]
     },
     "execution_count": 4,
     "metadata": {},
     "output_type": "execute_result"
    }
   ],
   "source": [
    "conn = cx_Oracle.connect(user='scott',\n",
    "                        password='tiger',\n",
    "                        dsn=dsn)\n",
    "conn"
   ]
  },
  {
   "cell_type": "code",
   "execution_count": 5,
   "id": "a86e18fb",
   "metadata": {},
   "outputs": [
    {
     "data": {
      "text/plain": [
       "[(7369,\n",
       "  'SMITH',\n",
       "  'CLERK',\n",
       "  7902,\n",
       "  datetime.datetime(1980, 12, 17, 0, 0),\n",
       "  800.0,\n",
       "  None,\n",
       "  20),\n",
       " (7499,\n",
       "  'ALLEN',\n",
       "  'SALESMAN',\n",
       "  7698,\n",
       "  datetime.datetime(1981, 2, 20, 0, 0),\n",
       "  1600.0,\n",
       "  300.0,\n",
       "  30),\n",
       " (7521,\n",
       "  'WARD',\n",
       "  'SALESMAN',\n",
       "  7698,\n",
       "  datetime.datetime(1981, 2, 22, 0, 0),\n",
       "  1250.0,\n",
       "  500.0,\n",
       "  30),\n",
       " (7566,\n",
       "  'JONES',\n",
       "  'MANAGER',\n",
       "  7839,\n",
       "  datetime.datetime(1981, 4, 2, 0, 0),\n",
       "  2975.0,\n",
       "  None,\n",
       "  20),\n",
       " (7654,\n",
       "  'MARTIN',\n",
       "  'SALESMAN',\n",
       "  7698,\n",
       "  datetime.datetime(1981, 9, 28, 0, 0),\n",
       "  1250.0,\n",
       "  1400.0,\n",
       "  30),\n",
       " (7698,\n",
       "  'BLAKE',\n",
       "  'MANAGER',\n",
       "  7839,\n",
       "  datetime.datetime(1981, 5, 1, 0, 0),\n",
       "  2850.0,\n",
       "  None,\n",
       "  30),\n",
       " (7782,\n",
       "  'CLARK',\n",
       "  'MANAGER',\n",
       "  7839,\n",
       "  datetime.datetime(1981, 6, 9, 0, 0),\n",
       "  2450.0,\n",
       "  None,\n",
       "  10),\n",
       " (7788,\n",
       "  'SCOTT',\n",
       "  'ANALYST',\n",
       "  7566,\n",
       "  datetime.datetime(1982, 12, 9, 0, 0),\n",
       "  3000.0,\n",
       "  None,\n",
       "  20),\n",
       " (7839,\n",
       "  'KING',\n",
       "  'PRESIDENT',\n",
       "  None,\n",
       "  datetime.datetime(1981, 11, 17, 0, 0),\n",
       "  5000.0,\n",
       "  None,\n",
       "  10),\n",
       " (7844,\n",
       "  'TURNER',\n",
       "  'SALESMAN',\n",
       "  7698,\n",
       "  datetime.datetime(1981, 9, 8, 0, 0),\n",
       "  1500.0,\n",
       "  0.0,\n",
       "  30),\n",
       " (7876,\n",
       "  'ADAMS',\n",
       "  'CLERK',\n",
       "  7788,\n",
       "  datetime.datetime(1983, 1, 12, 0, 0),\n",
       "  1100.0,\n",
       "  None,\n",
       "  20),\n",
       " (7900,\n",
       "  'JAMES',\n",
       "  'CLERK',\n",
       "  7698,\n",
       "  datetime.datetime(1981, 12, 3, 0, 0),\n",
       "  950.0,\n",
       "  None,\n",
       "  30),\n",
       " (7902,\n",
       "  'FORD',\n",
       "  'ANALYST',\n",
       "  7566,\n",
       "  datetime.datetime(1981, 12, 3, 0, 0),\n",
       "  3000.0,\n",
       "  None,\n",
       "  20),\n",
       " (7934,\n",
       "  'MILLER',\n",
       "  'CLERK',\n",
       "  7782,\n",
       "  datetime.datetime(1982, 1, 23, 0, 0),\n",
       "  1300.0,\n",
       "  None,\n",
       "  10)]"
      ]
     },
     "execution_count": 5,
     "metadata": {},
     "output_type": "execute_result"
    }
   ],
   "source": [
    "# EMP 테이블의 모든 정보 출력\n",
    "cursor = conn.cursor() # SQL 문 전송 및 결과 받는 객체\n",
    "sql = \"SELECT * FROM EMP\"\n",
    "cursor.execute(sql)\n",
    "emps = cursor.fetchall() # sql문 결과를 튜플 list 로\n",
    "emps"
   ]
  },
  {
   "cell_type": "code",
   "execution_count": null,
   "id": "8f9ec1c2",
   "metadata": {},
   "outputs": [],
   "source": []
  },
  {
   "cell_type": "code",
   "execution_count": null,
   "id": "b54ca528",
   "metadata": {},
   "outputs": [],
   "source": []
  },
  {
   "cell_type": "code",
   "execution_count": null,
   "id": "42f1a665",
   "metadata": {},
   "outputs": [],
   "source": []
  },
  {
   "cell_type": "code",
   "execution_count": null,
   "id": "f671fdd2",
   "metadata": {},
   "outputs": [],
   "source": []
  },
  {
   "cell_type": "code",
   "execution_count": null,
   "id": "dd588c1b",
   "metadata": {},
   "outputs": [],
   "source": []
  },
  {
   "cell_type": "code",
   "execution_count": null,
   "id": "719de940",
   "metadata": {},
   "outputs": [],
   "source": []
  },
  {
   "cell_type": "code",
   "execution_count": null,
   "id": "bf1d6db9",
   "metadata": {},
   "outputs": [],
   "source": []
  },
  {
   "cell_type": "code",
   "execution_count": null,
   "id": "2443e08d",
   "metadata": {},
   "outputs": [],
   "source": []
  },
  {
   "cell_type": "code",
   "execution_count": null,
   "id": "ea0dbcb5",
   "metadata": {},
   "outputs": [],
   "source": []
  },
  {
   "cell_type": "code",
   "execution_count": null,
   "id": "02bd3036",
   "metadata": {},
   "outputs": [],
   "source": []
  }
 ],
 "metadata": {
  "kernelspec": {
   "display_name": "Python 3 (ipykernel)",
   "language": "python",
   "name": "python3"
  },
  "language_info": {
   "codemirror_mode": {
    "name": "ipython",
    "version": 3
   },
   "file_extension": ".py",
   "mimetype": "text/x-python",
   "name": "python",
   "nbconvert_exporter": "python",
   "pygments_lexer": "ipython3",
   "version": "3.10.9"
  },
  "toc": {
   "base_numbering": 1,
   "nav_menu": {},
   "number_sections": true,
   "sideBar": true,
   "skip_h1_title": false,
   "title_cell": "Table of Contents",
   "title_sidebar": "Contents",
   "toc_cell": false,
   "toc_position": {},
   "toc_section_display": true,
   "toc_window_display": false
  }
 },
 "nbformat": 4,
 "nbformat_minor": 5
}
