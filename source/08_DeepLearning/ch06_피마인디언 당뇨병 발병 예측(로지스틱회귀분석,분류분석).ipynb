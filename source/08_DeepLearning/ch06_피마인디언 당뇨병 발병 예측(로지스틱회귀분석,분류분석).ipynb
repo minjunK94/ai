{
 "cells": [
  {
   "cell_type": "code",
   "execution_count": 1,
   "id": "4619c606",
   "metadata": {},
   "outputs": [],
   "source": [
    "import numpy as np\n",
    "import pandas as pd\n",
    "import sys\n",
    "from tensorflow.keras import utils # utils.to_categorical\n",
    "from tensorflow.keras.models import Sequential # 모델생성\n",
    "from tensorflow.keras.layers import Dense, Input\n",
    "import matplotlib.pyplot as plt"
   ]
  },
  {
   "cell_type": "markdown",
   "id": "b67d6983",
   "metadata": {},
   "source": [
    "# 로지스틱회귀분석(이진분류)\n",
    "## 1. 데이터셋 생성 & 전처리"
   ]
  },
  {
   "cell_type": "code",
   "execution_count": 11,
   "id": "32dfa46b",
   "metadata": {},
   "outputs": [
    {
     "data": {
      "text/plain": [
       "array([[  6.   , 148.   ,  72.   ,  35.   ,   0.   ,  33.6  ,   0.627,\n",
       "         50.   ,   1.   ],\n",
       "       [  1.   ,  85.   ,  66.   ,  29.   ,   0.   ,  26.6  ,   0.351,\n",
       "         31.   ,   0.   ]])"
      ]
     },
     "execution_count": 11,
     "metadata": {},
     "output_type": "execute_result"
    }
   ],
   "source": [
    "df = pd.read_csv('data/pima-indians-diabetes.csv', comment='#', header=None)\n",
    "df.values[:2]\n",
    "# 결측치 없으므로, csv파일을 바로 넘파이 배열로 읽어올 예정"
   ]
  },
  {
   "cell_type": "code",
   "execution_count": 9,
   "id": "0e6beae6",
   "metadata": {},
   "outputs": [],
   "source": [
    "# np.set_printoptions(threshold=sys.maxsize)"
   ]
  },
  {
   "cell_type": "code",
   "execution_count": null,
   "id": "fc0151d9",
   "metadata": {},
   "outputs": [],
   "source": [
    "# 1. 임신횟수\n",
    "# 2. 2시간내 포도당 농도\n",
    "# 3. 혈압\n",
    "# 4. 피부접힘 두께\n",
    "# 5. 인슐린수치\n",
    "# 6. BMI체질량지수\n",
    "# 7. 가족력\n",
    "# 8. 나이\n",
    "# 9. 당뇨병발병여부"
   ]
  },
  {
   "cell_type": "code",
   "execution_count": 2,
   "id": "3b070ff6",
   "metadata": {},
   "outputs": [
    {
     "data": {
      "text/plain": [
       "(768, 9)"
      ]
     },
     "execution_count": 2,
     "metadata": {},
     "output_type": "execute_result"
    }
   ],
   "source": [
    "# csv파일을 numpy 배열로 읽어오기 np.loadtxt(), np.genfromtxt() #이 있는 행은 제외하여 읽어옴\n",
    "dataset = np.loadtxt('data/pima-indians-diabetes.csv', delimiter=',')\n",
    "dataset.shape"
   ]
  },
  {
   "cell_type": "code",
   "execution_count": 7,
   "id": "0c6e5e28",
   "metadata": {},
   "outputs": [
    {
     "data": {
      "text/plain": [
       "((700, 8), (700,), (68, 8), (68,))"
      ]
     },
     "execution_count": 7,
     "metadata": {},
     "output_type": "execute_result"
    }
   ],
   "source": [
    "# 학습데이터셋(학습용 데이터:train dataset) : 모델 학습시 사용\n",
    "X_train = dataset[:700, :-1]\n",
    "y_train = dataset[:700, -1]\n",
    "# 테스트데이터셋(시험용 데이터:test dataset) : 모델 평가시 사용\n",
    "X_test = dataset[700:, :-1]\n",
    "y_test = dataset[700:, -1]\n",
    "X_train.shape, y_train.shape, X_test.shape, y_test.shape"
   ]
  },
  {
   "cell_type": "markdown",
   "id": "99e7ebaa",
   "metadata": {},
   "source": [
    "## 2. 모델 구성"
   ]
  },
  {
   "cell_type": "code",
   "execution_count": 30,
   "id": "b09fb69e",
   "metadata": {},
   "outputs": [
    {
     "name": "stdout",
     "output_type": "stream",
     "text": [
      "Model: \"sequential_6\"\n",
      "_________________________________________________________________\n",
      " Layer (type)                Output Shape              Param #   \n",
      "=================================================================\n",
      " dense_19 (Dense)            (None, 12)                108       \n",
      "                                                                 \n",
      " dense_20 (Dense)            (None, 8)                 104       \n",
      "                                                                 \n",
      " dense_21 (Dense)            (None, 1)                 9         \n",
      "                                                                 \n",
      "=================================================================\n",
      "Total params: 221\n",
      "Trainable params: 221\n",
      "Non-trainable params: 0\n",
      "_________________________________________________________________\n"
     ]
    }
   ],
   "source": [
    "model = Sequential()\n",
    "model.add(Input(shape=(8,)))\n",
    "model.add(Dense(units=12, activation='relu'))\n",
    "model.add(Dense(units=8, activation='relu'))\n",
    "model.add(Dense(units=1, activation='sigmoid'))\n",
    "model.summary()"
   ]
  },
  {
   "cell_type": "markdown",
   "id": "1f1906b1",
   "metadata": {},
   "source": [
    "## 3. 학습과정 설정"
   ]
  },
  {
   "cell_type": "code",
   "execution_count": 31,
   "id": "a12ddc79",
   "metadata": {},
   "outputs": [],
   "source": [
    "# model.compile(loss='binary_crossentropy', optimizer='adam', metrics=['accuracy'])\n",
    "model.compile(loss='binary_crossentropy', optimizer='adam', metrics=['binary_accuracy'])"
   ]
  },
  {
   "cell_type": "markdown",
   "id": "48c20d40",
   "metadata": {},
   "source": [
    "## 4. 학습"
   ]
  },
  {
   "cell_type": "code",
   "execution_count": 32,
   "id": "ceb9bdac",
   "metadata": {},
   "outputs": [],
   "source": [
    "hist = model.fit(X_train, y_train, # 훈련데이터\n",
    "                 epochs=200,\n",
    "                 # batch_size=350,\n",
    "                 # validation_split=0.2 # 검증 데이터 비율(훈련데이터셋 중 20%를 검증용 데이터로)\n",
    "                 verbose=0\n",
    "                )"
   ]
  },
  {
   "cell_type": "markdown",
   "id": "28a8da35",
   "metadata": {},
   "source": [
    "## 5. 모델 평가하기(학습과정보기, 평가)"
   ]
  },
  {
   "cell_type": "code",
   "execution_count": 22,
   "id": "61284084",
   "metadata": {},
   "outputs": [
    {
     "data": {
      "text/plain": [
       "dict_keys(['loss', 'binary_accuracy'])"
      ]
     },
     "execution_count": 22,
     "metadata": {},
     "output_type": "execute_result"
    }
   ],
   "source": [
    "hist.history.keys()"
   ]
  },
  {
   "cell_type": "code",
   "execution_count": 33,
   "id": "ac5c1c06",
   "metadata": {},
   "outputs": [
    {
     "data": {
      "image/png": "[encoded data removed]",
      "text/plain": [
       "<Figure size 1000x500 with 2 Axes>"
      ]
     },
     "metadata": {},
     "output_type": "display_data"
    }
   ],
   "source": [
    "# 학습과정 표시하기(validation dataset 없는 경우)\n",
    "fig, loss_ax = plt.subplots(figsize=(10,5))\n",
    "loss_ax.plot(hist.history['loss'], 'r', label='train loss')\n",
    "loss_ax.set_xlabel('epoch')\n",
    "loss_ax.set_ylabel('loss')\n",
    "acc_ax = loss_ax.twinx()\n",
    "acc_ax.plot(hist.history['binary_accuracy'], 'b', label='train accuracy')\n",
    "acc_ax.set_ylabel('accuracy')\n",
    "loss_ax.legend(loc='center right')\n",
    "acc_ax.legend(bbox_to_anchor=(0.999, 0.65))\n",
    "plt.show()"
   ]
  },
  {
   "cell_type": "code",
   "execution_count": 34,
   "id": "8006ec56",
   "metadata": {},
   "outputs": [
    {
     "name": "stdout",
     "output_type": "stream",
     "text": [
      "22/22 [==============================] - 0s 3ms/step - loss: 0.4889 - binary_accuracy: 0.7771\n"
     ]
    },
    {
     "data": {
      "text/plain": [
       "[0.4889054596424103, 0.7771428823471069]"
      ]
     },
     "execution_count": 34,
     "metadata": {},
     "output_type": "execute_result"
    }
   ],
   "source": [
    "# 모델 평가(X)\n",
    "model.evaluate(X_train, y_train)"
   ]
  },
  {
   "cell_type": "code",
   "execution_count": 35,
   "id": "35210744",
   "metadata": {},
   "outputs": [
    {
     "name": "stdout",
     "output_type": "stream",
     "text": [
      "3/3 [==============================] - 0s 3ms/step - loss: 0.6064 - binary_accuracy: 0.7941\n",
      "loss : 0.6064150929450989, 정확도 : 79.41176295280457%\n"
     ]
    }
   ],
   "source": [
    "# 모델 평가(o)\n",
    "score = model.evaluate(X_test, y_test)\n",
    "print(\"loss : {}, 정확도 : {}%\".format(score[0], score[1]*100))"
   ]
  },
  {
   "cell_type": "markdown",
   "id": "43b9f69e",
   "metadata": {},
   "source": [
    "## 6. 모델 사용하기"
   ]
  },
  {
   "cell_type": "code",
   "execution_count": 45,
   "id": "db0a04ab",
   "metadata": {},
   "outputs": [
    {
     "data": {
      "text/plain": [
       "(array([  4.   , 110.   ,  92.   ,   0.   ,   0.   ,  37.6  ,   0.191,\n",
       "         30.   ]),\n",
       " 0.0)"
      ]
     },
     "execution_count": 45,
     "metadata": {},
     "output_type": "execute_result"
    }
   ],
   "source": [
    "X_train[10], y_train[10]"
   ]
  },
  {
   "cell_type": "code",
   "execution_count": 39,
   "id": "1dbd949e",
   "metadata": {},
   "outputs": [
    {
     "name": "stdout",
     "output_type": "stream",
     "text": [
      "1/1 [==============================] - 0s 31ms/step\n"
     ]
    },
    {
     "data": {
      "text/plain": [
       "array([[0.76793426]], dtype=float32)"
      ]
     },
     "execution_count": 39,
     "metadata": {},
     "output_type": "execute_result"
    }
   ],
   "source": [
    "model.predict([[6, 148, 72, 35, 0, 33.6, 0.6, 50]])"
   ]
  },
  {
   "cell_type": "code",
   "execution_count": 46,
   "id": "188a8a0f",
   "metadata": {},
   "outputs": [
    {
     "name": "stdout",
     "output_type": "stream",
     "text": [
      "1/1 [==============================] - 0s 31ms/step\n"
     ]
    },
    {
     "data": {
      "text/plain": [
       "array([[0],\n",
       "       [1]])"
      ]
     },
     "execution_count": 46,
     "metadata": {},
     "output_type": "execute_result"
    }
   ],
   "source": [
    "(model.predict([[4, 110, 92, 0, 0, 37.6, 0.191, 30],\n",
    "                   [6, 148, 72, 35, 0, 33.6, 0.6, 45]]) > 0.5).astype(int)"
   ]
  },
  {
   "cell_type": "markdown",
   "id": "044d5ecf",
   "metadata": {},
   "source": [
    "## 7. 교차표\n",
    "- 테스트 데이터셋의 실제값(y_test)과 예측값"
   ]
  },
  {
   "cell_type": "code",
   "execution_count": 54,
   "id": "667b91fe",
   "metadata": {},
   "outputs": [
    {
     "name": "stdout",
     "output_type": "stream",
     "text": [
      "3/3 [==============================] - 0s 2ms/step\n",
      "17 10\n",
      "4 37\n"
     ]
    }
   ],
   "source": [
    "y_hat = (model.predict(X_test)>0.5).astype(float)\n",
    "cnt1=0; cnt2=0; cnt3=0; cnt4=0\n",
    "# y_hat.shape, y_test.shape\n",
    "for h, y in zip(y_hat.reshape(-1), y_test.reshape(-1)):\n",
    "    if h==1.0 and y==1.0:\n",
    "        cnt1 += 1\n",
    "    elif y==1.0 and h==0.0:\n",
    "        cnt2 += 1\n",
    "    elif y==0.0 and h==1.0:\n",
    "        cnt3 += 1\n",
    "    else:\n",
    "        cnt4 += 1\n",
    "print(cnt1, cnt2)\n",
    "print(cnt3, cnt4)"
   ]
  },
  {
   "cell_type": "code",
   "execution_count": 60,
   "id": "685801a7",
   "metadata": {},
   "outputs": [
    {
     "data": {
      "text/html": [
       "<div>\n",
       "<style scoped>\n",
       "    .dataframe tbody tr th:only-of-type {\n",
       "        vertical-align: middle;\n",
       "    }\n",
       "\n",
       "    .dataframe tbody tr th {\n",
       "        vertical-align: top;\n",
       "    }\n",
       "\n",
       "    .dataframe thead th {\n",
       "        text-align: right;\n",
       "    }\n",
       "</style>\n",
       "<table border=\"1\" class=\"dataframe\">\n",
       "  <thead>\n",
       "    <tr style=\"text-align: right;\">\n",
       "      <th>예측값</th>\n",
       "      <th>0.0</th>\n",
       "      <th>1.0</th>\n",
       "    </tr>\n",
       "    <tr>\n",
       "      <th>실제값</th>\n",
       "      <th></th>\n",
       "      <th></th>\n",
       "    </tr>\n",
       "  </thead>\n",
       "  <tbody>\n",
       "    <tr>\n",
       "      <th>0.0</th>\n",
       "      <td>37</td>\n",
       "      <td>4</td>\n",
       "    </tr>\n",
       "    <tr>\n",
       "      <th>1.0</th>\n",
       "      <td>10</td>\n",
       "      <td>17</td>\n",
       "    </tr>\n",
       "  </tbody>\n",
       "</table>\n",
       "</div>"
      ],
      "text/plain": [
       "예측값  0.0  1.0\n",
       "실제값          \n",
       "0.0   37    4\n",
       "1.0   10   17"
      ]
     },
     "execution_count": 60,
     "metadata": {},
     "output_type": "execute_result"
    }
   ],
   "source": [
    "ctab = pd.crosstab(y_test, y_hat.reshape(-1))\n",
    "ctab.index.name = '실제값'\n",
    "ctab.columns.name='예측값'\n",
    "ctab"
   ]
  },
  {
   "cell_type": "markdown",
   "id": "58813e3e",
   "metadata": {},
   "source": [
    "# 분류분석\n",
    "```\n",
    "1. 데이터셋 생성 및 전처리 : 훈련셋600, 검증셋100, 테스트셋68으로 분리, 종속변수의 원핫인코딩\n",
    "2. 모델생성(input 8, target 2) : 출력층에서의 활성화함수 'softmax'\n",
    "    * model.summary()에서 파라미터 수 확인\n",
    "3. 모델학습과정 설정 : loss='categorical_crossentropy' metrics=['accuracy']\n",
    "4. 모델 학습 : validation_data=[X_val, Y_val] 추가해서 학습\n",
    "5. 모델 학습 평가 : 그래프(hist.history.keys()를 확인후 4가지)\n",
    "             평가(X_test, Y_test)\n",
    "             교차표(pd.crosstab 이용)\n",
    "6. 모델 사용하기 - 예측\n",
    "              0      1\n",
    "             0.9912  0.00124\n",
    "```"
   ]
  },
  {
   "cell_type": "code",
   "execution_count": 2,
   "id": "7fe7078d",
   "metadata": {},
   "outputs": [],
   "source": [
    "import numpy as np\n",
    "import pandas as pd\n",
    "import sys\n",
    "from tensorflow.keras import utils # utils.to_categorical\n",
    "from tensorflow.keras.models import Sequential # 모델생성\n",
    "from tensorflow.keras.layers import Dense, Input\n",
    "import matplotlib.pyplot as plt"
   ]
  },
  {
   "cell_type": "markdown",
   "id": "76ab5870",
   "metadata": {},
   "source": [
    "## 1. 데이터셋 생성 및 전처리"
   ]
  },
  {
   "cell_type": "code",
   "execution_count": 2,
   "id": "90524e3d",
   "metadata": {},
   "outputs": [
    {
     "data": {
      "text/plain": [
       "(768, 9)"
      ]
     },
     "execution_count": 2,
     "metadata": {},
     "output_type": "execute_result"
    }
   ],
   "source": [
    "dataset = np.loadtxt('data/pima-indians-diabetes.csv', delimiter=',')\n",
    "dataset.shape"
   ]
  },
  {
   "cell_type": "code",
   "execution_count": 3,
   "id": "0e4f5672",
   "metadata": {},
   "outputs": [
    {
     "data": {
      "text/plain": [
       "((600, 8), (600,), (100, 8), (100,), (68, 8), (68,))"
      ]
     },
     "execution_count": 3,
     "metadata": {},
     "output_type": "execute_result"
    }
   ],
   "source": [
    "# 훈련셋600, 검증셋100, 테스트셋68으로 분리\n",
    "X_train = dataset[:600, :-1]\n",
    "y_train = dataset[:600, -1]\n",
    "X_val = dataset[600:700, :-1]\n",
    "y_val = dataset[600:700, -1]\n",
    "X_test = dataset[700:, :-1]\n",
    "y_test = dataset[700:, -1]\n",
    "X_train.shape, y_train.shape, X_val.shape, y_val.shape, X_test.shape, y_test.shape"
   ]
  },
  {
   "cell_type": "code",
   "execution_count": 4,
   "id": "292707b3",
   "metadata": {},
   "outputs": [
    {
     "data": {
      "text/plain": [
       "((600, 8), (600, 2), (100, 8), (100,), (68, 8), (68, 2))"
      ]
     },
     "execution_count": 4,
     "metadata": {},
     "output_type": "execute_result"
    }
   ],
   "source": [
    "# 종속변수의 원핫인코딩\n",
    "Y_train = utils.to_categorical(y_train, 2)\n",
    "Y_val = utils.to_categorical(y_val, 2)\n",
    "Y_test = utils.to_categorical(y_test, 2)\n",
    "X_train.shape, Y_train.shape, X_val.shape, y_val.shape, X_test.shape, Y_test.shape"
   ]
  },
  {
   "cell_type": "code",
   "execution_count": 5,
   "id": "d2328cb2",
   "metadata": {},
   "outputs": [
    {
     "data": {
      "text/plain": [
       "(array([1., 0.]),\n",
       " array([[0., 1.],\n",
       "        [1., 0.]], dtype=float32))"
      ]
     },
     "execution_count": 5,
     "metadata": {},
     "output_type": "execute_result"
    }
   ],
   "source": [
    "y_train[:2], Y_train[:2]"
   ]
  },
  {
   "cell_type": "code",
   "execution_count": 6,
   "id": "e35d6423",
   "metadata": {},
   "outputs": [
    {
     "data": {
      "text/plain": [
       "array([[1., 0., 1.],\n",
       "       [0., 1., 0.]])"
      ]
     },
     "execution_count": 6,
     "metadata": {},
     "output_type": "execute_result"
    }
   ],
   "source": [
    "np.c_[y_train[:2], Y_train[:2]]"
   ]
  },
  {
   "cell_type": "markdown",
   "id": "3e775b68",
   "metadata": {},
   "source": [
    "## 2. 모델생성(input 8, target 2) "
   ]
  },
  {
   "cell_type": "code",
   "execution_count": 7,
   "id": "da132fd7",
   "metadata": {},
   "outputs": [
    {
     "name": "stdout",
     "output_type": "stream",
     "text": [
      "Model: \"sequential\"\n",
      "_________________________________________________________________\n",
      " Layer (type)                Output Shape              Param #   \n",
      "=================================================================\n",
      " dense (Dense)               (None, 12)                108       \n",
      "                                                                 \n",
      " dense_1 (Dense)             (None, 8)                 104       \n",
      "                                                                 \n",
      " dense_2 (Dense)             (None, 2)                 18        \n",
      "                                                                 \n",
      "=================================================================\n",
      "Total params: 230\n",
      "Trainable params: 230\n",
      "Non-trainable params: 0\n",
      "_________________________________________________________________\n"
     ]
    }
   ],
   "source": [
    "model = Sequential()\n",
    "model.add(Input(shape=(8,)))\n",
    "model.add(Dense(units=12, activation='relu'))\n",
    "model.add(Dense(units=8, activation='relu'))\n",
    "model.add(Dense(units=2, activation='softmax'))\n",
    "model.summary()"
   ]
  },
  {
   "cell_type": "markdown",
   "id": "697ea70a",
   "metadata": {},
   "source": [
    "## 3. 학습과정 설정"
   ]
  },
  {
   "cell_type": "code",
   "execution_count": 8,
   "id": "dd54d027",
   "metadata": {},
   "outputs": [],
   "source": [
    "model.compile(loss='categorical_crossentropy', optimizer='nadam', metrics=['accuracy'])"
   ]
  },
  {
   "cell_type": "markdown",
   "id": "7617dc93",
   "metadata": {},
   "source": [
    "## 4. 모델 학습"
   ]
  },
  {
   "cell_type": "code",
   "execution_count": 9,
   "id": "294f956e",
   "metadata": {},
   "outputs": [
    {
     "name": "stdout",
     "output_type": "stream",
     "text": [
      "Epoch 1/300\n",
      "19/19 [==============================] - 2s 17ms/step - loss: 3.6616 - accuracy: 0.6383 - val_loss: 2.2807 - val_accuracy: 0.5900\n",
      "Epoch 2/300\n",
      "19/19 [==============================] - 0s 7ms/step - loss: 1.6695 - accuracy: 0.5300 - val_loss: 1.2558 - val_accuracy: 0.5300\n",
      "Epoch 3/300\n",
      "19/19 [==============================] - 0s 8ms/step - loss: 1.1739 - accuracy: 0.5217 - val_loss: 1.0150 - val_accuracy: 0.5600\n",
      "Epoch 4/300\n",
      "19/19 [==============================] - 0s 8ms/step - loss: 0.9426 - accuracy: 0.5483 - val_loss: 0.8580 - val_accuracy: 0.6200\n",
      "Epoch 5/300\n",
      "19/19 [==============================] - 0s 7ms/step - loss: 0.8227 - accuracy: 0.5850 - val_loss: 0.7895 - val_accuracy: 0.5900\n",
      "Epoch 6/300\n",
      "19/19 [==============================] - 0s 7ms/step - loss: 0.7631 - accuracy: 0.5933 - val_loss: 0.7485 - val_accuracy: 0.6300\n",
      "Epoch 7/300\n",
      "19/19 [==============================] - 0s 6ms/step - loss: 0.7258 - accuracy: 0.6217 - val_loss: 0.7357 - val_accuracy: 0.6300\n",
      "Epoch 8/300\n",
      "19/19 [==============================] - 0s 6ms/step - loss: 0.7069 - accuracy: 0.6233 - val_loss: 0.7245 - val_accuracy: 0.6300\n",
      "Epoch 9/300\n",
      "19/19 [==============================] - 0s 6ms/step - loss: 0.6938 - accuracy: 0.6350 - val_loss: 0.7135 - val_accuracy: 0.6300\n",
      "Epoch 10/300\n",
      "19/19 [==============================] - 0s 7ms/step - loss: 0.6868 - accuracy: 0.6317 - val_loss: 0.7026 - val_accuracy: 0.6400\n",
      "Epoch 11/300\n",
      "19/19 [==============================] - 0s 7ms/step - loss: 0.6748 - accuracy: 0.6433 - val_loss: 0.6923 - val_accuracy: 0.6400\n",
      "Epoch 12/300\n",
      "19/19 [==============================] - 0s 6ms/step - loss: 0.6718 - accuracy: 0.6433 - val_loss: 0.6756 - val_accuracy: 0.6500\n",
      "Epoch 13/300\n",
      "19/19 [==============================] - 0s 6ms/step - loss: 0.6569 - accuracy: 0.6617 - val_loss: 0.6758 - val_accuracy: 0.6400\n",
      "Epoch 14/300\n",
      "19/19 [==============================] - 0s 6ms/step - loss: 0.6507 - accuracy: 0.6583 - val_loss: 0.6667 - val_accuracy: 0.6400\n",
      "Epoch 15/300\n",
      "19/19 [==============================] - 0s 6ms/step - loss: 0.6473 - accuracy: 0.6550 - val_loss: 0.6639 - val_accuracy: 0.6400\n",
      "Epoch 16/300\n",
      "19/19 [==============================] - 0s 7ms/step - loss: 0.6419 - accuracy: 0.6650 - val_loss: 0.6469 - val_accuracy: 0.6500\n",
      "Epoch 17/300\n",
      "19/19 [==============================] - 0s 7ms/step - loss: 0.6355 - accuracy: 0.6583 - val_loss: 0.6392 - val_accuracy: 0.6500\n",
      "Epoch 18/300\n",
      "19/19 [==============================] - 0s 8ms/step - loss: 0.6324 - accuracy: 0.6683 - val_loss: 0.6343 - val_accuracy: 0.6500\n",
      "Epoch 19/300\n",
      "19/19 [==============================] - 0s 8ms/step - loss: 0.6318 - accuracy: 0.6583 - val_loss: 0.6307 - val_accuracy: 0.6500\n",
      "Epoch 20/300\n",
      "19/19 [==============================] - 0s 8ms/step - loss: 0.6283 - accuracy: 0.6750 - val_loss: 0.6277 - val_accuracy: 0.6600\n",
      "Epoch 21/300\n",
      "19/19 [==============================] - 0s 9ms/step - loss: 0.6262 - accuracy: 0.6700 - val_loss: 0.6370 - val_accuracy: 0.6700\n",
      "Epoch 22/300\n",
      "19/19 [==============================] - 0s 8ms/step - loss: 0.6204 - accuracy: 0.6800 - val_loss: 0.6374 - val_accuracy: 0.6500\n",
      "Epoch 23/300\n",
      "19/19 [==============================] - 0s 8ms/step - loss: 0.6203 - accuracy: 0.6800 - val_loss: 0.6241 - val_accuracy: 0.6700\n",
      "Epoch 24/300\n",
      "19/19 [==============================] - 0s 8ms/step - loss: 0.6231 - accuracy: 0.6583 - val_loss: 0.6307 - val_accuracy: 0.6700\n",
      "Epoch 25/300\n",
      "19/19 [==============================] - 0s 9ms/step - loss: 0.6129 - accuracy: 0.6750 - val_loss: 0.6308 - val_accuracy: 0.6700\n",
      "Epoch 26/300\n",
      "19/19 [==============================] - 0s 8ms/step - loss: 0.6176 - accuracy: 0.6700 - val_loss: 0.6201 - val_accuracy: 0.6500\n",
      "Epoch 27/300\n",
      "19/19 [==============================] - 0s 8ms/step - loss: 0.6096 - accuracy: 0.6717 - val_loss: 0.6196 - val_accuracy: 0.6600\n",
      "Epoch 28/300\n",
      "19/19 [==============================] - 0s 7ms/step - loss: 0.6079 - accuracy: 0.6750 - val_loss: 0.6149 - val_accuracy: 0.6900\n",
      "Epoch 29/300\n",
      "19/19 [==============================] - 0s 8ms/step - loss: 0.6075 - accuracy: 0.6817 - val_loss: 0.6240 - val_accuracy: 0.6800\n",
      "Epoch 30/300\n",
      "19/19 [==============================] - 0s 8ms/step - loss: 0.6035 - accuracy: 0.6733 - val_loss: 0.6448 - val_accuracy: 0.6900\n",
      "Epoch 31/300\n",
      "19/19 [==============================] - 0s 8ms/step - loss: 0.6079 - accuracy: 0.6750 - val_loss: 0.6164 - val_accuracy: 0.6700\n",
      "Epoch 32/300\n",
      "19/19 [==============================] - 0s 8ms/step - loss: 0.6053 - accuracy: 0.6833 - val_loss: 0.6308 - val_accuracy: 0.7000\n",
      "Epoch 33/300\n",
      "19/19 [==============================] - 0s 7ms/step - loss: 0.6016 - accuracy: 0.6767 - val_loss: 0.6201 - val_accuracy: 0.6900\n",
      "Epoch 34/300\n",
      "19/19 [==============================] - 0s 7ms/step - loss: 0.5980 - accuracy: 0.6850 - val_loss: 0.6105 - val_accuracy: 0.7100\n",
      "Epoch 35/300\n",
      "19/19 [==============================] - 0s 8ms/step - loss: 0.5998 - accuracy: 0.6917 - val_loss: 0.6350 - val_accuracy: 0.7200\n",
      "Epoch 36/300\n",
      "19/19 [==============================] - 0s 9ms/step - loss: 0.5963 - accuracy: 0.7183 - val_loss: 0.6206 - val_accuracy: 0.7100\n",
      "Epoch 37/300\n",
      "19/19 [==============================] - 0s 10ms/step - loss: 0.5959 - accuracy: 0.7100 - val_loss: 0.6219 - val_accuracy: 0.7000\n",
      "Epoch 38/300\n",
      "19/19 [==============================] - 0s 9ms/step - loss: 0.5940 - accuracy: 0.6967 - val_loss: 0.6294 - val_accuracy: 0.7000\n",
      "Epoch 39/300\n",
      "19/19 [==============================] - 0s 10ms/step - loss: 0.5920 - accuracy: 0.7067 - val_loss: 0.6358 - val_accuracy: 0.7100\n",
      "Epoch 40/300\n",
      "19/19 [==============================] - 0s 9ms/step - loss: 0.5952 - accuracy: 0.7083 - val_loss: 0.6112 - val_accuracy: 0.7200\n",
      "Epoch 41/300\n",
      "19/19 [==============================] - 0s 10ms/step - loss: 0.5928 - accuracy: 0.6967 - val_loss: 0.6229 - val_accuracy: 0.7500\n",
      "Epoch 42/300\n",
      "19/19 [==============================] - 0s 10ms/step - loss: 0.5922 - accuracy: 0.7117 - val_loss: 0.6097 - val_accuracy: 0.7300\n",
      "Epoch 43/300\n",
      "19/19 [==============================] - 0s 8ms/step - loss: 0.5897 - accuracy: 0.7000 - val_loss: 0.6161 - val_accuracy: 0.7200\n",
      "Epoch 44/300\n",
      "19/19 [==============================] - 0s 9ms/step - loss: 0.5878 - accuracy: 0.7133 - val_loss: 0.6245 - val_accuracy: 0.7300\n",
      "Epoch 45/300\n",
      "19/19 [==============================] - 0s 10ms/step - loss: 0.5896 - accuracy: 0.7133 - val_loss: 0.6136 - val_accuracy: 0.7400\n",
      "Epoch 46/300\n",
      "19/19 [==============================] - 0s 9ms/step - loss: 0.5856 - accuracy: 0.7100 - val_loss: 0.6110 - val_accuracy: 0.7200\n",
      "Epoch 47/300\n",
      "19/19 [==============================] - 0s 9ms/step - loss: 0.5847 - accuracy: 0.7117 - val_loss: 0.6155 - val_accuracy: 0.7400\n",
      "Epoch 48/300\n",
      "19/19 [==============================] - 0s 9ms/step - loss: 0.5840 - accuracy: 0.7183 - val_loss: 0.6154 - val_accuracy: 0.7300\n",
      "Epoch 49/300\n",
      "19/19 [==============================] - 0s 9ms/step - loss: 0.5860 - accuracy: 0.7117 - val_loss: 0.6041 - val_accuracy: 0.7300\n",
      "Epoch 50/300\n",
      "19/19 [==============================] - 0s 9ms/step - loss: 0.5852 - accuracy: 0.7200 - val_loss: 0.6102 - val_accuracy: 0.7100\n",
      "Epoch 51/300\n",
      "19/19 [==============================] - 0s 8ms/step - loss: 0.5775 - accuracy: 0.7167 - val_loss: 0.6143 - val_accuracy: 0.7200\n",
      "Epoch 52/300\n",
      "19/19 [==============================] - 0s 8ms/step - loss: 0.5864 - accuracy: 0.7267 - val_loss: 0.6301 - val_accuracy: 0.7300\n",
      "Epoch 53/300\n",
      "19/19 [==============================] - 0s 9ms/step - loss: 0.5866 - accuracy: 0.7133 - val_loss: 0.6046 - val_accuracy: 0.7400\n",
      "Epoch 54/300\n",
      "19/19 [==============================] - 0s 9ms/step - loss: 0.5792 - accuracy: 0.7200 - val_loss: 0.6101 - val_accuracy: 0.7200\n",
      "Epoch 55/300\n",
      "19/19 [==============================] - 0s 9ms/step - loss: 0.5803 - accuracy: 0.7167 - val_loss: 0.6058 - val_accuracy: 0.7500\n",
      "Epoch 56/300\n",
      "19/19 [==============================] - 0s 9ms/step - loss: 0.5748 - accuracy: 0.7250 - val_loss: 0.6063 - val_accuracy: 0.7400\n",
      "Epoch 57/300\n",
      "19/19 [==============================] - 0s 9ms/step - loss: 0.5822 - accuracy: 0.7317 - val_loss: 0.6025 - val_accuracy: 0.7500\n",
      "Epoch 58/300\n",
      "19/19 [==============================] - 0s 9ms/step - loss: 0.5746 - accuracy: 0.7267 - val_loss: 0.6056 - val_accuracy: 0.7500\n"
     ]
    },
    {
     "name": "stdout",
     "output_type": "stream",
     "text": [
      "Epoch 59/300\n",
      "19/19 [==============================] - 0s 9ms/step - loss: 0.5756 - accuracy: 0.7267 - val_loss: 0.6050 - val_accuracy: 0.7200\n",
      "Epoch 60/300\n",
      "19/19 [==============================] - 0s 8ms/step - loss: 0.5767 - accuracy: 0.7133 - val_loss: 0.6035 - val_accuracy: 0.7500\n",
      "Epoch 61/300\n",
      "19/19 [==============================] - 0s 8ms/step - loss: 0.5821 - accuracy: 0.7167 - val_loss: 0.6010 - val_accuracy: 0.7700\n",
      "Epoch 62/300\n",
      "19/19 [==============================] - 0s 8ms/step - loss: 0.5769 - accuracy: 0.7317 - val_loss: 0.6032 - val_accuracy: 0.7300\n",
      "Epoch 63/300\n",
      "19/19 [==============================] - 0s 8ms/step - loss: 0.5743 - accuracy: 0.7267 - val_loss: 0.5962 - val_accuracy: 0.7300\n",
      "Epoch 64/300\n",
      "19/19 [==============================] - 0s 8ms/step - loss: 0.5732 - accuracy: 0.7267 - val_loss: 0.5961 - val_accuracy: 0.7600\n",
      "Epoch 65/300\n",
      "19/19 [==============================] - 0s 9ms/step - loss: 0.5721 - accuracy: 0.7300 - val_loss: 0.6116 - val_accuracy: 0.7600\n",
      "Epoch 66/300\n",
      "19/19 [==============================] - 0s 8ms/step - loss: 0.5728 - accuracy: 0.7267 - val_loss: 0.5919 - val_accuracy: 0.7400\n",
      "Epoch 67/300\n",
      "19/19 [==============================] - 0s 8ms/step - loss: 0.5736 - accuracy: 0.7283 - val_loss: 0.6036 - val_accuracy: 0.7500\n",
      "Epoch 68/300\n",
      "19/19 [==============================] - 0s 8ms/step - loss: 0.5723 - accuracy: 0.7267 - val_loss: 0.5924 - val_accuracy: 0.7600\n",
      "Epoch 69/300\n",
      "19/19 [==============================] - 0s 8ms/step - loss: 0.5736 - accuracy: 0.7267 - val_loss: 0.5906 - val_accuracy: 0.7700\n",
      "Epoch 70/300\n",
      "19/19 [==============================] - 0s 9ms/step - loss: 0.5668 - accuracy: 0.7433 - val_loss: 0.6074 - val_accuracy: 0.7400\n",
      "Epoch 71/300\n",
      "19/19 [==============================] - 0s 8ms/step - loss: 0.5685 - accuracy: 0.7217 - val_loss: 0.5916 - val_accuracy: 0.7700\n",
      "Epoch 72/300\n",
      "19/19 [==============================] - 0s 7ms/step - loss: 0.5723 - accuracy: 0.7183 - val_loss: 0.5888 - val_accuracy: 0.7500\n",
      "Epoch 73/300\n",
      "19/19 [==============================] - 0s 8ms/step - loss: 0.5655 - accuracy: 0.7350 - val_loss: 0.5921 - val_accuracy: 0.7200\n",
      "Epoch 74/300\n",
      "19/19 [==============================] - 0s 8ms/step - loss: 0.5605 - accuracy: 0.7483 - val_loss: 0.6114 - val_accuracy: 0.7400\n",
      "Epoch 75/300\n",
      "19/19 [==============================] - 0s 8ms/step - loss: 0.5684 - accuracy: 0.7233 - val_loss: 0.5871 - val_accuracy: 0.7700\n",
      "Epoch 76/300\n",
      "19/19 [==============================] - 0s 8ms/step - loss: 0.5613 - accuracy: 0.7217 - val_loss: 0.5918 - val_accuracy: 0.7500\n",
      "Epoch 77/300\n",
      "19/19 [==============================] - 0s 9ms/step - loss: 0.5663 - accuracy: 0.7333 - val_loss: 0.5859 - val_accuracy: 0.7600\n",
      "Epoch 78/300\n",
      "19/19 [==============================] - 0s 8ms/step - loss: 0.5629 - accuracy: 0.7433 - val_loss: 0.5887 - val_accuracy: 0.7500\n",
      "Epoch 79/300\n",
      "19/19 [==============================] - 0s 8ms/step - loss: 0.5625 - accuracy: 0.7433 - val_loss: 0.5852 - val_accuracy: 0.7600\n",
      "Epoch 80/300\n",
      "19/19 [==============================] - 0s 8ms/step - loss: 0.5609 - accuracy: 0.7367 - val_loss: 0.5876 - val_accuracy: 0.7500\n",
      "Epoch 81/300\n",
      "19/19 [==============================] - 0s 8ms/step - loss: 0.5632 - accuracy: 0.7400 - val_loss: 0.6026 - val_accuracy: 0.7800\n",
      "Epoch 82/300\n",
      "19/19 [==============================] - 0s 8ms/step - loss: 0.5659 - accuracy: 0.7300 - val_loss: 0.5897 - val_accuracy: 0.7500\n",
      "Epoch 83/300\n",
      "19/19 [==============================] - 0s 8ms/step - loss: 0.5606 - accuracy: 0.7350 - val_loss: 0.5851 - val_accuracy: 0.7500\n",
      "Epoch 84/300\n",
      "19/19 [==============================] - 0s 9ms/step - loss: 0.5608 - accuracy: 0.7283 - val_loss: 0.5835 - val_accuracy: 0.7600\n",
      "Epoch 85/300\n",
      "19/19 [==============================] - 0s 8ms/step - loss: 0.5614 - accuracy: 0.7367 - val_loss: 0.5860 - val_accuracy: 0.7500\n",
      "Epoch 86/300\n",
      "19/19 [==============================] - 0s 8ms/step - loss: 0.5637 - accuracy: 0.7233 - val_loss: 0.5942 - val_accuracy: 0.7500\n",
      "Epoch 87/300\n",
      "19/19 [==============================] - 0s 8ms/step - loss: 0.5571 - accuracy: 0.7467 - val_loss: 0.5824 - val_accuracy: 0.7800\n",
      "Epoch 88/300\n",
      "19/19 [==============================] - 0s 8ms/step - loss: 0.5548 - accuracy: 0.7333 - val_loss: 0.6232 - val_accuracy: 0.7700\n",
      "Epoch 89/300\n",
      "19/19 [==============================] - 0s 9ms/step - loss: 0.5580 - accuracy: 0.7450 - val_loss: 0.5834 - val_accuracy: 0.7300\n",
      "Epoch 90/300\n",
      "19/19 [==============================] - 0s 9ms/step - loss: 0.5568 - accuracy: 0.7467 - val_loss: 0.5801 - val_accuracy: 0.7800\n",
      "Epoch 91/300\n",
      "19/19 [==============================] - 0s 9ms/step - loss: 0.5570 - accuracy: 0.7267 - val_loss: 0.5785 - val_accuracy: 0.7900\n",
      "Epoch 92/300\n",
      "19/19 [==============================] - 0s 8ms/step - loss: 0.5555 - accuracy: 0.7367 - val_loss: 0.5869 - val_accuracy: 0.7700\n",
      "Epoch 93/300\n",
      "19/19 [==============================] - 0s 8ms/step - loss: 0.5574 - accuracy: 0.7483 - val_loss: 0.5743 - val_accuracy: 0.7600\n",
      "Epoch 94/300\n",
      "19/19 [==============================] - 0s 8ms/step - loss: 0.5529 - accuracy: 0.7533 - val_loss: 0.5747 - val_accuracy: 0.7600\n",
      "Epoch 95/300\n",
      "19/19 [==============================] - 0s 8ms/step - loss: 0.5516 - accuracy: 0.7383 - val_loss: 0.5774 - val_accuracy: 0.7600\n",
      "Epoch 96/300\n",
      "19/19 [==============================] - 0s 8ms/step - loss: 0.5511 - accuracy: 0.7483 - val_loss: 0.5873 - val_accuracy: 0.7800\n",
      "Epoch 97/300\n",
      "19/19 [==============================] - 0s 8ms/step - loss: 0.5506 - accuracy: 0.7433 - val_loss: 0.5828 - val_accuracy: 0.7700\n",
      "Epoch 98/300\n",
      "19/19 [==============================] - 0s 9ms/step - loss: 0.5525 - accuracy: 0.7383 - val_loss: 0.5805 - val_accuracy: 0.7600\n",
      "Epoch 99/300\n",
      "19/19 [==============================] - 0s 8ms/step - loss: 0.5517 - accuracy: 0.7367 - val_loss: 0.5852 - val_accuracy: 0.7800\n",
      "Epoch 100/300\n",
      "19/19 [==============================] - 0s 9ms/step - loss: 0.5543 - accuracy: 0.7467 - val_loss: 0.5781 - val_accuracy: 0.7700\n",
      "Epoch 101/300\n",
      "19/19 [==============================] - 0s 9ms/step - loss: 0.5507 - accuracy: 0.7400 - val_loss: 0.5791 - val_accuracy: 0.7700\n",
      "Epoch 102/300\n",
      "19/19 [==============================] - 0s 8ms/step - loss: 0.5529 - accuracy: 0.7400 - val_loss: 0.5780 - val_accuracy: 0.7600\n",
      "Epoch 103/300\n",
      "19/19 [==============================] - 0s 9ms/step - loss: 0.5553 - accuracy: 0.7367 - val_loss: 0.5762 - val_accuracy: 0.7800\n",
      "Epoch 104/300\n",
      "19/19 [==============================] - 0s 9ms/step - loss: 0.5456 - accuracy: 0.7467 - val_loss: 0.5936 - val_accuracy: 0.7900\n",
      "Epoch 105/300\n",
      "19/19 [==============================] - 0s 8ms/step - loss: 0.5452 - accuracy: 0.7367 - val_loss: 0.5872 - val_accuracy: 0.7500\n",
      "Epoch 106/300\n",
      "19/19 [==============================] - 0s 8ms/step - loss: 0.5492 - accuracy: 0.7400 - val_loss: 0.5764 - val_accuracy: 0.7500\n",
      "Epoch 107/300\n",
      "19/19 [==============================] - 0s 8ms/step - loss: 0.5546 - accuracy: 0.7333 - val_loss: 0.5715 - val_accuracy: 0.7700\n",
      "Epoch 108/300\n",
      "19/19 [==============================] - 0s 8ms/step - loss: 0.5472 - accuracy: 0.7450 - val_loss: 0.5642 - val_accuracy: 0.8000\n",
      "Epoch 109/300\n",
      "19/19 [==============================] - 0s 8ms/step - loss: 0.5485 - accuracy: 0.7333 - val_loss: 0.5664 - val_accuracy: 0.7700\n",
      "Epoch 110/300\n",
      "19/19 [==============================] - 0s 8ms/step - loss: 0.5452 - accuracy: 0.7333 - val_loss: 0.5769 - val_accuracy: 0.7800\n",
      "Epoch 111/300\n",
      "19/19 [==============================] - 0s 9ms/step - loss: 0.5432 - accuracy: 0.7383 - val_loss: 0.5742 - val_accuracy: 0.7600\n",
      "Epoch 112/300\n",
      "19/19 [==============================] - 0s 10ms/step - loss: 0.5474 - accuracy: 0.7400 - val_loss: 0.5882 - val_accuracy: 0.7800\n",
      "Epoch 113/300\n",
      "19/19 [==============================] - 0s 8ms/step - loss: 0.5450 - accuracy: 0.7433 - val_loss: 0.5679 - val_accuracy: 0.7400\n",
      "Epoch 114/300\n",
      "19/19 [==============================] - 0s 8ms/step - loss: 0.5415 - accuracy: 0.7583 - val_loss: 0.5635 - val_accuracy: 0.7800\n",
      "Epoch 115/300\n",
      "19/19 [==============================] - 0s 8ms/step - loss: 0.5409 - accuracy: 0.7350 - val_loss: 0.5814 - val_accuracy: 0.7800\n",
      "Epoch 116/300\n"
     ]
    },
    {
     "name": "stdout",
     "output_type": "stream",
     "text": [
      "19/19 [==============================] - 0s 8ms/step - loss: 0.5421 - accuracy: 0.7283 - val_loss: 0.5629 - val_accuracy: 0.7700\n",
      "Epoch 117/300\n",
      "19/19 [==============================] - 0s 8ms/step - loss: 0.5434 - accuracy: 0.7417 - val_loss: 0.5626 - val_accuracy: 0.8000\n",
      "Epoch 118/300\n",
      "19/19 [==============================] - 0s 8ms/step - loss: 0.5432 - accuracy: 0.7383 - val_loss: 0.5606 - val_accuracy: 0.8000\n",
      "Epoch 119/300\n",
      "19/19 [==============================] - 0s 8ms/step - loss: 0.5397 - accuracy: 0.7467 - val_loss: 0.5616 - val_accuracy: 0.7800\n",
      "Epoch 120/300\n",
      "19/19 [==============================] - 0s 8ms/step - loss: 0.5422 - accuracy: 0.7500 - val_loss: 0.5566 - val_accuracy: 0.7900\n",
      "Epoch 121/300\n",
      "19/19 [==============================] - 0s 8ms/step - loss: 0.5370 - accuracy: 0.7450 - val_loss: 0.5556 - val_accuracy: 0.8100\n",
      "Epoch 122/300\n",
      "19/19 [==============================] - 0s 9ms/step - loss: 0.5422 - accuracy: 0.7417 - val_loss: 0.5544 - val_accuracy: 0.8100\n",
      "Epoch 123/300\n",
      "19/19 [==============================] - 0s 6ms/step - loss: 0.5413 - accuracy: 0.7417 - val_loss: 0.5687 - val_accuracy: 0.7800\n",
      "Epoch 124/300\n",
      "19/19 [==============================] - 0s 7ms/step - loss: 0.5387 - accuracy: 0.7417 - val_loss: 0.5543 - val_accuracy: 0.7700\n",
      "Epoch 125/300\n",
      "19/19 [==============================] - 0s 6ms/step - loss: 0.5360 - accuracy: 0.7517 - val_loss: 0.5545 - val_accuracy: 0.7900\n",
      "Epoch 126/300\n",
      "19/19 [==============================] - 0s 6ms/step - loss: 0.5381 - accuracy: 0.7483 - val_loss: 0.5569 - val_accuracy: 0.7500\n",
      "Epoch 127/300\n",
      "19/19 [==============================] - 0s 6ms/step - loss: 0.5377 - accuracy: 0.7333 - val_loss: 0.5574 - val_accuracy: 0.7900\n",
      "Epoch 128/300\n",
      "19/19 [==============================] - 0s 7ms/step - loss: 0.5351 - accuracy: 0.7550 - val_loss: 0.5573 - val_accuracy: 0.8300\n",
      "Epoch 129/300\n",
      "19/19 [==============================] - 0s 6ms/step - loss: 0.5357 - accuracy: 0.7433 - val_loss: 0.5550 - val_accuracy: 0.7800\n",
      "Epoch 130/300\n",
      "19/19 [==============================] - 0s 8ms/step - loss: 0.5349 - accuracy: 0.7433 - val_loss: 0.5627 - val_accuracy: 0.7900\n",
      "Epoch 131/300\n",
      "19/19 [==============================] - 0s 7ms/step - loss: 0.5330 - accuracy: 0.7500 - val_loss: 0.5473 - val_accuracy: 0.8100\n",
      "Epoch 132/300\n",
      "19/19 [==============================] - 0s 6ms/step - loss: 0.5377 - accuracy: 0.7450 - val_loss: 0.5545 - val_accuracy: 0.7900\n",
      "Epoch 133/300\n",
      "19/19 [==============================] - 0s 6ms/step - loss: 0.5348 - accuracy: 0.7467 - val_loss: 0.5612 - val_accuracy: 0.8200\n",
      "Epoch 134/300\n",
      "19/19 [==============================] - 0s 6ms/step - loss: 0.5396 - accuracy: 0.7383 - val_loss: 0.5643 - val_accuracy: 0.8100\n",
      "Epoch 135/300\n",
      "19/19 [==============================] - 0s 7ms/step - loss: 0.5335 - accuracy: 0.7317 - val_loss: 0.5509 - val_accuracy: 0.7900\n",
      "Epoch 136/300\n",
      "19/19 [==============================] - 0s 7ms/step - loss: 0.5355 - accuracy: 0.7483 - val_loss: 0.5685 - val_accuracy: 0.8200\n",
      "Epoch 137/300\n",
      "19/19 [==============================] - 0s 6ms/step - loss: 0.5333 - accuracy: 0.7567 - val_loss: 0.5692 - val_accuracy: 0.8200\n",
      "Epoch 138/300\n",
      "19/19 [==============================] - 0s 6ms/step - loss: 0.5377 - accuracy: 0.7317 - val_loss: 0.5604 - val_accuracy: 0.8200\n",
      "Epoch 139/300\n",
      "19/19 [==============================] - 0s 6ms/step - loss: 0.5351 - accuracy: 0.7500 - val_loss: 0.5725 - val_accuracy: 0.7700\n",
      "Epoch 140/300\n",
      "19/19 [==============================] - 0s 6ms/step - loss: 0.5347 - accuracy: 0.7300 - val_loss: 0.5492 - val_accuracy: 0.8000\n",
      "Epoch 141/300\n",
      "19/19 [==============================] - 0s 6ms/step - loss: 0.5278 - accuracy: 0.7433 - val_loss: 0.5500 - val_accuracy: 0.7900\n",
      "Epoch 142/300\n",
      "19/19 [==============================] - 0s 10ms/step - loss: 0.5285 - accuracy: 0.7517 - val_loss: 0.5598 - val_accuracy: 0.8100\n",
      "Epoch 143/300\n",
      "19/19 [==============================] - 0s 6ms/step - loss: 0.5214 - accuracy: 0.7550 - val_loss: 0.5410 - val_accuracy: 0.7900\n",
      "Epoch 144/300\n",
      "19/19 [==============================] - 0s 6ms/step - loss: 0.5279 - accuracy: 0.7483 - val_loss: 0.5491 - val_accuracy: 0.8200\n",
      "Epoch 145/300\n",
      "19/19 [==============================] - 0s 6ms/step - loss: 0.5249 - accuracy: 0.7417 - val_loss: 0.5361 - val_accuracy: 0.8000\n",
      "Epoch 146/300\n",
      "19/19 [==============================] - 0s 7ms/step - loss: 0.5229 - accuracy: 0.7483 - val_loss: 0.5322 - val_accuracy: 0.8100\n",
      "Epoch 147/300\n",
      "19/19 [==============================] - 0s 7ms/step - loss: 0.5268 - accuracy: 0.7450 - val_loss: 0.5365 - val_accuracy: 0.8100\n",
      "Epoch 148/300\n",
      "19/19 [==============================] - 0s 8ms/step - loss: 0.5180 - accuracy: 0.7517 - val_loss: 0.5544 - val_accuracy: 0.7800\n",
      "Epoch 149/300\n",
      "19/19 [==============================] - 0s 7ms/step - loss: 0.5254 - accuracy: 0.7383 - val_loss: 0.5400 - val_accuracy: 0.7900\n",
      "Epoch 150/300\n",
      "19/19 [==============================] - 0s 6ms/step - loss: 0.5251 - accuracy: 0.7533 - val_loss: 0.5490 - val_accuracy: 0.8300\n",
      "Epoch 151/300\n",
      "19/19 [==============================] - 0s 7ms/step - loss: 0.5217 - accuracy: 0.7583 - val_loss: 0.5534 - val_accuracy: 0.8100\n",
      "Epoch 152/300\n",
      "19/19 [==============================] - 0s 7ms/step - loss: 0.5209 - accuracy: 0.7617 - val_loss: 0.5469 - val_accuracy: 0.8200\n",
      "Epoch 153/300\n",
      "19/19 [==============================] - 0s 6ms/step - loss: 0.5163 - accuracy: 0.7450 - val_loss: 0.5290 - val_accuracy: 0.8000\n",
      "Epoch 154/300\n",
      "19/19 [==============================] - 0s 7ms/step - loss: 0.5163 - accuracy: 0.7483 - val_loss: 0.5310 - val_accuracy: 0.7800\n",
      "Epoch 155/300\n",
      "19/19 [==============================] - 0s 7ms/step - loss: 0.5155 - accuracy: 0.7467 - val_loss: 0.5293 - val_accuracy: 0.8000\n",
      "Epoch 156/300\n",
      "19/19 [==============================] - 0s 7ms/step - loss: 0.5158 - accuracy: 0.7517 - val_loss: 0.5317 - val_accuracy: 0.8000\n",
      "Epoch 157/300\n",
      "19/19 [==============================] - 0s 7ms/step - loss: 0.5179 - accuracy: 0.7567 - val_loss: 0.5333 - val_accuracy: 0.8000\n",
      "Epoch 158/300\n",
      "19/19 [==============================] - 0s 7ms/step - loss: 0.5149 - accuracy: 0.7533 - val_loss: 0.5355 - val_accuracy: 0.7800\n",
      "Epoch 159/300\n",
      "19/19 [==============================] - 0s 7ms/step - loss: 0.5186 - accuracy: 0.7450 - val_loss: 0.5425 - val_accuracy: 0.8200\n",
      "Epoch 160/300\n",
      "19/19 [==============================] - 0s 7ms/step - loss: 0.5133 - accuracy: 0.7483 - val_loss: 0.5285 - val_accuracy: 0.7800\n",
      "Epoch 161/300\n",
      "19/19 [==============================] - 0s 7ms/step - loss: 0.5157 - accuracy: 0.7533 - val_loss: 0.5254 - val_accuracy: 0.7800\n",
      "Epoch 162/300\n",
      "19/19 [==============================] - 0s 7ms/step - loss: 0.5141 - accuracy: 0.7333 - val_loss: 0.5387 - val_accuracy: 0.8000\n",
      "Epoch 163/300\n",
      "19/19 [==============================] - 0s 7ms/step - loss: 0.5119 - accuracy: 0.7617 - val_loss: 0.5262 - val_accuracy: 0.7900\n",
      "Epoch 164/300\n",
      "19/19 [==============================] - 0s 7ms/step - loss: 0.5110 - accuracy: 0.7483 - val_loss: 0.5263 - val_accuracy: 0.8300\n",
      "Epoch 165/300\n",
      "19/19 [==============================] - 0s 7ms/step - loss: 0.5160 - accuracy: 0.7600 - val_loss: 0.5538 - val_accuracy: 0.7900\n",
      "Epoch 166/300\n",
      "19/19 [==============================] - 0s 7ms/step - loss: 0.5112 - accuracy: 0.7650 - val_loss: 0.5212 - val_accuracy: 0.8000\n",
      "Epoch 167/300\n",
      "19/19 [==============================] - 0s 7ms/step - loss: 0.5144 - accuracy: 0.7417 - val_loss: 0.5249 - val_accuracy: 0.8200\n",
      "Epoch 168/300\n",
      "19/19 [==============================] - 0s 8ms/step - loss: 0.5107 - accuracy: 0.7500 - val_loss: 0.5383 - val_accuracy: 0.7700\n",
      "Epoch 169/300\n",
      "19/19 [==============================] - 0s 8ms/step - loss: 0.5125 - accuracy: 0.7567 - val_loss: 0.5221 - val_accuracy: 0.8100\n",
      "Epoch 170/300\n",
      "19/19 [==============================] - 0s 8ms/step - loss: 0.5124 - accuracy: 0.7500 - val_loss: 0.5235 - val_accuracy: 0.8000\n",
      "Epoch 171/300\n",
      "19/19 [==============================] - 0s 8ms/step - loss: 0.5082 - accuracy: 0.7583 - val_loss: 0.5176 - val_accuracy: 0.7900\n",
      "Epoch 172/300\n",
      "19/19 [==============================] - 0s 7ms/step - loss: 0.5095 - accuracy: 0.7550 - val_loss: 0.5390 - val_accuracy: 0.8100\n",
      "Epoch 173/300\n"
     ]
    },
    {
     "name": "stdout",
     "output_type": "stream",
     "text": [
      "19/19 [==============================] - 0s 8ms/step - loss: 0.5123 - accuracy: 0.7600 - val_loss: 0.5237 - val_accuracy: 0.8000\n",
      "Epoch 174/300\n",
      "19/19 [==============================] - 0s 10ms/step - loss: 0.5058 - accuracy: 0.7600 - val_loss: 0.5563 - val_accuracy: 0.7900\n",
      "Epoch 175/300\n",
      "19/19 [==============================] - 0s 7ms/step - loss: 0.5094 - accuracy: 0.7600 - val_loss: 0.5433 - val_accuracy: 0.8000\n",
      "Epoch 176/300\n",
      "19/19 [==============================] - 0s 7ms/step - loss: 0.5066 - accuracy: 0.7500 - val_loss: 0.5175 - val_accuracy: 0.8000\n",
      "Epoch 177/300\n",
      "19/19 [==============================] - 0s 7ms/step - loss: 0.5074 - accuracy: 0.7633 - val_loss: 0.5153 - val_accuracy: 0.8000\n",
      "Epoch 178/300\n",
      "19/19 [==============================] - 0s 6ms/step - loss: 0.5050 - accuracy: 0.7500 - val_loss: 0.5266 - val_accuracy: 0.7700\n",
      "Epoch 179/300\n",
      "19/19 [==============================] - 0s 7ms/step - loss: 0.5083 - accuracy: 0.7500 - val_loss: 0.5228 - val_accuracy: 0.7900\n",
      "Epoch 180/300\n",
      "19/19 [==============================] - 0s 8ms/step - loss: 0.5036 - accuracy: 0.7567 - val_loss: 0.5230 - val_accuracy: 0.7900\n",
      "Epoch 181/300\n",
      "19/19 [==============================] - 0s 8ms/step - loss: 0.5053 - accuracy: 0.7567 - val_loss: 0.5522 - val_accuracy: 0.7900\n",
      "Epoch 182/300\n",
      "19/19 [==============================] - 0s 8ms/step - loss: 0.5086 - accuracy: 0.7517 - val_loss: 0.5184 - val_accuracy: 0.8000\n",
      "Epoch 183/300\n",
      "19/19 [==============================] - 0s 8ms/step - loss: 0.5070 - accuracy: 0.7517 - val_loss: 0.5229 - val_accuracy: 0.8000\n",
      "Epoch 184/300\n",
      "19/19 [==============================] - 0s 9ms/step - loss: 0.5057 - accuracy: 0.7533 - val_loss: 0.5265 - val_accuracy: 0.7600\n",
      "Epoch 185/300\n",
      "19/19 [==============================] - 0s 8ms/step - loss: 0.5055 - accuracy: 0.7533 - val_loss: 0.5221 - val_accuracy: 0.8100\n",
      "Epoch 186/300\n",
      "19/19 [==============================] - 0s 8ms/step - loss: 0.5042 - accuracy: 0.7517 - val_loss: 0.5251 - val_accuracy: 0.8200\n",
      "Epoch 187/300\n",
      "19/19 [==============================] - 0s 8ms/step - loss: 0.5011 - accuracy: 0.7550 - val_loss: 0.5109 - val_accuracy: 0.8000\n",
      "Epoch 188/300\n",
      "19/19 [==============================] - 0s 8ms/step - loss: 0.5006 - accuracy: 0.7567 - val_loss: 0.5427 - val_accuracy: 0.8000\n",
      "Epoch 189/300\n",
      "19/19 [==============================] - 0s 8ms/step - loss: 0.5015 - accuracy: 0.7567 - val_loss: 0.5180 - val_accuracy: 0.8100\n",
      "Epoch 190/300\n",
      "19/19 [==============================] - 0s 8ms/step - loss: 0.5003 - accuracy: 0.7567 - val_loss: 0.5288 - val_accuracy: 0.7600\n",
      "Epoch 191/300\n",
      "19/19 [==============================] - 0s 8ms/step - loss: 0.5028 - accuracy: 0.7550 - val_loss: 0.5197 - val_accuracy: 0.8000\n",
      "Epoch 192/300\n",
      "19/19 [==============================] - 0s 8ms/step - loss: 0.5078 - accuracy: 0.7483 - val_loss: 0.5083 - val_accuracy: 0.8100\n",
      "Epoch 193/300\n",
      "19/19 [==============================] - 0s 8ms/step - loss: 0.5000 - accuracy: 0.7583 - val_loss: 0.5045 - val_accuracy: 0.8100\n",
      "Epoch 194/300\n",
      "19/19 [==============================] - 0s 8ms/step - loss: 0.4977 - accuracy: 0.7633 - val_loss: 0.5082 - val_accuracy: 0.8000\n",
      "Epoch 195/300\n",
      "19/19 [==============================] - 0s 8ms/step - loss: 0.5013 - accuracy: 0.7700 - val_loss: 0.5245 - val_accuracy: 0.8300\n",
      "Epoch 196/300\n",
      "19/19 [==============================] - 0s 8ms/step - loss: 0.5025 - accuracy: 0.7433 - val_loss: 0.5262 - val_accuracy: 0.8200\n",
      "Epoch 197/300\n",
      "19/19 [==============================] - 0s 8ms/step - loss: 0.4974 - accuracy: 0.7533 - val_loss: 0.5395 - val_accuracy: 0.8100\n",
      "Epoch 198/300\n",
      "19/19 [==============================] - 0s 9ms/step - loss: 0.5003 - accuracy: 0.7450 - val_loss: 0.5649 - val_accuracy: 0.8000\n",
      "Epoch 199/300\n",
      "19/19 [==============================] - 0s 8ms/step - loss: 0.5007 - accuracy: 0.7433 - val_loss: 0.5078 - val_accuracy: 0.8200\n",
      "Epoch 200/300\n",
      "19/19 [==============================] - 0s 8ms/step - loss: 0.4983 - accuracy: 0.7583 - val_loss: 0.5244 - val_accuracy: 0.8100\n",
      "Epoch 201/300\n",
      "19/19 [==============================] - 0s 9ms/step - loss: 0.4980 - accuracy: 0.7500 - val_loss: 0.5217 - val_accuracy: 0.8200\n",
      "Epoch 202/300\n",
      "19/19 [==============================] - 0s 9ms/step - loss: 0.4925 - accuracy: 0.7583 - val_loss: 0.5145 - val_accuracy: 0.8000\n",
      "Epoch 203/300\n",
      "19/19 [==============================] - 0s 8ms/step - loss: 0.5023 - accuracy: 0.7433 - val_loss: 0.5219 - val_accuracy: 0.8000\n",
      "Epoch 204/300\n",
      "19/19 [==============================] - 0s 8ms/step - loss: 0.4999 - accuracy: 0.7567 - val_loss: 0.5131 - val_accuracy: 0.8000\n",
      "Epoch 205/300\n",
      "19/19 [==============================] - 0s 9ms/step - loss: 0.4998 - accuracy: 0.7567 - val_loss: 0.5090 - val_accuracy: 0.7900\n",
      "Epoch 206/300\n",
      "19/19 [==============================] - 0s 8ms/step - loss: 0.5007 - accuracy: 0.7617 - val_loss: 0.5146 - val_accuracy: 0.8200\n",
      "Epoch 207/300\n",
      "19/19 [==============================] - 0s 8ms/step - loss: 0.4924 - accuracy: 0.7667 - val_loss: 0.5604 - val_accuracy: 0.8000\n",
      "Epoch 208/300\n",
      "19/19 [==============================] - 0s 8ms/step - loss: 0.5024 - accuracy: 0.7633 - val_loss: 0.5213 - val_accuracy: 0.8400\n",
      "Epoch 209/300\n",
      "19/19 [==============================] - 0s 8ms/step - loss: 0.4975 - accuracy: 0.7633 - val_loss: 0.5108 - val_accuracy: 0.8000\n",
      "Epoch 210/300\n",
      "19/19 [==============================] - 0s 8ms/step - loss: 0.4935 - accuracy: 0.7567 - val_loss: 0.5053 - val_accuracy: 0.8100\n",
      "Epoch 211/300\n",
      "19/19 [==============================] - 0s 9ms/step - loss: 0.4957 - accuracy: 0.7583 - val_loss: 0.5302 - val_accuracy: 0.8200\n",
      "Epoch 212/300\n",
      "19/19 [==============================] - 0s 9ms/step - loss: 0.4929 - accuracy: 0.7550 - val_loss: 0.5060 - val_accuracy: 0.8400\n",
      "Epoch 213/300\n",
      "19/19 [==============================] - 0s 8ms/step - loss: 0.4950 - accuracy: 0.7400 - val_loss: 0.5085 - val_accuracy: 0.8200\n",
      "Epoch 214/300\n",
      "19/19 [==============================] - 0s 8ms/step - loss: 0.4947 - accuracy: 0.7583 - val_loss: 0.5201 - val_accuracy: 0.8200\n",
      "Epoch 215/300\n",
      "19/19 [==============================] - 0s 8ms/step - loss: 0.4979 - accuracy: 0.7567 - val_loss: 0.5185 - val_accuracy: 0.8000\n",
      "Epoch 216/300\n",
      "19/19 [==============================] - 0s 8ms/step - loss: 0.4929 - accuracy: 0.7783 - val_loss: 0.5090 - val_accuracy: 0.8200\n",
      "Epoch 217/300\n",
      "19/19 [==============================] - 0s 8ms/step - loss: 0.4991 - accuracy: 0.7550 - val_loss: 0.5041 - val_accuracy: 0.8000\n",
      "Epoch 218/300\n",
      "19/19 [==============================] - 0s 9ms/step - loss: 0.4944 - accuracy: 0.7533 - val_loss: 0.5061 - val_accuracy: 0.8100\n",
      "Epoch 219/300\n",
      "19/19 [==============================] - 0s 9ms/step - loss: 0.4891 - accuracy: 0.7567 - val_loss: 0.5059 - val_accuracy: 0.8100\n",
      "Epoch 220/300\n",
      "19/19 [==============================] - 0s 8ms/step - loss: 0.4882 - accuracy: 0.7700 - val_loss: 0.5086 - val_accuracy: 0.8000\n",
      "Epoch 221/300\n",
      "19/19 [==============================] - 0s 9ms/step - loss: 0.4930 - accuracy: 0.7550 - val_loss: 0.5129 - val_accuracy: 0.8200\n",
      "Epoch 222/300\n",
      "19/19 [==============================] - 0s 9ms/step - loss: 0.4908 - accuracy: 0.7483 - val_loss: 0.5172 - val_accuracy: 0.8100\n",
      "Epoch 223/300\n",
      "19/19 [==============================] - 0s 9ms/step - loss: 0.4921 - accuracy: 0.7533 - val_loss: 0.5024 - val_accuracy: 0.8000\n",
      "Epoch 224/300\n",
      "19/19 [==============================] - 0s 8ms/step - loss: 0.4913 - accuracy: 0.7533 - val_loss: 0.5067 - val_accuracy: 0.8200\n",
      "Epoch 225/300\n",
      "19/19 [==============================] - 0s 8ms/step - loss: 0.4880 - accuracy: 0.7533 - val_loss: 0.5238 - val_accuracy: 0.8200\n",
      "Epoch 226/300\n",
      "19/19 [==============================] - 0s 8ms/step - loss: 0.4938 - accuracy: 0.7500 - val_loss: 0.5160 - val_accuracy: 0.8100\n",
      "Epoch 227/300\n",
      "19/19 [==============================] - 0s 8ms/step - loss: 0.4915 - accuracy: 0.7550 - val_loss: 0.5095 - val_accuracy: 0.7900\n",
      "Epoch 228/300\n",
      "19/19 [==============================] - 0s 8ms/step - loss: 0.4925 - accuracy: 0.7583 - val_loss: 0.5102 - val_accuracy: 0.8400\n",
      "Epoch 229/300\n",
      "19/19 [==============================] - 0s 8ms/step - loss: 0.4875 - accuracy: 0.7650 - val_loss: 0.4998 - val_accuracy: 0.8300\n",
      "Epoch 230/300\n"
     ]
    },
    {
     "name": "stdout",
     "output_type": "stream",
     "text": [
      "19/19 [==============================] - 0s 8ms/step - loss: 0.4882 - accuracy: 0.7617 - val_loss: 0.5085 - val_accuracy: 0.8300\n",
      "Epoch 231/300\n",
      "19/19 [==============================] - 0s 8ms/step - loss: 0.4890 - accuracy: 0.7600 - val_loss: 0.5084 - val_accuracy: 0.8100\n",
      "Epoch 232/300\n",
      "19/19 [==============================] - 0s 8ms/step - loss: 0.4931 - accuracy: 0.7533 - val_loss: 0.4971 - val_accuracy: 0.8000\n",
      "Epoch 233/300\n",
      "19/19 [==============================] - 0s 8ms/step - loss: 0.4928 - accuracy: 0.7533 - val_loss: 0.4966 - val_accuracy: 0.8100\n",
      "Epoch 234/300\n",
      "19/19 [==============================] - 0s 8ms/step - loss: 0.4906 - accuracy: 0.7567 - val_loss: 0.5057 - val_accuracy: 0.8100\n",
      "Epoch 235/300\n",
      "19/19 [==============================] - 0s 8ms/step - loss: 0.4872 - accuracy: 0.7650 - val_loss: 0.4953 - val_accuracy: 0.8300\n",
      "Epoch 236/300\n",
      "19/19 [==============================] - 0s 8ms/step - loss: 0.4932 - accuracy: 0.7617 - val_loss: 0.5078 - val_accuracy: 0.8300\n",
      "Epoch 237/300\n",
      "19/19 [==============================] - 0s 8ms/step - loss: 0.4871 - accuracy: 0.7567 - val_loss: 0.5008 - val_accuracy: 0.8200\n",
      "Epoch 238/300\n",
      "19/19 [==============================] - 0s 8ms/step - loss: 0.4855 - accuracy: 0.7683 - val_loss: 0.5161 - val_accuracy: 0.8300\n",
      "Epoch 239/300\n",
      "19/19 [==============================] - 0s 8ms/step - loss: 0.4894 - accuracy: 0.7567 - val_loss: 0.5141 - val_accuracy: 0.8200\n",
      "Epoch 240/300\n",
      "19/19 [==============================] - 0s 8ms/step - loss: 0.4882 - accuracy: 0.7600 - val_loss: 0.5197 - val_accuracy: 0.8100\n",
      "Epoch 241/300\n",
      "19/19 [==============================] - 0s 8ms/step - loss: 0.4934 - accuracy: 0.7533 - val_loss: 0.5047 - val_accuracy: 0.8100\n",
      "Epoch 242/300\n",
      "19/19 [==============================] - 0s 8ms/step - loss: 0.4912 - accuracy: 0.7583 - val_loss: 0.5177 - val_accuracy: 0.8300\n",
      "Epoch 243/300\n",
      "19/19 [==============================] - 0s 8ms/step - loss: 0.4874 - accuracy: 0.7617 - val_loss: 0.5075 - val_accuracy: 0.8200\n",
      "Epoch 244/300\n",
      "19/19 [==============================] - 0s 8ms/step - loss: 0.4860 - accuracy: 0.7633 - val_loss: 0.5026 - val_accuracy: 0.8000\n",
      "Epoch 245/300\n",
      "19/19 [==============================] - 0s 8ms/step - loss: 0.4876 - accuracy: 0.7550 - val_loss: 0.5169 - val_accuracy: 0.8000\n",
      "Epoch 246/300\n",
      "19/19 [==============================] - 0s 8ms/step - loss: 0.4880 - accuracy: 0.7583 - val_loss: 0.5068 - val_accuracy: 0.8100\n",
      "Epoch 247/300\n",
      "19/19 [==============================] - 0s 8ms/step - loss: 0.4853 - accuracy: 0.7650 - val_loss: 0.5227 - val_accuracy: 0.8300\n",
      "Epoch 248/300\n",
      "19/19 [==============================] - 0s 8ms/step - loss: 0.4856 - accuracy: 0.7550 - val_loss: 0.5008 - val_accuracy: 0.8200\n",
      "Epoch 249/300\n",
      "19/19 [==============================] - 0s 8ms/step - loss: 0.4907 - accuracy: 0.7550 - val_loss: 0.5093 - val_accuracy: 0.8200\n",
      "Epoch 250/300\n",
      "19/19 [==============================] - 0s 8ms/step - loss: 0.4881 - accuracy: 0.7683 - val_loss: 0.5002 - val_accuracy: 0.7900\n",
      "Epoch 251/300\n",
      "19/19 [==============================] - 0s 7ms/step - loss: 0.4868 - accuracy: 0.7617 - val_loss: 0.5123 - val_accuracy: 0.8200\n",
      "Epoch 252/300\n",
      "19/19 [==============================] - 0s 8ms/step - loss: 0.4861 - accuracy: 0.7683 - val_loss: 0.5138 - val_accuracy: 0.8100\n",
      "Epoch 253/300\n",
      "19/19 [==============================] - 0s 8ms/step - loss: 0.4888 - accuracy: 0.7600 - val_loss: 0.5253 - val_accuracy: 0.8100\n",
      "Epoch 254/300\n",
      "19/19 [==============================] - 0s 8ms/step - loss: 0.4896 - accuracy: 0.7583 - val_loss: 0.5299 - val_accuracy: 0.8300\n",
      "Epoch 255/300\n",
      "19/19 [==============================] - 0s 8ms/step - loss: 0.4886 - accuracy: 0.7467 - val_loss: 0.5146 - val_accuracy: 0.8100\n",
      "Epoch 256/300\n",
      "19/19 [==============================] - 0s 8ms/step - loss: 0.4838 - accuracy: 0.7650 - val_loss: 0.5026 - val_accuracy: 0.8200\n",
      "Epoch 257/300\n",
      "19/19 [==============================] - 0s 8ms/step - loss: 0.4854 - accuracy: 0.7467 - val_loss: 0.4955 - val_accuracy: 0.8300\n",
      "Epoch 258/300\n",
      "19/19 [==============================] - 0s 9ms/step - loss: 0.4863 - accuracy: 0.7650 - val_loss: 0.5294 - val_accuracy: 0.8300\n",
      "Epoch 259/300\n",
      "19/19 [==============================] - 0s 8ms/step - loss: 0.4882 - accuracy: 0.7567 - val_loss: 0.5072 - val_accuracy: 0.8300\n",
      "Epoch 260/300\n",
      "19/19 [==============================] - 0s 8ms/step - loss: 0.4864 - accuracy: 0.7533 - val_loss: 0.5046 - val_accuracy: 0.7900\n",
      "Epoch 261/300\n",
      "19/19 [==============================] - 0s 8ms/step - loss: 0.4822 - accuracy: 0.7700 - val_loss: 0.4948 - val_accuracy: 0.8200\n",
      "Epoch 262/300\n",
      "19/19 [==============================] - 0s 8ms/step - loss: 0.4855 - accuracy: 0.7617 - val_loss: 0.5153 - val_accuracy: 0.8100\n",
      "Epoch 263/300\n",
      "19/19 [==============================] - 0s 8ms/step - loss: 0.4830 - accuracy: 0.7550 - val_loss: 0.5014 - val_accuracy: 0.8100\n",
      "Epoch 264/300\n",
      "19/19 [==============================] - 0s 8ms/step - loss: 0.4852 - accuracy: 0.7667 - val_loss: 0.5026 - val_accuracy: 0.8200\n",
      "Epoch 265/300\n",
      "19/19 [==============================] - 0s 8ms/step - loss: 0.4875 - accuracy: 0.7567 - val_loss: 0.4994 - val_accuracy: 0.8300\n",
      "Epoch 266/300\n",
      "19/19 [==============================] - 0s 8ms/step - loss: 0.4847 - accuracy: 0.7583 - val_loss: 0.5015 - val_accuracy: 0.8100\n",
      "Epoch 267/300\n",
      "19/19 [==============================] - 0s 8ms/step - loss: 0.4843 - accuracy: 0.7700 - val_loss: 0.5025 - val_accuracy: 0.8300\n",
      "Epoch 268/300\n",
      "19/19 [==============================] - 0s 8ms/step - loss: 0.4814 - accuracy: 0.7667 - val_loss: 0.4987 - val_accuracy: 0.8300\n",
      "Epoch 269/300\n",
      "19/19 [==============================] - 0s 9ms/step - loss: 0.4823 - accuracy: 0.7533 - val_loss: 0.5037 - val_accuracy: 0.8200\n",
      "Epoch 270/300\n",
      "19/19 [==============================] - 0s 8ms/step - loss: 0.4850 - accuracy: 0.7567 - val_loss: 0.5032 - val_accuracy: 0.8000\n",
      "Epoch 271/300\n",
      "19/19 [==============================] - 0s 8ms/step - loss: 0.4834 - accuracy: 0.7617 - val_loss: 0.5036 - val_accuracy: 0.8300\n",
      "Epoch 272/300\n",
      "19/19 [==============================] - 0s 7ms/step - loss: 0.4845 - accuracy: 0.7583 - val_loss: 0.5122 - val_accuracy: 0.7800\n",
      "Epoch 273/300\n",
      "19/19 [==============================] - 0s 8ms/step - loss: 0.4873 - accuracy: 0.7650 - val_loss: 0.5054 - val_accuracy: 0.8100\n",
      "Epoch 274/300\n",
      "19/19 [==============================] - 0s 9ms/step - loss: 0.4838 - accuracy: 0.7567 - val_loss: 0.5001 - val_accuracy: 0.8300\n",
      "Epoch 275/300\n",
      "19/19 [==============================] - 0s 9ms/step - loss: 0.4842 - accuracy: 0.7617 - val_loss: 0.5035 - val_accuracy: 0.8300\n",
      "Epoch 276/300\n",
      "19/19 [==============================] - 0s 8ms/step - loss: 0.4796 - accuracy: 0.7717 - val_loss: 0.5148 - val_accuracy: 0.8000\n",
      "Epoch 277/300\n",
      "19/19 [==============================] - 0s 8ms/step - loss: 0.4860 - accuracy: 0.7550 - val_loss: 0.5071 - val_accuracy: 0.8000\n",
      "Epoch 278/300\n",
      "19/19 [==============================] - 0s 8ms/step - loss: 0.4839 - accuracy: 0.7617 - val_loss: 0.4935 - val_accuracy: 0.8300\n",
      "Epoch 279/300\n",
      "19/19 [==============================] - 0s 8ms/step - loss: 0.4824 - accuracy: 0.7600 - val_loss: 0.4957 - val_accuracy: 0.8000\n",
      "Epoch 280/300\n",
      "19/19 [==============================] - 0s 8ms/step - loss: 0.4810 - accuracy: 0.7683 - val_loss: 0.5113 - val_accuracy: 0.8100\n",
      "Epoch 281/300\n",
      "19/19 [==============================] - 0s 8ms/step - loss: 0.4829 - accuracy: 0.7550 - val_loss: 0.5107 - val_accuracy: 0.7900\n",
      "Epoch 282/300\n",
      "19/19 [==============================] - 0s 8ms/step - loss: 0.4797 - accuracy: 0.7583 - val_loss: 0.5129 - val_accuracy: 0.8100\n",
      "Epoch 283/300\n",
      "19/19 [==============================] - 0s 9ms/step - loss: 0.4843 - accuracy: 0.7433 - val_loss: 0.4990 - val_accuracy: 0.8300\n",
      "Epoch 284/300\n",
      "19/19 [==============================] - 0s 9ms/step - loss: 0.4848 - accuracy: 0.7617 - val_loss: 0.4935 - val_accuracy: 0.8300\n",
      "Epoch 285/300\n",
      "19/19 [==============================] - 0s 8ms/step - loss: 0.4852 - accuracy: 0.7550 - val_loss: 0.4906 - val_accuracy: 0.8300\n",
      "Epoch 286/300\n",
      "19/19 [==============================] - 0s 8ms/step - loss: 0.4814 - accuracy: 0.7750 - val_loss: 0.4940 - val_accuracy: 0.8200\n",
      "Epoch 287/300\n"
     ]
    },
    {
     "name": "stdout",
     "output_type": "stream",
     "text": [
      "19/19 [==============================] - 0s 9ms/step - loss: 0.4783 - accuracy: 0.7583 - val_loss: 0.4938 - val_accuracy: 0.8000\n",
      "Epoch 288/300\n",
      "19/19 [==============================] - 0s 8ms/step - loss: 0.4852 - accuracy: 0.7617 - val_loss: 0.5208 - val_accuracy: 0.8200\n",
      "Epoch 289/300\n",
      "19/19 [==============================] - 0s 8ms/step - loss: 0.4838 - accuracy: 0.7567 - val_loss: 0.5025 - val_accuracy: 0.8100\n",
      "Epoch 290/300\n",
      "19/19 [==============================] - 0s 8ms/step - loss: 0.4802 - accuracy: 0.7650 - val_loss: 0.5039 - val_accuracy: 0.8100\n",
      "Epoch 291/300\n",
      "19/19 [==============================] - 0s 8ms/step - loss: 0.4775 - accuracy: 0.7717 - val_loss: 0.4902 - val_accuracy: 0.8300\n",
      "Epoch 292/300\n",
      "19/19 [==============================] - 0s 8ms/step - loss: 0.4801 - accuracy: 0.7667 - val_loss: 0.4872 - val_accuracy: 0.8200\n",
      "Epoch 293/300\n",
      "19/19 [==============================] - 0s 8ms/step - loss: 0.4807 - accuracy: 0.7633 - val_loss: 0.4947 - val_accuracy: 0.8200\n",
      "Epoch 294/300\n",
      "19/19 [==============================] - 0s 8ms/step - loss: 0.4784 - accuracy: 0.7567 - val_loss: 0.5035 - val_accuracy: 0.8100\n",
      "Epoch 295/300\n",
      "19/19 [==============================] - 0s 8ms/step - loss: 0.4821 - accuracy: 0.7617 - val_loss: 0.4919 - val_accuracy: 0.8200\n",
      "Epoch 296/300\n",
      "19/19 [==============================] - 0s 8ms/step - loss: 0.4811 - accuracy: 0.7633 - val_loss: 0.4966 - val_accuracy: 0.8200\n",
      "Epoch 297/300\n",
      "19/19 [==============================] - 0s 8ms/step - loss: 0.4815 - accuracy: 0.7600 - val_loss: 0.5118 - val_accuracy: 0.8100\n",
      "Epoch 298/300\n",
      "19/19 [==============================] - 0s 8ms/step - loss: 0.4819 - accuracy: 0.7600 - val_loss: 0.4930 - val_accuracy: 0.8300\n",
      "Epoch 299/300\n",
      "19/19 [==============================] - 0s 9ms/step - loss: 0.4782 - accuracy: 0.7667 - val_loss: 0.4897 - val_accuracy: 0.8000\n",
      "Epoch 300/300\n",
      "19/19 [==============================] - 0s 8ms/step - loss: 0.4781 - accuracy: 0.7700 - val_loss: 0.5019 - val_accuracy: 0.8200\n"
     ]
    }
   ],
   "source": [
    "hist = model.fit(X_train, Y_train, \n",
    "                epochs=300,\n",
    "                validation_data=(X_val, Y_val),\n",
    "                verbose=1)"
   ]
  },
  {
   "cell_type": "markdown",
   "id": "04644914",
   "metadata": {},
   "source": [
    "## 5. 모델 학습 평가 "
   ]
  },
  {
   "cell_type": "code",
   "execution_count": 10,
   "id": "737cb3aa",
   "metadata": {},
   "outputs": [
    {
     "data": {
      "text/plain": [
       "dict_keys(['loss', 'accuracy', 'val_loss', 'val_accuracy'])"
      ]
     },
     "execution_count": 10,
     "metadata": {},
     "output_type": "execute_result"
    }
   ],
   "source": [
    "hist.history.keys()"
   ]
  },
  {
   "cell_type": "code",
   "execution_count": 11,
   "id": "6fe0976c",
   "metadata": {},
   "outputs": [
    {
     "data": {
      "image/png": "[encoded data removed]",
      "text/plain": [
       "<Figure size 1000x500 with 2 Axes>"
      ]
     },
     "metadata": {},
     "output_type": "display_data"
    }
   ],
   "source": [
    "# 학습과정 표시하기(validation dataset 있는 경우)\n",
    "fig, loss_ax = plt.subplots(figsize=(10,5))\n",
    "loss_ax.plot(hist.history['loss'], 'r', label='train loss')\n",
    "loss_ax.plot(hist.history['val_loss'], 'y', label='validation loss')\n",
    "loss_ax.set_xlabel('epoch')\n",
    "loss_ax.set_ylabel('loss')\n",
    "acc_ax = loss_ax.twinx()\n",
    "acc_ax.plot(hist.history['accuracy'], 'b', label='train accuracy')\n",
    "acc_ax.plot(hist.history['val_accuracy'], 'g', label='train accuracy')\n",
    "acc_ax.set_ylabel('accuracy')\n",
    "loss_ax.legend(loc='center right')\n",
    "acc_ax.legend(bbox_to_anchor=(0.999, 0.7))\n",
    "plt.show()"
   ]
  },
  {
   "cell_type": "code",
   "execution_count": 12,
   "id": "3deb6caf",
   "metadata": {},
   "outputs": [
    {
     "name": "stdout",
     "output_type": "stream",
     "text": [
      "3/3 [==============================] - 0s 0s/step - loss: 0.6252 - accuracy: 0.7941\n",
      "Test Dataset loss : 0.6252195835113525\n",
      " accuracy(모델 정확도) : 0.7941176295280457\n"
     ]
    }
   ],
   "source": [
    "# 모델 평가하기(test dataset으로)\n",
    "score = model.evaluate(X_test, Y_test)\n",
    "print(f'Test Dataset loss : {score[0]}\\n accuracy(모델 정확도) : {score[1]}')"
   ]
  },
  {
   "cell_type": "code",
   "execution_count": 13,
   "id": "b372f0de",
   "metadata": {},
   "outputs": [
    {
     "data": {
      "text/plain": [
       "[0.6252195835113525, 0.7941176295280457]"
      ]
     },
     "execution_count": 13,
     "metadata": {},
     "output_type": "execute_result"
    }
   ],
   "source": [
    "score # loss 와 compile 에서 metrics=['accuracy']지정으올 accuracy가 저장"
   ]
  },
  {
   "cell_type": "code",
   "execution_count": 17,
   "id": "d261a034",
   "metadata": {},
   "outputs": [
    {
     "data": {
      "text/plain": [
       "True"
      ]
     },
     "execution_count": 17,
     "metadata": {},
     "output_type": "execute_result"
    }
   ],
   "source": [
    "# 교차표 (분류분석)\n",
    "# pd.crosstab(실제값을1차원, 예측값을 1차원)\n",
    "Y_test.argmax(axis=1) == y_test\n",
    "all(Y_test.argmax(axis=1) == y_test) # crosstab 에 들어갈 실제값"
   ]
  },
  {
   "cell_type": "code",
   "execution_count": 19,
   "id": "817053fa",
   "metadata": {},
   "outputs": [
    {
     "name": "stdout",
     "output_type": "stream",
     "text": [
      "3/3 [==============================] - 0s 3ms/step\n"
     ]
    },
    {
     "data": {
      "text/plain": [
       "array([0, 1, 1, 1, 0, 0, 0, 1, 1, 0, 1, 0, 1, 0, 0, 1, 1, 0, 0, 0, 0, 0,\n",
       "       1, 0, 0, 0, 0, 0, 0, 0, 0, 0, 1, 0, 0, 0, 0, 0, 0, 0, 1, 0, 0, 1,\n",
       "       1, 0, 1, 0, 1, 1, 1, 0, 0, 1, 1, 0, 0, 0, 0, 1, 0, 1, 0, 1, 0, 0,\n",
       "       0, 0], dtype=int64)"
      ]
     },
     "execution_count": 19,
     "metadata": {},
     "output_type": "execute_result"
    }
   ],
   "source": [
    "# 예측값\n",
    "Y_hat = model.predict(X_test)\n",
    "y_hat = Y_hat.argmax(axis=1)\n",
    "y_hat = np.argmax(Y_hat, axis=1)\n",
    "y_hat"
   ]
  },
  {
   "cell_type": "markdown",
   "id": "47897a2b",
   "metadata": {},
   "source": [
    "## 6. 모델 사용하기"
   ]
  },
  {
   "cell_type": "code",
   "execution_count": null,
   "id": "5a83d488",
   "metadata": {},
   "outputs": [],
   "source": [
    "input_data = np.array([[]])\n",
    "pred = model.predict()"
   ]
  },
  {
   "cell_type": "code",
   "execution_count": null,
   "id": "0425354a",
   "metadata": {},
   "outputs": [],
   "source": []
  },
  {
   "cell_type": "code",
   "execution_count": null,
   "id": "a8edda72",
   "metadata": {},
   "outputs": [],
   "source": []
  },
  {
   "cell_type": "code",
   "execution_count": null,
   "id": "22362098",
   "metadata": {},
   "outputs": [],
   "source": []
  },
  {
   "cell_type": "code",
   "execution_count": null,
   "id": "e9c925c5",
   "metadata": {},
   "outputs": [],
   "source": []
  },
  {
   "cell_type": "code",
   "execution_count": null,
   "id": "fd2dbf92",
   "metadata": {},
   "outputs": [],
   "source": []
  },
  {
   "cell_type": "code",
   "execution_count": null,
   "id": "35098a8c",
   "metadata": {},
   "outputs": [],
   "source": []
  },
  {
   "cell_type": "code",
   "execution_count": null,
   "id": "261efbf2",
   "metadata": {},
   "outputs": [],
   "source": []
  },
  {
   "cell_type": "code",
   "execution_count": null,
   "id": "8c8c11a2",
   "metadata": {},
   "outputs": [],
   "source": []
  },
  {
   "cell_type": "code",
   "execution_count": null,
   "id": "f6f7dbe6",
   "metadata": {},
   "outputs": [],
   "source": []
  },
  {
   "cell_type": "code",
   "execution_count": null,
   "id": "4e5b1431",
   "metadata": {},
   "outputs": [],
   "source": []
  },
  {
   "cell_type": "code",
   "execution_count": null,
   "id": "d8b60b02",
   "metadata": {},
   "outputs": [],
   "source": []
  },
  {
   "cell_type": "code",
   "execution_count": null,
   "id": "90cb5897",
   "metadata": {},
   "outputs": [],
   "source": []
  },
  {
   "cell_type": "code",
   "execution_count": null,
   "id": "7c4b5c64",
   "metadata": {},
   "outputs": [],
   "source": []
  },
  {
   "cell_type": "code",
   "execution_count": null,
   "id": "51117c54",
   "metadata": {},
   "outputs": [],
   "source": []
  },
  {
   "cell_type": "code",
   "execution_count": null,
   "id": "dad8b959",
   "metadata": {},
   "outputs": [],
   "source": []
  },
  {
   "cell_type": "code",
   "execution_count": null,
   "id": "8e047cf5",
   "metadata": {},
   "outputs": [],
   "source": []
  },
  {
   "cell_type": "code",
   "execution_count": null,
   "id": "d4eef5dd",
   "metadata": {},
   "outputs": [],
   "source": []
  },
  {
   "cell_type": "code",
   "execution_count": null,
   "id": "23731186",
   "metadata": {},
   "outputs": [],
   "source": []
  }
 ],
 "metadata": {
  "kernelspec": {
   "display_name": "Python 3 (ipykernel)",
   "language": "python",
   "name": "python3"
  },
  "language_info": {
   "codemirror_mode": {
    "name": "ipython",
    "version": 3
   },
   "file_extension": ".py",
   "mimetype": "text/x-python",
   "name": "python",
   "nbconvert_exporter": "python",
   "pygments_lexer": "ipython3",
   "version": "3.10.9"
  },
  "toc": {
   "base_numbering": 1,
   "nav_menu": {},
   "number_sections": false,
   "sideBar": true,
   "skip_h1_title": false,
   "title_cell": "Table of Contents",
   "title_sidebar": "Contents",
   "toc_cell": false,
   "toc_position": {
    "height": "calc(100% - 180px)",
    "left": "10px",
    "top": "150px",
    "width": "165px"
   },
   "toc_section_display": true,
   "toc_window_display": true
  }
 },
 "nbformat": 4,
 "nbformat_minor": 5
}
