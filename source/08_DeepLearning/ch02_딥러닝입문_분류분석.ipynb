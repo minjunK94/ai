{
 "cells": [
  {
   "cell_type": "code",
   "execution_count": 1,
   "id": "f9e1b74d",
   "metadata": {},
   "outputs": [
    {
     "name": "stdout",
     "output_type": "stream",
     "text": [
      "2.10.0\n"
     ]
    },
    {
     "data": {
      "text/plain": [
       "[PhysicalDevice(name='/physical_device:GPU:0', device_type='GPU')]"
      ]
     },
     "execution_count": 1,
     "metadata": {},
     "output_type": "execute_result"
    }
   ],
   "source": [
    "import tensorflow as tf\n",
    "print(tf.__version__)\n",
    "tf.config.list_physical_devices('GPU')"
   ]
  },
  {
   "cell_type": "markdown",
   "id": "7a148acb",
   "metadata": {},
   "source": [
    "# 머신러닝/딥러닝 : 법칙성을 추출\n",
    "    - 다양한 분야에서 응용 : 글씨인식, 문장분류, 질병진단, 얼굴식별, etc...\n",
    "    \n",
    "    - 지도학습 vs 비지도학습(군집) vs 강화학습(게임)\n",
    "- 1. 데이터 확보 및 생성(inputdata, outputdata)\n",
    "- 2. 데이터 전처리 (결측치, 스케일조정, 훈련데이터셋과 검증데이터셋, 시험데이터셋으로 분류..)\n",
    "- 3. 모델 구성\n",
    "- 4. 모델 학습 과정 설정(손실 함수, 옵티마이저, 평가지표)\n",
    "- 5. 모델 학습 시키기\n",
    "- 6. 모델 평가(시험데이터셋으로)\n",
    "- 7. 모델 사용(모델 저장 후, 저장된 모델을 이용하여, 입력값이 주어지면 예측값 받기"
   ]
  },
  {
   "cell_type": "markdown",
   "id": "79d0161b",
   "metadata": {},
   "source": [
    "# 1. 데이터 셋 생성\n",
    "# 2. 데이터 전처리"
   ]
  },
  {
   "cell_type": "code",
   "execution_count": 13,
   "id": "f2fc1f31",
   "metadata": {},
   "outputs": [],
   "source": [
    "import numpy as np\n",
    "import pandas as pd\n",
    "from tensorflow.keras.utils import to_categorical # 분류분석시 원핫인코딩\n",
    "from tensorflow.keras.models import Sequential #모델 생성\n",
    "from tensorflow.keras.layers import Dense, Input # 모델에 레이어 추가시 "
   ]
  },
  {
   "cell_type": "code",
   "execution_count": 4,
   "id": "1a61c8b0",
   "metadata": {},
   "outputs": [],
   "source": [
    "# 학습데이터 == 훈련데이터\n",
    "X_train = np.array([1,2,3,4,5,6,7,8,9]*10)\n",
    "Y_train = np.array([2,4,6,8,10,12,14,16,18]*10)\n",
    "# 검증데이터\n",
    "X_val = np.array([1,2,3,4,5,6,7,8,9])\n",
    "Y_val = np.array([2,4,6,8,10,12,14,16,18])"
   ]
  },
  {
   "cell_type": "code",
   "execution_count": 11,
   "id": "244ee4f0",
   "metadata": {},
   "outputs": [
    {
     "name": "stdout",
     "output_type": "stream",
     "text": [
      "원 데이터 : ['a' 'b' 'b' 'b' 'c']\n",
      "라벨 인코딩 된 데이터 : [0 1 1 1 2]\n",
      "원핫 인코딩 된 데이터 :\n",
      " [[1. 0. 0.]\n",
      " [0. 1. 0.]\n",
      " [0. 1. 0.]\n",
      " [0. 1. 0.]\n",
      " [0. 0. 1.]]\n"
     ]
    }
   ],
   "source": [
    "# 분류 분석을 위해 target 변수를 인코딩\n",
    "# 분류 분석을 위한 인코딩 종류\n",
    "data = np.array(['a','b','b','b','c'])\n",
    "print('원 데이터 :', data)\n",
    "from sklearn.preprocessing import LabelEncoder\n",
    "le = LabelEncoder()\n",
    "labeling_data = le.fit_transform(data)\n",
    "print('라벨 인코딩 된 데이터 :', labeling_data)\n",
    "one_hot_encoding_data = to_categorical(labeling_data)\n",
    "print('원핫 인코딩 된 데이터 :\\n', one_hot_encoding_data)"
   ]
  },
  {
   "cell_type": "code",
   "execution_count": 20,
   "id": "7f526671",
   "metadata": {},
   "outputs": [
    {
     "name": "stdout",
     "output_type": "stream",
     "text": [
      "원 데이터 :\n",
      "[1 2 2 3 2]\n",
      "to_categorical을 이용한 원 핫 인코딩 (넘파이 배열)\n",
      "[[0. 1. 0. 0.]\n",
      " [0. 0. 1. 0.]\n",
      " [0. 0. 1. 0.]\n",
      " [0. 0. 0. 1.]\n",
      " [0. 0. 1. 0.]]\n",
      "get_dummies를 이용한 원 핫 인코딩 (데이터 프레임)\n"
     ]
    },
    {
     "data": {
      "text/html": [
       "<div>\n",
       "<style scoped>\n",
       "    .dataframe tbody tr th:only-of-type {\n",
       "        vertical-align: middle;\n",
       "    }\n",
       "\n",
       "    .dataframe tbody tr th {\n",
       "        vertical-align: top;\n",
       "    }\n",
       "\n",
       "    .dataframe thead th {\n",
       "        text-align: right;\n",
       "    }\n",
       "</style>\n",
       "<table border=\"1\" class=\"dataframe\">\n",
       "  <thead>\n",
       "    <tr style=\"text-align: right;\">\n",
       "      <th></th>\n",
       "      <th>1</th>\n",
       "      <th>2</th>\n",
       "      <th>3</th>\n",
       "    </tr>\n",
       "  </thead>\n",
       "  <tbody>\n",
       "    <tr>\n",
       "      <th>0</th>\n",
       "      <td>1</td>\n",
       "      <td>0</td>\n",
       "      <td>0</td>\n",
       "    </tr>\n",
       "    <tr>\n",
       "      <th>1</th>\n",
       "      <td>0</td>\n",
       "      <td>1</td>\n",
       "      <td>0</td>\n",
       "    </tr>\n",
       "    <tr>\n",
       "      <th>2</th>\n",
       "      <td>0</td>\n",
       "      <td>1</td>\n",
       "      <td>0</td>\n",
       "    </tr>\n",
       "    <tr>\n",
       "      <th>3</th>\n",
       "      <td>0</td>\n",
       "      <td>0</td>\n",
       "      <td>1</td>\n",
       "    </tr>\n",
       "    <tr>\n",
       "      <th>4</th>\n",
       "      <td>0</td>\n",
       "      <td>1</td>\n",
       "      <td>0</td>\n",
       "    </tr>\n",
       "  </tbody>\n",
       "</table>\n",
       "</div>"
      ],
      "text/plain": [
       "   1  2  3\n",
       "0  1  0  0\n",
       "1  0  1  0\n",
       "2  0  1  0\n",
       "3  0  0  1\n",
       "4  0  1  0"
      ]
     },
     "metadata": {},
     "output_type": "display_data"
    }
   ],
   "source": [
    "# 분류분석을 위한 원핫인코딩 방법\n",
    "data = np.array([1,2,2,3,2])\n",
    "print('원 데이터 :')\n",
    "print(data)\n",
    "categorical_one_hot = to_categorical(data)\n",
    "print('to_categorical을 이용한 원 핫 인코딩 (넘파이 배열)')\n",
    "print(categorical_one_hot)\n",
    "print('get_dummies를 이용한 원 핫 인코딩 (데이터 프레임)')\n",
    "display(pd.get_dummies(data))"
   ]
  },
  {
   "cell_type": "code",
   "execution_count": 21,
   "id": "fb1cb9db",
   "metadata": {},
   "outputs": [],
   "source": [
    "# 분류분석을 위해 종속변수(target변수)를 원핫인코딩\n",
    "Y_train = to_categorical(Y_train, 19)\n",
    "Y_val = to_categorical(Y_val)"
   ]
  },
  {
   "cell_type": "code",
   "execution_count": 22,
   "id": "581319ff",
   "metadata": {},
   "outputs": [
    {
     "data": {
      "text/plain": [
       "array([[0., 0., 1., 0., 0., 0., 0., 0., 0., 0., 0., 0., 0., 0., 0., 0.,\n",
       "        0., 0., 0.],\n",
       "       [0., 0., 0., 0., 1., 0., 0., 0., 0., 0., 0., 0., 0., 0., 0., 0.,\n",
       "        0., 0., 0.]], dtype=float32)"
      ]
     },
     "execution_count": 22,
     "metadata": {},
     "output_type": "execute_result"
    }
   ],
   "source": [
    "Y_train[:2]"
   ]
  },
  {
   "cell_type": "code",
   "execution_count": 23,
   "id": "d6c15eeb",
   "metadata": {},
   "outputs": [
    {
     "data": {
      "text/plain": [
       "array([1, 2])"
      ]
     },
     "execution_count": 23,
     "metadata": {},
     "output_type": "execute_result"
    }
   ],
   "source": [
    "X_train[:2]"
   ]
  },
  {
   "cell_type": "code",
   "execution_count": 24,
   "id": "0752e04b",
   "metadata": {},
   "outputs": [
    {
     "data": {
      "text/plain": [
       "array([[0., 0., 1., 0., 0., 0., 0., 0., 0., 0., 0., 0., 0., 0., 0., 0.,\n",
       "        0., 0., 0.],\n",
       "       [0., 0., 0., 0., 1., 0., 0., 0., 0., 0., 0., 0., 0., 0., 0., 0.,\n",
       "        0., 0., 0.]], dtype=float32)"
      ]
     },
     "execution_count": 24,
     "metadata": {},
     "output_type": "execute_result"
    }
   ],
   "source": [
    "Y_train[:2]"
   ]
  },
  {
   "cell_type": "markdown",
   "id": "be0bc88e",
   "metadata": {},
   "source": [
    "# 3. 모델 구성"
   ]
  },
  {
   "cell_type": "code",
   "execution_count": 25,
   "id": "5c8940ff",
   "metadata": {},
   "outputs": [
    {
     "name": "stdout",
     "output_type": "stream",
     "text": [
      "Model: \"sequential\"\n",
      "_________________________________________________________________\n",
      " Layer (type)                Output Shape              Param #   \n",
      "=================================================================\n",
      " dense (Dense)               (None, 38)                76        \n",
      "                                                                 \n",
      " dense_1 (Dense)             (None, 64)                2496      \n",
      "                                                                 \n",
      " dense_2 (Dense)             (None, 32)                2080      \n",
      "                                                                 \n",
      " dense_3 (Dense)             (None, 19)                627       \n",
      "                                                                 \n",
      "=================================================================\n",
      "Total params: 5,279\n",
      "Trainable params: 5,279\n",
      "Non-trainable params: 0\n",
      "_________________________________________________________________\n",
      "None\n"
     ]
    }
   ],
   "source": [
    "model = Sequential()\n",
    "model.add(Input(shape=(1,)))\n",
    "# Dense(출력, 입력)\n",
    "model.add(Dense(units=38, activation='sigmoid'))   # units : 출력갯수, activation(활성화함수)\n",
    "model.add(Dense(units=64, activation='elu'))\n",
    "model.add(Dense(units=32, activation='elu'))\n",
    "model.add(Dense(units=19, activation='softmax'))   #  activation='softmax' : 모든 출력의 합이 1\n",
    "# 분류분석의 마지막 layer 에서 activation 함수로 사용\n",
    "print(model.summary())"
   ]
  },
  {
   "cell_type": "markdown",
   "id": "e7e82ab4",
   "metadata": {},
   "source": [
    "# 4. 모델 학습과정 설정\n",
    "- 손실함수, 옵티마이저, 평가지표\n",
    "    * loss='categorical_crossentropy' : 딥러닝 훈련시 다중분류분석(손실함수)에서 사용함\n",
    "    * 모델의 예측 확률분포와 실제값의 확률 분포가 얼마나 다른지를 계산함\n",
    "    * metrics=['accuracy'] : 정확도"
   ]
  },
  {
   "cell_type": "code",
   "execution_count": 26,
   "id": "b5cf56a5",
   "metadata": {},
   "outputs": [],
   "source": [
    "model.compile(loss='categorical_crossentropy', optimizer='adam', metrics=['accuracy'])"
   ]
  },
  {
   "cell_type": "markdown",
   "id": "9b5e46f4",
   "metadata": {},
   "source": [
    "# 5. 모델 학습시키기"
   ]
  },
  {
   "cell_type": "code",
   "execution_count": 31,
   "id": "d664e178",
   "metadata": {},
   "outputs": [
    {
     "name": "stdout",
     "output_type": "stream",
     "text": [
      "Epoch 1/300\n",
      "9/9 - 1s - loss: 2.7813 - accuracy: 0.1111 - val_loss: 2.5824 - val_accuracy: 0.2222 - 1s/epoch - 120ms/step\n",
      "Epoch 2/300\n",
      "9/9 - 0s - loss: 2.5136 - accuracy: 0.1111 - val_loss: 2.3987 - val_accuracy: 0.1111 - 67ms/epoch - 7ms/step\n",
      "Epoch 3/300\n",
      "9/9 - 0s - loss: 2.3459 - accuracy: 0.1111 - val_loss: 2.2751 - val_accuracy: 0.1111 - 68ms/epoch - 8ms/step\n",
      "Epoch 4/300\n",
      "9/9 - 0s - loss: 2.2457 - accuracy: 0.0444 - val_loss: 2.1858 - val_accuracy: 0.2222 - 64ms/epoch - 7ms/step\n",
      "Epoch 5/300\n",
      "9/9 - 0s - loss: 2.1644 - accuracy: 0.2222 - val_loss: 2.1184 - val_accuracy: 0.2222 - 62ms/epoch - 7ms/step\n",
      "Epoch 6/300\n",
      "9/9 - 0s - loss: 2.0997 - accuracy: 0.2778 - val_loss: 2.0581 - val_accuracy: 0.3333 - 63ms/epoch - 7ms/step\n",
      "Epoch 7/300\n",
      "9/9 - 0s - loss: 2.0423 - accuracy: 0.4111 - val_loss: 2.0060 - val_accuracy: 0.4444 - 64ms/epoch - 7ms/step\n",
      "Epoch 8/300\n",
      "9/9 - 0s - loss: 1.9966 - accuracy: 0.3333 - val_loss: 1.9578 - val_accuracy: 0.3333 - 65ms/epoch - 7ms/step\n",
      "Epoch 9/300\n",
      "9/9 - 0s - loss: 1.9430 - accuracy: 0.3778 - val_loss: 1.9086 - val_accuracy: 0.3333 - 61ms/epoch - 7ms/step\n",
      "Epoch 10/300\n",
      "9/9 - 0s - loss: 1.8941 - accuracy: 0.3444 - val_loss: 1.8598 - val_accuracy: 0.3333 - 62ms/epoch - 7ms/step\n",
      "Epoch 11/300\n",
      "9/9 - 0s - loss: 1.8508 - accuracy: 0.3889 - val_loss: 1.8123 - val_accuracy: 0.4444 - 58ms/epoch - 6ms/step\n",
      "Epoch 12/300\n",
      "9/9 - 0s - loss: 1.8189 - accuracy: 0.2333 - val_loss: 1.7702 - val_accuracy: 0.2222 - 55ms/epoch - 6ms/step\n",
      "Epoch 13/300\n",
      "9/9 - 0s - loss: 1.7549 - accuracy: 0.3444 - val_loss: 1.7167 - val_accuracy: 0.3333 - 57ms/epoch - 6ms/step\n",
      "Epoch 14/300\n",
      "9/9 - 0s - loss: 1.7137 - accuracy: 0.4000 - val_loss: 1.6701 - val_accuracy: 0.5556 - 56ms/epoch - 6ms/step\n",
      "Epoch 15/300\n",
      "9/9 - 0s - loss: 1.6605 - accuracy: 0.3667 - val_loss: 1.6234 - val_accuracy: 0.3333 - 65ms/epoch - 7ms/step\n",
      "Epoch 16/300\n",
      "9/9 - 0s - loss: 1.6152 - accuracy: 0.3556 - val_loss: 1.5800 - val_accuracy: 0.5556 - 59ms/epoch - 7ms/step\n",
      "Epoch 17/300\n",
      "9/9 - 0s - loss: 1.5898 - accuracy: 0.4111 - val_loss: 1.5384 - val_accuracy: 0.4444 - 58ms/epoch - 6ms/step\n",
      "Epoch 18/300\n",
      "9/9 - 0s - loss: 1.5177 - accuracy: 0.4222 - val_loss: 1.4907 - val_accuracy: 0.5556 - 60ms/epoch - 7ms/step\n",
      "Epoch 19/300\n",
      "9/9 - 0s - loss: 1.4892 - accuracy: 0.4556 - val_loss: 1.4527 - val_accuracy: 0.6667 - 67ms/epoch - 7ms/step\n",
      "Epoch 20/300\n",
      "9/9 - 0s - loss: 1.4447 - accuracy: 0.6556 - val_loss: 1.4136 - val_accuracy: 0.5556 - 64ms/epoch - 7ms/step\n",
      "Epoch 21/300\n",
      "9/9 - 0s - loss: 1.4086 - accuracy: 0.5000 - val_loss: 1.3744 - val_accuracy: 0.5556 - 63ms/epoch - 7ms/step\n",
      "Epoch 22/300\n",
      "9/9 - 0s - loss: 1.3659 - accuracy: 0.4667 - val_loss: 1.3368 - val_accuracy: 0.5556 - 62ms/epoch - 7ms/step\n",
      "Epoch 23/300\n",
      "9/9 - 0s - loss: 1.3504 - accuracy: 0.5556 - val_loss: 1.3037 - val_accuracy: 0.6667 - 60ms/epoch - 7ms/step\n",
      "Epoch 24/300\n",
      "9/9 - 0s - loss: 1.2972 - accuracy: 0.6333 - val_loss: 1.2693 - val_accuracy: 0.6667 - 60ms/epoch - 7ms/step\n",
      "Epoch 25/300\n",
      "9/9 - 0s - loss: 1.2742 - accuracy: 0.6889 - val_loss: 1.2372 - val_accuracy: 0.7778 - 61ms/epoch - 7ms/step\n",
      "Epoch 26/300\n",
      "9/9 - 0s - loss: 1.2290 - accuracy: 0.8111 - val_loss: 1.2018 - val_accuracy: 0.8889 - 60ms/epoch - 7ms/step\n",
      "Epoch 27/300\n",
      "9/9 - 0s - loss: 1.1997 - accuracy: 0.8111 - val_loss: 1.1718 - val_accuracy: 0.6667 - 63ms/epoch - 7ms/step\n",
      "Epoch 28/300\n",
      "9/9 - 0s - loss: 1.1694 - accuracy: 0.7556 - val_loss: 1.1447 - val_accuracy: 0.7778 - 63ms/epoch - 7ms/step\n",
      "Epoch 29/300\n",
      "9/9 - 0s - loss: 1.1517 - accuracy: 0.6667 - val_loss: 1.1200 - val_accuracy: 0.7778 - 58ms/epoch - 6ms/step\n",
      "Epoch 30/300\n",
      "9/9 - 0s - loss: 1.1213 - accuracy: 0.7556 - val_loss: 1.0913 - val_accuracy: 0.7778 - 60ms/epoch - 7ms/step\n",
      "Epoch 31/300\n",
      "9/9 - 0s - loss: 1.0913 - accuracy: 0.7778 - val_loss: 1.0657 - val_accuracy: 0.7778 - 61ms/epoch - 7ms/step\n",
      "Epoch 32/300\n",
      "9/9 - 0s - loss: 1.0631 - accuracy: 0.8667 - val_loss: 1.0405 - val_accuracy: 1.0000 - 61ms/epoch - 7ms/step\n",
      "Epoch 33/300\n",
      "9/9 - 0s - loss: 1.0385 - accuracy: 0.8889 - val_loss: 1.0164 - val_accuracy: 0.8889 - 60ms/epoch - 7ms/step\n",
      "Epoch 34/300\n",
      "9/9 - 0s - loss: 1.0212 - accuracy: 0.8889 - val_loss: 0.9937 - val_accuracy: 0.8889 - 59ms/epoch - 7ms/step\n",
      "Epoch 35/300\n",
      "9/9 - 0s - loss: 1.0001 - accuracy: 0.9000 - val_loss: 0.9711 - val_accuracy: 1.0000 - 59ms/epoch - 7ms/step\n",
      "Epoch 36/300\n",
      "9/9 - 0s - loss: 0.9811 - accuracy: 0.9000 - val_loss: 0.9542 - val_accuracy: 0.8889 - 57ms/epoch - 6ms/step\n",
      "Epoch 37/300\n",
      "9/9 - 0s - loss: 0.9614 - accuracy: 0.8222 - val_loss: 0.9315 - val_accuracy: 0.7778 - 61ms/epoch - 7ms/step\n",
      "Epoch 38/300\n",
      "9/9 - 0s - loss: 0.9349 - accuracy: 0.7778 - val_loss: 0.9072 - val_accuracy: 1.0000 - 58ms/epoch - 6ms/step\n",
      "Epoch 39/300\n",
      "9/9 - 0s - loss: 0.9034 - accuracy: 0.9444 - val_loss: 0.8855 - val_accuracy: 0.8889 - 59ms/epoch - 7ms/step\n",
      "Epoch 40/300\n",
      "9/9 - 0s - loss: 0.8848 - accuracy: 0.8889 - val_loss: 0.8645 - val_accuracy: 0.8889 - 56ms/epoch - 6ms/step\n",
      "Epoch 41/300\n",
      "9/9 - 0s - loss: 0.8743 - accuracy: 0.8333 - val_loss: 0.8458 - val_accuracy: 0.8889 - 61ms/epoch - 7ms/step\n",
      "Epoch 42/300\n",
      "9/9 - 0s - loss: 0.8497 - accuracy: 0.9222 - val_loss: 0.8260 - val_accuracy: 1.0000 - 57ms/epoch - 6ms/step\n",
      "Epoch 43/300\n",
      "9/9 - 0s - loss: 0.8225 - accuracy: 1.0000 - val_loss: 0.8075 - val_accuracy: 1.0000 - 60ms/epoch - 7ms/step\n",
      "Epoch 44/300\n",
      "9/9 - 0s - loss: 0.8115 - accuracy: 1.0000 - val_loss: 0.7877 - val_accuracy: 1.0000 - 56ms/epoch - 6ms/step\n",
      "Epoch 45/300\n",
      "9/9 - 0s - loss: 0.7979 - accuracy: 0.8889 - val_loss: 0.7733 - val_accuracy: 0.8889 - 58ms/epoch - 6ms/step\n",
      "Epoch 46/300\n",
      "9/9 - 0s - loss: 0.7722 - accuracy: 0.9333 - val_loss: 0.7522 - val_accuracy: 1.0000 - 62ms/epoch - 7ms/step\n",
      "Epoch 47/300\n",
      "9/9 - 0s - loss: 0.7633 - accuracy: 0.9333 - val_loss: 0.7342 - val_accuracy: 1.0000 - 70ms/epoch - 8ms/step\n",
      "Epoch 48/300\n",
      "9/9 - 0s - loss: 0.7465 - accuracy: 0.8889 - val_loss: 0.7215 - val_accuracy: 0.8889 - 58ms/epoch - 6ms/step\n",
      "Epoch 49/300\n",
      "9/9 - 0s - loss: 0.7244 - accuracy: 0.9000 - val_loss: 0.6997 - val_accuracy: 1.0000 - 56ms/epoch - 6ms/step\n",
      "Epoch 50/300\n",
      "9/9 - 0s - loss: 0.7081 - accuracy: 0.9778 - val_loss: 0.6837 - val_accuracy: 0.8889 - 60ms/epoch - 7ms/step\n",
      "Epoch 51/300\n",
      "9/9 - 0s - loss: 0.6884 - accuracy: 0.8889 - val_loss: 0.6665 - val_accuracy: 0.8889 - 57ms/epoch - 6ms/step\n",
      "Epoch 52/300\n",
      "9/9 - 0s - loss: 0.6712 - accuracy: 0.8778 - val_loss: 0.6541 - val_accuracy: 0.8889 - 64ms/epoch - 7ms/step\n",
      "Epoch 53/300\n",
      "9/9 - 0s - loss: 0.6543 - accuracy: 0.9889 - val_loss: 0.6340 - val_accuracy: 1.0000 - 67ms/epoch - 7ms/step\n",
      "Epoch 54/300\n",
      "9/9 - 0s - loss: 0.6448 - accuracy: 0.8889 - val_loss: 0.6192 - val_accuracy: 0.8889 - 71ms/epoch - 8ms/step\n",
      "Epoch 55/300\n",
      "9/9 - 0s - loss: 0.6390 - accuracy: 0.9333 - val_loss: 0.6057 - val_accuracy: 1.0000 - 76ms/epoch - 8ms/step\n",
      "Epoch 56/300\n",
      "9/9 - 0s - loss: 0.6209 - accuracy: 0.8889 - val_loss: 0.5910 - val_accuracy: 0.8889 - 65ms/epoch - 7ms/step\n",
      "Epoch 57/300\n",
      "9/9 - 0s - loss: 0.6000 - accuracy: 1.0000 - val_loss: 0.5776 - val_accuracy: 1.0000 - 60ms/epoch - 7ms/step\n",
      "Epoch 58/300\n",
      "9/9 - 0s - loss: 0.5753 - accuracy: 0.9333 - val_loss: 0.5573 - val_accuracy: 1.0000 - 100ms/epoch - 11ms/step\n",
      "Epoch 59/300\n",
      "9/9 - 0s - loss: 0.5627 - accuracy: 0.9444 - val_loss: 0.5450 - val_accuracy: 1.0000 - 59ms/epoch - 7ms/step\n",
      "Epoch 60/300\n",
      "9/9 - 0s - loss: 0.5460 - accuracy: 1.0000 - val_loss: 0.5288 - val_accuracy: 1.0000 - 55ms/epoch - 6ms/step\n",
      "Epoch 61/300\n",
      "9/9 - 0s - loss: 0.5363 - accuracy: 0.9556 - val_loss: 0.5166 - val_accuracy: 1.0000 - 51ms/epoch - 6ms/step\n",
      "Epoch 62/300\n",
      "9/9 - 0s - loss: 0.5213 - accuracy: 1.0000 - val_loss: 0.5056 - val_accuracy: 1.0000 - 53ms/epoch - 6ms/step\n",
      "Epoch 63/300\n",
      "9/9 - 0s - loss: 0.5030 - accuracy: 1.0000 - val_loss: 0.4875 - val_accuracy: 1.0000 - 57ms/epoch - 6ms/step\n",
      "Epoch 64/300\n",
      "9/9 - 0s - loss: 0.4924 - accuracy: 1.0000 - val_loss: 0.4760 - val_accuracy: 1.0000 - 55ms/epoch - 6ms/step\n",
      "Epoch 65/300\n",
      "9/9 - 0s - loss: 0.4738 - accuracy: 0.9222 - val_loss: 0.4622 - val_accuracy: 1.0000 - 55ms/epoch - 6ms/step\n",
      "Epoch 66/300\n",
      "9/9 - 0s - loss: 0.4685 - accuracy: 1.0000 - val_loss: 0.4508 - val_accuracy: 1.0000 - 58ms/epoch - 6ms/step\n",
      "Epoch 67/300\n",
      "9/9 - 0s - loss: 0.4484 - accuracy: 1.0000 - val_loss: 0.4374 - val_accuracy: 1.0000 - 60ms/epoch - 7ms/step\n",
      "Epoch 68/300\n",
      "9/9 - 0s - loss: 0.4394 - accuracy: 1.0000 - val_loss: 0.4260 - val_accuracy: 1.0000 - 84ms/epoch - 9ms/step\n"
     ]
    },
    {
     "name": "stdout",
     "output_type": "stream",
     "text": [
      "Epoch 69/300\n",
      "9/9 - 0s - loss: 0.4432 - accuracy: 0.9222 - val_loss: 0.4214 - val_accuracy: 1.0000 - 60ms/epoch - 7ms/step\n",
      "Epoch 70/300\n",
      "9/9 - 0s - loss: 0.4232 - accuracy: 1.0000 - val_loss: 0.4021 - val_accuracy: 1.0000 - 59ms/epoch - 7ms/step\n",
      "Epoch 71/300\n",
      "9/9 - 0s - loss: 0.4068 - accuracy: 1.0000 - val_loss: 0.3922 - val_accuracy: 1.0000 - 60ms/epoch - 7ms/step\n",
      "Epoch 72/300\n",
      "9/9 - 0s - loss: 0.3972 - accuracy: 1.0000 - val_loss: 0.3830 - val_accuracy: 1.0000 - 58ms/epoch - 6ms/step\n",
      "Epoch 73/300\n",
      "9/9 - 0s - loss: 0.3798 - accuracy: 1.0000 - val_loss: 0.3698 - val_accuracy: 1.0000 - 59ms/epoch - 7ms/step\n",
      "Epoch 74/300\n",
      "9/9 - 0s - loss: 0.3725 - accuracy: 1.0000 - val_loss: 0.3608 - val_accuracy: 1.0000 - 62ms/epoch - 7ms/step\n",
      "Epoch 75/300\n",
      "9/9 - 0s - loss: 0.3637 - accuracy: 1.0000 - val_loss: 0.3498 - val_accuracy: 1.0000 - 61ms/epoch - 7ms/step\n",
      "Epoch 76/300\n",
      "9/9 - 0s - loss: 0.3564 - accuracy: 1.0000 - val_loss: 0.3462 - val_accuracy: 1.0000 - 61ms/epoch - 7ms/step\n",
      "Epoch 77/300\n",
      "9/9 - 0s - loss: 0.3431 - accuracy: 1.0000 - val_loss: 0.3325 - val_accuracy: 1.0000 - 55ms/epoch - 6ms/step\n",
      "Epoch 78/300\n",
      "9/9 - 0s - loss: 0.3437 - accuracy: 1.0000 - val_loss: 0.3271 - val_accuracy: 1.0000 - 50ms/epoch - 6ms/step\n",
      "Epoch 79/300\n",
      "9/9 - 0s - loss: 0.3572 - accuracy: 1.0000 - val_loss: 0.3247 - val_accuracy: 1.0000 - 49ms/epoch - 5ms/step\n",
      "Epoch 80/300\n",
      "9/9 - 0s - loss: 0.3245 - accuracy: 1.0000 - val_loss: 0.3174 - val_accuracy: 1.0000 - 50ms/epoch - 6ms/step\n",
      "Epoch 81/300\n",
      "9/9 - 0s - loss: 0.3173 - accuracy: 1.0000 - val_loss: 0.3034 - val_accuracy: 1.0000 - 61ms/epoch - 7ms/step\n",
      "Epoch 82/300\n",
      "9/9 - 0s - loss: 0.3030 - accuracy: 1.0000 - val_loss: 0.2928 - val_accuracy: 1.0000 - 56ms/epoch - 6ms/step\n",
      "Epoch 83/300\n",
      "9/9 - 0s - loss: 0.2866 - accuracy: 1.0000 - val_loss: 0.2811 - val_accuracy: 1.0000 - 58ms/epoch - 6ms/step\n",
      "Epoch 84/300\n",
      "9/9 - 0s - loss: 0.2808 - accuracy: 1.0000 - val_loss: 0.2713 - val_accuracy: 1.0000 - 53ms/epoch - 6ms/step\n",
      "Epoch 85/300\n",
      "9/9 - 0s - loss: 0.2756 - accuracy: 1.0000 - val_loss: 0.2630 - val_accuracy: 1.0000 - 51ms/epoch - 6ms/step\n",
      "Epoch 86/300\n",
      "9/9 - 0s - loss: 0.2666 - accuracy: 1.0000 - val_loss: 0.2600 - val_accuracy: 1.0000 - 51ms/epoch - 6ms/step\n",
      "Epoch 87/300\n",
      "9/9 - 0s - loss: 0.2617 - accuracy: 1.0000 - val_loss: 0.2495 - val_accuracy: 1.0000 - 53ms/epoch - 6ms/step\n",
      "Epoch 88/300\n",
      "9/9 - 0s - loss: 0.2514 - accuracy: 1.0000 - val_loss: 0.2444 - val_accuracy: 1.0000 - 56ms/epoch - 6ms/step\n",
      "Epoch 89/300\n",
      "9/9 - 0s - loss: 0.2435 - accuracy: 1.0000 - val_loss: 0.2355 - val_accuracy: 1.0000 - 55ms/epoch - 6ms/step\n",
      "Epoch 90/300\n",
      "9/9 - 0s - loss: 0.2343 - accuracy: 1.0000 - val_loss: 0.2268 - val_accuracy: 1.0000 - 59ms/epoch - 7ms/step\n",
      "Epoch 91/300\n",
      "9/9 - 0s - loss: 0.2319 - accuracy: 1.0000 - val_loss: 0.2221 - val_accuracy: 1.0000 - 73ms/epoch - 8ms/step\n",
      "Epoch 92/300\n",
      "9/9 - 0s - loss: 0.2257 - accuracy: 1.0000 - val_loss: 0.2141 - val_accuracy: 1.0000 - 75ms/epoch - 8ms/step\n",
      "Epoch 93/300\n",
      "9/9 - 0s - loss: 0.2225 - accuracy: 1.0000 - val_loss: 0.2081 - val_accuracy: 1.0000 - 70ms/epoch - 8ms/step\n",
      "Epoch 94/300\n",
      "9/9 - 0s - loss: 0.2096 - accuracy: 1.0000 - val_loss: 0.2014 - val_accuracy: 1.0000 - 58ms/epoch - 6ms/step\n",
      "Epoch 95/300\n",
      "9/9 - 0s - loss: 0.2068 - accuracy: 1.0000 - val_loss: 0.1992 - val_accuracy: 1.0000 - 57ms/epoch - 6ms/step\n",
      "Epoch 96/300\n",
      "9/9 - 0s - loss: 0.2063 - accuracy: 1.0000 - val_loss: 0.1930 - val_accuracy: 1.0000 - 54ms/epoch - 6ms/step\n",
      "Epoch 97/300\n",
      "9/9 - 0s - loss: 0.1963 - accuracy: 1.0000 - val_loss: 0.1880 - val_accuracy: 1.0000 - 56ms/epoch - 6ms/step\n",
      "Epoch 98/300\n",
      "9/9 - 0s - loss: 0.1863 - accuracy: 1.0000 - val_loss: 0.1763 - val_accuracy: 1.0000 - 59ms/epoch - 7ms/step\n",
      "Epoch 99/300\n",
      "9/9 - 0s - loss: 0.1812 - accuracy: 1.0000 - val_loss: 0.1708 - val_accuracy: 1.0000 - 61ms/epoch - 7ms/step\n",
      "Epoch 100/300\n",
      "9/9 - 0s - loss: 0.1840 - accuracy: 1.0000 - val_loss: 0.1708 - val_accuracy: 1.0000 - 58ms/epoch - 6ms/step\n",
      "Epoch 101/300\n",
      "9/9 - 0s - loss: 0.1737 - accuracy: 1.0000 - val_loss: 0.1694 - val_accuracy: 1.0000 - 74ms/epoch - 8ms/step\n",
      "Epoch 102/300\n",
      "9/9 - 0s - loss: 0.1660 - accuracy: 1.0000 - val_loss: 0.1594 - val_accuracy: 1.0000 - 75ms/epoch - 8ms/step\n",
      "Epoch 103/300\n",
      "9/9 - 0s - loss: 0.1595 - accuracy: 1.0000 - val_loss: 0.1504 - val_accuracy: 1.0000 - 59ms/epoch - 7ms/step\n",
      "Epoch 104/300\n",
      "9/9 - 0s - loss: 0.1489 - accuracy: 1.0000 - val_loss: 0.1475 - val_accuracy: 1.0000 - 62ms/epoch - 7ms/step\n",
      "Epoch 105/300\n",
      "9/9 - 0s - loss: 0.1473 - accuracy: 1.0000 - val_loss: 0.1424 - val_accuracy: 1.0000 - 57ms/epoch - 6ms/step\n",
      "Epoch 106/300\n",
      "9/9 - 0s - loss: 0.1428 - accuracy: 1.0000 - val_loss: 0.1374 - val_accuracy: 1.0000 - 55ms/epoch - 6ms/step\n",
      "Epoch 107/300\n",
      "9/9 - 0s - loss: 0.1399 - accuracy: 1.0000 - val_loss: 0.1366 - val_accuracy: 1.0000 - 54ms/epoch - 6ms/step\n",
      "Epoch 108/300\n",
      "9/9 - 0s - loss: 0.1364 - accuracy: 1.0000 - val_loss: 0.1295 - val_accuracy: 1.0000 - 53ms/epoch - 6ms/step\n",
      "Epoch 109/300\n",
      "9/9 - 0s - loss: 0.1315 - accuracy: 1.0000 - val_loss: 0.1249 - val_accuracy: 1.0000 - 54ms/epoch - 6ms/step\n",
      "Epoch 110/300\n",
      "9/9 - 0s - loss: 0.1298 - accuracy: 1.0000 - val_loss: 0.1201 - val_accuracy: 1.0000 - 69ms/epoch - 8ms/step\n",
      "Epoch 111/300\n",
      "9/9 - 0s - loss: 0.1210 - accuracy: 1.0000 - val_loss: 0.1202 - val_accuracy: 1.0000 - 55ms/epoch - 6ms/step\n",
      "Epoch 112/300\n",
      "9/9 - 0s - loss: 0.1190 - accuracy: 1.0000 - val_loss: 0.1138 - val_accuracy: 1.0000 - 55ms/epoch - 6ms/step\n",
      "Epoch 113/300\n",
      "9/9 - 0s - loss: 0.1152 - accuracy: 1.0000 - val_loss: 0.1089 - val_accuracy: 1.0000 - 54ms/epoch - 6ms/step\n",
      "Epoch 114/300\n",
      "9/9 - 0s - loss: 0.1101 - accuracy: 1.0000 - val_loss: 0.1074 - val_accuracy: 1.0000 - 54ms/epoch - 6ms/step\n",
      "Epoch 115/300\n",
      "9/9 - 0s - loss: 0.1081 - accuracy: 1.0000 - val_loss: 0.1031 - val_accuracy: 1.0000 - 55ms/epoch - 6ms/step\n",
      "Epoch 116/300\n",
      "9/9 - 0s - loss: 0.1025 - accuracy: 1.0000 - val_loss: 0.0998 - val_accuracy: 1.0000 - 49ms/epoch - 5ms/step\n",
      "Epoch 117/300\n",
      "9/9 - 0s - loss: 0.1008 - accuracy: 1.0000 - val_loss: 0.0971 - val_accuracy: 1.0000 - 49ms/epoch - 5ms/step\n",
      "Epoch 118/300\n",
      "9/9 - 0s - loss: 0.0981 - accuracy: 1.0000 - val_loss: 0.0930 - val_accuracy: 1.0000 - 56ms/epoch - 6ms/step\n",
      "Epoch 119/300\n",
      "9/9 - 0s - loss: 0.0927 - accuracy: 1.0000 - val_loss: 0.0901 - val_accuracy: 1.0000 - 57ms/epoch - 6ms/step\n",
      "Epoch 120/300\n",
      "9/9 - 0s - loss: 0.0897 - accuracy: 1.0000 - val_loss: 0.0873 - val_accuracy: 1.0000 - 54ms/epoch - 6ms/step\n",
      "Epoch 121/300\n",
      "9/9 - 0s - loss: 0.0894 - accuracy: 1.0000 - val_loss: 0.0845 - val_accuracy: 1.0000 - 55ms/epoch - 6ms/step\n",
      "Epoch 122/300\n",
      "9/9 - 0s - loss: 0.0871 - accuracy: 1.0000 - val_loss: 0.0827 - val_accuracy: 1.0000 - 66ms/epoch - 7ms/step\n",
      "Epoch 123/300\n",
      "9/9 - 0s - loss: 0.0961 - accuracy: 1.0000 - val_loss: 0.0840 - val_accuracy: 1.0000 - 72ms/epoch - 8ms/step\n",
      "Epoch 124/300\n",
      "9/9 - 0s - loss: 0.0772 - accuracy: 1.0000 - val_loss: 0.0857 - val_accuracy: 1.0000 - 70ms/epoch - 8ms/step\n",
      "Epoch 125/300\n",
      "9/9 - 0s - loss: 0.0837 - accuracy: 1.0000 - val_loss: 0.0766 - val_accuracy: 1.0000 - 57ms/epoch - 6ms/step\n",
      "Epoch 126/300\n",
      "9/9 - 0s - loss: 0.0756 - accuracy: 1.0000 - val_loss: 0.0730 - val_accuracy: 1.0000 - 56ms/epoch - 6ms/step\n",
      "Epoch 127/300\n",
      "9/9 - 0s - loss: 0.0726 - accuracy: 1.0000 - val_loss: 0.0700 - val_accuracy: 1.0000 - 53ms/epoch - 6ms/step\n",
      "Epoch 128/300\n",
      "9/9 - 0s - loss: 0.0707 - accuracy: 1.0000 - val_loss: 0.0691 - val_accuracy: 1.0000 - 52ms/epoch - 6ms/step\n",
      "Epoch 129/300\n",
      "9/9 - 0s - loss: 0.0711 - accuracy: 1.0000 - val_loss: 0.0686 - val_accuracy: 1.0000 - 53ms/epoch - 6ms/step\n",
      "Epoch 130/300\n",
      "9/9 - 0s - loss: 0.0669 - accuracy: 1.0000 - val_loss: 0.0648 - val_accuracy: 1.0000 - 52ms/epoch - 6ms/step\n",
      "Epoch 131/300\n",
      "9/9 - 0s - loss: 0.0638 - accuracy: 1.0000 - val_loss: 0.0620 - val_accuracy: 1.0000 - 56ms/epoch - 6ms/step\n",
      "Epoch 132/300\n",
      "9/9 - 0s - loss: 0.0627 - accuracy: 1.0000 - val_loss: 0.0610 - val_accuracy: 1.0000 - 52ms/epoch - 6ms/step\n",
      "Epoch 133/300\n",
      "9/9 - 0s - loss: 0.0614 - accuracy: 1.0000 - val_loss: 0.0594 - val_accuracy: 1.0000 - 54ms/epoch - 6ms/step\n",
      "Epoch 134/300\n",
      "9/9 - 0s - loss: 0.0592 - accuracy: 1.0000 - val_loss: 0.0572 - val_accuracy: 1.0000 - 54ms/epoch - 6ms/step\n",
      "Epoch 135/300\n",
      "9/9 - 0s - loss: 0.0590 - accuracy: 1.0000 - val_loss: 0.0550 - val_accuracy: 1.0000 - 56ms/epoch - 6ms/step\n"
     ]
    },
    {
     "name": "stdout",
     "output_type": "stream",
     "text": [
      "Epoch 136/300\n",
      "9/9 - 0s - loss: 0.0555 - accuracy: 1.0000 - val_loss: 0.0535 - val_accuracy: 1.0000 - 54ms/epoch - 6ms/step\n",
      "Epoch 137/300\n",
      "9/9 - 0s - loss: 0.0533 - accuracy: 1.0000 - val_loss: 0.0523 - val_accuracy: 1.0000 - 57ms/epoch - 6ms/step\n",
      "Epoch 138/300\n",
      "9/9 - 0s - loss: 0.0526 - accuracy: 1.0000 - val_loss: 0.0503 - val_accuracy: 1.0000 - 57ms/epoch - 6ms/step\n",
      "Epoch 139/300\n",
      "9/9 - 0s - loss: 0.0497 - accuracy: 1.0000 - val_loss: 0.0490 - val_accuracy: 1.0000 - 55ms/epoch - 6ms/step\n",
      "Epoch 140/300\n",
      "9/9 - 0s - loss: 0.0489 - accuracy: 1.0000 - val_loss: 0.0476 - val_accuracy: 1.0000 - 62ms/epoch - 7ms/step\n",
      "Epoch 141/300\n",
      "9/9 - 0s - loss: 0.0478 - accuracy: 1.0000 - val_loss: 0.0467 - val_accuracy: 1.0000 - 56ms/epoch - 6ms/step\n",
      "Epoch 142/300\n",
      "9/9 - 0s - loss: 0.0491 - accuracy: 1.0000 - val_loss: 0.0467 - val_accuracy: 1.0000 - 58ms/epoch - 6ms/step\n",
      "Epoch 143/300\n",
      "9/9 - 0s - loss: 0.0486 - accuracy: 1.0000 - val_loss: 0.0453 - val_accuracy: 1.0000 - 55ms/epoch - 6ms/step\n",
      "Epoch 144/300\n",
      "9/9 - 0s - loss: 0.0456 - accuracy: 1.0000 - val_loss: 0.0425 - val_accuracy: 1.0000 - 53ms/epoch - 6ms/step\n",
      "Epoch 145/300\n",
      "9/9 - 0s - loss: 0.0436 - accuracy: 1.0000 - val_loss: 0.0417 - val_accuracy: 1.0000 - 55ms/epoch - 6ms/step\n",
      "Epoch 146/300\n",
      "9/9 - 0s - loss: 0.0423 - accuracy: 1.0000 - val_loss: 0.0403 - val_accuracy: 1.0000 - 58ms/epoch - 6ms/step\n",
      "Epoch 147/300\n",
      "9/9 - 0s - loss: 0.0421 - accuracy: 1.0000 - val_loss: 0.0396 - val_accuracy: 1.0000 - 75ms/epoch - 8ms/step\n",
      "Epoch 148/300\n",
      "9/9 - 0s - loss: 0.0390 - accuracy: 1.0000 - val_loss: 0.0379 - val_accuracy: 1.0000 - 68ms/epoch - 8ms/step\n",
      "Epoch 149/300\n",
      "9/9 - 0s - loss: 0.0387 - accuracy: 1.0000 - val_loss: 0.0374 - val_accuracy: 1.0000 - 69ms/epoch - 8ms/step\n",
      "Epoch 150/300\n",
      "9/9 - 0s - loss: 0.0369 - accuracy: 1.0000 - val_loss: 0.0361 - val_accuracy: 1.0000 - 56ms/epoch - 6ms/step\n",
      "Epoch 151/300\n",
      "9/9 - 0s - loss: 0.0363 - accuracy: 1.0000 - val_loss: 0.0351 - val_accuracy: 1.0000 - 52ms/epoch - 6ms/step\n",
      "Epoch 152/300\n",
      "9/9 - 0s - loss: 0.0356 - accuracy: 1.0000 - val_loss: 0.0349 - val_accuracy: 1.0000 - 56ms/epoch - 6ms/step\n",
      "Epoch 153/300\n",
      "9/9 - 0s - loss: 0.0341 - accuracy: 1.0000 - val_loss: 0.0338 - val_accuracy: 1.0000 - 55ms/epoch - 6ms/step\n",
      "Epoch 154/300\n",
      "9/9 - 0s - loss: 0.0338 - accuracy: 1.0000 - val_loss: 0.0331 - val_accuracy: 1.0000 - 55ms/epoch - 6ms/step\n",
      "Epoch 155/300\n",
      "9/9 - 0s - loss: 0.0341 - accuracy: 1.0000 - val_loss: 0.0333 - val_accuracy: 1.0000 - 54ms/epoch - 6ms/step\n",
      "Epoch 156/300\n",
      "9/9 - 0s - loss: 0.0328 - accuracy: 1.0000 - val_loss: 0.0315 - val_accuracy: 1.0000 - 56ms/epoch - 6ms/step\n",
      "Epoch 157/300\n",
      "9/9 - 0s - loss: 0.0311 - accuracy: 1.0000 - val_loss: 0.0301 - val_accuracy: 1.0000 - 50ms/epoch - 6ms/step\n",
      "Epoch 158/300\n",
      "9/9 - 0s - loss: 0.0305 - accuracy: 1.0000 - val_loss: 0.0295 - val_accuracy: 1.0000 - 52ms/epoch - 6ms/step\n",
      "Epoch 159/300\n",
      "9/9 - 0s - loss: 0.0299 - accuracy: 1.0000 - val_loss: 0.0290 - val_accuracy: 1.0000 - 58ms/epoch - 6ms/step\n",
      "Epoch 160/300\n",
      "9/9 - 0s - loss: 0.0294 - accuracy: 1.0000 - val_loss: 0.0279 - val_accuracy: 1.0000 - 56ms/epoch - 6ms/step\n",
      "Epoch 161/300\n",
      "9/9 - 0s - loss: 0.0281 - accuracy: 1.0000 - val_loss: 0.0275 - val_accuracy: 1.0000 - 56ms/epoch - 6ms/step\n",
      "Epoch 162/300\n",
      "9/9 - 0s - loss: 0.0274 - accuracy: 1.0000 - val_loss: 0.0268 - val_accuracy: 1.0000 - 56ms/epoch - 6ms/step\n",
      "Epoch 163/300\n",
      "9/9 - 0s - loss: 0.0265 - accuracy: 1.0000 - val_loss: 0.0260 - val_accuracy: 1.0000 - 54ms/epoch - 6ms/step\n",
      "Epoch 164/300\n",
      "9/9 - 0s - loss: 0.0260 - accuracy: 1.0000 - val_loss: 0.0254 - val_accuracy: 1.0000 - 55ms/epoch - 6ms/step\n",
      "Epoch 165/300\n",
      "9/9 - 0s - loss: 0.0254 - accuracy: 1.0000 - val_loss: 0.0248 - val_accuracy: 1.0000 - 60ms/epoch - 7ms/step\n",
      "Epoch 166/300\n",
      "9/9 - 0s - loss: 0.0251 - accuracy: 1.0000 - val_loss: 0.0242 - val_accuracy: 1.0000 - 62ms/epoch - 7ms/step\n",
      "Epoch 167/300\n",
      "9/9 - 0s - loss: 0.0241 - accuracy: 1.0000 - val_loss: 0.0237 - val_accuracy: 1.0000 - 57ms/epoch - 6ms/step\n",
      "Epoch 168/300\n",
      "9/9 - 0s - loss: 0.0240 - accuracy: 1.0000 - val_loss: 0.0232 - val_accuracy: 1.0000 - 55ms/epoch - 6ms/step\n",
      "Epoch 169/300\n",
      "9/9 - 0s - loss: 0.0231 - accuracy: 1.0000 - val_loss: 0.0226 - val_accuracy: 1.0000 - 57ms/epoch - 6ms/step\n",
      "Epoch 170/300\n",
      "9/9 - 0s - loss: 0.0225 - accuracy: 1.0000 - val_loss: 0.0221 - val_accuracy: 1.0000 - 56ms/epoch - 6ms/step\n",
      "Epoch 171/300\n",
      "9/9 - 0s - loss: 0.0220 - accuracy: 1.0000 - val_loss: 0.0215 - val_accuracy: 1.0000 - 52ms/epoch - 6ms/step\n",
      "Epoch 172/300\n",
      "9/9 - 0s - loss: 0.0218 - accuracy: 1.0000 - val_loss: 0.0211 - val_accuracy: 1.0000 - 54ms/epoch - 6ms/step\n",
      "Epoch 173/300\n",
      "9/9 - 0s - loss: 0.0214 - accuracy: 1.0000 - val_loss: 0.0206 - val_accuracy: 1.0000 - 55ms/epoch - 6ms/step\n",
      "Epoch 174/300\n",
      "9/9 - 0s - loss: 0.0207 - accuracy: 1.0000 - val_loss: 0.0202 - val_accuracy: 1.0000 - 54ms/epoch - 6ms/step\n",
      "Epoch 175/300\n",
      "9/9 - 0s - loss: 0.0203 - accuracy: 1.0000 - val_loss: 0.0197 - val_accuracy: 1.0000 - 53ms/epoch - 6ms/step\n",
      "Epoch 176/300\n",
      "9/9 - 0s - loss: 0.0195 - accuracy: 1.0000 - val_loss: 0.0195 - val_accuracy: 1.0000 - 53ms/epoch - 6ms/step\n",
      "Epoch 177/300\n",
      "9/9 - 0s - loss: 0.0195 - accuracy: 1.0000 - val_loss: 0.0190 - val_accuracy: 1.0000 - 52ms/epoch - 6ms/step\n",
      "Epoch 178/300\n",
      "9/9 - 0s - loss: 0.0192 - accuracy: 1.0000 - val_loss: 0.0185 - val_accuracy: 1.0000 - 56ms/epoch - 6ms/step\n",
      "Epoch 179/300\n",
      "9/9 - 0s - loss: 0.0190 - accuracy: 1.0000 - val_loss: 0.0181 - val_accuracy: 1.0000 - 62ms/epoch - 7ms/step\n",
      "Epoch 180/300\n",
      "9/9 - 0s - loss: 0.0187 - accuracy: 1.0000 - val_loss: 0.0178 - val_accuracy: 1.0000 - 54ms/epoch - 6ms/step\n",
      "Epoch 181/300\n",
      "9/9 - 0s - loss: 0.0177 - accuracy: 1.0000 - val_loss: 0.0173 - val_accuracy: 1.0000 - 55ms/epoch - 6ms/step\n",
      "Epoch 182/300\n",
      "9/9 - 0s - loss: 0.0175 - accuracy: 1.0000 - val_loss: 0.0170 - val_accuracy: 1.0000 - 53ms/epoch - 6ms/step\n",
      "Epoch 183/300\n",
      "9/9 - 0s - loss: 0.0171 - accuracy: 1.0000 - val_loss: 0.0167 - val_accuracy: 1.0000 - 55ms/epoch - 6ms/step\n",
      "Epoch 184/300\n",
      "9/9 - 0s - loss: 0.0169 - accuracy: 1.0000 - val_loss: 0.0163 - val_accuracy: 1.0000 - 56ms/epoch - 6ms/step\n",
      "Epoch 185/300\n",
      "9/9 - 0s - loss: 0.0166 - accuracy: 1.0000 - val_loss: 0.0160 - val_accuracy: 1.0000 - 61ms/epoch - 7ms/step\n",
      "Epoch 186/300\n",
      "9/9 - 0s - loss: 0.0159 - accuracy: 1.0000 - val_loss: 0.0156 - val_accuracy: 1.0000 - 58ms/epoch - 6ms/step\n",
      "Epoch 187/300\n",
      "9/9 - 0s - loss: 0.0160 - accuracy: 1.0000 - val_loss: 0.0154 - val_accuracy: 1.0000 - 57ms/epoch - 6ms/step\n",
      "Epoch 188/300\n",
      "9/9 - 0s - loss: 0.0154 - accuracy: 1.0000 - val_loss: 0.0151 - val_accuracy: 1.0000 - 58ms/epoch - 6ms/step\n",
      "Epoch 189/300\n",
      "9/9 - 0s - loss: 0.0151 - accuracy: 1.0000 - val_loss: 0.0147 - val_accuracy: 1.0000 - 56ms/epoch - 6ms/step\n",
      "Epoch 190/300\n",
      "9/9 - 0s - loss: 0.0148 - accuracy: 1.0000 - val_loss: 0.0145 - val_accuracy: 1.0000 - 58ms/epoch - 6ms/step\n",
      "Epoch 191/300\n",
      "9/9 - 0s - loss: 0.0145 - accuracy: 1.0000 - val_loss: 0.0142 - val_accuracy: 1.0000 - 54ms/epoch - 6ms/step\n",
      "Epoch 192/300\n",
      "9/9 - 0s - loss: 0.0144 - accuracy: 1.0000 - val_loss: 0.0139 - val_accuracy: 1.0000 - 54ms/epoch - 6ms/step\n",
      "Epoch 193/300\n",
      "9/9 - 0s - loss: 0.0139 - accuracy: 1.0000 - val_loss: 0.0137 - val_accuracy: 1.0000 - 57ms/epoch - 6ms/step\n",
      "Epoch 194/300\n",
      "9/9 - 0s - loss: 0.0138 - accuracy: 1.0000 - val_loss: 0.0135 - val_accuracy: 1.0000 - 55ms/epoch - 6ms/step\n",
      "Epoch 195/300\n",
      "9/9 - 0s - loss: 0.0134 - accuracy: 1.0000 - val_loss: 0.0132 - val_accuracy: 1.0000 - 55ms/epoch - 6ms/step\n",
      "Epoch 196/300\n",
      "9/9 - 0s - loss: 0.0131 - accuracy: 1.0000 - val_loss: 0.0129 - val_accuracy: 1.0000 - 51ms/epoch - 6ms/step\n",
      "Epoch 197/300\n",
      "9/9 - 0s - loss: 0.0129 - accuracy: 1.0000 - val_loss: 0.0127 - val_accuracy: 1.0000 - 56ms/epoch - 6ms/step\n",
      "Epoch 198/300\n",
      "9/9 - 0s - loss: 0.0128 - accuracy: 1.0000 - val_loss: 0.0125 - val_accuracy: 1.0000 - 57ms/epoch - 6ms/step\n",
      "Epoch 199/300\n",
      "9/9 - 0s - loss: 0.0127 - accuracy: 1.0000 - val_loss: 0.0123 - val_accuracy: 1.0000 - 60ms/epoch - 7ms/step\n",
      "Epoch 200/300\n",
      "9/9 - 0s - loss: 0.0123 - accuracy: 1.0000 - val_loss: 0.0120 - val_accuracy: 1.0000 - 57ms/epoch - 6ms/step\n",
      "Epoch 201/300\n",
      "9/9 - 0s - loss: 0.0121 - accuracy: 1.0000 - val_loss: 0.0119 - val_accuracy: 1.0000 - 58ms/epoch - 6ms/step\n",
      "Epoch 202/300\n",
      "9/9 - 0s - loss: 0.0118 - accuracy: 1.0000 - val_loss: 0.0116 - val_accuracy: 1.0000 - 58ms/epoch - 6ms/step\n"
     ]
    },
    {
     "name": "stdout",
     "output_type": "stream",
     "text": [
      "Epoch 203/300\n",
      "9/9 - 0s - loss: 0.0118 - accuracy: 1.0000 - val_loss: 0.0114 - val_accuracy: 1.0000 - 58ms/epoch - 6ms/step\n",
      "Epoch 204/300\n",
      "9/9 - 0s - loss: 0.0113 - accuracy: 1.0000 - val_loss: 0.0113 - val_accuracy: 1.0000 - 60ms/epoch - 7ms/step\n",
      "Epoch 205/300\n",
      "9/9 - 0s - loss: 0.0112 - accuracy: 1.0000 - val_loss: 0.0110 - val_accuracy: 1.0000 - 61ms/epoch - 7ms/step\n",
      "Epoch 206/300\n",
      "9/9 - 0s - loss: 0.0112 - accuracy: 1.0000 - val_loss: 0.0108 - val_accuracy: 1.0000 - 57ms/epoch - 6ms/step\n",
      "Epoch 207/300\n",
      "9/9 - 0s - loss: 0.0108 - accuracy: 1.0000 - val_loss: 0.0106 - val_accuracy: 1.0000 - 65ms/epoch - 7ms/step\n",
      "Epoch 208/300\n",
      "9/9 - 0s - loss: 0.0107 - accuracy: 1.0000 - val_loss: 0.0105 - val_accuracy: 1.0000 - 57ms/epoch - 6ms/step\n",
      "Epoch 209/300\n",
      "9/9 - 0s - loss: 0.0105 - accuracy: 1.0000 - val_loss: 0.0103 - val_accuracy: 1.0000 - 58ms/epoch - 6ms/step\n",
      "Epoch 210/300\n",
      "9/9 - 0s - loss: 0.0102 - accuracy: 1.0000 - val_loss: 0.0101 - val_accuracy: 1.0000 - 55ms/epoch - 6ms/step\n",
      "Epoch 211/300\n",
      "9/9 - 0s - loss: 0.0101 - accuracy: 1.0000 - val_loss: 0.0099 - val_accuracy: 1.0000 - 53ms/epoch - 6ms/step\n",
      "Epoch 212/300\n",
      "9/9 - 0s - loss: 0.0099 - accuracy: 1.0000 - val_loss: 0.0097 - val_accuracy: 1.0000 - 55ms/epoch - 6ms/step\n",
      "Epoch 213/300\n",
      "9/9 - 0s - loss: 0.0097 - accuracy: 1.0000 - val_loss: 0.0096 - val_accuracy: 1.0000 - 61ms/epoch - 7ms/step\n",
      "Epoch 214/300\n",
      "9/9 - 0s - loss: 0.0097 - accuracy: 1.0000 - val_loss: 0.0094 - val_accuracy: 1.0000 - 59ms/epoch - 7ms/step\n",
      "Epoch 215/300\n",
      "9/9 - 0s - loss: 0.0095 - accuracy: 1.0000 - val_loss: 0.0093 - val_accuracy: 1.0000 - 59ms/epoch - 7ms/step\n",
      "Epoch 216/300\n",
      "9/9 - 0s - loss: 0.0094 - accuracy: 1.0000 - val_loss: 0.0091 - val_accuracy: 1.0000 - 58ms/epoch - 6ms/step\n",
      "Epoch 217/300\n",
      "9/9 - 0s - loss: 0.0092 - accuracy: 1.0000 - val_loss: 0.0090 - val_accuracy: 1.0000 - 57ms/epoch - 6ms/step\n",
      "Epoch 218/300\n",
      "9/9 - 0s - loss: 0.0090 - accuracy: 1.0000 - val_loss: 0.0089 - val_accuracy: 1.0000 - 59ms/epoch - 7ms/step\n",
      "Epoch 219/300\n",
      "9/9 - 0s - loss: 0.0088 - accuracy: 1.0000 - val_loss: 0.0087 - val_accuracy: 1.0000 - 58ms/epoch - 6ms/step\n",
      "Epoch 220/300\n",
      "9/9 - 0s - loss: 0.0088 - accuracy: 1.0000 - val_loss: 0.0086 - val_accuracy: 1.0000 - 59ms/epoch - 7ms/step\n",
      "Epoch 221/300\n",
      "9/9 - 0s - loss: 0.0087 - accuracy: 1.0000 - val_loss: 0.0084 - val_accuracy: 1.0000 - 59ms/epoch - 7ms/step\n",
      "Epoch 222/300\n",
      "9/9 - 0s - loss: 0.0085 - accuracy: 1.0000 - val_loss: 0.0084 - val_accuracy: 1.0000 - 59ms/epoch - 7ms/step\n",
      "Epoch 223/300\n",
      "9/9 - 0s - loss: 0.0084 - accuracy: 1.0000 - val_loss: 0.0082 - val_accuracy: 1.0000 - 58ms/epoch - 6ms/step\n",
      "Epoch 224/300\n",
      "9/9 - 0s - loss: 0.0082 - accuracy: 1.0000 - val_loss: 0.0080 - val_accuracy: 1.0000 - 57ms/epoch - 6ms/step\n",
      "Epoch 225/300\n",
      "9/9 - 0s - loss: 0.0080 - accuracy: 1.0000 - val_loss: 0.0079 - val_accuracy: 1.0000 - 58ms/epoch - 6ms/step\n",
      "Epoch 226/300\n",
      "9/9 - 0s - loss: 0.0079 - accuracy: 1.0000 - val_loss: 0.0078 - val_accuracy: 1.0000 - 59ms/epoch - 7ms/step\n",
      "Epoch 227/300\n",
      "9/9 - 0s - loss: 0.0078 - accuracy: 1.0000 - val_loss: 0.0077 - val_accuracy: 1.0000 - 59ms/epoch - 7ms/step\n",
      "Epoch 228/300\n",
      "9/9 - 0s - loss: 0.0077 - accuracy: 1.0000 - val_loss: 0.0076 - val_accuracy: 1.0000 - 64ms/epoch - 7ms/step\n",
      "Epoch 229/300\n",
      "9/9 - 0s - loss: 0.0076 - accuracy: 1.0000 - val_loss: 0.0075 - val_accuracy: 1.0000 - 66ms/epoch - 7ms/step\n",
      "Epoch 230/300\n",
      "9/9 - 0s - loss: 0.0075 - accuracy: 1.0000 - val_loss: 0.0073 - val_accuracy: 1.0000 - 55ms/epoch - 6ms/step\n",
      "Epoch 231/300\n",
      "9/9 - 0s - loss: 0.0073 - accuracy: 1.0000 - val_loss: 0.0072 - val_accuracy: 1.0000 - 55ms/epoch - 6ms/step\n",
      "Epoch 232/300\n",
      "9/9 - 0s - loss: 0.0072 - accuracy: 1.0000 - val_loss: 0.0071 - val_accuracy: 1.0000 - 54ms/epoch - 6ms/step\n",
      "Epoch 233/300\n",
      "9/9 - 0s - loss: 0.0071 - accuracy: 1.0000 - val_loss: 0.0070 - val_accuracy: 1.0000 - 55ms/epoch - 6ms/step\n",
      "Epoch 234/300\n",
      "9/9 - 0s - loss: 0.0071 - accuracy: 1.0000 - val_loss: 0.0069 - val_accuracy: 1.0000 - 53ms/epoch - 6ms/step\n",
      "Epoch 235/300\n",
      "9/9 - 0s - loss: 0.0069 - accuracy: 1.0000 - val_loss: 0.0068 - val_accuracy: 1.0000 - 53ms/epoch - 6ms/step\n",
      "Epoch 236/300\n",
      "9/9 - 0s - loss: 0.0068 - accuracy: 1.0000 - val_loss: 0.0067 - val_accuracy: 1.0000 - 56ms/epoch - 6ms/step\n",
      "Epoch 237/300\n",
      "9/9 - 0s - loss: 0.0067 - accuracy: 1.0000 - val_loss: 0.0066 - val_accuracy: 1.0000 - 55ms/epoch - 6ms/step\n",
      "Epoch 238/300\n",
      "9/9 - 0s - loss: 0.0066 - accuracy: 1.0000 - val_loss: 0.0065 - val_accuracy: 1.0000 - 54ms/epoch - 6ms/step\n",
      "Epoch 239/300\n",
      "9/9 - 0s - loss: 0.0065 - accuracy: 1.0000 - val_loss: 0.0064 - val_accuracy: 1.0000 - 50ms/epoch - 6ms/step\n",
      "Epoch 240/300\n",
      "9/9 - 0s - loss: 0.0065 - accuracy: 1.0000 - val_loss: 0.0063 - val_accuracy: 1.0000 - 49ms/epoch - 5ms/step\n",
      "Epoch 241/300\n",
      "9/9 - 0s - loss: 0.0064 - accuracy: 1.0000 - val_loss: 0.0063 - val_accuracy: 1.0000 - 50ms/epoch - 6ms/step\n",
      "Epoch 242/300\n",
      "9/9 - 0s - loss: 0.0063 - accuracy: 1.0000 - val_loss: 0.0062 - val_accuracy: 1.0000 - 54ms/epoch - 6ms/step\n",
      "Epoch 243/300\n",
      "9/9 - 0s - loss: 0.0062 - accuracy: 1.0000 - val_loss: 0.0061 - val_accuracy: 1.0000 - 54ms/epoch - 6ms/step\n",
      "Epoch 244/300\n",
      "9/9 - 0s - loss: 0.0061 - accuracy: 1.0000 - val_loss: 0.0060 - val_accuracy: 1.0000 - 56ms/epoch - 6ms/step\n",
      "Epoch 245/300\n",
      "9/9 - 0s - loss: 0.0060 - accuracy: 1.0000 - val_loss: 0.0059 - val_accuracy: 1.0000 - 52ms/epoch - 6ms/step\n",
      "Epoch 246/300\n",
      "9/9 - 0s - loss: 0.0059 - accuracy: 1.0000 - val_loss: 0.0058 - val_accuracy: 1.0000 - 49ms/epoch - 5ms/step\n",
      "Epoch 247/300\n",
      "9/9 - 0s - loss: 0.0058 - accuracy: 1.0000 - val_loss: 0.0058 - val_accuracy: 1.0000 - 52ms/epoch - 6ms/step\n",
      "Epoch 248/300\n",
      "9/9 - 0s - loss: 0.0058 - accuracy: 1.0000 - val_loss: 0.0057 - val_accuracy: 1.0000 - 52ms/epoch - 6ms/step\n",
      "Epoch 249/300\n",
      "9/9 - 0s - loss: 0.0057 - accuracy: 1.0000 - val_loss: 0.0056 - val_accuracy: 1.0000 - 53ms/epoch - 6ms/step\n",
      "Epoch 250/300\n",
      "9/9 - 0s - loss: 0.0056 - accuracy: 1.0000 - val_loss: 0.0055 - val_accuracy: 1.0000 - 78ms/epoch - 9ms/step\n",
      "Epoch 251/300\n",
      "9/9 - 0s - loss: 0.0056 - accuracy: 1.0000 - val_loss: 0.0054 - val_accuracy: 1.0000 - 63ms/epoch - 7ms/step\n",
      "Epoch 252/300\n",
      "9/9 - 0s - loss: 0.0054 - accuracy: 1.0000 - val_loss: 0.0054 - val_accuracy: 1.0000 - 61ms/epoch - 7ms/step\n",
      "Epoch 253/300\n",
      "9/9 - 0s - loss: 0.0054 - accuracy: 1.0000 - val_loss: 0.0053 - val_accuracy: 1.0000 - 57ms/epoch - 6ms/step\n",
      "Epoch 254/300\n",
      "9/9 - 0s - loss: 0.0053 - accuracy: 1.0000 - val_loss: 0.0052 - val_accuracy: 1.0000 - 56ms/epoch - 6ms/step\n",
      "Epoch 255/300\n",
      "9/9 - 0s - loss: 0.0052 - accuracy: 1.0000 - val_loss: 0.0052 - val_accuracy: 1.0000 - 53ms/epoch - 6ms/step\n",
      "Epoch 256/300\n",
      "9/9 - 0s - loss: 0.0052 - accuracy: 1.0000 - val_loss: 0.0051 - val_accuracy: 1.0000 - 50ms/epoch - 6ms/step\n",
      "Epoch 257/300\n",
      "9/9 - 0s - loss: 0.0051 - accuracy: 1.0000 - val_loss: 0.0050 - val_accuracy: 1.0000 - 54ms/epoch - 6ms/step\n",
      "Epoch 258/300\n",
      "9/9 - 0s - loss: 0.0050 - accuracy: 1.0000 - val_loss: 0.0050 - val_accuracy: 1.0000 - 51ms/epoch - 6ms/step\n",
      "Epoch 259/300\n",
      "9/9 - 0s - loss: 0.0050 - accuracy: 1.0000 - val_loss: 0.0049 - val_accuracy: 1.0000 - 51ms/epoch - 6ms/step\n",
      "Epoch 260/300\n",
      "9/9 - 0s - loss: 0.0049 - accuracy: 1.0000 - val_loss: 0.0048 - val_accuracy: 1.0000 - 54ms/epoch - 6ms/step\n",
      "Epoch 261/300\n",
      "9/9 - 0s - loss: 0.0049 - accuracy: 1.0000 - val_loss: 0.0048 - val_accuracy: 1.0000 - 56ms/epoch - 6ms/step\n",
      "Epoch 262/300\n",
      "9/9 - 0s - loss: 0.0048 - accuracy: 1.0000 - val_loss: 0.0047 - val_accuracy: 1.0000 - 57ms/epoch - 6ms/step\n",
      "Epoch 263/300\n",
      "9/9 - 0s - loss: 0.0047 - accuracy: 1.0000 - val_loss: 0.0047 - val_accuracy: 1.0000 - 57ms/epoch - 6ms/step\n",
      "Epoch 264/300\n",
      "9/9 - 0s - loss: 0.0047 - accuracy: 1.0000 - val_loss: 0.0046 - val_accuracy: 1.0000 - 55ms/epoch - 6ms/step\n",
      "Epoch 265/300\n",
      "9/9 - 0s - loss: 0.0046 - accuracy: 1.0000 - val_loss: 0.0045 - val_accuracy: 1.0000 - 56ms/epoch - 6ms/step\n",
      "Epoch 266/300\n",
      "9/9 - 0s - loss: 0.0046 - accuracy: 1.0000 - val_loss: 0.0045 - val_accuracy: 1.0000 - 52ms/epoch - 6ms/step\n",
      "Epoch 267/300\n",
      "9/9 - 0s - loss: 0.0045 - accuracy: 1.0000 - val_loss: 0.0044 - val_accuracy: 1.0000 - 56ms/epoch - 6ms/step\n",
      "Epoch 268/300\n",
      "9/9 - 0s - loss: 0.0044 - accuracy: 1.0000 - val_loss: 0.0044 - val_accuracy: 1.0000 - 56ms/epoch - 6ms/step\n",
      "Epoch 269/300\n",
      "9/9 - 0s - loss: 0.0044 - accuracy: 1.0000 - val_loss: 0.0043 - val_accuracy: 1.0000 - 57ms/epoch - 6ms/step\n"
     ]
    },
    {
     "name": "stdout",
     "output_type": "stream",
     "text": [
      "Epoch 270/300\n",
      "9/9 - 0s - loss: 0.0043 - accuracy: 1.0000 - val_loss: 0.0043 - val_accuracy: 1.0000 - 56ms/epoch - 6ms/step\n",
      "Epoch 271/300\n",
      "9/9 - 0s - loss: 0.0043 - accuracy: 1.0000 - val_loss: 0.0042 - val_accuracy: 1.0000 - 56ms/epoch - 6ms/step\n",
      "Epoch 272/300\n",
      "9/9 - 0s - loss: 0.0042 - accuracy: 1.0000 - val_loss: 0.0042 - val_accuracy: 1.0000 - 57ms/epoch - 6ms/step\n",
      "Epoch 273/300\n",
      "9/9 - 0s - loss: 0.0042 - accuracy: 1.0000 - val_loss: 0.0041 - val_accuracy: 1.0000 - 55ms/epoch - 6ms/step\n",
      "Epoch 274/300\n",
      "9/9 - 0s - loss: 0.0041 - accuracy: 1.0000 - val_loss: 0.0041 - val_accuracy: 1.0000 - 57ms/epoch - 6ms/step\n",
      "Epoch 275/300\n",
      "9/9 - 0s - loss: 0.0041 - accuracy: 1.0000 - val_loss: 0.0040 - val_accuracy: 1.0000 - 55ms/epoch - 6ms/step\n",
      "Epoch 276/300\n",
      "9/9 - 0s - loss: 0.0040 - accuracy: 1.0000 - val_loss: 0.0040 - val_accuracy: 1.0000 - 53ms/epoch - 6ms/step\n",
      "Epoch 277/300\n",
      "9/9 - 0s - loss: 0.0040 - accuracy: 1.0000 - val_loss: 0.0039 - val_accuracy: 1.0000 - 55ms/epoch - 6ms/step\n",
      "Epoch 278/300\n",
      "9/9 - 0s - loss: 0.0039 - accuracy: 1.0000 - val_loss: 0.0039 - val_accuracy: 1.0000 - 56ms/epoch - 6ms/step\n",
      "Epoch 279/300\n",
      "9/9 - 0s - loss: 0.0039 - accuracy: 1.0000 - val_loss: 0.0038 - val_accuracy: 1.0000 - 55ms/epoch - 6ms/step\n",
      "Epoch 280/300\n",
      "9/9 - 0s - loss: 0.0038 - accuracy: 1.0000 - val_loss: 0.0038 - val_accuracy: 1.0000 - 53ms/epoch - 6ms/step\n",
      "Epoch 281/300\n",
      "9/9 - 0s - loss: 0.0038 - accuracy: 1.0000 - val_loss: 0.0037 - val_accuracy: 1.0000 - 57ms/epoch - 6ms/step\n",
      "Epoch 282/300\n",
      "9/9 - 0s - loss: 0.0037 - accuracy: 1.0000 - val_loss: 0.0037 - val_accuracy: 1.0000 - 56ms/epoch - 6ms/step\n",
      "Epoch 283/300\n",
      "9/9 - 0s - loss: 0.0037 - accuracy: 1.0000 - val_loss: 0.0037 - val_accuracy: 1.0000 - 55ms/epoch - 6ms/step\n",
      "Epoch 284/300\n",
      "9/9 - 0s - loss: 0.0037 - accuracy: 1.0000 - val_loss: 0.0036 - val_accuracy: 1.0000 - 58ms/epoch - 6ms/step\n",
      "Epoch 285/300\n",
      "9/9 - 0s - loss: 0.0036 - accuracy: 1.0000 - val_loss: 0.0036 - val_accuracy: 1.0000 - 55ms/epoch - 6ms/step\n",
      "Epoch 286/300\n",
      "9/9 - 0s - loss: 0.0036 - accuracy: 1.0000 - val_loss: 0.0035 - val_accuracy: 1.0000 - 57ms/epoch - 6ms/step\n",
      "Epoch 287/300\n",
      "9/9 - 0s - loss: 0.0035 - accuracy: 1.0000 - val_loss: 0.0035 - val_accuracy: 1.0000 - 57ms/epoch - 6ms/step\n",
      "Epoch 288/300\n",
      "9/9 - 0s - loss: 0.0035 - accuracy: 1.0000 - val_loss: 0.0035 - val_accuracy: 1.0000 - 55ms/epoch - 6ms/step\n",
      "Epoch 289/300\n",
      "9/9 - 0s - loss: 0.0035 - accuracy: 1.0000 - val_loss: 0.0034 - val_accuracy: 1.0000 - 57ms/epoch - 6ms/step\n",
      "Epoch 290/300\n",
      "9/9 - 0s - loss: 0.0034 - accuracy: 1.0000 - val_loss: 0.0034 - val_accuracy: 1.0000 - 61ms/epoch - 7ms/step\n",
      "Epoch 291/300\n",
      "9/9 - 0s - loss: 0.0034 - accuracy: 1.0000 - val_loss: 0.0033 - val_accuracy: 1.0000 - 62ms/epoch - 7ms/step\n",
      "Epoch 292/300\n",
      "9/9 - 0s - loss: 0.0033 - accuracy: 1.0000 - val_loss: 0.0033 - val_accuracy: 1.0000 - 60ms/epoch - 7ms/step\n",
      "Epoch 293/300\n",
      "9/9 - 0s - loss: 0.0033 - accuracy: 1.0000 - val_loss: 0.0033 - val_accuracy: 1.0000 - 55ms/epoch - 6ms/step\n",
      "Epoch 294/300\n",
      "9/9 - 0s - loss: 0.0033 - accuracy: 1.0000 - val_loss: 0.0032 - val_accuracy: 1.0000 - 53ms/epoch - 6ms/step\n",
      "Epoch 295/300\n",
      "9/9 - 0s - loss: 0.0032 - accuracy: 1.0000 - val_loss: 0.0032 - val_accuracy: 1.0000 - 58ms/epoch - 6ms/step\n",
      "Epoch 296/300\n",
      "9/9 - 0s - loss: 0.0032 - accuracy: 1.0000 - val_loss: 0.0031 - val_accuracy: 1.0000 - 79ms/epoch - 9ms/step\n",
      "Epoch 297/300\n",
      "9/9 - 0s - loss: 0.0032 - accuracy: 1.0000 - val_loss: 0.0031 - val_accuracy: 1.0000 - 67ms/epoch - 7ms/step\n",
      "Epoch 298/300\n",
      "9/9 - 0s - loss: 0.0031 - accuracy: 1.0000 - val_loss: 0.0031 - val_accuracy: 1.0000 - 74ms/epoch - 8ms/step\n",
      "Epoch 299/300\n",
      "9/9 - 0s - loss: 0.0031 - accuracy: 1.0000 - val_loss: 0.0031 - val_accuracy: 1.0000 - 72ms/epoch - 8ms/step\n",
      "Epoch 300/300\n",
      "9/9 - 0s - loss: 0.0031 - accuracy: 1.0000 - val_loss: 0.0030 - val_accuracy: 1.0000 - 55ms/epoch - 6ms/step\n"
     ]
    }
   ],
   "source": [
    "hist = model.fit(X_train, Y_train, # 훈련 (학습)데이터\n",
    "                epochs=300, # 학습 횟수\n",
    "                batch_size=10, # 가중치를 조정하는 단위\n",
    "                verbose=2, # 0: 출력없음. 1: 진행상황만출력, 2: 에포크별로그 메세지 보여짐\n",
    "                validation_data=(X_val, Y_val) # 검증 데이터셋\n",
    "                )"
   ]
  },
  {
   "cell_type": "markdown",
   "id": "09e8c68b",
   "metadata": {},
   "source": [
    "# 6.모델과정 평가하기\n",
    "- 학습과정 중 loss와 평가지표(accuracy)살펴보기, evalate함수"
   ]
  },
  {
   "cell_type": "code",
   "execution_count": 32,
   "id": "9a68ffd6",
   "metadata": {},
   "outputs": [
    {
     "data": {
      "text/plain": [
       "dict_keys(['loss', 'accuracy', 'val_loss', 'val_accuracy'])"
      ]
     },
     "execution_count": 32,
     "metadata": {},
     "output_type": "execute_result"
    }
   ],
   "source": [
    "hist.history.keys()"
   ]
  },
  {
   "cell_type": "code",
   "execution_count": 54,
   "id": "00e92ff7",
   "metadata": {},
   "outputs": [
    {
     "data": {
      "image/png": "[encoded data removed]",
      "text/plain": [
       "<Figure size 1000x500 with 2 Axes>"
      ]
     },
     "metadata": {},
     "output_type": "display_data"
    }
   ],
   "source": [
    "# 학습과정 중의 loss와 accuracy\n",
    "import matplotlib.pyplot as plt\n",
    "fig, loss_ax = plt.subplots(figsize=(10,5))\n",
    "loss_ax.plot(hist.history['loss'], 'y', label='train loss')\n",
    "loss_ax.plot(hist.history['val_loss'], 'r--', label='val loss')\n",
    "acc_ax = loss_ax.twinx() # loss_ax 와 x축을 공유하는 acc_ax 생성\n",
    "acc_ax.plot(hist.history['accuracy'], 'g', label='train accuracy', marker = '*')\n",
    "acc_ax.plot(hist.history['val_accuracy'], 'b:', label='val accuracy')\n",
    "loss_ax.set_xlabel('epoch')\n",
    "loss_ax.set_ylabel('loss')\n",
    "acc_ax.set_ylabel('accuracy')\n",
    "loss_ax.legend(loc='center')\n",
    "acc_ax.legend(loc='center right')\n",
    "plt.show()"
   ]
  },
  {
   "cell_type": "code",
   "execution_count": 55,
   "id": "56d1aea5",
   "metadata": {},
   "outputs": [
    {
     "name": "stdout",
     "output_type": "stream",
     "text": [
      "3/3 [==============================] - 0s 5ms/step - loss: 0.0030 - accuracy: 1.0000\n"
     ]
    }
   ],
   "source": [
    "# 모델 평가하기\n",
    "score = model.evaluate(X_val, Y_val, batch_size=3)"
   ]
  },
  {
   "cell_type": "code",
   "execution_count": 57,
   "id": "8ced826c",
   "metadata": {},
   "outputs": [
    {
     "data": {
      "text/plain": [
       "[0.0030169060919433832, 1.0]"
      ]
     },
     "execution_count": 57,
     "metadata": {},
     "output_type": "execute_result"
    }
   ],
   "source": [
    "score"
   ]
  },
  {
   "cell_type": "code",
   "execution_count": 58,
   "id": "47060618",
   "metadata": {},
   "outputs": [
    {
     "name": "stdout",
     "output_type": "stream",
     "text": [
      "평가된 loss값 : 0.0030169060919433832\n",
      "평가된 accuracy : 100.0 %\n"
     ]
    }
   ],
   "source": [
    "print('평가된 loss값 :', score[0])\n",
    "print('평가된 accuracy :', score[1]*100, '%')"
   ]
  },
  {
   "cell_type": "markdown",
   "id": "e9c7fb79",
   "metadata": {},
   "source": [
    "# 7. 모델 사용하기(모델을 사용해서 예측하기)"
   ]
  },
  {
   "cell_type": "code",
   "execution_count": 63,
   "id": "562d85c0",
   "metadata": {},
   "outputs": [
    {
     "name": "stdout",
     "output_type": "stream",
     "text": [
      "1/1 [==============================] - 0s 22ms/step\n"
     ]
    },
    {
     "data": {
      "text/plain": [
       "8"
      ]
     },
     "execution_count": 63,
     "metadata": {},
     "output_type": "execute_result"
    }
   ],
   "source": [
    "model.predict(np.array([4])).argmax()"
   ]
  },
  {
   "cell_type": "code",
   "execution_count": 65,
   "id": "862ff7ff",
   "metadata": {},
   "outputs": [
    {
     "ename": "IndexError",
     "evalue": "invalid index to scalar variable.",
     "output_type": "error",
     "traceback": [
      "\u001b[1;31m---------------------------------------------------------------------------\u001b[0m",
      "\u001b[1;31mIndexError\u001b[0m                                Traceback (most recent call last)",
      "Cell \u001b[1;32mIn[65], line 1\u001b[0m\n\u001b[1;32m----> 1\u001b[0m \u001b[43mH\u001b[49m\u001b[43m[\u001b[49m\u001b[38;5;241;43m0\u001b[39;49m\u001b[43m,\u001b[49m\u001b[43m \u001b[49m\u001b[43mH\u001b[49m\u001b[38;5;241;43m.\u001b[39;49m\u001b[43margmax\u001b[49m\u001b[43m(\u001b[49m\u001b[43m)\u001b[49m\u001b[43m]\u001b[49m\n",
      "\u001b[1;31mIndexError\u001b[0m: invalid index to scalar variable."
     ]
    }
   ],
   "source": [
    "H[0, H.argmax()]"
   ]
  },
  {
   "cell_type": "markdown",
   "id": "13ebf5cc",
   "metadata": {},
   "source": [
    "# 7. 모델 저장하기"
   ]
  },
  {
   "cell_type": "code",
   "execution_count": 66,
   "id": "4ebf2e36",
   "metadata": {},
   "outputs": [],
   "source": [
    "model.save('model/2_deep_begin.h5')"
   ]
  },
  {
   "cell_type": "markdown",
   "id": "4e7bdb34",
   "metadata": {},
   "source": [
    "# 저장된 모델 사용하기"
   ]
  },
  {
   "cell_type": "code",
   "execution_count": 3,
   "id": "0aff3675",
   "metadata": {},
   "outputs": [],
   "source": [
    "from tensorflow.keras.models import load_model\n",
    "import numpy as np\n",
    "model2 = load_model('model/2_deep_begin.h5')"
   ]
  },
  {
   "cell_type": "code",
   "execution_count": 4,
   "id": "1a3a812d",
   "metadata": {},
   "outputs": [
    {
     "name": "stdout",
     "output_type": "stream",
     "text": [
      "1/1 [==============================] - 0s 458ms/step\n"
     ]
    },
    {
     "data": {
      "text/plain": [
       "array([[3.0150766e-23, 0.0000000e+00, 6.7708158e-04, 4.1287121e-35,\n",
       "        9.9855453e-01, 8.4469429e-28, 7.6840265e-04, 2.2192669e-35,\n",
       "        1.6937776e-08, 2.4914603e-35, 8.0120760e-17, 3.6738411e-31,\n",
       "        3.1564810e-25, 1.7890242e-33, 3.4084852e-30, 6.6427870e-29,\n",
       "        0.0000000e+00, 0.0000000e+00, 0.0000000e+00]], dtype=float32)"
      ]
     },
     "execution_count": 4,
     "metadata": {},
     "output_type": "execute_result"
    }
   ],
   "source": [
    "H = model2.predict(np.array([2]))\n",
    "H"
   ]
  },
  {
   "cell_type": "code",
   "execution_count": 5,
   "id": "ee9f9963",
   "metadata": {},
   "outputs": [
    {
     "data": {
      "text/plain": [
       "0.9985545"
      ]
     },
     "execution_count": 5,
     "metadata": {},
     "output_type": "execute_result"
    }
   ],
   "source": [
    "H[0, H.argmax()]"
   ]
  },
  {
   "cell_type": "code",
   "execution_count": 6,
   "id": "1cb447a7",
   "metadata": {},
   "outputs": [
    {
     "data": {
      "text/plain": [
       "[0.001, 0.999, 0.001]"
      ]
     },
     "execution_count": 6,
     "metadata": {},
     "output_type": "execute_result"
    }
   ],
   "source": [
    "[round(val, 3) for val in H[0, [2,4,6]]]"
   ]
  },
  {
   "cell_type": "code",
   "execution_count": null,
   "id": "a37a2e43",
   "metadata": {},
   "outputs": [],
   "source": []
  },
  {
   "cell_type": "code",
   "execution_count": null,
   "id": "49186f32",
   "metadata": {},
   "outputs": [],
   "source": []
  },
  {
   "cell_type": "code",
   "execution_count": null,
   "id": "5986ada0",
   "metadata": {},
   "outputs": [],
   "source": []
  },
  {
   "cell_type": "code",
   "execution_count": null,
   "id": "3f74249d",
   "metadata": {},
   "outputs": [],
   "source": []
  },
  {
   "cell_type": "code",
   "execution_count": null,
   "id": "5ac77537",
   "metadata": {},
   "outputs": [],
   "source": []
  },
  {
   "cell_type": "code",
   "execution_count": null,
   "id": "27626ce2",
   "metadata": {},
   "outputs": [],
   "source": []
  },
  {
   "cell_type": "code",
   "execution_count": null,
   "id": "a214e124",
   "metadata": {},
   "outputs": [],
   "source": []
  },
  {
   "cell_type": "code",
   "execution_count": null,
   "id": "e3bc786b",
   "metadata": {},
   "outputs": [],
   "source": []
  },
  {
   "cell_type": "code",
   "execution_count": null,
   "id": "8adaad7e",
   "metadata": {},
   "outputs": [],
   "source": []
  },
  {
   "cell_type": "code",
   "execution_count": null,
   "id": "347a286f",
   "metadata": {},
   "outputs": [],
   "source": []
  },
  {
   "cell_type": "code",
   "execution_count": null,
   "id": "f839349c",
   "metadata": {},
   "outputs": [],
   "source": []
  },
  {
   "cell_type": "code",
   "execution_count": null,
   "id": "7820c163",
   "metadata": {},
   "outputs": [],
   "source": []
  },
  {
   "cell_type": "code",
   "execution_count": null,
   "id": "bcca254e",
   "metadata": {},
   "outputs": [],
   "source": []
  },
  {
   "cell_type": "code",
   "execution_count": null,
   "id": "d59cf411",
   "metadata": {},
   "outputs": [],
   "source": []
  },
  {
   "cell_type": "code",
   "execution_count": null,
   "id": "f76f7353",
   "metadata": {},
   "outputs": [],
   "source": []
  }
 ],
 "metadata": {
  "kernelspec": {
   "display_name": "Python 3 (ipykernel)",
   "language": "python",
   "name": "python3"
  },
  "language_info": {
   "codemirror_mode": {
    "name": "ipython",
    "version": 3
   },
   "file_extension": ".py",
   "mimetype": "text/x-python",
   "name": "python",
   "nbconvert_exporter": "python",
   "pygments_lexer": "ipython3",
   "version": "3.10.9"
  },
  "toc": {
   "base_numbering": 1,
   "nav_menu": {},
   "number_sections": true,
   "sideBar": true,
   "skip_h1_title": false,
   "title_cell": "Table of Contents",
   "title_sidebar": "Contents",
   "toc_cell": false,
   "toc_position": {},
   "toc_section_display": true,
   "toc_window_display": false
  }
 },
 "nbformat": 4,
 "nbformat_minor": 5
}
