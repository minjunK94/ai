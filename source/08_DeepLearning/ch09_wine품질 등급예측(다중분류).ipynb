{
 "cells": [
  {
   "cell_type": "code",
   "execution_count": 1,
   "id": "be51c4e6",
   "metadata": {},
   "outputs": [],
   "source": [
    "import numpy as np\n",
    "import pandas as pd # read_csv, get_dumies(원핫인코딩)\n",
    "import matplotlib.pyplot as plt\n",
    "from sklearn.preprocessing import MinMaxScaler, StandardScaler\n",
    "from sklearn.model_selection import train_test_split # 훈련셋과 시험셋 나누기\n",
    "from tensorflow.keras.models import Sequential\n",
    "from tensorflow.keras.layers import Dense, Input, Dropout\n",
    "from tensorflow.keras.callbacks import EarlyStopping, Callback\n",
    "from tensorflow.keras.activations import relu, softmax \n",
    "from tensorflow.keras import metrics"
   ]
  },
  {
   "cell_type": "markdown",
   "id": "8c91c1af",
   "metadata": {},
   "source": [
    "- Red Wine 품질 등급 예측\n",
    "\n",
    "```\n",
    "1. 데이터 셋 확보 & 전처리\n",
    "    독립변수, 종속변수 분리  -> 독립 변수 (스케일 조정 : MinMaxScaler) , \n",
    "    종속 변수 (원핫인코딩 : get_dummies) 훈련셋과 테스트셋 분리\n",
    "2. 모델 구성 (입력 11,  출력 6) later층 4개\n",
    "3. 모델 학습 과정 설정(다중분류에 맞는 설정)\n",
    "4. 모델 학습 시키기 (callbacks 이용)\n",
    "5. 모델 학습 평가 - 그래프, 평가(테스트셋), 교차표\n",
    "6. 모델 저장 및 모델 사용하기\n",
    "```"
   ]
  },
  {
   "cell_type": "code",
   "execution_count": 2,
   "id": "a0b57f96",
   "metadata": {},
   "outputs": [
    {
     "data": {
      "text/plain": [
       "array([5, 6, 7, 4, 8, 3], dtype=int64)"
      ]
     },
     "execution_count": 2,
     "metadata": {},
     "output_type": "execute_result"
    }
   ],
   "source": [
    "redwine = pd.read_csv('data/winequality-red.csv', sep=';')\n",
    "redwine.quality.unique()"
   ]
  },
  {
   "cell_type": "code",
   "execution_count": 3,
   "id": "3f64c360",
   "metadata": {},
   "outputs": [
    {
     "data": {
      "text/html": [
       "<div>\n",
       "<style scoped>\n",
       "    .dataframe tbody tr th:only-of-type {\n",
       "        vertical-align: middle;\n",
       "    }\n",
       "\n",
       "    .dataframe tbody tr th {\n",
       "        vertical-align: top;\n",
       "    }\n",
       "\n",
       "    .dataframe thead th {\n",
       "        text-align: right;\n",
       "    }\n",
       "</style>\n",
       "<table border=\"1\" class=\"dataframe\">\n",
       "  <thead>\n",
       "    <tr style=\"text-align: right;\">\n",
       "      <th></th>\n",
       "      <th>fixed acidity</th>\n",
       "      <th>volatile acidity</th>\n",
       "      <th>citric acid</th>\n",
       "      <th>residual sugar</th>\n",
       "      <th>chlorides</th>\n",
       "      <th>free sulfur dioxide</th>\n",
       "      <th>total sulfur dioxide</th>\n",
       "      <th>density</th>\n",
       "      <th>pH</th>\n",
       "      <th>sulphates</th>\n",
       "      <th>alcohol</th>\n",
       "      <th>quality</th>\n",
       "    </tr>\n",
       "  </thead>\n",
       "  <tbody>\n",
       "    <tr>\n",
       "      <th>0</th>\n",
       "      <td>7.4</td>\n",
       "      <td>0.70</td>\n",
       "      <td>0.00</td>\n",
       "      <td>1.9</td>\n",
       "      <td>0.076</td>\n",
       "      <td>11.0</td>\n",
       "      <td>34.0</td>\n",
       "      <td>0.9978</td>\n",
       "      <td>3.51</td>\n",
       "      <td>0.56</td>\n",
       "      <td>9.4</td>\n",
       "      <td>5</td>\n",
       "    </tr>\n",
       "    <tr>\n",
       "      <th>1</th>\n",
       "      <td>7.8</td>\n",
       "      <td>0.88</td>\n",
       "      <td>0.00</td>\n",
       "      <td>2.6</td>\n",
       "      <td>0.098</td>\n",
       "      <td>25.0</td>\n",
       "      <td>67.0</td>\n",
       "      <td>0.9968</td>\n",
       "      <td>3.20</td>\n",
       "      <td>0.68</td>\n",
       "      <td>9.8</td>\n",
       "      <td>5</td>\n",
       "    </tr>\n",
       "    <tr>\n",
       "      <th>2</th>\n",
       "      <td>7.8</td>\n",
       "      <td>0.76</td>\n",
       "      <td>0.04</td>\n",
       "      <td>2.3</td>\n",
       "      <td>0.092</td>\n",
       "      <td>15.0</td>\n",
       "      <td>54.0</td>\n",
       "      <td>0.9970</td>\n",
       "      <td>3.26</td>\n",
       "      <td>0.65</td>\n",
       "      <td>9.8</td>\n",
       "      <td>5</td>\n",
       "    </tr>\n",
       "    <tr>\n",
       "      <th>3</th>\n",
       "      <td>11.2</td>\n",
       "      <td>0.28</td>\n",
       "      <td>0.56</td>\n",
       "      <td>1.9</td>\n",
       "      <td>0.075</td>\n",
       "      <td>17.0</td>\n",
       "      <td>60.0</td>\n",
       "      <td>0.9980</td>\n",
       "      <td>3.16</td>\n",
       "      <td>0.58</td>\n",
       "      <td>9.8</td>\n",
       "      <td>6</td>\n",
       "    </tr>\n",
       "    <tr>\n",
       "      <th>4</th>\n",
       "      <td>7.4</td>\n",
       "      <td>0.70</td>\n",
       "      <td>0.00</td>\n",
       "      <td>1.9</td>\n",
       "      <td>0.076</td>\n",
       "      <td>11.0</td>\n",
       "      <td>34.0</td>\n",
       "      <td>0.9978</td>\n",
       "      <td>3.51</td>\n",
       "      <td>0.56</td>\n",
       "      <td>9.4</td>\n",
       "      <td>5</td>\n",
       "    </tr>\n",
       "  </tbody>\n",
       "</table>\n",
       "</div>"
      ],
      "text/plain": [
       "   fixed acidity  volatile acidity  citric acid  residual sugar  chlorides  \\\n",
       "0            7.4              0.70         0.00             1.9      0.076   \n",
       "1            7.8              0.88         0.00             2.6      0.098   \n",
       "2            7.8              0.76         0.04             2.3      0.092   \n",
       "3           11.2              0.28         0.56             1.9      0.075   \n",
       "4            7.4              0.70         0.00             1.9      0.076   \n",
       "\n",
       "   free sulfur dioxide  total sulfur dioxide  density    pH  sulphates  \\\n",
       "0                 11.0                  34.0   0.9978  3.51       0.56   \n",
       "1                 25.0                  67.0   0.9968  3.20       0.68   \n",
       "2                 15.0                  54.0   0.9970  3.26       0.65   \n",
       "3                 17.0                  60.0   0.9980  3.16       0.58   \n",
       "4                 11.0                  34.0   0.9978  3.51       0.56   \n",
       "\n",
       "   alcohol  quality  \n",
       "0      9.4        5  \n",
       "1      9.8        5  \n",
       "2      9.8        5  \n",
       "3      9.8        6  \n",
       "4      9.4        5  "
      ]
     },
     "execution_count": 3,
     "metadata": {},
     "output_type": "execute_result"
    }
   ],
   "source": [
    "redwine.head()"
   ]
  },
  {
   "cell_type": "code",
   "execution_count": 4,
   "id": "aa2bc2a1",
   "metadata": {},
   "outputs": [
    {
     "data": {
      "text/plain": [
       "((1599, 11), (1599,))"
      ]
     },
     "execution_count": 4,
     "metadata": {},
     "output_type": "execute_result"
    }
   ],
   "source": [
    "Input = redwine.iloc[:, :-1]\n",
    "Target = redwine.iloc[:, -1]\n",
    "Input.shape, Target.shape"
   ]
  },
  {
   "cell_type": "code",
   "execution_count": 5,
   "id": "b7101fb0",
   "metadata": {},
   "outputs": [
    {
     "name": "stdout",
     "output_type": "stream",
     "text": [
      "(1599, 11) (1599, 11)\n"
     ]
    }
   ],
   "source": [
    "scaler = MinMaxScaler()\n",
    "scaled_input = pd.DataFrame(scaler.fit_transform(Input))\n",
    "print(Input.shape, scaled_input.shape)"
   ]
  },
  {
   "cell_type": "code",
   "execution_count": 6,
   "id": "18cd2c43",
   "metadata": {},
   "outputs": [],
   "source": [
    "target = pd.get_dummies(Target).to_numpy()"
   ]
  },
  {
   "cell_type": "code",
   "execution_count": 7,
   "id": "eda3d4ac",
   "metadata": {},
   "outputs": [
    {
     "data": {
      "text/plain": [
       "((1199, 11), (400, 11), (1199, 6), (400, 6))"
      ]
     },
     "execution_count": 7,
     "metadata": {},
     "output_type": "execute_result"
    }
   ],
   "source": [
    "X_train, X_test, y_train, y_test = train_test_split(scaled_input, # 입력변수(독립변수)\n",
    "                target, # 타겟변수(종속변수)\n",
    "                test_size=0.25)\n",
    "X_train.shape, X_test.shape, y_train.shape, y_test.shape"
   ]
  },
  {
   "cell_type": "code",
   "execution_count": 8,
   "id": "712ca816",
   "metadata": {},
   "outputs": [],
   "source": [
    "# target = pd.get_dummies(Target).values\n",
    "# Y_train = pd.get_dummies(Y_train).values"
   ]
  },
  {
   "cell_type": "code",
   "execution_count": null,
   "id": "8c39e996",
   "metadata": {},
   "outputs": [],
   "source": []
  },
  {
   "cell_type": "code",
   "execution_count": 9,
   "id": "b925ee6a",
   "metadata": {},
   "outputs": [
    {
     "name": "stdout",
     "output_type": "stream",
     "text": [
      "Model: \"sequential\"\n",
      "_________________________________________________________________\n",
      " Layer (type)                Output Shape              Param #   \n",
      "=================================================================\n",
      " dense (Dense)               (None, 10)                120       \n",
      "                                                                 \n",
      " dense_1 (Dense)             (None, 512)               5632      \n",
      "                                                                 \n",
      " dense_2 (Dense)             (None, 1024)              525312    \n",
      "                                                                 \n",
      " dense_3 (Dense)             (None, 256)               262400    \n",
      "                                                                 \n",
      " dense_4 (Dense)             (None, 6)                 1542      \n",
      "                                                                 \n",
      "=================================================================\n",
      "Total params: 795,006\n",
      "Trainable params: 795,006\n",
      "Non-trainable params: 0\n",
      "_________________________________________________________________\n"
     ]
    }
   ],
   "source": [
    "model = Sequential()\n",
    "model.add(Dense(units=10,\n",
    "               input_dim=11,\n",
    "               activation='relu'))\n",
    "model.add(Dense(units=512, activation='relu'))\n",
    "model.add(Dense(units=1024, activation='relu'))\n",
    "model.add(Dense(units=256, activation='relu'))\n",
    "model.add(Dense(units=6, activation='softmax'))\n",
    "model.summary()"
   ]
  },
  {
   "cell_type": "code",
   "execution_count": 10,
   "id": "5a19ce85",
   "metadata": {},
   "outputs": [],
   "source": [
    "model.compile(loss = 'categorical_crossentropy',optimizer='adam', metrics=['accuracy'])"
   ]
  },
  {
   "cell_type": "code",
   "execution_count": 11,
   "id": "ec21ea02",
   "metadata": {},
   "outputs": [],
   "source": [
    "class CustomHistory(Callback):\n",
    "    def __init__(self):\n",
    "        self.epoch = 0\n",
    "    def on_epoch_end(self, batch, logs={}):\n",
    "        self.epoch += 1\n",
    "        if self.epoch% 20 == 0:\n",
    "            print('epoch:{}, loss:{}, acc:{}, val_loss:{}, val_accuracy:{}'.\\\n",
    "                 format(self.epoch,\n",
    "                        logs.get('loss'),\n",
    "                        logs.get('accuracy'),\n",
    "                        logs.get('val_loss'),\n",
    "                        logs.get('val_accuracy')\n",
    "                       ))\n"
   ]
  },
  {
   "cell_type": "code",
   "execution_count": 12,
   "id": "89990814",
   "metadata": {},
   "outputs": [
    {
     "name": "stdout",
     "output_type": "stream",
     "text": [
      "epoch:20, loss:0.9683215022087097, acc:0.5933263897895813, val_loss:1.0219881534576416, val_accuracy:0.5416666865348816\n",
      "epoch:40, loss:0.8507614731788635, acc:0.6465067863464355, val_loss:0.9995395541191101, val_accuracy:0.6000000238418579\n"
     ]
    }
   ],
   "source": [
    "earlyStopping = EarlyStopping(patience=20)\n",
    "customHistory = CustomHistory()\n",
    "\n",
    "hist = model.fit(X_train,\n",
    "                y_train, epochs=500, batch_size=100,\n",
    "                 validation_split=0.2,\n",
    "                 verbose=0,\n",
    "                 callbacks=[earlyStopping, customHistory]\n",
    "                )"
   ]
  },
  {
   "cell_type": "code",
   "execution_count": 13,
   "id": "30babe93",
   "metadata": {},
   "outputs": [
    {
     "data": {
      "image/png": "[encoded data removed]",
      "text/plain": [
       "<Figure size 1000x500 with 2 Axes>"
      ]
     },
     "metadata": {},
     "output_type": "display_data"
    }
   ],
   "source": [
    "# 학습과정 표시하기\n",
    "fig, loss_ax = plt.subplots(figsize=(10,5))\n",
    "loss_ax.plot(hist.history['loss'], 'r', label='train loss')\n",
    "loss_ax.plot(hist.history['val_loss'], 'y', label='validation loss')\n",
    "loss_ax.set_xlabel('epoch')\n",
    "loss_ax.set_ylabel('loss')\n",
    "acc_ax = loss_ax.twinx()\n",
    "acc_ax.plot(hist.history['accuracy'], 'b', label='train accuracy')\n",
    "acc_ax.plot(hist.history['val_accuracy'], 'g', label='train accuracy')\n",
    "acc_ax.set_ylabel('accuracy')\n",
    "loss_ax.legend(loc='center right')\n",
    "acc_ax.legend(bbox_to_anchor=(0.999, 0.7))\n",
    "plt.show()"
   ]
  },
  {
   "cell_type": "code",
   "execution_count": 14,
   "id": "1c08cd1c",
   "metadata": {},
   "outputs": [],
   "source": [
    "model.save('model/wine.h5')"
   ]
  },
  {
   "cell_type": "code",
   "execution_count": 15,
   "id": "5ef8e67d",
   "metadata": {},
   "outputs": [],
   "source": [
    "from tensorflow.keras.models import load_model\n",
    "model2 = load_model('model/mnist.h5')"
   ]
  },
  {
   "cell_type": "code",
   "execution_count": 16,
   "id": "cbe15c63",
   "metadata": {},
   "outputs": [
    {
     "name": "stdout",
     "output_type": "stream",
     "text": [
      "Model: \"sequential_6\"\n",
      "_________________________________________________________________\n",
      " Layer (type)                Output Shape              Param #   \n",
      "=================================================================\n",
      " dense_19 (Dense)            (None, 64)                50240     \n",
      "                                                                 \n",
      " dense_20 (Dense)            (None, 16)                1040      \n",
      "                                                                 \n",
      " dense_21 (Dense)            (None, 10)                170       \n",
      "                                                                 \n",
      "=================================================================\n",
      "Total params: 51,450\n",
      "Trainable params: 51,450\n",
      "Non-trainable params: 0\n",
      "_________________________________________________________________\n"
     ]
    }
   ],
   "source": [
    "model2.summary()"
   ]
  },
  {
   "cell_type": "markdown",
   "id": "b7b20c0a",
   "metadata": {},
   "source": [
    "## 강사님 수정 소스"
   ]
  },
  {
   "cell_type": "code",
   "execution_count": 17,
   "id": "6b0be8a5",
   "metadata": {},
   "outputs": [
    {
     "data": {
      "text/html": [
       "<div>\n",
       "<style scoped>\n",
       "    .dataframe tbody tr th:only-of-type {\n",
       "        vertical-align: middle;\n",
       "    }\n",
       "\n",
       "    .dataframe tbody tr th {\n",
       "        vertical-align: top;\n",
       "    }\n",
       "\n",
       "    .dataframe thead th {\n",
       "        text-align: right;\n",
       "    }\n",
       "</style>\n",
       "<table border=\"1\" class=\"dataframe\">\n",
       "  <thead>\n",
       "    <tr style=\"text-align: right;\">\n",
       "      <th></th>\n",
       "      <th>fixed acidity</th>\n",
       "      <th>volatile acidity</th>\n",
       "      <th>citric acid</th>\n",
       "      <th>residual sugar</th>\n",
       "      <th>chlorides</th>\n",
       "      <th>free sulfur dioxide</th>\n",
       "      <th>total sulfur dioxide</th>\n",
       "      <th>density</th>\n",
       "      <th>pH</th>\n",
       "      <th>sulphates</th>\n",
       "      <th>alcohol</th>\n",
       "      <th>quality</th>\n",
       "    </tr>\n",
       "  </thead>\n",
       "  <tbody>\n",
       "    <tr>\n",
       "      <th>0</th>\n",
       "      <td>7.4</td>\n",
       "      <td>0.70</td>\n",
       "      <td>0.00</td>\n",
       "      <td>1.9</td>\n",
       "      <td>0.076</td>\n",
       "      <td>11.0</td>\n",
       "      <td>34.0</td>\n",
       "      <td>0.9978</td>\n",
       "      <td>3.51</td>\n",
       "      <td>0.56</td>\n",
       "      <td>9.4</td>\n",
       "      <td>5</td>\n",
       "    </tr>\n",
       "    <tr>\n",
       "      <th>1</th>\n",
       "      <td>7.8</td>\n",
       "      <td>0.88</td>\n",
       "      <td>0.00</td>\n",
       "      <td>2.6</td>\n",
       "      <td>0.098</td>\n",
       "      <td>25.0</td>\n",
       "      <td>67.0</td>\n",
       "      <td>0.9968</td>\n",
       "      <td>3.20</td>\n",
       "      <td>0.68</td>\n",
       "      <td>9.8</td>\n",
       "      <td>5</td>\n",
       "    </tr>\n",
       "    <tr>\n",
       "      <th>2</th>\n",
       "      <td>7.8</td>\n",
       "      <td>0.76</td>\n",
       "      <td>0.04</td>\n",
       "      <td>2.3</td>\n",
       "      <td>0.092</td>\n",
       "      <td>15.0</td>\n",
       "      <td>54.0</td>\n",
       "      <td>0.9970</td>\n",
       "      <td>3.26</td>\n",
       "      <td>0.65</td>\n",
       "      <td>9.8</td>\n",
       "      <td>5</td>\n",
       "    </tr>\n",
       "    <tr>\n",
       "      <th>3</th>\n",
       "      <td>11.2</td>\n",
       "      <td>0.28</td>\n",
       "      <td>0.56</td>\n",
       "      <td>1.9</td>\n",
       "      <td>0.075</td>\n",
       "      <td>17.0</td>\n",
       "      <td>60.0</td>\n",
       "      <td>0.9980</td>\n",
       "      <td>3.16</td>\n",
       "      <td>0.58</td>\n",
       "      <td>9.8</td>\n",
       "      <td>6</td>\n",
       "    </tr>\n",
       "    <tr>\n",
       "      <th>4</th>\n",
       "      <td>7.4</td>\n",
       "      <td>0.70</td>\n",
       "      <td>0.00</td>\n",
       "      <td>1.9</td>\n",
       "      <td>0.076</td>\n",
       "      <td>11.0</td>\n",
       "      <td>34.0</td>\n",
       "      <td>0.9978</td>\n",
       "      <td>3.51</td>\n",
       "      <td>0.56</td>\n",
       "      <td>9.4</td>\n",
       "      <td>5</td>\n",
       "    </tr>\n",
       "  </tbody>\n",
       "</table>\n",
       "</div>"
      ],
      "text/plain": [
       "   fixed acidity  volatile acidity  citric acid  residual sugar  chlorides  \\\n",
       "0            7.4              0.70         0.00             1.9      0.076   \n",
       "1            7.8              0.88         0.00             2.6      0.098   \n",
       "2            7.8              0.76         0.04             2.3      0.092   \n",
       "3           11.2              0.28         0.56             1.9      0.075   \n",
       "4            7.4              0.70         0.00             1.9      0.076   \n",
       "\n",
       "   free sulfur dioxide  total sulfur dioxide  density    pH  sulphates  \\\n",
       "0                 11.0                  34.0   0.9978  3.51       0.56   \n",
       "1                 25.0                  67.0   0.9968  3.20       0.68   \n",
       "2                 15.0                  54.0   0.9970  3.26       0.65   \n",
       "3                 17.0                  60.0   0.9980  3.16       0.58   \n",
       "4                 11.0                  34.0   0.9978  3.51       0.56   \n",
       "\n",
       "   alcohol  quality  \n",
       "0      9.4        5  \n",
       "1      9.8        5  \n",
       "2      9.8        5  \n",
       "3      9.8        6  \n",
       "4      9.4        5  "
      ]
     },
     "execution_count": 17,
     "metadata": {},
     "output_type": "execute_result"
    }
   ],
   "source": [
    "# 데이터 읽어오기\n",
    "\n",
    "# np.loadtxt('data/winequality-red.csv', delimiter=';', skiprows=1)\n",
    "# np.genfromtxt('data/winequality-red.csv', delimiter=';', skip_header=1)\n",
    "\n",
    "redwine = pd.read_csv('./data/winequality-red.csv', sep=';')\n",
    "\n",
    "redwine.head()\n",
    "# fixed acidity : 고정 산도\n",
    "# volatile acidity : 휘발성 산도\n",
    "# citric acid : 시트르산\n",
    "# residual sugar : 잔류 당분\n",
    "# chlorides : 염화물\n",
    "# free sulfur dioxide : 자유 이산화황\n",
    "# total sulfur dioxide : 총 이산화황\n",
    "# density : 밀도\n",
    "# pH\n",
    "# sulphates : 황산염\n",
    "# alcohol\n",
    "# quality : 0 ~ 10(높을 수록 좋은 품질)"
   ]
  },
  {
   "cell_type": "code",
   "execution_count": 18,
   "id": "10d23a21",
   "metadata": {},
   "outputs": [
    {
     "data": {
      "text/plain": [
       "((1599, 11), (1599,))"
      ]
     },
     "execution_count": 18,
     "metadata": {},
     "output_type": "execute_result"
    }
   ],
   "source": [
    "# 독립변수, 종속변수 분리\n",
    "X_redwine = redwine.iloc[:,:-1]\n",
    "y_redwine = redwine.iloc[:,-1]\n",
    "X_redwine.shape, y_redwine.shape"
   ]
  },
  {
   "cell_type": "code",
   "execution_count": 19,
   "id": "6522338e",
   "metadata": {},
   "outputs": [
    {
     "data": {
      "text/html": [
       "<div>\n",
       "<style scoped>\n",
       "    .dataframe tbody tr th:only-of-type {\n",
       "        vertical-align: middle;\n",
       "    }\n",
       "\n",
       "    .dataframe tbody tr th {\n",
       "        vertical-align: top;\n",
       "    }\n",
       "\n",
       "    .dataframe thead th {\n",
       "        text-align: right;\n",
       "    }\n",
       "</style>\n",
       "<table border=\"1\" class=\"dataframe\">\n",
       "  <thead>\n",
       "    <tr style=\"text-align: right;\">\n",
       "      <th></th>\n",
       "      <th>fixed acidity</th>\n",
       "      <th>volatile acidity</th>\n",
       "      <th>citric acid</th>\n",
       "      <th>residual sugar</th>\n",
       "      <th>chlorides</th>\n",
       "      <th>free sulfur dioxide</th>\n",
       "      <th>total sulfur dioxide</th>\n",
       "      <th>density</th>\n",
       "      <th>pH</th>\n",
       "      <th>sulphates</th>\n",
       "      <th>alcohol</th>\n",
       "    </tr>\n",
       "  </thead>\n",
       "  <tbody>\n",
       "    <tr>\n",
       "      <th>591</th>\n",
       "      <td>6.6</td>\n",
       "      <td>0.39</td>\n",
       "      <td>0.49</td>\n",
       "      <td>1.7</td>\n",
       "      <td>0.07</td>\n",
       "      <td>23.0</td>\n",
       "      <td>149.0</td>\n",
       "      <td>0.9922</td>\n",
       "      <td>3.12</td>\n",
       "      <td>0.5</td>\n",
       "      <td>11.5</td>\n",
       "    </tr>\n",
       "  </tbody>\n",
       "</table>\n",
       "</div>"
      ],
      "text/plain": [
       "     fixed acidity  volatile acidity  citric acid  residual sugar  chlorides  \\\n",
       "591            6.6              0.39         0.49             1.7       0.07   \n",
       "\n",
       "     free sulfur dioxide  total sulfur dioxide  density    pH  sulphates  \\\n",
       "591                 23.0                 149.0   0.9922  3.12        0.5   \n",
       "\n",
       "     alcohol  \n",
       "591     11.5  "
      ]
     },
     "execution_count": 19,
     "metadata": {},
     "output_type": "execute_result"
    }
   ],
   "source": [
    "X_redwine.sample()"
   ]
  },
  {
   "cell_type": "code",
   "execution_count": 20,
   "id": "41b15cea",
   "metadata": {},
   "outputs": [
    {
     "data": {
      "text/plain": [
       "0       5\n",
       "1       5\n",
       "2       5\n",
       "3       6\n",
       "4       5\n",
       "       ..\n",
       "1594    5\n",
       "1595    6\n",
       "1596    6\n",
       "1597    5\n",
       "1598    6\n",
       "Name: quality, Length: 1599, dtype: int64"
      ]
     },
     "execution_count": 20,
     "metadata": {},
     "output_type": "execute_result"
    }
   ],
   "source": [
    "y_redwine"
   ]
  },
  {
   "cell_type": "code",
   "execution_count": 21,
   "id": "2c863c08",
   "metadata": {},
   "outputs": [
    {
     "data": {
      "text/plain": [
       "array([[-0.52835961,  0.96187667, -1.39147228, -0.45321841, -0.24370669,\n",
       "        -0.46619252, -0.37913269,  0.55827446,  1.28864292, -0.57920652,\n",
       "        -0.96024611],\n",
       "       [-0.29854743,  1.96744245, -1.39147228,  0.04341614,  0.2238752 ,\n",
       "         0.87263823,  0.62436323,  0.02826077, -0.7199333 ,  0.1289504 ,\n",
       "        -0.58477711]])"
      ]
     },
     "execution_count": 21,
     "metadata": {},
     "output_type": "execute_result"
    }
   ],
   "source": [
    "# 독립변수 스케일조정(StandardScaler)\n",
    "scaler = StandardScaler()\n",
    "scaler.fit(X_redwine.to_numpy()) # values와 to_numpy() 동일\n",
    "scaled_X_redwine = scaler.transform(X_redwine.values)\n",
    "scaled_X_redwine[:2]"
   ]
  },
  {
   "cell_type": "code",
   "execution_count": 22,
   "id": "757c9181",
   "metadata": {},
   "outputs": [
    {
     "data": {
      "text/plain": [
       "array([[0, 0, 1, 0, 0, 0],\n",
       "       [0, 0, 1, 0, 0, 0]], dtype=uint8)"
      ]
     },
     "execution_count": 22,
     "metadata": {},
     "output_type": "execute_result"
    }
   ],
   "source": [
    "# 종속변수 원핫인코딩(get_dummies)\n",
    "Y_redwine = pd.get_dummies(y_redwine).to_numpy() \n",
    "Y_redwine[:2]"
   ]
  },
  {
   "cell_type": "code",
   "execution_count": 23,
   "id": "c6d80a02",
   "metadata": {},
   "outputs": [
    {
     "name": "stdout",
     "output_type": "stream",
     "text": [
      "(1119, 11) (1119, 6) (480, 11) (480, 6)\n"
     ]
    }
   ],
   "source": [
    "# 훈련셋과 테스트셋 분리(train_test_split) - 7:3분리\n",
    "X_train, X_test, Y_train, Y_test = train_test_split(scaled_X_redwine, \n",
    "                                Y_redwine,\n",
    "                                test_size=0.3, \n",
    "                                random_state=1,\n",
    "                                stratify=Y_redwine) # 층화추출(등급별 7:3으로 추출)\n",
    "print(X_train.shape, Y_train.shape, X_test.shape, Y_test.shape)"
   ]
  },
  {
   "cell_type": "code",
   "execution_count": 24,
   "id": "23c98026",
   "metadata": {},
   "outputs": [
    {
     "data": {
      "text/plain": [
       "array([[477, 204],\n",
       "       [446, 192],\n",
       "       [139,  60],\n",
       "       [ 37,  16],\n",
       "       [ 13,   5],\n",
       "       [  7,   3]], dtype=int64)"
      ]
     },
     "execution_count": 24,
     "metadata": {},
     "output_type": "execute_result"
    }
   ],
   "source": [
    "# 층화추출을 하면 등급별 7:3으로  shuffle 되서 추출\n",
    "np.c_[pd.Series(Y_train.argmax(axis=1)).value_counts(),\n",
    "      pd.Series(Y_test.argmax(axis=1)).value_counts()]"
   ]
  },
  {
   "cell_type": "code",
   "execution_count": 25,
   "id": "30162bc3",
   "metadata": {},
   "outputs": [
    {
     "ename": "TypeError",
     "evalue": "'DataFrame' object is not callable",
     "output_type": "error",
     "traceback": [
      "\u001b[1;31m---------------------------------------------------------------------------\u001b[0m",
      "\u001b[1;31mTypeError\u001b[0m                                 Traceback (most recent call last)",
      "Cell \u001b[1;32mIn[25], line 2\u001b[0m\n\u001b[0;32m      1\u001b[0m model \u001b[38;5;241m=\u001b[39m Sequential()\n\u001b[1;32m----> 2\u001b[0m model\u001b[38;5;241m.\u001b[39madd(\u001b[43mInput\u001b[49m\u001b[43m(\u001b[49m\u001b[38;5;241;43m11\u001b[39;49m\u001b[43m)\u001b[49m) \u001b[38;5;66;03m# 의미있는 레이어가 아니고 input_dim만 지정\u001b[39;00m\n\u001b[0;32m      3\u001b[0m model\u001b[38;5;241m.\u001b[39madd(Dense(units\u001b[38;5;241m=\u001b[39m\u001b[38;5;241m32\u001b[39m, activation\u001b[38;5;241m=\u001b[39m\u001b[38;5;124m'\u001b[39m\u001b[38;5;124mrelu\u001b[39m\u001b[38;5;124m'\u001b[39m))\n\u001b[0;32m      4\u001b[0m model\u001b[38;5;241m.\u001b[39madd(Dense(units\u001b[38;5;241m=\u001b[39m\u001b[38;5;241m64\u001b[39m, activation\u001b[38;5;241m=\u001b[39mrelu))\n",
      "\u001b[1;31mTypeError\u001b[0m: 'DataFrame' object is not callable"
     ]
    }
   ],
   "source": [
    "\n",
    "model = Sequential()\n",
    "model.add(Input(11)) # 의미있는 레이어가 아니고 input_dim만 지정\n",
    "model.add(Dense(units=32, activation='relu'))\n",
    "model.add(Dense(units=64, activation=relu))\n",
    "model.add(Dropout(0.2))\n",
    "model.add(Dense(units=16, activation=relu))\n",
    "model.add(Dense(units=6, activation=softmax)) # 3 4 5 6 7 8 등급의 결과 합이 1\n",
    "model.summary()"
   ]
  },
  {
   "cell_type": "code",
   "execution_count": null,
   "id": "8767cf73",
   "metadata": {},
   "outputs": [],
   "source": [
    "model.compile(loss=\"categorical_crossentropy\", optimizer=\"adam\", metrics=['accuracy'])\n",
    "\n",
    "class CustomHistory(Callback): # on_epoch_end()는 각 에포크 종료시 자동 호출\n",
    "    def __init__(self): # 생성자 함수\n",
    "        self.epoch = 0\n",
    "    def on_epoch_end(self, batch, logs={}):\n",
    "        self.epoch += 1\n",
    "        if self.epoch%5 ==0:\n",
    "            print('epoch:{}, loss:{}, acc:{}, val_loss:{}, val_acc:{}'.\\\n",
    "                 format(self.epoch, \n",
    "                        logs.get('loss'), \n",
    "                        logs.get('accuracy'),\n",
    "                        logs.get('val_loss'),\n",
    "                        logs.get('val_accuracy')\n",
    "                       ))\n",
    "customHistory = CustomHistory()\n",
    "earlyStropping = EarlyStopping(patience=20)\n",
    "hist = model.fit(X_train, Y_train, epochs=100, batch_size=200, \n",
    "                 validation_split=0.2, \n",
    "                 callbacks=[earlyStropping, \n",
    "                           customHistory\n",
    "                           ],\n",
    "                verbose=0)"
   ]
  },
  {
   "cell_type": "code",
   "execution_count": null,
   "id": "5e86e6c1",
   "metadata": {},
   "outputs": [],
   "source": [
    "# 학습과정 표시하기(validation dataset 있는 경우)\n",
    "fig, loss_ax = plt.subplots(figsize=(10,5))\n",
    "loss_ax.plot(hist.history['loss'], 'r', label='train loss')\n",
    "loss_ax.plot(hist.history['val_loss'], 'y', label='validation loss')\n",
    "loss_ax.set_xlabel('epoch')\n",
    "loss_ax.set_ylabel('loss')\n",
    "acc_ax = loss_ax.twinx()\n",
    "acc_ax.plot(hist.history['accuracy'], 'b', label='train accuracy')\n",
    "acc_ax.plot(hist.history['val_accuracy'], 'g', label='validation accuracy')\n",
    "acc_ax.set_ylabel('accuracy')\n",
    "loss_ax.legend(loc='center right')\n",
    "acc_ax.legend(bbox_to_anchor=(0.999, 0.7))\n",
    "plt.show()"
   ]
  },
  {
   "cell_type": "code",
   "execution_count": null,
   "id": "f077beee",
   "metadata": {},
   "outputs": [],
   "source": [
    "# 모델 평가하기\n",
    "loss_and_acc = model.evaluate(X_test, Y_test, batch_size=32)\n",
    "print('loss : ', loss_and_acc[0])\n",
    "print('accuracy : ', loss_and_acc[1])"
   ]
  },
  {
   "cell_type": "code",
   "execution_count": null,
   "id": "5752db86",
   "metadata": {},
   "outputs": [],
   "source": [
    "# 7. 성능 지표(crosstab)\n",
    "# pred = model.predict(X_test).argmax(axis=1)+3\n",
    "pred = np.argmax(model.predict(X_test), axis=1)+3\n",
    "# real = Y_test.argmax(axis=1) + 3\n",
    "real = np.argmax(Y_test, axis=1) +3\n",
    "cross_tab = pd.crosstab(real, pred)\n",
    "cross_tab.index.name = \"real\"\n",
    "cross_tab.columns.name = 'predict'\n",
    "cross_tab"
   ]
  },
  {
   "cell_type": "code",
   "execution_count": null,
   "id": "6c1e681c",
   "metadata": {},
   "outputs": [],
   "source": [
    "model.save('model/winequality.h5')"
   ]
  },
  {
   "cell_type": "code",
   "execution_count": null,
   "id": "d6701d36",
   "metadata": {},
   "outputs": [],
   "source": [
    "redwine.sample()"
   ]
  },
  {
   "cell_type": "code",
   "execution_count": null,
   "id": "19137a9b",
   "metadata": {},
   "outputs": [],
   "source": [
    "input_data = np.array([[10.5, 0.39, 0.46, 2.2, 0.075, 14.0, 27.0, 0.99598, 3.06, 0.84,11.4]])\n",
    "scaled_input_data = scaler.transform(input_data)\n",
    "np.argmax(model.predict(scaled_input_data), axis=1) + 3"
   ]
  },
  {
   "cell_type": "code",
   "execution_count": null,
   "id": "29f137f1",
   "metadata": {},
   "outputs": [],
   "source": []
  },
  {
   "cell_type": "code",
   "execution_count": null,
   "id": "cbd7fb49",
   "metadata": {},
   "outputs": [],
   "source": []
  },
  {
   "cell_type": "code",
   "execution_count": null,
   "id": "2bfa7f5e",
   "metadata": {},
   "outputs": [],
   "source": []
  },
  {
   "cell_type": "code",
   "execution_count": null,
   "id": "6a71bcce",
   "metadata": {},
   "outputs": [],
   "source": []
  },
  {
   "cell_type": "code",
   "execution_count": null,
   "id": "7c5911f1",
   "metadata": {},
   "outputs": [],
   "source": []
  },
  {
   "cell_type": "code",
   "execution_count": null,
   "id": "78a81b01",
   "metadata": {},
   "outputs": [],
   "source": []
  },
  {
   "cell_type": "code",
   "execution_count": null,
   "id": "eb058b08",
   "metadata": {},
   "outputs": [],
   "source": []
  },
  {
   "cell_type": "code",
   "execution_count": null,
   "id": "65878eeb",
   "metadata": {},
   "outputs": [],
   "source": []
  },
  {
   "cell_type": "code",
   "execution_count": null,
   "id": "944e9fa1",
   "metadata": {},
   "outputs": [],
   "source": []
  }
 ],
 "metadata": {
  "kernelspec": {
   "display_name": "Python 3 (ipykernel)",
   "language": "python",
   "name": "python3"
  },
  "language_info": {
   "codemirror_mode": {
    "name": "ipython",
    "version": 3
   },
   "file_extension": ".py",
   "mimetype": "text/x-python",
   "name": "python",
   "nbconvert_exporter": "python",
   "pygments_lexer": "ipython3",
   "version": "3.10.9"
  },
  "toc": {
   "base_numbering": 1,
   "nav_menu": {},
   "number_sections": true,
   "sideBar": true,
   "skip_h1_title": false,
   "title_cell": "Table of Contents",
   "title_sidebar": "Contents",
   "toc_cell": false,
   "toc_position": {},
   "toc_section_display": true,
   "toc_window_display": false
  }
 },
 "nbformat": 4,
 "nbformat_minor": 5
}
