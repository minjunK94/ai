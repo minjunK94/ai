{
 "cells": [
  {
   "cell_type": "markdown",
   "id": "e18fd6b3",
   "metadata": {},
   "source": [
    "# 1. tensorflow v2.xx 에서 v1 사용하기"
   ]
  },
  {
   "cell_type": "code",
   "execution_count": 2,
   "id": "ceb6f335",
   "metadata": {},
   "outputs": [],
   "source": [
    "import tensorflow.compat.v1 as tf\n",
    "tf.disable_v2_behavior() # v2 비활성화 하고 v1을 활성화"
   ]
  },
  {
   "cell_type": "markdown",
   "id": "27bda384",
   "metadata": {},
   "source": [
    "## Tensorflow 란\n",
    "- 그래프 정의 (tensor 객체의 흐름)\n",
    "- sess = tf.Session() 을 실행\n",
    "- sess.run()을 통해 변수값을 확인할 수 있음"
   ]
  },
  {
   "cell_type": "code",
   "execution_count": 6,
   "id": "1194b678",
   "metadata": {},
   "outputs": [
    {
     "name": "stdout",
     "output_type": "stream",
     "text": [
      "b'Hello, Tensor'\n",
      "Hello, Tensor\n"
     ]
    }
   ],
   "source": [
    "# tensor = data(상수,변수)와 연산\n",
    "node1 = tf.constant('Hello, Tensor')\n",
    "sess = tf.Session()\n",
    "print(sess.run(node1))\n",
    "print(sess.run(node1).decode())"
   ]
  },
  {
   "cell_type": "code",
   "execution_count": 7,
   "id": "5b08cacc",
   "metadata": {},
   "outputs": [
    {
     "name": "stdout",
     "output_type": "stream",
     "text": [
      "[10.0, 20.0, 30.0]\n"
     ]
    }
   ],
   "source": [
    "# 간단한 수학 연산 tensor 그래프\n",
    "node1 = tf.constant(10, dtype=tf.float16)\n",
    "node2 = tf.constant(20, dtype=tf.float16)\n",
    "node3 = tf.add(node1, node2)\n",
    "sess = tf.Session()\n",
    "print(sess.run([node1, node2, node3]))"
   ]
  },
  {
   "cell_type": "code",
   "execution_count": 8,
   "id": "507a5463",
   "metadata": {},
   "outputs": [
    {
     "data": {
      "text/plain": [
       "[array([1, 2, 3], dtype=int16), array([1., 2., 3.], dtype=float32)]"
      ]
     },
     "execution_count": 8,
     "metadata": {},
     "output_type": "execute_result"
    }
   ],
   "source": [
    "# 타입 변경\n",
    "import numpy as np\n",
    "node1 = tf.constant(np.array([1,2,3]), dtype=tf.int16)\n",
    "node2 = tf.cast(node1, dtype=tf.float32)\n",
    "sess = tf.Session()\n",
    "sess.run([node1, node2])"
   ]
  },
  {
   "cell_type": "code",
   "execution_count": 10,
   "id": "bb71868a",
   "metadata": {},
   "outputs": [
    {
     "data": {
      "text/plain": [
       "2.5"
      ]
     },
     "execution_count": 10,
     "metadata": {},
     "output_type": "execute_result"
    }
   ],
   "source": [
    "# 평균값 계산 tf.reduce_() \n",
    "data = np.array([1., 2, 3, 4])\n",
    "m = tf.reduce_mean(data)\n",
    "sess = tf.Session()\n",
    "sess.run(m)"
   ]
  },
  {
   "cell_type": "code",
   "execution_count": 16,
   "id": "0c75819f",
   "metadata": {},
   "outputs": [
    {
     "data": {
      "image/png": "[encoded data removed]",
      "text/plain": [
       "<Figure size 640x480 with 1 Axes>"
      ]
     },
     "metadata": {},
     "output_type": "display_data"
    }
   ],
   "source": [
    "# tf.random_normal([size]) : 평균0이고, 표준편차가 1인 난수 size 개 발생. 난수갯수: 독립변수갯수\n",
    "import matplotlib.pyplot as plt\n",
    "tensor = tf.random_normal([1000]) # 평균0, 표준편차가 1인 난수 2(정규분포 난수)\n",
    "sess = tf.Session()\n",
    "plt.hist(sess.run(tensor))\n",
    "plt.show()"
   ]
  },
  {
   "cell_type": "markdown",
   "id": "26e34a50",
   "metadata": {},
   "source": [
    "# 2. tensorflow v1 을 이용한 linear regression을 구현\n",
    "## 2.1 독립변수 x가 1개, 종속변수 y가 1개"
   ]
  },
  {
   "cell_type": "code",
   "execution_count": 22,
   "id": "cfe4cf51",
   "metadata": {
    "scrolled": true
   },
   "outputs": [
    {
     "name": "stdout",
     "output_type": "stream",
     "text": [
      "0번째 cost:2.733863592147827, W:[-0.00098962], b:[0.5646634]\n",
      "300번째 cost:0.09131675213575363, W:[0.6331552], b:[0.7736898]\n",
      "600번째 cost:0.07622954994440079, W:[0.6785574], b:[0.72859395]\n",
      "900번째 cost:0.06598600745201111, W:[0.70162535], b:[0.6782011]\n",
      "1200번째 cost:0.05712200328707695, W:[0.722413], b:[0.6310179]\n",
      "1500번째 cost:0.04944873973727226, W:[0.74173015], b:[0.5871078]\n",
      "1800번째 cost:0.042806174606084824, W:[0.7597025], b:[0.5462526]\n",
      "2100번째 cost:0.037055883556604385, W:[0.77642417], b:[0.50824]\n",
      "2400번째 cost:0.032078128308057785, W:[0.7919822], b:[0.4728733]\n",
      "2700번째 cost:0.027768999338150024, W:[0.80645764], b:[0.43996742]\n",
      "3000번째 cost:0.0240387711673975, W:[0.81992555], b:[0.40925315]\n",
      "3300번째 cost:0.02080960012972355, W:[0.8324564], b:[0.38086602]\n",
      "3600번째 cost:0.018014226108789444, W:[0.8441152], b:[0.35436273]\n",
      "3900번째 cost:0.01559435110539198, W:[0.85496265], b:[0.3297038]\n",
      "4200번째 cost:0.013499528169631958, W:[0.8650554], b:[0.3067606]\n",
      "4500번째 cost:0.011686135083436966, W:[0.8744458], b:[0.28541422]\n",
      "4800번째 cost:0.010116307996213436, W:[0.88318264], b:[0.26555312]\n",
      "5100번째 cost:0.008757357485592365, W:[0.89131176], b:[0.247074]\n",
      "5400번째 cost:0.007580978330224752, W:[0.8988749], b:[0.22988097]\n",
      "5700번째 cost:0.006562621798366308, W:[0.9059119], b:[0.21388434]\n",
      "6000번째 cost:0.00568105885758996, W:[0.91245914], b:[0.19900084]\n"
     ]
    }
   ],
   "source": [
    "# tensor 그래프(객체 흐름) 정의\n",
    "# data set(x, y)\n",
    "x = np.array([1,2,3])\n",
    "y = np.array([1,2,3]) # y = 1*x+0\n",
    "\n",
    "# weight 와  bias (처음에는 랜덤값으로 셋팅했다가, 학습과정에서 변경)\n",
    "W = tf.Variable(tf.random.normal([1]), name='weight')\n",
    "b = tf.Variable(tf.random.normal([1]), name='bias')\n",
    "\n",
    "# Hypothesis : 결과는 넘파이 배열\n",
    "H = W*x + b\n",
    "\n",
    "# cost sunction (손실함수 = mse : 최소제곱법)\n",
    "cost = tf.reduce_mean(tf.square(H-y))\n",
    "'''\n",
    " 학습 목적 : cost 가 최소가 되는 W, b를 찾는 것\n",
    " cost 함수는 2차 함수이므로 곡선 그래프, 곡선위 미분값이 줄어드는 방향으로 학습(경사하강법)\n",
    "'''\n",
    "optimizer = tf.train.GradientDescentOptimizer(learning_rate=0.001)\n",
    "train = optimizer.minimize(cost)\n",
    "\n",
    "# Session 생성\n",
    "sess = tf.Session()\n",
    "# tf.Variable 변수 노드(W, b) 초기화\n",
    "sess.run(tf.global_variables_initializer())\n",
    "sess.run([W, b])\n",
    "\n",
    "# 6000번 학습 시키기 (v2에서의 fit 함수 해당)\n",
    "for step in range(6001):\n",
    "    _, cost_val, W_val, b_val = sess.run([train, cost, W, b])\n",
    "    if step%300 == 0:\n",
    "        print(f'{step}번째 cost:{cost_val}, W:{W_val}, b:{b_val}')"
   ]
  },
  {
   "cell_type": "code",
   "execution_count": 23,
   "id": "0ca26d45",
   "metadata": {},
   "outputs": [
    {
     "data": {
      "text/plain": [
       "[array([0.9124802], dtype=float32), array([0.198953], dtype=float32)]"
      ]
     },
     "execution_count": 23,
     "metadata": {},
     "output_type": "execute_result"
    }
   ],
   "source": [
    "# 최종적으로 나온 회귀식 H = W*x + b\n",
    "sess.run([W, b])"
   ]
  },
  {
   "cell_type": "code",
   "execution_count": 24,
   "id": "4544a117",
   "metadata": {},
   "outputs": [
    {
     "data": {
      "text/plain": [
       "(array([0.9124802], dtype=float32), array([0.198953], dtype=float32))"
      ]
     },
     "execution_count": 24,
     "metadata": {},
     "output_type": "execute_result"
    }
   ],
   "source": [
    "W_, b_ = sess.run([W, b])\n",
    "W_, b_"
   ]
  },
  {
   "cell_type": "code",
   "execution_count": 25,
   "id": "c13f7c0d",
   "metadata": {},
   "outputs": [
    {
     "name": "stdout",
     "output_type": "stream",
     "text": [
      "최종 회귀식 : H = 0.9124801754951477*x + 0.19895300269126892\n"
     ]
    }
   ],
   "source": [
    "print(f'최종 회귀식 : H = {W_[0]}*x + {b_[0]}')"
   ]
  },
  {
   "cell_type": "code",
   "execution_count": 26,
   "id": "1e739225",
   "metadata": {},
   "outputs": [],
   "source": [
    "def to_predict(x):\n",
    "    return W_[0]*x + b_[0]"
   ]
  },
  {
   "cell_type": "code",
   "execution_count": 28,
   "id": "4e56cb8b",
   "metadata": {},
   "outputs": [
    {
     "data": {
      "text/plain": [
       "2.936393529176712"
      ]
     },
     "execution_count": 28,
     "metadata": {},
     "output_type": "execute_result"
    }
   ],
   "source": [
    "to_predict(3)"
   ]
  },
  {
   "cell_type": "markdown",
   "id": "843e763f",
   "metadata": {},
   "source": [
    "## 2.2 predict을 하기 위한 placeholder 이용\n",
    "- placeholder : 외부에서 데이터를 입력 받을수 있는 노드"
   ]
  },
  {
   "cell_type": "code",
   "execution_count": 29,
   "id": "6b0adeb2",
   "metadata": {},
   "outputs": [
    {
     "data": {
      "text/plain": [
       "30.0"
      ]
     },
     "execution_count": 29,
     "metadata": {},
     "output_type": "execute_result"
    }
   ],
   "source": [
    "a = tf.placeholder(tf.float16)\n",
    "b = tf.placeholder(tf.float16)\n",
    "ab = tf.add(a, b)\n",
    "sess = tf.Session()\n",
    "sess.run(ab, feed_dict={a: 10, b: 20})"
   ]
  },
  {
   "cell_type": "code",
   "execution_count": 30,
   "id": "bebcea89",
   "metadata": {},
   "outputs": [
    {
     "data": {
      "text/plain": [
       "array([2., 4., 6.], dtype=float16)"
      ]
     },
     "execution_count": 30,
     "metadata": {},
     "output_type": "execute_result"
    }
   ],
   "source": [
    "sess.run(ab, feed_dict={a:np.array([1,2,3]),\n",
    "                       b:np.array([1,2,3])})"
   ]
  },
  {
   "cell_type": "code",
   "execution_count": 34,
   "id": "6af4f253",
   "metadata": {},
   "outputs": [
    {
     "name": "stdout",
     "output_type": "stream",
     "text": [
      "1/6000번째 \n",
      " cost:75.75891876220703 \n",
      " W:[-1.836082], b:[-0.44870898]\n",
      "201/6000번째 \n",
      " cost:1.0128215551376343 \n",
      " W:[1.201812], b:[0.8295086]\n",
      "401/6000번째 \n",
      " cost:0.13757313787937164 \n",
      " W:[1.5462768], b:[0.9256122]\n",
      "601/6000번째 \n",
      " cost:0.11593087762594223 \n",
      " W:[1.6005552], b:[0.89666486]\n",
      "801/6000번째 \n",
      " cost:0.10519696027040482 \n",
      " W:[1.6228508], b:[0.85612804]\n",
      "1001/6000번째 \n",
      " cost:0.09555027633905411 \n",
      " W:[1.6409373], b:[0.8161029]\n",
      "1201/6000번째 \n",
      " cost:0.0867893174290657 \n",
      " W:[1.657835], b:[0.7778075]\n",
      "1401/6000번째 \n",
      " cost:0.07883163541555405 \n",
      " W:[1.673903], b:[0.7412939]\n",
      "1601/6000번째 \n",
      " cost:0.07160360366106033 \n",
      " W:[1.6892126], b:[0.7064927]\n",
      "1801/6000번째 \n",
      " cost:0.06503834575414658 \n",
      " W:[1.7038028], b:[0.6733254]\n",
      "2001/6000번째 \n",
      " cost:0.059075113385915756 \n",
      " W:[1.7177083], b:[0.6417152]\n",
      "2201/6000번째 \n",
      " cost:0.053658485412597656 \n",
      " W:[1.730961], b:[0.61158895]\n",
      "2401/6000번째 \n",
      " cost:0.04873858392238617 \n",
      " W:[1.7435913], b:[0.5828768]\n",
      "2601/6000번째 \n",
      " cost:0.04426974430680275 \n",
      " W:[1.7556288], b:[0.5555128]\n",
      "2801/6000번째 \n",
      " cost:0.040210772305727005 \n",
      " W:[1.7671013], b:[0.5294335]\n",
      "3001/6000번째 \n",
      " cost:0.036523766815662384 \n",
      " W:[1.7780352], b:[0.5045777]\n",
      "3201/6000번째 \n",
      " cost:0.033174946904182434 \n",
      " W:[1.788456], b:[0.4808895]\n",
      "3401/6000번째 \n",
      " cost:0.030133159831166267 \n",
      " W:[1.798387], b:[0.45831338]\n",
      "3601/6000번째 \n",
      " cost:0.027370261028409004 \n",
      " W:[1.8078523], b:[0.4367971]\n",
      "3801/6000번째 \n",
      " cost:0.02486065775156021 \n",
      " W:[1.8168728], b:[0.416291]\n",
      "4001/6000번째 \n",
      " cost:0.02258124388754368 \n",
      " W:[1.8254699], b:[0.39674756]\n",
      "4201/6000번째 \n",
      " cost:0.020510757341980934 \n",
      " W:[1.8336638], b:[0.3781216]\n",
      "4401/6000번째 \n",
      " cost:0.018630167469382286 \n",
      " W:[1.8414725], b:[0.36037004]\n",
      "4601/6000번째 \n",
      " cost:0.016922008246183395 \n",
      " W:[1.8489149], b:[0.343452]\n",
      "4801/6000번째 \n",
      " cost:0.015370420180261135 \n",
      " W:[1.8560079], b:[0.32732812]\n",
      "5001/6000번째 \n",
      " cost:0.013961121439933777 \n",
      " W:[1.8627676], b:[0.3119611]\n",
      "5201/6000번째 \n",
      " cost:0.012681066989898682 \n",
      " W:[1.8692102], b:[0.29731575]\n",
      "5401/6000번째 \n",
      " cost:0.01151835173368454 \n",
      " W:[1.8753504], b:[0.28335786]\n",
      "5601/6000번째 \n",
      " cost:0.01046221423894167 \n",
      " W:[1.8812023], b:[0.27005523]\n",
      "5801/6000번째 \n",
      " cost:0.009502965025603771 \n",
      " W:[1.8867793], b:[0.25737685]\n"
     ]
    }
   ],
   "source": [
    "# data set\n",
    "x_data = np.array([1,2,3])\n",
    "y_data = np.array([2,4,6])\n",
    "\n",
    "# placeholder 설정(x, y)\n",
    "\n",
    "x = tf.placeholder(dtype=tf.float32)\n",
    "y = tf.placeholder(dtype=tf.float32)\n",
    "\n",
    "# weight & bias\n",
    "W = tf.Variable(tf.random.normal([1]),name='weight')\n",
    "b = tf.Variable(tf.random.normal([1]),name='bias')\n",
    "\n",
    "# Hypothesis\n",
    "H = W*x + b\n",
    "\n",
    "# cost function == loss function\n",
    "cost = tf.reduce_mean(tf.square(H-y))\n",
    "\n",
    "#경사 하강법\n",
    "train = tf.train.GradientDescentOptimizer(learning_rate=0.001).minimize(cost)\n",
    "\n",
    "# session 생성 & 변수 초기화\n",
    "sess = tf.Session()\n",
    "sess.run(tf.global_variables_initializer())\n",
    "# 학습 6000번\n",
    "for step in range(6000):\n",
    "    _, cost_val, W_val, b_val = sess.run([train, cost, W, b], feed_dict={x:x_data,\n",
    "                                                                        y:y_data})\n",
    "    if step % 200 == 0:\n",
    "        print(f'{step+1}/6000번째 \\n cost:{cost_val} \\n W:{W_val}, b:{b_val}')"
   ]
  },
  {
   "cell_type": "code",
   "execution_count": 35,
   "id": "f693760d",
   "metadata": {},
   "outputs": [
    {
     "data": {
      "text/plain": [
       "array([9.705768], dtype=float32)"
      ]
     },
     "execution_count": 35,
     "metadata": {},
     "output_type": "execute_result"
    }
   ],
   "source": [
    "# 예측하기\n",
    "sess.run(H, feed_dict={x:5})"
   ]
  },
  {
   "cell_type": "code",
   "execution_count": 36,
   "id": "5a20fc9e",
   "metadata": {},
   "outputs": [
    {
     "data": {
      "text/plain": [
       "array([ 9.705768, 11.597862, 13.489957], dtype=float32)"
      ]
     },
     "execution_count": 36,
     "metadata": {},
     "output_type": "execute_result"
    }
   ],
   "source": [
    "sess.run(H, feed_dict={x: np.array([5,6,7])})"
   ]
  },
  {
   "cell_type": "markdown",
   "id": "ac03fa6f",
   "metadata": {},
   "source": [
    "## 2.3 scale 이 다른 데이터들 linear regression 구현"
   ]
  },
  {
   "cell_type": "code",
   "execution_count": 38,
   "id": "41bf39b5",
   "metadata": {},
   "outputs": [
    {
     "name": "stdout",
     "output_type": "stream",
     "text": [
      "1/6000번째 cost:3565.858642578125, W:[0.6024789], b:[0.349718]\n",
      "301/6000번째 cost:79.16793060302734, W:[10.118478], b:[0.07514603]\n",
      "601/6000번째 cost:79.1402587890625, W:[10.152965], b:[-0.18020935]\n",
      "901/6000번째 cost:79.13948059082031, W:[10.158713], b:[-0.2227767]\n",
      "1201/6000번째 cost:79.13946533203125, W:[10.159673], b:[-0.22987255]\n",
      "1501/6000번째 cost:79.13946533203125, W:[10.159832], b:[-0.23105511]\n",
      "1801/6000번째 cost:79.13944244384766, W:[10.159859], b:[-0.23125197]\n",
      "2101/6000번째 cost:79.13946533203125, W:[10.159862], b:[-0.2312807]\n",
      "2401/6000번째 cost:79.13945770263672, W:[10.1598625], b:[-0.23128414]\n",
      "2701/6000번째 cost:79.13945770263672, W:[10.1598625], b:[-0.23128414]\n",
      "3001/6000번째 cost:79.13945770263672, W:[10.1598625], b:[-0.23128414]\n",
      "3301/6000번째 cost:79.13945770263672, W:[10.1598625], b:[-0.23128414]\n",
      "3601/6000번째 cost:79.13945770263672, W:[10.1598625], b:[-0.23128414]\n",
      "3901/6000번째 cost:79.13945770263672, W:[10.1598625], b:[-0.23128414]\n",
      "4201/6000번째 cost:79.13945770263672, W:[10.1598625], b:[-0.23128414]\n",
      "4501/6000번째 cost:79.13945770263672, W:[10.1598625], b:[-0.23128414]\n",
      "4801/6000번째 cost:79.13945770263672, W:[10.1598625], b:[-0.23128414]\n",
      "5101/6000번째 cost:79.13945770263672, W:[10.1598625], b:[-0.23128414]\n",
      "5401/6000번째 cost:79.13945770263672, W:[10.1598625], b:[-0.23128414]\n",
      "5701/6000번째 cost:79.13945770263672, W:[10.1598625], b:[-0.23128414]\n"
     ]
    }
   ],
   "source": [
    "x_data = np.array([1,2,5,8,10])\n",
    "y_data = np.array([5,15,68,80,95])\n",
    "\n",
    "# placeholder 설정\n",
    "x = tf.placeholder(dtype=tf.float32)\n",
    "y = tf.placeholder(dtype=tf.float32)\n",
    "\n",
    "# weight & bias\n",
    "W = tf.Variable(tf.random.normal([1]), name='weight')\n",
    "b = tf.Variable(tf.random.normal([1]))\n",
    "\n",
    "#Hypothesis \n",
    "H = W*x + b\n",
    "\n",
    "#cost function ( loss function : 손실함수)\n",
    "cost = tf.reduce_mean(tf.square(H - y))\n",
    "\n",
    "# 경사하강법\n",
    "optimizer = tf.train.GradientDescentOptimizer(learning_rate=0.01)\n",
    "train = optimizer.minimize(cost)\n",
    "\n",
    "# Session & Variable 초기화\n",
    "sess = tf.Session()\n",
    "sess.run(tf.global_variables_initializer())\n",
    "\n",
    "# 학습\n",
    "for step in range(1, 6001):\n",
    "    _, cost_val, W_val, b_val = sess.run([train, cost, W, b], feed_dict={x:x_data,\n",
    "                                                                        y:y_data})\n",
    "    if step%300 == 1:\n",
    "        print(f'{step}/6000번째 cost:{cost_val}, W:{W_val}, b:{b_val}')"
   ]
  },
  {
   "cell_type": "code",
   "execution_count": 39,
   "id": "1e501e15",
   "metadata": {},
   "outputs": [
    {
     "data": {
      "text/plain": [
       "array([50.568027], dtype=float32)"
      ]
     },
     "execution_count": 39,
     "metadata": {},
     "output_type": "execute_result"
    }
   ],
   "source": [
    "# 예측\n",
    "sess.run(H, feed_dict={x:5})"
   ]
  },
  {
   "cell_type": "code",
   "execution_count": 40,
   "id": "1f702650",
   "metadata": {},
   "outputs": [],
   "source": [
    "# cost값이 멈춤 : local 최소값"
   ]
  },
  {
   "cell_type": "markdown",
   "id": "f2a39a8f",
   "metadata": {},
   "source": [
    "## 2.4 scale이 다른 데이터들의 linear regression을 구형(조정 O)\n",
    "### scale 을 맞추기 : 모든 데이터를 일정 범위내로 조정\n",
    "- normalization(정규화) : 데이터의 최대값을 1, 최소값을 0으로 변환\n",
    "                      x - Xmin\n",
    "    * normalization = ────────────        공식\n",
    "                      Xmax - Xmin\n",
    "    * 위의 식을 써도 되지만 라이브러리를 주로 씀(sklearn.preprocessing.MinMaxScaler이용)\n",
    "    \n",
    "- standardization(표준화) : 데이터의 평균을 0, 표준편차를 1로 조정\n",
    "                       x - Xmaen(평균\n",
    "    * standerdization = ────────────       공식\n",
    "                        Xstd(표준편차)\n",
    "    * 위의 식을 써도 되지만 라이브러리를 주로 씀(sklearn.preprocessing.StandardScaler이용)"
   ]
  },
  {
   "cell_type": "code",
   "execution_count": 42,
   "id": "589b4fa8",
   "metadata": {},
   "outputs": [
    {
     "name": "stdout",
     "output_type": "stream",
     "text": [
      "[0.         0.11111111 0.44444444 0.77777778 1.        ]\n",
      "[0.         0.11111111 0.7        0.83333333 1.        ]\n"
     ]
    }
   ],
   "source": [
    "# 라이브러리를 사용하지않고 정규화 : 예측할 경우 x데이터의 스케일변환, 스케일된 예측값을 변환이 번거롭다\n",
    "x_data = np.array([1,2,5,8,10])\n",
    "y_data = np.array([5,15,68,80,95])\n",
    "\n",
    "scaled_x_data = (x_data - x_data.min()) / (x_data.max() - x_data.min())\n",
    "scaled_y_data = (y_data - y_data.min()) / (y_data.max() - y_data.min())\n",
    "print(scaled_x_data)\n",
    "print(scaled_y_data)"
   ]
  },
  {
   "cell_type": "code",
   "execution_count": 43,
   "id": "fee72251",
   "metadata": {},
   "outputs": [
    {
     "data": {
      "text/plain": [
       "0.4444444444444444"
      ]
     },
     "execution_count": 43,
     "metadata": {},
     "output_type": "execute_result"
    }
   ],
   "source": [
    "x = (5 - x_data.min()) / (x_data.max() - x_data.min())\n",
    "x"
   ]
  },
  {
   "cell_type": "code",
   "execution_count": 45,
   "id": "1939e059",
   "metadata": {},
   "outputs": [
    {
     "data": {
      "text/plain": [
       "68.0"
      ]
     },
     "execution_count": 45,
     "metadata": {},
     "output_type": "execute_result"
    }
   ],
   "source": [
    "0.7 * (y_data.max() - y_data.min())+y_data.min()"
   ]
  },
  {
   "cell_type": "code",
   "execution_count": 52,
   "id": "eeb7fdd3",
   "metadata": {},
   "outputs": [
    {
     "name": "stdout",
     "output_type": "stream",
     "text": [
      "기존 x 데이터 : [ 1  2  5  8 10]\n"
     ]
    },
    {
     "data": {
      "text/plain": [
       "array([[ 1.        ,  0.        ,  5.        ,  0.        ],\n",
       "       [ 2.        ,  0.11111111, 15.        ,  0.11111111],\n",
       "       [ 5.        ,  0.44444444, 68.        ,  0.7       ],\n",
       "       [ 8.        ,  0.77777778, 80.        ,  0.83333333],\n",
       "       [10.        ,  1.        , 95.        ,  1.        ]])"
      ]
     },
     "execution_count": 52,
     "metadata": {},
     "output_type": "execute_result"
    }
   ],
   "source": [
    "# 라이브러리를 사용한 정규화\n",
    "x_data = np.array([1,2,5,8,10])\n",
    "print('기존 x 데이터 :', x_data)\n",
    "x_data = np.array([1,2,5,8,10]).reshape(-1,1)\n",
    "y_data = np.array([5,15,68,80,95]).reshape(-1, 1)\n",
    "\n",
    "from sklearn.preprocessing import MinMaxScaler\n",
    "scaler_x = MinMaxScaler() # x_data를 표준화 시킬 객체\n",
    "scaler_x.fit(x_data)\n",
    "scaler_x_data = scaler_x.transform(x_data)\n",
    "scaler_y = MinMaxScaler()\n",
    "scaler_y.fit(y_data)\n",
    "scaler_y_data = scaler_y.transform(y_data)\n",
    "\n",
    "np.column_stack([x_data, scaler_x_data, y_data, scaler_y_data])"
   ]
  },
  {
   "cell_type": "code",
   "execution_count": 57,
   "id": "c0fff96b",
   "metadata": {
    "scrolled": true
   },
   "outputs": [
    {
     "name": "stdout",
     "output_type": "stream",
     "text": [
      "1/n번째 cost:7.686868190765381 \n",
      " W:[-1.9702529], b:[-1.077999]\n",
      "301/n번째 cost:2.0621936321258545 \n",
      " W:[-1.2543155], b:[-0.02773573]\n",
      "601/n번째 cost:0.7604541182518005 \n",
      " W:[-0.8578092], b:[0.4383611]\n",
      "901/n번째 cost:0.4312664568424225 \n",
      " W:[-0.6162796], b:[0.6302594]\n",
      "1201/n번째 cost:0.3245580792427063 \n",
      " W:[-0.45168763], b:[0.6944088]\n",
      "1501/n번째 cost:0.27192431688308716 \n",
      " W:[-0.32688147], b:[0.6999384]\n",
      "1801/n번째 cost:0.23513741791248322 \n",
      " W:[-0.2240612], b:[0.67942095]\n",
      "2101/n번째 cost:0.20515823364257812 \n",
      " W:[-0.13459529], b:[0.64814675]\n",
      "2401/n번째 cost:0.17953920364379883 \n",
      " W:[-0.05420196], b:[0.6132413]\n",
      "2701/n번째 cost:0.15736287832260132 \n",
      " W:[0.01932987], b:[0.577977]\n",
      "3001/n번째 cost:0.13810200989246368 \n",
      " W:[0.08721953], b:[0.5438086]\n",
      "3301/n번째 cost:0.12135884910821915 \n",
      " W:[0.1502054], b:[0.51133937]\n",
      "3601/n번째 cost:0.1068011075258255 \n",
      " W:[0.20878756], b:[0.4807751]\n",
      "3901/n번째 cost:0.09414275735616684 \n",
      " W:[0.2633433], b:[0.45213825]\n",
      "4201/n번째 cost:0.08313582837581635 \n",
      " W:[0.31418213], b:[0.42537034]\n",
      "4501/n번째 cost:0.073564812541008 \n",
      " W:[0.36157313], b:[0.40037894]\n",
      "4801/n번째 cost:0.06524242460727692 \n",
      " W:[0.40575728], b:[0.37706035]\n",
      "5101/n번째 cost:0.05800571292638779 \n",
      " W:[0.4469551], b:[0.35530907]\n",
      "5401/n번째 cost:0.05171314999461174 \n",
      " W:[0.4853697], b:[0.33502302]\n",
      "5701/n번째 cost:0.046241410076618195 \n",
      " W:[0.52119076], b:[0.31610456]\n",
      "6001/n번째 cost:0.041483525186777115 \n",
      " W:[0.5545932], b:[0.29846296]\n",
      "6301/n번째 cost:0.03734632581472397 \n",
      " W:[0.5857406], b:[0.28201187]\n",
      "6601/n번째 cost:0.033748872578144073 \n",
      " W:[0.6147851], b:[0.26667112]\n",
      "6901/n번째 cost:0.030620703473687172 \n",
      " W:[0.641869], b:[0.25236592]\n",
      "7201/n번째 cost:0.02790064550936222 \n",
      " W:[0.66712445], b:[0.23902635]\n",
      "7501/n번째 cost:0.02553541585803032 \n",
      " W:[0.6906751], b:[0.22658722]\n",
      "7801/n번째 cost:0.023478757590055466 \n",
      " W:[0.7126358], b:[0.21498789]\n",
      "8101/n번째 cost:0.021690402179956436 \n",
      " W:[0.733114], b:[0.20417157]\n",
      "8401/n번째 cost:0.020135335624217987 \n",
      " W:[0.75221], b:[0.19408536]\n",
      "8701/n번째 cost:0.01878315582871437 \n",
      " W:[0.7700167], b:[0.18468015]\n",
      "9001/n번째 cost:0.017607368528842926 \n",
      " W:[0.78662133], b:[0.17590971]\n",
      "9301/n번째 cost:0.016584977507591248 \n",
      " W:[0.80210483], b:[0.16773143]\n",
      "9601/n번째 cost:0.015695957466959953 \n",
      " W:[0.8165434], b:[0.16010523]\n",
      "9901/n번째 cost:0.014922916889190674 \n",
      " W:[0.83000714], b:[0.15299384]\n",
      "10201/n번째 cost:0.014250734820961952 \n",
      " W:[0.84256184], b:[0.14636256]\n"
     ]
    }
   ],
   "source": [
    "# placeholder 설정\n",
    "x = tf.placeholder(dtype=tf.float32)\n",
    "y = tf.placeholder(dtype=tf.float32)\n",
    "\n",
    "# weight & bias\n",
    "W = tf.Variable(tf.random.normal([1]), name='weight')\n",
    "b = tf.Variable(tf.random.normal([1]))\n",
    "\n",
    "#Hypothesis \n",
    "H = W*x + b\n",
    "\n",
    "#cost function ( loss function : 손실함수)\n",
    "cost = tf.reduce_mean(tf.square(H - y))\n",
    "\n",
    "# 경사하강법\n",
    "optimizer = tf.train.GradientDescentOptimizer(learning_rate=0.001)\n",
    "train = optimizer.minimize(cost)\n",
    "\n",
    "# Session & Variable 초기화\n",
    "sess = tf.Session()\n",
    "sess.run(tf.global_variables_initializer())\n",
    "\n",
    "# 학습\n",
    "for step in range(1, 10202):\n",
    "    _, cost_val, W_val, b_val = sess.run([train, cost, W, b], feed_dict={x:scaler_x_data,\n",
    "                                                                        y:scaler_y_data})\n",
    "    if step%300 == 1:\n",
    "        print(f'{step}/n번째 cost:{cost_val} \\n W:{W_val}, b:{b_val}')"
   ]
  },
  {
   "cell_type": "code",
   "execution_count": 74,
   "id": "f668c6e1",
   "metadata": {},
   "outputs": [
    {
     "name": "stdout",
     "output_type": "stream",
     "text": [
      "2가 스케일 조정된 값 : [[0.11111111]]\n",
      "예측값 : [[26.596733]]\n"
     ]
    }
   ],
   "source": [
    "# 예측\n",
    "scaled_input = scaler_x.transform(np.array([[2]]))\n",
    "print('2가 스케일 조정된 값 :',scaled_input)\n",
    "scaled_output = sess.run(H, feed_dict={x:scaled_input})\n",
    "print('예측값 :', scaler_y.inverse_transform(scaled_output))"
   ]
  },
  {
   "cell_type": "code",
   "execution_count": 82,
   "id": "c2452a71",
   "metadata": {},
   "outputs": [
    {
     "data": {
      "text/plain": [
       "array([[  5.        ,  20.75369453],\n",
       "       [ 15.        ,  29.58906555],\n",
       "       [ 68.        ,  56.09518814],\n",
       "       [ 80.        ,  82.60131073],\n",
       "       [ 95.        , 100.27205658]])"
      ]
     },
     "execution_count": 82,
     "metadata": {},
     "output_type": "execute_result"
    }
   ],
   "source": [
    "# x_data들의 예측값\n",
    "scaled_y_hat = sess.run(H, feed_dict={x : scaled_x_data})\n",
    "y_hat = scaler_y.inverse_transform(scaled_y_hat)\n",
    "np.column_stack([y_data, y_hat])"
   ]
  },
  {
   "cell_type": "code",
   "execution_count": 83,
   "id": "898c1a75",
   "metadata": {},
   "outputs": [
    {
     "data": {
      "text/plain": [
       "[<matplotlib.lines.Line2D at 0x1f3bf09c040>]"
      ]
     },
     "execution_count": 83,
     "metadata": {},
     "output_type": "execute_result"
    },
    {
     "data": {
      "image/png": "[encoded data removed]",
      "text/plain": [
       "<Figure size 640x480 with 1 Axes>"
      ]
     },
     "metadata": {},
     "output_type": "display_data"
    }
   ],
   "source": [
    "import matplotlib.pyplot as plt\n",
    "plt.plot(x_data, y_data)\n",
    "plt.plot(x_data, y_hat)"
   ]
  },
  {
   "cell_type": "code",
   "execution_count": 76,
   "id": "b2aa3328",
   "metadata": {},
   "outputs": [
    {
     "data": {
      "image/png": "[encoded data removed]",
      "text/plain": [
       "<Figure size 640x480 with 1 Axes>"
      ]
     },
     "metadata": {},
     "output_type": "display_data"
    }
   ],
   "source": [
    "import seaborn as sns\n",
    "import pandas as pd\n",
    "df = pd.DataFrame({'x':x_data[:,0],\n",
    "                  'y':y_data[:,0]})\n",
    "sns.regplot(data=df,\n",
    "           x='x',\n",
    "           y='y')\n",
    "plt.show()"
   ]
  },
  {
   "cell_type": "code",
   "execution_count": 79,
   "id": "a169aae7",
   "metadata": {},
   "outputs": [
    {
     "data": {
      "text/plain": [
       "array([[-1.22474487, -1.32373476],\n",
       "       [-0.93313895, -1.04563922],\n",
       "       [-0.05832118,  0.42826713],\n",
       "       [ 0.81649658,  0.76198177],\n",
       "       [ 1.39970842,  1.17912508]])"
      ]
     },
     "execution_count": 79,
     "metadata": {},
     "output_type": "execute_result"
    }
   ],
   "source": [
    "# 라이브러리를 쓰지 않고 표준화\n",
    "x_data = np.array([1,2,5,8,10])\n",
    "y_data = np.array([5,15,68,80,95])\n",
    "scaled_x_data = (x_data - x_data.mean()) / x_data.std()\n",
    "scaled_y_data = (y_data - y_data.mean()) / y_data.std()\n",
    "np.column_stack([scaled_x_data, scaled_y_data])"
   ]
  },
  {
   "cell_type": "code",
   "execution_count": 86,
   "id": "21e667c5",
   "metadata": {},
   "outputs": [
    {
     "name": "stdout",
     "output_type": "stream",
     "text": [
      "[[ 1.         -1.22474487]\n",
      " [ 2.         -0.93313895]\n",
      " [ 5.         -0.05832118]\n",
      " [ 8.          0.81649658]\n",
      " [10.          1.39970842]]\n",
      "[[ 5.         -1.32373476]\n",
      " [15.         -1.04563922]\n",
      " [68.          0.42826713]\n",
      " [80.          0.76198177]\n",
      " [95.          1.17912508]]\n"
     ]
    }
   ],
   "source": [
    "# 라이브러리를 써서 표준화\n",
    "x_data = np.array([1,2,5,8,10]).reshape(-1, 1)\n",
    "y_data = np.array([5,15,68,80,95]).reshape(-1, 1)\n",
    "\n",
    "from sklearn.preprocessing import StandardScaler\n",
    "scaler_x = StandardScaler() # x_data 를 표준화할 객채\n",
    "scaler_x.fit(x_data)\n",
    "scaled_x_data = scaler_x.transform(x_data)\n",
    "scaler_y = StandardScaler()\n",
    "scaler_y.fit(y_data)\n",
    "scaled_y_data = scaler_y.transform(y_data)\n",
    "print(np.column_stack([x_data, scaled_x_data]))\n",
    "print(np.column_stack([y_data, scaled_y_data]))"
   ]
  },
  {
   "cell_type": "code",
   "execution_count": 91,
   "id": "835168e0",
   "metadata": {},
   "outputs": [
    {
     "name": "stdout",
     "output_type": "stream",
     "text": [
      "1/n번째 cost:0.8611376881599426, W:[-0.12135419], b:[1.4001153]\n",
      "1001/n번째 cost:0.20859646797180176, W:[-0.10324202], b:[0.7072864]\n",
      "2001/n번째 cost:0.13226261734962463, W:[0.11138033], b:[0.5376199]\n",
      "3001/n번째 cost:0.08662296831607819, W:[0.29790187], b:[0.43446174]\n",
      "4001/n번째 cost:0.05799790099263191, W:[0.44701865], b:[0.35531777]\n",
      "5001/n번째 cost:0.04003481939435005, W:[0.56525654], b:[0.29283464]\n",
      "6001/n번째 cost:0.02876237966120243, W:[0.65893], b:[0.2433547]\n",
      "7001/n번째 cost:0.021688487380743027, W:[0.7331368], b:[0.2041596]\n",
      "8001/n번째 cost:0.01724938675761223, W:[0.791921], b:[0.17311044]\n",
      "9001/n번째 cost:0.014463667757809162, W:[0.8384887], b:[0.14851409]\n",
      "10001/n번째 cost:0.012715555727481842, W:[0.8753778], b:[0.12902954]\n"
     ]
    }
   ],
   "source": [
    "# placeholder 설정\n",
    "x = tf.placeholder(dtype=tf.float32)\n",
    "y = tf.placeholder(dtype=tf.float32)\n",
    "\n",
    "# weight & bias\n",
    "W = tf.Variable(tf.random.normal([1]), name='weight')\n",
    "b = tf.Variable(tf.random.normal([1]))\n",
    "\n",
    "#Hypothesis \n",
    "H = W*x + b\n",
    "\n",
    "#cost function ( loss function : 손실함수)\n",
    "cost = tf.reduce_mean(tf.square(H - y))\n",
    "\n",
    "# 경사하강법\n",
    "optimizer = tf.train.GradientDescentOptimizer(learning_rate=0.001)\n",
    "train = optimizer.minimize(cost)\n",
    "\n",
    "# Session & Variable 초기화\n",
    "sess = tf.Session()\n",
    "sess.run(tf.global_variables_initializer())\n",
    "\n",
    "# 학습\n",
    "for step in range(1, 10002):\n",
    "    _, cost_val, W_val, b_val = sess.run([train, cost, W, b], feed_dict={x:scaler_x_data,\n",
    "                                                                        y:scaler_y_data})\n",
    "    if step%1000 == 1:\n",
    "        print(f'{step}/n번째 cost:{cost_val}, W:{W_val}, b:{b_val}')"
   ]
  },
  {
   "cell_type": "markdown",
   "id": "f28313f2",
   "metadata": {},
   "source": [
    "## 2.5 독립변수 x가 여러개인 linear Regression"
   ]
  },
  {
   "cell_type": "code",
   "execution_count": null,
   "id": "62a1e7bc",
   "metadata": {},
   "outputs": [],
   "source": []
  },
  {
   "cell_type": "code",
   "execution_count": 3,
   "id": "4d3501d7",
   "metadata": {},
   "outputs": [],
   "source": [
    "import pandas as pd"
   ]
  },
  {
   "cell_type": "markdown",
   "id": "901dceea",
   "metadata": {},
   "source": [
    "## csv를 array로 읽어오기"
   ]
  },
  {
   "cell_type": "code",
   "execution_count": 6,
   "id": "376f8a02",
   "metadata": {},
   "outputs": [
    {
     "data": {
      "text/plain": [
       "((111, 3), (111,))"
      ]
     },
     "execution_count": 6,
     "metadata": {},
     "output_type": "execute_result"
    }
   ],
   "source": [
    "# 방법1 : csv -> 데이터프레임 -> 넘파이배열\n",
    "# 1. csv를 dataFrame 읽어와\n",
    "data = pd.read_csv('data/ozone.csv')\n",
    "# 2. 결측치 대체 or 삭제\n",
    "data.dropna(how='any', axis=0, inplace=True)\n",
    "X = data[['Solar.R', 'Wind','Temp']].values\n",
    "y = data['Ozone'].values\n",
    "X.shape, y.shape"
   ]
  },
  {
   "cell_type": "code",
   "execution_count": 8,
   "id": "b584e4c6",
   "metadata": {},
   "outputs": [
    {
     "data": {
      "text/plain": [
       "array([[ 41. , 190. ,   7.4,  67. ,   5. ,   1. ],\n",
       "       [ 36. , 118. ,   8. ,  72. ,   5. ,   2. ],\n",
       "       [ 12. , 149. ,  12.6,  74. ,   5. ,   3. ],\n",
       "       [ 18. , 313. ,  11.5,  62. ,   5. ,   4. ],\n",
       "       [  nan,   nan,  14.3,  56. ,   5. ,   5. ],\n",
       "       [ 28. ,   nan,  14.9,  66. ,   5. ,   6. ],\n",
       "       [ 23. , 299. ,   8.6,  65. ,   5. ,   7. ],\n",
       "       [ 19. ,  99. ,  13.8,  59. ,   5. ,   8. ],\n",
       "       [  8. ,  19. ,  20.1,  61. ,   5. ,   9. ],\n",
       "       [  nan, 194. ,   8.6,  69. ,   5. ,  10. ],\n",
       "       [  7. ,   nan,   6.9,  74. ,   5. ,  11. ],\n",
       "       [ 16. , 256. ,   9.7,  69. ,   5. ,  12. ],\n",
       "       [ 11. , 290. ,   9.2,  66. ,   5. ,  13. ],\n",
       "       [ 14. , 274. ,  10.9,  68. ,   5. ,  14. ],\n",
       "       [ 18. ,  65. ,  13.2,  58. ,   5. ,  15. ],\n",
       "       [ 14. , 334. ,  11.5,  64. ,   5. ,  16. ],\n",
       "       [ 34. , 307. ,  12. ,  66. ,   5. ,  17. ],\n",
       "       [  6. ,  78. ,  18.4,  57. ,   5. ,  18. ],\n",
       "       [ 30. , 322. ,  11.5,  68. ,   5. ,  19. ],\n",
       "       [ 11. ,  44. ,   9.7,  62. ,   5. ,  20. ],\n",
       "       [  1. ,   8. ,   9.7,  59. ,   5. ,  21. ],\n",
       "       [ 11. , 320. ,  16.6,  73. ,   5. ,  22. ],\n",
       "       [  4. ,  25. ,   9.7,  61. ,   5. ,  23. ],\n",
       "       [ 32. ,  92. ,  12. ,  61. ,   5. ,  24. ],\n",
       "       [  nan,  66. ,  16.6,  57. ,   5. ,  25. ],\n",
       "       [  nan, 266. ,  14.9,  58. ,   5. ,  26. ],\n",
       "       [  nan,   nan,   8. ,  57. ,   5. ,  27. ],\n",
       "       [ 23. ,  13. ,  12. ,  67. ,   5. ,  28. ],\n",
       "       [ 45. , 252. ,  14.9,  81. ,   5. ,  29. ],\n",
       "       [115. , 223. ,   5.7,  79. ,   5. ,  30. ],\n",
       "       [ 37. , 279. ,   7.4,  76. ,   5. ,  31. ],\n",
       "       [  nan, 286. ,   8.6,  78. ,   6. ,   1. ],\n",
       "       [  nan, 287. ,   9.7,  74. ,   6. ,   2. ],\n",
       "       [  nan, 242. ,  16.1,  67. ,   6. ,   3. ],\n",
       "       [  nan, 186. ,   9.2,  84. ,   6. ,   4. ],\n",
       "       [  nan, 220. ,   8.6,  85. ,   6. ,   5. ],\n",
       "       [  nan, 264. ,  14.3,  79. ,   6. ,   6. ],\n",
       "       [ 29. , 127. ,   9.7,  82. ,   6. ,   7. ],\n",
       "       [  nan, 273. ,   6.9,  87. ,   6. ,   8. ],\n",
       "       [ 71. , 291. ,  13.8,  90. ,   6. ,   9. ],\n",
       "       [ 39. , 323. ,  11.5,  87. ,   6. ,  10. ],\n",
       "       [  nan, 259. ,  10.9,  93. ,   6. ,  11. ],\n",
       "       [  nan, 250. ,   9.2,  92. ,   6. ,  12. ],\n",
       "       [ 23. , 148. ,   8. ,  82. ,   6. ,  13. ],\n",
       "       [  nan, 332. ,  13.8,  80. ,   6. ,  14. ],\n",
       "       [  nan, 322. ,  11.5,  79. ,   6. ,  15. ],\n",
       "       [ 21. , 191. ,  14.9,  77. ,   6. ,  16. ],\n",
       "       [ 37. , 284. ,  20.7,  72. ,   6. ,  17. ],\n",
       "       [ 20. ,  37. ,   9.2,  65. ,   6. ,  18. ],\n",
       "       [ 12. , 120. ,  11.5,  73. ,   6. ,  19. ],\n",
       "       [ 13. , 137. ,  10.3,  76. ,   6. ,  20. ],\n",
       "       [  nan, 150. ,   6.3,  77. ,   6. ,  21. ],\n",
       "       [  nan,  59. ,   1.7,  76. ,   6. ,  22. ],\n",
       "       [  nan,  91. ,   4.6,  76. ,   6. ,  23. ],\n",
       "       [  nan, 250. ,   6.3,  76. ,   6. ,  24. ],\n",
       "       [  nan, 135. ,   8. ,  75. ,   6. ,  25. ],\n",
       "       [  nan, 127. ,   8. ,  78. ,   6. ,  26. ],\n",
       "       [  nan,  47. ,  10.3,  73. ,   6. ,  27. ],\n",
       "       [  nan,  98. ,  11.5,  80. ,   6. ,  28. ],\n",
       "       [  nan,  31. ,  14.9,  77. ,   6. ,  29. ],\n",
       "       [  nan, 138. ,   8. ,  83. ,   6. ,  30. ],\n",
       "       [135. , 269. ,   4.1,  84. ,   7. ,   1. ],\n",
       "       [ 49. , 248. ,   9.2,  85. ,   7. ,   2. ],\n",
       "       [ 32. , 236. ,   9.2,  81. ,   7. ,   3. ],\n",
       "       [  nan, 101. ,  10.9,  84. ,   7. ,   4. ],\n",
       "       [ 64. , 175. ,   4.6,  83. ,   7. ,   5. ],\n",
       "       [ 40. , 314. ,  10.9,  83. ,   7. ,   6. ],\n",
       "       [ 77. , 276. ,   5.1,  88. ,   7. ,   7. ],\n",
       "       [ 97. , 267. ,   6.3,  92. ,   7. ,   8. ],\n",
       "       [ 97. , 272. ,   5.7,  92. ,   7. ,   9. ],\n",
       "       [ 85. , 175. ,   7.4,  89. ,   7. ,  10. ],\n",
       "       [  nan, 139. ,   8.6,  82. ,   7. ,  11. ],\n",
       "       [ 10. , 264. ,  14.3,  73. ,   7. ,  12. ],\n",
       "       [ 27. , 175. ,  14.9,  81. ,   7. ,  13. ],\n",
       "       [  nan, 291. ,  14.9,  91. ,   7. ,  14. ],\n",
       "       [  7. ,  48. ,  14.3,  80. ,   7. ,  15. ],\n",
       "       [ 48. , 260. ,   6.9,  81. ,   7. ,  16. ],\n",
       "       [ 35. , 274. ,  10.3,  82. ,   7. ,  17. ],\n",
       "       [ 61. , 285. ,   6.3,  84. ,   7. ,  18. ],\n",
       "       [ 79. , 187. ,   5.1,  87. ,   7. ,  19. ],\n",
       "       [ 63. , 220. ,  11.5,  85. ,   7. ,  20. ],\n",
       "       [ 16. ,   7. ,   6.9,  74. ,   7. ,  21. ],\n",
       "       [  nan, 258. ,   9.7,  81. ,   7. ,  22. ],\n",
       "       [  nan, 295. ,  11.5,  82. ,   7. ,  23. ],\n",
       "       [ 80. , 294. ,   8.6,  86. ,   7. ,  24. ],\n",
       "       [108. , 223. ,   8. ,  85. ,   7. ,  25. ],\n",
       "       [ 20. ,  81. ,   8.6,  82. ,   7. ,  26. ],\n",
       "       [ 52. ,  82. ,  12. ,  86. ,   7. ,  27. ],\n",
       "       [ 82. , 213. ,   7.4,  88. ,   7. ,  28. ],\n",
       "       [ 50. , 275. ,   7.4,  86. ,   7. ,  29. ],\n",
       "       [ 64. , 253. ,   7.4,  83. ,   7. ,  30. ],\n",
       "       [ 59. , 254. ,   9.2,  81. ,   7. ,  31. ],\n",
       "       [ 39. ,  83. ,   6.9,  81. ,   8. ,   1. ],\n",
       "       [  9. ,  24. ,  13.8,  81. ,   8. ,   2. ],\n",
       "       [ 16. ,  77. ,   7.4,  82. ,   8. ,   3. ],\n",
       "       [ 78. ,   nan,   6.9,  86. ,   8. ,   4. ],\n",
       "       [ 35. ,   nan,   7.4,  85. ,   8. ,   5. ],\n",
       "       [ 66. ,   nan,   4.6,  87. ,   8. ,   6. ],\n",
       "       [122. , 255. ,   4. ,  89. ,   8. ,   7. ],\n",
       "       [ 89. , 229. ,  10.3,  90. ,   8. ,   8. ],\n",
       "       [110. , 207. ,   8. ,  90. ,   8. ,   9. ],\n",
       "       [  nan, 222. ,   8.6,  92. ,   8. ,  10. ],\n",
       "       [  nan, 137. ,  11.5,  86. ,   8. ,  11. ],\n",
       "       [ 44. , 192. ,  11.5,  86. ,   8. ,  12. ],\n",
       "       [ 28. , 273. ,  11.5,  82. ,   8. ,  13. ],\n",
       "       [ 65. , 157. ,   9.7,  80. ,   8. ,  14. ],\n",
       "       [  nan,  64. ,  11.5,  79. ,   8. ,  15. ],\n",
       "       [ 22. ,  71. ,  10.3,  77. ,   8. ,  16. ],\n",
       "       [ 59. ,  51. ,   6.3,  79. ,   8. ,  17. ],\n",
       "       [ 23. , 115. ,   7.4,  76. ,   8. ,  18. ],\n",
       "       [ 31. , 244. ,  10.9,  78. ,   8. ,  19. ],\n",
       "       [ 44. , 190. ,  10.3,  78. ,   8. ,  20. ],\n",
       "       [ 21. , 259. ,  15.5,  77. ,   8. ,  21. ],\n",
       "       [  9. ,  36. ,  14.3,  72. ,   8. ,  22. ],\n",
       "       [  nan, 255. ,  12.6,  75. ,   8. ,  23. ],\n",
       "       [ 45. , 212. ,   9.7,  79. ,   8. ,  24. ],\n",
       "       [168. , 238. ,   3.4,  81. ,   8. ,  25. ],\n",
       "       [ 73. , 215. ,   8. ,  86. ,   8. ,  26. ],\n",
       "       [  nan, 153. ,   5.7,  88. ,   8. ,  27. ],\n",
       "       [ 76. , 203. ,   9.7,  97. ,   8. ,  28. ],\n",
       "       [118. , 225. ,   2.3,  94. ,   8. ,  29. ],\n",
       "       [ 84. , 237. ,   6.3,  96. ,   8. ,  30. ],\n",
       "       [ 85. , 188. ,   6.3,  94. ,   8. ,  31. ],\n",
       "       [ 96. , 167. ,   6.9,  91. ,   9. ,   1. ],\n",
       "       [ 78. , 197. ,   5.1,  92. ,   9. ,   2. ],\n",
       "       [ 73. , 183. ,   2.8,  93. ,   9. ,   3. ],\n",
       "       [ 91. , 189. ,   4.6,  93. ,   9. ,   4. ],\n",
       "       [ 47. ,  95. ,   7.4,  87. ,   9. ,   5. ],\n",
       "       [ 32. ,  92. ,  15.5,  84. ,   9. ,   6. ],\n",
       "       [ 20. , 252. ,  10.9,  80. ,   9. ,   7. ],\n",
       "       [ 23. , 220. ,  10.3,  78. ,   9. ,   8. ],\n",
       "       [ 21. , 230. ,  10.9,  75. ,   9. ,   9. ],\n",
       "       [ 24. , 259. ,   9.7,  73. ,   9. ,  10. ],\n",
       "       [ 44. , 236. ,  14.9,  81. ,   9. ,  11. ],\n",
       "       [ 21. , 259. ,  15.5,  76. ,   9. ,  12. ],\n",
       "       [ 28. , 238. ,   6.3,  77. ,   9. ,  13. ],\n",
       "       [  9. ,  24. ,  10.9,  71. ,   9. ,  14. ],\n",
       "       [ 13. , 112. ,  11.5,  71. ,   9. ,  15. ],\n",
       "       [ 46. , 237. ,   6.9,  78. ,   9. ,  16. ],\n",
       "       [ 18. , 224. ,  13.8,  67. ,   9. ,  17. ],\n",
       "       [ 13. ,  27. ,  10.3,  76. ,   9. ,  18. ],\n",
       "       [ 24. , 238. ,  10.3,  68. ,   9. ,  19. ],\n",
       "       [ 16. , 201. ,   8. ,  82. ,   9. ,  20. ],\n",
       "       [ 13. , 238. ,  12.6,  64. ,   9. ,  21. ],\n",
       "       [ 23. ,  14. ,   9.2,  71. ,   9. ,  22. ],\n",
       "       [ 36. , 139. ,  10.3,  81. ,   9. ,  23. ],\n",
       "       [  7. ,  49. ,  10.3,  69. ,   9. ,  24. ],\n",
       "       [ 14. ,  20. ,  16.6,  63. ,   9. ,  25. ],\n",
       "       [ 30. , 193. ,   6.9,  70. ,   9. ,  26. ],\n",
       "       [  nan, 145. ,  13.2,  77. ,   9. ,  27. ],\n",
       "       [ 14. , 191. ,  14.3,  75. ,   9. ,  28. ],\n",
       "       [ 18. , 131. ,   8. ,  76. ,   9. ,  29. ],\n",
       "       [ 20. , 223. ,  11.5,  68. ,   9. ,  30. ]])"
      ]
     },
     "execution_count": 8,
     "metadata": {},
     "output_type": "execute_result"
    }
   ],
   "source": [
    "# 방법2 : csv -> 넘파이배열\n",
    "import numpy as np\n",
    "# data = np.loadtxt('data/ozone_nonan.csv', delimiter=',', skiprows=1)\n",
    "data = np.genfromtxt('data/ozone.csv', delimiter=',', skip_header=1,\n",
    "                    missing_values='NA', filling_values=np.nan)\n",
    "data"
   ]
  },
  {
   "cell_type": "code",
   "execution_count": 1,
   "id": "f43f1963",
   "metadata": {},
   "outputs": [
    {
     "data": {
      "text/html": [
       "<div>\n",
       "<style scoped>\n",
       "    .dataframe tbody tr th:only-of-type {\n",
       "        vertical-align: middle;\n",
       "    }\n",
       "\n",
       "    .dataframe tbody tr th {\n",
       "        vertical-align: top;\n",
       "    }\n",
       "\n",
       "    .dataframe thead th {\n",
       "        text-align: right;\n",
       "    }\n",
       "</style>\n",
       "<table border=\"1\" class=\"dataframe\">\n",
       "  <thead>\n",
       "    <tr style=\"text-align: right;\">\n",
       "      <th></th>\n",
       "      <th>Ozone</th>\n",
       "      <th>Solar.R</th>\n",
       "      <th>Wind</th>\n",
       "      <th>Temp</th>\n",
       "      <th>Month</th>\n",
       "      <th>Day</th>\n",
       "    </tr>\n",
       "  </thead>\n",
       "  <tbody>\n",
       "    <tr>\n",
       "      <th>0</th>\n",
       "      <td>41.0</td>\n",
       "      <td>190.0</td>\n",
       "      <td>7.4</td>\n",
       "      <td>67</td>\n",
       "      <td>5</td>\n",
       "      <td>1</td>\n",
       "    </tr>\n",
       "    <tr>\n",
       "      <th>1</th>\n",
       "      <td>36.0</td>\n",
       "      <td>118.0</td>\n",
       "      <td>8.0</td>\n",
       "      <td>72</td>\n",
       "      <td>5</td>\n",
       "      <td>2</td>\n",
       "    </tr>\n",
       "    <tr>\n",
       "      <th>2</th>\n",
       "      <td>12.0</td>\n",
       "      <td>149.0</td>\n",
       "      <td>12.6</td>\n",
       "      <td>74</td>\n",
       "      <td>5</td>\n",
       "      <td>3</td>\n",
       "    </tr>\n",
       "    <tr>\n",
       "      <th>3</th>\n",
       "      <td>18.0</td>\n",
       "      <td>313.0</td>\n",
       "      <td>11.5</td>\n",
       "      <td>62</td>\n",
       "      <td>5</td>\n",
       "      <td>4</td>\n",
       "    </tr>\n",
       "    <tr>\n",
       "      <th>4</th>\n",
       "      <td>NaN</td>\n",
       "      <td>NaN</td>\n",
       "      <td>14.3</td>\n",
       "      <td>56</td>\n",
       "      <td>5</td>\n",
       "      <td>5</td>\n",
       "    </tr>\n",
       "    <tr>\n",
       "      <th>...</th>\n",
       "      <td>...</td>\n",
       "      <td>...</td>\n",
       "      <td>...</td>\n",
       "      <td>...</td>\n",
       "      <td>...</td>\n",
       "      <td>...</td>\n",
       "    </tr>\n",
       "    <tr>\n",
       "      <th>148</th>\n",
       "      <td>30.0</td>\n",
       "      <td>193.0</td>\n",
       "      <td>6.9</td>\n",
       "      <td>70</td>\n",
       "      <td>9</td>\n",
       "      <td>26</td>\n",
       "    </tr>\n",
       "    <tr>\n",
       "      <th>149</th>\n",
       "      <td>NaN</td>\n",
       "      <td>145.0</td>\n",
       "      <td>13.2</td>\n",
       "      <td>77</td>\n",
       "      <td>9</td>\n",
       "      <td>27</td>\n",
       "    </tr>\n",
       "    <tr>\n",
       "      <th>150</th>\n",
       "      <td>14.0</td>\n",
       "      <td>191.0</td>\n",
       "      <td>14.3</td>\n",
       "      <td>75</td>\n",
       "      <td>9</td>\n",
       "      <td>28</td>\n",
       "    </tr>\n",
       "    <tr>\n",
       "      <th>151</th>\n",
       "      <td>18.0</td>\n",
       "      <td>131.0</td>\n",
       "      <td>8.0</td>\n",
       "      <td>76</td>\n",
       "      <td>9</td>\n",
       "      <td>29</td>\n",
       "    </tr>\n",
       "    <tr>\n",
       "      <th>152</th>\n",
       "      <td>20.0</td>\n",
       "      <td>223.0</td>\n",
       "      <td>11.5</td>\n",
       "      <td>68</td>\n",
       "      <td>9</td>\n",
       "      <td>30</td>\n",
       "    </tr>\n",
       "  </tbody>\n",
       "</table>\n",
       "<p>153 rows × 6 columns</p>\n",
       "</div>"
      ],
      "text/plain": [
       "     Ozone  Solar.R  Wind  Temp  Month  Day\n",
       "0     41.0    190.0   7.4    67      5    1\n",
       "1     36.0    118.0   8.0    72      5    2\n",
       "2     12.0    149.0  12.6    74      5    3\n",
       "3     18.0    313.0  11.5    62      5    4\n",
       "4      NaN      NaN  14.3    56      5    5\n",
       "..     ...      ...   ...   ...    ...  ...\n",
       "148   30.0    193.0   6.9    70      9   26\n",
       "149    NaN    145.0  13.2    77      9   27\n",
       "150   14.0    191.0  14.3    75      9   28\n",
       "151   18.0    131.0   8.0    76      9   29\n",
       "152   20.0    223.0  11.5    68      9   30\n",
       "\n",
       "[153 rows x 6 columns]"
      ]
     },
     "execution_count": 1,
     "metadata": {},
     "output_type": "execute_result"
    }
   ],
   "source": [
    "import statsmodels.api as sm\n",
    "airquality = sm.datasets.get_rdataset('airquality').data\n",
    "airquility.to_csv('XXX.csv', index=False)"
   ]
  },
  {
   "cell_type": "code",
   "execution_count": null,
   "id": "c0e7eb80",
   "metadata": {},
   "outputs": [],
   "source": []
  },
  {
   "cell_type": "code",
   "execution_count": null,
   "id": "b363b20e",
   "metadata": {},
   "outputs": [],
   "source": []
  },
  {
   "cell_type": "code",
   "execution_count": null,
   "id": "56593381",
   "metadata": {},
   "outputs": [],
   "source": []
  },
  {
   "cell_type": "code",
   "execution_count": null,
   "id": "ebe7c14d",
   "metadata": {},
   "outputs": [],
   "source": []
  },
  {
   "cell_type": "code",
   "execution_count": null,
   "id": "da4ed1b0",
   "metadata": {},
   "outputs": [],
   "source": []
  },
  {
   "cell_type": "code",
   "execution_count": null,
   "id": "c2372e02",
   "metadata": {},
   "outputs": [],
   "source": []
  },
  {
   "cell_type": "code",
   "execution_count": null,
   "id": "24f55dc3",
   "metadata": {},
   "outputs": [],
   "source": []
  },
  {
   "cell_type": "code",
   "execution_count": null,
   "id": "76b2dbc1",
   "metadata": {},
   "outputs": [],
   "source": []
  },
  {
   "cell_type": "code",
   "execution_count": null,
   "id": "3cf64ec4",
   "metadata": {},
   "outputs": [],
   "source": []
  },
  {
   "cell_type": "code",
   "execution_count": null,
   "id": "7ae7f54a",
   "metadata": {},
   "outputs": [],
   "source": []
  },
  {
   "cell_type": "code",
   "execution_count": null,
   "id": "47220e99",
   "metadata": {},
   "outputs": [],
   "source": []
  },
  {
   "cell_type": "code",
   "execution_count": null,
   "id": "40188a6e",
   "metadata": {},
   "outputs": [],
   "source": []
  },
  {
   "cell_type": "code",
   "execution_count": null,
   "id": "00a00413",
   "metadata": {},
   "outputs": [],
   "source": []
  },
  {
   "cell_type": "code",
   "execution_count": null,
   "id": "e4c89b2d",
   "metadata": {},
   "outputs": [],
   "source": []
  },
  {
   "cell_type": "code",
   "execution_count": null,
   "id": "3e6c870b",
   "metadata": {},
   "outputs": [],
   "source": []
  },
  {
   "cell_type": "code",
   "execution_count": null,
   "id": "7839ca8f",
   "metadata": {},
   "outputs": [],
   "source": []
  },
  {
   "cell_type": "code",
   "execution_count": null,
   "id": "6e2f5860",
   "metadata": {},
   "outputs": [],
   "source": []
  },
  {
   "cell_type": "code",
   "execution_count": null,
   "id": "3874f0fe",
   "metadata": {},
   "outputs": [],
   "source": []
  }
 ],
 "metadata": {
  "kernelspec": {
   "display_name": "Python 3 (ipykernel)",
   "language": "python",
   "name": "python3"
  },
  "language_info": {
   "codemirror_mode": {
    "name": "ipython",
    "version": 3
   },
   "file_extension": ".py",
   "mimetype": "text/x-python",
   "name": "python",
   "nbconvert_exporter": "python",
   "pygments_lexer": "ipython3",
   "version": "3.10.9"
  },
  "toc": {
   "base_numbering": 1,
   "nav_menu": {},
   "number_sections": true,
   "sideBar": true,
   "skip_h1_title": false,
   "title_cell": "Table of Contents",
   "title_sidebar": "Contents",
   "toc_cell": false,
   "toc_position": {},
   "toc_section_display": true,
   "toc_window_display": false
  }
 },
 "nbformat": 4,
 "nbformat_minor": 5
}
