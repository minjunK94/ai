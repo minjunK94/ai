{
 "cells": [
  {
   "cell_type": "markdown",
   "id": "c979c4b4",
   "metadata": {},
   "source": [
    "**<font size='6' color='aqua'>ch4. RNN(Recurrent Neural Network 순환신경망)</font>**\n",
    "# 1. 문맥을 이용하여 모델만들기 - 전처리"
   ]
  },
  {
   "cell_type": "code",
   "execution_count": 56,
   "id": "f932ded7",
   "metadata": {},
   "outputs": [],
   "source": [
    "from keras_preprocessing.text import Tokenizer # text 를 숫자로 바꾸는 함수\n",
    "from tensorflow.keras.preprocessing.sequence import pad_sequences\n",
    "from tensorflow.keras.utils import to_categorical\n",
    "from tensorflow.keras.models import Sequential # 순차적 레이어 모델 생성\n",
    "from tensorflow.keras.layers import Embedding, SimpleRNN # 희소행렬 변환, RNN\n",
    "from tensorflow.keras.layers import Dense\n",
    "import matplotlib.pyplot as plt\n",
    "import numpy as np"
   ]
  },
  {
   "cell_type": "code",
   "execution_count": 3,
   "id": "4fff2de8",
   "metadata": {},
   "outputs": [],
   "source": [
    "text = \"\"\"경마장에 있는 말이 뛰고 있다\n",
    "그의말이 법이다\n",
    "가는 말이 고와야 오는 말이 곱다\"\"\""
   ]
  },
  {
   "cell_type": "code",
   "execution_count": 15,
   "id": "8f98288c",
   "metadata": {},
   "outputs": [
    {
     "name": "stdout",
     "output_type": "stream",
     "text": [
      "[2, 3, 1, 4, 5, 6, 1, 7, 8, 1, 9, 10, 1, 11]\n",
      "{'말이': 1, '경마장에': 2, '있는': 3, '뛰고': 4, '있다': 5, '그의': 6, '법이다': 7, '가는': 8, '고와야': 9, '오는': 10, '곱다': 11}\n"
     ]
    }
   ],
   "source": [
    "t = Tokenizer()\n",
    "t.fit_on_texts([text])\n",
    "encoded = t.texts_to_sequences([text])[0]\n",
    "print(encoded)\n",
    "print(t.word_index)"
   ]
  },
  {
   "cell_type": "code",
   "execution_count": 7,
   "id": "1aeeba2e",
   "metadata": {},
   "outputs": [
    {
     "name": "stdout",
     "output_type": "stream",
     "text": [
      "[[2, 1, 5], [1, 11]]\n",
      "[2, 1, 5]\n"
     ]
    }
   ],
   "source": [
    "# 문자열을 인덱스 시퀀스로 반환\n",
    "print(t.texts_to_sequences(['경마장에 말이 있다', '말이 곱다 ']))\n",
    "print(t.texts_to_sequences(['경마장에 말이 있다'])[0])"
   ]
  },
  {
   "cell_type": "code",
   "execution_count": 9,
   "id": "4a11a4bb",
   "metadata": {},
   "outputs": [
    {
     "name": "stdout",
     "output_type": "stream",
     "text": [
      "[[0. 1. 0. 0. 1. 0. 0. 0. 0. 0. 0. 0.]]\n",
      "[[1, 4]]\n"
     ]
    }
   ],
   "source": [
    "print(t.texts_to_matrix(['말이 뛰고']))\n",
    "print(t.texts_to_sequences(['말이 뛰고']))"
   ]
  },
  {
   "cell_type": "code",
   "execution_count": 13,
   "id": "ce540cc3",
   "metadata": {},
   "outputs": [],
   "source": [
    "text = \"\"\"경마장에 있는 말이 뛰고 있다\n",
    "그의 말이 법이다\n",
    "가는 말이 고와야 오는 말이 곱다\"\"\""
   ]
  },
  {
   "cell_type": "code",
   "execution_count": 20,
   "id": "2e3684fe",
   "metadata": {},
   "outputs": [
    {
     "name": "stdout",
     "output_type": "stream",
     "text": [
      "{'말이': 1, '경마장에': 2, '있는': 3, '뛰고': 4, '있다': 5, '그의': 6, '법이다': 7, '가는': 8, '고와야': 9, '오는': 10, '곱다': 11}\n",
      "2: 경마장에\n"
     ]
    }
   ],
   "source": [
    "print(t.word_index)\n",
    "for word, value in t.word_index.items():\n",
    "    if value==2:\n",
    "        print(\"2:\", word)\n",
    "        break"
   ]
  },
  {
   "cell_type": "code",
   "execution_count": 24,
   "id": "31f5333e",
   "metadata": {},
   "outputs": [
    {
     "name": "stdout",
     "output_type": "stream",
     "text": [
      "원래 문장 : 경마장에 있는 말이 뛰고 있다\n",
      "encoded 문장 : [2, 3, 1, 4, 5]\n",
      "원래 문장 : 그의 말이 법이다\n",
      "encoded 문장 : [6, 1, 7]\n",
      "원래 문장 : 가는 말이 고와야 오는 말이 곱다\n",
      "encoded 문장 : [8, 1, 9, 10, 1, 11]\n",
      "sequences와 해석을 출력\n",
      "[2:경마장에3:있는]\n",
      "[2:경마장에3:있는1:말이]\n",
      "[2:경마장에3:있는1:말이4:뛰고]\n",
      "[2:경마장에3:있는1:말이4:뛰고5:있다]\n",
      "[3:있는1:말이]\n",
      "[3:있는1:말이4:뛰고]\n",
      "[3:있는1:말이4:뛰고5:있다]\n",
      "[1:말이4:뛰고]\n",
      "[1:말이4:뛰고5:있다]\n",
      "[4:뛰고5:있다]\n",
      "[6:그의1:말이]\n",
      "[6:그의1:말이7:법이다]\n",
      "[1:말이7:법이다]\n",
      "[8:가는1:말이]\n",
      "[8:가는1:말이9:고와야]\n",
      "[8:가는1:말이9:고와야10:오는]\n",
      "[8:가는1:말이9:고와야10:오는1:말이]\n",
      "[8:가는1:말이9:고와야10:오는1:말이11:곱다]\n",
      "[1:말이9:고와야]\n",
      "[1:말이9:고와야10:오는]\n",
      "[1:말이9:고와야10:오는1:말이]\n",
      "[1:말이9:고와야10:오는1:말이11:곱다]\n",
      "[9:고와야10:오는]\n",
      "[9:고와야10:오는1:말이]\n",
      "[9:고와야10:오는1:말이11:곱다]\n",
      "[10:오는1:말이]\n",
      "[10:오는1:말이11:곱다]\n",
      "[1:말이11:곱다]\n"
     ]
    }
   ],
   "source": [
    "# text 를 학습시키기 위해 ['경마장에 있는', '경마장에 있는 말이', '경마장에 있는 말이 뛰고', '경마장에 있는 말이 뛰고']\n",
    "sequences = []\n",
    "for line in text.split('\\n'):\n",
    "    print('원래 문장 :', line)\n",
    "    encoded = t.texts_to_sequences([line])[0]\n",
    "    print('encoded 문장 :', encoded)\n",
    "    for i in range(0, len(encoded)-1): # 시작 index \n",
    "        for j in range(i+2, len(encoded)+1): # 끝나는 index\n",
    "            sequences.append(encoded[i:j])\n",
    "# sequences\n",
    "print('sequences와 해석을 출력')\n",
    "for sequence in sequences:\n",
    "    print('[', end='')\n",
    "    for word_seq in sequence:\n",
    "        for word, value in t.word_index.items():\n",
    "            if word_seq==value:\n",
    "                print(\"{}:{}\".format(word_seq, word), end='')\n",
    "                break\n",
    "    print(']')"
   ]
  },
  {
   "cell_type": "code",
   "execution_count": 25,
   "id": "f9768bd2",
   "metadata": {},
   "outputs": [
    {
     "data": {
      "text/plain": [
       "[[2, 3], [2, 3, 1], [2, 3, 1, 4], [2, 3, 1, 4, 5], [3, 1]]"
      ]
     },
     "execution_count": 25,
     "metadata": {},
     "output_type": "execute_result"
    }
   ],
   "source": [
    "sequences[:5]"
   ]
  },
  {
   "cell_type": "code",
   "execution_count": 26,
   "id": "f3cfced2",
   "metadata": {},
   "outputs": [
    {
     "name": "stdout",
     "output_type": "stream",
     "text": [
      "[2, 3, 4, 5, 2, 3, 4, 2, 3, 2, 2, 3, 2, 2, 3, 4, 5, 6, 2, 3, 4, 5, 2, 3, 4, 2, 3, 2]\n"
     ]
    }
   ],
   "source": [
    "# sequence 별 len\n",
    "print([len(sequence) for sequence in sequences])"
   ]
  },
  {
   "cell_type": "code",
   "execution_count": 27,
   "id": "9530e715",
   "metadata": {},
   "outputs": [
    {
     "data": {
      "text/plain": [
       "6"
      ]
     },
     "execution_count": 27,
     "metadata": {},
     "output_type": "execute_result"
    }
   ],
   "source": [
    "my_len = max([len(sequence) for sequence in sequences])\n",
    "my_len"
   ]
  },
  {
   "cell_type": "code",
   "execution_count": 35,
   "id": "adf3ad98",
   "metadata": {
    "scrolled": true
   },
   "outputs": [
    {
     "data": {
      "text/plain": [
       "(numpy.ndarray,\n",
       " (28, 6),\n",
       " array([[ 0,  0,  0,  0,  2,  3],\n",
       "        [ 0,  0,  0,  2,  3,  1],\n",
       "        [ 0,  0,  2,  3,  1,  4],\n",
       "        [ 0,  2,  3,  1,  4,  5],\n",
       "        [ 0,  0,  0,  0,  3,  1],\n",
       "        [ 0,  0,  0,  3,  1,  4],\n",
       "        [ 0,  0,  3,  1,  4,  5],\n",
       "        [ 0,  0,  0,  0,  1,  4],\n",
       "        [ 0,  0,  0,  1,  4,  5],\n",
       "        [ 0,  0,  0,  0,  4,  5],\n",
       "        [ 0,  0,  0,  0,  6,  1],\n",
       "        [ 0,  0,  0,  6,  1,  7],\n",
       "        [ 0,  0,  0,  0,  1,  7],\n",
       "        [ 0,  0,  0,  0,  8,  1],\n",
       "        [ 0,  0,  0,  8,  1,  9],\n",
       "        [ 0,  0,  8,  1,  9, 10],\n",
       "        [ 0,  8,  1,  9, 10,  1],\n",
       "        [ 8,  1,  9, 10,  1, 11],\n",
       "        [ 0,  0,  0,  0,  1,  9],\n",
       "        [ 0,  0,  0,  1,  9, 10],\n",
       "        [ 0,  0,  1,  9, 10,  1],\n",
       "        [ 0,  1,  9, 10,  1, 11],\n",
       "        [ 0,  0,  0,  0,  9, 10],\n",
       "        [ 0,  0,  0,  9, 10,  1],\n",
       "        [ 0,  0,  9, 10,  1, 11],\n",
       "        [ 0,  0,  0,  0, 10,  1],\n",
       "        [ 0,  0,  0, 10,  1, 11],\n",
       "        [ 0,  0,  0,  0,  1, 11]]))"
      ]
     },
     "execution_count": 35,
     "metadata": {},
     "output_type": "execute_result"
    }
   ],
   "source": [
    "# sequences 를 훈련 가능하도록 6개열로 조정\n",
    "padded_sequences = pad_sequences(sequences=sequences,\n",
    "                                maxlen=my_len, # 최대 열수\n",
    "                                padding='pre', # 최대 열수보다 작은 경우 0을 채울 위치\n",
    "                                #padding='post'\n",
    "                                #value=1,\n",
    "                                #truncating='pre', #최대 열수보다 많은 경우 데이터를 짜를 위치\n",
    "                                )\n",
    "type(padded_sequence), padded_sequence.shape, padded_sequence"
   ]
  },
  {
   "cell_type": "code",
   "execution_count": 37,
   "id": "faf083c4",
   "metadata": {},
   "outputs": [
    {
     "data": {
      "text/plain": [
       "array([ 3,  1,  4,  5,  1,  4,  5,  4,  5,  5,  1,  7,  7,  1,  9, 10,  1,\n",
       "       11,  9, 10,  1, 11, 10,  1, 11,  1, 11, 11])"
      ]
     },
     "execution_count": 37,
     "metadata": {},
     "output_type": "execute_result"
    }
   ],
   "source": [
    "# 독립변수(x) 와 타겟변수(종속변수 y)로 분리\n",
    "X = padded_sequences[:, :-1]\n",
    "y = padded_sequences[:, -1]\n",
    "y"
   ]
  },
  {
   "cell_type": "code",
   "execution_count": 42,
   "id": "4147852a",
   "metadata": {},
   "outputs": [],
   "source": [
    "# 단어 갯수\n",
    "vocab_size = len(t.word_index)"
   ]
  },
  {
   "cell_type": "code",
   "execution_count": 43,
   "id": "fa3ce013",
   "metadata": {
    "scrolled": true
   },
   "outputs": [
    {
     "data": {
      "text/plain": [
       "array([[0., 0., 0., 1., 0., 0., 0., 0., 0., 0., 0., 0.],\n",
       "       [0., 1., 0., 0., 0., 0., 0., 0., 0., 0., 0., 0.],\n",
       "       [0., 0., 0., 0., 1., 0., 0., 0., 0., 0., 0., 0.],\n",
       "       [0., 0., 0., 0., 0., 1., 0., 0., 0., 0., 0., 0.],\n",
       "       [0., 1., 0., 0., 0., 0., 0., 0., 0., 0., 0., 0.],\n",
       "       [0., 0., 0., 0., 1., 0., 0., 0., 0., 0., 0., 0.],\n",
       "       [0., 0., 0., 0., 0., 1., 0., 0., 0., 0., 0., 0.],\n",
       "       [0., 0., 0., 0., 1., 0., 0., 0., 0., 0., 0., 0.],\n",
       "       [0., 0., 0., 0., 0., 1., 0., 0., 0., 0., 0., 0.],\n",
       "       [0., 0., 0., 0., 0., 1., 0., 0., 0., 0., 0., 0.],\n",
       "       [0., 1., 0., 0., 0., 0., 0., 0., 0., 0., 0., 0.],\n",
       "       [0., 0., 0., 0., 0., 0., 0., 1., 0., 0., 0., 0.],\n",
       "       [0., 0., 0., 0., 0., 0., 0., 1., 0., 0., 0., 0.],\n",
       "       [0., 1., 0., 0., 0., 0., 0., 0., 0., 0., 0., 0.],\n",
       "       [0., 0., 0., 0., 0., 0., 0., 0., 0., 1., 0., 0.],\n",
       "       [0., 0., 0., 0., 0., 0., 0., 0., 0., 0., 1., 0.],\n",
       "       [0., 1., 0., 0., 0., 0., 0., 0., 0., 0., 0., 0.],\n",
       "       [0., 0., 0., 0., 0., 0., 0., 0., 0., 0., 0., 1.],\n",
       "       [0., 0., 0., 0., 0., 0., 0., 0., 0., 1., 0., 0.],\n",
       "       [0., 0., 0., 0., 0., 0., 0., 0., 0., 0., 1., 0.],\n",
       "       [0., 1., 0., 0., 0., 0., 0., 0., 0., 0., 0., 0.],\n",
       "       [0., 0., 0., 0., 0., 0., 0., 0., 0., 0., 0., 1.],\n",
       "       [0., 0., 0., 0., 0., 0., 0., 0., 0., 0., 1., 0.],\n",
       "       [0., 1., 0., 0., 0., 0., 0., 0., 0., 0., 0., 0.],\n",
       "       [0., 0., 0., 0., 0., 0., 0., 0., 0., 0., 0., 1.],\n",
       "       [0., 1., 0., 0., 0., 0., 0., 0., 0., 0., 0., 0.],\n",
       "       [0., 0., 0., 0., 0., 0., 0., 0., 0., 0., 0., 1.],\n",
       "       [0., 0., 0., 0., 0., 0., 0., 0., 0., 0., 0., 1.]], dtype=float32)"
      ]
     },
     "execution_count": 43,
     "metadata": {},
     "output_type": "execute_result"
    }
   ],
   "source": [
    "# One-Hot Encoding \n",
    "# to_categorical 사용 (2, 8 없음 고려)\n",
    "Y = to_categorical(y, \n",
    "                   vocab_size + 1) #  One-Hot Encoding 카테고리 수\n",
    "Y"
   ]
  },
  {
   "cell_type": "code",
   "execution_count": 44,
   "id": "e5dc6765",
   "metadata": {},
   "outputs": [
    {
     "data": {
      "text/plain": [
       "((28, 5), (28, 12))"
      ]
     },
     "execution_count": 44,
     "metadata": {},
     "output_type": "execute_result"
    }
   ],
   "source": [
    "X.shape, Y.shape"
   ]
  },
  {
   "cell_type": "markdown",
   "id": "202d4263",
   "metadata": {},
   "source": [
    "# 2. 모델 생성(RNN)\n",
    "- 순서가 의미 있는 데이터를 학습할 경우 ex. 자연어처리, 연주, 주식, 날씨, ...."
   ]
  },
  {
   "cell_type": "code",
   "execution_count": 52,
   "id": "d90c7197",
   "metadata": {},
   "outputs": [
    {
     "name": "stdout",
     "output_type": "stream",
     "text": [
      "Model: \"sequential_2\"\n",
      "_________________________________________________________________\n",
      " Layer (type)                Output Shape              Param #   \n",
      "=================================================================\n",
      " embedding_2 (Embedding)     (None, 5, 10)             120       \n",
      "                                                                 \n",
      " simple_rnn_1 (SimpleRNN)    (None, 32)                1376      \n",
      "                                                                 \n",
      " dense (Dense)               (None, 12)                396       \n",
      "                                                                 \n",
      "=================================================================\n",
      "Total params: 1,892\n",
      "Trainable params: 1,892\n",
      "Non-trainable params: 0\n",
      "_________________________________________________________________\n",
      "None\n"
     ]
    }
   ],
   "source": [
    "model = Sequential()\n",
    "# 희소행렬 (12열) -> 10열 행렬 (28개 = 독립변수 행수)\n",
    "model.add(Embedding(input_dim=vocab_size+1, # 12개 입력\n",
    "                   output_dim=vocab_size-1, # 10개 출력하기 위한 embedding\n",
    "                   input_length=X.shape[1], # 독립변수 데이터 수\n",
    "                   ))\n",
    "model.add(SimpleRNN(units=32))\n",
    "model.add(Dense(units=12, activation='softmax'))\n",
    "print(model.summary())\n",
    "\n",
    "# 1000열 희소행렬 -> 16열 행렬"
   ]
  },
  {
   "cell_type": "markdown",
   "id": "03dee833",
   "metadata": {},
   "source": [
    "# 3.학습과정 설정 및 학습하기"
   ]
  },
  {
   "cell_type": "code",
   "execution_count": 53,
   "id": "e5c978d4",
   "metadata": {},
   "outputs": [
    {
     "name": "stdout",
     "output_type": "stream",
     "text": [
      "Epoch 1/300\n",
      "1/1 - 2s - loss: 2.4800 - accuracy: 0.1071 - 2s/epoch - 2s/step\n",
      "Epoch 2/300\n",
      "1/1 - 0s - loss: 2.4691 - accuracy: 0.1429 - 16ms/epoch - 16ms/step\n",
      "Epoch 3/300\n",
      "1/1 - 0s - loss: 2.4579 - accuracy: 0.2143 - 17ms/epoch - 17ms/step\n",
      "Epoch 4/300\n",
      "1/1 - 0s - loss: 2.4464 - accuracy: 0.2143 - 19ms/epoch - 19ms/step\n",
      "Epoch 5/300\n",
      "1/1 - 0s - loss: 2.4346 - accuracy: 0.2500 - 15ms/epoch - 15ms/step\n",
      "Epoch 6/300\n",
      "1/1 - 0s - loss: 2.4222 - accuracy: 0.3214 - 15ms/epoch - 15ms/step\n",
      "Epoch 7/300\n",
      "1/1 - 0s - loss: 2.4093 - accuracy: 0.3929 - 18ms/epoch - 18ms/step\n",
      "Epoch 8/300\n",
      "1/1 - 0s - loss: 2.3957 - accuracy: 0.3929 - 17ms/epoch - 17ms/step\n",
      "Epoch 9/300\n",
      "1/1 - 0s - loss: 2.3813 - accuracy: 0.3929 - 15ms/epoch - 15ms/step\n",
      "Epoch 10/300\n",
      "1/1 - 0s - loss: 2.3660 - accuracy: 0.3571 - 14ms/epoch - 14ms/step\n",
      "Epoch 11/300\n",
      "1/1 - 0s - loss: 2.3499 - accuracy: 0.3571 - 18ms/epoch - 18ms/step\n",
      "Epoch 12/300\n",
      "1/1 - 0s - loss: 2.3329 - accuracy: 0.3571 - 20ms/epoch - 20ms/step\n",
      "Epoch 13/300\n",
      "1/1 - 0s - loss: 2.3149 - accuracy: 0.3571 - 16ms/epoch - 16ms/step\n",
      "Epoch 14/300\n",
      "1/1 - 0s - loss: 2.2959 - accuracy: 0.3571 - 15ms/epoch - 15ms/step\n",
      "Epoch 15/300\n",
      "1/1 - 0s - loss: 2.2761 - accuracy: 0.3571 - 11ms/epoch - 11ms/step\n",
      "Epoch 16/300\n",
      "1/1 - 0s - loss: 2.2555 - accuracy: 0.3571 - 17ms/epoch - 17ms/step\n",
      "Epoch 17/300\n",
      "1/1 - 0s - loss: 2.2342 - accuracy: 0.3571 - 16ms/epoch - 16ms/step\n",
      "Epoch 18/300\n",
      "1/1 - 0s - loss: 2.2124 - accuracy: 0.3214 - 16ms/epoch - 16ms/step\n",
      "Epoch 19/300\n",
      "1/1 - 0s - loss: 2.1903 - accuracy: 0.2857 - 16ms/epoch - 16ms/step\n",
      "Epoch 20/300\n",
      "1/1 - 0s - loss: 2.1681 - accuracy: 0.2857 - 16ms/epoch - 16ms/step\n",
      "Epoch 21/300\n",
      "1/1 - 0s - loss: 2.1464 - accuracy: 0.2857 - 16ms/epoch - 16ms/step\n",
      "Epoch 22/300\n",
      "1/1 - 0s - loss: 2.1253 - accuracy: 0.2857 - 13ms/epoch - 13ms/step\n",
      "Epoch 23/300\n",
      "1/1 - 0s - loss: 2.1053 - accuracy: 0.2857 - 15ms/epoch - 15ms/step\n",
      "Epoch 24/300\n",
      "1/1 - 0s - loss: 2.0867 - accuracy: 0.2857 - 13ms/epoch - 13ms/step\n",
      "Epoch 25/300\n",
      "1/1 - 0s - loss: 2.0697 - accuracy: 0.2857 - 13ms/epoch - 13ms/step\n",
      "Epoch 26/300\n",
      "1/1 - 0s - loss: 2.0546 - accuracy: 0.2857 - 12ms/epoch - 12ms/step\n",
      "Epoch 27/300\n",
      "1/1 - 0s - loss: 2.0411 - accuracy: 0.2857 - 28ms/epoch - 28ms/step\n",
      "Epoch 28/300\n",
      "1/1 - 0s - loss: 2.0289 - accuracy: 0.2857 - 11ms/epoch - 11ms/step\n",
      "Epoch 29/300\n",
      "1/1 - 0s - loss: 2.0175 - accuracy: 0.2857 - 13ms/epoch - 13ms/step\n",
      "Epoch 30/300\n",
      "1/1 - 0s - loss: 2.0064 - accuracy: 0.2857 - 17ms/epoch - 17ms/step\n",
      "Epoch 31/300\n",
      "1/1 - 0s - loss: 1.9951 - accuracy: 0.2857 - 16ms/epoch - 16ms/step\n",
      "Epoch 32/300\n",
      "1/1 - 0s - loss: 1.9832 - accuracy: 0.2857 - 18ms/epoch - 18ms/step\n",
      "Epoch 33/300\n",
      "1/1 - 0s - loss: 1.9705 - accuracy: 0.2857 - 13ms/epoch - 13ms/step\n",
      "Epoch 34/300\n",
      "1/1 - 0s - loss: 1.9573 - accuracy: 0.2857 - 18ms/epoch - 18ms/step\n",
      "Epoch 35/300\n",
      "1/1 - 0s - loss: 1.9435 - accuracy: 0.2857 - 14ms/epoch - 14ms/step\n",
      "Epoch 36/300\n",
      "1/1 - 0s - loss: 1.9296 - accuracy: 0.2857 - 13ms/epoch - 13ms/step\n",
      "Epoch 37/300\n",
      "1/1 - 0s - loss: 1.9158 - accuracy: 0.2857 - 15ms/epoch - 15ms/step\n",
      "Epoch 38/300\n",
      "1/1 - 0s - loss: 1.9023 - accuracy: 0.3571 - 13ms/epoch - 13ms/step\n",
      "Epoch 39/300\n",
      "1/1 - 0s - loss: 1.8894 - accuracy: 0.3571 - 16ms/epoch - 16ms/step\n",
      "Epoch 40/300\n",
      "1/1 - 0s - loss: 1.8771 - accuracy: 0.3571 - 13ms/epoch - 13ms/step\n",
      "Epoch 41/300\n",
      "1/1 - 0s - loss: 1.8655 - accuracy: 0.3571 - 13ms/epoch - 13ms/step\n",
      "Epoch 42/300\n",
      "1/1 - 0s - loss: 1.8546 - accuracy: 0.3571 - 12ms/epoch - 12ms/step\n",
      "Epoch 43/300\n",
      "1/1 - 0s - loss: 1.8441 - accuracy: 0.3571 - 17ms/epoch - 17ms/step\n",
      "Epoch 44/300\n",
      "1/1 - 0s - loss: 1.8339 - accuracy: 0.3929 - 15ms/epoch - 15ms/step\n",
      "Epoch 45/300\n",
      "1/1 - 0s - loss: 1.8240 - accuracy: 0.3929 - 12ms/epoch - 12ms/step\n",
      "Epoch 46/300\n",
      "1/1 - 0s - loss: 1.8142 - accuracy: 0.3929 - 14ms/epoch - 14ms/step\n",
      "Epoch 47/300\n",
      "1/1 - 0s - loss: 1.8044 - accuracy: 0.3929 - 13ms/epoch - 13ms/step\n",
      "Epoch 48/300\n",
      "1/1 - 0s - loss: 1.7946 - accuracy: 0.3929 - 13ms/epoch - 13ms/step\n",
      "Epoch 49/300\n",
      "1/1 - 0s - loss: 1.7848 - accuracy: 0.3929 - 15ms/epoch - 15ms/step\n",
      "Epoch 50/300\n",
      "1/1 - 0s - loss: 1.7750 - accuracy: 0.3929 - 13ms/epoch - 13ms/step\n",
      "Epoch 51/300\n",
      "1/1 - 0s - loss: 1.7651 - accuracy: 0.3929 - 14ms/epoch - 14ms/step\n",
      "Epoch 52/300\n",
      "1/1 - 0s - loss: 1.7554 - accuracy: 0.3929 - 14ms/epoch - 14ms/step\n",
      "Epoch 53/300\n",
      "1/1 - 0s - loss: 1.7456 - accuracy: 0.3929 - 11ms/epoch - 11ms/step\n",
      "Epoch 54/300\n",
      "1/1 - 0s - loss: 1.7358 - accuracy: 0.3929 - 12ms/epoch - 12ms/step\n",
      "Epoch 55/300\n",
      "1/1 - 0s - loss: 1.7261 - accuracy: 0.3929 - 14ms/epoch - 14ms/step\n",
      "Epoch 56/300\n",
      "1/1 - 0s - loss: 1.7163 - accuracy: 0.3929 - 13ms/epoch - 13ms/step\n",
      "Epoch 57/300\n",
      "1/1 - 0s - loss: 1.7064 - accuracy: 0.3929 - 14ms/epoch - 14ms/step\n",
      "Epoch 58/300\n",
      "1/1 - 0s - loss: 1.6965 - accuracy: 0.3929 - 11ms/epoch - 11ms/step\n",
      "Epoch 59/300\n",
      "1/1 - 0s - loss: 1.6864 - accuracy: 0.3929 - 14ms/epoch - 14ms/step\n",
      "Epoch 60/300\n",
      "1/1 - 0s - loss: 1.6761 - accuracy: 0.3929 - 12ms/epoch - 12ms/step\n",
      "Epoch 61/300\n",
      "1/1 - 0s - loss: 1.6656 - accuracy: 0.3929 - 12ms/epoch - 12ms/step\n",
      "Epoch 62/300\n",
      "1/1 - 0s - loss: 1.6549 - accuracy: 0.3929 - 12ms/epoch - 12ms/step\n",
      "Epoch 63/300\n",
      "1/1 - 0s - loss: 1.6440 - accuracy: 0.3929 - 11ms/epoch - 11ms/step\n",
      "Epoch 64/300\n",
      "1/1 - 0s - loss: 1.6330 - accuracy: 0.3929 - 11ms/epoch - 11ms/step\n",
      "Epoch 65/300\n",
      "1/1 - 0s - loss: 1.6217 - accuracy: 0.3929 - 12ms/epoch - 12ms/step\n",
      "Epoch 66/300\n",
      "1/1 - 0s - loss: 1.6103 - accuracy: 0.4286 - 10ms/epoch - 10ms/step\n",
      "Epoch 67/300\n",
      "1/1 - 0s - loss: 1.5988 - accuracy: 0.4286 - 11ms/epoch - 11ms/step\n",
      "Epoch 68/300\n",
      "1/1 - 0s - loss: 1.5870 - accuracy: 0.4286 - 12ms/epoch - 12ms/step\n",
      "Epoch 69/300\n",
      "1/1 - 0s - loss: 1.5752 - accuracy: 0.4286 - 12ms/epoch - 12ms/step\n",
      "Epoch 70/300\n",
      "1/1 - 0s - loss: 1.5632 - accuracy: 0.4643 - 11ms/epoch - 11ms/step\n",
      "Epoch 71/300\n",
      "1/1 - 0s - loss: 1.5511 - accuracy: 0.4643 - 11ms/epoch - 11ms/step\n",
      "Epoch 72/300\n",
      "1/1 - 0s - loss: 1.5388 - accuracy: 0.4643 - 11ms/epoch - 11ms/step\n",
      "Epoch 73/300\n",
      "1/1 - 0s - loss: 1.5265 - accuracy: 0.5000 - 11ms/epoch - 11ms/step\n",
      "Epoch 74/300\n",
      "1/1 - 0s - loss: 1.5141 - accuracy: 0.5000 - 11ms/epoch - 11ms/step\n",
      "Epoch 75/300\n",
      "1/1 - 0s - loss: 1.5016 - accuracy: 0.5000 - 12ms/epoch - 12ms/step\n",
      "Epoch 76/300\n",
      "1/1 - 0s - loss: 1.4890 - accuracy: 0.5000 - 13ms/epoch - 13ms/step\n",
      "Epoch 77/300\n",
      "1/1 - 0s - loss: 1.4763 - accuracy: 0.5000 - 10ms/epoch - 10ms/step\n",
      "Epoch 78/300\n",
      "1/1 - 0s - loss: 1.4636 - accuracy: 0.5000 - 10ms/epoch - 10ms/step\n",
      "Epoch 79/300\n",
      "1/1 - 0s - loss: 1.4509 - accuracy: 0.5000 - 10ms/epoch - 10ms/step\n",
      "Epoch 80/300\n",
      "1/1 - 0s - loss: 1.4381 - accuracy: 0.5000 - 11ms/epoch - 11ms/step\n",
      "Epoch 81/300\n",
      "1/1 - 0s - loss: 1.4253 - accuracy: 0.5000 - 11ms/epoch - 11ms/step\n",
      "Epoch 82/300\n",
      "1/1 - 0s - loss: 1.4124 - accuracy: 0.5000 - 12ms/epoch - 12ms/step\n",
      "Epoch 83/300\n",
      "1/1 - 0s - loss: 1.3996 - accuracy: 0.5000 - 12ms/epoch - 12ms/step\n",
      "Epoch 84/300\n",
      "1/1 - 0s - loss: 1.3868 - accuracy: 0.5000 - 12ms/epoch - 12ms/step\n",
      "Epoch 85/300\n",
      "1/1 - 0s - loss: 1.3739 - accuracy: 0.5000 - 11ms/epoch - 11ms/step\n",
      "Epoch 86/300\n",
      "1/1 - 0s - loss: 1.3611 - accuracy: 0.5000 - 10ms/epoch - 10ms/step\n",
      "Epoch 87/300\n",
      "1/1 - 0s - loss: 1.3483 - accuracy: 0.5357 - 12ms/epoch - 12ms/step\n",
      "Epoch 88/300\n",
      "1/1 - 0s - loss: 1.3355 - accuracy: 0.5357 - 13ms/epoch - 13ms/step\n",
      "Epoch 89/300\n",
      "1/1 - 0s - loss: 1.3228 - accuracy: 0.5357 - 13ms/epoch - 13ms/step\n",
      "Epoch 90/300\n",
      "1/1 - 0s - loss: 1.3102 - accuracy: 0.6071 - 15ms/epoch - 15ms/step\n",
      "Epoch 91/300\n",
      "1/1 - 0s - loss: 1.2976 - accuracy: 0.6071 - 13ms/epoch - 13ms/step\n",
      "Epoch 92/300\n",
      "1/1 - 0s - loss: 1.2851 - accuracy: 0.6071 - 14ms/epoch - 14ms/step\n",
      "Epoch 93/300\n",
      "1/1 - 0s - loss: 1.2727 - accuracy: 0.6071 - 12ms/epoch - 12ms/step\n",
      "Epoch 94/300\n",
      "1/1 - 0s - loss: 1.2604 - accuracy: 0.6071 - 13ms/epoch - 13ms/step\n",
      "Epoch 95/300\n",
      "1/1 - 0s - loss: 1.2482 - accuracy: 0.6071 - 12ms/epoch - 12ms/step\n",
      "Epoch 96/300\n",
      "1/1 - 0s - loss: 1.2362 - accuracy: 0.6071 - 14ms/epoch - 14ms/step\n",
      "Epoch 97/300\n",
      "1/1 - 0s - loss: 1.2242 - accuracy: 0.6071 - 11ms/epoch - 11ms/step\n",
      "Epoch 98/300\n",
      "1/1 - 0s - loss: 1.2124 - accuracy: 0.6429 - 12ms/epoch - 12ms/step\n",
      "Epoch 99/300\n",
      "1/1 - 0s - loss: 1.2007 - accuracy: 0.6429 - 13ms/epoch - 13ms/step\n",
      "Epoch 100/300\n",
      "1/1 - 0s - loss: 1.1891 - accuracy: 0.6429 - 12ms/epoch - 12ms/step\n",
      "Epoch 101/300\n",
      "1/1 - 0s - loss: 1.1776 - accuracy: 0.6429 - 12ms/epoch - 12ms/step\n",
      "Epoch 102/300\n",
      "1/1 - 0s - loss: 1.1663 - accuracy: 0.6429 - 11ms/epoch - 11ms/step\n"
     ]
    },
    {
     "name": "stdout",
     "output_type": "stream",
     "text": [
      "Epoch 103/300\n",
      "1/1 - 0s - loss: 1.1552 - accuracy: 0.6429 - 12ms/epoch - 12ms/step\n",
      "Epoch 104/300\n",
      "1/1 - 0s - loss: 1.1442 - accuracy: 0.6429 - 12ms/epoch - 12ms/step\n",
      "Epoch 105/300\n",
      "1/1 - 0s - loss: 1.1333 - accuracy: 0.6429 - 13ms/epoch - 13ms/step\n",
      "Epoch 106/300\n",
      "1/1 - 0s - loss: 1.1226 - accuracy: 0.6429 - 13ms/epoch - 13ms/step\n",
      "Epoch 107/300\n",
      "1/1 - 0s - loss: 1.1120 - accuracy: 0.6429 - 15ms/epoch - 15ms/step\n",
      "Epoch 108/300\n",
      "1/1 - 0s - loss: 1.1015 - accuracy: 0.6429 - 12ms/epoch - 12ms/step\n",
      "Epoch 109/300\n",
      "1/1 - 0s - loss: 1.0912 - accuracy: 0.6429 - 14ms/epoch - 14ms/step\n",
      "Epoch 110/300\n",
      "1/1 - 0s - loss: 1.0811 - accuracy: 0.6429 - 14ms/epoch - 14ms/step\n",
      "Epoch 111/300\n",
      "1/1 - 0s - loss: 1.0711 - accuracy: 0.6429 - 13ms/epoch - 13ms/step\n",
      "Epoch 112/300\n",
      "1/1 - 0s - loss: 1.0612 - accuracy: 0.6429 - 12ms/epoch - 12ms/step\n",
      "Epoch 113/300\n",
      "1/1 - 0s - loss: 1.0515 - accuracy: 0.6429 - 11ms/epoch - 11ms/step\n",
      "Epoch 114/300\n",
      "1/1 - 0s - loss: 1.0419 - accuracy: 0.6429 - 11ms/epoch - 11ms/step\n",
      "Epoch 115/300\n",
      "1/1 - 0s - loss: 1.0325 - accuracy: 0.6429 - 11ms/epoch - 11ms/step\n",
      "Epoch 116/300\n",
      "1/1 - 0s - loss: 1.0232 - accuracy: 0.6429 - 11ms/epoch - 11ms/step\n",
      "Epoch 117/300\n",
      "1/1 - 0s - loss: 1.0140 - accuracy: 0.6429 - 11ms/epoch - 11ms/step\n",
      "Epoch 118/300\n",
      "1/1 - 0s - loss: 1.0050 - accuracy: 0.6429 - 14ms/epoch - 14ms/step\n",
      "Epoch 119/300\n",
      "1/1 - 0s - loss: 0.9961 - accuracy: 0.6429 - 13ms/epoch - 13ms/step\n",
      "Epoch 120/300\n",
      "1/1 - 0s - loss: 0.9873 - accuracy: 0.6429 - 12ms/epoch - 12ms/step\n",
      "Epoch 121/300\n",
      "1/1 - 0s - loss: 0.9787 - accuracy: 0.6429 - 11ms/epoch - 11ms/step\n",
      "Epoch 122/300\n",
      "1/1 - 0s - loss: 0.9701 - accuracy: 0.6429 - 10ms/epoch - 10ms/step\n",
      "Epoch 123/300\n",
      "1/1 - 0s - loss: 0.9617 - accuracy: 0.6786 - 12ms/epoch - 12ms/step\n",
      "Epoch 124/300\n",
      "1/1 - 0s - loss: 0.9534 - accuracy: 0.6786 - 12ms/epoch - 12ms/step\n",
      "Epoch 125/300\n",
      "1/1 - 0s - loss: 0.9452 - accuracy: 0.6786 - 12ms/epoch - 12ms/step\n",
      "Epoch 126/300\n",
      "1/1 - 0s - loss: 0.9371 - accuracy: 0.6786 - 13ms/epoch - 13ms/step\n",
      "Epoch 127/300\n",
      "1/1 - 0s - loss: 0.9291 - accuracy: 0.6786 - 12ms/epoch - 12ms/step\n",
      "Epoch 128/300\n",
      "1/1 - 0s - loss: 0.9212 - accuracy: 0.6786 - 12ms/epoch - 12ms/step\n",
      "Epoch 129/300\n",
      "1/1 - 0s - loss: 0.9134 - accuracy: 0.6786 - 13ms/epoch - 13ms/step\n",
      "Epoch 130/300\n",
      "1/1 - 0s - loss: 0.9057 - accuracy: 0.7143 - 13ms/epoch - 13ms/step\n",
      "Epoch 131/300\n",
      "1/1 - 0s - loss: 0.8981 - accuracy: 0.7143 - 23ms/epoch - 23ms/step\n",
      "Epoch 132/300\n",
      "1/1 - 0s - loss: 0.8906 - accuracy: 0.7143 - 13ms/epoch - 13ms/step\n",
      "Epoch 133/300\n",
      "1/1 - 0s - loss: 0.8831 - accuracy: 0.7143 - 11ms/epoch - 11ms/step\n",
      "Epoch 134/300\n",
      "1/1 - 0s - loss: 0.8758 - accuracy: 0.7143 - 11ms/epoch - 11ms/step\n",
      "Epoch 135/300\n",
      "1/1 - 0s - loss: 0.8685 - accuracy: 0.7500 - 11ms/epoch - 11ms/step\n",
      "Epoch 136/300\n",
      "1/1 - 0s - loss: 0.8612 - accuracy: 0.7500 - 12ms/epoch - 12ms/step\n",
      "Epoch 137/300\n",
      "1/1 - 0s - loss: 0.8541 - accuracy: 0.7500 - 13ms/epoch - 13ms/step\n",
      "Epoch 138/300\n",
      "1/1 - 0s - loss: 0.8470 - accuracy: 0.7500 - 12ms/epoch - 12ms/step\n",
      "Epoch 139/300\n",
      "1/1 - 0s - loss: 0.8401 - accuracy: 0.7500 - 13ms/epoch - 13ms/step\n",
      "Epoch 140/300\n",
      "1/1 - 0s - loss: 0.8331 - accuracy: 0.7500 - 13ms/epoch - 13ms/step\n",
      "Epoch 141/300\n",
      "1/1 - 0s - loss: 0.8263 - accuracy: 0.7500 - 14ms/epoch - 14ms/step\n",
      "Epoch 142/300\n",
      "1/1 - 0s - loss: 0.8195 - accuracy: 0.7500 - 15ms/epoch - 15ms/step\n",
      "Epoch 143/300\n",
      "1/1 - 0s - loss: 0.8128 - accuracy: 0.7500 - 13ms/epoch - 13ms/step\n",
      "Epoch 144/300\n",
      "1/1 - 0s - loss: 0.8061 - accuracy: 0.7500 - 13ms/epoch - 13ms/step\n",
      "Epoch 145/300\n",
      "1/1 - 0s - loss: 0.7995 - accuracy: 0.7500 - 12ms/epoch - 12ms/step\n",
      "Epoch 146/300\n",
      "1/1 - 0s - loss: 0.7930 - accuracy: 0.7500 - 11ms/epoch - 11ms/step\n",
      "Epoch 147/300\n",
      "1/1 - 0s - loss: 0.7865 - accuracy: 0.7500 - 11ms/epoch - 11ms/step\n",
      "Epoch 148/300\n",
      "1/1 - 0s - loss: 0.7801 - accuracy: 0.7500 - 12ms/epoch - 12ms/step\n",
      "Epoch 149/300\n",
      "1/1 - 0s - loss: 0.7737 - accuracy: 0.7857 - 11ms/epoch - 11ms/step\n",
      "Epoch 150/300\n",
      "1/1 - 0s - loss: 0.7675 - accuracy: 0.7857 - 11ms/epoch - 11ms/step\n",
      "Epoch 151/300\n",
      "1/1 - 0s - loss: 0.7612 - accuracy: 0.8214 - 11ms/epoch - 11ms/step\n",
      "Epoch 152/300\n",
      "1/1 - 0s - loss: 0.7550 - accuracy: 0.8214 - 13ms/epoch - 13ms/step\n",
      "Epoch 153/300\n",
      "1/1 - 0s - loss: 0.7489 - accuracy: 0.8214 - 13ms/epoch - 13ms/step\n",
      "Epoch 154/300\n",
      "1/1 - 0s - loss: 0.7429 - accuracy: 0.8214 - 15ms/epoch - 15ms/step\n",
      "Epoch 155/300\n",
      "1/1 - 0s - loss: 0.7369 - accuracy: 0.8214 - 12ms/epoch - 12ms/step\n",
      "Epoch 156/300\n",
      "1/1 - 0s - loss: 0.7309 - accuracy: 0.8214 - 11ms/epoch - 11ms/step\n",
      "Epoch 157/300\n",
      "1/1 - 0s - loss: 0.7250 - accuracy: 0.8214 - 10ms/epoch - 10ms/step\n",
      "Epoch 158/300\n",
      "1/1 - 0s - loss: 0.7192 - accuracy: 0.8214 - 12ms/epoch - 12ms/step\n",
      "Epoch 159/300\n",
      "1/1 - 0s - loss: 0.7134 - accuracy: 0.8214 - 10ms/epoch - 10ms/step\n",
      "Epoch 160/300\n",
      "1/1 - 0s - loss: 0.7077 - accuracy: 0.8214 - 11ms/epoch - 11ms/step\n",
      "Epoch 161/300\n",
      "1/1 - 0s - loss: 0.7020 - accuracy: 0.8214 - 12ms/epoch - 12ms/step\n",
      "Epoch 162/300\n",
      "1/1 - 0s - loss: 0.6964 - accuracy: 0.8214 - 14ms/epoch - 14ms/step\n",
      "Epoch 163/300\n",
      "1/1 - 0s - loss: 0.6908 - accuracy: 0.8214 - 12ms/epoch - 12ms/step\n",
      "Epoch 164/300\n",
      "1/1 - 0s - loss: 0.6853 - accuracy: 0.8214 - 11ms/epoch - 11ms/step\n",
      "Epoch 165/300\n",
      "1/1 - 0s - loss: 0.6799 - accuracy: 0.8214 - 11ms/epoch - 11ms/step\n",
      "Epoch 166/300\n",
      "1/1 - 0s - loss: 0.6745 - accuracy: 0.8214 - 12ms/epoch - 12ms/step\n",
      "Epoch 167/300\n",
      "1/1 - 0s - loss: 0.6691 - accuracy: 0.8214 - 11ms/epoch - 11ms/step\n",
      "Epoch 168/300\n",
      "1/1 - 0s - loss: 0.6639 - accuracy: 0.8214 - 12ms/epoch - 12ms/step\n",
      "Epoch 169/300\n",
      "1/1 - 0s - loss: 0.6586 - accuracy: 0.8214 - 13ms/epoch - 13ms/step\n",
      "Epoch 170/300\n",
      "1/1 - 0s - loss: 0.6534 - accuracy: 0.8214 - 13ms/epoch - 13ms/step\n",
      "Epoch 171/300\n",
      "1/1 - 0s - loss: 0.6483 - accuracy: 0.8214 - 12ms/epoch - 12ms/step\n",
      "Epoch 172/300\n",
      "1/1 - 0s - loss: 0.6432 - accuracy: 0.8214 - 14ms/epoch - 14ms/step\n",
      "Epoch 173/300\n",
      "1/1 - 0s - loss: 0.6382 - accuracy: 0.8214 - 13ms/epoch - 13ms/step\n",
      "Epoch 174/300\n",
      "1/1 - 0s - loss: 0.6332 - accuracy: 0.8214 - 14ms/epoch - 14ms/step\n",
      "Epoch 175/300\n",
      "1/1 - 0s - loss: 0.6283 - accuracy: 0.8214 - 14ms/epoch - 14ms/step\n",
      "Epoch 176/300\n",
      "1/1 - 0s - loss: 0.6235 - accuracy: 0.8214 - 12ms/epoch - 12ms/step\n",
      "Epoch 177/300\n",
      "1/1 - 0s - loss: 0.6186 - accuracy: 0.8214 - 11ms/epoch - 11ms/step\n",
      "Epoch 178/300\n",
      "1/1 - 0s - loss: 0.6139 - accuracy: 0.8214 - 11ms/epoch - 11ms/step\n",
      "Epoch 179/300\n",
      "1/1 - 0s - loss: 0.6092 - accuracy: 0.8214 - 12ms/epoch - 12ms/step\n",
      "Epoch 180/300\n",
      "1/1 - 0s - loss: 0.6045 - accuracy: 0.8214 - 12ms/epoch - 12ms/step\n",
      "Epoch 181/300\n",
      "1/1 - 0s - loss: 0.5999 - accuracy: 0.8214 - 10ms/epoch - 10ms/step\n",
      "Epoch 182/300\n",
      "1/1 - 0s - loss: 0.5953 - accuracy: 0.8214 - 12ms/epoch - 12ms/step\n",
      "Epoch 183/300\n",
      "1/1 - 0s - loss: 0.5908 - accuracy: 0.8214 - 12ms/epoch - 12ms/step\n",
      "Epoch 184/300\n",
      "1/1 - 0s - loss: 0.5863 - accuracy: 0.8214 - 12ms/epoch - 12ms/step\n",
      "Epoch 185/300\n",
      "1/1 - 0s - loss: 0.5819 - accuracy: 0.8214 - 13ms/epoch - 13ms/step\n",
      "Epoch 186/300\n",
      "1/1 - 0s - loss: 0.5775 - accuracy: 0.8214 - 11ms/epoch - 11ms/step\n",
      "Epoch 187/300\n",
      "1/1 - 0s - loss: 0.5732 - accuracy: 0.8214 - 10ms/epoch - 10ms/step\n",
      "Epoch 188/300\n",
      "1/1 - 0s - loss: 0.5689 - accuracy: 0.8214 - 11ms/epoch - 11ms/step\n",
      "Epoch 189/300\n",
      "1/1 - 0s - loss: 0.5647 - accuracy: 0.8214 - 11ms/epoch - 11ms/step\n",
      "Epoch 190/300\n",
      "1/1 - 0s - loss: 0.5605 - accuracy: 0.8214 - 11ms/epoch - 11ms/step\n",
      "Epoch 191/300\n",
      "1/1 - 0s - loss: 0.5564 - accuracy: 0.8214 - 11ms/epoch - 11ms/step\n",
      "Epoch 192/300\n",
      "1/1 - 0s - loss: 0.5523 - accuracy: 0.8214 - 14ms/epoch - 14ms/step\n",
      "Epoch 193/300\n",
      "1/1 - 0s - loss: 0.5482 - accuracy: 0.8214 - 12ms/epoch - 12ms/step\n",
      "Epoch 194/300\n",
      "1/1 - 0s - loss: 0.5442 - accuracy: 0.8214 - 13ms/epoch - 13ms/step\n",
      "Epoch 195/300\n",
      "1/1 - 0s - loss: 0.5402 - accuracy: 0.8571 - 13ms/epoch - 13ms/step\n",
      "Epoch 196/300\n",
      "1/1 - 0s - loss: 0.5362 - accuracy: 0.8571 - 14ms/epoch - 14ms/step\n",
      "Epoch 197/300\n",
      "1/1 - 0s - loss: 0.5323 - accuracy: 0.8929 - 13ms/epoch - 13ms/step\n",
      "Epoch 198/300\n",
      "1/1 - 0s - loss: 0.5285 - accuracy: 0.8929 - 14ms/epoch - 14ms/step\n",
      "Epoch 199/300\n",
      "1/1 - 0s - loss: 0.5247 - accuracy: 0.8929 - 13ms/epoch - 13ms/step\n",
      "Epoch 200/300\n",
      "1/1 - 0s - loss: 0.5209 - accuracy: 0.8929 - 26ms/epoch - 26ms/step\n",
      "Epoch 201/300\n",
      "1/1 - 0s - loss: 0.5171 - accuracy: 0.8929 - 11ms/epoch - 11ms/step\n",
      "Epoch 202/300\n",
      "1/1 - 0s - loss: 0.5134 - accuracy: 0.8929 - 11ms/epoch - 11ms/step\n"
     ]
    },
    {
     "name": "stdout",
     "output_type": "stream",
     "text": [
      "Epoch 203/300\n",
      "1/1 - 0s - loss: 0.5098 - accuracy: 0.8929 - 13ms/epoch - 13ms/step\n",
      "Epoch 204/300\n",
      "1/1 - 0s - loss: 0.5061 - accuracy: 0.8929 - 12ms/epoch - 12ms/step\n",
      "Epoch 205/300\n",
      "1/1 - 0s - loss: 0.5025 - accuracy: 0.8929 - 12ms/epoch - 12ms/step\n",
      "Epoch 206/300\n",
      "1/1 - 0s - loss: 0.4990 - accuracy: 0.8929 - 12ms/epoch - 12ms/step\n",
      "Epoch 207/300\n",
      "1/1 - 0s - loss: 0.4955 - accuracy: 0.8929 - 12ms/epoch - 12ms/step\n",
      "Epoch 208/300\n",
      "1/1 - 0s - loss: 0.4920 - accuracy: 0.8929 - 11ms/epoch - 11ms/step\n",
      "Epoch 209/300\n",
      "1/1 - 0s - loss: 0.4885 - accuracy: 0.8929 - 12ms/epoch - 12ms/step\n",
      "Epoch 210/300\n",
      "1/1 - 0s - loss: 0.4851 - accuracy: 0.8929 - 10ms/epoch - 10ms/step\n",
      "Epoch 211/300\n",
      "1/1 - 0s - loss: 0.4817 - accuracy: 0.8929 - 11ms/epoch - 11ms/step\n",
      "Epoch 212/300\n",
      "1/1 - 0s - loss: 0.4783 - accuracy: 0.8929 - 12ms/epoch - 12ms/step\n",
      "Epoch 213/300\n",
      "1/1 - 0s - loss: 0.4750 - accuracy: 0.8929 - 12ms/epoch - 12ms/step\n",
      "Epoch 214/300\n",
      "1/1 - 0s - loss: 0.4717 - accuracy: 0.8929 - 11ms/epoch - 11ms/step\n",
      "Epoch 215/300\n",
      "1/1 - 0s - loss: 0.4685 - accuracy: 0.8929 - 12ms/epoch - 12ms/step\n",
      "Epoch 216/300\n",
      "1/1 - 0s - loss: 0.4653 - accuracy: 0.8929 - 13ms/epoch - 13ms/step\n",
      "Epoch 217/300\n",
      "1/1 - 0s - loss: 0.4621 - accuracy: 0.8929 - 11ms/epoch - 11ms/step\n",
      "Epoch 218/300\n",
      "1/1 - 0s - loss: 0.4589 - accuracy: 0.8929 - 11ms/epoch - 11ms/step\n",
      "Epoch 219/300\n",
      "1/1 - 0s - loss: 0.4558 - accuracy: 0.8929 - 11ms/epoch - 11ms/step\n",
      "Epoch 220/300\n",
      "1/1 - 0s - loss: 0.4527 - accuracy: 0.8929 - 12ms/epoch - 12ms/step\n",
      "Epoch 221/300\n",
      "1/1 - 0s - loss: 0.4496 - accuracy: 0.8929 - 12ms/epoch - 12ms/step\n",
      "Epoch 222/300\n",
      "1/1 - 0s - loss: 0.4466 - accuracy: 0.8929 - 12ms/epoch - 12ms/step\n",
      "Epoch 223/300\n",
      "1/1 - 0s - loss: 0.4436 - accuracy: 0.8929 - 12ms/epoch - 12ms/step\n",
      "Epoch 224/300\n",
      "1/1 - 0s - loss: 0.4407 - accuracy: 0.8929 - 13ms/epoch - 13ms/step\n",
      "Epoch 225/300\n",
      "1/1 - 0s - loss: 0.4377 - accuracy: 0.8929 - 11ms/epoch - 11ms/step\n",
      "Epoch 226/300\n",
      "1/1 - 0s - loss: 0.4348 - accuracy: 0.8929 - 10ms/epoch - 10ms/step\n",
      "Epoch 227/300\n",
      "1/1 - 0s - loss: 0.4319 - accuracy: 0.8929 - 11ms/epoch - 11ms/step\n",
      "Epoch 228/300\n",
      "1/1 - 0s - loss: 0.4291 - accuracy: 0.8929 - 16ms/epoch - 16ms/step\n",
      "Epoch 229/300\n",
      "1/1 - 0s - loss: 0.4263 - accuracy: 0.8929 - 15ms/epoch - 15ms/step\n",
      "Epoch 230/300\n",
      "1/1 - 0s - loss: 0.4235 - accuracy: 0.8929 - 16ms/epoch - 16ms/step\n",
      "Epoch 231/300\n",
      "1/1 - 0s - loss: 0.4207 - accuracy: 0.8929 - 25ms/epoch - 25ms/step\n",
      "Epoch 232/300\n",
      "1/1 - 0s - loss: 0.4180 - accuracy: 0.8929 - 13ms/epoch - 13ms/step\n",
      "Epoch 233/300\n",
      "1/1 - 0s - loss: 0.4153 - accuracy: 0.8929 - 16ms/epoch - 16ms/step\n",
      "Epoch 234/300\n",
      "1/1 - 0s - loss: 0.4127 - accuracy: 0.8929 - 23ms/epoch - 23ms/step\n",
      "Epoch 235/300\n",
      "1/1 - 0s - loss: 0.4100 - accuracy: 0.8929 - 17ms/epoch - 17ms/step\n",
      "Epoch 236/300\n",
      "1/1 - 0s - loss: 0.4074 - accuracy: 0.8929 - 15ms/epoch - 15ms/step\n",
      "Epoch 237/300\n",
      "1/1 - 0s - loss: 0.4048 - accuracy: 0.8929 - 21ms/epoch - 21ms/step\n",
      "Epoch 238/300\n",
      "1/1 - 0s - loss: 0.4023 - accuracy: 0.8929 - 16ms/epoch - 16ms/step\n",
      "Epoch 239/300\n",
      "1/1 - 0s - loss: 0.3998 - accuracy: 0.8929 - 16ms/epoch - 16ms/step\n",
      "Epoch 240/300\n",
      "1/1 - 0s - loss: 0.3973 - accuracy: 0.8929 - 14ms/epoch - 14ms/step\n",
      "Epoch 241/300\n",
      "1/1 - 0s - loss: 0.3948 - accuracy: 0.8929 - 14ms/epoch - 14ms/step\n",
      "Epoch 242/300\n",
      "1/1 - 0s - loss: 0.3924 - accuracy: 0.8929 - 12ms/epoch - 12ms/step\n",
      "Epoch 243/300\n",
      "1/1 - 0s - loss: 0.3900 - accuracy: 0.8929 - 14ms/epoch - 14ms/step\n",
      "Epoch 244/300\n",
      "1/1 - 0s - loss: 0.3876 - accuracy: 0.8929 - 16ms/epoch - 16ms/step\n",
      "Epoch 245/300\n",
      "1/1 - 0s - loss: 0.3852 - accuracy: 0.8929 - 13ms/epoch - 13ms/step\n",
      "Epoch 246/300\n",
      "1/1 - 0s - loss: 0.3829 - accuracy: 0.8929 - 11ms/epoch - 11ms/step\n",
      "Epoch 247/300\n",
      "1/1 - 0s - loss: 0.3806 - accuracy: 0.8929 - 12ms/epoch - 12ms/step\n",
      "Epoch 248/300\n",
      "1/1 - 0s - loss: 0.3784 - accuracy: 0.8929 - 15ms/epoch - 15ms/step\n",
      "Epoch 249/300\n",
      "1/1 - 0s - loss: 0.3761 - accuracy: 0.8929 - 13ms/epoch - 13ms/step\n",
      "Epoch 250/300\n",
      "1/1 - 0s - loss: 0.3739 - accuracy: 0.8929 - 15ms/epoch - 15ms/step\n",
      "Epoch 251/300\n",
      "1/1 - 0s - loss: 0.3717 - accuracy: 0.8929 - 13ms/epoch - 13ms/step\n",
      "Epoch 252/300\n",
      "1/1 - 0s - loss: 0.3696 - accuracy: 0.8929 - 14ms/epoch - 14ms/step\n",
      "Epoch 253/300\n",
      "1/1 - 0s - loss: 0.3674 - accuracy: 0.8929 - 13ms/epoch - 13ms/step\n",
      "Epoch 254/300\n",
      "1/1 - 0s - loss: 0.3653 - accuracy: 0.8929 - 11ms/epoch - 11ms/step\n",
      "Epoch 255/300\n",
      "1/1 - 0s - loss: 0.3632 - accuracy: 0.8929 - 13ms/epoch - 13ms/step\n",
      "Epoch 256/300\n",
      "1/1 - 0s - loss: 0.3612 - accuracy: 0.8929 - 13ms/epoch - 13ms/step\n",
      "Epoch 257/300\n",
      "1/1 - 0s - loss: 0.3591 - accuracy: 0.8929 - 14ms/epoch - 14ms/step\n",
      "Epoch 258/300\n",
      "1/1 - 0s - loss: 0.3571 - accuracy: 0.8929 - 15ms/epoch - 15ms/step\n",
      "Epoch 259/300\n",
      "1/1 - 0s - loss: 0.3552 - accuracy: 0.8929 - 13ms/epoch - 13ms/step\n",
      "Epoch 260/300\n",
      "1/1 - 0s - loss: 0.3532 - accuracy: 0.8929 - 13ms/epoch - 13ms/step\n",
      "Epoch 261/300\n",
      "1/1 - 0s - loss: 0.3513 - accuracy: 0.8929 - 13ms/epoch - 13ms/step\n",
      "Epoch 262/300\n",
      "1/1 - 0s - loss: 0.3494 - accuracy: 0.8929 - 13ms/epoch - 13ms/step\n",
      "Epoch 263/300\n",
      "1/1 - 0s - loss: 0.3475 - accuracy: 0.8929 - 12ms/epoch - 12ms/step\n",
      "Epoch 264/300\n",
      "1/1 - 0s - loss: 0.3457 - accuracy: 0.8929 - 11ms/epoch - 11ms/step\n",
      "Epoch 265/300\n",
      "1/1 - 0s - loss: 0.3438 - accuracy: 0.8929 - 17ms/epoch - 17ms/step\n",
      "Epoch 266/300\n",
      "1/1 - 0s - loss: 0.3420 - accuracy: 0.8929 - 15ms/epoch - 15ms/step\n",
      "Epoch 267/300\n",
      "1/1 - 0s - loss: 0.3402 - accuracy: 0.8929 - 13ms/epoch - 13ms/step\n",
      "Epoch 268/300\n",
      "1/1 - 0s - loss: 0.3385 - accuracy: 0.8929 - 10ms/epoch - 10ms/step\n",
      "Epoch 269/300\n",
      "1/1 - 0s - loss: 0.3367 - accuracy: 0.8929 - 11ms/epoch - 11ms/step\n",
      "Epoch 270/300\n",
      "1/1 - 0s - loss: 0.3350 - accuracy: 0.8929 - 13ms/epoch - 13ms/step\n",
      "Epoch 271/300\n",
      "1/1 - 0s - loss: 0.3333 - accuracy: 0.8929 - 10ms/epoch - 10ms/step\n",
      "Epoch 272/300\n",
      "1/1 - 0s - loss: 0.3317 - accuracy: 0.8929 - 11ms/epoch - 11ms/step\n",
      "Epoch 273/300\n",
      "1/1 - 0s - loss: 0.3300 - accuracy: 0.8929 - 12ms/epoch - 12ms/step\n",
      "Epoch 274/300\n",
      "1/1 - 0s - loss: 0.3284 - accuracy: 0.8929 - 13ms/epoch - 13ms/step\n",
      "Epoch 275/300\n",
      "1/1 - 0s - loss: 0.3268 - accuracy: 0.8929 - 12ms/epoch - 12ms/step\n",
      "Epoch 276/300\n",
      "1/1 - 0s - loss: 0.3252 - accuracy: 0.8929 - 13ms/epoch - 13ms/step\n",
      "Epoch 277/300\n",
      "1/1 - 0s - loss: 0.3237 - accuracy: 0.8929 - 13ms/epoch - 13ms/step\n",
      "Epoch 278/300\n",
      "1/1 - 0s - loss: 0.3222 - accuracy: 0.8929 - 13ms/epoch - 13ms/step\n",
      "Epoch 279/300\n",
      "1/1 - 0s - loss: 0.3206 - accuracy: 0.8929 - 29ms/epoch - 29ms/step\n",
      "Epoch 280/300\n",
      "1/1 - 0s - loss: 0.3192 - accuracy: 0.8929 - 13ms/epoch - 13ms/step\n",
      "Epoch 281/300\n",
      "1/1 - 0s - loss: 0.3177 - accuracy: 0.8929 - 13ms/epoch - 13ms/step\n",
      "Epoch 282/300\n",
      "1/1 - 0s - loss: 0.3162 - accuracy: 0.8929 - 13ms/epoch - 13ms/step\n",
      "Epoch 283/300\n",
      "1/1 - 0s - loss: 0.3148 - accuracy: 0.8929 - 14ms/epoch - 14ms/step\n",
      "Epoch 284/300\n",
      "1/1 - 0s - loss: 0.3134 - accuracy: 0.8929 - 16ms/epoch - 16ms/step\n",
      "Epoch 285/300\n",
      "1/1 - 0s - loss: 0.3120 - accuracy: 0.8929 - 12ms/epoch - 12ms/step\n",
      "Epoch 286/300\n",
      "1/1 - 0s - loss: 0.3106 - accuracy: 0.8929 - 12ms/epoch - 12ms/step\n",
      "Epoch 287/300\n",
      "1/1 - 0s - loss: 0.3093 - accuracy: 0.8929 - 13ms/epoch - 13ms/step\n",
      "Epoch 288/300\n",
      "1/1 - 0s - loss: 0.3080 - accuracy: 0.8929 - 12ms/epoch - 12ms/step\n",
      "Epoch 289/300\n",
      "1/1 - 0s - loss: 0.3066 - accuracy: 0.8929 - 12ms/epoch - 12ms/step\n",
      "Epoch 290/300\n",
      "1/1 - 0s - loss: 0.3054 - accuracy: 0.8929 - 13ms/epoch - 13ms/step\n",
      "Epoch 291/300\n",
      "1/1 - 0s - loss: 0.3041 - accuracy: 0.8929 - 12ms/epoch - 12ms/step\n",
      "Epoch 292/300\n",
      "1/1 - 0s - loss: 0.3028 - accuracy: 0.8929 - 12ms/epoch - 12ms/step\n",
      "Epoch 293/300\n",
      "1/1 - 0s - loss: 0.3016 - accuracy: 0.8929 - 12ms/epoch - 12ms/step\n",
      "Epoch 294/300\n",
      "1/1 - 0s - loss: 0.3004 - accuracy: 0.8929 - 16ms/epoch - 16ms/step\n",
      "Epoch 295/300\n",
      "1/1 - 0s - loss: 0.2992 - accuracy: 0.8929 - 12ms/epoch - 12ms/step\n",
      "Epoch 296/300\n",
      "1/1 - 0s - loss: 0.2980 - accuracy: 0.8929 - 13ms/epoch - 13ms/step\n",
      "Epoch 297/300\n",
      "1/1 - 0s - loss: 0.2968 - accuracy: 0.8929 - 12ms/epoch - 12ms/step\n",
      "Epoch 298/300\n",
      "1/1 - 0s - loss: 0.2957 - accuracy: 0.8929 - 12ms/epoch - 12ms/step\n",
      "Epoch 299/300\n",
      "1/1 - 0s - loss: 0.2945 - accuracy: 0.8929 - 12ms/epoch - 12ms/step\n",
      "Epoch 300/300\n",
      "1/1 - 0s - loss: 0.2934 - accuracy: 0.8929 - 15ms/epoch - 15ms/step\n"
     ]
    }
   ],
   "source": [
    "model.compile(loss='categorical_crossentropy', # 다중 \n",
    "             optimizer='adam',\n",
    "             metrics=['accuracy']) # 평가지표 : accuracy, recall, precision\n",
    "hist = model.fit(X, Y,\n",
    "                epochs=300,\n",
    "                verbose=2)"
   ]
  },
  {
   "cell_type": "code",
   "execution_count": 54,
   "id": "6eda5273",
   "metadata": {},
   "outputs": [
    {
     "data": {
      "text/plain": [
       "dict_keys(['loss', 'accuracy'])"
      ]
     },
     "execution_count": 54,
     "metadata": {},
     "output_type": "execute_result"
    }
   ],
   "source": [
    "hist.history.keys()"
   ]
  },
  {
   "cell_type": "code",
   "execution_count": 57,
   "id": "c4daeddb",
   "metadata": {},
   "outputs": [
    {
     "data": {
      "image/png": "[encoded data removed]",
      "text/plain": [
       "<Figure size 1000x500 with 2 Axes>"
      ]
     },
     "metadata": {},
     "output_type": "display_data"
    }
   ],
   "source": [
    "# 학습과정 표시하기\n",
    "fig, loss_ax = plt.subplots(figsize=(10,5))\n",
    "loss_ax.plot(hist.history['loss'], 'r', label='train loss')\n",
    "loss_ax.set_xlabel('epoch')\n",
    "loss_ax.set_ylabel('loss')\n",
    "acc_ax = loss_ax.twinx()\n",
    "acc_ax.plot(hist.history['accuracy'], 'b', label='train accuracy')\n",
    "acc_ax.set_ylabel('accuracy')\n",
    "loss_ax.legend(loc='center right')\n",
    "acc_ax.legend(bbox_to_anchor=(0.999, 0.7))\n",
    "acc_ax.set_ylim(0.0,1.1)\n",
    "plt.show()"
   ]
  },
  {
   "cell_type": "markdown",
   "id": "56ea1d3b",
   "metadata": {},
   "source": [
    "# 4 다음 문맥 예측해 보기"
   ]
  },
  {
   "cell_type": "code",
   "execution_count": 59,
   "id": "22562e0d",
   "metadata": {},
   "outputs": [
    {
     "name": "stdout",
     "output_type": "stream",
     "text": [
      "{'말이': 1, '경마장에': 2, '있는': 3, '뛰고': 4, '있다': 5, '그의': 6, '법이다': 7, '가는': 8, '고와야': 9, '오는': 10, '곱다': 11}\n"
     ]
    }
   ],
   "source": [
    "print(t.word_index)"
   ]
  },
  {
   "cell_type": "code",
   "execution_count": 67,
   "id": "97017bc9",
   "metadata": {},
   "outputs": [
    {
     "name": "stdout",
     "output_type": "stream",
     "text": [
      "입력단어 :있는\n",
      "예측된 단어 : 말이\n"
     ]
    }
   ],
   "source": [
    "# 모델 사용하기 (문자 -> sequence로 수정 -> predict -> argmax -> 문자)\n",
    "\n",
    "word = input('입력단어 :')\n",
    "encoded = t.texts_to_sequences([word])[0]\n",
    "\n",
    "input_data = pad_sequences([encoded],\n",
    "                           maxlen=X.shape[1],\n",
    "                          padding='pre')\n",
    "# print(f'입력한 단어 : {word}, input_data: {input_data}')\n",
    "pred = model.predict(input_data, verbose=0).argmax()\n",
    "for word, value in t.word_index.items():\n",
    "    if pred==value:\n",
    "        print('예측된 단어 :', word)\n",
    "        break"
   ]
  },
  {
   "cell_type": "code",
   "execution_count": 89,
   "id": "b4d430c4",
   "metadata": {},
   "outputs": [],
   "source": [
    "# 단어(가는), 5 => 가는 말이 고와야 오는 말이 곱다\n",
    "def sentence_generation(model, t, current_word, n):\n",
    "    for i in range(n): # n번 반복\n",
    "        # current_word -> sequence -> padding -> predict.argmax -> 결과 단어(result)\n",
    "        # current_word = current_word + ' ' + result\n",
    "        encoded = t.texts_to_sequences([current_word])[0]\n",
    "        input_data = pad_sequences([encoded],\n",
    "                                  maxlen=5,\n",
    "                                  padding=\"pre\")\n",
    "        pred = model.predict(input_data,\n",
    "                               verbose=0).argmax()\n",
    "        for word, value in t.word_index.items():\n",
    "            if pred==value:\n",
    "                result = word\n",
    "#                 print(f\"{i+1}:{result}\")\n",
    "                current_word = current_word + ' ' + result\n",
    "#                 print(f\"{i+1}:{current_word}\")\n",
    "                break\n",
    "    return current_word"
   ]
  },
  {
   "cell_type": "code",
   "execution_count": 97,
   "id": "cfd88387",
   "metadata": {},
   "outputs": [
    {
     "data": {
      "text/plain": [
       "'오는 말이 곱다 있다 말이'"
      ]
     },
     "execution_count": 97,
     "metadata": {},
     "output_type": "execute_result"
    }
   ],
   "source": [
    "# 문맥 예측해 보기\n",
    "sentence_generation(model, t, \"오는\", 4)"
   ]
  },
  {
   "cell_type": "code",
   "execution_count": null,
   "id": "22c0f493",
   "metadata": {},
   "outputs": [],
   "source": []
  },
  {
   "cell_type": "code",
   "execution_count": null,
   "id": "2bc50125",
   "metadata": {},
   "outputs": [],
   "source": []
  },
  {
   "cell_type": "code",
   "execution_count": null,
   "id": "f1da75ec",
   "metadata": {},
   "outputs": [],
   "source": []
  },
  {
   "cell_type": "code",
   "execution_count": null,
   "id": "09b6357f",
   "metadata": {},
   "outputs": [],
   "source": []
  },
  {
   "cell_type": "code",
   "execution_count": null,
   "id": "a08e16a7",
   "metadata": {},
   "outputs": [],
   "source": []
  },
  {
   "cell_type": "code",
   "execution_count": null,
   "id": "0c5156b6",
   "metadata": {},
   "outputs": [],
   "source": []
  },
  {
   "cell_type": "code",
   "execution_count": null,
   "id": "d2631018",
   "metadata": {},
   "outputs": [],
   "source": []
  },
  {
   "cell_type": "code",
   "execution_count": null,
   "id": "4b181ddd",
   "metadata": {},
   "outputs": [],
   "source": []
  },
  {
   "cell_type": "code",
   "execution_count": null,
   "id": "1288b226",
   "metadata": {},
   "outputs": [],
   "source": []
  },
  {
   "cell_type": "code",
   "execution_count": null,
   "id": "a10dd364",
   "metadata": {},
   "outputs": [],
   "source": []
  }
 ],
 "metadata": {
  "kernelspec": {
   "display_name": "Python 3 (ipykernel)",
   "language": "python",
   "name": "python3"
  },
  "language_info": {
   "codemirror_mode": {
    "name": "ipython",
    "version": 3
   },
   "file_extension": ".py",
   "mimetype": "text/x-python",
   "name": "python",
   "nbconvert_exporter": "python",
   "pygments_lexer": "ipython3",
   "version": "3.10.9"
  },
  "toc": {
   "base_numbering": 1,
   "nav_menu": {},
   "number_sections": true,
   "sideBar": true,
   "skip_h1_title": false,
   "title_cell": "Table of Contents",
   "title_sidebar": "Contents",
   "toc_cell": false,
   "toc_position": {
    "height": "calc(100% - 180px)",
    "left": "10px",
    "top": "150px",
    "width": "185px"
   },
   "toc_section_display": true,
   "toc_window_display": true
  }
 },
 "nbformat": 4,
 "nbformat_minor": 5
}
