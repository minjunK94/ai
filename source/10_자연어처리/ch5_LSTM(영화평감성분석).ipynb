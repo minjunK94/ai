{
 "cells": [
  {
   "cell_type": "markdown",
   "id": "0d38b0b0",
   "metadata": {},
   "source": [
    "<font size=\"6\" color=\"lightskyblue\">ch5 LSTM(RNN)으로 영화평 구분하기</font>\n",
    "- 5만개 영화 감상평 : 타겟(종속)변수로 부정/긍정"
   ]
  },
  {
   "cell_type": "code",
   "execution_count": 1,
   "id": "3b85fda7",
   "metadata": {
    "ExecuteTime": {
     "end_time": "2025-01-03T01:10:45.514292Z",
     "start_time": "2025-01-03T01:10:45.508323Z"
    }
   },
   "outputs": [],
   "source": [
    "# 1. package import\n",
    "import numpy as np\n",
    "from tensorflow.keras.datasets import imdb\n",
    "from tensorflow.keras.preprocessing.sequence import pad_sequences\n",
    "from time import time # 70.1.1부터 현재까지 몇 초 지났는지\n",
    "\n",
    "from tensorflow.keras.models import Sequential\n",
    "from tensorflow.keras.layers import Embedding, LSTM, Dense\n",
    "\n",
    "from sklearn.metrics import confusion_matrix, f1_score"
   ]
  },
  {
   "cell_type": "code",
   "execution_count": 2,
   "id": "91e08fce",
   "metadata": {
    "ExecuteTime": {
     "end_time": "2025-01-03T01:10:45.523208Z",
     "start_time": "2025-01-03T01:10:45.517284Z"
    }
   },
   "outputs": [],
   "source": [
    "# 2. 하이퍼 파라미터 설정\n",
    "# 이 파라미터를 바꾸면 정확도나 속도에 차이날 수 있음\n",
    "MY_WORDS  = 10000 # imdb 데이터 안의 단어 수\n",
    "MY_LENGTH = 80    # 영화평 단어 수 80개만 독립변수\n",
    "MY_EMBED  = 32    # Embedding 결과 차원\n",
    "MY_HIDDEN = 64    # LSTM의 units 차원\n",
    "\n",
    "MY_EPOCH  = 10    # 반복 학습 수(fit)\n",
    "MY_BATCH  = 200   # batch_size(fit)"
   ]
  },
  {
   "cell_type": "code",
   "execution_count": 3,
   "id": "2a982b1b",
   "metadata": {
    "ExecuteTime": {
     "end_time": "2025-01-03T01:10:49.238195Z",
     "start_time": "2025-01-03T01:10:45.526155Z"
    }
   },
   "outputs": [],
   "source": [
    "# 3. 데이터 불러오기\n",
    "(X_train, y_train), (X_test, y_test) = imdb.load_data(num_words = MY_WORDS)"
   ]
  },
  {
   "cell_type": "code",
   "execution_count": 4,
   "id": "1f23bf8a",
   "metadata": {
    "ExecuteTime": {
     "end_time": "2025-01-03T01:10:49.254853Z",
     "start_time": "2025-01-03T01:10:49.239192Z"
    }
   },
   "outputs": [
    {
     "name": "stdout",
     "output_type": "stream",
     "text": [
      "학습용 입력데이터(독립변수) 모양 : (25000,)\n",
      "학습용 출력데이터(종속변수) 모양 : (25000,)\n",
      "학습용 입력데이터 샘플 : 218 개 --- [1, 14, 22, 16, 43, 530, 973, 1622, 1385, 65, 458, 4468, 66, 3941, 4, 173, 36, 256, 5, 25, 100, 43, 838, 112, 50, 670, 2, 9, 35, 480, 284, 5, 150, 4, 172, 112, 167, 2, 336, 385, 39, 4, 172, 4536, 1111, 17, 546, 38, 13, 447, 4, 192, 50, 16, 6, 147, 2025, 19, 14, 22, 4, 1920, 4613, 469, 4, 22, 71, 87, 12, 16, 43, 530, 38, 76, 15, 13, 1247, 4, 22, 17, 515, 17, 12, 16, 626, 18, 2, 5, 62, 386, 12, 8, 316, 8, 106, 5, 4, 2223, 5244, 16, 480, 66, 3785, 33, 4, 130, 12, 16, 38, 619, 5, 25, 124, 51, 36, 135, 48, 25, 1415, 33, 6, 22, 12, 215, 28, 77, 52, 5, 14, 407, 16, 82, 2, 8, 4, 107, 117, 5952, 15, 256, 4, 2, 7, 3766, 5, 723, 36, 71, 43, 530, 476, 26, 400, 317, 46, 7, 4, 2, 1029, 13, 104, 88, 4, 381, 15, 297, 98, 32, 2071, 56, 26, 141, 6, 194, 7486, 18, 4, 226, 22, 21, 134, 476, 26, 480, 5, 144, 30, 5535, 18, 51, 36, 28, 224, 92, 25, 104, 4, 226, 65, 16, 38, 1334, 88, 12, 16, 283, 5, 16, 4472, 113, 103, 32, 15, 16, 5345, 19, 178, 32]\n",
      "학습용 출력데이터 샘플(0:부정/1:긍정) : 1\n",
      "테스트용 입력데이터(독립변수) 모양 : (25000,)\n",
      "테스트용 출력데이터(종속변수) 모양 : (25000,)\n",
      "테스트용 입력데이터 샘플 : 68 개 --- [1, 591, 202, 14, 31, 6, 717, 10, 10, 2, 2, 5, 4, 360, 7, 4, 177, 5760, 394, 354, 4, 123, 9, 1035, 1035, 1035, 10, 10, 13, 92, 124, 89, 488, 7944, 100, 28, 1668, 14, 31, 23, 27, 7479, 29, 220, 468, 8, 124, 14, 286, 170, 8, 157, 46, 5, 27, 239, 16, 179, 2, 38, 32, 25, 7944, 451, 202, 14, 6, 717]\n",
      "테스트용 출력데이터 샘플(0:부정/1:긍정) : 0\n"
     ]
    }
   ],
   "source": [
    "print('학습용 입력데이터(독립변수) 모양 :', X_train.shape)\n",
    "print('학습용 출력데이터(종속변수) 모양 :', y_train.shape)\n",
    "print('학습용 입력데이터 샘플 :',len(X_train[0]), '개 ---', X_train[0])\n",
    "print('학습용 출력데이터 샘플(0:부정/1:긍정) :', y_train[0])\n",
    "\n",
    "print('테스트용 입력데이터(독립변수) 모양 :', X_test.shape)\n",
    "print('테스트용 출력데이터(종속변수) 모양 :', y_test.shape)\n",
    "print('테스트용 입력데이터 샘플 :',len(X_test[0]), '개 ---', X_test[0])\n",
    "print('테스트용 출력데이터 샘플(0:부정/1:긍정) :', y_test[0])"
   ]
  },
  {
   "cell_type": "code",
   "execution_count": 5,
   "id": "0de709da",
   "metadata": {
    "ExecuteTime": {
     "end_time": "2025-01-03T01:10:49.263523Z",
     "start_time": "2025-01-03T01:10:49.258517Z"
    }
   },
   "outputs": [
    {
     "name": "stdout",
     "output_type": "stream",
     "text": [
      "학습용 데이터의 긍정 개수: 12500\n",
      "테스트용 데이터의 긍정 개수: 12500\n"
     ]
    }
   ],
   "source": [
    "# 긍정 개수\n",
    "print('학습용 데이터의 긍정 개수:', y_train.sum())\n",
    "print('테스트용 데이터의 긍정 개수:', y_test.sum())"
   ]
  },
  {
   "cell_type": "code",
   "execution_count": 6,
   "id": "48a7a1e0",
   "metadata": {
    "ExecuteTime": {
     "end_time": "2025-01-03T01:10:49.278052Z",
     "start_time": "2025-01-03T01:10:49.268275Z"
    }
   },
   "outputs": [
    {
     "name": "stdout",
     "output_type": "stream",
     "text": [
      "첫 10개 영화평의 길이\n",
      "1번째 218\n",
      "2번째 189\n",
      "3번째 141\n",
      "4번째 550\n",
      "5번째 147\n",
      "6번째 43\n",
      "7번째 123\n",
      "8번째 562\n",
      "9번째 233\n",
      "10번째 130\n"
     ]
    }
   ],
   "source": [
    "# 4. 영화평 학습용 데이터 처음 10개 길이 출력 함수 \n",
    "def show_length():\n",
    "    print('첫 10개 영화평의 길이')\n",
    "    for i in range(10):\n",
    "        print(f\"{i + 1}번째 {len(X_train[i])}\")\n",
    "show_length()"
   ]
  },
  {
   "cell_type": "code",
   "execution_count": 7,
   "id": "f80a5489",
   "metadata": {
    "ExecuteTime": {
     "end_time": "2025-01-03T01:10:49.389083Z",
     "start_time": "2025-01-03T01:10:49.281045Z"
    }
   },
   "outputs": [
    {
     "name": "stdout",
     "output_type": "stream",
     "text": [
      "17\n",
      "19\n"
     ]
    }
   ],
   "source": [
    "# 5. 문자 단어 → 정수\n",
    "word_to_id = imdb.get_word_index() # dict('문자단어':정수id)\n",
    "print(word_to_id['movie'])\n",
    "print(word_to_id['film'])\n",
    "# 정수 → 문자 단어\n",
    "id_to_word = {} # dict (정수id:문자단어)\n",
    "for key, val in word_to_id.items():\n",
    "    id_to_word[val] = key"
   ]
  },
  {
   "cell_type": "code",
   "execution_count": 8,
   "id": "6aed2b56",
   "metadata": {
    "ExecuteTime": {
     "end_time": "2025-01-03T01:10:49.406331Z",
     "start_time": "2025-01-03T01:10:49.392076Z"
    }
   },
   "outputs": [
    {
     "name": "stdout",
     "output_type": "stream",
     "text": [
      "원 후기 내용: ['what', 'a', 'wonderful', 'movie']\n",
      "encoded된 data: [1, 48, 3, 386, 17]\n",
      "data 추정: ??? if ??? recommend as\n"
     ]
    }
   ],
   "source": [
    "msg = \"What a wonderful movie\"\n",
    "msg = msg.lower().split()\n",
    "# 1: 리뷰시작을 알리는 숫자, 2: 문자가 짤려서 잘못 읽어옴, 3:\n",
    "data = [1] + [word_to_id.get(m) for m in msg]\n",
    "print('원 후기 내용:', msg)\n",
    "print('encoded된 data:', data)\n",
    "print('data 추정:', ' '.join([id_to_word.get(d - 3, '???') for d in data]))"
   ]
  },
  {
   "cell_type": "code",
   "execution_count": 9,
   "id": "e4e47507",
   "metadata": {
    "ExecuteTime": {
     "end_time": "2025-01-03T01:10:49.415325Z",
     "start_time": "2025-01-03T01:10:49.409322Z"
    }
   },
   "outputs": [
    {
     "name": "stdout",
     "output_type": "stream",
     "text": [
      "??? this film was just brilliant casting location scenery story direction everyone's really suited the part they played and you could just imagine being there robert ??? is an amazing actor and now the same being director ??? father came from the same scottish island as myself so i loved the fact there was a real connection with this film the witty remarks throughout the film were great it was just brilliant so much that i bought the film as soon as it was released for ??? and would recommend it to everyone to watch and the fly fishing was amazing really cried at the end it was so sad and you know what they say if you cry at a film it must have been good and this definitely was also ??? to the two little boy's that played the ??? of norman and paul they were just brilliant children are often left out of the ??? list i think because the stars that play them all grown up are such a big profile for the whole film but these children are amazing and should be praised for what they have done don't you think the whole story was so lovely because it was true and was someone's life after all that was shared with us all\n"
     ]
    }
   ],
   "source": [
    "# 5. 숫자 영화평 → 자연어 영화평 함수\n",
    "def decoding(review_num):\n",
    "    decoded = []\n",
    "    for num in review_num:\n",
    "        word = id_to_word.get(num - 3, '???')\n",
    "        decoded.append(word)\n",
    "    print(' '.join(decoded))\n",
    "decoding(X_train[0])"
   ]
  },
  {
   "cell_type": "code",
   "execution_count": 10,
   "id": "ecf6c098",
   "metadata": {
    "ExecuteTime": {
     "end_time": "2025-01-03T01:10:49.426094Z",
     "start_time": "2025-01-03T01:10:49.416704Z"
    }
   },
   "outputs": [
    {
     "name": "stdout",
     "output_type": "stream",
     "text": [
      "pad_sequence 작업전\n",
      "첫 10개 영화평의 길이\n",
      "1번째 218\n",
      "2번째 189\n",
      "3번째 141\n",
      "4번째 550\n",
      "5번째 147\n",
      "6번째 43\n",
      "7번째 123\n",
      "8번째 562\n",
      "9번째 233\n",
      "10번째 130\n"
     ]
    }
   ],
   "source": [
    "print('pad_sequence 작업전')\n",
    "show_length()"
   ]
  },
  {
   "cell_type": "code",
   "execution_count": 11,
   "id": "d28d6221",
   "metadata": {
    "ExecuteTime": {
     "end_time": "2025-01-03T01:10:49.873016Z",
     "start_time": "2025-01-03T01:10:49.434063Z"
    }
   },
   "outputs": [
    {
     "name": "stdout",
     "output_type": "stream",
     "text": [
      "첫 10개 영화평의 길이\n",
      "1번째 80\n",
      "2번째 80\n",
      "3번째 80\n",
      "4번째 80\n",
      "5번째 80\n",
      "6번째 80\n",
      "7번째 80\n",
      "8번째 80\n",
      "9번째 80\n",
      "10번째 80\n"
     ]
    }
   ],
   "source": [
    "# 7. 모든 영화평의 길이를 동일하게\n",
    "X_train = pad_sequences(X_train,\n",
    "                        padding = 'post',\n",
    "                        truncating = 'post', # 뒷 부분을 자르고 앞부분 남김\n",
    "                        maxlen = MY_LENGTH)\n",
    "X_test = pad_sequences(X_test,\n",
    "                       padding = 'post',\n",
    "                       truncating = 'post',\n",
    "                       maxlen = MY_LENGTH\n",
    "                      )\n",
    "show_length()"
   ]
  },
  {
   "cell_type": "code",
   "execution_count": 12,
   "id": "7198562a",
   "metadata": {
    "ExecuteTime": {
     "end_time": "2025-01-03T01:10:49.889739Z",
     "start_time": "2025-01-03T01:10:49.877005Z"
    }
   },
   "outputs": [
    {
     "data": {
      "text/plain": [
       "((25000, 80), (25000,), (25000, 80), (25000,))"
      ]
     },
     "execution_count": 12,
     "metadata": {},
     "output_type": "execute_result"
    }
   ],
   "source": [
    "# 8. 최종 데이터 shape 확인\n",
    "X_train.shape, y_train.shape, X_test.shape, y_test.shape"
   ]
  },
  {
   "cell_type": "code",
   "execution_count": 13,
   "id": "c8a3a620",
   "metadata": {
    "ExecuteTime": {
     "end_time": "2025-01-03T01:10:50.181209Z",
     "start_time": "2025-01-03T01:10:49.893728Z"
    }
   },
   "outputs": [
    {
     "name": "stdout",
     "output_type": "stream",
     "text": [
      "Model: \"sequential\"\n",
      "_________________________________________________________________\n",
      " Layer (type)                Output Shape              Param #   \n",
      "=================================================================\n",
      " embedding (Embedding)       (None, 80, 32)            320000    \n",
      "                                                                 \n",
      " lstm (LSTM)                 (None, 64)                24832     \n",
      "                                                                 \n",
      " dense (Dense)               (None, 1)                 65        \n",
      "                                                                 \n",
      "=================================================================\n",
      "Total params: 344,897\n",
      "Trainable params: 344,897\n",
      "Non-trainable params: 0\n",
      "_________________________________________________________________\n"
     ]
    }
   ],
   "source": [
    "# 9. 모델 생성 및 구현\n",
    "model = Sequential()\n",
    "model.add(Embedding(input_dim = MY_WORDS,\n",
    "                    output_dim = MY_EMBED,\n",
    "                    input_length = MY_LENGTH))\n",
    "model.add(LSTM(units = MY_HIDDEN,\n",
    "               input_shape = (MY_LENGTH, MY_EMBED)))\n",
    "model.add(Dense(units = 1,\n",
    "                activation = 'sigmoid'))\n",
    "model.summary()"
   ]
  },
  {
   "cell_type": "code",
   "execution_count": 14,
   "id": "41d2de0f",
   "metadata": {
    "ExecuteTime": {
     "end_time": "2025-01-03T01:11:02.806316Z",
     "start_time": "2025-01-03T01:10:50.183481Z"
    }
   },
   "outputs": [
    {
     "name": "stdout",
     "output_type": "stream",
     "text": [
      "Epoch 1/10\n",
      "100/100 [==============================] - 4s 14ms/step - loss: 0.5958 - acc: 0.6587 - val_loss: 0.4445 - val_acc: 0.7960\n",
      "Epoch 2/10\n",
      "100/100 [==============================] - 1s 9ms/step - loss: 0.3693 - acc: 0.8419 - val_loss: 0.4095 - val_acc: 0.8182\n",
      "Epoch 3/10\n",
      "100/100 [==============================] - 1s 9ms/step - loss: 0.2835 - acc: 0.8889 - val_loss: 0.4251 - val_acc: 0.8132\n",
      "Epoch 4/10\n",
      "100/100 [==============================] - 1s 9ms/step - loss: 0.2274 - acc: 0.9156 - val_loss: 0.4865 - val_acc: 0.8046\n",
      "Epoch 5/10\n",
      "100/100 [==============================] - 1s 9ms/step - loss: 0.1919 - acc: 0.9303 - val_loss: 0.4814 - val_acc: 0.7992\n",
      "Epoch 6/10\n",
      "100/100 [==============================] - 1s 9ms/step - loss: 0.1711 - acc: 0.9406 - val_loss: 0.5665 - val_acc: 0.7954\n",
      "Epoch 7/10\n",
      "100/100 [==============================] - 1s 9ms/step - loss: 0.1562 - acc: 0.9468 - val_loss: 0.5790 - val_acc: 0.7934\n",
      "Epoch 8/10\n",
      "100/100 [==============================] - 1s 9ms/step - loss: 0.1284 - acc: 0.9574 - val_loss: 0.6590 - val_acc: 0.7936\n",
      "Epoch 9/10\n",
      "100/100 [==============================] - 1s 9ms/step - loss: 0.1065 - acc: 0.9653 - val_loss: 0.7487 - val_acc: 0.7930\n",
      "Epoch 10/10\n",
      "100/100 [==============================] - 1s 9ms/step - loss: 0.0927 - acc: 0.9712 - val_loss: 0.8093 - val_acc: 0.7932\n",
      "총 학습시간: 12.19\n"
     ]
    }
   ],
   "source": [
    "# 10. 학습환경 설정 및 학습하기\n",
    "model.compile(loss = 'binary_crossentropy', # 이중분류 시 손실함수\n",
    "              optimizer = 'adam',\n",
    "              metrics = ['acc']\n",
    "             )\n",
    "begin = time() # 70.1.1 ~ 이 시점까지의 sec\n",
    "model.fit(x = X_train, \n",
    "          y = y_train,\n",
    "          epochs = MY_EPOCH,\n",
    "          batch_size = MY_BATCH,\n",
    "          verbose  = 1, \n",
    "          validation_split = .2,\n",
    "         )\n",
    "end = time() # 70.1.1 ~ 이 시점까지의 sec\n",
    "print('총 학습시간: {:.2f}'.format(end - begin))"
   ]
  },
  {
   "cell_type": "code",
   "execution_count": 15,
   "id": "a8c20a16",
   "metadata": {
    "ExecuteTime": {
     "end_time": "2025-01-03T01:11:06.855787Z",
     "start_time": "2025-01-03T01:11:02.809308Z"
    }
   },
   "outputs": [
    {
     "name": "stdout",
     "output_type": "stream",
     "text": [
      "782/782 [==============================] - 4s 4ms/step - loss: 0.9803 - acc: 0.7579\n",
      "test 데이터 정확도(acc): 0.7579200267791748\n"
     ]
    }
   ],
   "source": [
    "# 11. 모델 평가\n",
    "loss, acc = model.evaluate(X_test, y_test, verbose = 1)\n",
    "print('test 데이터 정확도(acc):', acc)"
   ]
  },
  {
   "cell_type": "code",
   "execution_count": 16,
   "id": "ec1f5f67",
   "metadata": {
    "ExecuteTime": {
     "end_time": "2025-01-03T01:11:10.005941Z",
     "start_time": "2025-01-03T01:11:06.858584Z"
    }
   },
   "outputs": [
    {
     "name": "stdout",
     "output_type": "stream",
     "text": [
      "782/782 [==============================] - 3s 3ms/step\n"
     ]
    },
    {
     "data": {
      "text/plain": [
       "array([0, 1, 1, ..., 0, 1, 1])"
      ]
     },
     "execution_count": 16,
     "metadata": {},
     "output_type": "execute_result"
    }
   ],
   "source": [
    "# 혼돈 행렬\n",
    "pred = model.predict(X_test)\n",
    "y_hat = (pred > .5).astype(int).reshape(-1)\n",
    "y_hat"
   ]
  },
  {
   "cell_type": "code",
   "execution_count": 17,
   "id": "21ce771e",
   "metadata": {
    "ExecuteTime": {
     "end_time": "2025-01-03T01:11:10.024282Z",
     "start_time": "2025-01-03T01:11:10.009673Z"
    }
   },
   "outputs": [
    {
     "data": {
      "text/plain": [
       "((25000,), (25000,))"
      ]
     },
     "execution_count": 17,
     "metadata": {},
     "output_type": "execute_result"
    }
   ],
   "source": [
    "y_test.shape, y_hat.shape"
   ]
  },
  {
   "cell_type": "code",
   "execution_count": 18,
   "id": "1062fc8f",
   "metadata": {
    "ExecuteTime": {
     "end_time": "2025-01-03T01:11:10.042267Z",
     "start_time": "2025-01-03T01:11:10.028271Z"
    }
   },
   "outputs": [
    {
     "data": {
      "text/plain": [
       "array([[9615, 2885],\n",
       "       [3167, 9333]], dtype=int64)"
      ]
     },
     "execution_count": 18,
     "metadata": {},
     "output_type": "execute_result"
    }
   ],
   "source": [
    "confusion_matrix(y_test, y_hat)"
   ]
  },
  {
   "cell_type": "code",
   "execution_count": 32,
   "id": "f4877d1e",
   "metadata": {
    "scrolled": true
   },
   "outputs": [
    {
     "name": "stdout",
     "output_type": "stream",
     "text": [
      "71 [1, 51, 6, 389, 20, 4, 156, 555, 71, 52, 4, 1500, 16, 52, 5, 4, 481, 16, 52, 50, 16, 6, 23667, 15, 13, 473, 8, 140, 8, 4, 3868, 11, 4, 655, 88, 4, 620, 58, 16, 196, 4, 14802, 967, 16, 24, 17, 312, 17, 13, 197, 38, 13, 122, 6, 52, 292, 19, 4, 14802, 13, 545, 386, 12, 25, 528, 2598, 12, 48, 25, 106, 12]\n"
     ]
    },
    {
     "data": {
      "text/plain": [
       "(1, 71)"
      ]
     },
     "execution_count": 32,
     "metadata": {},
     "output_type": "execute_result"
    }
   ],
   "source": [
    "# 12. 모델 사용하기\n",
    "review = \"\"\"What a wonderful movie\n",
    "The actors roles were good the content was good and the sound was good \n",
    "There was a disadvantage that I wanted to go to the bathroom in the middle because the running time was long\n",
    "The reservation rate was not as high as I thought so I did a good job with the reservation\n",
    "I highly recommend it\n",
    "You won't regret it if you watch it\"\"\"\n",
    "review = review.lower().split()\n",
    "review = [1] + [word_to_id.get(r, -1)+3 for r in review]\n",
    "print(len(review), review)\n",
    "review = np.array(review).reshape(-1, len(review))\n",
    "review.shape"
   ]
  },
  {
   "cell_type": "code",
   "execution_count": 33,
   "id": "563f79b7",
   "metadata": {
    "ExecuteTime": {
     "end_time": "2025-01-03T01:11:10.057700Z",
     "start_time": "2025-01-03T01:11:10.044945Z"
    }
   },
   "outputs": [
    {
     "data": {
      "text/plain": [
       "(1, 80)"
      ]
     },
     "execution_count": 33,
     "metadata": {},
     "output_type": "execute_result"
    }
   ],
   "source": [
    "input_data = pad_sequences(review,\n",
    "                          padding='post',\n",
    "                          maxlen=MY_LENGTH,\n",
    "                          truncating='post')\n",
    "input_data.shape"
   ]
  },
  {
   "cell_type": "code",
   "execution_count": 35,
   "id": "54770fac",
   "metadata": {},
   "outputs": [
    {
     "name": "stdout",
     "output_type": "stream",
     "text": [
      "1/1 [==============================] - 0s 23ms/step\n"
     ]
    },
    {
     "data": {
      "text/plain": [
       "array([[1]], dtype=int8)"
      ]
     },
     "execution_count": 35,
     "metadata": {},
     "output_type": "execute_result"
    }
   ],
   "source": [
    "(model.predict(input_data) > 0.5).astype('int8')"
   ]
  },
  {
   "cell_type": "code",
   "execution_count": null,
   "id": "9565a208",
   "metadata": {},
   "outputs": [],
   "source": []
  },
  {
   "cell_type": "code",
   "execution_count": null,
   "id": "87f48c9b",
   "metadata": {},
   "outputs": [],
   "source": []
  },
  {
   "cell_type": "code",
   "execution_count": null,
   "id": "c6ce84ba",
   "metadata": {},
   "outputs": [],
   "source": []
  },
  {
   "cell_type": "code",
   "execution_count": null,
   "id": "9c66df17",
   "metadata": {},
   "outputs": [],
   "source": []
  },
  {
   "cell_type": "code",
   "execution_count": null,
   "id": "f51f778c",
   "metadata": {},
   "outputs": [],
   "source": []
  },
  {
   "cell_type": "code",
   "execution_count": null,
   "id": "65bd2fe8",
   "metadata": {},
   "outputs": [],
   "source": []
  },
  {
   "cell_type": "code",
   "execution_count": null,
   "id": "3528957a",
   "metadata": {},
   "outputs": [],
   "source": []
  },
  {
   "cell_type": "code",
   "execution_count": null,
   "id": "eee62b04",
   "metadata": {},
   "outputs": [],
   "source": []
  },
  {
   "cell_type": "code",
   "execution_count": null,
   "id": "17f543d4",
   "metadata": {},
   "outputs": [],
   "source": []
  }
 ],
 "metadata": {
  "kernelspec": {
   "display_name": "Python 3 (ipykernel)",
   "language": "python",
   "name": "python3"
  },
  "language_info": {
   "codemirror_mode": {
    "name": "ipython",
    "version": 3
   },
   "file_extension": ".py",
   "mimetype": "text/x-python",
   "name": "python",
   "nbconvert_exporter": "python",
   "pygments_lexer": "ipython3",
   "version": "3.10.9"
  },
  "toc": {
   "base_numbering": 1,
   "nav_menu": {},
   "number_sections": false,
   "sideBar": true,
   "skip_h1_title": false,
   "title_cell": "Table of Contents",
   "title_sidebar": "Contents",
   "toc_cell": false,
   "toc_position": {},
   "toc_section_display": true,
   "toc_window_display": false
  }
 },
 "nbformat": 4,
 "nbformat_minor": 5
}
