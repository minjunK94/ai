{
 "cells": [
  {
   "cell_type": "markdown",
   "id": "7d94f619",
   "metadata": {},
   "source": [
    "<b><font size=\"6\" color=\"red\">ch06.모듈과 패키지</font></b>\n",
    "# 1절. 파이썬표준모듈 사용\n",
    "- 모듈 : 함수, 변수, 클래스 등을 담고 있는 파이썬 코드 파일(*.py)\n",
    "- 파이썬 포준 모듈 200여개 파이썬 인터프리터와 함께 install 됨\n",
    "- anaconda는 1500개 이상의 패키지 install(정확한 갯수는 버전마다 상이)"
   ]
  },
  {
   "cell_type": "code",
   "execution_count": 1,
   "id": "c4c3d6a7",
   "metadata": {},
   "outputs": [
    {
     "data": {
      "text/plain": [
       "'Tue Nov 12 16:36:23 2024'"
      ]
     },
     "execution_count": 1,
     "metadata": {},
     "output_type": "execute_result"
    }
   ],
   "source": [
    "# 1. import 모듈명 : 모듈안의 함수, 클래스, 변수를 모듈명.함수명(),....사용\n",
    "import time # time 모듕안의 함수, 변수, 클래스가 메모리 로드\n",
    "time.ctime()"
   ]
  },
  {
   "cell_type": "code",
   "execution_count": 2,
   "id": "1b1e40ca",
   "metadata": {},
   "outputs": [
    {
     "data": {
      "text/plain": [
       "1731396983.9821477"
      ]
     },
     "execution_count": 2,
     "metadata": {},
     "output_type": "execute_result"
    }
   ],
   "source": [
    "time.time() # 1970.1.1부터의 밀리세컨"
   ]
  },
  {
   "cell_type": "code",
   "execution_count": 3,
   "id": "ff4cbce6",
   "metadata": {},
   "outputs": [],
   "source": [
    "del time # time 모듈을 메모리에서 unload"
   ]
  },
  {
   "cell_type": "code",
   "execution_count": 4,
   "id": "09325f9c",
   "metadata": {},
   "outputs": [
    {
     "data": {
      "text/plain": [
       "'Tue Nov 12 16:36:23 2024'"
      ]
     },
     "execution_count": 4,
     "metadata": {},
     "output_type": "execute_result"
    }
   ],
   "source": [
    "# 2. from 모듈(a) import 함수또는 클래스 또는 변수(b) : A모듈안의 B만 로드\n",
    "#      from 패키지(A) import 모듈(B) : A패키지 안의 B모듈을 로드\n",
    "#      from 패키지(A).모듈명(B) import 함수명 (C) : A안의 B안에 C함수만 로드\n",
    "from time import ctime, time\n",
    "ctime()"
   ]
  },
  {
   "cell_type": "code",
   "execution_count": 5,
   "id": "74b9950e",
   "metadata": {},
   "outputs": [
    {
     "data": {
      "text/plain": [
       "1731396984.0058367"
      ]
     },
     "execution_count": 5,
     "metadata": {},
     "output_type": "execute_result"
    }
   ],
   "source": [
    "time()"
   ]
  },
  {
   "cell_type": "code",
   "execution_count": 6,
   "id": "042e6e21",
   "metadata": {},
   "outputs": [],
   "source": [
    "del ctime\n",
    "del time"
   ]
  },
  {
   "cell_type": "code",
   "execution_count": 7,
   "id": "6fd42c29",
   "metadata": {},
   "outputs": [
    {
     "data": {
      "text/plain": [
       "'Tue Nov 12 16:36:24 2024'"
      ]
     },
     "execution_count": 7,
     "metadata": {},
     "output_type": "execute_result"
    }
   ],
   "source": [
    "# 3. import 모듈명 as 별칭 : 모듈을 메모리에서 로드하고 별칭으로 사용\n",
    "import time as t\n",
    "t.ctime()"
   ]
  },
  {
   "cell_type": "code",
   "execution_count": 8,
   "id": "717db0f5",
   "metadata": {},
   "outputs": [
    {
     "data": {
      "text/plain": [
       "1731396984.0305636"
      ]
     },
     "execution_count": 8,
     "metadata": {},
     "output_type": "execute_result"
    }
   ],
   "source": [
    "t.time()"
   ]
  },
  {
   "cell_type": "code",
   "execution_count": 9,
   "id": "672f054c",
   "metadata": {},
   "outputs": [],
   "source": [
    "del t"
   ]
  },
  {
   "cell_type": "code",
   "execution_count": 10,
   "id": "23ea52b0",
   "metadata": {},
   "outputs": [
    {
     "data": {
      "text/plain": [
       "'Tue Nov 12 16:36:24 2024'"
      ]
     },
     "execution_count": 10,
     "metadata": {},
     "output_type": "execute_result"
    }
   ],
   "source": [
    "# 4.from 모듈명 import 함수명 as 별칭\n",
    "#     from 패키지명 import 모듈명 as 별칭\n",
    "#    from 패키지명.모듈명 import 함수명 as 별칭\n",
    "from time import ctime as ct\n",
    "ct()"
   ]
  },
  {
   "cell_type": "markdown",
   "id": "729f0a4e",
   "metadata": {},
   "source": [
    "```\n",
    "import A - A 모듈을 로드\n",
    "import A as B - A모듈을 B이름으로 가져옴\n",
    "from A import B - A 모듈 안의 B함수(클래스|변수)\n",
    "from A import B as C - A모듈안의 B함수를 C이름으로 가져옴\n",
    "\n",
    "from A import B - A패키지안의 B모듈을 가져옴\n",
    "from A.B import C - A패키지안의 B모듈안의 C함수를 가져옴\n",
    "from A import B as C - A패키지안의 B모듈을 C이름으로 가져옴\n",
    "from A.B import C as D - A패키지안의 B모듈안의 C함수를 D이름으로 가져옴\n",
    "```"
   ]
  },
  {
   "cell_type": "code",
   "execution_count": 11,
   "id": "7880beb1",
   "metadata": {},
   "outputs": [
    {
     "data": {
      "text/plain": [
       "['_STRUCT_TM_ITEMS',\n",
       " '__doc__',\n",
       " '__loader__',\n",
       " '__name__',\n",
       " '__package__',\n",
       " '__spec__',\n",
       " 'altzone',\n",
       " 'asctime',\n",
       " 'ctime',\n",
       " 'daylight',\n",
       " 'get_clock_info',\n",
       " 'gmtime',\n",
       " 'localtime',\n",
       " 'mktime',\n",
       " 'monotonic',\n",
       " 'monotonic_ns',\n",
       " 'perf_counter',\n",
       " 'perf_counter_ns',\n",
       " 'process_time',\n",
       " 'process_time_ns',\n",
       " 'sleep',\n",
       " 'strftime',\n",
       " 'strptime',\n",
       " 'struct_time',\n",
       " 'thread_time',\n",
       " 'thread_time_ns',\n",
       " 'time',\n",
       " 'time_ns',\n",
       " 'timezone',\n",
       " 'tzname']"
      ]
     },
     "execution_count": 11,
     "metadata": {},
     "output_type": "execute_result"
    }
   ],
   "source": [
    "import time\n",
    "dir(time) #time 내의 변수, 함수, 클래스 등이 list로 출력"
   ]
  },
  {
   "cell_type": "markdown",
   "id": "4c25ae4b",
   "metadata": {},
   "source": [
    "# 2절. 사용자 정의 모듈\n",
    "- 함수나 클래스등을 파이썬 파일에 저장해서 모듈을 만들고 재사용할수 있음\n",
    "- 모듈을 가져오는 순서 (1) 표준모듈 (2)sys.path 변수에 저장된 경로"
   ]
  },
  {
   "cell_type": "code",
   "execution_count": 12,
   "id": "2306f603",
   "metadata": {},
   "outputs": [
    {
     "data": {
      "text/plain": [
       "['D:\\\\ai\\\\source\\\\07_python',\n",
       " 'C:\\\\Users\\\\4545\\\\anaconda3\\\\python310.zip',\n",
       " 'C:\\\\Users\\\\4545\\\\anaconda3\\\\DLLs',\n",
       " 'C:\\\\Users\\\\4545\\\\anaconda3\\\\lib',\n",
       " 'C:\\\\Users\\\\4545\\\\anaconda3',\n",
       " '',\n",
       " 'C:\\\\Users\\\\4545\\\\anaconda3\\\\lib\\\\site-packages',\n",
       " 'C:\\\\Users\\\\4545\\\\anaconda3\\\\lib\\\\site-packages\\\\win32',\n",
       " 'C:\\\\Users\\\\4545\\\\anaconda3\\\\lib\\\\site-packages\\\\win32\\\\lib',\n",
       " 'C:\\\\Users\\\\4545\\\\anaconda3\\\\lib\\\\site-packages\\\\Pythonwin']"
      ]
     },
     "execution_count": 12,
     "metadata": {},
     "output_type": "execute_result"
    }
   ],
   "source": [
    "import sys\n",
    "sys.path"
   ]
  },
  {
   "cell_type": "code",
   "execution_count": 13,
   "id": "425849ca",
   "metadata": {},
   "outputs": [],
   "source": [
    "# r'D:\\ai\\source\\pylib'\n",
    "# 'D:/ai/source/pylib'"
   ]
  },
  {
   "cell_type": "code",
   "execution_count": 14,
   "id": "0758581f",
   "metadata": {},
   "outputs": [
    {
     "data": {
      "text/plain": [
       "['D:\\\\ai\\\\source\\\\07_python',\n",
       " 'C:\\\\Users\\\\4545\\\\anaconda3\\\\python310.zip',\n",
       " 'C:\\\\Users\\\\4545\\\\anaconda3\\\\DLLs',\n",
       " 'C:\\\\Users\\\\4545\\\\anaconda3\\\\lib',\n",
       " 'C:\\\\Users\\\\4545\\\\anaconda3',\n",
       " '',\n",
       " 'C:\\\\Users\\\\4545\\\\anaconda3\\\\lib\\\\site-packages',\n",
       " 'C:\\\\Users\\\\4545\\\\anaconda3\\\\lib\\\\site-packages\\\\win32',\n",
       " 'C:\\\\Users\\\\4545\\\\anaconda3\\\\lib\\\\site-packages\\\\win32\\\\lib',\n",
       " 'C:\\\\Users\\\\4545\\\\anaconda3\\\\lib\\\\site-packages\\\\Pythonwin',\n",
       " 'D:\\\\ai\\\\source\\\\pylib']"
      ]
     },
     "execution_count": 14,
     "metadata": {},
     "output_type": "execute_result"
    }
   ],
   "source": [
    "# 사용자 정의 모듈을 저장할 폴더 : D:/ai/source/pylib\n",
    "import sys\n",
    "sys.path.append(r'D:\\ai\\source\\pylib')\n",
    "sys.path"
   ]
  },
  {
   "cell_type": "code",
   "execution_count": 15,
   "id": "837ae8dc",
   "metadata": {},
   "outputs": [],
   "source": [
    "# 1. import 모듈명\n",
    "import fibonacci"
   ]
  },
  {
   "cell_type": "code",
   "execution_count": 16,
   "id": "9ca955d7",
   "metadata": {},
   "outputs": [
    {
     "name": "stdout",
     "output_type": "stream",
     "text": [
      "01123581321345589\n"
     ]
    }
   ],
   "source": [
    "fibonacci.fibo_print(100)"
   ]
  },
  {
   "cell_type": "code",
   "execution_count": 17,
   "id": "c3e8cf5e",
   "metadata": {},
   "outputs": [
    {
     "data": {
      "text/plain": [
       "[0, 1, 1, 2, 3, 5, 8, 13, 21, 34, 55, 89]"
      ]
     },
     "execution_count": 17,
     "metadata": {},
     "output_type": "execute_result"
    }
   ],
   "source": [
    "fibonacci.fibo_return(100)"
   ]
  },
  {
   "cell_type": "code",
   "execution_count": 18,
   "id": "b1905262",
   "metadata": {},
   "outputs": [
    {
     "name": "stdout",
     "output_type": "stream",
     "text": [
      "1. print test : 01123581321345589144\n",
      "2. return된 list test : [0, 1, 1, 2, 3, 5, 8, 13, 21, 34, 55, 89, 144]\n"
     ]
    }
   ],
   "source": [
    "! python d:/ai/source/pylib/fibonacci.py 200"
   ]
  },
  {
   "cell_type": "code",
   "execution_count": 19,
   "id": "74f03560",
   "metadata": {},
   "outputs": [],
   "source": [
    "del fibonacci"
   ]
  },
  {
   "cell_type": "code",
   "execution_count": 20,
   "id": "0d62df04",
   "metadata": {},
   "outputs": [
    {
     "name": "stdout",
     "output_type": "stream",
     "text": [
      "01123581321345589\n"
     ]
    }
   ],
   "source": [
    "# 2. from A import B\n",
    "from fibonacci import fibo_print, fibo_return\n",
    "fibo_print(100)"
   ]
  },
  {
   "cell_type": "code",
   "execution_count": 21,
   "id": "b4c279f5",
   "metadata": {},
   "outputs": [
    {
     "data": {
      "text/plain": [
       "[0, 1, 1, 2, 3, 5, 8, 13, 21, 34, 55, 89]"
      ]
     },
     "execution_count": 21,
     "metadata": {},
     "output_type": "execute_result"
    }
   ],
   "source": [
    "fibo_return(100)"
   ]
  },
  {
   "cell_type": "code",
   "execution_count": 22,
   "id": "155b7f68",
   "metadata": {},
   "outputs": [],
   "source": [
    "del fibo_print\n",
    "del fibo_return"
   ]
  },
  {
   "cell_type": "code",
   "execution_count": 23,
   "id": "77b2369b",
   "metadata": {},
   "outputs": [
    {
     "name": "stdout",
     "output_type": "stream",
     "text": [
      "01123581321345589\n"
     ]
    }
   ],
   "source": [
    "# 3. import 모듈명 as 별칭\n",
    "import fibonacci as f\n",
    "f.fibo_print(100)"
   ]
  },
  {
   "cell_type": "code",
   "execution_count": 24,
   "id": "17f508be",
   "metadata": {},
   "outputs": [
    {
     "data": {
      "text/plain": [
       "[0, 1, 1, 2, 3, 5, 8, 13, 21, 34, 55, 89]"
      ]
     },
     "execution_count": 24,
     "metadata": {},
     "output_type": "execute_result"
    }
   ],
   "source": [
    "f.fibo_return(100)"
   ]
  },
  {
   "cell_type": "code",
   "execution_count": 25,
   "id": "42955318",
   "metadata": {},
   "outputs": [],
   "source": [
    "del f # import된 모듈을 unload"
   ]
  },
  {
   "cell_type": "code",
   "execution_count": 26,
   "id": "56977115",
   "metadata": {},
   "outputs": [],
   "source": [
    "# 4. from 모듈명 import 함수명 as 별칭\n",
    "from fibonacci import fibo_print as fibo_p"
   ]
  },
  {
   "cell_type": "code",
   "execution_count": 27,
   "id": "16b0e031",
   "metadata": {},
   "outputs": [
    {
     "name": "stdout",
     "output_type": "stream",
     "text": [
      "01123581321345589\n"
     ]
    }
   ],
   "source": [
    "fibo_p(100)"
   ]
  },
  {
   "cell_type": "code",
   "execution_count": 28,
   "id": "b60333d1",
   "metadata": {},
   "outputs": [],
   "source": [
    "del fibo_p"
   ]
  },
  {
   "cell_type": "code",
   "execution_count": 29,
   "id": "cab7e4b9",
   "metadata": {},
   "outputs": [
    {
     "name": "stdout",
     "output_type": "stream",
     "text": [
      "3.141592\n"
     ]
    }
   ],
   "source": [
    "import info\n",
    "print(info.PI)"
   ]
  },
  {
   "cell_type": "code",
   "execution_count": 30,
   "id": "b5ae0691",
   "metadata": {},
   "outputs": [],
   "source": [
    "obj = info.Cal(10,5)"
   ]
  },
  {
   "cell_type": "code",
   "execution_count": 31,
   "id": "1f0d3e25",
   "metadata": {},
   "outputs": [
    {
     "name": "stdout",
     "output_type": "stream",
     "text": [
      "True\n",
      "add test : 15\n",
      "sub test : 5\n",
      "obj.num1 : 10\n",
      "obj.num2 : 5\n"
     ]
    }
   ],
   "source": [
    "print(isinstance(obj, info.Cal))\n",
    "print('add test :',obj.add())\n",
    "print('sub test :',obj.sub())\n",
    "print('obj.num1 :',obj.num1)\n",
    "print('obj.num2 :',obj.num2)"
   ]
  },
  {
   "cell_type": "code",
   "execution_count": 32,
   "id": "eb8aa784",
   "metadata": {},
   "outputs": [],
   "source": [
    "del info"
   ]
  },
  {
   "cell_type": "code",
   "execution_count": 33,
   "id": "84b72f42",
   "metadata": {},
   "outputs": [],
   "source": [
    "import info as i\n",
    "obj = i.Cal(10, 5)"
   ]
  },
  {
   "cell_type": "code",
   "execution_count": 34,
   "id": "29fa3a3f",
   "metadata": {},
   "outputs": [],
   "source": [
    "del i"
   ]
  },
  {
   "cell_type": "code",
   "execution_count": 35,
   "id": "094dde45",
   "metadata": {},
   "outputs": [],
   "source": [
    "from info import Cal"
   ]
  },
  {
   "cell_type": "code",
   "execution_count": 36,
   "id": "e7bf8fff",
   "metadata": {},
   "outputs": [
    {
     "name": "stdout",
     "output_type": "stream",
     "text": [
      "obj.num1 : 10\n",
      "obj.num2 : 5\n",
      "add test : 15\n",
      "sub test : 5\n"
     ]
    }
   ],
   "source": [
    "obj = Cal(10, 5)\n",
    "print('obj.num1 :',obj.num1)\n",
    "print('obj.num2 :',obj.num2)\n",
    "print('add test :',obj.add())\n",
    "print('sub test :',obj.sub())"
   ]
  },
  {
   "cell_type": "code",
   "execution_count": 37,
   "id": "5258a7f1",
   "metadata": {},
   "outputs": [
    {
     "name": "stdout",
     "output_type": "stream",
     "text": [
      "obj.num1 : 10\n",
      "obj.num2 : 5\n",
      "add test : 15\n",
      "sub test : 5\n"
     ]
    }
   ],
   "source": [
    "from info import Cal as Calculalte\n",
    "obj = Calculalte(10, 5)\n",
    "print('obj.num1 :',obj.num1)\n",
    "print('obj.num2 :',obj.num2)\n",
    "print('add test :',obj.add())\n",
    "print('sub test :',obj.sub())"
   ]
  },
  {
   "cell_type": "markdown",
   "id": "bb0a1a7a",
   "metadata": {},
   "source": [
    "# 3절. 패키지\n",
    "- 모듈들이 들어있는 폴더"
   ]
  },
  {
   "cell_type": "code",
   "execution_count": 38,
   "id": "4569b21e",
   "metadata": {},
   "outputs": [
    {
     "name": "stdout",
     "output_type": "stream",
     "text": [
      "sample_pac 패키지를 로드햇는데 확인하는 print입니다\n"
     ]
    }
   ],
   "source": [
    "# 상위 패키지를 import 한다고 하위 패키지가 import 되지 않습니다\n",
    "import sample_pac"
   ]
  },
  {
   "cell_type": "code",
   "execution_count": 39,
   "id": "b02ef26a",
   "metadata": {},
   "outputs": [
    {
     "name": "stdout",
     "output_type": "stream",
     "text": [
      "sample_pac 패키지 안의 ab패키지가 로드 되었습니다.\n"
     ]
    }
   ],
   "source": [
    "import sample_pac.ab"
   ]
  },
  {
   "cell_type": "code",
   "execution_count": 40,
   "id": "12df47dc",
   "metadata": {},
   "outputs": [
    {
     "name": "stdout",
     "output_type": "stream",
     "text": [
      "sample_pac 패키지 안의 cd 패키지 로드\n"
     ]
    }
   ],
   "source": [
    "from sample_pac import cd"
   ]
  },
  {
   "cell_type": "code",
   "execution_count": 41,
   "id": "376e8847",
   "metadata": {},
   "outputs": [
    {
     "name": "stdout",
     "output_type": "stream",
     "text": [
      "D:\\ai\\source\\pylib\\sample_pac\\__init__.py\n"
     ]
    }
   ],
   "source": [
    "print(sample_pac.__file__)"
   ]
  },
  {
   "cell_type": "code",
   "execution_count": 42,
   "id": "e9f0ad20",
   "metadata": {},
   "outputs": [
    {
     "name": "stdout",
     "output_type": "stream",
     "text": [
      "['D:\\\\ai\\\\source\\\\pylib\\\\sample_pac']\n"
     ]
    }
   ],
   "source": [
    "print(sample_pac.__path__)"
   ]
  },
  {
   "cell_type": "code",
   "execution_count": 43,
   "id": "d859ce85",
   "metadata": {},
   "outputs": [],
   "source": [
    "del sample_pac.ab\n",
    "del cd"
   ]
  },
  {
   "cell_type": "code",
   "execution_count": 1,
   "id": "4d9d0f6e",
   "metadata": {},
   "outputs": [],
   "source": [
    "import sys\n",
    "sys.path.append(r'D:\\ai\\source\\pylib')"
   ]
  },
  {
   "cell_type": "code",
   "execution_count": 2,
   "id": "cf7fb332",
   "metadata": {},
   "outputs": [
    {
     "name": "stdout",
     "output_type": "stream",
     "text": [
      "sample_pac 패키지를 로드햇는데 확인하는 print입니다\n",
      "sample_pac 패키지 안의 ab패키지가 로드 되었습니다.\n"
     ]
    }
   ],
   "source": [
    "from sample_pac.ab import * # ab패키지의 __init__.py 안의 __all__속성"
   ]
  },
  {
   "cell_type": "code",
   "execution_count": 3,
   "id": "b2347b0a",
   "metadata": {},
   "outputs": [
    {
     "name": "stdout",
     "output_type": "stream",
     "text": [
      "sample_pac/ab/a 모듈의 Hello\n"
     ]
    }
   ],
   "source": [
    "a.hello()"
   ]
  },
  {
   "cell_type": "code",
   "execution_count": 5,
   "id": "ca7f1a08",
   "metadata": {},
   "outputs": [
    {
     "name": "stdout",
     "output_type": "stream",
     "text": [
      "sample_pac/ab/b모듈 안의 World\n"
     ]
    }
   ],
   "source": [
    "from sample_pac.ab import b\n",
    "b.World()"
   ]
  },
  {
   "cell_type": "code",
   "execution_count": 6,
   "id": "4087eb57",
   "metadata": {},
   "outputs": [],
   "source": [
    "del a"
   ]
  },
  {
   "cell_type": "code",
   "execution_count": 7,
   "id": "6014673d",
   "metadata": {},
   "outputs": [
    {
     "name": "stdout",
     "output_type": "stream",
     "text": [
      "sample_pac 패키지 안의 cd 패키지 로드\n"
     ]
    }
   ],
   "source": [
    "import sample_pac.cd.c as c"
   ]
  },
  {
   "cell_type": "markdown",
   "id": "cc7e6492",
   "metadata": {},
   "source": [
    "# 4절 패키지 설치 및 삭제\n",
    "- 패키지 설치 :프롬프트 창에서 pip install 패키지명 == 버전명(생략하면 최신버전) / conda install 패키지명\n",
    "- 패키지 확인 : pip show 패키지명 /  conda list 패키지명\n",
    "- 패키지 삭제 : pip uninstall 패키지명 / conda remove 패키지명"
   ]
  },
  {
   "cell_type": "code",
   "execution_count": 9,
   "id": "a3512d19",
   "metadata": {},
   "outputs": [],
   "source": [
    "import objgraph # 메모리 사용량 출력하는 함수"
   ]
  },
  {
   "cell_type": "code",
   "execution_count": null,
   "id": "2be4d0b6",
   "metadata": {},
   "outputs": [],
   "source": []
  },
  {
   "cell_type": "code",
   "execution_count": 12,
   "id": "ee1fe363",
   "metadata": {},
   "outputs": [
    {
     "name": "stdout",
     "output_type": "stream",
     "text": [
      "dict          34217\n",
      "list          26015\n",
      "function      18953\n",
      "Token         16792\n",
      "tuple         13420\n",
      "Operator      8519\n",
      "Name          7992\n",
      "ReferenceType 5543\n",
      "DFAPlan       5418\n",
      "PythonNode    4827\n"
     ]
    }
   ],
   "source": [
    "objgraph.show_most_common_types() # 메모리 사용량 출력"
   ]
  },
  {
   "cell_type": "code",
   "execution_count": 14,
   "id": "b22753f4",
   "metadata": {},
   "outputs": [],
   "source": [
    "l = [2]\n",
    "for i in range(1000000):\n",
    "    l.append('aaaa')\n",
    "    l.append('bbbb')"
   ]
  },
  {
   "cell_type": "code",
   "execution_count": 15,
   "id": "cfee002b",
   "metadata": {},
   "outputs": [
    {
     "data": {
      "text/plain": [
       "[2,\n",
       " 'aaaa',\n",
       " 'bbbb',\n",
       " 'aaaa',\n",
       " 'bbbb',\n",
       " 'aaaa',\n",
       " 'bbbb',\n",
       " 'aaaa',\n",
       " 'bbbb',\n",
       " 'aaaa',\n",
       " 'bbbb',\n",
       " 'aaaa',\n",
       " 'bbbb',\n",
       " 'aaaa',\n",
       " 'bbbb',\n",
       " 'aaaa',\n",
       " 'bbbb',\n",
       " 'aaaa',\n",
       " 'bbbb',\n",
       " 'aaaa',\n",
       " 'bbbb',\n",
       " 'aaaa',\n",
       " 'bbbb',\n",
       " 'aaaa',\n",
       " 'bbbb',\n",
       " 'aaaa',\n",
       " 'bbbb',\n",
       " 'aaaa',\n",
       " 'bbbb',\n",
       " 'aaaa',\n",
       " 'bbbb',\n",
       " 'aaaa',\n",
       " 'bbbb',\n",
       " 'aaaa',\n",
       " 'bbbb',\n",
       " 'aaaa',\n",
       " 'bbbb',\n",
       " 'aaaa',\n",
       " 'bbbb',\n",
       " 'aaaa',\n",
       " 'bbbb',\n",
       " 'aaaa',\n",
       " 'bbbb',\n",
       " 'aaaa',\n",
       " 'bbbb',\n",
       " 'aaaa',\n",
       " 'bbbb',\n",
       " 'aaaa',\n",
       " 'bbbb',\n",
       " 'aaaa',\n",
       " 'bbbb',\n",
       " 'aaaa',\n",
       " 'bbbb',\n",
       " 'aaaa',\n",
       " 'bbbb',\n",
       " 'aaaa',\n",
       " 'bbbb',\n",
       " 'aaaa',\n",
       " 'bbbb',\n",
       " 'aaaa',\n",
       " 'bbbb',\n",
       " 'aaaa',\n",
       " 'bbbb',\n",
       " 'aaaa',\n",
       " 'bbbb',\n",
       " 'aaaa',\n",
       " 'bbbb',\n",
       " 'aaaa',\n",
       " 'bbbb',\n",
       " 'aaaa',\n",
       " 'bbbb',\n",
       " 'aaaa',\n",
       " 'bbbb',\n",
       " 'aaaa',\n",
       " 'bbbb',\n",
       " 'aaaa',\n",
       " 'bbbb',\n",
       " 'aaaa',\n",
       " 'bbbb',\n",
       " 'aaaa',\n",
       " 'bbbb',\n",
       " 'aaaa',\n",
       " 'bbbb',\n",
       " 'aaaa',\n",
       " 'bbbb',\n",
       " 'aaaa',\n",
       " 'bbbb',\n",
       " 'aaaa',\n",
       " 'bbbb',\n",
       " 'aaaa',\n",
       " 'bbbb',\n",
       " 'aaaa',\n",
       " 'bbbb',\n",
       " 'aaaa',\n",
       " 'bbbb',\n",
       " 'aaaa',\n",
       " 'bbbb',\n",
       " 'aaaa',\n",
       " 'bbbb',\n",
       " 'aaaa',\n",
       " 'bbbb',\n",
       " 'aaaa',\n",
       " 'bbbb',\n",
       " 'aaaa',\n",
       " 'bbbb',\n",
       " 'aaaa',\n",
       " 'bbbb',\n",
       " 'aaaa',\n",
       " 'bbbb',\n",
       " 'aaaa',\n",
       " 'bbbb',\n",
       " 'aaaa',\n",
       " 'bbbb',\n",
       " 'aaaa',\n",
       " 'bbbb',\n",
       " 'aaaa',\n",
       " 'bbbb',\n",
       " 'aaaa',\n",
       " 'bbbb',\n",
       " 'aaaa',\n",
       " 'bbbb',\n",
       " 'aaaa',\n",
       " 'bbbb',\n",
       " 'aaaa',\n",
       " 'bbbb',\n",
       " 'aaaa',\n",
       " 'bbbb',\n",
       " 'aaaa',\n",
       " 'bbbb',\n",
       " 'aaaa',\n",
       " 'bbbb',\n",
       " 'aaaa',\n",
       " 'bbbb',\n",
       " 'aaaa',\n",
       " 'bbbb',\n",
       " 'aaaa',\n",
       " 'bbbb',\n",
       " 'aaaa',\n",
       " 'bbbb',\n",
       " 'aaaa',\n",
       " 'bbbb',\n",
       " 'aaaa',\n",
       " 'bbbb',\n",
       " 'aaaa',\n",
       " 'bbbb',\n",
       " 'aaaa',\n",
       " 'bbbb',\n",
       " 'aaaa',\n",
       " 'bbbb',\n",
       " 'aaaa',\n",
       " 'bbbb',\n",
       " 'aaaa',\n",
       " 'bbbb',\n",
       " 'aaaa',\n",
       " 'bbbb',\n",
       " 'aaaa',\n",
       " 'bbbb',\n",
       " 'aaaa',\n",
       " 'bbbb',\n",
       " 'aaaa',\n",
       " 'bbbb',\n",
       " 'aaaa',\n",
       " 'bbbb',\n",
       " 'aaaa',\n",
       " 'bbbb',\n",
       " 'aaaa',\n",
       " 'bbbb',\n",
       " 'aaaa',\n",
       " 'bbbb',\n",
       " 'aaaa',\n",
       " 'bbbb',\n",
       " 'aaaa',\n",
       " 'bbbb',\n",
       " 'aaaa',\n",
       " 'bbbb',\n",
       " 'aaaa',\n",
       " 'bbbb',\n",
       " 'aaaa',\n",
       " 'bbbb',\n",
       " 'aaaa',\n",
       " 'bbbb',\n",
       " 'aaaa',\n",
       " 'bbbb',\n",
       " 'aaaa',\n",
       " 'bbbb',\n",
       " 'aaaa',\n",
       " 'bbbb',\n",
       " 'aaaa',\n",
       " 'bbbb',\n",
       " 'aaaa',\n",
       " 'bbbb',\n",
       " 'aaaa',\n",
       " 'bbbb',\n",
       " 'aaaa',\n",
       " 'bbbb',\n",
       " 'aaaa',\n",
       " 'bbbb',\n",
       " 'aaaa',\n",
       " 'bbbb',\n",
       " 'aaaa',\n",
       " 'bbbb',\n",
       " 'aaaa',\n",
       " 'bbbb',\n",
       " 'aaaa',\n",
       " 'bbbb',\n",
       " 'aaaa',\n",
       " 'bbbb',\n",
       " 'aaaa',\n",
       " 'bbbb',\n",
       " 'aaaa',\n",
       " 'bbbb',\n",
       " 'aaaa',\n",
       " 'bbbb',\n",
       " 'aaaa',\n",
       " 'bbbb',\n",
       " 'aaaa',\n",
       " 'bbbb',\n",
       " 'aaaa',\n",
       " 'bbbb',\n",
       " 'aaaa',\n",
       " 'bbbb',\n",
       " 'aaaa',\n",
       " 'bbbb',\n",
       " 'aaaa',\n",
       " 'bbbb',\n",
       " 'aaaa',\n",
       " 'bbbb',\n",
       " 'aaaa',\n",
       " 'bbbb',\n",
       " 'aaaa',\n",
       " 'bbbb',\n",
       " 'aaaa',\n",
       " 'bbbb',\n",
       " 'aaaa',\n",
       " 'bbbb',\n",
       " 'aaaa',\n",
       " 'bbbb',\n",
       " 'aaaa',\n",
       " 'bbbb',\n",
       " 'aaaa',\n",
       " 'bbbb',\n",
       " 'aaaa',\n",
       " 'bbbb',\n",
       " 'aaaa',\n",
       " 'bbbb',\n",
       " 'aaaa',\n",
       " 'bbbb',\n",
       " 'aaaa',\n",
       " 'bbbb',\n",
       " 'aaaa',\n",
       " 'bbbb',\n",
       " 'aaaa',\n",
       " 'bbbb',\n",
       " 'aaaa',\n",
       " 'bbbb',\n",
       " 'aaaa',\n",
       " 'bbbb',\n",
       " 'aaaa',\n",
       " 'bbbb',\n",
       " 'aaaa',\n",
       " 'bbbb',\n",
       " 'aaaa',\n",
       " 'bbbb',\n",
       " 'aaaa',\n",
       " 'bbbb',\n",
       " 'aaaa',\n",
       " 'bbbb',\n",
       " 'aaaa',\n",
       " 'bbbb',\n",
       " 'aaaa',\n",
       " 'bbbb',\n",
       " 'aaaa',\n",
       " 'bbbb',\n",
       " 'aaaa',\n",
       " 'bbbb',\n",
       " 'aaaa',\n",
       " 'bbbb',\n",
       " 'aaaa',\n",
       " 'bbbb',\n",
       " 'aaaa',\n",
       " 'bbbb',\n",
       " 'aaaa',\n",
       " 'bbbb',\n",
       " 'aaaa',\n",
       " 'bbbb',\n",
       " 'aaaa',\n",
       " 'bbbb',\n",
       " 'aaaa',\n",
       " 'bbbb',\n",
       " 'aaaa',\n",
       " 'bbbb',\n",
       " 'aaaa',\n",
       " 'bbbb',\n",
       " 'aaaa',\n",
       " 'bbbb',\n",
       " 'aaaa',\n",
       " 'bbbb',\n",
       " 'aaaa',\n",
       " 'bbbb',\n",
       " 'aaaa',\n",
       " 'bbbb',\n",
       " 'aaaa',\n",
       " 'bbbb',\n",
       " 'aaaa',\n",
       " 'bbbb',\n",
       " 'aaaa',\n",
       " 'bbbb',\n",
       " 'aaaa',\n",
       " 'bbbb',\n",
       " 'aaaa',\n",
       " 'bbbb',\n",
       " 'aaaa',\n",
       " 'bbbb',\n",
       " 'aaaa',\n",
       " 'bbbb',\n",
       " 'aaaa',\n",
       " 'bbbb',\n",
       " 'aaaa',\n",
       " 'bbbb',\n",
       " 'aaaa',\n",
       " 'bbbb',\n",
       " 'aaaa',\n",
       " 'bbbb',\n",
       " 'aaaa',\n",
       " 'bbbb',\n",
       " 'aaaa',\n",
       " 'bbbb',\n",
       " 'aaaa',\n",
       " 'bbbb',\n",
       " 'aaaa',\n",
       " 'bbbb',\n",
       " 'aaaa',\n",
       " 'bbbb',\n",
       " 'aaaa',\n",
       " 'bbbb',\n",
       " 'aaaa',\n",
       " 'bbbb',\n",
       " 'aaaa',\n",
       " 'bbbb',\n",
       " 'aaaa',\n",
       " 'bbbb',\n",
       " 'aaaa',\n",
       " 'bbbb',\n",
       " 'aaaa',\n",
       " 'bbbb',\n",
       " 'aaaa',\n",
       " 'bbbb',\n",
       " 'aaaa',\n",
       " 'bbbb',\n",
       " 'aaaa',\n",
       " 'bbbb',\n",
       " 'aaaa',\n",
       " 'bbbb',\n",
       " 'aaaa',\n",
       " 'bbbb',\n",
       " 'aaaa',\n",
       " 'bbbb',\n",
       " 'aaaa',\n",
       " 'bbbb',\n",
       " 'aaaa',\n",
       " 'bbbb',\n",
       " 'aaaa',\n",
       " 'bbbb',\n",
       " 'aaaa',\n",
       " 'bbbb',\n",
       " 'aaaa',\n",
       " 'bbbb',\n",
       " 'aaaa',\n",
       " 'bbbb',\n",
       " 'aaaa',\n",
       " 'bbbb',\n",
       " 'aaaa',\n",
       " 'bbbb',\n",
       " 'aaaa',\n",
       " 'bbbb',\n",
       " 'aaaa',\n",
       " 'bbbb',\n",
       " 'aaaa',\n",
       " 'bbbb',\n",
       " 'aaaa',\n",
       " 'bbbb',\n",
       " 'aaaa',\n",
       " 'bbbb',\n",
       " 'aaaa',\n",
       " 'bbbb',\n",
       " 'aaaa',\n",
       " 'bbbb',\n",
       " 'aaaa',\n",
       " 'bbbb',\n",
       " 'aaaa',\n",
       " 'bbbb',\n",
       " 'aaaa',\n",
       " 'bbbb',\n",
       " 'aaaa',\n",
       " 'bbbb',\n",
       " 'aaaa',\n",
       " 'bbbb',\n",
       " 'aaaa',\n",
       " 'bbbb',\n",
       " 'aaaa',\n",
       " 'bbbb',\n",
       " 'aaaa',\n",
       " 'bbbb',\n",
       " 'aaaa',\n",
       " 'bbbb',\n",
       " 'aaaa',\n",
       " 'bbbb',\n",
       " 'aaaa',\n",
       " 'bbbb',\n",
       " 'aaaa',\n",
       " 'bbbb',\n",
       " 'aaaa',\n",
       " 'bbbb',\n",
       " 'aaaa',\n",
       " 'bbbb',\n",
       " 'aaaa',\n",
       " 'bbbb',\n",
       " 'aaaa',\n",
       " 'bbbb',\n",
       " 'aaaa',\n",
       " 'bbbb',\n",
       " 'aaaa',\n",
       " 'bbbb',\n",
       " 'aaaa',\n",
       " 'bbbb',\n",
       " 'aaaa',\n",
       " 'bbbb',\n",
       " 'aaaa',\n",
       " 'bbbb',\n",
       " 'aaaa',\n",
       " 'bbbb',\n",
       " 'aaaa',\n",
       " 'bbbb',\n",
       " 'aaaa',\n",
       " 'bbbb',\n",
       " 'aaaa',\n",
       " 'bbbb',\n",
       " 'aaaa',\n",
       " 'bbbb',\n",
       " 'aaaa',\n",
       " 'bbbb',\n",
       " 'aaaa',\n",
       " 'bbbb',\n",
       " 'aaaa',\n",
       " 'bbbb',\n",
       " 'aaaa',\n",
       " 'bbbb',\n",
       " 'aaaa',\n",
       " 'bbbb',\n",
       " 'aaaa',\n",
       " 'bbbb',\n",
       " 'aaaa',\n",
       " 'bbbb',\n",
       " 'aaaa',\n",
       " 'bbbb',\n",
       " 'aaaa',\n",
       " 'bbbb',\n",
       " 'aaaa',\n",
       " 'bbbb',\n",
       " 'aaaa',\n",
       " 'bbbb',\n",
       " 'aaaa',\n",
       " 'bbbb',\n",
       " 'aaaa',\n",
       " 'bbbb',\n",
       " 'aaaa',\n",
       " 'bbbb',\n",
       " 'aaaa',\n",
       " 'bbbb',\n",
       " 'aaaa',\n",
       " 'bbbb',\n",
       " 'aaaa',\n",
       " 'bbbb',\n",
       " 'aaaa',\n",
       " 'bbbb',\n",
       " 'aaaa',\n",
       " 'bbbb',\n",
       " 'aaaa',\n",
       " 'bbbb',\n",
       " 'aaaa',\n",
       " 'bbbb',\n",
       " 'aaaa',\n",
       " 'bbbb',\n",
       " 'aaaa',\n",
       " 'bbbb',\n",
       " 'aaaa',\n",
       " 'bbbb',\n",
       " 'aaaa',\n",
       " 'bbbb',\n",
       " 'aaaa',\n",
       " 'bbbb',\n",
       " 'aaaa',\n",
       " 'bbbb',\n",
       " 'aaaa',\n",
       " 'bbbb',\n",
       " 'aaaa',\n",
       " 'bbbb',\n",
       " 'aaaa',\n",
       " 'bbbb',\n",
       " 'aaaa',\n",
       " 'bbbb',\n",
       " 'aaaa',\n",
       " 'bbbb',\n",
       " 'aaaa',\n",
       " 'bbbb',\n",
       " 'aaaa',\n",
       " 'bbbb',\n",
       " 'aaaa',\n",
       " 'bbbb',\n",
       " 'aaaa',\n",
       " 'bbbb',\n",
       " 'aaaa',\n",
       " 'bbbb',\n",
       " 'aaaa',\n",
       " 'bbbb',\n",
       " 'aaaa',\n",
       " 'bbbb',\n",
       " 'aaaa',\n",
       " 'bbbb',\n",
       " 'aaaa',\n",
       " 'bbbb',\n",
       " 'aaaa',\n",
       " 'bbbb',\n",
       " 'aaaa',\n",
       " 'bbbb',\n",
       " 'aaaa',\n",
       " 'bbbb',\n",
       " 'aaaa',\n",
       " 'bbbb',\n",
       " 'aaaa',\n",
       " 'bbbb',\n",
       " 'aaaa',\n",
       " 'bbbb',\n",
       " 'aaaa',\n",
       " 'bbbb',\n",
       " 'aaaa',\n",
       " 'bbbb',\n",
       " 'aaaa',\n",
       " 'bbbb',\n",
       " 'aaaa',\n",
       " 'bbbb',\n",
       " 'aaaa',\n",
       " 'bbbb',\n",
       " 'aaaa',\n",
       " 'bbbb',\n",
       " 'aaaa',\n",
       " 'bbbb',\n",
       " 'aaaa',\n",
       " 'bbbb',\n",
       " 'aaaa',\n",
       " 'bbbb',\n",
       " 'aaaa',\n",
       " 'bbbb',\n",
       " 'aaaa',\n",
       " 'bbbb',\n",
       " 'aaaa',\n",
       " 'bbbb',\n",
       " 'aaaa',\n",
       " 'bbbb',\n",
       " 'aaaa',\n",
       " 'bbbb',\n",
       " 'aaaa',\n",
       " 'bbbb',\n",
       " 'aaaa',\n",
       " 'bbbb',\n",
       " 'aaaa',\n",
       " 'bbbb',\n",
       " 'aaaa',\n",
       " 'bbbb',\n",
       " 'aaaa',\n",
       " 'bbbb',\n",
       " 'aaaa',\n",
       " 'bbbb',\n",
       " 'aaaa',\n",
       " 'bbbb',\n",
       " 'aaaa',\n",
       " 'bbbb',\n",
       " 'aaaa',\n",
       " 'bbbb',\n",
       " 'aaaa',\n",
       " 'bbbb',\n",
       " 'aaaa',\n",
       " 'bbbb',\n",
       " 'aaaa',\n",
       " 'bbbb',\n",
       " 'aaaa',\n",
       " 'bbbb',\n",
       " 'aaaa',\n",
       " 'bbbb',\n",
       " 'aaaa',\n",
       " 'bbbb',\n",
       " 'aaaa',\n",
       " 'bbbb',\n",
       " 'aaaa',\n",
       " 'bbbb',\n",
       " 'aaaa',\n",
       " 'bbbb',\n",
       " 'aaaa',\n",
       " 'bbbb',\n",
       " 'aaaa',\n",
       " 'bbbb',\n",
       " 'aaaa',\n",
       " 'bbbb',\n",
       " 'aaaa',\n",
       " 'bbbb',\n",
       " 'aaaa',\n",
       " 'bbbb',\n",
       " 'aaaa',\n",
       " 'bbbb',\n",
       " 'aaaa',\n",
       " 'bbbb',\n",
       " 'aaaa',\n",
       " 'bbbb',\n",
       " 'aaaa',\n",
       " 'bbbb',\n",
       " 'aaaa',\n",
       " 'bbbb',\n",
       " 'aaaa',\n",
       " 'bbbb',\n",
       " 'aaaa',\n",
       " 'bbbb',\n",
       " 'aaaa',\n",
       " 'bbbb',\n",
       " 'aaaa',\n",
       " 'bbbb',\n",
       " 'aaaa',\n",
       " 'bbbb',\n",
       " 'aaaa',\n",
       " 'bbbb',\n",
       " 'aaaa',\n",
       " 'bbbb',\n",
       " 'aaaa',\n",
       " 'bbbb',\n",
       " 'aaaa',\n",
       " 'bbbb',\n",
       " 'aaaa',\n",
       " 'bbbb',\n",
       " 'aaaa',\n",
       " 'bbbb',\n",
       " 'aaaa',\n",
       " 'bbbb',\n",
       " 'aaaa',\n",
       " 'bbbb',\n",
       " 'aaaa',\n",
       " 'bbbb',\n",
       " 'aaaa',\n",
       " 'bbbb',\n",
       " 'aaaa',\n",
       " 'bbbb',\n",
       " 'aaaa',\n",
       " 'bbbb',\n",
       " 'aaaa',\n",
       " 'bbbb',\n",
       " 'aaaa',\n",
       " 'bbbb',\n",
       " 'aaaa',\n",
       " 'bbbb',\n",
       " 'aaaa',\n",
       " 'bbbb',\n",
       " 'aaaa',\n",
       " 'bbbb',\n",
       " 'aaaa',\n",
       " 'bbbb',\n",
       " 'aaaa',\n",
       " 'bbbb',\n",
       " 'aaaa',\n",
       " 'bbbb',\n",
       " 'aaaa',\n",
       " 'bbbb',\n",
       " 'aaaa',\n",
       " 'bbbb',\n",
       " 'aaaa',\n",
       " 'bbbb',\n",
       " 'aaaa',\n",
       " 'bbbb',\n",
       " 'aaaa',\n",
       " 'bbbb',\n",
       " 'aaaa',\n",
       " 'bbbb',\n",
       " 'aaaa',\n",
       " 'bbbb',\n",
       " 'aaaa',\n",
       " 'bbbb',\n",
       " 'aaaa',\n",
       " 'bbbb',\n",
       " 'aaaa',\n",
       " 'bbbb',\n",
       " 'aaaa',\n",
       " 'bbbb',\n",
       " 'aaaa',\n",
       " 'bbbb',\n",
       " 'aaaa',\n",
       " 'bbbb',\n",
       " 'aaaa',\n",
       " 'bbbb',\n",
       " 'aaaa',\n",
       " 'bbbb',\n",
       " 'aaaa',\n",
       " 'bbbb',\n",
       " 'aaaa',\n",
       " 'bbbb',\n",
       " 'aaaa',\n",
       " 'bbbb',\n",
       " 'aaaa',\n",
       " 'bbbb',\n",
       " 'aaaa',\n",
       " 'bbbb',\n",
       " 'aaaa',\n",
       " 'bbbb',\n",
       " 'aaaa',\n",
       " 'bbbb',\n",
       " 'aaaa',\n",
       " 'bbbb',\n",
       " 'aaaa',\n",
       " 'bbbb',\n",
       " 'aaaa',\n",
       " 'bbbb',\n",
       " 'aaaa',\n",
       " 'bbbb',\n",
       " 'aaaa',\n",
       " 'bbbb',\n",
       " 'aaaa',\n",
       " 'bbbb',\n",
       " 'aaaa',\n",
       " 'bbbb',\n",
       " 'aaaa',\n",
       " 'bbbb',\n",
       " 'aaaa',\n",
       " 'bbbb',\n",
       " 'aaaa',\n",
       " 'bbbb',\n",
       " 'aaaa',\n",
       " 'bbbb',\n",
       " 'aaaa',\n",
       " 'bbbb',\n",
       " 'aaaa',\n",
       " 'bbbb',\n",
       " 'aaaa',\n",
       " 'bbbb',\n",
       " 'aaaa',\n",
       " 'bbbb',\n",
       " 'aaaa',\n",
       " 'bbbb',\n",
       " 'aaaa',\n",
       " 'bbbb',\n",
       " 'aaaa',\n",
       " 'bbbb',\n",
       " 'aaaa',\n",
       " 'bbbb',\n",
       " 'aaaa',\n",
       " 'bbbb',\n",
       " 'aaaa',\n",
       " 'bbbb',\n",
       " 'aaaa',\n",
       " 'bbbb',\n",
       " 'aaaa',\n",
       " 'bbbb',\n",
       " 'aaaa',\n",
       " 'bbbb',\n",
       " 'aaaa',\n",
       " 'bbbb',\n",
       " 'aaaa',\n",
       " 'bbbb',\n",
       " 'aaaa',\n",
       " 'bbbb',\n",
       " 'aaaa',\n",
       " 'bbbb',\n",
       " 'aaaa',\n",
       " 'bbbb',\n",
       " 'aaaa',\n",
       " 'bbbb',\n",
       " 'aaaa',\n",
       " 'bbbb',\n",
       " 'aaaa',\n",
       " 'bbbb',\n",
       " 'aaaa',\n",
       " 'bbbb',\n",
       " 'aaaa',\n",
       " 'bbbb',\n",
       " 'aaaa',\n",
       " 'bbbb',\n",
       " 'aaaa',\n",
       " 'bbbb',\n",
       " 'aaaa',\n",
       " 'bbbb',\n",
       " 'aaaa',\n",
       " 'bbbb',\n",
       " 'aaaa',\n",
       " 'bbbb',\n",
       " 'aaaa',\n",
       " 'bbbb',\n",
       " 'aaaa',\n",
       " 'bbbb',\n",
       " 'aaaa',\n",
       " 'bbbb',\n",
       " 'aaaa',\n",
       " 'bbbb',\n",
       " 'aaaa',\n",
       " 'bbbb',\n",
       " 'aaaa',\n",
       " 'bbbb',\n",
       " 'aaaa',\n",
       " 'bbbb',\n",
       " 'aaaa',\n",
       " 'bbbb',\n",
       " 'aaaa',\n",
       " 'bbbb',\n",
       " 'aaaa',\n",
       " 'bbbb',\n",
       " 'aaaa',\n",
       " 'bbbb',\n",
       " 'aaaa',\n",
       " 'bbbb',\n",
       " 'aaaa',\n",
       " 'bbbb',\n",
       " 'aaaa',\n",
       " 'bbbb',\n",
       " 'aaaa',\n",
       " 'bbbb',\n",
       " 'aaaa',\n",
       " 'bbbb',\n",
       " 'aaaa',\n",
       " 'bbbb',\n",
       " 'aaaa',\n",
       " 'bbbb',\n",
       " 'aaaa',\n",
       " 'bbbb',\n",
       " 'aaaa',\n",
       " 'bbbb',\n",
       " 'aaaa',\n",
       " 'bbbb',\n",
       " 'aaaa',\n",
       " 'bbbb',\n",
       " 'aaaa',\n",
       " 'bbbb',\n",
       " 'aaaa',\n",
       " 'bbbb',\n",
       " 'aaaa',\n",
       " 'bbbb',\n",
       " 'aaaa',\n",
       " 'bbbb',\n",
       " 'aaaa',\n",
       " 'bbbb',\n",
       " 'aaaa',\n",
       " 'bbbb',\n",
       " 'aaaa',\n",
       " 'bbbb',\n",
       " 'aaaa',\n",
       " 'bbbb',\n",
       " 'aaaa',\n",
       " 'bbbb',\n",
       " 'aaaa',\n",
       " 'bbbb',\n",
       " 'aaaa',\n",
       " 'bbbb',\n",
       " 'aaaa',\n",
       " 'bbbb',\n",
       " 'aaaa',\n",
       " 'bbbb',\n",
       " 'aaaa',\n",
       " 'bbbb',\n",
       " 'aaaa',\n",
       " 'bbbb',\n",
       " 'aaaa',\n",
       " 'bbbb',\n",
       " 'aaaa',\n",
       " 'bbbb',\n",
       " 'aaaa',\n",
       " 'bbbb',\n",
       " 'aaaa',\n",
       " 'bbbb',\n",
       " 'aaaa',\n",
       " 'bbbb',\n",
       " 'aaaa',\n",
       " 'bbbb',\n",
       " 'aaaa',\n",
       " 'bbbb',\n",
       " 'aaaa',\n",
       " 'bbbb',\n",
       " 'aaaa',\n",
       " 'bbbb',\n",
       " 'aaaa',\n",
       " 'bbbb',\n",
       " 'aaaa',\n",
       " 'bbbb',\n",
       " 'aaaa',\n",
       " 'bbbb',\n",
       " 'aaaa',\n",
       " 'bbbb',\n",
       " 'aaaa',\n",
       " 'bbbb',\n",
       " 'aaaa',\n",
       " 'bbbb',\n",
       " 'aaaa',\n",
       " 'bbbb',\n",
       " 'aaaa',\n",
       " 'bbbb',\n",
       " 'aaaa',\n",
       " 'bbbb',\n",
       " 'aaaa',\n",
       " 'bbbb',\n",
       " 'aaaa',\n",
       " 'bbbb',\n",
       " 'aaaa',\n",
       " 'bbbb',\n",
       " 'aaaa',\n",
       " 'bbbb',\n",
       " 'aaaa',\n",
       " 'bbbb',\n",
       " 'aaaa',\n",
       " 'bbbb',\n",
       " 'aaaa',\n",
       " 'bbbb',\n",
       " 'aaaa',\n",
       " 'bbbb',\n",
       " 'aaaa',\n",
       " 'bbbb',\n",
       " 'aaaa',\n",
       " 'bbbb',\n",
       " 'aaaa',\n",
       " 'bbbb',\n",
       " 'aaaa',\n",
       " 'bbbb',\n",
       " 'aaaa',\n",
       " 'bbbb',\n",
       " 'aaaa',\n",
       " 'bbbb',\n",
       " 'aaaa',\n",
       " 'bbbb',\n",
       " 'aaaa',\n",
       " 'bbbb',\n",
       " 'aaaa',\n",
       " 'bbbb',\n",
       " 'aaaa',\n",
       " 'bbbb',\n",
       " 'aaaa',\n",
       " 'bbbb',\n",
       " 'aaaa',\n",
       " 'bbbb',\n",
       " 'aaaa',\n",
       " 'bbbb',\n",
       " 'aaaa',\n",
       " 'bbbb',\n",
       " 'aaaa',\n",
       " 'bbbb',\n",
       " 'aaaa',\n",
       " 'bbbb',\n",
       " 'aaaa',\n",
       " 'bbbb',\n",
       " 'aaaa',\n",
       " 'bbbb',\n",
       " 'aaaa',\n",
       " 'bbbb',\n",
       " 'aaaa',\n",
       " 'bbbb',\n",
       " 'aaaa',\n",
       " 'bbbb',\n",
       " 'aaaa',\n",
       " 'bbbb',\n",
       " 'aaaa',\n",
       " 'bbbb',\n",
       " 'aaaa',\n",
       " 'bbbb',\n",
       " 'aaaa',\n",
       " 'bbbb',\n",
       " 'aaaa',\n",
       " 'bbbb',\n",
       " 'aaaa',\n",
       " 'bbbb',\n",
       " 'aaaa',\n",
       " 'bbbb',\n",
       " 'aaaa',\n",
       " 'bbbb',\n",
       " 'aaaa',\n",
       " 'bbbb',\n",
       " 'aaaa',\n",
       " 'bbbb',\n",
       " 'aaaa',\n",
       " 'bbbb',\n",
       " 'aaaa',\n",
       " 'bbbb',\n",
       " 'aaaa',\n",
       " 'bbbb',\n",
       " 'aaaa',\n",
       " 'bbbb',\n",
       " 'aaaa',\n",
       " 'bbbb',\n",
       " 'aaaa',\n",
       " 'bbbb',\n",
       " 'aaaa',\n",
       " 'bbbb',\n",
       " 'aaaa',\n",
       " 'bbbb',\n",
       " 'aaaa',\n",
       " 'bbbb',\n",
       " 'aaaa',\n",
       " 'bbbb',\n",
       " 'aaaa',\n",
       " 'bbbb',\n",
       " 'aaaa',\n",
       " ...]"
      ]
     },
     "execution_count": 15,
     "metadata": {},
     "output_type": "execute_result"
    }
   ],
   "source": [
    "l"
   ]
  },
  {
   "cell_type": "code",
   "execution_count": 17,
   "id": "3da7abe1",
   "metadata": {},
   "outputs": [
    {
     "name": "stdout",
     "output_type": "stream",
     "text": [
      "dict          34281\n",
      "list          26040\n",
      "function      18952\n",
      "Token         16792\n",
      "tuple         13426\n",
      "Operator      8519\n",
      "Name          7992\n",
      "ReferenceType 5549\n",
      "DFAPlan       5418\n",
      "PythonNode    4827\n"
     ]
    }
   ],
   "source": [
    "objgraph.show_most_common_types() # 메모리 사용량 출력"
   ]
  },
  {
   "cell_type": "code",
   "execution_count": 18,
   "id": "e1424308",
   "metadata": {},
   "outputs": [],
   "source": [
    "# 1 3번"
   ]
  },
  {
   "cell_type": "code",
   "execution_count": 19,
   "id": "ed3b33d0",
   "metadata": {},
   "outputs": [],
   "source": [
    "# 2 4번"
   ]
  },
  {
   "cell_type": "code",
   "execution_count": 20,
   "id": "f01bf7ba",
   "metadata": {},
   "outputs": [],
   "source": [
    "# 3 __init__"
   ]
  },
  {
   "cell_type": "code",
   "execution_count": 21,
   "id": "57200b56",
   "metadata": {},
   "outputs": [],
   "source": [
    "# 4 __all__"
   ]
  },
  {
   "cell_type": "code",
   "execution_count": null,
   "id": "2d2f7132",
   "metadata": {},
   "outputs": [],
   "source": [
    "# 5 1번"
   ]
  },
  {
   "cell_type": "code",
   "execution_count": null,
   "id": "b53f9499",
   "metadata": {},
   "outputs": [],
   "source": []
  },
  {
   "cell_type": "code",
   "execution_count": null,
   "id": "9912e1fd",
   "metadata": {},
   "outputs": [],
   "source": []
  },
  {
   "cell_type": "code",
   "execution_count": null,
   "id": "f0f40503",
   "metadata": {},
   "outputs": [],
   "source": []
  },
  {
   "cell_type": "code",
   "execution_count": null,
   "id": "6e67d097",
   "metadata": {},
   "outputs": [],
   "source": []
  },
  {
   "cell_type": "code",
   "execution_count": null,
   "id": "e0332742",
   "metadata": {},
   "outputs": [],
   "source": []
  },
  {
   "cell_type": "code",
   "execution_count": null,
   "id": "731de900",
   "metadata": {},
   "outputs": [],
   "source": []
  },
  {
   "cell_type": "code",
   "execution_count": null,
   "id": "f003a6a6",
   "metadata": {},
   "outputs": [],
   "source": []
  },
  {
   "cell_type": "code",
   "execution_count": null,
   "id": "fe1a167e",
   "metadata": {},
   "outputs": [],
   "source": []
  },
  {
   "cell_type": "code",
   "execution_count": null,
   "id": "5db471e9",
   "metadata": {},
   "outputs": [],
   "source": []
  },
  {
   "cell_type": "code",
   "execution_count": null,
   "id": "78377e7e",
   "metadata": {},
   "outputs": [],
   "source": []
  },
  {
   "cell_type": "code",
   "execution_count": null,
   "id": "65875dbd",
   "metadata": {},
   "outputs": [],
   "source": []
  },
  {
   "cell_type": "code",
   "execution_count": null,
   "id": "8e13652e",
   "metadata": {},
   "outputs": [],
   "source": []
  },
  {
   "cell_type": "code",
   "execution_count": null,
   "id": "a1f4851f",
   "metadata": {},
   "outputs": [],
   "source": []
  },
  {
   "cell_type": "code",
   "execution_count": null,
   "id": "a1def8f6",
   "metadata": {},
   "outputs": [],
   "source": []
  },
  {
   "cell_type": "code",
   "execution_count": null,
   "id": "e04faab5",
   "metadata": {},
   "outputs": [],
   "source": []
  },
  {
   "cell_type": "code",
   "execution_count": null,
   "id": "5528500d",
   "metadata": {},
   "outputs": [],
   "source": []
  },
  {
   "cell_type": "code",
   "execution_count": null,
   "id": "734b1f73",
   "metadata": {},
   "outputs": [],
   "source": []
  },
  {
   "cell_type": "code",
   "execution_count": null,
   "id": "8b5f31d3",
   "metadata": {},
   "outputs": [],
   "source": []
  },
  {
   "cell_type": "code",
   "execution_count": null,
   "id": "1cc59fb6",
   "metadata": {},
   "outputs": [],
   "source": []
  },
  {
   "cell_type": "code",
   "execution_count": null,
   "id": "774766ca",
   "metadata": {},
   "outputs": [],
   "source": []
  },
  {
   "cell_type": "code",
   "execution_count": null,
   "id": "57a39104",
   "metadata": {},
   "outputs": [],
   "source": []
  },
  {
   "cell_type": "code",
   "execution_count": null,
   "id": "f8fd7568",
   "metadata": {},
   "outputs": [],
   "source": []
  },
  {
   "cell_type": "code",
   "execution_count": null,
   "id": "3c263466",
   "metadata": {},
   "outputs": [],
   "source": []
  },
  {
   "cell_type": "code",
   "execution_count": null,
   "id": "1e0bccdb",
   "metadata": {},
   "outputs": [],
   "source": []
  },
  {
   "cell_type": "code",
   "execution_count": null,
   "id": "bf39ec8f",
   "metadata": {},
   "outputs": [],
   "source": []
  },
  {
   "cell_type": "code",
   "execution_count": null,
   "id": "df731882",
   "metadata": {},
   "outputs": [],
   "source": []
  }
 ],
 "metadata": {
  "kernelspec": {
   "display_name": "Python 3 (ipykernel)",
   "language": "python",
   "name": "python3"
  },
  "language_info": {
   "codemirror_mode": {
    "name": "ipython",
    "version": 3
   },
   "file_extension": ".py",
   "mimetype": "text/x-python",
   "name": "python",
   "nbconvert_exporter": "python",
   "pygments_lexer": "ipython3",
   "version": "3.10.9"
  },
  "toc": {
   "base_numbering": 1,
   "nav_menu": {},
   "number_sections": true,
   "sideBar": true,
   "skip_h1_title": false,
   "title_cell": "Table of Contents",
   "title_sidebar": "Contents",
   "toc_cell": false,
   "toc_position": {
    "height": "calc(100% - 180px)",
    "left": "10px",
    "top": "150px",
    "width": "195.188px"
   },
   "toc_section_display": true,
   "toc_window_display": true
  }
 },
 "nbformat": 4,
 "nbformat_minor": 5
}
