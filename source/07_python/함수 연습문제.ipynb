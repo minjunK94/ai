{
 "cells": [
  {
   "cell_type": "markdown",
   "id": "c4490fbd",
   "metadata": {},
   "source": [
    "# 6절 연습문제"
   ]
  },
  {
   "cell_type": "markdown",
   "id": "6c3cc016",
   "metadata": {},
   "source": [
    "## 실습형 연습문제"
   ]
  },
  {
   "cell_type": "code",
   "execution_count": 87,
   "id": "e50398fd",
   "metadata": {},
   "outputs": [
    {
     "name": "stdout",
     "output_type": "stream",
     "text": [
      "{1, 61}\n"
     ]
    }
   ],
   "source": [
    "# 1번 함수의 인자로 리스트를 받은후 리스트 내에 있는 모든 정수 값에 대한 \n",
    "# 최댓값 과 최솟값을 리턴 하는 함수를 작성하시오\n",
    "data_list = [1,2,3,4,5,6]\n",
    "def get_max_min(data_list):\n",
    "    return max(data_list), min(data_list)\n",
    "get_max_min([1,5,9,10])\n",
    "\n",
    "get_max_min = lambda data_list : {max(data_list), min(data_list)}\n",
    "print(get_max_min([2,5,61,1]))"
   ]
  },
  {
   "cell_type": "code",
   "execution_count": 19,
   "id": "895c0d50",
   "metadata": {},
   "outputs": [
    {
     "name": "stdout",
     "output_type": "stream",
     "text": [
      "체중을 입력해주세요 >100\n",
      "키를 입력해주세요 >180\n",
      "입력하신 체중 100kg, 키 180cm에 따른 BMI는 30.86이며, 상태는 '고도비만'입니다.\n"
     ]
    }
   ],
   "source": [
    "# 2번 함수의 인자로 체중과 신장을 입력 받은후 BMI값에 따른 4가지 상태를 출력하는 함수\n",
    "\n",
    "kg = int(input(\"체중을 입력해주세요 >\"))\n",
    "m = int(input(\"키를 입력해주세요 >\"))\n",
    "\n",
    "def get_bmi(kg, m):\n",
    "    bmi = kg / (m / 100) ** 2\n",
    "    if bmi < 18.5:\n",
    "        status = \"마른체형\"\n",
    "    elif bmi < 25:\n",
    "        status = \"표준\"\n",
    "    elif bmi < 30:\n",
    "        status = \"비만\"\n",
    "    else:\n",
    "        status = \"고도비만\"\n",
    "    return bmi, status\n",
    "\n",
    "bmi_value, bmi_ = get_bmi(kg, m)\n",
    "print(\"입력하신 체중 {}kg, 키 {}cm에 따른 BMI는 {:.2f}이며, 상태는 '{}'입니다.\"\\\n",
    "          .format(kg, m, bmi_value, bmi_))"
   ]
  },
  {
   "cell_type": "code",
   "execution_count": 78,
   "id": "38907dd5",
   "metadata": {},
   "outputs": [
    {
     "name": "stdout",
     "output_type": "stream",
     "text": [
      "삼각형의 밑변 을 입력해주세요 >10\n",
      "삼각형의 높이 를 입력해주세요 >20\n",
      "입력하신 삼각형의 밑변 10cm, 높이 20cm에 따른 면적은 100.00이고, 둘레는 52.36입니다.\n"
     ]
    }
   ],
   "source": [
    "# 3번 직각 삼각형의 밑변과 높이를 입력 받은후 삼각형의 면적과 둘레를 계산하는 함수\n",
    "import math\n",
    "\n",
    "width = int(input(\"삼각형의 밑변 을 입력해주세요 >\"))\n",
    "height = int(input(\"삼각형의 높이 를 입력해주세요 >\"))\n",
    "\n",
    "def get_triangle(width, height):\n",
    "    area = (width * height) / 2\n",
    "    circumference = math.sqrt((width**2) + (height**2))\n",
    "    perimeter = width + height + circumference\n",
    "    return area, perimeter\n",
    "\n",
    "area, perimeter = get_triangle(width, height)\n",
    "print(\"입력하신 삼각형의 밑변 {}cm, 높이 {}cm에 따른 면적은 {:.2f}이고, 둘레는 {:.2f}입니다.\"\n",
    "      .format(width, height, area, perimeter))"
   ]
  },
  {
   "cell_type": "code",
   "execution_count": 33,
   "id": "36d3bf79",
   "metadata": {},
   "outputs": [
    {
     "name": "stdout",
     "output_type": "stream",
     "text": [
      "28\n"
     ]
    }
   ],
   "source": [
    "# 4번 함수의 인자로 시작과 끝 숫자가 주어질때 시작부터 끝까지 모든 정수값의 합을 \n",
    "# 리턴 하는 함수를 작성하시오 ( 시작 값과 끝 값을 포함)\n",
    "def mysum(frOm, end):\n",
    "    return sum(range(frOm, end+1))\n",
    "\n",
    "print(mysum(1, 8))"
   ]
  },
  {
   "cell_type": "code",
   "execution_count": 83,
   "id": "74f3b965",
   "metadata": {},
   "outputs": [
    {
     "name": "stdout",
     "output_type": "stream",
     "text": [
      "['Seo', 'Dae', 'Kwa', 'Jej']\n",
      "['Seo', 'Dae', 'Kwa', 'Jej']\n"
     ]
    }
   ],
   "source": [
    "# 5번 함수의 인자로 문자열을 포함하는 리스트가 입력될때 각 문자열의 첫 세글자로만 \n",
    "# 구성된 리스트를 리턴하는 함수를 작성하세요\n",
    "# 예를 들어 함수의 입력으로 ['Seoul', 'Daegu', 'Kwangju', 'Jeju']가 입력될때\n",
    "# 리턴 값은 ['Seo', 'Dae', 'Kwa', \"Jej\"]로 출력\n",
    "ex = ['Seoul', 'Daegu', 'Kwangju', 'Jeju']\n",
    "\n",
    "def get_abbrs(list_):\n",
    "    result = []\n",
    "    for item in list_:\n",
    "        result.append(item[:3])\n",
    "    return result\n",
    "print(get_abbrs(ex))\n",
    "\n",
    "get_abbrs = lambda lst : [item[:3] for item in lst]\n",
    "print(get_abbrs(ex))"
   ]
  },
  {
   "cell_type": "code",
   "execution_count": 79,
   "id": "60a929aa",
   "metadata": {},
   "outputs": [
    {
     "name": "stdout",
     "output_type": "stream",
     "text": [
      "256\n",
      "256\n"
     ]
    }
   ],
   "source": [
    "# 6번 다음 코드를 람다 함수 형태로 수정 할때 알맞은 코드를 작성하시오\n",
    "def f(x, y):\n",
    "    return x ** y\n",
    "print(f(2,8))\n",
    "f = lambda x, y : x ** y\n",
    "\n",
    "print(f(2,8))"
   ]
  },
  {
   "cell_type": "code",
   "execution_count": 59,
   "id": "4744d74d",
   "metadata": {},
   "outputs": [
    {
     "name": "stdout",
     "output_type": "stream",
     "text": [
      "[1, 4, 9, 16, 25]\n"
     ]
    },
    {
     "data": {
      "text/plain": [
       "[1, 4, 9, 16, 25]"
      ]
     },
     "execution_count": 59,
     "metadata": {},
     "output_type": "execute_result"
    }
   ],
   "source": [
    "# 7번\n",
    "ex = [1, 2, 3, 4, 5]\n",
    "\n",
    "result = list(map(lambda x : x**2, ex))\n",
    "print(result)\n",
    "[x**2 for x in ex]"
   ]
  },
  {
   "cell_type": "code",
   "execution_count": 61,
   "id": "fc1b14cf",
   "metadata": {},
   "outputs": [
    {
     "name": "stdout",
     "output_type": "stream",
     "text": [
      "1 2 3\n",
      "[1, 2, 3]\n"
     ]
    }
   ],
   "source": [
    "# 8번\n",
    "# 언패킹\n",
    "a = [1, 2, 3]\n",
    "print(*a)\n",
    "\n",
    "print(a)"
   ]
  },
  {
   "cell_type": "code",
   "execution_count": 89,
   "id": "bbf1d3d2",
   "metadata": {},
   "outputs": [
    {
     "data": {
      "text/plain": [
       "'2019-09-06'"
      ]
     },
     "execution_count": 89,
     "metadata": {},
     "output_type": "execute_result"
    }
   ],
   "source": [
    "# 9번\n",
    "date_info = {'year':\"2019\", 'month':\"9\", 'day':\"6\"}\n",
    "result = \"{year}-{month:>02}-{day:>02}\".format(**date_info)\n",
    "result"
   ]
  },
  {
   "cell_type": "code",
   "execution_count": 9,
   "id": "27be4038",
   "metadata": {},
   "outputs": [],
   "source": [
    "# 10번 / n 개의 벡터 리스트나 튜플 , 셋등 의 크기들을 return 하는 함수\n",
    "# vector_size_check (*vector var ) 를 한 줄의 코드 리스트 컴프리헨션 로 작성하시오\n",
    "def vector_size_check(*vector_var):\n",
    "    result = []\n",
    "    for vector in vector_var:\n",
    "        result.append(len(vector))\n",
    "    return result\n",
    "\n",
    "def vector_size_check(*vector_var):\n",
    "    return [len(vector) for vector in vector_var]\n",
    "\n",
    "vector_size_check =  lambda *vector_var : [len(vector) for vector in vector_var]\n",
    "\n",
    "vector_size_check([1,2], (2,3), {2}, {'name':'kim', 'age':22})"
   ]
  },
  {
   "cell_type": "code",
   "execution_count": 84,
   "id": "17fbeb8e",
   "metadata": {},
   "outputs": [
    {
     "name": "stdout",
     "output_type": "stream",
     "text": [
      "[5, 10, 15, 20]\n"
     ]
    }
   ],
   "source": [
    "# 11번 / 다음과 같은 결과를 얻기 위해 하나의 스칼라값을 리스트나 튜플 , 셋등 \n",
    "# 벡터에 곱하는 코드를 작성하시오 단 입력되는 벡터의 크기는 일정하지 않음\n",
    "def scalar_vector_product(scalar, vector):\n",
    "    return [scalar * item for item in vector]\n",
    "\n",
    "result = scalar_vector_product(5, [1, 2, 3, 4])\n",
    "print(result)"
   ]
  },
  {
   "cell_type": "markdown",
   "id": "7a6eb7b9",
   "metadata": {},
   "source": [
    "## 서술형 연습문제"
   ]
  },
  {
   "cell_type": "code",
   "execution_count": 64,
   "id": "a5e831ba",
   "metadata": {},
   "outputs": [
    {
     "name": "stdout",
     "output_type": "stream",
     "text": [
      "902"
     ]
    }
   ],
   "source": [
    "#1\n",
    "def mapping(addr):\n",
    "    table = [1,2,5,9,6,4,0,3,8,7]\n",
    "    return table [addr//SIZE]\n",
    "SIZE = 20\n",
    "group = [9,8,7,6,5,4,3,2,1,0]\n",
    "loc = [127,64,188]\n",
    "for a, b in enumerate(loc):\n",
    "    print(group[mapping(loc[a])], end='')"
   ]
  },
  {
   "cell_type": "code",
   "execution_count": 66,
   "id": "681b5502",
   "metadata": {},
   "outputs": [
    {
     "name": "stdout",
     "output_type": "stream",
     "text": [
      "6"
     ]
    },
    {
     "ename": "UnboundLocalError",
     "evalue": "local variable 'a' referenced before assignment",
     "output_type": "error",
     "traceback": [
      "\u001b[1;31m---------------------------------------------------------------------------\u001b[0m",
      "\u001b[1;31mUnboundLocalError\u001b[0m                         Traceback (most recent call last)",
      "Cell \u001b[1;32mIn[66], line 15\u001b[0m\n\u001b[0;32m     12\u001b[0m         sub()\n\u001b[0;32m     14\u001b[0m a \u001b[38;5;241m+\u001b[39m\u001b[38;5;241m=\u001b[39m \u001b[38;5;241m1\u001b[39m\n\u001b[1;32m---> 15\u001b[0m \u001b[43mfunc\u001b[49m\u001b[43m(\u001b[49m\u001b[43m)\u001b[49m\n",
      "Cell \u001b[1;32mIn[66], line 12\u001b[0m, in \u001b[0;36mfunc\u001b[1;34m()\u001b[0m\n\u001b[0;32m     10\u001b[0m a \u001b[38;5;241m+\u001b[39m\u001b[38;5;241m=\u001b[39m \u001b[38;5;241m1\u001b[39m\n\u001b[0;32m     11\u001b[0m \u001b[38;5;28mprint\u001b[39m(a, end\u001b[38;5;241m=\u001b[39m\u001b[38;5;124m'\u001b[39m\u001b[38;5;124m'\u001b[39m)\n\u001b[1;32m---> 12\u001b[0m \u001b[43msub\u001b[49m\u001b[43m(\u001b[49m\u001b[43m)\u001b[49m\n",
      "Cell \u001b[1;32mIn[66], line 4\u001b[0m, in \u001b[0;36msub\u001b[1;34m()\u001b[0m\n\u001b[0;32m      3\u001b[0m \u001b[38;5;28;01mdef\u001b[39;00m \u001b[38;5;21msub\u001b[39m():\n\u001b[1;32m----> 4\u001b[0m     a \u001b[38;5;241m+\u001b[39m\u001b[38;5;241m=\u001b[39m \u001b[38;5;241m1\u001b[39m\n\u001b[0;32m      5\u001b[0m     \u001b[38;5;28mprint\u001b[39m(a, end\u001b[38;5;241m=\u001b[39m\u001b[38;5;124m'\u001b[39m\u001b[38;5;124m'\u001b[39m)\n",
      "\u001b[1;31mUnboundLocalError\u001b[0m: local variable 'a' referenced before assignment"
     ]
    }
   ],
   "source": [
    "#2\n",
    "a = 10\n",
    "def sub():\n",
    "    a += 1\n",
    "    print(a, end='')\n",
    "    \n",
    "def func():\n",
    "    for i in range(2):\n",
    "        a = 5\n",
    "        a += 1\n",
    "        print(a, end='')\n",
    "        sub()\n",
    "\n",
    "a += 1\n",
    "func()"
   ]
  },
  {
   "cell_type": "code",
   "execution_count": 88,
   "id": "d7854e5c",
   "metadata": {},
   "outputs": [
    {
     "name": "stdout",
     "output_type": "stream",
     "text": [
      "612613"
     ]
    }
   ],
   "source": [
    "# 2번\n",
    "a = 10\n",
    "def sub():\n",
    "    global a  # 전역 변수 a를 수정한다고 명시\n",
    "    a += 1\n",
    "    print(a, end='')\n",
    "\n",
    "def func():\n",
    "    for i in range(2):\n",
    "        a = 5  # func 내에서의 지역 변수 a\n",
    "        a += 1\n",
    "        print(a, end='')\n",
    "        sub()\n",
    "\n",
    "a += 1\n",
    "func()"
   ]
  },
  {
   "cell_type": "code",
   "execution_count": 69,
   "id": "2eff001f",
   "metadata": {},
   "outputs": [
    {
     "name": "stdout",
     "output_type": "stream",
     "text": [
      "100\n"
     ]
    }
   ],
   "source": [
    "# 3번\n",
    "var = 100\n",
    "def func(var):\n",
    "    var = 200\n",
    "func(var)\n",
    "print(var)"
   ]
  },
  {
   "cell_type": "code",
   "execution_count": 70,
   "id": "a7d82e18",
   "metadata": {},
   "outputs": [
    {
     "data": {
      "text/plain": [
       "5"
      ]
     },
     "execution_count": 70,
     "metadata": {},
     "output_type": "execute_result"
    }
   ],
   "source": [
    "# 4번\n",
    "def my_func(func, *args):\n",
    "    return func(*args)\n",
    "import numpy as np\n",
    "my_func(np.add, 2, 3)"
   ]
  },
  {
   "cell_type": "code",
   "execution_count": 71,
   "id": "b219b278",
   "metadata": {},
   "outputs": [
    {
     "data": {
      "text/plain": [
       "9"
      ]
     },
     "execution_count": 71,
     "metadata": {},
     "output_type": "execute_result"
    }
   ],
   "source": [
    "# 5번\n",
    "def my_func(func, *args):\n",
    "    return func(*args)\n",
    "my_func(lambda a, b:a**b, 3, 2)"
   ]
  },
  {
   "cell_type": "code",
   "execution_count": 72,
   "id": "899381e3",
   "metadata": {},
   "outputs": [],
   "source": [
    "# 6 ①이용~"
   ]
  },
  {
   "cell_type": "code",
   "execution_count": 74,
   "id": "5ea406e6",
   "metadata": {},
   "outputs": [
    {
     "ename": "SyntaxError",
     "evalue": "invalid syntax (2365910475.py, line 4)",
     "output_type": "error",
     "traceback": [
      "\u001b[1;36m  Cell \u001b[1;32mIn[74], line 4\u001b[1;36m\u001b[0m\n\u001b[1;33m    if Lis None:\u001b[0m\n\u001b[1;37m           ^\u001b[0m\n\u001b[1;31mSyntaxError\u001b[0m\u001b[1;31m:\u001b[0m invalid syntax\n"
     ]
    }
   ],
   "source": [
    "# 7 ③이용 func(a=30)\n",
    "list__ = []\n",
    "def func(a, L=None):\n",
    "    if Lis None:\n",
    "        L = []\n",
    "    L.append(a)\n",
    "    return L"
   ]
  },
  {
   "cell_type": "code",
   "execution_count": null,
   "id": "9066f61e",
   "metadata": {},
   "outputs": [],
   "source": [
    "# 8\n",
    "# lambda"
   ]
  },
  {
   "cell_type": "code",
   "execution_count": 75,
   "id": "c1988d6a",
   "metadata": {},
   "outputs": [
    {
     "data": {
      "text/plain": [
       "[(4, 'a'), (3, 'b'), (2, 'c'), (1, 'd')]"
      ]
     },
     "execution_count": 75,
     "metadata": {},
     "output_type": "execute_result"
    }
   ],
   "source": [
    "# 9 ②번~\n",
    "pairs = [(1, 'd'), (2, 'c'), (3, 'b'), (4, 'a')]\n",
    "pairs.sort(key=lambda pair:pair[1])\n",
    "pairs"
   ]
  },
  {
   "cell_type": "code",
   "execution_count": null,
   "id": "faf57672",
   "metadata": {},
   "outputs": [],
   "source": []
  },
  {
   "cell_type": "code",
   "execution_count": null,
   "id": "a88b3d27",
   "metadata": {},
   "outputs": [],
   "source": []
  },
  {
   "cell_type": "code",
   "execution_count": null,
   "id": "210fc286",
   "metadata": {},
   "outputs": [],
   "source": []
  },
  {
   "cell_type": "code",
   "execution_count": null,
   "id": "42af5c5a",
   "metadata": {},
   "outputs": [],
   "source": []
  },
  {
   "cell_type": "code",
   "execution_count": null,
   "id": "57a03c4f",
   "metadata": {},
   "outputs": [],
   "source": []
  },
  {
   "cell_type": "code",
   "execution_count": null,
   "id": "99c038f3",
   "metadata": {},
   "outputs": [],
   "source": []
  },
  {
   "cell_type": "code",
   "execution_count": null,
   "id": "90f4b534",
   "metadata": {},
   "outputs": [],
   "source": []
  },
  {
   "cell_type": "code",
   "execution_count": null,
   "id": "eea57f98",
   "metadata": {},
   "outputs": [],
   "source": []
  },
  {
   "cell_type": "code",
   "execution_count": null,
   "id": "e0d529b6",
   "metadata": {},
   "outputs": [],
   "source": []
  },
  {
   "cell_type": "code",
   "execution_count": null,
   "id": "1394c877",
   "metadata": {},
   "outputs": [],
   "source": []
  },
  {
   "cell_type": "code",
   "execution_count": null,
   "id": "fc8f3044",
   "metadata": {},
   "outputs": [],
   "source": []
  },
  {
   "cell_type": "code",
   "execution_count": null,
   "id": "7fe7b4e7",
   "metadata": {},
   "outputs": [],
   "source": []
  },
  {
   "cell_type": "code",
   "execution_count": null,
   "id": "3648de0b",
   "metadata": {},
   "outputs": [],
   "source": []
  },
  {
   "cell_type": "code",
   "execution_count": null,
   "id": "0730f4f4",
   "metadata": {},
   "outputs": [],
   "source": []
  },
  {
   "cell_type": "code",
   "execution_count": null,
   "id": "fdb17bae",
   "metadata": {},
   "outputs": [],
   "source": []
  },
  {
   "cell_type": "code",
   "execution_count": null,
   "id": "5808c8b8",
   "metadata": {},
   "outputs": [],
   "source": []
  },
  {
   "cell_type": "code",
   "execution_count": null,
   "id": "c7c80e25",
   "metadata": {},
   "outputs": [],
   "source": []
  },
  {
   "cell_type": "code",
   "execution_count": null,
   "id": "29672b13",
   "metadata": {},
   "outputs": [],
   "source": []
  }
 ],
 "metadata": {
  "kernelspec": {
   "display_name": "Python 3 (ipykernel)",
   "language": "python",
   "name": "python3"
  },
  "language_info": {
   "codemirror_mode": {
    "name": "ipython",
    "version": 3
   },
   "file_extension": ".py",
   "mimetype": "text/x-python",
   "name": "python",
   "nbconvert_exporter": "python",
   "pygments_lexer": "ipython3",
   "version": "3.10.9"
  },
  "toc": {
   "base_numbering": 1,
   "nav_menu": {},
   "number_sections": true,
   "sideBar": true,
   "skip_h1_title": false,
   "title_cell": "Table of Contents",
   "title_sidebar": "Contents",
   "toc_cell": false,
   "toc_position": {
    "height": "calc(100% - 180px)",
    "left": "10px",
    "top": "150px",
    "width": "165px"
   },
   "toc_section_display": true,
   "toc_window_display": true
  }
 },
 "nbformat": 4,
 "nbformat_minor": 5
}
