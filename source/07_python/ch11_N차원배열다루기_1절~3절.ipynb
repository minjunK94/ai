{
 "cells": [
  {
   "cell_type": "markdown",
   "id": "5076f904",
   "metadata": {},
   "source": [
    "<b><font color=\"red\" size=\"6\"> ch11. N차원 배열 다루기 </font></b>\n",
    "- [numpy](https://numpy.org/)\n",
    "- [numpy docs](https://numpy.org/doc/stable/user/absolute_beginners.html)\n",
    "- N차원 배열 객체\n",
    "- 2차원 배열은 행렬개념으로 이해\n",
    "- numpy 패키지를 이용(c언어로 구현된 고성능 수치계산 패키지)"
   ]
  },
  {
   "cell_type": "markdown",
   "id": "beab6b42",
   "metadata": {},
   "source": [
    "# 1절. 넘파이 패키지"
   ]
  },
  {
   "cell_type": "code",
   "execution_count": 1,
   "id": "91733004",
   "metadata": {},
   "outputs": [
    {
     "data": {
      "text/plain": [
       "'1.23.5'"
      ]
     },
     "execution_count": 1,
     "metadata": {},
     "output_type": "execute_result"
    }
   ],
   "source": [
    "import numpy as np\n",
    "np.__version__"
   ]
  },
  {
   "cell_type": "code",
   "execution_count": 2,
   "id": "8e23300e",
   "metadata": {},
   "outputs": [
    {
     "data": {
      "text/plain": [
       "array([ 0,  1,  2,  3,  4,  5,  6,  7,  8,  9, 10, 11, 12, 13, 14])"
      ]
     },
     "execution_count": 2,
     "metadata": {},
     "output_type": "execute_result"
    }
   ],
   "source": [
    "a = np.arange(15) # 0부터 15앞까지 1씩 증가하는 1차원 배열\n",
    "a"
   ]
  },
  {
   "cell_type": "code",
   "execution_count": 3,
   "id": "b413cf12",
   "metadata": {},
   "outputs": [
    {
     "data": {
      "text/plain": [
       "array([[15, 16, 17, 18, 19],\n",
       "       [20, 21, 22, 23, 24],\n",
       "       [25, 26, 27, 28, 29]])"
      ]
     },
     "execution_count": 3,
     "metadata": {},
     "output_type": "execute_result"
    }
   ],
   "source": [
    "from numpy import arange\n",
    "a = arange(15, 30).reshape(3, 5) # 3행 5열짜리 2차원 배열\n",
    "a"
   ]
  },
  {
   "cell_type": "code",
   "execution_count": 4,
   "id": "d165aba8",
   "metadata": {},
   "outputs": [
    {
     "data": {
      "text/plain": [
       "numpy.ndarray"
      ]
     },
     "execution_count": 4,
     "metadata": {},
     "output_type": "execute_result"
    }
   ],
   "source": [
    "type(a) # a배열변수의 타입"
   ]
  },
  {
   "cell_type": "code",
   "execution_count": 5,
   "id": "9189a4c2",
   "metadata": {},
   "outputs": [
    {
     "data": {
      "text/plain": [
       "dtype('int32')"
      ]
     },
     "execution_count": 5,
     "metadata": {},
     "output_type": "execute_result"
    }
   ],
   "source": [
    "a.dtype # a배열변수의 요소들의 type"
   ]
  },
  {
   "cell_type": "code",
   "execution_count": 6,
   "id": "f7aac8a3",
   "metadata": {},
   "outputs": [
    {
     "data": {
      "text/plain": [
       "'int32'"
      ]
     },
     "execution_count": 6,
     "metadata": {},
     "output_type": "execute_result"
    }
   ],
   "source": [
    "a.dtype.name"
   ]
  },
  {
   "cell_type": "code",
   "execution_count": 7,
   "id": "e622687d",
   "metadata": {},
   "outputs": [
    {
     "data": {
      "text/plain": [
       "4"
      ]
     },
     "execution_count": 7,
     "metadata": {},
     "output_type": "execute_result"
    }
   ],
   "source": [
    "a.itemsize # 한 요소의 bytesize(int32의 경우 : 4byte)"
   ]
  },
  {
   "cell_type": "code",
   "execution_count": 8,
   "id": "aa39bf98",
   "metadata": {},
   "outputs": [
    {
     "data": {
      "text/plain": [
       "2"
      ]
     },
     "execution_count": 8,
     "metadata": {},
     "output_type": "execute_result"
    }
   ],
   "source": [
    "a.ndim # 축의 수 (차원수)"
   ]
  },
  {
   "cell_type": "code",
   "execution_count": 9,
   "id": "b2650dd8",
   "metadata": {},
   "outputs": [
    {
     "data": {
      "text/plain": [
       "15"
      ]
     },
     "execution_count": 9,
     "metadata": {},
     "output_type": "execute_result"
    }
   ],
   "source": [
    "a.size # 배열 요소의 갯수"
   ]
  },
  {
   "cell_type": "code",
   "execution_count": 10,
   "id": "d1bcb087",
   "metadata": {},
   "outputs": [
    {
     "data": {
      "text/plain": [
       "(3, 5)"
      ]
     },
     "execution_count": 10,
     "metadata": {},
     "output_type": "execute_result"
    }
   ],
   "source": [
    "a.shape # 배열의 구조(3행 5열)"
   ]
  },
  {
   "cell_type": "code",
   "execution_count": 11,
   "id": "0ced0d84",
   "metadata": {},
   "outputs": [
    {
     "name": "stdout",
     "output_type": "stream",
     "text": [
      "구조 조정 전 a:\n",
      " [[15 16 17 18 19]\n",
      " [20 21 22 23 24]\n",
      " [25 26 27 28 29]]\n",
      "shape 수정후 a:\n",
      " [[15 16 17]\n",
      " [18 19 20]\n",
      " [21 22 23]\n",
      " [24 25 26]\n",
      " [27 28 29]]\n"
     ]
    }
   ],
   "source": [
    "print('구조 조정 전 a:\\n',a)\n",
    "a.shape = (5, 3)\n",
    "print('shape 수정후 a:\\n',a)"
   ]
  },
  {
   "cell_type": "code",
   "execution_count": 12,
   "id": "cadd43ea",
   "metadata": {},
   "outputs": [
    {
     "ename": "ValueError",
     "evalue": "cannot reshape array of size 15 into shape ()",
     "output_type": "error",
     "traceback": [
      "\u001b[1;31m---------------------------------------------------------------------------\u001b[0m",
      "\u001b[1;31mValueError\u001b[0m                                Traceback (most recent call last)",
      "Cell \u001b[1;32mIn[12], line 1\u001b[0m\n\u001b[1;32m----> 1\u001b[0m a\u001b[38;5;241m.\u001b[39mshape\u001b[38;5;241m=\u001b[39m()\n",
      "\u001b[1;31mValueError\u001b[0m: cannot reshape array of size 15 into shape ()"
     ]
    }
   ],
   "source": [
    "a.shape=()"
   ]
  },
  {
   "cell_type": "code",
   "execution_count": null,
   "id": "048e748f",
   "metadata": {},
   "outputs": [],
   "source": [
    "# 배열 요소의 타입을 수정\n",
    "a = np.arange(12).reshape(3,4)\n",
    "a"
   ]
  },
  {
   "cell_type": "code",
   "execution_count": null,
   "id": "d17237c9",
   "metadata": {},
   "outputs": [],
   "source": [
    "a.size # 요소의갯수"
   ]
  },
  {
   "cell_type": "code",
   "execution_count": null,
   "id": "ee610cae",
   "metadata": {},
   "outputs": [],
   "source": [
    "a.dtype"
   ]
  },
  {
   "cell_type": "code",
   "execution_count": null,
   "id": "0fee775a",
   "metadata": {},
   "outputs": [],
   "source": [
    "a.itemsize"
   ]
  },
  {
   "cell_type": "code",
   "execution_count": null,
   "id": "1b8377ce",
   "metadata": {},
   "outputs": [],
   "source": [
    "a.dtype = np.int64\n",
    "a.dtype"
   ]
  },
  {
   "cell_type": "code",
   "execution_count": null,
   "id": "36b7f768",
   "metadata": {},
   "outputs": [],
   "source": [
    "a.itemsize #요소의 byte 사이즈"
   ]
  },
  {
   "cell_type": "code",
   "execution_count": null,
   "id": "fa0ca29f",
   "metadata": {},
   "outputs": [],
   "source": [
    "a.size"
   ]
  },
  {
   "cell_type": "code",
   "execution_count": null,
   "id": "2ad7dcd8",
   "metadata": {},
   "outputs": [],
   "source": [
    "a"
   ]
  },
  {
   "cell_type": "code",
   "execution_count": null,
   "id": "aaed16ea",
   "metadata": {},
   "outputs": [],
   "source": [
    "a.ravel() # flatten 됨()"
   ]
  },
  {
   "cell_type": "markdown",
   "id": "160587df",
   "metadata": {},
   "source": [
    "# 2절. 넘파이 배열\n",
    "- array() 함수를 이용한 다른 파이썬 구조(list, tuple)\n",
    "- 기타 함수들 : arange, ones, zeros, empty\n",
    "- 랜덤값을 갖는 함수들....\n",
    "- [넘파이 doc](https://numpy.org/doc/stable/user/absolute_beginners.html)\n",
    "- [넘파이 함수들](https://numpy.org/doc/stable/reference/index.html#reference)"
   ]
  },
  {
   "cell_type": "markdown",
   "id": "e16b9fca",
   "metadata": {},
   "source": [
    "## 2.1 array()함수로 넘파이 배열 만들기\n",
    "- array(obj, dtype=np.(타입), copy=T/F)"
   ]
  },
  {
   "cell_type": "code",
   "execution_count": null,
   "id": "10bd001f",
   "metadata": {},
   "outputs": [],
   "source": [
    "a = np.array([2, 4, 6], dtype=np.int16) # 정수의 기본타입 int32\n",
    "a"
   ]
  },
  {
   "cell_type": "code",
   "execution_count": null,
   "id": "0ea0abca",
   "metadata": {},
   "outputs": [],
   "source": [
    "a[0], a[1], a[2]"
   ]
  },
  {
   "cell_type": "code",
   "execution_count": null,
   "id": "935318e6",
   "metadata": {},
   "outputs": [],
   "source": [
    "for i in a:\n",
    "    print(i, end='\\t')"
   ]
  },
  {
   "cell_type": "code",
   "execution_count": null,
   "id": "6856e194",
   "metadata": {},
   "outputs": [],
   "source": [
    "a.dtype"
   ]
  },
  {
   "cell_type": "code",
   "execution_count": null,
   "id": "a515ff9d",
   "metadata": {},
   "outputs": [],
   "source": [
    "b = np.array([[1.5, 2.3], #실수의 기본 타입은 float64\n",
    "             [4,5]])      # 동일 자료형으로 배열 생성 : 정수 -> 실수 -> 문자\n",
    "b"
   ]
  },
  {
   "cell_type": "code",
   "execution_count": null,
   "id": "6557432a",
   "metadata": {},
   "outputs": [],
   "source": [
    "b[0][0], b[0,0] # 2차원 (axis0행, axis1열)"
   ]
  },
  {
   "cell_type": "code",
   "execution_count": null,
   "id": "50109cb4",
   "metadata": {},
   "outputs": [],
   "source": [
    "b = np.array([(1.5, 2.3), #실수의 기본 타입은 float64\n",
    "             (4,5)])      # 동일 자료형으로 배열 생성 : 정수 > 실수 > 문자\n",
    "b"
   ]
  },
  {
   "cell_type": "code",
   "execution_count": null,
   "id": "0d84c553",
   "metadata": {},
   "outputs": [],
   "source": [
    "a = np.array([[1.5, 2.3],[4,5]]).reshape(1,4) # 2행 2열짜리 배열을 1행 4열로 shape 변환\n",
    "a"
   ]
  },
  {
   "cell_type": "code",
   "execution_count": null,
   "id": "9c8e5a70",
   "metadata": {},
   "outputs": [],
   "source": [
    "a.dtype"
   ]
  },
  {
   "cell_type": "code",
   "execution_count": null,
   "id": "c9b5cc4e",
   "metadata": {},
   "outputs": [],
   "source": [
    "a = np.array([1.5, 2.3,4,5],dtype=np.float32).reshape(2,2)\n",
    "a"
   ]
  },
  {
   "cell_type": "code",
   "execution_count": null,
   "id": "384a1b15",
   "metadata": {},
   "outputs": [],
   "source": [
    "a.itemsize # 한 요소의 byte 수"
   ]
  },
  {
   "cell_type": "code",
   "execution_count": null,
   "id": "2e66ee8f",
   "metadata": {},
   "outputs": [],
   "source": [
    "a.dtype"
   ]
  },
  {
   "cell_type": "code",
   "execution_count": null,
   "id": "8555dc72",
   "metadata": {},
   "outputs": [],
   "source": [
    "# a.dtype = np.float64 하면 안됨\n",
    "a = a.astype(np.float64) # 배열 요서의 타입을 바꾸는 함수\n",
    "a"
   ]
  },
  {
   "cell_type": "code",
   "execution_count": null,
   "id": "a772aa20",
   "metadata": {},
   "outputs": [],
   "source": [
    "a.dtype"
   ]
  },
  {
   "cell_type": "code",
   "execution_count": null,
   "id": "7df3ab82",
   "metadata": {},
   "outputs": [],
   "source": [
    "l = [[1, 2],[3.4, 4.5]]\n",
    "for row in l:\n",
    "    for data in row:\n",
    "        print(data, end='\\t')\n",
    "    print()"
   ]
  },
  {
   "cell_type": "code",
   "execution_count": null,
   "id": "e05a0693",
   "metadata": {},
   "outputs": [],
   "source": [
    "for i, row in enumerate(l):\n",
    "    for j, row in enumerate(row):\n",
    "        print('{}행 {}열 : {}'.format(i, j, data), end='\\t')\n",
    "    print()"
   ]
  },
  {
   "cell_type": "code",
   "execution_count": null,
   "id": "60893448",
   "metadata": {},
   "outputs": [],
   "source": [
    "print(l[0][0]) # 리스트의 인덱싱\n",
    "print(l[0:2][0]) # 슬라이싱"
   ]
  },
  {
   "cell_type": "code",
   "execution_count": null,
   "id": "8e1b853e",
   "metadata": {},
   "outputs": [],
   "source": [
    "# 2챠월 배열\n",
    "b = np.array([[1,2,3,4,5],[6,7,8,9,10]], dtype=np.int16)\n",
    "b"
   ]
  },
  {
   "cell_type": "code",
   "execution_count": null,
   "id": "260a7480",
   "metadata": {},
   "outputs": [],
   "source": [
    "for row in b:\n",
    "    for data in row :\n",
    "        print(data, end='\\t')\n",
    "    print()"
   ]
  },
  {
   "cell_type": "code",
   "execution_count": null,
   "id": "7ba59155",
   "metadata": {},
   "outputs": [],
   "source": [
    "for i, row in enumerate(b):\n",
    "    for j,data in enumerate(row):\n",
    "        print('{}행 {}열 : {}'.format(i,j,data), end='\\t')\n",
    "    print()"
   ]
  },
  {
   "cell_type": "code",
   "execution_count": null,
   "id": "d786ffe2",
   "metadata": {},
   "outputs": [],
   "source": [
    "print(b[0,0]) # 인덱싱\n",
    "print(b[0:2, 1:3]) #슬라이싱"
   ]
  },
  {
   "cell_type": "code",
   "execution_count": null,
   "id": "8cbdd092",
   "metadata": {},
   "outputs": [],
   "source": [
    "print(b[0, 1:3]) # 0행을 슬라이싱 하면 1차원 배열"
   ]
  },
  {
   "cell_type": "code",
   "execution_count": null,
   "id": "cf8f7205",
   "metadata": {},
   "outputs": [],
   "source": [
    "print(b[:,-1]) # 모든 행의 마지막 열만 추출"
   ]
  },
  {
   "cell_type": "code",
   "execution_count": null,
   "id": "7c7bf8a1",
   "metadata": {},
   "outputs": [],
   "source": [
    "print(b[:, -2:]) #모든 행의 마지막 2열을 추출"
   ]
  },
  {
   "cell_type": "code",
   "execution_count": null,
   "id": "5896e86f",
   "metadata": {},
   "outputs": [],
   "source": [
    "# 스칼라변수\n",
    "a = 10\n",
    "b = a\n",
    "print('a ={}, b={}'.format(a,b))\n",
    "b = -1\n",
    "print('a ={}, b={}'.format(a,b))"
   ]
  },
  {
   "cell_type": "code",
   "execution_count": null,
   "id": "62541f02",
   "metadata": {},
   "outputs": [],
   "source": [
    "# numpy 배열\n",
    "c = np.array([[1,2,], [3,4]])\n",
    "d = np.array(c, copy=False) # d = c 동일 ; 얕은 복사\n",
    "print('c=',c, sep='\\n')\n",
    "print('d=',d, sep='\\n')\n",
    "print('두 변수의 주소:', id(c),id(d))\n",
    "d[0,0] = 9\n",
    "print('c=',c, sep='\\n')\n",
    "print('d=',d, sep='\\n')\n",
    "print('c.dtype:', c.dtype,'d.dtype:', d.dtype)"
   ]
  },
  {
   "cell_type": "code",
   "execution_count": null,
   "id": "3f9631c8",
   "metadata": {},
   "outputs": [],
   "source": [
    "# numpy 배열\n",
    "c = np.array([[1,2,], [3,4]])\n",
    "d = np.array(c, copy=True) # d = c.copy() 동일 ; 깊은 복사\n",
    "print('c=',c, sep='\\n')\n",
    "print('d=',d, sep='\\n')\n",
    "print('두 변수의 주소:', id(c),id(d))\n",
    "d[0,0] = 9\n",
    "print('c=',c, sep='\\n')\n",
    "print('d=',d, sep='\\n')\n",
    "print('c.dtype:', c.dtype,'d.dtype:', d.dtype)"
   ]
  },
  {
   "cell_type": "code",
   "execution_count": null,
   "id": "52ac6c3d",
   "metadata": {},
   "outputs": [],
   "source": [
    "# copy=False 넣었지만 깊은 복사가 되는 경우 (타입을 다르게 지정할 경우)\n",
    "c = np.array([[1,2],[3,4]], dtype=np.int32) # 기본타입이 int32\n",
    "d = np.array(c, copy=False, dtype=np.int16) # dtype이 바뀌면 자동 깊은 복사\n",
    "d[0,0] = 9\n",
    "print('두변수의 주소 :',id(c),id(d))\n",
    "print('두변수의 dtype :', c.dtype, d.dtype)\n",
    "print('c=',c, sep='\\n')\n",
    "print('d=',d, sep='\\n')"
   ]
  },
  {
   "cell_type": "markdown",
   "id": "ad46e008",
   "metadata": {},
   "source": [
    "## 2.2 기본값이 있는 배열 만들기\n",
    "- np.zeros(tup) : 요소들이 다 0\n",
    "- np.ones(tup) : 요소들이 다 1\n",
    "- np.full(tup, 기본값) : 요소들이 다 두번빼 매개변수인 기본값\n",
    "- np.empty(tup) : 초기 내용은 임의값인 배열 (메모리 상태에 따라 달라짐)\n",
    "※ 위 함수를 이용해서 생성된 배열은 기본 dtype이 float64. dtype 속성을 따로 지정할 수 있음"
   ]
  },
  {
   "cell_type": "code",
   "execution_count": null,
   "id": "7c3d98a7",
   "metadata": {},
   "outputs": [],
   "source": [
    "np.zeros( (3,5) ) # 3행 5열짜리 2차원 float64 배열 (요소들은 다 0)"
   ]
  },
  {
   "cell_type": "code",
   "execution_count": null,
   "id": "5208c612",
   "metadata": {},
   "outputs": [],
   "source": [
    "x = np.zeros((2,5), dtype=np.int16)\n",
    "print(x)\n",
    "print(x.dtype)\n",
    "print(x.itemsize) # 한 요소의 byte사이즈"
   ]
  },
  {
   "cell_type": "code",
   "execution_count": null,
   "id": "64d668e3",
   "metadata": {},
   "outputs": [],
   "source": [
    "np.ones((2,5))"
   ]
  },
  {
   "cell_type": "code",
   "execution_count": null,
   "id": "d4a46596",
   "metadata": {},
   "outputs": [],
   "source": [
    "np.ones((2,5), dtype=np.complex64)"
   ]
  },
  {
   "cell_type": "code",
   "execution_count": null,
   "id": "c3a1f58a",
   "metadata": {},
   "outputs": [],
   "source": [
    "np.full((2,5), -1.2)"
   ]
  },
  {
   "cell_type": "code",
   "execution_count": null,
   "id": "15e861e9",
   "metadata": {},
   "outputs": [],
   "source": [
    "np.empty((2,5))"
   ]
  },
  {
   "cell_type": "code",
   "execution_count": null,
   "id": "6cfcb02c",
   "metadata": {},
   "outputs": [],
   "source": [
    "np.empty((3,2)) # 초기값이 메모리 상태에 따라 임의의 값"
   ]
  },
  {
   "cell_type": "markdown",
   "id": "41ec7ef8",
   "metadata": {},
   "source": [
    "## 2.3 랜덤값을 갖는 배열 만들기\n",
    "- np.random.random(tup) : 0부터 1미만의 균등분포를 갖는 랜덤값\n",
    "- np.random.nuiform(low=0, high=1.0, size=tup) : low부터 high미만까지 균등분포를 갖는 랜덤값\n",
    "- np.random.normal(loc=0.0, sclae=1.0, size=tup) : 평균 loc과 표준편차scale을 갖는 정규분포를 갖는 랜던값\n",
    "\n",
    "- np.random.rand(n) : 균등분포의 1차원 난수 배열발생 (난수 n개) 0 부터 1미만의 실수난수\n",
    "- np.random.randn(n) : 표준정규분포의 1차원 난수 배열 발생 (난수 n개)\n",
    "\n",
    "- np.random.randint(n) : 0부터 n미만의 정수 난수 1개 발생"
   ]
  },
  {
   "cell_type": "code",
   "execution_count": null,
   "id": "fe8261e2",
   "metadata": {},
   "outputs": [],
   "source": [
    "# rand()가 균등분포(최소값~ 최대값까지 균일한 확율로 난수발생)에서 난수 발생 확인 (0~1사이)\n",
    "import matplotlib.pyplot as plt\n",
    "x = np.random.rand(100000)\n",
    "plt.figure(figsize=(5,2)) # 그래프 크기 (가로, 세로)\n",
    "plt.hist(x)\n",
    "plt.show()"
   ]
  },
  {
   "cell_type": "code",
   "execution_count": null,
   "id": "7e6f24c2",
   "metadata": {},
   "outputs": [],
   "source": [
    "# randn() : 표준정규분포(평균0, 표준편차1인 정규분표)에서 난수 발생\n",
    "x = np.random.randn(100000)\n",
    "plt.figure(figsize=(5,2)) # 그래프 사이즈 조정\n",
    "plt.hist(x, bins=100)\n",
    "plt.show()"
   ]
  },
  {
   "cell_type": "code",
   "execution_count": null,
   "id": "61c8e8b7",
   "metadata": {},
   "outputs": [],
   "source": [
    "np.random.random((2,5)) # 2행 5열짜리 난수(0이상 1미만 균등분포 실수 난수) 배열"
   ]
  },
  {
   "cell_type": "code",
   "execution_count": null,
   "id": "811e8bf7",
   "metadata": {},
   "outputs": [],
   "source": [
    "np.random.uniform(-2, 10, (2,5)) # 최소값, 최대값 2행 5열까지 난수(-2~10미만의 균등분포 실수 난수) 배열"
   ]
  },
  {
   "cell_type": "code",
   "execution_count": null,
   "id": "6628cacb",
   "metadata": {},
   "outputs": [],
   "source": [
    "np.random.seed(12) # seed값을 맞추면 발생되는 난수가 동일\n",
    "np.random.normal(-2, 2, (2,5)) # 2행 5열짜리 평균-2, 표준편차 2인 정규분포 난수 발생"
   ]
  },
  {
   "cell_type": "code",
   "execution_count": null,
   "id": "e6523973",
   "metadata": {},
   "outputs": [],
   "source": [
    "# 정수 난수 1개 발생\n",
    "np.random.randint(45) # 0~44 사이의 정수 난수 1개 발생(균등분포)"
   ]
  },
  {
   "cell_type": "markdown",
   "id": "865dfa66",
   "metadata": {},
   "source": [
    "## 2.4 연속된 값을 갖는 배열 만들기\n",
    "- np.arange(from, to, by, dtype) : from부터 to앞까지 by씩 건너뛴 값(to미포함)을 1차원 배열로 생성\n",
    "- np.linspace(from, to, num) : from부터 to까지(to포함) num개 숫자들을 1차원 배열로 생성"
   ]
  },
  {
   "cell_type": "code",
   "execution_count": null,
   "id": "517454d5",
   "metadata": {},
   "outputs": [],
   "source": [
    "np.arange(10, 30, 5, dtype=np.float64)"
   ]
  },
  {
   "cell_type": "code",
   "execution_count": null,
   "id": "a3646893",
   "metadata": {},
   "outputs": [],
   "source": [
    "np.arange(0, 2.1, 0.3).reshape(2,4) # 2행 4열"
   ]
  },
  {
   "cell_type": "code",
   "execution_count": null,
   "id": "fb06699c",
   "metadata": {},
   "outputs": [],
   "source": [
    "np.linspace(0, 2, 20)"
   ]
  },
  {
   "cell_type": "code",
   "execution_count": null,
   "id": "7957d44f",
   "metadata": {},
   "outputs": [],
   "source": [
    "np.linspace(0, 2, 20).reshape(4,5)"
   ]
  },
  {
   "cell_type": "code",
   "execution_count": null,
   "id": "9941346e",
   "metadata": {},
   "outputs": [],
   "source": [
    "# linspace : 많은 수의 점들을 생성할 때 유용\n",
    "from numpy import linspace, pi\n",
    "x = linspace(0, 2*np.pi, 100)\n",
    "f = np.sin(x)"
   ]
  },
  {
   "cell_type": "code",
   "execution_count": null,
   "id": "dce5c1dd",
   "metadata": {},
   "outputs": [],
   "source": [
    "import matplotlib.pyplot as plt\n",
    "plt.figure(figsize=(5,2))\n",
    "plt.plot(x, f)\n",
    "plt.show()"
   ]
  },
  {
   "cell_type": "markdown",
   "id": "6126c9d0",
   "metadata": {},
   "source": [
    "## 2.5 배열의 차원 변경하기\n",
    "- reshape(행수, 열수) : -1이 올수있음\n",
    "- resize((행수,열수)) : -1이 불가\n",
    "- T : 전치행렬로 변환\n",
    "- transpose() : 전치행렬로 변환\n",
    "\n",
    "※ 실행결과가 출력되면 배열이 수정되지 않고, 실행결과가 없으면 배열이 수정됨"
   ]
  },
  {
   "cell_type": "code",
   "execution_count": null,
   "id": "9e8bf912",
   "metadata": {},
   "outputs": [],
   "source": [
    "t = np.random.random( (2,3) )\n",
    "t"
   ]
  },
  {
   "cell_type": "code",
   "execution_count": null,
   "id": "e46221cd",
   "metadata": {},
   "outputs": [],
   "source": [
    "a = np.floor(t*10)\n",
    "a"
   ]
  },
  {
   "cell_type": "code",
   "execution_count": null,
   "id": "10121b68",
   "metadata": {},
   "outputs": [],
   "source": [
    "a = a.astype(np.int16)\n",
    "a # 2행 3열 2차원 배열"
   ]
  },
  {
   "cell_type": "code",
   "execution_count": null,
   "id": "9f312293",
   "metadata": {},
   "outputs": [],
   "source": [
    "a = a.reshape(3,2) # 3행 2열로 차원변경"
   ]
  },
  {
   "cell_type": "code",
   "execution_count": null,
   "id": "6fba7cf9",
   "metadata": {},
   "outputs": [],
   "source": [
    "a.reshape(-1, 3) # -1이 주어지면 해당 차원의 크기가 자동 계산"
   ]
  },
  {
   "cell_type": "code",
   "execution_count": null,
   "id": "e5527284",
   "metadata": {},
   "outputs": [],
   "source": [
    "a.reshape(6, -1)"
   ]
  },
  {
   "cell_type": "code",
   "execution_count": null,
   "id": "2a510c33",
   "metadata": {},
   "outputs": [],
   "source": [
    "a.resize((2,3))\n",
    "a"
   ]
  },
  {
   "cell_type": "code",
   "execution_count": null,
   "id": "fe08736d",
   "metadata": {},
   "outputs": [],
   "source": [
    "a"
   ]
  },
  {
   "cell_type": "code",
   "execution_count": null,
   "id": "0532c96b",
   "metadata": {},
   "outputs": [],
   "source": [
    "a.T # a의 전치행렬 (행과 열을 뒤바꾼 행렬)"
   ]
  },
  {
   "cell_type": "code",
   "execution_count": null,
   "id": "43c42af8",
   "metadata": {},
   "outputs": [],
   "source": [
    "a.transpose() # a의 전치행렬"
   ]
  },
  {
   "cell_type": "markdown",
   "id": "bf8be32f",
   "metadata": {},
   "source": [
    "## 2.6 배열 인쇄"
   ]
  },
  {
   "cell_type": "code",
   "execution_count": null,
   "id": "c92cb914",
   "metadata": {},
   "outputs": [],
   "source": [
    "# 배열이 커서 출력이 안 될 경우\n",
    "print(np.arange(10000))"
   ]
  },
  {
   "cell_type": "code",
   "execution_count": null,
   "id": "a29ba6f8",
   "metadata": {},
   "outputs": [],
   "source": [
    "np.arange(10000).reshape(100,100)"
   ]
  },
  {
   "cell_type": "code",
   "execution_count": null,
   "id": "cdc16c58",
   "metadata": {},
   "outputs": [],
   "source": [
    "# 배열이 너무 커서 인쇄할 수 없는 경우는 자동으로 건너뛰고 모서리 부분만 출력\n",
    "# 넘파이의 인쇄 옵션 변경 (인쇄할 사이즈를 최대치)\n",
    "import sys\n",
    "np.set_printoptions(threshold=10000) # 배열 10000개까지 출력하도록 옵션\n",
    "np.set_printoptions(threshold=sys.maxsize)\n",
    "np.set_printoptions(threshold=np.inf) # np.inf는 무한대\n",
    "# 커널 재시작시 다시 옵션 복귀"
   ]
  },
  {
   "cell_type": "code",
   "execution_count": null,
   "id": "f776eca3",
   "metadata": {},
   "outputs": [],
   "source": [
    "np.arange(10000).reshape(100,100)"
   ]
  },
  {
   "cell_type": "code",
   "execution_count": null,
   "id": "58bd9581",
   "metadata": {},
   "outputs": [],
   "source": [
    "import numpy as np\n",
    "np.arange(10000).reshape(100,100)"
   ]
  },
  {
   "cell_type": "markdown",
   "id": "c31cf125",
   "metadata": {},
   "source": [
    "## 2.7 기본연산 동작\n",
    "### 1)배열의 요소별 연산"
   ]
  },
  {
   "cell_type": "code",
   "execution_count": null,
   "id": "08b97c6d",
   "metadata": {},
   "outputs": [],
   "source": [
    "a = np.array([20,30,40,50])\n",
    "b = np.arange(4)\n",
    "print(a)\n",
    "print(b)"
   ]
  },
  {
   "cell_type": "code",
   "execution_count": null,
   "id": "1eb9058f",
   "metadata": {},
   "outputs": [],
   "source": [
    "a + b"
   ]
  },
  {
   "cell_type": "code",
   "execution_count": null,
   "id": "bbd7573e",
   "metadata": {},
   "outputs": [],
   "source": [
    "a ** b"
   ]
  },
  {
   "cell_type": "code",
   "execution_count": null,
   "id": "29d23c55",
   "metadata": {},
   "outputs": [],
   "source": [
    "a += b # a = a+b\n",
    "a"
   ]
  },
  {
   "cell_type": "code",
   "execution_count": null,
   "id": "ed6ca83c",
   "metadata": {},
   "outputs": [],
   "source": [
    "a < 40"
   ]
  },
  {
   "cell_type": "code",
   "execution_count": null,
   "id": "3b595d65",
   "metadata": {},
   "outputs": [],
   "source": [
    "# a배열에서 40보다 작은 데이터만 추출하려면 인덱스에서 식을 사용\n",
    "a[a<40]"
   ]
  },
  {
   "cell_type": "code",
   "execution_count": null,
   "id": "da7bebc2",
   "metadata": {},
   "outputs": [],
   "source": [
    "a * b # 요소별 곱"
   ]
  },
  {
   "cell_type": "markdown",
   "id": "936d3c86",
   "metadata": {},
   "source": [
    "### 2) 행렬의곱(@, dot함수) cf.* (요소별곱)"
   ]
  },
  {
   "cell_type": "code",
   "execution_count": null,
   "id": "d0e0aa0a",
   "metadata": {},
   "outputs": [],
   "source": [
    "A = np.array([[1,1],\n",
    "             [0,1]])\n",
    "B = np.array([[2,0],\n",
    "             [3,4]])\n",
    "A, B"
   ]
  },
  {
   "cell_type": "code",
   "execution_count": null,
   "id": "3ea3eab8",
   "metadata": {},
   "outputs": [],
   "source": [
    "print('요소별 곱 A*B =', A*B, sep='\\n')\n",
    "print('행렬 곱 A@B=',A@B, sep='\\n')\n",
    "print('행렬 곱 A.dot(B)=',A.dot(B), sep='\\n')"
   ]
  },
  {
   "cell_type": "code",
   "execution_count": null,
   "id": "6c12c307",
   "metadata": {},
   "outputs": [],
   "source": [
    "A = np.array([[1,0],\n",
    "             [0,1]])\n",
    "B = np.array([[2,0],\n",
    "             [3,4]])"
   ]
  },
  {
   "cell_type": "code",
   "execution_count": null,
   "id": "463e79ac",
   "metadata": {},
   "outputs": [],
   "source": [
    "print('B@단위행렬=', B@A, sep='\\n')"
   ]
  },
  {
   "cell_type": "code",
   "execution_count": null,
   "id": "11f43256",
   "metadata": {},
   "outputs": [],
   "source": [
    "print('단위행렬@B=', A@B, sep='\\n')"
   ]
  },
  {
   "cell_type": "markdown",
   "id": "79c3463d",
   "metadata": {},
   "source": [
    "### 3) 복합 대입 연산자 사용 (-=,+=....)"
   ]
  },
  {
   "cell_type": "code",
   "execution_count": null,
   "id": "726cbc41",
   "metadata": {},
   "outputs": [],
   "source": [
    "a = np.ones( (2,3), dtype=int ) # 2행 3열짜리 int32배열\n",
    "a"
   ]
  },
  {
   "cell_type": "code",
   "execution_count": null,
   "id": "bc7608f7",
   "metadata": {},
   "outputs": [],
   "source": [
    "b = np.random.random( (2,3) ) # 2행 3열짜리 float64 배열\n",
    "b"
   ]
  },
  {
   "cell_type": "code",
   "execution_count": null,
   "id": "c6542c24",
   "metadata": {},
   "outputs": [],
   "source": [
    "a += 3 # a = a+3\n",
    "a"
   ]
  },
  {
   "cell_type": "code",
   "execution_count": null,
   "id": "13e646eb",
   "metadata": {},
   "outputs": [],
   "source": [
    "b += a # b = b+a\n",
    "b"
   ]
  },
  {
   "cell_type": "code",
   "execution_count": null,
   "id": "53f68ba5",
   "metadata": {},
   "outputs": [],
   "source": [
    "a += b # a = a+b\n",
    "a"
   ]
  },
  {
   "cell_type": "markdown",
   "id": "194950b3",
   "metadata": {},
   "source": [
    "### 4) 배열 요소별 집계\n",
    "- sum, min, max, mean, var(분산), std(표준편차)"
   ]
  },
  {
   "cell_type": "code",
   "execution_count": 14,
   "id": "1e9fe13c",
   "metadata": {},
   "outputs": [
    {
     "data": {
      "text/plain": [
       "array([[2, 2, 2, 3],\n",
       "       [4, 3, 2, 1]])"
      ]
     },
     "execution_count": 14,
     "metadata": {},
     "output_type": "execute_result"
    }
   ],
   "source": [
    "a = np.array([[2,2,2,3],\n",
    "             [4,3,2,1]])\n",
    "a"
   ]
  },
  {
   "cell_type": "code",
   "execution_count": 15,
   "id": "dff4bafb",
   "metadata": {},
   "outputs": [
    {
     "name": "stdout",
     "output_type": "stream",
     "text": [
      "전체 합 : 19 19\n",
      "전체 평균 2.375 2.375\n",
      "전체 최소값 1 1\n",
      "전체 최대값 4 4\n",
      "전체 분산 0.734375 0.734375\n",
      "전체 표준편차 0.8569568250501305 0.8569568250501305\n"
     ]
    }
   ],
   "source": [
    "print('전체 합 :', a.sum(), np.sum(a))\n",
    "print('전체 평균', a.mean(), np.mean(a))\n",
    "print('전체 최소값', a.min(), np.min(a))\n",
    "print('전체 최대값', a.max(), np.max(a))\n",
    "print('전체 분산', a.var(), np.var(a))\n",
    "print('전체 표준편차', a.std(), np.std(a))"
   ]
  },
  {
   "cell_type": "markdown",
   "id": "68e6c8ae",
   "metadata": {},
   "source": [
    "### 5) 배열 축별 집계\n",
    "- 축별 sum, min, max, mean, var(분산), std(표준편차), argmax"
   ]
  },
  {
   "cell_type": "code",
   "execution_count": 16,
   "id": "d95ce3ea",
   "metadata": {},
   "outputs": [
    {
     "data": {
      "text/plain": [
       "array([[2, 2, 2, 3],\n",
       "       [4, 3, 2, 1]])"
      ]
     },
     "execution_count": 16,
     "metadata": {},
     "output_type": "execute_result"
    }
   ],
   "source": [
    "a"
   ]
  },
  {
   "cell_type": "code",
   "execution_count": null,
   "id": "f1609dd3",
   "metadata": {},
   "outputs": [],
   "source": [
    "# axis=1(1축) 들의 합\n",
    "print('a 행별 합 :', a.sum(axis=1), np.sum(a, axis=1))"
   ]
  },
  {
   "cell_type": "code",
   "execution_count": null,
   "id": "583b5561",
   "metadata": {},
   "outputs": [],
   "source": [
    "# 열을 고정하고, 0축의 합\n",
    "print('a 열별 합 :', a.sum(axis=0), np.sum(a, axis=0))"
   ]
  },
  {
   "cell_type": "code",
   "execution_count": null,
   "id": "428ea1c2",
   "metadata": {},
   "outputs": [],
   "source": [
    "print('a 행별 최대값 :', a.max(axis=1), np.max(a, axis=1))\n",
    "print('a 열별 최대값 :', a.max(axis=0), np.max(a, axis=0))"
   ]
  },
  {
   "cell_type": "code",
   "execution_count": null,
   "id": "dcf6062e",
   "metadata": {},
   "outputs": [],
   "source": [
    "print('a 행별 최대값 위치 :', a.argmax(axis=1), np.max(a, axis=1))\n",
    "print('a 열별 최대값 위치 :', a.argmax(axis=0), np.max(a, axis=0))"
   ]
  },
  {
   "cell_type": "code",
   "execution_count": null,
   "id": "a07434e4",
   "metadata": {},
   "outputs": [],
   "source": [
    "a = np.array([[2,2,2,3],\n",
    "             [4,3,2,1]])\n",
    "a"
   ]
  },
  {
   "cell_type": "code",
   "execution_count": null,
   "id": "dc678009",
   "metadata": {},
   "outputs": [],
   "source": [
    "a"
   ]
  },
  {
   "cell_type": "code",
   "execution_count": 13,
   "id": "724e3df1",
   "metadata": {},
   "outputs": [
    {
     "name": "stdout",
     "output_type": "stream",
     "text": [
      "a 행별 최대값 위치 : [2 2 2 2 2]\n"
     ]
    }
   ],
   "source": [
    "print('a 행별 최대값 위치 :', a.argmax(axis=1))"
   ]
  },
  {
   "cell_type": "code",
   "execution_count": 18,
   "id": "f5736d68",
   "metadata": {},
   "outputs": [
    {
     "data": {
      "text/plain": [
       "array([[[ 0,  1,  2,  3],\n",
       "        [ 4,  5,  6,  7],\n",
       "        [ 8,  9, 10, 11]],\n",
       "\n",
       "       [[12, 13, 14, 15],\n",
       "        [16, 17, 18, 19],\n",
       "        [20, 21, 22, 23]]])"
      ]
     },
     "execution_count": 18,
     "metadata": {},
     "output_type": "execute_result"
    }
   ],
   "source": [
    "# 3차원 배열의 집계\n",
    "import numpy as np\n",
    "b = np.arange(24).reshape(2, 3, 4) # [2면, 3행, 4열]\n",
    "b"
   ]
  },
  {
   "cell_type": "code",
   "execution_count": 19,
   "id": "1a4afde3",
   "metadata": {},
   "outputs": [
    {
     "data": {
      "text/plain": [
       "(276, 0, 23, 11.5, 6.922186552431729, 47.916666666666664)"
      ]
     },
     "execution_count": 19,
     "metadata": {},
     "output_type": "execute_result"
    }
   ],
   "source": [
    "b.sum(), b.min(), b.max(), b.mean(), b.std(), b.var() # 배열 전체에 대한 집계값"
   ]
  },
  {
   "cell_type": "code",
   "execution_count": 20,
   "id": "8373e81e",
   "metadata": {},
   "outputs": [
    {
     "data": {
      "text/plain": [
       "6.922186552431729"
      ]
     },
     "execution_count": 20,
     "metadata": {},
     "output_type": "execute_result"
    }
   ],
   "source": [
    "# 분산에 루트 씌우면 표준편차 \n",
    "import math\n",
    "math.sqrt(b.var()) # math.sqrt() : 스칼라 값에 루트 씌운 값"
   ]
  },
  {
   "cell_type": "code",
   "execution_count": 21,
   "id": "d0005824",
   "metadata": {},
   "outputs": [
    {
     "data": {
      "text/plain": [
       "array([[12, 14, 16, 18],\n",
       "       [20, 22, 24, 26],\n",
       "       [28, 30, 32, 34]])"
      ]
     },
     "execution_count": 21,
     "metadata": {},
     "output_type": "execute_result"
    }
   ],
   "source": [
    "np.sum(b, axis=0) # 행과 열을 고정으로하고 0축들을 합 0,0,0+1,0,0"
   ]
  },
  {
   "cell_type": "code",
   "execution_count": 22,
   "id": "9c17d8fe",
   "metadata": {},
   "outputs": [
    {
     "data": {
      "text/plain": [
       "array([[12, 15, 18, 21],\n",
       "       [48, 51, 54, 57]])"
      ]
     },
     "execution_count": 22,
     "metadata": {},
     "output_type": "execute_result"
    }
   ],
   "source": [
    "np.sum(b, axis=1) # 면과 열은 고정으로 하고 1축들을 합 0,0,0 + 0,1,0+0,0+0,3,0"
   ]
  },
  {
   "cell_type": "code",
   "execution_count": 23,
   "id": "5770b138",
   "metadata": {},
   "outputs": [
    {
     "data": {
      "text/plain": [
       "array([[ 6, 22, 38],\n",
       "       [54, 70, 86]])"
      ]
     },
     "execution_count": 23,
     "metadata": {},
     "output_type": "execute_result"
    }
   ],
   "source": [
    "np.sum(b, axis=2) #면, 행은 고정으로 하고, 2축들을 합"
   ]
  },
  {
   "cell_type": "markdown",
   "id": "8a144337",
   "metadata": {},
   "source": [
    "## 2.8 그 외 요소별 계산하는 범용함수들\n",
    "\n",
    "- 출력 인수를 사용하면 메모리를 더 효율적으로 사용할 수 있음 \n",
    "\n",
    "- np.sqrt(배열) : 제곱근 / math.sqrt(스칼라변수) \n",
    "- np.add(배열A, 배열B, 출력C) : C=np.add(A,B)와 동일\n",
    "- np.multiply(A, B, C) : C = A*B 와 동일\n",
    "- np.subtract(A, B, C) : "
   ]
  },
  {
   "cell_type": "code",
   "execution_count": 24,
   "id": "0b133eb8",
   "metadata": {},
   "outputs": [
    {
     "data": {
      "text/plain": [
       "(array([1, 2]), array([3, 4]), array([ 1.01775229e-265, -2.68549920e+276]))"
      ]
     },
     "execution_count": 24,
     "metadata": {},
     "output_type": "execute_result"
    }
   ],
   "source": [
    "a = np.array([1,2])\n",
    "b = np.array([3,4])\n",
    "c = np.empty((2))\n",
    "a, b, c"
   ]
  },
  {
   "cell_type": "code",
   "execution_count": 28,
   "id": "e14ca231",
   "metadata": {},
   "outputs": [
    {
     "data": {
      "text/plain": [
       "array([4, 6])"
      ]
     },
     "execution_count": 28,
     "metadata": {},
     "output_type": "execute_result"
    }
   ],
   "source": [
    "np.add(a, b, c) #c는 출력인수 / c = np.add(a,b) / c = a+b \n",
    "c"
   ]
  },
  {
   "cell_type": "code",
   "execution_count": 31,
   "id": "21341d6a",
   "metadata": {},
   "outputs": [
    {
     "data": {
      "text/plain": [
       "array([1., 2., 3., 4.])"
      ]
     },
     "execution_count": 31,
     "metadata": {},
     "output_type": "execute_result"
    }
   ],
   "source": [
    "a = np.array([1, 4, 9, 16])\n",
    "b = np.empty(4)\n",
    "np.sqrt(a, b) # math.sqrt(a) 불가 스칼라 변수만 가능\n",
    "b"
   ]
  },
  {
   "cell_type": "code",
   "execution_count": 32,
   "id": "eac2c099",
   "metadata": {},
   "outputs": [],
   "source": [
    "# 메모리 사용량과 속도 측정해주는 메모리 프롸일러를 로드\n",
    "# 아나콘다 프롬프트에서 pip install memory_profiler\n",
    "%load_ext memory_profiler\n",
    "A = np.random.randn(100000000) # 1억개 요소\n",
    "B = np.random.randn(100000000)\n",
    "C = np.random.randn(100000000)"
   ]
  },
  {
   "cell_type": "code",
   "execution_count": null,
   "id": "10f6eea0",
   "metadata": {},
   "outputs": [],
   "source": [
    "# %%time : 셀을 실행할 때 소요시간 출력\n",
    "# %memit : 메모리 사용량 출력"
   ]
  },
  {
   "cell_type": "code",
   "execution_count": 34,
   "id": "189f43ab",
   "metadata": {},
   "outputs": [
    {
     "name": "stdout",
     "output_type": "stream",
     "text": [
      "peak memory: 4571.55 MiB, increment: 1400.07 MiB\n",
      "[-0.23651512 -0.97099491 -1.66230859 ...  1.45454498  1.2721401\n",
      " -0.8203474 ]\n",
      "CPU times: total: 844 ms\n",
      "Wall time: 1.7 s\n"
     ]
    }
   ],
   "source": [
    "%%time\n",
    "%memit G = A*B + C\n",
    "print(G)"
   ]
  },
  {
   "cell_type": "code",
   "execution_count": 35,
   "id": "7d99ec3e",
   "metadata": {},
   "outputs": [
    {
     "name": "stdout",
     "output_type": "stream",
     "text": [
      "peak memory: 4567.27 MiB, increment: 1395.79 MiB\n",
      "[-0.23651512 -0.97099491 -1.66230859 ...  1.45454498  1.2721401\n",
      " -0.8203474 ]\n",
      "CPU times: total: 859 ms\n",
      "Wall time: 1.7 s\n"
     ]
    }
   ],
   "source": [
    "%%time\n",
    "%memit T = A*B; G = T+C; del T\n",
    "print(G)"
   ]
  },
  {
   "cell_type": "code",
   "execution_count": 37,
   "id": "4496544b",
   "metadata": {},
   "outputs": [
    {
     "name": "stdout",
     "output_type": "stream",
     "text": [
      "peak memory: 3880.71 MiB, increment: 709.20 MiB\n",
      "[-0.23651512 -0.97099491 -1.66230859 ...  1.45454498  1.2721401\n",
      " -0.8203474 ]\n",
      "CPU times: total: 531 ms\n",
      "Wall time: 1.39 s\n"
     ]
    }
   ],
   "source": [
    "%%time\n",
    "%memit G =A*B; G+=C\n",
    "print(G)"
   ]
  },
  {
   "cell_type": "code",
   "execution_count": 38,
   "id": "ac0804f9",
   "metadata": {},
   "outputs": [
    {
     "name": "stdout",
     "output_type": "stream",
     "text": [
      "peak memory: 3161.88 MiB, increment: 0.00 MiB\n",
      "[-0.23651512 -0.97099491 -1.66230859 ...  1.45454498  1.2721401\n",
      " -0.8203474 ]\n",
      "CPU times: total: 312 ms\n",
      "Wall time: 1.18 s\n"
     ]
    }
   ],
   "source": [
    "%%time\n",
    "%memit np.multiply(A, B, G); np.add(G, C, G)\n",
    "print(G)"
   ]
  },
  {
   "cell_type": "markdown",
   "id": "8ee928b9",
   "metadata": {},
   "source": [
    "## 2.9 브로드 캐스팅\n",
    "- 서로 다른 크기의 배열간 연산을 수행할 수 있도록 해주는 강력한 기능"
   ]
  },
  {
   "cell_type": "code",
   "execution_count": 39,
   "id": "78cc6cbd",
   "metadata": {},
   "outputs": [
    {
     "data": {
      "text/plain": [
       "(array([[ 0,  1,  2],\n",
       "        [10, 11, 12],\n",
       "        [20, 21, 22],\n",
       "        [30, 31, 32]]),\n",
       " array([[ 0,  0,  0],\n",
       "        [ 0, 10, 20],\n",
       "        [ 0, 20, 40],\n",
       "        [ 0, 30, 60]]))"
      ]
     },
     "execution_count": 39,
     "metadata": {},
     "output_type": "execute_result"
    }
   ],
   "source": [
    "# 2차원 배열인 경우\n",
    "a = np.array([ [0,0,0],\n",
    "             [10,10,10],\n",
    "             [20,20,20],\n",
    "             [30,30,30],])\n",
    "b = np.array([0,1,2]) # 3열짜리 1차원\n",
    "np.add(a,b), np.multiply(a,b)"
   ]
  },
  {
   "cell_type": "code",
   "execution_count": 40,
   "id": "a83ae5ff",
   "metadata": {},
   "outputs": [],
   "source": [
    "a = np.array([0,10,20,30])\n",
    "b = np.array([1,2,3])"
   ]
  },
  {
   "cell_type": "code",
   "execution_count": 46,
   "id": "9586443d",
   "metadata": {},
   "outputs": [
    {
     "data": {
      "text/plain": [
       "array([[ 0],\n",
       "       [10],\n",
       "       [20],\n",
       "       [30]])"
      ]
     },
     "execution_count": 46,
     "metadata": {},
     "output_type": "execute_result"
    }
   ],
   "source": [
    "from numpy import newaxis\n",
    "# np.newaxis 연산자를 이용해서 배열에 새로운 축을 추가하여 2차원\n",
    "A = a[:, newaxis]\n",
    "A"
   ]
  },
  {
   "cell_type": "code",
   "execution_count": 47,
   "id": "eadea2ce",
   "metadata": {},
   "outputs": [
    {
     "name": "stdout",
     "output_type": "stream",
     "text": [
      "[[ 1  2  3]\n",
      " [11 12 13]\n",
      " [21 22 23]\n",
      " [31 32 33]]\n",
      "[[ 1  2  3]\n",
      " [11 12 13]\n",
      " [21 22 23]\n",
      " [31 32 33]]\n"
     ]
    }
   ],
   "source": [
    "print(A + b)\n",
    "print(np.add(A, b))"
   ]
  },
  {
   "cell_type": "markdown",
   "id": "24ecf021",
   "metadata": {},
   "source": [
    "# 3절. 배열합치기/배열분리하기\n",
    "- 인덱싱과 슬라이싱 : 특정한 값을 출력하겠다 하면 사용 단 슬라이싱을 사용함\n",
    "- 두배열을 합치는 함수 \n",
    "- r_, c_ 라는 객채를 사용\n",
    "- 하나의 배열을 여러개 작은 배열로 분리하는 함수 \n",
    "## 3.1 인덱싱과 슬라이싱\n",
    "- 교안 pdf 31page\n",
    "- [인덱싱 docs](https://docs.scipy.org/doc/numpy/user/basics.indexing.html)\n",
    "- [배열 인덱싱 docs](https://docs.scipy.org/doc/numpy/reference/arrays.indexing.html)\n",
    "- [newaxis](https://docs.scipy.org/doc/numpy/reference/constants.html#numpy.newaxis)"
   ]
  },
  {
   "cell_type": "code",
   "execution_count": 48,
   "id": "4569670b",
   "metadata": {},
   "outputs": [
    {
     "data": {
      "text/plain": [
       "array([ 0,  3,  6,  9, 12, 15, 18, 21, 24, 27])"
      ]
     },
     "execution_count": 48,
     "metadata": {},
     "output_type": "execute_result"
    }
   ],
   "source": [
    "a = np.arange(10)*3\n",
    "a"
   ]
  },
  {
   "cell_type": "code",
   "execution_count": 51,
   "id": "6ff43cd7",
   "metadata": {},
   "outputs": [
    {
     "data": {
      "text/plain": [
       "(6, 27)"
      ]
     },
     "execution_count": 51,
     "metadata": {},
     "output_type": "execute_result"
    }
   ],
   "source": [
    "# 인덱싱 : 없는 인덱싱 사용시 에러\n",
    "a[2], a[-1]"
   ]
  },
  {
   "cell_type": "code",
   "execution_count": 50,
   "id": "f4fc7d50",
   "metadata": {},
   "outputs": [
    {
     "ename": "IndexError",
     "evalue": "index 10 is out of bounds for axis 0 with size 10",
     "output_type": "error",
     "traceback": [
      "\u001b[1;31m---------------------------------------------------------------------------\u001b[0m",
      "\u001b[1;31mIndexError\u001b[0m                                Traceback (most recent call last)",
      "Cell \u001b[1;32mIn[50], line 1\u001b[0m\n\u001b[1;32m----> 1\u001b[0m \u001b[43ma\u001b[49m\u001b[43m[\u001b[49m\u001b[38;5;241;43m10\u001b[39;49m\u001b[43m]\u001b[49m\n",
      "\u001b[1;31mIndexError\u001b[0m: index 10 is out of bounds for axis 0 with size 10"
     ]
    }
   ],
   "source": [
    "a[10]"
   ]
  },
  {
   "cell_type": "code",
   "execution_count": 52,
   "id": "720cd246",
   "metadata": {},
   "outputs": [
    {
     "data": {
      "text/plain": [
       "array([ 3,  9, 15, 21])"
      ]
     },
     "execution_count": 52,
     "metadata": {},
     "output_type": "execute_result"
    }
   ],
   "source": [
    "#슬라이싱 : 없는 인덱스 값도 가능\n",
    "a[1:9:2]"
   ]
  },
  {
   "cell_type": "code",
   "execution_count": 53,
   "id": "829c3b00",
   "metadata": {},
   "outputs": [
    {
     "data": {
      "text/plain": [
       "array([ 0,  3,  6,  9, 12, 15, 18, 21, 24, 27])"
      ]
     },
     "execution_count": 53,
     "metadata": {},
     "output_type": "execute_result"
    }
   ],
   "source": [
    "a"
   ]
  },
  {
   "cell_type": "code",
   "execution_count": 54,
   "id": "aad73ddf",
   "metadata": {},
   "outputs": [
    {
     "data": {
      "text/plain": [
       "array([99,  3, 99,  9, 99, 15, 99, 21, 99, 27])"
      ]
     },
     "execution_count": 54,
     "metadata": {},
     "output_type": "execute_result"
    }
   ],
   "source": [
    "a[::2] = 99\n",
    "a"
   ]
  },
  {
   "cell_type": "code",
   "execution_count": 55,
   "id": "0c224f98",
   "metadata": {},
   "outputs": [
    {
     "data": {
      "text/plain": [
       "array([99,  3, 99,  9, 99, 15, 99, 21, 99, 27])"
      ]
     },
     "execution_count": 55,
     "metadata": {},
     "output_type": "execute_result"
    }
   ],
   "source": [
    "a[:100]"
   ]
  },
  {
   "cell_type": "code",
   "execution_count": 57,
   "id": "32f92c5b",
   "metadata": {},
   "outputs": [
    {
     "data": {
      "text/plain": [
       "array([[ 0,  1,  2,  3],\n",
       "       [ 4,  5,  6,  7],\n",
       "       [ 8,  9, 10, 11],\n",
       "       [12, 13, 14, 15],\n",
       "       [16, 17, 18, 19]])"
      ]
     },
     "execution_count": 57,
     "metadata": {},
     "output_type": "execute_result"
    }
   ],
   "source": [
    "b = np.arange(20).reshape(5,4)\n",
    "b"
   ]
  },
  {
   "cell_type": "code",
   "execution_count": 58,
   "id": "faca67c4",
   "metadata": {},
   "outputs": [
    {
     "data": {
      "text/plain": [
       "6"
      ]
     },
     "execution_count": 58,
     "metadata": {},
     "output_type": "execute_result"
    }
   ],
   "source": [
    "b[1,2]"
   ]
  },
  {
   "cell_type": "code",
   "execution_count": 59,
   "id": "a8602a70",
   "metadata": {},
   "outputs": [
    {
     "data": {
      "text/plain": [
       "array([[ 0,  1,  2],\n",
       "       [ 4,  5,  6],\n",
       "       [ 8,  9, 10],\n",
       "       [12, 13, 14],\n",
       "       [16, 17, 18]])"
      ]
     },
     "execution_count": 59,
     "metadata": {},
     "output_type": "execute_result"
    }
   ],
   "source": [
    "b[:, 0:-1] # 모든 행의 마지막 열 앞까지(종속변수를 제외하는 용도)"
   ]
  },
  {
   "cell_type": "code",
   "execution_count": 66,
   "id": "042d6e99",
   "metadata": {},
   "outputs": [
    {
     "data": {
      "text/plain": [
       "array([[ 3],\n",
       "       [ 7],\n",
       "       [11],\n",
       "       [15],\n",
       "       [19]])"
      ]
     },
     "execution_count": 66,
     "metadata": {},
     "output_type": "execute_result"
    }
   ],
   "source": [
    "b[:, -1:] # 모든행의 마지막 열만 추출(종속변수 추출하는 용도)"
   ]
  },
  {
   "cell_type": "code",
   "execution_count": 67,
   "id": "c5557bcb",
   "metadata": {},
   "outputs": [
    {
     "data": {
      "text/plain": [
       "array([[ 0,  1,  2,  3],\n",
       "       [ 4,  5,  6,  7],\n",
       "       [ 8,  9, 10, 11],\n",
       "       [12, 13, 14, 15],\n",
       "       [16, 17, 18, 19]])"
      ]
     },
     "execution_count": 67,
     "metadata": {},
     "output_type": "execute_result"
    }
   ],
   "source": [
    "b"
   ]
  },
  {
   "cell_type": "code",
   "execution_count": 88,
   "id": "6667bebc",
   "metadata": {},
   "outputs": [
    {
     "data": {
      "text/plain": [
       "(array([[0, 1, 2, 3],\n",
       "        [4, 5, 6, 7]]),\n",
       " array([[0, 1, 2, 3],\n",
       "        [4, 5, 6, 7]]),\n",
       " array([[0, 1, 2, 3],\n",
       "        [4, 5, 6, 7]]),\n",
       " array([[0, 1, 2, 3],\n",
       "        [4, 5, 6, 7]]),\n",
       " array([[0, 1, 2, 3],\n",
       "        [4, 5, 6, 7]]))"
      ]
     },
     "execution_count": 88,
     "metadata": {},
     "output_type": "execute_result"
    }
   ],
   "source": [
    "# 0~1행까지 모든 열 추출(열을 생략할 경우 모든 열)\n",
    "b[0:2], b[0:2,], b[0:2, :], b[:2], b[0:2, ...]"
   ]
  },
  {
   "cell_type": "code",
   "execution_count": 97,
   "id": "37590fe6",
   "metadata": {},
   "outputs": [
    {
     "data": {
      "text/plain": [
       "array([[ 0,  1,  2,  3],\n",
       "       [ 4,  5,  6,  7],\n",
       "       [ 8,  9, 10, 11],\n",
       "       [12, 13, 14, 15],\n",
       "       [16, 17, 18, 19]])"
      ]
     },
     "execution_count": 97,
     "metadata": {},
     "output_type": "execute_result"
    }
   ],
   "source": [
    "# 전체행의 맨 마지막열 추출(종속변수 추출하는 용도)\n",
    "# 선행축은 생략 불가\n",
    "b"
   ]
  },
  {
   "cell_type": "code",
   "execution_count": 95,
   "id": "0c958ed9",
   "metadata": {},
   "outputs": [
    {
     "data": {
      "text/plain": [
       "array([ 3,  7, 11, 15, 19])"
      ]
     },
     "execution_count": 95,
     "metadata": {},
     "output_type": "execute_result"
    }
   ],
   "source": [
    "b[...,-1]"
   ]
  },
  {
   "cell_type": "code",
   "execution_count": null,
   "id": "ff5d1de1",
   "metadata": {},
   "outputs": [],
   "source": [
    "# 모든행의 마지막 열을 추출해서 2차원으로 변경(5열 ->5행1열)"
   ]
  },
  {
   "cell_type": "code",
   "execution_count": 100,
   "id": "4da0c14f",
   "metadata": {},
   "outputs": [
    {
     "data": {
      "text/plain": [
       "array([[ 3],\n",
       "       [ 7],\n",
       "       [11],\n",
       "       [15],\n",
       "       [19]])"
      ]
     },
     "execution_count": 100,
     "metadata": {},
     "output_type": "execute_result"
    }
   ],
   "source": [
    "b[:,-1][:, newaxis]"
   ]
  },
  {
   "cell_type": "code",
   "execution_count": 101,
   "id": "a8a5b5a9",
   "metadata": {},
   "outputs": [
    {
     "data": {
      "text/plain": [
       "array([[ 3],\n",
       "       [ 7],\n",
       "       [11],\n",
       "       [15],\n",
       "       [19]])"
      ]
     },
     "execution_count": 101,
     "metadata": {},
     "output_type": "execute_result"
    }
   ],
   "source": [
    "b[..., -1].reshape(5,1)"
   ]
  },
  {
   "cell_type": "code",
   "execution_count": 107,
   "id": "6fc5b992",
   "metadata": {},
   "outputs": [
    {
     "data": {
      "text/plain": [
       "(array([[ 5,  6],\n",
       "        [ 9, 10],\n",
       "        [13, 14]]),\n",
       " array([[ 5,  6],\n",
       "        [ 9, 10],\n",
       "        [13, 14]]))"
      ]
     },
     "execution_count": 107,
     "metadata": {},
     "output_type": "execute_result"
    }
   ],
   "source": [
    "b[1:-1, 1:-1], b[1:4, 1:-1]"
   ]
  },
  {
   "cell_type": "code",
   "execution_count": 108,
   "id": "a64ac9d3",
   "metadata": {},
   "outputs": [
    {
     "data": {
      "text/plain": [
       "array([[[ 0,  1,  2,  3],\n",
       "        [ 4,  5,  6,  7],\n",
       "        [ 8,  9, 10, 11]],\n",
       "\n",
       "       [[12, 13, 14, 15],\n",
       "        [16, 17, 18, 19],\n",
       "        [20, 21, 22, 23]]])"
      ]
     },
     "execution_count": 108,
     "metadata": {},
     "output_type": "execute_result"
    }
   ],
   "source": [
    "# 3차원 배열의 인덱싱, 슬라이싱\n",
    "c = np.arange(24).reshape(2, 3, 4)\n",
    "c"
   ]
  },
  {
   "cell_type": "code",
   "execution_count": 110,
   "id": "d4062ffc",
   "metadata": {},
   "outputs": [
    {
     "data": {
      "text/plain": [
       "17"
      ]
     },
     "execution_count": 110,
     "metadata": {},
     "output_type": "execute_result"
    }
   ],
   "source": [
    "c[1,1,1]"
   ]
  },
  {
   "cell_type": "code",
   "execution_count": 112,
   "id": "ebfa0e5d",
   "metadata": {},
   "outputs": [
    {
     "data": {
      "text/plain": [
       "(array([[ 0,  1,  2,  3],\n",
       "        [ 4,  5,  6,  7],\n",
       "        [ 8,  9, 10, 11]]),\n",
       " array([[ 0,  1,  2,  3],\n",
       "        [ 4,  5,  6,  7],\n",
       "        [ 8,  9, 10, 11]]),\n",
       " array([[ 0,  1,  2,  3],\n",
       "        [ 4,  5,  6,  7],\n",
       "        [ 8,  9, 10, 11]]))"
      ]
     },
     "execution_count": 112,
     "metadata": {},
     "output_type": "execute_result"
    }
   ],
   "source": [
    "# 선행축은 생략불가, 후행축은 생략 가능\n",
    "c[0], c[0,], c[0,...]"
   ]
  },
  {
   "cell_type": "code",
   "execution_count": 115,
   "id": "fc3b1af8",
   "metadata": {},
   "outputs": [
    {
     "data": {
      "text/plain": [
       "array([12, 13, 14, 15])"
      ]
     },
     "execution_count": 115,
     "metadata": {},
     "output_type": "execute_result"
    }
   ],
   "source": [
    "# 1면 0행 모든 열을 출력하시오\n",
    "c[1,0]"
   ]
  },
  {
   "cell_type": "code",
   "execution_count": 117,
   "id": "9829cfe9",
   "metadata": {},
   "outputs": [
    {
     "data": {
      "text/plain": [
       "array([13, 17, 21])"
      ]
     },
     "execution_count": 117,
     "metadata": {},
     "output_type": "execute_result"
    }
   ],
   "source": [
    "# 1면 모든 행의 \n",
    "c[1,...,1]"
   ]
  },
  {
   "cell_type": "code",
   "execution_count": 122,
   "id": "d04b6364",
   "metadata": {},
   "outputs": [
    {
     "data": {
      "text/plain": [
       "array([[[ 1,  2],\n",
       "        [ 5,  6]],\n",
       "\n",
       "       [[13, 14],\n",
       "        [17, 18]]])"
      ]
     },
     "execution_count": 122,
     "metadata": {},
     "output_type": "execute_result"
    }
   ],
   "source": [
    "c[:, 0:2, 1:3]"
   ]
  },
  {
   "cell_type": "markdown",
   "id": "30da7f84",
   "metadata": {},
   "source": [
    "## 3.2 두 배열을 쌓아 합치는 함수\n",
    "**- vstack(tup) : 아래에 추가하는 방식으로 쌓아 합침**<br>\n",
    "**- hstack(tup) : 옆으로 추가하는 방식으로 합침**<br>\n",
    "**- dstack(tup) : 마지막 축(열)을 쌓아 합침. depth방향으로 합치는 함수(차원증가)<br>"
   ]
  },
  {
   "cell_type": "code",
   "execution_count": 124,
   "id": "aee7630f",
   "metadata": {},
   "outputs": [
    {
     "name": "stdout",
     "output_type": "stream",
     "text": [
      "vstack 아래로 합치기 :\n",
      "[[1 2 3]\n",
      " [4 5 6]]\n",
      "(2, 3)\n",
      "hstack 옆으로 합치기 :\n",
      "[1 2 3 4 5 6]\n",
      "(6,)\n",
      "dstack 축을 depth로 합치기 :\n",
      "[[[1 4]\n",
      "  [2 5]\n",
      "  [3 6]]]\n",
      "(1, 3, 2)\n"
     ]
    }
   ],
   "source": [
    "c = np.array([1,2,3])\n",
    "d = np.array([4,5,6])\n",
    "v = np.vstack( (c,d) )\n",
    "print('vstack 아래로 합치기 :', v, v.shape, sep='\\n')\n",
    "h = np.hstack( (c,d) )\n",
    "print('hstack 옆으로 합치기 :', h, h.shape, sep='\\n')\n",
    "d = np.dstack( (c,d) )\n",
    "print('dstack 축을 depth로 합치기 :', d, d.shape, sep='\\n')"
   ]
  },
  {
   "cell_type": "code",
   "execution_count": 126,
   "id": "881c1036",
   "metadata": {},
   "outputs": [
    {
     "data": {
      "text/plain": [
       "array([[[ 0,  1,  2,  3],\n",
       "        [ 4,  5,  6,  7],\n",
       "        [ 8,  9, 10, 11]],\n",
       "\n",
       "       [[12, 13, 14, 15],\n",
       "        [16, 17, 18, 19],\n",
       "        [20, 21, 22, 23]]])"
      ]
     },
     "execution_count": 126,
     "metadata": {},
     "output_type": "execute_result"
    }
   ],
   "source": [
    "c = np.arange(24).reshape(2, 3, 4)\n",
    "c"
   ]
  },
  {
   "cell_type": "code",
   "execution_count": 128,
   "id": "c4605b1f",
   "metadata": {},
   "outputs": [
    {
     "data": {
      "text/plain": [
       "(array([[ 0,  1,  2,  3],\n",
       "        [ 4,  5,  6,  7],\n",
       "        [ 8,  9, 10, 11]]),\n",
       " array([[12, 13, 14, 15],\n",
       "        [16, 17, 18, 19],\n",
       "        [20, 21, 22, 23]]))"
      ]
     },
     "execution_count": 128,
     "metadata": {},
     "output_type": "execute_result"
    }
   ],
   "source": [
    "a, b = c[0], c[1]\n",
    "a, b"
   ]
  },
  {
   "cell_type": "code",
   "execution_count": 129,
   "id": "327d3ccd",
   "metadata": {},
   "outputs": [
    {
     "data": {
      "text/plain": [
       "array([[ 0,  1,  2,  3],\n",
       "       [ 4,  5,  6,  7],\n",
       "       [ 8,  9, 10, 11],\n",
       "       [12, 13, 14, 15],\n",
       "       [16, 17, 18, 19],\n",
       "       [20, 21, 22, 23]])"
      ]
     },
     "execution_count": 129,
     "metadata": {},
     "output_type": "execute_result"
    }
   ],
   "source": [
    "# 수직으로 합치기\n",
    "np.vstack( (a, b))"
   ]
  },
  {
   "cell_type": "code",
   "execution_count": 130,
   "id": "ef899431",
   "metadata": {},
   "outputs": [
    {
     "data": {
      "text/plain": [
       "array([[ 0,  1,  2,  3, 12, 13, 14, 15],\n",
       "       [ 4,  5,  6,  7, 16, 17, 18, 19],\n",
       "       [ 8,  9, 10, 11, 20, 21, 22, 23]])"
      ]
     },
     "execution_count": 130,
     "metadata": {},
     "output_type": "execute_result"
    }
   ],
   "source": [
    "np.hstack( (a, b))"
   ]
  },
  {
   "cell_type": "code",
   "execution_count": 133,
   "id": "e1b4ba34",
   "metadata": {},
   "outputs": [
    {
     "data": {
      "text/plain": [
       "array([[[ 0, 12],\n",
       "        [ 1, 13],\n",
       "        [ 2, 14],\n",
       "        [ 3, 15]],\n",
       "\n",
       "       [[ 4, 16],\n",
       "        [ 5, 17],\n",
       "        [ 6, 18],\n",
       "        [ 7, 19]],\n",
       "\n",
       "       [[ 8, 20],\n",
       "        [ 9, 21],\n",
       "        [10, 22],\n",
       "        [11, 23]]])"
      ]
     },
     "execution_count": 133,
     "metadata": {},
     "output_type": "execute_result"
    }
   ],
   "source": [
    "np.dstack( (a,b))"
   ]
  },
  {
   "cell_type": "code",
   "execution_count": 134,
   "id": "22a090b0",
   "metadata": {},
   "outputs": [
    {
     "data": {
      "text/plain": [
       "array([[ 0,  1,  2,  3],\n",
       "       [ 4,  5,  6,  7],\n",
       "       [ 8,  9, 10, 11],\n",
       "       [12, 13, 14, 15],\n",
       "       [16, 17, 18, 19],\n",
       "       [20, 21, 22, 23]])"
      ]
     },
     "execution_count": 134,
     "metadata": {},
     "output_type": "execute_result"
    }
   ],
   "source": [
    "np.concatenate((a,b), axis=0) # axis=0 : 기본값"
   ]
  },
  {
   "cell_type": "code",
   "execution_count": 135,
   "id": "7f4c66fe",
   "metadata": {},
   "outputs": [
    {
     "data": {
      "text/plain": [
       "array([[ 0,  1,  2,  3, 12, 13, 14, 15],\n",
       "       [ 4,  5,  6,  7, 16, 17, 18, 19],\n",
       "       [ 8,  9, 10, 11, 20, 21, 22, 23]])"
      ]
     },
     "execution_count": 135,
     "metadata": {},
     "output_type": "execute_result"
    }
   ],
   "source": [
    "np.concatenate((a, b), axis=1)"
   ]
  },
  {
   "cell_type": "code",
   "execution_count": 136,
   "id": "340b08e8",
   "metadata": {},
   "outputs": [
    {
     "data": {
      "text/plain": [
       "(array([[ 0,  1,  2,  3],\n",
       "        [ 4,  5,  6,  7],\n",
       "        [ 8,  9, 10, 11]]),\n",
       " array([[12, 13, 14, 15],\n",
       "        [16, 17, 18, 19],\n",
       "        [20, 21, 22, 23]]))"
      ]
     },
     "execution_count": 136,
     "metadata": {},
     "output_type": "execute_result"
    }
   ],
   "source": [
    "a, b"
   ]
  },
  {
   "cell_type": "markdown",
   "id": "c3fcb756",
   "metadata": {},
   "source": [
    "**- column_stack(tup) : 1차원 배열 을 2차원 배열의  열 단위로 합침**<br>\n",
    "**- row_stack(tup) : 행단위로 합침 == vstack() 비슷**"
   ]
  },
  {
   "cell_type": "code",
   "execution_count": 139,
   "id": "ed9aa662",
   "metadata": {},
   "outputs": [
    {
     "data": {
      "text/plain": [
       "array([[ 1,  5,  9],\n",
       "       [ 2,  6, 10],\n",
       "       [ 3,  7, 11],\n",
       "       [ 4,  8, 12]])"
      ]
     },
     "execution_count": 139,
     "metadata": {},
     "output_type": "execute_result"
    }
   ],
   "source": [
    "a = np.array([1,2,3,4])\n",
    "b = np.array([5,6,7,8])\n",
    "c = np.array([9,10,11,12])\n",
    "np.column_stack((a,b,c))"
   ]
  },
  {
   "cell_type": "code",
   "execution_count": 140,
   "id": "7047f438",
   "metadata": {},
   "outputs": [
    {
     "data": {
      "text/plain": [
       "array([ 1,  2,  3,  4,  5,  6,  7,  8,  9, 10, 11, 12])"
      ]
     },
     "execution_count": 140,
     "metadata": {},
     "output_type": "execute_result"
    }
   ],
   "source": [
    "np.hstack((a,b,c))"
   ]
  },
  {
   "cell_type": "code",
   "execution_count": 141,
   "id": "9f6bab8a",
   "metadata": {},
   "outputs": [
    {
     "data": {
      "text/plain": [
       "array([[ 1,  2,  3,  4],\n",
       "       [ 5,  6,  7,  8],\n",
       "       [ 9, 10, 11, 12]])"
      ]
     },
     "execution_count": 141,
     "metadata": {},
     "output_type": "execute_result"
    }
   ],
   "source": [
    "np.row_stack((a,b,c))"
   ]
  },
  {
   "cell_type": "code",
   "execution_count": 142,
   "id": "2f16f37d",
   "metadata": {},
   "outputs": [
    {
     "data": {
      "text/plain": [
       "array([[ 1,  2,  3,  4],\n",
       "       [ 5,  6,  7,  8],\n",
       "       [ 9, 10, 11, 12]])"
      ]
     },
     "execution_count": 142,
     "metadata": {},
     "output_type": "execute_result"
    }
   ],
   "source": [
    "np.vstack((a,b,c))"
   ]
  },
  {
   "cell_type": "markdown",
   "id": "b4933613",
   "metadata": {},
   "source": [
    "- stack(tup, axis=n) : axis 속성에 따라 배열을 합침. axis 음수차원이 가능\n",
    "- axis=0: 첫번째 차원, axis=-1이면 마지막차원(열)"
   ]
  },
  {
   "cell_type": "code",
   "execution_count": 144,
   "id": "bb3629c7",
   "metadata": {},
   "outputs": [
    {
     "data": {
      "text/plain": [
       "(array([[ 0,  1,  2,  3],\n",
       "        [ 4,  5,  6,  7],\n",
       "        [ 8,  9, 10, 11]]),\n",
       " array([[12, 13, 14, 15],\n",
       "        [16, 17, 18, 19],\n",
       "        [20, 21, 22, 23]]))"
      ]
     },
     "execution_count": 144,
     "metadata": {},
     "output_type": "execute_result"
    }
   ],
   "source": [
    "a = np.arange(12).reshape(3,4)\n",
    "b = np.arange(12,24).reshape(3,4)\n",
    "a, b"
   ]
  },
  {
   "cell_type": "code",
   "execution_count": 145,
   "id": "4051d8b9",
   "metadata": {},
   "outputs": [
    {
     "data": {
      "text/plain": [
       "array([[[ 0,  1,  2,  3],\n",
       "        [ 4,  5,  6,  7],\n",
       "        [ 8,  9, 10, 11]],\n",
       "\n",
       "       [[12, 13, 14, 15],\n",
       "        [16, 17, 18, 19],\n",
       "        [20, 21, 22, 23]]])"
      ]
     },
     "execution_count": 145,
     "metadata": {},
     "output_type": "execute_result"
    }
   ],
   "source": [
    "np.stack((a, b), axis=0) # 0면에 a, 1면에 b"
   ]
  },
  {
   "cell_type": "code",
   "execution_count": 146,
   "id": "b6fcb96b",
   "metadata": {},
   "outputs": [
    {
     "data": {
      "text/plain": [
       "array([[[ 0,  1,  2,  3],\n",
       "        [12, 13, 14, 15]],\n",
       "\n",
       "       [[ 4,  5,  6,  7],\n",
       "        [16, 17, 18, 19]],\n",
       "\n",
       "       [[ 8,  9, 10, 11],\n",
       "        [20, 21, 22, 23]]])"
      ]
     },
     "execution_count": 146,
     "metadata": {},
     "output_type": "execute_result"
    }
   ],
   "source": [
    "np.stack((a, b), axis=1) # 행(1축)끼리 합쳐 면을 이룸"
   ]
  },
  {
   "cell_type": "code",
   "execution_count": 148,
   "id": "f48df892",
   "metadata": {},
   "outputs": [
    {
     "data": {
      "text/plain": [
       "array([[[ 0, 12],\n",
       "        [ 1, 13],\n",
       "        [ 2, 14],\n",
       "        [ 3, 15]],\n",
       "\n",
       "       [[ 4, 16],\n",
       "        [ 5, 17],\n",
       "        [ 6, 18],\n",
       "        [ 7, 19]],\n",
       "\n",
       "       [[ 8, 20],\n",
       "        [ 9, 21],\n",
       "        [10, 22],\n",
       "        [11, 23]]])"
      ]
     },
     "execution_count": 148,
     "metadata": {},
     "output_type": "execute_result"
    }
   ],
   "source": [
    "np.stack((a, b), axis=-1) # 열끼리 합쳐서 면을 이룸"
   ]
  },
  {
   "cell_type": "markdown",
   "id": "733c865e",
   "metadata": {},
   "source": [
    "## 3.3 r_,c_\n",
    "- 나열 객체"
   ]
  },
  {
   "cell_type": "code",
   "execution_count": 149,
   "id": "9aeb55db",
   "metadata": {},
   "outputs": [],
   "source": [
    "a = np.array([1,2,3,4])\n",
    "b = np.array([5,6,7,8])\n",
    "c = np.array([9,10,11,12])"
   ]
  },
  {
   "cell_type": "code",
   "execution_count": 150,
   "id": "4e1c5bba",
   "metadata": {},
   "outputs": [
    {
     "data": {
      "text/plain": [
       "array([ 1,  2,  3,  4,  5,  6,  7,  8,  9, 10, 11, 12])"
      ]
     },
     "execution_count": 150,
     "metadata": {},
     "output_type": "execute_result"
    }
   ],
   "source": [
    "np.r_[a,b,c] # 한행"
   ]
  },
  {
   "cell_type": "code",
   "execution_count": 151,
   "id": "ebde1062",
   "metadata": {},
   "outputs": [
    {
     "data": {
      "text/plain": [
       "array([[ 1,  5,  9],\n",
       "       [ 2,  6, 10],\n",
       "       [ 3,  7, 11],\n",
       "       [ 4,  8, 12]])"
      ]
     },
     "execution_count": 151,
     "metadata": {},
     "output_type": "execute_result"
    }
   ],
   "source": [
    "np.c_[a,b,c]"
   ]
  },
  {
   "cell_type": "code",
   "execution_count": 152,
   "id": "2be561ba",
   "metadata": {},
   "outputs": [
    {
     "data": {
      "text/plain": [
       "array([[ 1,  5,  9],\n",
       "       [ 2,  6, 10],\n",
       "       [ 3,  7, 11],\n",
       "       [ 4,  8, 12]])"
      ]
     },
     "execution_count": 152,
     "metadata": {},
     "output_type": "execute_result"
    }
   ],
   "source": [
    "np.column_stack((a,b,c))"
   ]
  },
  {
   "cell_type": "markdown",
   "id": "f8da8e5e",
   "metadata": {},
   "source": [
    "## 3.4 배열 분리하는 함수\n",
    "- vsplit(ary, 정수 and 벡터data) : 첫번째 축(2차원의 경우 가로축)을 따라 분할\n",
    "- hsplit(ary, 정수 and 벡터data) : 두번째 축(2차원의 경우 세로축)을 따라 분할\n",
    "- dsplit(ary, 정수 and 벡터data) : depth를 따라 나눔. 3차원 이상에서만 동작\n",
    "```\n",
    "    정수 n : n개 분리\n",
    "    [n] : n번째  인덱스를 기점으로 분리\n",
    "    [n, m] : n번째, m번째 인덱스를 기점으로 분리\n",
    "```"
   ]
  },
  {
   "cell_type": "code",
   "execution_count": 153,
   "id": "9c1a6ab0",
   "metadata": {},
   "outputs": [
    {
     "data": {
      "text/plain": [
       "array([[ 0,  1,  2,  3],\n",
       "       [ 4,  5,  6,  7],\n",
       "       [ 8,  9, 10, 11]])"
      ]
     },
     "execution_count": 153,
     "metadata": {},
     "output_type": "execute_result"
    }
   ],
   "source": [
    "a = np.arange(12).reshape(3,4)\n",
    "a"
   ]
  },
  {
   "cell_type": "code",
   "execution_count": 154,
   "id": "64e41282",
   "metadata": {},
   "outputs": [
    {
     "data": {
      "text/plain": [
       "[array([[0, 1, 2, 3]]), array([[4, 5, 6, 7]]), array([[ 8,  9, 10, 11]])]"
      ]
     },
     "execution_count": 154,
     "metadata": {},
     "output_type": "execute_result"
    }
   ],
   "source": [
    "# 가로축을 따라 3개로 배열 분할. 분할 후에는 원래의 차원유지\n",
    "a_vsplit = np.vsplit(a, 3)# 2개로 분리는 에러\n",
    "a_vsplit"
   ]
  },
  {
   "cell_type": "code",
   "execution_count": 155,
   "id": "2bee6bf8",
   "metadata": {},
   "outputs": [
    {
     "data": {
      "text/plain": [
       "[array([[0, 1, 2, 3],\n",
       "        [4, 5, 6, 7]]),\n",
       " array([[ 8,  9, 10, 11]])]"
      ]
     },
     "execution_count": 155,
     "metadata": {},
     "output_type": "execute_result"
    }
   ],
   "source": [
    "a_vsplit = np.vsplit(a, [2])\n",
    "a_vsplit"
   ]
  },
  {
   "cell_type": "code",
   "execution_count": 156,
   "id": "14c32c64",
   "metadata": {},
   "outputs": [
    {
     "data": {
      "text/plain": [
       "[array([[0, 1, 2, 3]]), array([[4, 5, 6, 7]]), array([[ 8,  9, 10, 11]])]"
      ]
     },
     "execution_count": 156,
     "metadata": {},
     "output_type": "execute_result"
    }
   ],
   "source": [
    "a_vsplit = np.vsplit(a, [1, 2])\n",
    "a_vsplit"
   ]
  },
  {
   "cell_type": "code",
   "execution_count": 158,
   "id": "b40b90f6",
   "metadata": {},
   "outputs": [
    {
     "data": {
      "text/plain": [
       "(2, 2, 2)"
      ]
     },
     "execution_count": 158,
     "metadata": {},
     "output_type": "execute_result"
    }
   ],
   "source": [
    "a_vsplit[0].ndim, a_vsplit[1].ndim, a_vsplit[2].ndim # 분할 후에도 차원수 유지"
   ]
  },
  {
   "cell_type": "code",
   "execution_count": 159,
   "id": "8728724c",
   "metadata": {},
   "outputs": [
    {
     "data": {
      "text/plain": [
       "array([[[ 0,  1,  2,  3],\n",
       "        [ 4,  5,  6,  7],\n",
       "        [ 8,  9, 10, 11]],\n",
       "\n",
       "       [[12, 13, 14, 15],\n",
       "        [16, 17, 18, 19],\n",
       "        [20, 21, 22, 23]]])"
      ]
     },
     "execution_count": 159,
     "metadata": {},
     "output_type": "execute_result"
    }
   ],
   "source": [
    "# dsplit은 3차원이상만 가능\n",
    "b = np.arange(24).reshape(2, 3, 4)\n",
    "b"
   ]
  },
  {
   "cell_type": "code",
   "execution_count": 160,
   "id": "5b243498",
   "metadata": {},
   "outputs": [
    {
     "data": {
      "text/plain": [
       "[array([[[ 0,  1,  2,  3],\n",
       "         [ 4,  5,  6,  7],\n",
       "         [ 8,  9, 10, 11]]]),\n",
       " array([[[12, 13, 14, 15],\n",
       "         [16, 17, 18, 19],\n",
       "         [20, 21, 22, 23]]])]"
      ]
     },
     "execution_count": 160,
     "metadata": {},
     "output_type": "execute_result"
    }
   ],
   "source": [
    "b_vsplit = np.vsplit(b, 2) # 첫번째 축을 기준으로 2개로 분할\n",
    "b_vsplit"
   ]
  },
  {
   "cell_type": "code",
   "execution_count": 161,
   "id": "a19ef236",
   "metadata": {},
   "outputs": [
    {
     "data": {
      "text/plain": [
       "[array([[[ 0,  1,  2,  3]],\n",
       " \n",
       "        [[12, 13, 14, 15]]]),\n",
       " array([[[ 4,  5,  6,  7]],\n",
       " \n",
       "        [[16, 17, 18, 19]]]),\n",
       " array([[[ 8,  9, 10, 11]],\n",
       " \n",
       "        [[20, 21, 22, 23]]])]"
      ]
     },
     "execution_count": 161,
     "metadata": {},
     "output_type": "execute_result"
    }
   ],
   "source": [
    "b_hsplit = np.hsplit(b, 3)\n",
    "b_hsplit"
   ]
  },
  {
   "cell_type": "code",
   "execution_count": 162,
   "id": "1fb79bb7",
   "metadata": {},
   "outputs": [
    {
     "data": {
      "text/plain": [
       "array([[[ 0,  1,  2,  3],\n",
       "        [ 4,  5,  6,  7],\n",
       "        [ 8,  9, 10, 11]],\n",
       "\n",
       "       [[12, 13, 14, 15],\n",
       "        [16, 17, 18, 19],\n",
       "        [20, 21, 22, 23]]])"
      ]
     },
     "execution_count": 162,
     "metadata": {},
     "output_type": "execute_result"
    }
   ],
   "source": [
    "b"
   ]
  },
  {
   "cell_type": "markdown",
   "id": "a2b5ffde",
   "metadata": {},
   "source": [
    "- split(ary, 갯수나 인덱스 벡터, axis=?)\n",
    "    * axis=0 : vsplit()동일\n",
    "    * axis=1 : hsplit()동일\n",
    "    * axis=2 : 3차원 이상에서만 동장. dsplit(0동일"
   ]
  },
  {
   "cell_type": "code",
   "execution_count": 163,
   "id": "52340b0e",
   "metadata": {},
   "outputs": [
    {
     "data": {
      "text/plain": [
       "array([[ 0,  1,  2,  3,  4,  5,  6,  7,  8,  9],\n",
       "       [10, 11, 12, 13, 14, 15, 16, 17, 18, 19]])"
      ]
     },
     "execution_count": 163,
     "metadata": {},
     "output_type": "execute_result"
    }
   ],
   "source": [
    "a = np.arange(20).reshape(2, 10)\n",
    "a"
   ]
  },
  {
   "cell_type": "code",
   "execution_count": 164,
   "id": "c7b41b9c",
   "metadata": {},
   "outputs": [
    {
     "data": {
      "text/plain": [
       "[array([[ 0,  1,  2,  3,  4],\n",
       "        [10, 11, 12, 13, 14]]),\n",
       " array([[ 5,  6,  7,  8,  9],\n",
       "        [15, 16, 17, 18, 19]])]"
      ]
     },
     "execution_count": 164,
     "metadata": {},
     "output_type": "execute_result"
    }
   ],
   "source": [
    "np.split(a, 2, axis=1)"
   ]
  },
  {
   "cell_type": "code",
   "execution_count": null,
   "id": "64168627",
   "metadata": {},
   "outputs": [],
   "source": []
  }
 ],
 "metadata": {
  "kernelspec": {
   "display_name": "Python 3 (ipykernel)",
   "language": "python",
   "name": "python3"
  },
  "language_info": {
   "codemirror_mode": {
    "name": "ipython",
    "version": 3
   },
   "file_extension": ".py",
   "mimetype": "text/x-python",
   "name": "python",
   "nbconvert_exporter": "python",
   "pygments_lexer": "ipython3",
   "version": "3.10.9"
  },
  "toc": {
   "base_numbering": 1,
   "nav_menu": {},
   "number_sections": true,
   "sideBar": true,
   "skip_h1_title": false,
   "title_cell": "Table of Contents",
   "title_sidebar": "Contents",
   "toc_cell": false,
   "toc_position": {
    "height": "calc(100% - 180px)",
    "left": "10px",
    "top": "150px",
    "width": "188.297px"
   },
   "toc_section_display": true,
   "toc_window_display": true
  }
 },
 "nbformat": 4,
 "nbformat_minor": 5
}
