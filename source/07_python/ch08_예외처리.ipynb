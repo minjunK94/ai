{
 "cells": [
  {
   "cell_type": "markdown",
   "id": "2f8c17ba",
   "metadata": {},
   "source": [
    "<b><font color=\"red\" size=\"6\">ch08.예외처리</font></b>"
   ]
  },
  {
   "cell_type": "markdown",
   "id": "1728727d",
   "metadata": {},
   "source": [
    "# 1절 예외처리\n",
    "```\n",
    "- 예외가 날 가능성이 있는 부분에 대해 미리 예상하고, 그에 대한 처리를 프로그래밍 하는 것\n",
    "- (이유 : 좀 더 안정적으로 실행 할수 있도록 함)\n",
    "- ex. 파일을 다룰 때, 파일이 없거나, 쓰기 금지로 인한 오류\n",
    "- ex. 데이터베이스 프로그래밍 시 제약조건 등에 의한 CRUD 명령 수행 오류. DBMS 서버 오류\n",
    "- ex. 네트워크 프로그래밍 시 네트워크 연결 실패 오류\n",
    "- ex. 웹 프로그래밍 작성시 웹 서버 오류\n",
    "- ex. 리스트나 튜플의 인덱스를 벗어난 참조로 인한 오류\n",
    "- ex. 웹크롤링시\n",
    "    try:\n",
    "        데이터 수집코드\n",
    "    except:\n",
    "        오류가 났을 경우 대신 실행할 코드\n",
    "```"
   ]
  },
  {
   "cell_type": "code",
   "execution_count": 3,
   "id": "cfce9df6",
   "metadata": {},
   "outputs": [
    {
     "name": "stdout",
     "output_type": "stream",
     "text": [
      "파일명?ch08.txt\n",
      "Hello\n"
     ]
    }
   ],
   "source": [
    "filename = input('파일명?')\n",
    "f = open('data/'+filename,'r') # 읽기전용으로 파일을 열기(읽기 전용 stream 객체 생성)\n",
    "print(f.read())"
   ]
  },
  {
   "cell_type": "code",
   "execution_count": 4,
   "id": "1ad43daa",
   "metadata": {},
   "outputs": [
    {
     "ename": "ZeroDivisionError",
     "evalue": "division by zero",
     "output_type": "error",
     "traceback": [
      "\u001b[1;31m---------------------------------------------------------------------------\u001b[0m",
      "\u001b[1;31mZeroDivisionError\u001b[0m                         Traceback (most recent call last)",
      "Cell \u001b[1;32mIn[4], line 1\u001b[0m\n\u001b[1;32m----> 1\u001b[0m \u001b[38;5;241;43m4\u001b[39;49m\u001b[43m \u001b[49m\u001b[38;5;241;43m/\u001b[39;49m\u001b[43m \u001b[49m\u001b[38;5;241;43m0\u001b[39;49m\n",
      "\u001b[1;31mZeroDivisionError\u001b[0m: division by zero"
     ]
    }
   ],
   "source": [
    "4 / 0"
   ]
  },
  {
   "cell_type": "code",
   "execution_count": 5,
   "id": "ecef994f",
   "metadata": {},
   "outputs": [
    {
     "ename": "IndexError",
     "evalue": "list index out of range",
     "output_type": "error",
     "traceback": [
      "\u001b[1;31m---------------------------------------------------------------------------\u001b[0m",
      "\u001b[1;31mIndexError\u001b[0m                                Traceback (most recent call last)",
      "Cell \u001b[1;32mIn[5], line 2\u001b[0m\n\u001b[0;32m      1\u001b[0m a \u001b[38;5;241m=\u001b[39m [\u001b[38;5;241m1\u001b[39m, \u001b[38;5;241m2\u001b[39m, \u001b[38;5;241m3\u001b[39m]\n\u001b[1;32m----> 2\u001b[0m \u001b[43ma\u001b[49m\u001b[43m[\u001b[49m\u001b[38;5;241;43m3\u001b[39;49m\u001b[43m]\u001b[49m\n",
      "\u001b[1;31mIndexError\u001b[0m: list index out of range"
     ]
    }
   ],
   "source": [
    "a = [1, 2, 3]\n",
    "a[3]"
   ]
  },
  {
   "cell_type": "markdown",
   "id": "c2f8168e",
   "metadata": {},
   "source": [
    "# 2절 try~except로 예외처리\n",
    "## 2.1 try~except\n",
    "```\n",
    "try:\n",
    "    예외가 발생할 가능성이 있는 명령어들.\n",
    "except:\n",
    "    예외가 발생했을 경우 실행할 명령어들\n",
    "```"
   ]
  },
  {
   "cell_type": "code",
   "execution_count": 8,
   "id": "7b40c4d1",
   "metadata": {},
   "outputs": [
    {
     "name": "stdout",
     "output_type": "stream",
     "text": [
      "정수를 입력하세요 :3215\n",
      "입력한 정수는 3215\n",
      "100을 입력한 정수로 나누면 0.03\n"
     ]
    }
   ],
   "source": [
    "# 100을 입력받은 정수값으로 나눠 출력\n",
    "try:\n",
    "    x = int(input('정수를 입력하세요 :'))\n",
    "    print('입력한 정수는 {}'.format(x))\n",
    "    print('100을 입력한 정수로 나누면 {:.2f}'.format(100/x))\n",
    "except:\n",
    "    print('유효한 정수가 아닙니다')"
   ]
  },
  {
   "cell_type": "code",
   "execution_count": 9,
   "id": "62223ebe",
   "metadata": {},
   "outputs": [
    {
     "name": "stdout",
     "output_type": "stream",
     "text": [
      "100을 나눌 정수는 ?ㅁ\n",
      "유효한 정수가 아닙니다. 다시 입력해주세요\n",
      "100을 나눌 정수는 ?ㅁ\n",
      "유효한 정수가 아닙니다. 다시 입력해주세요\n",
      "100을 나눌 정수는 ?ㅇ\n",
      "유효한 정수가 아닙니다. 다시 입력해주세요\n",
      "100을 나눌 정수는 ?1\n",
      "입력한 정수는 1입니다\n",
      "입력한 수를 100으로 나누면 100.00\n"
     ]
    }
   ],
   "source": [
    "# 100을 나눌 유효한 정수를 입력할 때까지 입력받아\n",
    "# 유요한 정수를 입력하면 입력한 정수와 100을 입력한 수로 나눈 결과를 출력\n",
    "while True:\n",
    "    try:\n",
    "        x = int(input('100을 나눌 정수는 ?'))\n",
    "        print('입력한 정수는 {}입니다'.format(x))\n",
    "        print('입력한 수를 100으로 나누면 {:.2f}'.format(100/x))\n",
    "        break\n",
    "    except:\n",
    "        print('유효한 정수가 아닙니다. 다시 입력해주세요')"
   ]
  },
  {
   "cell_type": "markdown",
   "id": "8f0e6054",
   "metadata": {},
   "source": [
    "## 2.2 예외를 지정한 처리\n",
    "```\n",
    "try:\n",
    "    예외가 발생할 수도 있는 문장들\n",
    "except 예외 타입1:\n",
    "    해당 예외가 발생할 경우 실행할 문장\n",
    "except 예외 타입2:\n",
    "    해당 예외가 발생할 경우 실행할 문장\n",
    "... 예외 타입은 몇개든 추가할수있음!\n",
    "```"
   ]
  },
  {
   "cell_type": "code",
   "execution_count": 13,
   "id": "93ea013c",
   "metadata": {},
   "outputs": [
    {
     "name": "stdout",
     "output_type": "stream",
     "text": [
      "100을 나눌 정수는 ?0.1\n",
      "정수가 아닙니다. 다시 입력해주세요\n",
      "100을 나눌 정수는 ?0.7\n",
      "정수가 아닙니다. 다시 입력해주세요\n",
      "100을 나눌 정수는 ?ㅁ\n",
      "정수가 아닙니다. 다시 입력해주세요\n",
      "100을 나눌 정수는 ?뀨\n",
      "정수가 아닙니다. 다시 입력해주세요\n",
      "100을 나눌 정수는 ?128024\n",
      "입력한 정수는 128024입니다\n",
      "입력한 수를 100으로 나누면 0.00\n"
     ]
    }
   ],
   "source": [
    "while True:\n",
    "    try:\n",
    "        x = int(input('100을 나눌 정수는 ?'))\n",
    "        print('입력한 정수는 {}입니다'.format(x))\n",
    "        print('입력한 수를 100으로 나누면 {:.2f}'.format(100/x))\n",
    "        break\n",
    "    except ValueError:\n",
    "        print('정수가 아닙니다. 다시 입력해주세요')\n",
    "    except ZeroDivisionError:\n",
    "        print('0으로 나눌 수 없습니다. 다시 입력해주세요')\n",
    "    except Exception: # 그외 모든 예외\n",
    "        print('다시 시도 하세요')"
   ]
  },
  {
   "cell_type": "code",
   "execution_count": 14,
   "id": "bd5e8927",
   "metadata": {},
   "outputs": [
    {
     "name": "stdout",
     "output_type": "stream",
     "text": [
      "100을 나눌 정수는 ?0\n",
      "입력한 정수는 0입니다\n",
      "정수가 아닙니다. 다시 입력해주세요\n",
      "100을 나눌 정수는 ?ㅁ\n",
      "정수가 아닙니다. 다시 입력해주세요\n",
      "100을 나눌 정수는 ?143\n",
      "입력한 정수는 143입니다\n",
      "입력한 수를 100으로 나누면 0.70\n"
     ]
    }
   ],
   "source": [
    "while True:\n",
    "    try:\n",
    "        x = int(input('100을 나눌 정수는 ?'))\n",
    "        print('입력한 정수는 {}입니다'.format(x))\n",
    "        print('입력한 수를 100으로 나누면 {:.2f}'.format(100/x))\n",
    "        break\n",
    "    except (ValueError, ZeroDivisionError):\n",
    "        print('정수가 아닙니다. 다시 입력해주세요')\n",
    "    except Exception: # 그외 모든 예외\n",
    "        print('다시 시도 하세요')"
   ]
  },
  {
   "cell_type": "markdown",
   "id": "6ad0aac4",
   "metadata": {},
   "source": [
    "## 예외인수(e)\n",
    "```\n",
    "try{\n",
    "    예외가 발생할 수도 있는 문장;\n",
    "}catch(예외타입 e){\n",
    "    sysout(e.getMessage());\n",
    "}\n",
    "try:\n",
    "    예외가 발생할 수도 있는 문장\n",
    "except 예외 타입 as e:\n",
    "    print(e)\n",
    "    print(e.args[0])\n",
    "```"
   ]
  },
  {
   "cell_type": "code",
   "execution_count": 15,
   "id": "ede9b40d",
   "metadata": {},
   "outputs": [
    {
     "name": "stdout",
     "output_type": "stream",
     "text": [
      "100을 나눌 정수는 ?0\n",
      "입력한 정수는 0입니다\n",
      "division by zero\n",
      "100을 나눌 정수는 ?a\n",
      "invalid literal for int() with base 10: 'a'\n",
      "100을 나눌 정수는 ?ㅁ\n",
      "invalid literal for int() with base 10: 'ㅁ'\n",
      "100을 나눌 정수는 ?141\n",
      "입력한 정수는 141입니다\n",
      "입력한 수를 100으로 나누면 0.71\n"
     ]
    }
   ],
   "source": [
    "while True:\n",
    "    try:\n",
    "        x = int(input('100을 나눌 정수는 ?'))\n",
    "        print('입력한 정수는 {}입니다'.format(x))\n",
    "        print('입력한 수를 100으로 나누면 {:.2f}'.format(100/x))\n",
    "        break\n",
    "    except (ValueError, ZeroDivisionError) as e:\n",
    "        print(e)\n",
    "        print(e.args)\n",
    "        print(type(e))\n",
    "    except Exception: # 그외 모든 예외\n",
    "        print('다시 시도 하세요')"
   ]
  },
  {
   "cell_type": "code",
   "execution_count": 17,
   "id": "a49875d8",
   "metadata": {},
   "outputs": [
    {
     "name": "stdout",
     "output_type": "stream",
     "text": [
      "list index out of range\n"
     ]
    }
   ],
   "source": [
    "try:\n",
    "    a = [1, 2, 3]\n",
    "    a[3]\n",
    "except IndexError as e:\n",
    "    print(e)"
   ]
  },
  {
   "cell_type": "code",
   "execution_count": null,
   "id": "0987f0d5",
   "metadata": {},
   "outputs": [],
   "source": [
    "'''\n",
    "try:\n",
    "    ~\n",
    "except [예외타입 [as e]]:\n",
    "    ~\n",
    "[else]\n",
    "finally:\n",
    "    ~\n",
    "try절을 수행하다가 예외가 발생되면 except 블록 실행하고 finally 블록 수행\n",
    "try절을 수행하다가 예외가 발생안되면, else절을 수행하고 finally블록 수행\n",
    "'''"
   ]
  },
  {
   "cell_type": "code",
   "execution_count": 20,
   "id": "9e340e28",
   "metadata": {},
   "outputs": [
    {
     "name": "stdout",
     "output_type": "stream",
     "text": [
      "Hello\n"
     ]
    }
   ],
   "source": [
    "try:\n",
    "    f = open('data/ch08.txt', 'r')\n",
    "    data = f.read()\n",
    "    print(data)\n",
    "except FileNotFoundError as e:\n",
    "    print('해당 파일이 없습니다.')\n",
    "finally:\n",
    "    f.close()"
   ]
  },
  {
   "cell_type": "code",
   "execution_count": 1,
   "id": "593835a9",
   "metadata": {},
   "outputs": [
    {
     "name": "stdout",
     "output_type": "stream",
     "text": [
      "Hello\n",
      "\n"
     ]
    }
   ],
   "source": [
    "try:\n",
    "    f = open('data/ch08.txt', 'r')\n",
    "    data = f.read()\n",
    "    print(data)\n",
    "except FileNotFoundError as e:\n",
    "    print('해당 파일이 없습니다.')\n",
    "    print(e)\n",
    "else:\n",
    "    data = f.read()\n",
    "    print(data)\n",
    "finally:\n",
    "    f.close()"
   ]
  },
  {
   "cell_type": "markdown",
   "id": "661a9422",
   "metadata": {},
   "source": [
    "# 3절. raise\n",
    "- 강제 예외 발생"
   ]
  },
  {
   "cell_type": "code",
   "execution_count": 2,
   "id": "09a6d9ae",
   "metadata": {},
   "outputs": [
    {
     "ename": "NameError",
     "evalue": "예외가 발생했어요",
     "output_type": "error",
     "traceback": [
      "\u001b[1;31m---------------------------------------------------------------------------\u001b[0m",
      "\u001b[1;31mNameError\u001b[0m                                 Traceback (most recent call last)",
      "Cell \u001b[1;32mIn[2], line 1\u001b[0m\n\u001b[1;32m----> 1\u001b[0m \u001b[38;5;28;01mraise\u001b[39;00m \u001b[38;5;167;01mNameError\u001b[39;00m(\u001b[38;5;124m'\u001b[39m\u001b[38;5;124m예외가 발생했어요\u001b[39m\u001b[38;5;124m'\u001b[39m)\n",
      "\u001b[1;31mNameError\u001b[0m: 예외가 발생했어요"
     ]
    }
   ],
   "source": [
    "raise NameError('예외가 발생했어요')"
   ]
  },
  {
   "cell_type": "code",
   "execution_count": 8,
   "id": "5b975364",
   "metadata": {},
   "outputs": [],
   "source": [
    "# 사용자 정의 예외 : Exception 클래스 또는 그 하위 클래스를 상속받아 구현\n",
    "class LengthZeroError(Exception):\n",
    "    '''\n",
    "    길이가 0일때 발생하는 예외\n",
    "    '''\n",
    "#     pass\n",
    "    def __init__(self, message):\n",
    "        super().__init__(message) # 상위 클래스의 생성자에서 예외 메세지 셋팅"
   ]
  },
  {
   "cell_type": "code",
   "execution_count": 12,
   "id": "b24a3b24",
   "metadata": {},
   "outputs": [],
   "source": [
    "def insert(*data): #튜플 매개변수\n",
    "    if len(data)==0:\n",
    "        raise LengthZeroError('매개변수 길이가 0이면 예외에용~')\n",
    "    for item in data:\n",
    "        print(item, end=' ')\n",
    "    print('등을 입력하셨습니다.')"
   ]
  },
  {
   "cell_type": "code",
   "execution_count": 13,
   "id": "40611700",
   "metadata": {},
   "outputs": [
    {
     "name": "stdout",
     "output_type": "stream",
     "text": [
      "매개변수 길이가 0이면 예외에용~\n",
      "무조건 실행\n"
     ]
    }
   ],
   "source": [
    "data = ()\n",
    "try:\n",
    "    insert(*data) # 튜플이나 리스트 언패킹\n",
    "except LengthZeroError as e:\n",
    "    print(e)\n",
    "else:\n",
    "    print('정상실행')\n",
    "finally:\n",
    "    print('무조건 실행')"
   ]
  },
  {
   "cell_type": "code",
   "execution_count": null,
   "id": "0366a1ae",
   "metadata": {},
   "outputs": [],
   "source": [
    "insert(1,2,3,4)"
   ]
  },
  {
   "cell_type": "markdown",
   "id": "809b03aa",
   "metadata": {},
   "source": [
    "# 4절. 추상클래스\n",
    "- python은 추상클래스를 생성할 수 없으나, raise를 이용해서 추상클래스를 흉내냄\n",
    "-추상클래스 : 추상메소드가 1개 이상 포함된 객체를 생성할 수 없는 클래스\n",
    "-            추상메소드는 상속받은 클래스에서 구현해야 함"
   ]
  },
  {
   "cell_type": "code",
   "execution_count": 14,
   "id": "ffc1397b",
   "metadata": {},
   "outputs": [],
   "source": [
    "class Shape:\n",
    "    def __init__(self):\n",
    "        raise NotImplementedError('추상클래스 역할')\n",
    "    def calc_area(self):\n",
    "        raise NotImplementedError('추상 메소드 역할')"
   ]
  },
  {
   "cell_type": "code",
   "execution_count": null,
   "id": "e64b793c",
   "metadata": {},
   "outputs": [],
   "source": [
    "s = Shape()"
   ]
  },
  {
   "cell_type": "code",
   "execution_count": 15,
   "id": "0ae40a3c",
   "metadata": {},
   "outputs": [],
   "source": [
    "import numpy as np # numpy 라는 패키지를 np라는 이름으로 메모리로드"
   ]
  },
  {
   "cell_type": "code",
   "execution_count": 16,
   "id": "cfcda771",
   "metadata": {},
   "outputs": [],
   "source": [
    "class Circle(Shape):\n",
    "    def __init__(self, radius=3):\n",
    "        self.radius = radius\n",
    "    def calc_area(self):\n",
    "        '원의 넓이를 return하는 함수'\n",
    "        return np.pi * (self.radius ** 2)"
   ]
  },
  {
   "cell_type": "code",
   "execution_count": 19,
   "id": "68227ed2",
   "metadata": {},
   "outputs": [
    {
     "data": {
      "text/plain": [
       "78.53981633974483"
      ]
     },
     "execution_count": 19,
     "metadata": {},
     "output_type": "execute_result"
    }
   ],
   "source": [
    "myCircle = Circle(5)\n",
    "myCircle.calc_area()"
   ]
  },
  {
   "cell_type": "markdown",
   "id": "c4f8ddec",
   "metadata": {},
   "source": [
    "# 5절. 파일 정리 작업"
   ]
  },
  {
   "cell_type": "code",
   "execution_count": 21,
   "id": "d706f9d7",
   "metadata": {},
   "outputs": [
    {
     "name": "stdout",
     "output_type": "stream",
     "text": [
      "['Hello\\n', 'World']\n"
     ]
    }
   ],
   "source": [
    "try:\n",
    "    f = open('data/ch08.txt', 'r')\n",
    "    lines = f.readlines() # 한줄한줄 모든 줄에 한꺼번에 읽어 list로 return\n",
    "    print(lines)\n",
    "except FileNotFoundError as e:\n",
    "    print(e)\n",
    "finally:\n",
    "    f.close() # 제일 중요합니다!!!!"
   ]
  },
  {
   "cell_type": "code",
   "execution_count": 22,
   "id": "ab58ae79",
   "metadata": {},
   "outputs": [],
   "source": [
    "# with절 이후에는 자동적으로 close()실행"
   ]
  },
  {
   "cell_type": "code",
   "execution_count": 23,
   "id": "dcd17a02",
   "metadata": {},
   "outputs": [
    {
     "name": "stdout",
     "output_type": "stream",
     "text": [
      "['Hello\\n', 'World']\n"
     ]
    }
   ],
   "source": [
    "with open('data/ch08.txt') as f:\n",
    "    linse = f.readlines()\n",
    "print(linse)"
   ]
  },
  {
   "cell_type": "code",
   "execution_count": 25,
   "id": "91900ccb",
   "metadata": {},
   "outputs": [
    {
     "name": "stdout",
     "output_type": "stream",
     "text": [
      "['Hello\\n', 'World']\n"
     ]
    }
   ],
   "source": [
    "try:\n",
    "    with open('data/ch08.txt','r') as f:\n",
    "        linse = f.readlines()\n",
    "except FileNotFoundError as e:\n",
    "    print(e)\n",
    "print(linse)\n",
    "    "
   ]
  },
  {
   "cell_type": "markdown",
   "id": "bc8a7acd",
   "metadata": {},
   "source": [
    "# 6절. 연습문제"
   ]
  },
  {
   "cell_type": "markdown",
   "id": "084fe813",
   "metadata": {},
   "source": [
    "## 실습형"
   ]
  },
  {
   "cell_type": "code",
   "execution_count": 29,
   "id": "0db6d3b6",
   "metadata": {},
   "outputs": [
    {
     "name": "stdout",
     "output_type": "stream",
     "text": [
      "첫 번째 숫자를 입력하세요 :hello\n",
      "유효한 숫자가 아닙니다 다시 시도하세요\n",
      "첫 번째 숫자를 입력하세요 :10\n",
      "두 번째 숫자를 입력하세요 :0\n",
      "입력한 수는 10.0와 0.0입니다\n",
      "유효한 숫자가 아닙니다 다시 시도하세요\n",
      "첫 번째 숫자를 입력하세요 :3.5\n",
      "두 번째 숫자를 입력하세요 :2\n",
      "입력한 수는 3.5와 2.0입니다\n",
      "3.5을 2.0로 나누면 1.75 입니다\n"
     ]
    }
   ],
   "source": [
    "while True:\n",
    "    try:\n",
    "        x = float(input('첫 번째 숫자를 입력하세요 :'))\n",
    "        y = float(input('두 번째 숫자를 입력하세요 :'))\n",
    "        print('입력한 수는 {}와 {}입니다'.format(x,y))\n",
    "        print('{:.1f}을 {:.1f}로 나누면 {} 입니다'.format(x,y, x/y))\n",
    "        break\n",
    "    except :\n",
    "        print('유효한 숫자가 아닙니다 다시 시도하세요')"
   ]
  },
  {
   "cell_type": "code",
   "execution_count": 28,
   "id": "f57841ac",
   "metadata": {},
   "outputs": [
    {
     "name": "stdout",
     "output_type": "stream",
     "text": [
      "첫 번째 숫자를 입력하세요 :abc\n",
      "유효한 숫자가 아닙니다 다시 시도하세요\n",
      "첫 번째 숫자를 입력하세요 :10\n",
      "두 번째 숫자를 입력하세요 :0\n",
      "입력한 수는 10.0와 0.0입니다\n",
      "0으로 나눌 수 없습니다. 다시시도하세요\n",
      "첫 번째 숫자를 입력하세요 :5\n",
      "두 번째 숫자를 입력하세요 :3\n",
      "입력한 수는 5.0와 3.0입니다\n",
      "5.0을 3.0로 나누면 1.6666666666666667 입니다\n"
     ]
    }
   ],
   "source": [
    "while True:\n",
    "    try:\n",
    "        x = float(input('첫 번째 숫자를 입력하세요 :'))\n",
    "        y = float(input('두 번째 숫자를 입력하세요 :'))\n",
    "        print('입력한 수는 {}와 {}입니다'.format(x,y))\n",
    "        print('{:.1f}을 {:.1f}로 나누면 {} 입니다'.format(x,y, x/y))\n",
    "        break\n",
    "    except ValueError:\n",
    "        print('유효한 숫자가 아닙니다 다시 시도하세요')\n",
    "    except ZeroDivisionError:\n",
    "        print('0으로 나눌 수 없습니다. 다시시도하세요')"
   ]
  },
  {
   "cell_type": "markdown",
   "id": "ac7043cc",
   "metadata": {},
   "source": [
    "## 문제풀이형"
   ]
  },
  {
   "cell_type": "code",
   "execution_count": null,
   "id": "62c5abe6",
   "metadata": {},
   "outputs": [],
   "source": [
    "# 1 = 3\n",
    "# 2 = 2\n",
    "# 3 = 4\n",
    "# 4 = 2"
   ]
  },
  {
   "cell_type": "code",
   "execution_count": null,
   "id": "88a7c1f7",
   "metadata": {},
   "outputs": [],
   "source": []
  },
  {
   "cell_type": "code",
   "execution_count": null,
   "id": "a6b29694",
   "metadata": {},
   "outputs": [],
   "source": []
  },
  {
   "cell_type": "code",
   "execution_count": null,
   "id": "a312631c",
   "metadata": {},
   "outputs": [],
   "source": []
  },
  {
   "cell_type": "code",
   "execution_count": null,
   "id": "dca91ad4",
   "metadata": {},
   "outputs": [],
   "source": []
  },
  {
   "cell_type": "code",
   "execution_count": null,
   "id": "e22ed908",
   "metadata": {},
   "outputs": [],
   "source": []
  },
  {
   "cell_type": "code",
   "execution_count": null,
   "id": "13790834",
   "metadata": {},
   "outputs": [],
   "source": []
  },
  {
   "cell_type": "code",
   "execution_count": null,
   "id": "9b0d5ddd",
   "metadata": {},
   "outputs": [],
   "source": []
  },
  {
   "cell_type": "code",
   "execution_count": null,
   "id": "a5f3ff19",
   "metadata": {},
   "outputs": [],
   "source": []
  },
  {
   "cell_type": "code",
   "execution_count": null,
   "id": "c5a6b9e6",
   "metadata": {},
   "outputs": [],
   "source": []
  },
  {
   "cell_type": "code",
   "execution_count": null,
   "id": "7ea79147",
   "metadata": {},
   "outputs": [],
   "source": []
  },
  {
   "cell_type": "code",
   "execution_count": null,
   "id": "b9dd389f",
   "metadata": {},
   "outputs": [],
   "source": []
  },
  {
   "cell_type": "code",
   "execution_count": null,
   "id": "1bfc4fac",
   "metadata": {},
   "outputs": [],
   "source": []
  },
  {
   "cell_type": "code",
   "execution_count": null,
   "id": "6b35ff97",
   "metadata": {},
   "outputs": [],
   "source": []
  },
  {
   "cell_type": "code",
   "execution_count": null,
   "id": "11b8702b",
   "metadata": {},
   "outputs": [],
   "source": []
  },
  {
   "cell_type": "code",
   "execution_count": null,
   "id": "c1ca0c73",
   "metadata": {},
   "outputs": [],
   "source": []
  },
  {
   "cell_type": "code",
   "execution_count": null,
   "id": "68ea8c6c",
   "metadata": {},
   "outputs": [],
   "source": []
  },
  {
   "cell_type": "code",
   "execution_count": null,
   "id": "345239ba",
   "metadata": {},
   "outputs": [],
   "source": []
  },
  {
   "cell_type": "code",
   "execution_count": null,
   "id": "bef46ff8",
   "metadata": {},
   "outputs": [],
   "source": []
  },
  {
   "cell_type": "code",
   "execution_count": null,
   "id": "7ec3d3c3",
   "metadata": {},
   "outputs": [],
   "source": []
  },
  {
   "cell_type": "code",
   "execution_count": null,
   "id": "cb93b045",
   "metadata": {},
   "outputs": [],
   "source": []
  },
  {
   "cell_type": "code",
   "execution_count": null,
   "id": "d373ae9e",
   "metadata": {},
   "outputs": [],
   "source": []
  },
  {
   "cell_type": "code",
   "execution_count": null,
   "id": "2a6aedfa",
   "metadata": {},
   "outputs": [],
   "source": []
  }
 ],
 "metadata": {
  "kernelspec": {
   "display_name": "Python 3 (ipykernel)",
   "language": "python",
   "name": "python3"
  },
  "language_info": {
   "codemirror_mode": {
    "name": "ipython",
    "version": 3
   },
   "file_extension": ".py",
   "mimetype": "text/x-python",
   "name": "python",
   "nbconvert_exporter": "python",
   "pygments_lexer": "ipython3",
   "version": "3.10.9"
  },
  "toc": {
   "base_numbering": 1,
   "nav_menu": {},
   "number_sections": true,
   "sideBar": true,
   "skip_h1_title": false,
   "title_cell": "Table of Contents",
   "title_sidebar": "Contents",
   "toc_cell": false,
   "toc_position": {},
   "toc_section_display": true,
   "toc_window_display": true
  }
 },
 "nbformat": 4,
 "nbformat_minor": 5
}
