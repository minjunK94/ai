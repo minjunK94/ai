{
 "cells": [
  {
   "cell_type": "markdown",
   "id": "5e03cfc4",
   "metadata": {},
   "source": [
    "<b><font color='red' size='6'>ch10. 데이터 베이스 연동</font><b>"
   ]
  },
  {
   "cell_type": "markdown",
   "id": "b739e9d9",
   "metadata": {},
   "source": [
    "# 1절. SQLite 데이터 베이스 연결\n",
    "- SQLite 데이터 베이스는 별도의 DBMS없이 SQL을 이용하여 DB엑세스 할 수 있도록 만든 간단한 디스크 기반의 DB 제공\n",
    "- C 라이브러리\n",
    "- SQLite는 프로토타입 을 만들 때 사용\n",
    "- 프로젝트 단계 : 분석 → 설계 → 구현 → 테스트 → 고객에게 배포 → 유지보수단계\n",
    "-              프로토타입(SQLite) 시제품   완제품(Oracle, MySql, Maria, ...)\n",
    "- \n",
    "- [DB browser for SQLite](https://sqlitebrowser.org/dl/)\n",
    "## 1.1 SQLite boswer 설치 및 sqlite3 패키지 load"
   ]
  },
  {
   "cell_type": "code",
   "execution_count": 2,
   "id": "6b8d3e6f",
   "metadata": {},
   "outputs": [
    {
     "data": {
      "text/plain": [
       "'3.40.1'"
      ]
     },
     "execution_count": 2,
     "metadata": {},
     "output_type": "execute_result"
    }
   ],
   "source": [
    "import sqlite3\n",
    "sqlite3.sqlite_version # sqlite3 패키지의 버전 확인"
   ]
  },
  {
   "cell_type": "code",
   "execution_count": 2,
   "id": "79f97825",
   "metadata": {},
   "outputs": [
    {
     "data": {
      "text/plain": [
       "'1.5.3'"
      ]
     },
     "execution_count": 2,
     "metadata": {},
     "output_type": "execute_result"
    }
   ],
   "source": [
    "import pandas as pd\n",
    "pd.__version__ # 다른 패키지 버전 확인 하는 방법"
   ]
  },
  {
   "cell_type": "code",
   "execution_count": 3,
   "id": "86543e99",
   "metadata": {},
   "outputs": [
    {
     "data": {
      "text/plain": [
       "'1.23.5'"
      ]
     },
     "execution_count": 3,
     "metadata": {},
     "output_type": "execute_result"
    }
   ],
   "source": [
    "import numpy as np\n",
    "np.__version__"
   ]
  },
  {
   "cell_type": "markdown",
   "id": "f4d6b819",
   "metadata": {},
   "source": [
    "## 1.2 데이터베이스 생성 및 연결\n",
    "- SQLite로 DB 연결시, DB파일이 있으면 연결 되고 , DB 파일이 없으면 빈DB 파일 생성됨"
   ]
  },
  {
   "cell_type": "code",
   "execution_count": 3,
   "id": "5850f916",
   "metadata": {},
   "outputs": [
    {
     "data": {
      "text/plain": [
       "<sqlite3.Connection at 0x2336f9ccc40>"
      ]
     },
     "execution_count": 3,
     "metadata": {},
     "output_type": "execute_result"
    }
   ],
   "source": [
    "# DB 연결\n",
    "conn = sqlite3.connect('data/ch10_data.db')\n",
    "conn"
   ]
  },
  {
   "cell_type": "code",
   "execution_count": 6,
   "id": "af40f887",
   "metadata": {},
   "outputs": [
    {
     "data": {
      "text/plain": [
       "<sqlite3.Cursor at 0x250a2fcfa40>"
      ]
     },
     "execution_count": 6,
     "metadata": {},
     "output_type": "execute_result"
    }
   ],
   "source": [
    "# 커서 객체 생성 : 커서는 SQl문 실행시키고, 결과 데이터를 조회하는데 사용하는 객체\n",
    "cursor = conn.cursor()\n",
    "cursor"
   ]
  },
  {
   "cell_type": "code",
   "execution_count": 7,
   "id": "37ee7ce2",
   "metadata": {},
   "outputs": [
    {
     "data": {
      "text/plain": [
       "<sqlite3.Cursor at 0x1f194fad0c0>"
      ]
     },
     "execution_count": 7,
     "metadata": {},
     "output_type": "execute_result"
    }
   ],
   "source": [
    "cursor.execute('''\n",
    "    CREATE TABLE MEMBER(\n",
    "        NAME TEXT,\n",
    "        AGE INT,\n",
    "        EMAIL TEXT\n",
    "    )\n",
    "''')"
   ]
  },
  {
   "cell_type": "code",
   "execution_count": 8,
   "id": "d80233fd",
   "metadata": {},
   "outputs": [
    {
     "data": {
      "text/plain": [
       "<sqlite3.Cursor at 0x1f194fad0c0>"
      ]
     },
     "execution_count": 8,
     "metadata": {},
     "output_type": "execute_result"
    }
   ],
   "source": [
    "cursor.execute('DROP TABLE MEMBER')"
   ]
  },
  {
   "cell_type": "code",
   "execution_count": 9,
   "id": "a189b449",
   "metadata": {},
   "outputs": [
    {
     "data": {
      "text/plain": [
       "<sqlite3.Cursor at 0x1f194fad0c0>"
      ]
     },
     "execution_count": 9,
     "metadata": {},
     "output_type": "execute_result"
    }
   ],
   "source": [
    "cursor.execute('''\n",
    "    CREATE TABLE MEMBER(\n",
    "        NAME TEXT,\n",
    "        AGE INT,\n",
    "        EMAIL TEXT\n",
    "    )\n",
    "''')"
   ]
  },
  {
   "cell_type": "code",
   "execution_count": 8,
   "id": "190d1a03",
   "metadata": {},
   "outputs": [
    {
     "name": "stdout",
     "output_type": "stream",
     "text": [
      "수행 결과 행수 : 1\n",
      "수행  결과 행수 : 1\n"
     ]
    }
   ],
   "source": [
    "cursor.execute('INSERT INTO MEMBER VALUES (\\'홍길동\\', 20, \\'h@h.com\\')')\n",
    "print('수행 결과 행수 :', cursor.rowcount)\n",
    "sql = \"INSERT INTO MEMBER VALUES ('신길동', 25, 'S@S.COM')\"\n",
    "cursor.execute(sql)\n",
    "print('수행 결과 행수 :', cursor.rowcount)\n",
    "cursor.execute('INSERT INTO MEMBER VALUES (\\'신림동\\', 30, \\'s@h.com\\')')\n",
    "print('수행 결과 행수 :', cursor.rowcount)"
   ]
  },
  {
   "cell_type": "code",
   "execution_count": 9,
   "id": "8dae78b5",
   "metadata": {},
   "outputs": [],
   "source": [
    "conn.commit() # 反. conn.rollback() DML문에서만 commit"
   ]
  },
  {
   "cell_type": "code",
   "execution_count": 10,
   "id": "0582ff51",
   "metadata": {},
   "outputs": [
    {
     "data": {
      "text/plain": [
       "<sqlite3.Cursor at 0x250a2fcfa40>"
      ]
     },
     "execution_count": 10,
     "metadata": {},
     "output_type": "execute_result"
    }
   ],
   "source": [
    "# SQL 전송 결과는 cursor가 가리킴\n",
    "cursor.execute(\"SELECT * FROM MEMBER ORDER BY NAME\")"
   ]
  },
  {
   "cell_type": "code",
   "execution_count": 11,
   "id": "1c4ce45e",
   "metadata": {},
   "outputs": [
    {
     "name": "stdout",
     "output_type": "stream",
     "text": [
      "[('신길동', 25, 'S@S.COM'), ('신림동', 30, 's@h.com'), ('홍길동', 20, 'h@h.com')]\n"
     ]
    }
   ],
   "source": [
    "# insert, update, delete 실행 결과는 : cursor.rowcount 에 들어가지만\n",
    "# select 문 실행 결과를 받는 함수 들\n",
    "    ## fetchone() : 결과를 한행씩 받을 때 (튜플)\n",
    "    ## getchall() : 결과를 모두 받을 때 (튜플 list)\n",
    "    ## fetchmany(n) : 결과를 n행 받을 때 (튜플 list)\n",
    "print(cursor.fetchall())"
   ]
  },
  {
   "cell_type": "code",
   "execution_count": 12,
   "id": "d6b9ef34",
   "metadata": {},
   "outputs": [
    {
     "name": "stdout",
     "output_type": "stream",
     "text": [
      "[]\n"
     ]
    }
   ],
   "source": [
    "print(cursor.fetchall()) # 한번 소요된 cursor 객체는 다시 fetch 할 수 없음"
   ]
  },
  {
   "cell_type": "code",
   "execution_count": 14,
   "id": "a2ca2fe3",
   "metadata": {},
   "outputs": [
    {
     "data": {
      "text/plain": [
       "[('홍길동', 20, 'h@h.com'), ('신길동', 25, 'S@S.COM'), ('신림동', 30, 's@h.com')]"
      ]
     },
     "execution_count": 14,
     "metadata": {},
     "output_type": "execute_result"
    }
   ],
   "source": [
    "cursor.execute(\"SELECT * FROM MEMBER ORDER BY AGE\")\n",
    "members = cursor.fetchall()\n",
    "members # 튜플 리스트"
   ]
  },
  {
   "cell_type": "code",
   "execution_count": 16,
   "id": "0cae489d",
   "metadata": {},
   "outputs": [
    {
     "name": "stdout",
     "output_type": "stream",
     "text": [
      "('홍길동', 20, 'h@h.com')\n",
      "('신길동', 25, 'S@S.COM')\n",
      "('신림동', 30, 's@h.com')\n"
     ]
    }
   ],
   "source": [
    "for member in members:\n",
    "    print(member)"
   ]
  },
  {
   "cell_type": "code",
   "execution_count": 17,
   "id": "5143c621",
   "metadata": {},
   "outputs": [],
   "source": [
    "# 한줄씩 읽기\n",
    "cursor.execute(\"SELECT * FROM MEMBER ORDER BY AGE\")\n",
    "member_list = []\n",
    "while True:\n",
    "    member = cursor.fetchone() # 한줄 SQL문 수행 결과 한 줄 가져오기\n",
    "    if member is None:\n",
    "        break\n",
    "    member_list.append( {'name':member[0],\n",
    "                        'age':member[1],\n",
    "                        'email':member[2]})"
   ]
  },
  {
   "cell_type": "code",
   "execution_count": 18,
   "id": "24e7de43",
   "metadata": {},
   "outputs": [
    {
     "data": {
      "text/plain": [
       "[{'name': '홍길동', 'age': 20, 'email': 'h@h.com'},\n",
       " {'name': '신길동', 'age': 25, 'email': 'S@S.COM'},\n",
       " {'name': '신림동', 'age': 30, 'email': 's@h.com'}]"
      ]
     },
     "execution_count": 18,
     "metadata": {},
     "output_type": "execute_result"
    }
   ],
   "source": [
    "member_list"
   ]
  },
  {
   "cell_type": "code",
   "execution_count": 20,
   "id": "966f41d8",
   "metadata": {},
   "outputs": [
    {
     "name": "stdout",
     "output_type": "stream",
     "text": [
      "('홍길동', 20, 'h@h.com')\n",
      "('신길동', 25, 'S@S.COM')\n",
      "('신림동', 30, 's@h.com')\n"
     ]
    }
   ],
   "source": [
    "# 최상위 n행 가져오기\n",
    "cursor.execute(\"SELECT * FROM MEMBER ORDER BY AGE\")\n",
    "for member in cursor.fetchmany(10):\n",
    "    print(member)"
   ]
  },
  {
   "cell_type": "code",
   "execution_count": 21,
   "id": "5170f470",
   "metadata": {},
   "outputs": [],
   "source": [
    "class Member:\n",
    "    'Member 테이블의 내용을 받을 객체 타입'\n",
    "    def __init__(self, name, age, email):\n",
    "        self.name = name\n",
    "        self.age = age\n",
    "        self.email = email\n",
    "    def as_dic(self): # insert문 전송시 필요\n",
    "        return {'name':self.name,\n",
    "               'age':self.age,\n",
    "               'email':self.email}\n",
    "    def __str__(self):\n",
    "        return \"{}\\t{}\\t{}\".format(self.name, self.age, self.email)\n",
    "def to_member(*row): #튜플 데이러를 매개변수로 받아 Member형 객체로 return \n",
    "    return Member(row[0], row[1], row[2])"
   ]
  },
  {
   "cell_type": "code",
   "execution_count": 23,
   "id": "4d84b024",
   "metadata": {},
   "outputs": [
    {
     "name": "stdout",
     "output_type": "stream",
     "text": [
      "홍길동\t20\th@h.com\n",
      "{'name': '홍길동', 'age': 20, 'email': 'h@h.com'}\n"
     ]
    }
   ],
   "source": [
    "dbreadmember = ('홍길동', 20, 'h@h.com')\n",
    "m = to_member(*dbreadmember) # 튜플 언패킹\n",
    "print(m)\n",
    "print(m.as_dic())"
   ]
  },
  {
   "cell_type": "code",
   "execution_count": 25,
   "id": "2acf169a",
   "metadata": {},
   "outputs": [],
   "source": [
    "# DB 검색 결과를 객체 list로\n",
    "cursor.execute('SELECT * FROM MEMBER')\n",
    "member_list = [] # SQL문 수행 결과를 담을 객체 list\n",
    "members = cursor.fetchall() # 튜플 list\n",
    "# print(members)\n",
    "for member in members:\n",
    "    member_list.append(to_member(*member))"
   ]
  },
  {
   "cell_type": "code",
   "execution_count": 26,
   "id": "305c4c60",
   "metadata": {},
   "outputs": [
    {
     "data": {
      "text/plain": [
       "(tuple, __main__.Member)"
      ]
     },
     "execution_count": 26,
     "metadata": {},
     "output_type": "execute_result"
    }
   ],
   "source": [
    "type(members[0]), type(member_list[0])"
   ]
  },
  {
   "cell_type": "code",
   "execution_count": 27,
   "id": "68ee29a3",
   "metadata": {},
   "outputs": [
    {
     "name": "stdout",
     "output_type": "stream",
     "text": [
      "홍길동\t20\th@h.com\n",
      "신길동\t25\tS@S.COM\n",
      "신림동\t30\ts@h.com\n"
     ]
    }
   ],
   "source": [
    "for member in member_list:\n",
    "    print(member)"
   ]
  },
  {
   "cell_type": "code",
   "execution_count": 28,
   "id": "7524b816",
   "metadata": {},
   "outputs": [],
   "source": [
    "cursor.close() # cursor.close()는 생략 가능\n",
    "conn.close()"
   ]
  },
  {
   "cell_type": "markdown",
   "id": "d230550a",
   "metadata": {},
   "source": [
    "## 1.3 SQL구문에 파라미터 사용하기\n",
    "- qmark(DB에 따라 불가한 경우가 있음)\n",
    "- named(추천)"
   ]
  },
  {
   "cell_type": "code",
   "execution_count": 29,
   "id": "62b09263",
   "metadata": {},
   "outputs": [
    {
     "data": {
      "text/plain": [
       "[('홍길동', 20, 'h@h.com'), ('신길동', 25, 'S@S.COM')]"
      ]
     },
     "execution_count": 29,
     "metadata": {},
     "output_type": "execute_result"
    }
   ],
   "source": [
    "conn = sqlite3.connect('data/ch10_example.db')\n",
    "cursor = conn.cursor()\n",
    "cursor.execute(\"SELECT * FROM MEMBER WHERE NAME IN ('홍길동', '신길동')\")\n",
    "cursor.fetchall()"
   ]
  },
  {
   "cell_type": "code",
   "execution_count": 33,
   "id": "12b9ef42",
   "metadata": {},
   "outputs": [
    {
     "name": "stdout",
     "output_type": "stream",
     "text": [
      "검색할 이름1 :신림동\n",
      "검색할 이름2 :김길동\n"
     ]
    },
    {
     "data": {
      "text/plain": [
       "[('신림동', 30, 's@h.com')]"
      ]
     },
     "execution_count": 33,
     "metadata": {},
     "output_type": "execute_result"
    }
   ],
   "source": [
    "# SQL문에 파라미터 사용하기 : qmark 방법 이용\n",
    "name1 = input('검색할 이름1 :')\n",
    "name2 = input('검색할 이름2 :')\n",
    "names = [name1, name2]\n",
    "cursor.execute(\"SELECT * FROM MEMBER WHERE NAME IN (?,?)\", names)\n",
    "cursor.fetchall()"
   ]
  },
  {
   "cell_type": "code",
   "execution_count": 42,
   "id": "c1331c82",
   "metadata": {},
   "outputs": [
    {
     "name": "stdout",
     "output_type": "stream",
     "text": [
      "검색할 이름은 > 김\n",
      "검색 하신 이름 김 님의 데이터가 없습니다\n"
     ]
    }
   ],
   "source": [
    "# 파라미터 사용하기 : named 방법 이용\n",
    "name = input(\"검색할 이름은 > \")\n",
    "cursor.execute(\"SELECT * FROM MEMBER WHERE NAME=:name\", {'name':name})\n",
    "members= cursor.fetchall()\n",
    "if len(members):\n",
    "    print(members)\n",
    "else:\n",
    "    print(f\"검색 하신 이름 '{name}' 님의 데이터가 없습니다\")"
   ]
  },
  {
   "cell_type": "code",
   "execution_count": 44,
   "id": "ef9d172d",
   "metadata": {},
   "outputs": [
    {
     "name": "stdout",
     "output_type": "stream",
     "text": [
      "검색할 이름1 :김\n",
      "검색할 이름2 :홍길동\n"
     ]
    },
    {
     "data": {
      "text/plain": [
       "[('홍길동', 20, 'h@h.com')]"
      ]
     },
     "execution_count": 44,
     "metadata": {},
     "output_type": "execute_result"
    }
   ],
   "source": [
    "name1 = input('검색할 이름1 :')\n",
    "name2 = input('검색할 이름2 :')\n",
    "names = {'name1':name1, 'name2':name2}\n",
    "# cursor.execute(\"SELECT * FROM MEMBER WHERE NAME IN (:name1, :name2)\", \n",
    "#                {'name1':name1, 'name2':name2})\n",
    "cursor.execute(\"SELECT * FROM MEMBER WHERE NAME IN (:name1, :name2)\", \n",
    "               names)\n",
    "cursor.fetchall()"
   ]
  },
  {
   "cell_type": "code",
   "execution_count": 1,
   "id": "783b5cea",
   "metadata": {},
   "outputs": [],
   "source": [
    "# MEMBER 테이블에 입력(사용자로부터 이름, 나이, 메일 을 입력받아 insert)\n",
    "import sqlite3\n",
    "conn = sqlite3.connect('data/ch10_example.db')\n",
    "cursor = conn.cursor()"
   ]
  },
  {
   "cell_type": "code",
   "execution_count": 2,
   "id": "14cf33b6",
   "metadata": {},
   "outputs": [],
   "source": [
    "class Member:\n",
    "    'Member 테이블의 내용을 받을 객체 타입'\n",
    "    def __init__(self, name, age, email):\n",
    "        self.name = name\n",
    "        self.age = age\n",
    "        self.email = email\n",
    "    def as_dic(self): # insert문 전송시 필요\n",
    "        return {'name':self.name,\n",
    "               'age':self.age,\n",
    "               'email':self.email}\n",
    "    def __str__(self):\n",
    "        return \"{}\\t{}\\t{}\".format(self.name, self.age, self.email)\n",
    "def to_member(*row): #튜플 데이러를 매개변수로 받아 Member형 객체로 return \n",
    "    return Member(row[0], row[1], row[2])"
   ]
  },
  {
   "cell_type": "code",
   "execution_count": 6,
   "id": "b13c3ab3",
   "metadata": {},
   "outputs": [
    {
     "name": "stdout",
     "output_type": "stream",
     "text": [
      "이름을 입력해주세요 >김세동\n",
      "나이를 입력해주세요 >33\n",
      "이메일을 입력해주세요 >k@k.com\n",
      "저장완료\n"
     ]
    }
   ],
   "source": [
    "try:\n",
    "    name = input('이름을 입력해주세요 >')\n",
    "    age = int(input('나이를 입력해주세요 >'))\n",
    "except ValueError:\n",
    "    print('유효하지 않은 나이를 입력하신 경우 18세로 초기화')\n",
    "    age = 18\n",
    "finally:\n",
    "    email = input('이메일을 입력해주세요 >')\n",
    "inputdata = {'name':name, 'age':age, 'email':email} # named 방식\n",
    "inputdata2 = (name, age, email) # qmark 방식\n",
    "# cursor.execute('INSERT INTO MEMBER VALUES (?, ?, ?)',inputdata2)\n",
    "cursor.execute('INSERT INTO MEMBER VALUES (:name, :age, :email)', inputdata)\n",
    "conn.commit()\n",
    "if cursor.rowcount ==1:\n",
    "    print('저장완료')\n",
    "# print('저장완료' if cursor.rowcount=1 else '저장실패')"
   ]
  },
  {
   "cell_type": "code",
   "execution_count": 8,
   "id": "90a6f084",
   "metadata": {},
   "outputs": [
    {
     "name": "stdout",
     "output_type": "stream",
     "text": [
      "이름을 입력해주세요 >김민준\n",
      "나이를 입력해주세요 >31\n",
      "이메일을 입력해주세요 >fn45@naver.com\n",
      "{'name': '김민준', 'age': 31, 'email': 'fn45@naver.com'}\n",
      "입력 성공\n"
     ]
    }
   ],
   "source": [
    "try:\n",
    "    name = input('이름을 입력해주세요 >')\n",
    "    age = int(input('나이를 입력해주세요 >'))\n",
    "except ValueError:\n",
    "    print('유효하지 않은 나이를 입력하신 경우 18세로 초기화')\n",
    "    age = 18\n",
    "finally:\n",
    "    email = input('이메일을 입력해주세요 >')\n",
    "    \n",
    "newMember = Member(name, age, email)\n",
    "# print(newMember.as_dic()) \n",
    "cursor.execute('INSERT INTO MEMBER VALUES (:name, :age, :email)', newMember.as_dic())\n",
    "conn.commit()\n",
    "if cursor.rowcount==1:\n",
    "    print('입력 성공')"
   ]
  },
  {
   "cell_type": "code",
   "execution_count": 3,
   "id": "81036806",
   "metadata": {},
   "outputs": [
    {
     "name": "stdout",
     "output_type": "stream",
     "text": [
      "이름을 입력해주세요 : 0\n",
      "입력 하신 데이터는 0명 입니다\n"
     ]
    }
   ],
   "source": [
    "# member 테이블에 데이터를 n번 입력하고 \n",
    "# 이름에 0을 입력할 때까지 이름, 나이, 메일을 받아 insert\n",
    "# 이름에 0을 입력하면 이때 까지 입력한 데이터들을 출력 하고 몇명을 입력했는지 출력\n",
    "member_list = []\n",
    "while True:\n",
    "    try:\n",
    "        name = input('이름을 입력해주세요 : ')\n",
    "        if name == '0':\n",
    "            break\n",
    "        age = int(input('나이를 입력해주세요 :'))        \n",
    "        email = input('메일을 입력해주세요 :')\n",
    "    except ValueError:\n",
    "        print('유효하지 않은 나이를 입력하신 경우 18세로 초기화')\n",
    "        age = 18\n",
    "    newMember = {'name':name, 'age':age, 'email':email}\n",
    "    member_list.append(newMember)\n",
    "    cursor.execute('INSERT INTO MEMBER VALUES (:name, :age, :email)', newMember)\n",
    "conn.commit()\n",
    "print('입력 하신 데이터는 ', len(member_list), '명 입니다', sep='')\n",
    "for member in member_list:\n",
    "    print(\"{}\\t{}\\t{}\".format(member['name'],member['age'],member['email']))"
   ]
  },
  {
   "cell_type": "code",
   "execution_count": 6,
   "id": "f0fcd4e0",
   "metadata": {},
   "outputs": [
    {
     "name": "stdout",
     "output_type": "stream",
     "text": [
      "이름을 입력해주세요 : 이르음\n",
      "나이를 입력해주세요 :33\n",
      "메일을 입력해주세요 :k@l.com\n",
      "이름을 입력해주세요 : 핸드폰\n",
      "나이를 입력해주세요 :22\n",
      "메일을 입력해주세요 :h@h.com\n",
      "이름을 입력해주세요 : 0\n",
      "입력한 자료는 이상 2명 입니다\n",
      "이름\t나이\t메일\n",
      "이르음\t33\tk@l.com\n",
      "핸드폰\t22\th@h.com\n"
     ]
    }
   ],
   "source": [
    "member_list = [] # 입력한 member들이 저장될 list 변수 (객체 리스트)\n",
    "while True:\n",
    "    try:\n",
    "        name = input('이름을 입력해주세요 : ')\n",
    "        if name == '0':\n",
    "            break\n",
    "        age = int(input('나이를 입력해주세요 :'))        \n",
    "        email = input('메일을 입력해주세요 :')\n",
    "    except ValueError:\n",
    "        print('유효하지 않은 나이를 입력하신 경우 18세로 초기화')\n",
    "        age = 18\n",
    "    newMember = Member(name, age, email)\n",
    "    member_list.append(newMember)\n",
    "    cursor.execute('INSERT INTO MEMBER VALUES (:name, :age, :email)', newMember.as_dic())\n",
    "    \n",
    "conn.commit()\n",
    "print('입력한 자료는 이상 {}명 입니다'.format(len(member_list)))\n",
    "print('이름\\t나이\\t메일')\n",
    "for member in member_list:\n",
    "    print(member)"
   ]
  },
  {
   "cell_type": "code",
   "execution_count": 8,
   "id": "f53d06ed",
   "metadata": {},
   "outputs": [
    {
     "data": {
      "text/plain": [
       "[('홍길동', 20, 'h@h.com'),\n",
       " ('신길동', 25, 'S@S.COM'),\n",
       " ('신림동', 30, 's@h.com'),\n",
       " ('홍낄뚱', 18, 'h@h.com'),\n",
       " ('김세동', 33, 'k@k.com'),\n",
       " ('김민준', 31, 'fn45@naver.com'),\n",
       " ('홍', 2, 'h@h.com'),\n",
       " ('이르음', 33, 'k@l.com'),\n",
       " ('핸드폰', 22, 'h@h.com')]"
      ]
     },
     "execution_count": 8,
     "metadata": {},
     "output_type": "execute_result"
    }
   ],
   "source": [
    "# 입력확인은 DB browser 나 python으로 \n",
    "cursor.execute('SELECT * FROM MEMBER')\n",
    "cursor.fetchall()"
   ]
  },
  {
   "cell_type": "markdown",
   "id": "e242d022",
   "metadata": {},
   "source": [
    "# 2절. 오라클 데이터 베이스 연결\n",
    "- [cx_Oracle](https://cx-oracle.readthedocs.io/en/latest/)"
   ]
  },
  {
   "cell_type": "code",
   "execution_count": 9,
   "id": "82e28c50",
   "metadata": {},
   "outputs": [],
   "source": [
    "import cx_Oracle"
   ]
  },
  {
   "cell_type": "code",
   "execution_count": 11,
   "id": "1ae5e9fd",
   "metadata": {},
   "outputs": [
    {
     "name": "stdout",
     "output_type": "stream",
     "text": [
      "(DESCRIPTION=(ADDRESS=(PROTOCOL=TCP)(HOST=localhost)(PORT=1521))(CONNECT_DATA=(SID=xe)))\n"
     ]
    },
    {
     "data": {
      "text/plain": [
       "<cx_Oracle.Connection to scott@(DESCRIPTION=(ADDRESS=(PROTOCOL=TCP)(HOST=localhost)(PORT=1521))(CONNECT_DATA=(SID=xe)))>"
      ]
     },
     "execution_count": 11,
     "metadata": {},
     "output_type": "execute_result"
    }
   ],
   "source": [
    "# conn 얻어오는 방법 1\n",
    "oracle_dsn = cx_Oracle.makedsn(host=\"localhost\", port=1521, sid='xe')\n",
    "print(oracle_dsn)\n",
    "conn = cx_Oracle.connect(\"scott\", \"tiger\", dsn=oracle_dsn)\n",
    "conn\n",
    "# 여기서 예외가 날 경우 VC_redist.x64.exe"
   ]
  },
  {
   "cell_type": "code",
   "execution_count": 12,
   "id": "cb1e9144",
   "metadata": {},
   "outputs": [],
   "source": [
    "conn.close()"
   ]
  },
  {
   "cell_type": "code",
   "execution_count": 13,
   "id": "cde7b166",
   "metadata": {},
   "outputs": [
    {
     "data": {
      "text/plain": [
       "<cx_Oracle.Connection to scott@localhost:1521/xe>"
      ]
     },
     "execution_count": 13,
     "metadata": {},
     "output_type": "execute_result"
    }
   ],
   "source": [
    "# conn 얻어오는 방법2\n",
    "conn = cx_Oracle.connect(\"scott\", \"tiger\", \"localhost:1521/xe\")\n",
    "conn"
   ]
  },
  {
   "cell_type": "code",
   "execution_count": 14,
   "id": "672bbd59",
   "metadata": {},
   "outputs": [],
   "source": [
    "# cursor 객체 생성\n",
    "cursor = conn.cursor()\n",
    "sql = \"SELECT * FROM EMP\"\n",
    "cursor.execute(sql)\n",
    "emp = cursor.fetchall()"
   ]
  },
  {
   "cell_type": "code",
   "execution_count": 15,
   "id": "d1d1d346",
   "metadata": {},
   "outputs": [
    {
     "name": "stdout",
     "output_type": "stream",
     "text": [
      "(7369, 'SMITH', 'CLERK', 7902, datetime.datetime(1980, 12, 17, 0, 0), 800.0, None, 20)\n",
      "(7499, 'ALLEN', 'SALESMAN', 7698, datetime.datetime(1981, 2, 20, 0, 0), 1600.0, 300.0, 30)\n",
      "(7521, 'WARD', 'SALESMAN', 7698, datetime.datetime(1981, 2, 22, 0, 0), 1250.0, 500.0, 30)\n",
      "(7566, 'JONES', 'MANAGER', 7839, datetime.datetime(1981, 4, 2, 0, 0), 2975.0, None, 20)\n",
      "(7654, 'MARTIN', 'SALESMAN', 7698, datetime.datetime(1981, 9, 28, 0, 0), 1250.0, 1400.0, 30)\n",
      "(7698, 'BLAKE', 'MANAGER', 7839, datetime.datetime(1981, 5, 1, 0, 0), 2850.0, None, 30)\n",
      "(7782, 'CLARK', 'MANAGER', 7839, datetime.datetime(1981, 6, 9, 0, 0), 2450.0, None, 10)\n",
      "(7788, 'SCOTT', 'ANALYST', 7566, datetime.datetime(1982, 12, 9, 0, 0), 3000.0, None, 20)\n",
      "(7839, 'KING', 'PRESIDENT', None, datetime.datetime(1981, 11, 17, 0, 0), 5000.0, None, 10)\n",
      "(7844, 'TURNER', 'SALESMAN', 7698, datetime.datetime(1981, 9, 8, 0, 0), 1500.0, 0.0, 30)\n",
      "(7876, 'ADAMS', 'CLERK', 7788, datetime.datetime(1983, 1, 12, 0, 0), 1100.0, None, 20)\n",
      "(7900, 'JAMES', 'CLERK', 7698, datetime.datetime(1981, 12, 3, 0, 0), 950.0, None, 30)\n",
      "(7902, 'FORD', 'ANALYST', 7566, datetime.datetime(1981, 12, 3, 0, 0), 3000.0, None, 20)\n",
      "(7934, 'MILLER', 'CLERK', 7782, datetime.datetime(1982, 1, 23, 0, 0), 1300.0, None, 10)\n"
     ]
    }
   ],
   "source": [
    "for e in emp: # 튜플 리스트라 field가 많은 경우 가독성 다소 떨어짐\n",
    "    print(e)"
   ]
  },
  {
   "cell_type": "code",
   "execution_count": 17,
   "id": "853f59a2",
   "metadata": {},
   "outputs": [
    {
     "data": {
      "text/html": [
       "<div>\n",
       "<style scoped>\n",
       "    .dataframe tbody tr th:only-of-type {\n",
       "        vertical-align: middle;\n",
       "    }\n",
       "\n",
       "    .dataframe tbody tr th {\n",
       "        vertical-align: top;\n",
       "    }\n",
       "\n",
       "    .dataframe thead th {\n",
       "        text-align: right;\n",
       "    }\n",
       "</style>\n",
       "<table border=\"1\" class=\"dataframe\">\n",
       "  <thead>\n",
       "    <tr style=\"text-align: right;\">\n",
       "      <th></th>\n",
       "      <th>0</th>\n",
       "      <th>1</th>\n",
       "      <th>2</th>\n",
       "      <th>3</th>\n",
       "      <th>4</th>\n",
       "      <th>5</th>\n",
       "      <th>6</th>\n",
       "      <th>7</th>\n",
       "    </tr>\n",
       "  </thead>\n",
       "  <tbody>\n",
       "    <tr>\n",
       "      <th>0</th>\n",
       "      <td>7369</td>\n",
       "      <td>SMITH</td>\n",
       "      <td>CLERK</td>\n",
       "      <td>7902.0</td>\n",
       "      <td>1980-12-17</td>\n",
       "      <td>800.0</td>\n",
       "      <td>NaN</td>\n",
       "      <td>20</td>\n",
       "    </tr>\n",
       "    <tr>\n",
       "      <th>1</th>\n",
       "      <td>7499</td>\n",
       "      <td>ALLEN</td>\n",
       "      <td>SALESMAN</td>\n",
       "      <td>7698.0</td>\n",
       "      <td>1981-02-20</td>\n",
       "      <td>1600.0</td>\n",
       "      <td>300.0</td>\n",
       "      <td>30</td>\n",
       "    </tr>\n",
       "    <tr>\n",
       "      <th>2</th>\n",
       "      <td>7521</td>\n",
       "      <td>WARD</td>\n",
       "      <td>SALESMAN</td>\n",
       "      <td>7698.0</td>\n",
       "      <td>1981-02-22</td>\n",
       "      <td>1250.0</td>\n",
       "      <td>500.0</td>\n",
       "      <td>30</td>\n",
       "    </tr>\n",
       "    <tr>\n",
       "      <th>3</th>\n",
       "      <td>7566</td>\n",
       "      <td>JONES</td>\n",
       "      <td>MANAGER</td>\n",
       "      <td>7839.0</td>\n",
       "      <td>1981-04-02</td>\n",
       "      <td>2975.0</td>\n",
       "      <td>NaN</td>\n",
       "      <td>20</td>\n",
       "    </tr>\n",
       "    <tr>\n",
       "      <th>4</th>\n",
       "      <td>7654</td>\n",
       "      <td>MARTIN</td>\n",
       "      <td>SALESMAN</td>\n",
       "      <td>7698.0</td>\n",
       "      <td>1981-09-28</td>\n",
       "      <td>1250.0</td>\n",
       "      <td>1400.0</td>\n",
       "      <td>30</td>\n",
       "    </tr>\n",
       "  </tbody>\n",
       "</table>\n",
       "</div>"
      ],
      "text/plain": [
       "      0       1         2       3          4       5       6   7\n",
       "0  7369   SMITH     CLERK  7902.0 1980-12-17   800.0     NaN  20\n",
       "1  7499   ALLEN  SALESMAN  7698.0 1981-02-20  1600.0   300.0  30\n",
       "2  7521    WARD  SALESMAN  7698.0 1981-02-22  1250.0   500.0  30\n",
       "3  7566   JONES   MANAGER  7839.0 1981-04-02  2975.0     NaN  20\n",
       "4  7654  MARTIN  SALESMAN  7698.0 1981-09-28  1250.0  1400.0  30"
      ]
     },
     "execution_count": 17,
     "metadata": {},
     "output_type": "execute_result"
    }
   ],
   "source": [
    "import pandas as pd\n",
    "emp_df = pd.DataFrame(emp)\n",
    "emp_df.head()"
   ]
  },
  {
   "cell_type": "code",
   "execution_count": 18,
   "id": "e06c46f1",
   "metadata": {},
   "outputs": [
    {
     "data": {
      "text/plain": [
       "[('EMPNO', <cx_Oracle.DbType DB_TYPE_NUMBER>, 5, None, 4, 0, 0),\n",
       " ('ENAME', <cx_Oracle.DbType DB_TYPE_VARCHAR>, 10, 10, None, None, 1),\n",
       " ('JOB', <cx_Oracle.DbType DB_TYPE_VARCHAR>, 9, 9, None, None, 1),\n",
       " ('MGR', <cx_Oracle.DbType DB_TYPE_NUMBER>, 5, None, 4, 0, 1),\n",
       " ('HIREDATE', <cx_Oracle.DbType DB_TYPE_DATE>, 23, None, None, None, 1),\n",
       " ('SAL', <cx_Oracle.DbType DB_TYPE_NUMBER>, 11, None, 7, 2, 1),\n",
       " ('COMM', <cx_Oracle.DbType DB_TYPE_NUMBER>, 11, None, 7, 2, 1),\n",
       " ('DEPTNO', <cx_Oracle.DbType DB_TYPE_NUMBER>, 3, None, 2, 0, 1)]"
      ]
     },
     "execution_count": 18,
     "metadata": {},
     "output_type": "execute_result"
    }
   ],
   "source": [
    "# select 문 수행한 필드 정보\n",
    "cursor.description"
   ]
  },
  {
   "cell_type": "code",
   "execution_count": 22,
   "id": "c69c31db",
   "metadata": {},
   "outputs": [
    {
     "data": {
      "text/plain": [
       "['empno', 'ename', 'job', 'mgr', 'hiredate', 'sal', 'comm', 'deptno']"
      ]
     },
     "execution_count": 22,
     "metadata": {},
     "output_type": "execute_result"
    }
   ],
   "source": [
    "result = []\n",
    "for description in cursor.description:\n",
    "    result.append(description[0].lower())\n",
    "result"
   ]
  },
  {
   "cell_type": "code",
   "execution_count": 20,
   "id": "2361b9d9",
   "metadata": {},
   "outputs": [
    {
     "data": {
      "text/plain": [
       "['EMPNO', 'ENAME', 'JOB', 'MGR', 'HIREDATE', 'SAL', 'COMM', 'DEPTNO']"
      ]
     },
     "execution_count": 20,
     "metadata": {},
     "output_type": "execute_result"
    }
   ],
   "source": [
    "[row[0] for row in cursor.description]"
   ]
  },
  {
   "cell_type": "code",
   "execution_count": 21,
   "id": "b4e67eab",
   "metadata": {},
   "outputs": [
    {
     "data": {
      "text/plain": [
       "RangeIndex(start=0, stop=8, step=1)"
      ]
     },
     "execution_count": 21,
     "metadata": {},
     "output_type": "execute_result"
    }
   ],
   "source": [
    "emp_df.columns"
   ]
  },
  {
   "cell_type": "code",
   "execution_count": 23,
   "id": "58bbe8fb",
   "metadata": {},
   "outputs": [
    {
     "data": {
      "text/html": [
       "<div>\n",
       "<style scoped>\n",
       "    .dataframe tbody tr th:only-of-type {\n",
       "        vertical-align: middle;\n",
       "    }\n",
       "\n",
       "    .dataframe tbody tr th {\n",
       "        vertical-align: top;\n",
       "    }\n",
       "\n",
       "    .dataframe thead th {\n",
       "        text-align: right;\n",
       "    }\n",
       "</style>\n",
       "<table border=\"1\" class=\"dataframe\">\n",
       "  <thead>\n",
       "    <tr style=\"text-align: right;\">\n",
       "      <th></th>\n",
       "      <th>EMPNO</th>\n",
       "      <th>ENAME</th>\n",
       "      <th>JOB</th>\n",
       "      <th>MGR</th>\n",
       "      <th>HIREDATE</th>\n",
       "      <th>SAL</th>\n",
       "      <th>COMM</th>\n",
       "      <th>DEPTNO</th>\n",
       "    </tr>\n",
       "  </thead>\n",
       "  <tbody>\n",
       "    <tr>\n",
       "      <th>12</th>\n",
       "      <td>7902</td>\n",
       "      <td>FORD</td>\n",
       "      <td>ANALYST</td>\n",
       "      <td>7566.0</td>\n",
       "      <td>1981-12-03</td>\n",
       "      <td>3000.0</td>\n",
       "      <td>NaN</td>\n",
       "      <td>20</td>\n",
       "    </tr>\n",
       "  </tbody>\n",
       "</table>\n",
       "</div>"
      ],
      "text/plain": [
       "    EMPNO ENAME      JOB     MGR   HIREDATE     SAL  COMM  DEPTNO\n",
       "12   7902  FORD  ANALYST  7566.0 1981-12-03  3000.0   NaN      20"
      ]
     },
     "execution_count": 23,
     "metadata": {},
     "output_type": "execute_result"
    }
   ],
   "source": [
    "emp_df.columns = [row[0] for row in cursor.description]\n",
    "emp_df.sample() # 임의의 한줄 출력"
   ]
  },
  {
   "cell_type": "code",
   "execution_count": 28,
   "id": "18fd39ac",
   "metadata": {},
   "outputs": [
    {
     "name": "stdout",
     "output_type": "stream",
     "text": [
      "검색 하실 이름은 : 곽지성\n",
      "입력하신 이름의 데이터는 없습니다\n"
     ]
    }
   ],
   "source": [
    "# 검색할 이름을 사용자에게 받아 해당 내용을 출력\n",
    "ename = input('검색 하실 이름은 : ')\n",
    "sql = \"SELECT * FROM EMP WHERE ENAME=UPPER(:name)\"\n",
    "cursor.execute(sql, {'name':ename})\n",
    "emp = cursor.fetchall()\n",
    "if len(emp):\n",
    "    for e in emp:\n",
    "        print(e)\n",
    "else:\n",
    "    print(\"입력하신 이름의 데이터는 없습니다\")"
   ]
  },
  {
   "cell_type": "code",
   "execution_count": 31,
   "id": "2d349d3a",
   "metadata": {},
   "outputs": [
    {
     "name": "stdout",
     "output_type": "stream",
     "text": [
      "['EMPNO', 'ENAME', 'JOB', 'MGR', 'HIREDATE', 'SAL', 'COMM', 'DEPTNO']\n",
      "(7788, 'SCOTT', 'ANALYST', 7566, datetime.datetime(1982, 12, 9, 0, 0), 3000.0, None, 20)\n"
     ]
    }
   ],
   "source": [
    "fieldnames = [description[0] for description in cursor.description]\n",
    "print(fieldnames)\n",
    "print(e)"
   ]
  },
  {
   "cell_type": "code",
   "execution_count": 34,
   "id": "c4d157a5",
   "metadata": {},
   "outputs": [
    {
     "name": "stdout",
     "output_type": "stream",
     "text": [
      "EMPNO:7788\n",
      "ENAME:SCOTT\n",
      "JOB:ANALYST\n",
      "MGR:7566\n",
      "HIREDATE:1982-12-09 00:00:00\n",
      "SAL:3000.0\n",
      "COMM:\n",
      "DEPTNO:20\n"
     ]
    }
   ],
   "source": [
    "for idx in range(len(e)):\n",
    "    print(\"{}:{}\".format(fieldnames[idx], e[idx] if e[idx] is not None else ''))"
   ]
  },
  {
   "cell_type": "code",
   "execution_count": 36,
   "id": "355ebb32",
   "metadata": {},
   "outputs": [
    {
     "name": "stdout",
     "output_type": "stream",
     "text": [
      "EMPNO:7788\n",
      "ENAME:SCOTT\n",
      "JOB:ANALYST\n",
      "MGR:7566\n",
      "HIREDATE:1982-12-09 00:00:00\n",
      "SAL:3000.0\n",
      "COMM:\n",
      "DEPTNO:20\n"
     ]
    }
   ],
   "source": [
    "for fieldname, data in zip(fieldnames, e):\n",
    "    print(\"{}:{}\".format(fieldname, data if data is not None else ''))"
   ]
  },
  {
   "cell_type": "code",
   "execution_count": 37,
   "id": "5c116f97",
   "metadata": {},
   "outputs": [],
   "source": [
    "cursor.close()\n",
    "conn.close()"
   ]
  },
  {
   "cell_type": "markdown",
   "id": "cfd40cf0",
   "metadata": {},
   "source": [
    "# 3절. 연습문제"
   ]
  },
  {
   "cell_type": "code",
   "execution_count": 1,
   "id": "6bf6c425",
   "metadata": {},
   "outputs": [],
   "source": [
    "import sqlite3\n",
    "conn = sqlite3.connect('data/ch10_data.db')\n",
    "cursor = conn.cursor()"
   ]
  },
  {
   "cell_type": "code",
   "execution_count": 10,
   "id": "1c99afe2",
   "metadata": {},
   "outputs": [],
   "source": [
    "class Member:\n",
    "    'Member 테이블의 내용을 받을 객체 타입'\n",
    "    def __init__(self, name, phone, email, age, grade, etc):\n",
    "        self.name = name\n",
    "        self.phone = phone\n",
    "        self.email = email\n",
    "        self.age = age\n",
    "        self.grade = grade\n",
    "        self.etc = etc\n",
    "    def as_dict(self): #insert할 때 사용\n",
    "        return {\"name\":self.name, \"phone\":self.phone, \n",
    "                \"email\":self.email, \"age\":self.age, \"grade\":self.grade, \n",
    "                \"etc\":self.etc}\n",
    "    def __str__(self):\n",
    "        return \"{}\\t{}\\t{}\\t{}\\t{}\\t{}\".format(self.name,\n",
    "                                              self.phone,\n",
    "                                              self.email,\n",
    "                                              self.age,\n",
    "                                              self.grade,\n",
    "                                              self.etc)\n",
    "def to_member(*row): #튜플 데이러를 매개변수로 받아 Member형 객체로 return \n",
    "    return Member(row[0], row[1], row[2], row[3], row[4], row[5])"
   ]
  },
  {
   "cell_type": "code",
   "execution_count": 95,
   "id": "09f0bd50",
   "metadata": {},
   "outputs": [
    {
     "name": "stdout",
     "output_type": "stream",
     "text": [
      "홍길동\t010-4570-8382\th@h.com\t20\t5\t...\n",
      "{'name': '홍길동', 'phone': '010-4570-8382', 'email': 'h@h.com', 'age': 20, 'grade': 5, 'etc': '...'}\n"
     ]
    }
   ],
   "source": [
    "dbreadmember = ('홍길동', '010-4570-8382', 'h@h.com', 20, 5, '...')\n",
    "m = to_member(*dbreadmember) # 튜플 언패킹\n",
    "print(m)\n",
    "print(m.as_dic())"
   ]
  },
  {
   "cell_type": "markdown",
   "id": "71d804ed",
   "metadata": {},
   "source": [
    "### 1.입력"
   ]
  },
  {
   "cell_type": "code",
   "execution_count": 3,
   "id": "777d84d5",
   "metadata": {},
   "outputs": [],
   "source": [
    "def insert_member():\n",
    "    '사용자로부터 이름, 전화, 이메일, 나이, 등급(1~5), 기타특징 입력받아 DB에 추가한다'\n",
    "    cursor = conn.cursor()\n",
    "    name = input('이름 : ')\n",
    "    phone = input(\"전화번호 : \")\n",
    "    email = input(\"이메일 : \")\n",
    "    try:\n",
    "        age = int(input(\"나이 : \"))\n",
    "        if age<0:\n",
    "            age = 0\n",
    "    except ValueError as e:\n",
    "        print('유효하지 않은 나이  입력시 나이는 0으로 초기화')\n",
    "        age = 0\n",
    "    try:\n",
    "        grade = int(input(\"고객등급(1~5) : \"))\n",
    "        if grade < 1 :\n",
    "            grade = 1\n",
    "        if grade > 5 :\n",
    "            grade = 5\n",
    "    except ValueError as e:\n",
    "        print('유효하지 않은 등급을 입력시 등급은 1로 초기화')\n",
    "        grade = 1\n",
    "    etc = input(\"기타 정보 : \")\n",
    "    member = Member(name, phone, email, age, grade, etc)\n",
    "    cursor.execute('''\n",
    "        INSERT INTO MEMBER VALUES (:name, :phone, :email, :age, :grade, :etc)\n",
    "    ''', member.as_dict())\n",
    "    conn.commit()\n",
    "    print(member, \"님 데이터 저장완료\")\n",
    "    cursor.close()   "
   ]
  },
  {
   "cell_type": "code",
   "execution_count": 11,
   "id": "f993173c",
   "metadata": {},
   "outputs": [
    {
     "name": "stdout",
     "output_type": "stream",
     "text": [
      "이름 입력 : 윤길동\n",
      "핸드폰 번호 입력 : 010-1234-5678\n",
      "이메일 입력 : y@y.com\n",
      "나이 입력 : 18\n",
      "등급 입력 : 5\n",
      "기타 사항 입력 : 18\n"
     ]
    },
    {
     "data": {
      "text/plain": [
       "<__main__.Member at 0x29e194d5f00>"
      ]
     },
     "execution_count": 11,
     "metadata": {},
     "output_type": "execute_result"
    }
   ],
   "source": [
    "import sqlite3\n",
    "conn = sqlite3.connect('data/ch10_data.db')\n",
    "insert_member()"
   ]
  },
  {
   "cell_type": "markdown",
   "id": "e3bcfb02",
   "metadata": {},
   "source": [
    "### 2. 전체 출력"
   ]
  },
  {
   "cell_type": "code",
   "execution_count": 4,
   "id": "268c836a",
   "metadata": {},
   "outputs": [],
   "source": [
    "def select_all():\n",
    "    cursor = conn.cursor()\n",
    "    cursor.execute(\"SELECT * FROM MEMBER\")\n",
    "    members = cursor.fetchall()\n",
    "    print('='*70)\n",
    "    print(\"{:^70}\".format(\"고객 정보\"))\n",
    "    print('-'*70)\n",
    "    print(\"{:^5}\\t{:^3}\\t{:^10}{:^15}\\t{:^3}\\t{}\".format(\"GRADE\",\n",
    "                    \"이름\", \"전화\", \"메일\", \"나이\", \"기타\"))\n",
    "    print('='*70)\n",
    "    for member in members:\n",
    "        print(to_member(*member))\n",
    "    if len(members)==0:\n",
    "        print(\"저장된 회원이 없습니다\") \n",
    "    print('='*70)\n",
    "    cursor.close()"
   ]
  },
  {
   "cell_type": "code",
   "execution_count": 10,
   "id": "11627e04",
   "metadata": {},
   "outputs": [
    {
     "name": "stdout",
     "output_type": "stream",
     "text": [
      "======================================================================\n",
      "                                고객 정보                                 \n",
      "----------------------------------------------------------------------\n",
      "GRADE\t이름 \t    전화          메일       \t나이 \t기타\n",
      "======================================================================\n",
      "김민준\t010-4570-8382\tf@f.com\t18\t5\t18\n",
      "곽지성\t010-1234-5678\tk@j.com\t18\t5\t18\n",
      "김지환\t010-4571-1234\tq@q.com\t18\t5\t18\n",
      "홍길동\t010-1895-1823\ti@i.com\t18\t5\t18\n",
      "홍길동\t010-4570-8382\tf@f.com\t18\t5\t18\n",
      "에베베\t010-4562-5852\tq@p.com\t18\t5\t18\n",
      "======================================================================\n"
     ]
    }
   ],
   "source": [
    "select_all()"
   ]
  },
  {
   "cell_type": "markdown",
   "id": "f4ff5542",
   "metadata": {},
   "source": [
    "### 3. 이름 검색"
   ]
  },
  {
   "cell_type": "code",
   "execution_count": 5,
   "id": "bef2c8e6",
   "metadata": {},
   "outputs": [],
   "source": [
    "def select_name():\n",
    "    cursor = conn.cursor()\n",
    "    name = input(\"조회할 이름 입력 : \")\n",
    "    sql = \"SELECT * FROM MEMBER WHERE NAME=UPPER(:name)\"    \n",
    "    cursor.execute(sql, {'name':name})\n",
    "    member_list = cursor.fetchall()        \n",
    "    if len(member_list): \n",
    "        for row in member_list:\n",
    "            member = to_member(*row)\n",
    "            print(member)  \n",
    "    else:\n",
    "        print(\"조회된 결과가 없습니다.\")\n",
    "    cursor.close()"
   ]
  },
  {
   "cell_type": "code",
   "execution_count": 14,
   "id": "602c87ec",
   "metadata": {},
   "outputs": [
    {
     "name": "stdout",
     "output_type": "stream",
     "text": [
      "조회할 이름 입력 : 김민준\n",
      "김민준\t010-4570-8382\tf@f.com\t18\t5\t18\n"
     ]
    }
   ],
   "source": [
    "select_name()"
   ]
  },
  {
   "cell_type": "markdown",
   "id": "db0cfc40",
   "metadata": {},
   "source": [
    "### 4. 메일 삭제"
   ]
  },
  {
   "cell_type": "code",
   "execution_count": 18,
   "id": "37c5b9f6",
   "metadata": {},
   "outputs": [],
   "source": [
    "conn.close()"
   ]
  },
  {
   "cell_type": "code",
   "execution_count": 6,
   "id": "a400865b",
   "metadata": {},
   "outputs": [],
   "source": [
    "def delete_email():\n",
    "    cursor = conn.cursor()\n",
    "    email = input('삭제하실 이메일 : ')\n",
    "    cursor.execute('DELETE FROM MEMBER WHERE EMAIL=:email',{'email':email})\n",
    "    conn.commit()\n",
    "    if cursor.rowcount > 0:\n",
    "        print(\"{} 해당 이메일을 가진 고객을 삭제 했습니다.\".format(email))\n",
    "    else:\n",
    "        print(\"{} 해당 이메일을 가진 고객을 찾을수 없습니다\".format(email))\n",
    "    cursor.close()"
   ]
  },
  {
   "cell_type": "code",
   "execution_count": null,
   "id": "c2ecea47",
   "metadata": {},
   "outputs": [],
   "source": [
    "delete_email()"
   ]
  },
  {
   "cell_type": "markdown",
   "id": "c19ca29f",
   "metadata": {},
   "source": [
    "### 5. csv 내보내기"
   ]
  },
  {
   "cell_type": "code",
   "execution_count": 7,
   "id": "ccec8b0f",
   "metadata": {},
   "outputs": [],
   "source": [
    "def save_csv():\n",
    "    'sql 실행 결과를 튜플 리스트로 받아와서 db결과 title(description)과 튜플을 csv에 출력'\n",
    "    import csv\n",
    "    cursor = conn.cursor()\n",
    "    cursor.execute('SELECT * FROM MEMBER')\n",
    "    members = cursor.fetchall()\n",
    "    fieldnames = [description[0] for description in cursor.description ]\n",
    "    cursor.close()\n",
    "    file_name = input('파일명을 입력하세요(csv 확장자 포함)')\n",
    "    with open('data/'+file_name, 'w', newline='', encoding='utf-8') as file:\n",
    "        writer = csv.writer(file)\n",
    "        writer.writerow(fieldnames)\n",
    "        writer.writerows(members)"
   ]
  },
  {
   "cell_type": "markdown",
   "id": "450d5681",
   "metadata": {},
   "source": [
    "### 6. 종료"
   ]
  },
  {
   "cell_type": "code",
   "execution_count": 8,
   "id": "f642d08b",
   "metadata": {},
   "outputs": [],
   "source": [
    "def close_sql():\n",
    "    global conn\n",
    "    conn.close()\n",
    "    print(\"종료합니다\")"
   ]
  },
  {
   "cell_type": "markdown",
   "id": "1777b400",
   "metadata": {},
   "source": [
    "### main"
   ]
  },
  {
   "cell_type": "code",
   "execution_count": 11,
   "id": "99e03dec",
   "metadata": {},
   "outputs": [
    {
     "name": "stdout",
     "output_type": "stream",
     "text": [
      "1.입력 | 2.전체 조회 | 3.이름 찾기 | 4.메일 삭제 | 5.CSV 내보내기 | 0.종료\n",
      "메뉴 선택: 1\n",
      "이름 : 다다다\n",
      "전화번호 : 18\n",
      "이메일 : 18\n",
      "나이 : 18\n",
      "고객등급(1~5) : 5\n",
      "기타 정보 : 18\n",
      "다다다\t18\t18\t18\t5\t18 님 데이터 저장완료\n",
      "1.입력 | 2.전체 조회 | 3.이름 찾기 | 4.메일 삭제 | 5.CSV 내보내기 | 0.종료\n",
      "메뉴 선택: 2\n",
      "======================================================================\n",
      "                                고객 정보                                 \n",
      "----------------------------------------------------------------------\n",
      "GRADE\t이름 \t    전화          메일       \t나이 \t기타\n",
      "======================================================================\n",
      "곽지성\t010-1234-5678\tk@j.com\t18\t5\t18\n",
      "김지환\t010-4571-1234\tq@q.com\t18\t5\t18\n",
      "홍길동\t010-1895-1823\ti@i.com\t18\t5\t18\n",
      "에베베\t010-4562-5852\tq@p.com\t18\t5\t18\n",
      "데데데\t010-4156-4562\t18\t18\t18\t18\n",
      "다다다\t18\t18\t18\t5\t18\n",
      "======================================================================\n",
      "1.입력 | 2.전체 조회 | 3.이름 찾기 | 4.메일 삭제 | 5.CSV 내보내기 | 0.종료\n",
      "메뉴 선택: 3\n",
      "조회할 이름 입력 : 다다다\n",
      "다다다\t18\t18\t18\t5\t18\n",
      "1.입력 | 2.전체 조회 | 3.이름 찾기 | 4.메일 삭제 | 5.CSV 내보내기 | 0.종료\n",
      "메뉴 선택: 4\n",
      "삭제하실 이메일 : 18\n",
      "18 해당 이메일을 가진 고객을 삭제 했습니다.\n",
      "1.입력 | 2.전체 조회 | 3.이름 찾기 | 4.메일 삭제 | 5.CSV 내보내기 | 0.종료\n",
      "메뉴 선택: 5\n",
      "파일명을 입력하세요(csv 확장자 포함)test\n",
      "1.입력 | 2.전체 조회 | 3.이름 찾기 | 4.메일 삭제 | 5.CSV 내보내기 | 0.종료\n",
      "메뉴 선택: 0\n",
      "종료합니다\n"
     ]
    }
   ],
   "source": [
    "def main():\n",
    "    while True:\n",
    "        print(\"1.입력\", \"2.전체 조회\", \"3.이름 찾기\", \"4.메일 삭제\", \"5.CSV 내보내기\", \"0.종료\",\n",
    "             sep=\" | \")\n",
    "        try:\n",
    "            menu = int(input(\"메뉴 선택: \"))\n",
    "        except:\n",
    "            print(\"유효하지 않은 값을 입력하였습니다. 다시 선택해주세요.\")\n",
    "        if menu==1:\n",
    "            insert_member()\n",
    "        elif menu==2:\n",
    "            select_all()\n",
    "        elif menu==3:\n",
    "            select_name()\n",
    "        elif menu==4:\n",
    "            delete_email()\n",
    "        elif menu==5:\n",
    "            save_csv()\n",
    "        elif menu==0:\n",
    "            close_sql()\n",
    "            break\n",
    "\n",
    "if __name__=='__main__':\n",
    "    import sqlite3\n",
    "    global conn\n",
    "    conn = sqlite3.connect('data/ch10_data.db')\n",
    "    main()            "
   ]
  },
  {
   "cell_type": "code",
   "execution_count": null,
   "id": "bde1617b",
   "metadata": {},
   "outputs": [],
   "source": [
    "cursor.execute('''\n",
    "    CREATE TABLE MEMBER(\n",
    "    NAME VARCHAR2(30),\n",
    "    PHONE VARCHAR2(30),\n",
    "    EMAIL VARCHAR2(30),\n",
    "    AGE NUMBER(2),\n",
    "    GRADE NUMBER(2),\n",
    "    ETC VARCHAR2(30)\n",
    ")\n",
    "''')"
   ]
  },
  {
   "cell_type": "code",
   "execution_count": null,
   "id": "a520bbfa",
   "metadata": {},
   "outputs": [],
   "source": []
  },
  {
   "cell_type": "code",
   "execution_count": null,
   "id": "4384251c",
   "metadata": {},
   "outputs": [],
   "source": []
  },
  {
   "cell_type": "code",
   "execution_count": null,
   "id": "22d79994",
   "metadata": {},
   "outputs": [],
   "source": []
  },
  {
   "cell_type": "code",
   "execution_count": null,
   "id": "88c9e2ba",
   "metadata": {},
   "outputs": [],
   "source": []
  },
  {
   "cell_type": "code",
   "execution_count": null,
   "id": "b7be5c60",
   "metadata": {},
   "outputs": [],
   "source": []
  },
  {
   "cell_type": "code",
   "execution_count": null,
   "id": "41179dfd",
   "metadata": {},
   "outputs": [],
   "source": []
  },
  {
   "cell_type": "code",
   "execution_count": null,
   "id": "cf93bf4d",
   "metadata": {},
   "outputs": [],
   "source": []
  },
  {
   "cell_type": "code",
   "execution_count": null,
   "id": "cfe80eae",
   "metadata": {},
   "outputs": [],
   "source": []
  },
  {
   "cell_type": "code",
   "execution_count": null,
   "id": "63de49cc",
   "metadata": {},
   "outputs": [],
   "source": []
  }
 ],
 "metadata": {
  "kernelspec": {
   "display_name": "Python 3 (ipykernel)",
   "language": "python",
   "name": "python3"
  },
  "language_info": {
   "codemirror_mode": {
    "name": "ipython",
    "version": 3
   },
   "file_extension": ".py",
   "mimetype": "text/x-python",
   "name": "python",
   "nbconvert_exporter": "python",
   "pygments_lexer": "ipython3",
   "version": "3.10.9"
  },
  "toc": {
   "base_numbering": 1,
   "nav_menu": {},
   "number_sections": true,
   "sideBar": true,
   "skip_h1_title": false,
   "title_cell": "Table of Contents",
   "title_sidebar": "Contents",
   "toc_cell": false,
   "toc_position": {},
   "toc_section_display": true,
   "toc_window_display": true
  }
 },
 "nbformat": 4,
 "nbformat_minor": 5
}
