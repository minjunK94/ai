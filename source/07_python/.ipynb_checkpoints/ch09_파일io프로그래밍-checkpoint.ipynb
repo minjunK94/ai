{
 "cells": [
  {
   "cell_type": "markdown",
   "id": "fee46f75",
   "metadata": {},
   "source": [
    "<font color='red' size=\"6\"><b> ch09. 파일 i/o 프로그래밍</b></font>"
   ]
  },
  {
   "cell_type": "markdown",
   "id": "b2a74568",
   "metadata": {},
   "source": [
    "# 1절. 파일에 데이터 저장하고 불러오기"
   ]
  },
  {
   "cell_type": "code",
   "execution_count": 1,
   "id": "b372cacd",
   "metadata": {},
   "outputs": [
    {
     "name": "stdout",
     "output_type": "stream",
     "text": [
      "True\n"
     ]
    }
   ],
   "source": [
    "# w 또는 wt : 기존의 파일이 있는 경우 덮어쓰기로 쓰기 모드 , 파일이 없는 경우 생성하여 쓰기\n",
    "# a 또는 at : 기존의 파일이 있는 경우 append (끝에 추가), 파일이 없는 경우 생성하여 쓰기\n",
    "#      쓰기 모드는 폴더가 없는 경우 예외발생\n",
    "# r 또는 rt : 기족의 파일을 읽는 경우, 파일이 없는 경우 예외 발생\n",
    "f = open('data/ch09_sample.txt', 'w')\n",
    "print(f.writable())"
   ]
  },
  {
   "cell_type": "code",
   "execution_count": 2,
   "id": "e1f37fd2",
   "metadata": {},
   "outputs": [],
   "source": [
    "f.write('Hello\\nWorld\\nHello\\nPython\\n') # 한글을 write하면 CP949로 저장 (win)\n",
    "f.close()"
   ]
  },
  {
   "cell_type": "code",
   "execution_count": 3,
   "id": "99855329",
   "metadata": {},
   "outputs": [
    {
     "name": "stdout",
     "output_type": "stream",
     "text": [
      "쓰기 가능한지 여부 : True\n"
     ]
    }
   ],
   "source": [
    "# with구문으로 파일을 열어 close하는 코드가 불필요\n",
    "with open('data/ch09_sample.txt','wt') as f:\n",
    "    print('쓰기 가능한지 여부 :',f.writable())\n",
    "    f.write('Python is easy\\n Python is smart\\n')"
   ]
  },
  {
   "cell_type": "code",
   "execution_count": 4,
   "id": "e8232f0d",
   "metadata": {},
   "outputs": [
    {
     "name": "stdout",
     "output_type": "stream",
     "text": [
      "프린트 함수로 파일 쓰기가 가능합니다 - 콘솔출력\n"
     ]
    }
   ],
   "source": [
    "with open('data/ch09_sample.txt', 'at') as f:\n",
    "    print('프린트 함수로 파일 쓰기가 가능합니다 - 콘솔출력')\n",
    "    print('프린트 함수로 파일 쓰기가 가능합니다 - 파일출력', file=f)"
   ]
  },
  {
   "cell_type": "markdown",
   "id": "40f44d6e",
   "metadata": {},
   "source": [
    "- euc-kr : 한글완성형 (믜x)\n",
    "- cp949 : 확장된 한글완성형 (믜o) - 엑셀에서\n",
    "- utf-8 : 한글조합형 (초중종성 따로 조합해서 저장) - 주피터노트북에서"
   ]
  },
  {
   "cell_type": "code",
   "execution_count": 5,
   "id": "eedd727a",
   "metadata": {},
   "outputs": [],
   "source": [
    "with open('data/ch09_sample.txt','w',encoding='utf-8') as f:\n",
    "    f.write('= 여러 줄의 text를 쓰기 =\\n')\n",
    "    f.write('1방법 : Hello\\nWorld\\n')\n",
    "    textlist = ['홍길동, 30, 서울\\n', '김길동, 20, 안양\\n']\n",
    "    f.write('2방법 : \\n')\n",
    "    for line in textlist:\n",
    "        f.write(line)\n",
    "    f.write('3방법 : \\n')\n",
    "    f.writelines(textlist)"
   ]
  },
  {
   "cell_type": "code",
   "execution_count": 6,
   "id": "a9be802d",
   "metadata": {},
   "outputs": [
    {
     "name": "stdout",
     "output_type": "stream",
     "text": [
      "= 여러 줄의 text를 쓰기 =\n",
      "1방법 : Hello\n",
      "World\n",
      "2방법 : \n",
      "홍길동, 30, 서울\n",
      "김길동, 20, 안양\n",
      "3방법 : \n",
      "홍길동, 30, 서울\n",
      "김길동, 20, 안양\n"
     ]
    }
   ],
   "source": [
    "# 파일을 한줄 읽고 출력, 한줄 읽고 출력, ...\n",
    "with open('data/ch09_sample.txt','r', encoding='utf-8') as f:\n",
    "    line = f.readline() # 한줄 읽기\n",
    "    while line != '':\n",
    "        print(line, end='') # 파일에 \\n이 포함되어서 출력시 개행은 제거\n",
    "        line = f.readline()"
   ]
  },
  {
   "cell_type": "code",
   "execution_count": 7,
   "id": "57c68228",
   "metadata": {},
   "outputs": [
    {
     "name": "stdout",
     "output_type": "stream",
     "text": [
      "['= 여러 줄의 text를 쓰기 =\\n', '1방법 : Hello\\n', 'World\\n', '2방법 : \\n', '홍길동, 30, 서울\\n', '김길동, 20, 안양\\n', '3방법 : \\n', '홍길동, 30, 서울\\n', '김길동, 20, 안양\\n']\n"
     ]
    }
   ],
   "source": [
    "# 파일을 한꺼번에 여러줄 읽어 list로 return\n",
    "with open('data/ch09_sample.txt','rt', encoding='utf-8') as f:\n",
    "    lines = f.readlines() # list로 return\n",
    "    print(lines)"
   ]
  },
  {
   "cell_type": "code",
   "execution_count": 8,
   "id": "5527e270",
   "metadata": {},
   "outputs": [
    {
     "name": "stdout",
     "output_type": "stream",
     "text": [
      "= 여러 줄의 text를 쓰기 =\n",
      "1방법 : Hello\n",
      "World\n",
      "2방법 : \n",
      "홍길동, 30, 서울\n",
      "김길동, 20, 안양\n",
      "3방법 : \n",
      "홍길동, 30, 서울\n",
      "김길동, 20, 안양\n"
     ]
    }
   ],
   "source": [
    "for line in lines:\n",
    "    print(line, end='')"
   ]
  },
  {
   "cell_type": "markdown",
   "id": "a40e156e",
   "metadata": {},
   "source": [
    "# 2절. 피클을 이용한 객체 저장 및 불러오기\n",
    "## 2.1 형식이 있는 텍스트 데이터 불러오기"
   ]
  },
  {
   "cell_type": "code",
   "execution_count": 9,
   "id": "fdc67258",
   "metadata": {},
   "outputs": [],
   "source": [
    "with open('data/ch09_member.txt', 'r', encoding='utf-8') as f:\n",
    "    lines = f.readlines()\n",
    "#     print(lines)\n",
    "for line in lines:\n",
    "#     print(line)\n",
    "    data = line.strip().split(',')\n",
    "    name = data[0]\n",
    "    age = int(data[1].strip()) # strip : 앞뒤 white space 제거\n",
    "    email = data[2].strip()\n",
    "    address = data[3].strip()\n",
    "    print('이름:{}, 나이:{}, 메일:{}, 주소:{}'.format(name, age, email, address))"
   ]
  },
  {
   "cell_type": "code",
   "execution_count": 10,
   "id": "f806a990",
   "metadata": {},
   "outputs": [],
   "source": [
    "class Member:\n",
    "    def __init__(self, name, age, email, address):\n",
    "        self.name = name\n",
    "        self.age = age\n",
    "        self.email = email\n",
    "        self.address = address\n",
    "    def __str__(self):\n",
    "        return '이름:{}, 나이:{}, 메일:{}, 주소:{}'.format(self.name, self.age, self.email, self.address)\n",
    "    def as_dict(self): # 객체를 딕셔너리로 바꿔 return\n",
    "        return {'name' : self.name,\n",
    "                'age' : self.age,\n",
    "                'email' : self.email,\n",
    "                'address' : self.address}"
   ]
  },
  {
   "cell_type": "code",
   "execution_count": 11,
   "id": "bdbcc003",
   "metadata": {},
   "outputs": [
    {
     "name": "stdout",
     "output_type": "stream",
     "text": [
      "이름:홍길동, 나이:22, 메일:hong@hong.com, 주소:서울\n",
      "{'name': '홍길동', 'age': 22, 'email': 'hong@hong.com', 'address': '서울'}\n"
     ]
    }
   ],
   "source": [
    "user = Member('홍길동', 22, 'hong@hong.com', '서울')\n",
    "print(user) # __str__ test\n",
    "print(user.as_dict()) # as_dict test"
   ]
  },
  {
   "cell_type": "code",
   "execution_count": 12,
   "id": "bf293a90",
   "metadata": {},
   "outputs": [],
   "source": [
    "# 파일의 내용을 member list나 딕셔너리로 list로 읽기\n",
    "user_list = [] # member list\n",
    "user_dict = [] # 딕셔너리 list\n",
    "with open('data/ch09_member.txt','rt', encoding='utf-8') as f:\n",
    "    lines = f.readlines()\n",
    "    for line in lines:\n",
    "        data = line.strip().split(',')\n",
    "        name = data[0]\n",
    "        age = data[1].strip()\n",
    "        email = data[2].strip()\n",
    "        address = data[3].strip()\n",
    "        user = Member(name, age, email, address)\n",
    "        user_list.append(user)\n",
    "        user_dict.append(user.as_dict())"
   ]
  },
  {
   "cell_type": "code",
   "execution_count": 13,
   "id": "16a3b34c",
   "metadata": {},
   "outputs": [],
   "source": [
    "# user_list(객체 list)\n",
    "for user in user_list:\n",
    "    print(user)"
   ]
  },
  {
   "cell_type": "code",
   "execution_count": 14,
   "id": "c7c27b53",
   "metadata": {},
   "outputs": [
    {
     "data": {
      "text/plain": [
       "[]"
      ]
     },
     "execution_count": 14,
     "metadata": {},
     "output_type": "execute_result"
    }
   ],
   "source": [
    "# user_dict(딕셔너리 list)\n",
    "user_dict"
   ]
  },
  {
   "cell_type": "markdown",
   "id": "4bfea77f",
   "metadata": {},
   "source": [
    "## 2.2 피클링"
   ]
  },
  {
   "cell_type": "code",
   "execution_count": 15,
   "id": "9e369f5f",
   "metadata": {},
   "outputs": [
    {
     "name": "stdout",
     "output_type": "stream",
     "text": [
      "True\n",
      "True\n"
     ]
    }
   ],
   "source": [
    "class Member:\n",
    "    def __init__(self, name, age, email, address):\n",
    "        self.name = name\n",
    "        self.age = age\n",
    "        self.email = email\n",
    "        self.address = address\n",
    "    def __str__(self):\n",
    "        return '이름:{}, 나이:{}, 메일:{}, 주소:{}'.format(self.name, self.age, self.email, self.address)\n",
    "    def __eq__(self, other):\n",
    "        '''\n",
    "        user1.__eq__(user2) 호출시 user1의 속성변수들과 user2의 속성변수들이 모두 같은지 여부\n",
    "        '''\n",
    "        if isinstance(other, Member):\n",
    "            return self.name==other.name and self.age==other.age and self.email==other.email and self.address==other.address\n",
    "        else:\n",
    "            return False\n",
    "    def as_dict(self): # 객체를 딕셔너리로 바꿔 return\n",
    "        return {'name' : self.name,\n",
    "                'age' : self.age,\n",
    "                'email' : self.email,\n",
    "                'address' : self.address}\n",
    "user1 = Member('홍길동', 20, 'h@h.com', '서울')\n",
    "user2 = Member('홍길동', 20, 'h@h.com', '서울')\n",
    "print(user1.__eq__(user2))\n",
    "print(user1 == user2)"
   ]
  },
  {
   "cell_type": "code",
   "execution_count": 16,
   "id": "104f4367",
   "metadata": {},
   "outputs": [],
   "source": [
    "user1 = Member('홍길동', 20, 'h@h.com', '서울')\n",
    "user2 = Member('김길동', 25, 'k@h.com', '인천')\n",
    "user3 = Member('신길동', 30, 's@h.com', '포천')\n",
    "user_list = [user1, user2, user3]"
   ]
  },
  {
   "cell_type": "code",
   "execution_count": 17,
   "id": "86534f9d",
   "metadata": {},
   "outputs": [
    {
     "name": "stdout",
     "output_type": "stream",
     "text": [
      "이름:홍길동, 나이:20, 메일:h@h.com, 주소:서울\n",
      "이름:김길동, 나이:25, 메일:k@h.com, 주소:인천\n",
      "이름:신길동, 나이:30, 메일:s@h.com, 주소:포천\n"
     ]
    }
   ],
   "source": [
    "for user in user_list:\n",
    "    print(user)"
   ]
  },
  {
   "cell_type": "code",
   "execution_count": 18,
   "id": "5f84ed0e",
   "metadata": {},
   "outputs": [],
   "source": [
    "# 피클링을 이용한 객체를 파일에 저장하기\n",
    "import pickle\n",
    "with open('data/ch09_member.data', 'wb') as f:\n",
    "    pickle.dump(user_list, f)"
   ]
  },
  {
   "cell_type": "code",
   "execution_count": 19,
   "id": "ac39fa47",
   "metadata": {},
   "outputs": [],
   "source": [
    "del user1, user2, user3"
   ]
  },
  {
   "cell_type": "code",
   "execution_count": 20,
   "id": "54d0ae31",
   "metadata": {},
   "outputs": [],
   "source": [
    "# 피클링을 이용한 파일에서 객체 데이터 읽기\n",
    "with open('data/ch09_member.data', 'rb') as f:\n",
    "    load_user_list = pickle.load(f)"
   ]
  },
  {
   "cell_type": "code",
   "execution_count": 21,
   "id": "8439b61c",
   "metadata": {},
   "outputs": [
    {
     "name": "stdout",
     "output_type": "stream",
     "text": [
      "이름:홍길동, 나이:20, 메일:h@h.com, 주소:서울\n",
      "이름:김길동, 나이:25, 메일:k@h.com, 주소:인천\n",
      "이름:신길동, 나이:30, 메일:s@h.com, 주소:포천\n"
     ]
    }
   ],
   "source": [
    "for user in load_user_list:\n",
    "    print(user)"
   ]
  },
  {
   "cell_type": "code",
   "execution_count": 22,
   "id": "de4b33d2",
   "metadata": {},
   "outputs": [
    {
     "data": {
      "text/plain": [
       "[True, True, True]"
      ]
     },
     "execution_count": 22,
     "metadata": {},
     "output_type": "execute_result"
    }
   ],
   "source": [
    "# user_list 와 load_user_list가 모두 같은지 여부를 확인하는 작업\n",
    "result = []\n",
    "for idx in range(len(user_list)):\n",
    "    result.append(user_list[idx]==load_user_list[idx])\n",
    "result"
   ]
  },
  {
   "cell_type": "code",
   "execution_count": 23,
   "id": "1838a869",
   "metadata": {},
   "outputs": [
    {
     "data": {
      "text/plain": [
       "True"
      ]
     },
     "execution_count": 23,
     "metadata": {},
     "output_type": "execute_result"
    }
   ],
   "source": [
    "all(result) # 모든 요소들이 True인지 여부"
   ]
  },
  {
   "cell_type": "markdown",
   "id": "817f24bb",
   "metadata": {},
   "source": [
    "# 3절. csv 형식 파일 읽고 쓰기\n",
    "- CSV 파일의 자료를 리스트 데이터로 읽기 3.1과 3.2방법\n",
    "- CSV 파일의 자료를 딕셔너리 데이터로 읽기 3.3과 3.4방법\n",
    "\n",
    "## 3.1 reader"
   ]
  },
  {
   "cell_type": "code",
   "execution_count": 24,
   "id": "51e71f0d",
   "metadata": {},
   "outputs": [
    {
     "name": "stdout",
     "output_type": "stream",
     "text": [
      "['홍길동', '20', 'kildong@hong.com', '서울시 관악구']\n",
      "['김길동', '25', 'kimdong@hong.com', '서울시 동작구']\n",
      "['신길동', '21', 'sindong@hong.com', '서울시 금천구']\n"
     ]
    }
   ],
   "source": [
    "#  utf-8 인코딩된 csv파일 읽기\n",
    "import csv\n",
    "with open('data/ch09_member1.csv', 'r', encoding='utf-8') as f:\n",
    "    reader = csv.reader(f)\n",
    "#     print(list(reader))\n",
    "    for row in reader:\n",
    "        print(row)"
   ]
  },
  {
   "cell_type": "code",
   "execution_count": 25,
   "id": "9f642455",
   "metadata": {},
   "outputs": [
    {
     "name": "stdout",
     "output_type": "stream",
     "text": [
      "홍길동 - 20 - kildong@hong.com - 서울시 관악구 - \n",
      "김길동 - 25 - kimdong@hong.com - 서울시 동작구 - 주임\n",
      "신길동 - 21 - sindong@hong.com - 서울시 금천구 - \n"
     ]
    }
   ],
   "source": [
    "# cp949로 인코딩된 csv 파일 read\n",
    "with open('data/ch09_member1-cp.csv') as f:\n",
    "    reader = csv.reader(f)\n",
    "    result = list(reader)\n",
    "# print(result)\n",
    "for row in result:\n",
    "    print(' - '.join(row))"
   ]
  },
  {
   "cell_type": "code",
   "execution_count": 26,
   "id": "35800fbb",
   "metadata": {},
   "outputs": [
    {
     "name": "stdout",
     "output_type": "stream",
     "text": [
      "['홍길동', 20.0, 'kildong@hong.com', '서울시 관악구']\n",
      "['김길동', 25.0, 'kimdong@hong.com', '서울시 동작구']\n",
      "['신길동', 21.0, 'sindong@hong.com', '서울시 금천구']\n"
     ]
    }
   ],
   "source": [
    "# \"\" (따옴표) 가 없는 데이터는 rumeric으로\n",
    "with open('data/ch09_member1.csv', encoding='utf-8') as f:\n",
    "    reader = csv.reader(f, quotechar='\"', quoting=csv.QUOTE_NONNUMERIC)\n",
    "    for row in reader:\n",
    "        print(row)"
   ]
  },
  {
   "cell_type": "code",
   "execution_count": 27,
   "id": "98c387cd",
   "metadata": {},
   "outputs": [
    {
     "name": "stdout",
     "output_type": "stream",
     "text": [
      "파일에서 읽어온 딕셔너리 리스트\n",
      "[{'name': '홍길동', 'age': 20.0, 'email': 'kildong@hong.com', 'address': '서울시 관악구'}, {'name': '김길동', 'age': 25.0, 'email': 'kimdong@hong.com', 'address': '서울시 동작구'}, {'name': '신길동', 'age': 21.0, 'email': 'sindong@hong.com', 'address': '서울시 금천구'}]"
     ]
    }
   ],
   "source": [
    "# csv 파일의 내용을 딕셔너리 리스트로 가져오기\n",
    "user_dict = []\n",
    "with open('data/ch09_member1.csv', encoding='utf-8') as f:\n",
    "    reader = csv.reader(f, quotechar='\"', quoting=csv.QUOTE_NONNUMERIC)\n",
    "    for row in reader:\n",
    "        user_dict.append({'name':row[0],\n",
    "                         'age':row[1],\n",
    "                         'email':row[2],\n",
    "                         'address':row[3]})\n",
    "print('파일에서 읽어온 딕셔너리 리스트')\n",
    "print(user_dict, end='')"
   ]
  },
  {
   "cell_type": "markdown",
   "id": "49cd5887",
   "metadata": {},
   "source": [
    "## 3.2 writer"
   ]
  },
  {
   "cell_type": "code",
   "execution_count": 28,
   "id": "a7a21deb",
   "metadata": {},
   "outputs": [],
   "source": [
    "user_list = [['홍길동',20,'hong@hong.com','서울'],\n",
    "            ['신길동',30,'sin@hong.com','경기도'],]"
   ]
  },
  {
   "cell_type": "code",
   "execution_count": 29,
   "id": "408140d8",
   "metadata": {},
   "outputs": [],
   "source": [
    "# newline='' 옵션을 빼면 개행이 2번 됩니다\n",
    "try:\n",
    "    with open('data/ch09_member2-write.csv', 'w', newline='') as f:\n",
    "        writer = csv.writer(f)\n",
    "        for user in user_list:\n",
    "            writer.writerow(user)\n",
    "except FileNotFoundError as e:\n",
    "    print(e)"
   ]
  },
  {
   "cell_type": "code",
   "execution_count": 30,
   "id": "e440f230",
   "metadata": {},
   "outputs": [],
   "source": [
    "with open('data/ch09_member2-write.csv', 'w',encoding='utf-8', newline='') as f:\n",
    "    writer = csv.writer(f, quoting=csv.QUOTE_NONNUMERIC)\n",
    "    writer.writerows(user_list)"
   ]
  },
  {
   "cell_type": "markdown",
   "id": "acb69a0c",
   "metadata": {},
   "source": [
    "## 3.3 DictReader\n",
    "- csv 파일의 자료를 딕셔너리 데이터 읽기"
   ]
  },
  {
   "cell_type": "code",
   "execution_count": 31,
   "id": "df973ba1",
   "metadata": {},
   "outputs": [
    {
     "name": "stdout",
     "output_type": "stream",
     "text": [
      "홍길동 20 h@h.com 서울시 관악구\n",
      "김길동 40 k@h.com 서울시 동작구 팀장\n",
      "신길동 30 s@h.com 서울시 영등포구\n"
     ]
    }
   ],
   "source": [
    "# header 가 있는 csv 파일을 딕셔너리로 읽기(ch09_member3.csv)\n",
    "with open('data/ch09_member3.csv', 'r', encoding='utf-8', newline='') as f:\n",
    "    dict_reader = csv.DictReader(f)\n",
    "#     print(list(dict_reader))\n",
    "    for row in dict_reader:\n",
    "        if row['job'] is None:\n",
    "            print(row['name'], row['age'], row['email'], row['address'])\n",
    "        else:\n",
    "            print(row['name'], row['age'], row['email'], row['address'], row['job'])"
   ]
  },
  {
   "cell_type": "code",
   "execution_count": 32,
   "id": "c4d8cd3c",
   "metadata": {},
   "outputs": [
    {
     "data": {
      "text/html": [
       "<div>\n",
       "<style scoped>\n",
       "    .dataframe tbody tr th:only-of-type {\n",
       "        vertical-align: middle;\n",
       "    }\n",
       "\n",
       "    .dataframe tbody tr th {\n",
       "        vertical-align: top;\n",
       "    }\n",
       "\n",
       "    .dataframe thead th {\n",
       "        text-align: right;\n",
       "    }\n",
       "</style>\n",
       "<table border=\"1\" class=\"dataframe\">\n",
       "  <thead>\n",
       "    <tr style=\"text-align: right;\">\n",
       "      <th></th>\n",
       "      <th>name</th>\n",
       "      <th>age</th>\n",
       "      <th>email</th>\n",
       "      <th>address</th>\n",
       "      <th>job</th>\n",
       "    </tr>\n",
       "  </thead>\n",
       "  <tbody>\n",
       "    <tr>\n",
       "      <th>0</th>\n",
       "      <td>홍길동</td>\n",
       "      <td>20</td>\n",
       "      <td>h@h.com</td>\n",
       "      <td>서울시 관악구</td>\n",
       "      <td>NaN</td>\n",
       "    </tr>\n",
       "    <tr>\n",
       "      <th>1</th>\n",
       "      <td>김길동</td>\n",
       "      <td>40</td>\n",
       "      <td>k@h.com</td>\n",
       "      <td>서울시 동작구</td>\n",
       "      <td>팀장</td>\n",
       "    </tr>\n",
       "    <tr>\n",
       "      <th>2</th>\n",
       "      <td>신길동</td>\n",
       "      <td>30</td>\n",
       "      <td>s@h.com</td>\n",
       "      <td>서울시 영등포구</td>\n",
       "      <td>NaN</td>\n",
       "    </tr>\n",
       "  </tbody>\n",
       "</table>\n",
       "</div>"
      ],
      "text/plain": [
       "  name  age    email   address  job\n",
       "0  홍길동   20  h@h.com   서울시 관악구  NaN\n",
       "1  김길동   40  k@h.com   서울시 동작구   팀장\n",
       "2  신길동   30  s@h.com  서울시 영등포구  NaN"
      ]
     },
     "execution_count": 32,
     "metadata": {},
     "output_type": "execute_result"
    }
   ],
   "source": [
    "# cf. csv파일을 데이터 프레임으로 \n",
    "import pandas as pd\n",
    "member = pd.read_csv('data/ch09_member3.csv') # encoding='utf-8'이 기본값\n",
    "member"
   ]
  },
  {
   "cell_type": "code",
   "execution_count": 33,
   "id": "3f8bbf0c",
   "metadata": {},
   "outputs": [
    {
     "data": {
      "text/plain": [
       "pandas.core.frame.DataFrame"
      ]
     },
     "execution_count": 33,
     "metadata": {},
     "output_type": "execute_result"
    }
   ],
   "source": [
    "type(member)"
   ]
  },
  {
   "cell_type": "code",
   "execution_count": 34,
   "id": "fe5fecd3",
   "metadata": {},
   "outputs": [
    {
     "name": "stdout",
     "output_type": "stream",
     "text": [
      "홍길동 20 kildong@hong.com 서울시 관악구\n",
      "김길동 25 kimdong@hong.com 서울시 동작구\n",
      "신길동 21 sindong@hong.com 서울시 금천구\n"
     ]
    }
   ],
   "source": [
    "# header가 없는 csv 파일을 딕셔너리로 읽기(ch09_member1-cp.csv)\n",
    "with open('data/ch09_member1-cp.csv', 'r', encoding='cp949') as f:\n",
    "    dict_reader = csv.DictReader(f, fieldnames=['Name','Age','Email','Address'])\n",
    "    for row in dict_reader:\n",
    "#         print(row)\n",
    "        print(row['Name'], row['Age'], row['Email'], row['Address'])"
   ]
  },
  {
   "cell_type": "code",
   "execution_count": 35,
   "id": "27aca054",
   "metadata": {},
   "outputs": [
    {
     "name": "stdout",
     "output_type": "stream",
     "text": [
      "{'Name': '홍길동', 'Age': '20', 'Email': 'kildong@hong.com', 'Address': '서울시 관악구', 'Job': ''}\n",
      "{'Name': '김길동', 'Age': '25', 'Email': 'kimdong@hong.com', 'Address': '서울시 동작구', 'Job': '주임'}\n",
      "{'Name': '신길동', 'Age': '21', 'Email': 'sindong@hong.com', 'Address': '서울시 금천구', 'Job': ''}\n"
     ]
    }
   ],
   "source": [
    "# header가 없는 csv 파일을 딕셔너리로 읽기(ch09_member1-cp.csv)\n",
    "with open('data/ch09_member1-cp.csv', 'r', encoding='cp949') as f:\n",
    "    dict_reader = csv.DictReader(f, fieldnames=['Name','Age','Email','Address','Job'])\n",
    "    for row in dict_reader:\n",
    "        print(row)\n",
    "#         print(row['Name'], row['Age'], row['Email'], row['Address'], row['Job'])"
   ]
  },
  {
   "cell_type": "code",
   "execution_count": 36,
   "id": "a6757b7a",
   "metadata": {},
   "outputs": [
    {
     "name": "stdout",
     "output_type": "stream",
     "text": [
      "홍길동 20 kildong@hong.com 서울시 관악구\n",
      "김길동 25 kimdong@hong.com 서울시 동작구 주임\n",
      "신길동 21 sindong@hong.com 서울시 금천구\n"
     ]
    }
   ],
   "source": [
    "# header가 없는 csv 파일을 딕셔너리로 읽기(ch09_member1-cp.csv)\n",
    "with open('data/ch09_member1-cp.csv', 'r', encoding='cp949') as f:\n",
    "    dict_reader = csv.DictReader(f, fieldnames=['Name','Age','Email','Address'], restkey='Job')\n",
    "    for row in dict_reader:\n",
    "#         print(row)\n",
    "        if row['Job'][0] == '':\n",
    "            print(row['Name'], row['Age'], row['Email'], row['Address'])\n",
    "        else:\n",
    "            print(row['Name'], row['Age'], row['Email'], row['Address'], row['Job'][0])"
   ]
  },
  {
   "cell_type": "code",
   "execution_count": 37,
   "id": "84e55e71",
   "metadata": {},
   "outputs": [
    {
     "data": {
      "text/plain": [
       "[{'Name': '홍길동',\n",
       "  'Age': '20',\n",
       "  'Email': 'kildong@hong.com',\n",
       "  'Address': '서울시 관악구',\n",
       "  'Job': ''},\n",
       " {'Name': '김길동',\n",
       "  'Age': '25',\n",
       "  'Email': 'kimdong@hong.com',\n",
       "  'Address': '서울시 동작구',\n",
       "  'Job': '주임'},\n",
       " {'Name': '신길동',\n",
       "  'Age': '21',\n",
       "  'Email': 'sindong@hong.com',\n",
       "  'Address': '서울시 금천구',\n",
       "  'Job': ''}]"
      ]
     },
     "execution_count": 37,
     "metadata": {},
     "output_type": "execute_result"
    }
   ],
   "source": [
    "# ch09_member1-cp.csv의내용을 딕셔너리 list로 받아보세요\n",
    "userlist = [] # 딕셔너리 list\n",
    "with open('data/ch09_member1-cp.csv', 'r', encoding='cp949') as f:\n",
    "    dict_reader = csv.DictReader(f, fieldnames=['Name','Age','Email','Address','Job'])\n",
    "    for row in dict_reader:\n",
    "        userlist.append(row)\n",
    "# 파일의 내용을 userlist에 담기\n",
    "userlist"
   ]
  },
  {
   "cell_type": "markdown",
   "id": "28925cbd",
   "metadata": {},
   "source": [
    "## 3.4 DictWriter\n",
    "- 딕셔너리 리스트 를 csv 파일로 쓰기"
   ]
  },
  {
   "cell_type": "code",
   "execution_count": 38,
   "id": "e4cc0763",
   "metadata": {},
   "outputs": [
    {
     "name": "stdout",
     "output_type": "stream",
     "text": [
      "['Name', 'Age', 'Email', 'Address']\n"
     ]
    }
   ],
   "source": [
    "user1 = {'Name':'홍길동','Age':'20','Email':'kildong@hong.com','Address':'서울시 관악구'}\n",
    "user2 = {'Name':'신길동','Age':'25','Email':'sindong@hong.com','Address':'서울시 동작구'}\n",
    "user3 = {'Name':'김길동','Age':'30','Email':'kimdong@hong.com','Address':'서울시 금천구'}\n",
    "user_list = [user1, user2, user3]\n",
    "fieldnames = list(user1.keys())\n",
    "print(fieldnames)"
   ]
  },
  {
   "cell_type": "markdown",
   "id": "85c09459",
   "metadata": {},
   "source": [
    "```\n",
    "csv 파일 내용\n",
    "name,age,email,address\n",
    "홍길동,20,g@g.com,서울\n",
    "```"
   ]
  },
  {
   "cell_type": "code",
   "execution_count": 39,
   "id": "8705e8c1",
   "metadata": {},
   "outputs": [],
   "source": [
    "with open('data/ch09_member4.csv', 'a', encoding='utf-8', newline='') as f:\n",
    "    dict_writer = csv.DictWriter(f, fieldnames=fieldnames)\n",
    "#     dict_writer.writeheader()\n",
    "#     for user in user_list:\n",
    "#         dict_writer.writerow(user)\n",
    "    dict_writer.writerows(user_list)"
   ]
  },
  {
   "cell_type": "markdown",
   "id": "4dab452f",
   "metadata": {},
   "source": [
    "# 4절. JSON 파일에 저장하고 불러오기(dump, load)\n",
    "## 4.1 JSON dump(파일에 저장)\n",
    "1. 딕셔너리 리스트 데이터를 json파일로 \n",
    "2. 객체 리스트 데이터를 json파일로"
   ]
  },
  {
   "cell_type": "code",
   "execution_count": 40,
   "id": "af0fdd06",
   "metadata": {},
   "outputs": [],
   "source": [
    "data = [{'name':'홍길동', 'age':20, 'email':'h@h.com', 'address':'서울'},\n",
    "        {'name':'김길동', 'age':25, 'email':'k@h.com', 'address':'대구'},\n",
    "        {'name':'신길동', 'age':30, 'email':'s@h.com', 'address':'대전'}]"
   ]
  },
  {
   "cell_type": "code",
   "execution_count": 41,
   "id": "47d3995a",
   "metadata": {},
   "outputs": [],
   "source": [
    "#1. 딕셔너리 리스트를 json 파일로 저장(dump)\n",
    "# ensure_ascii=True <는 기본값 / 해당 옵션의 역할 : ASCII 코드 범위를 넘어서는 문자는 어떻게 처리할지\n",
    "# True(기본값) : ASCII 코드 범위를 넘어간 한글은 유니코드로 저장\n",
    "# False : 비 ASCII 문자 원래 형태로 그대로 저장 하겠다 \n",
    "# indent= ' ' > 들여쓰기\n",
    "import json\n",
    "with open('data/ch09_member1.json', 'w') as jsonfile:\n",
    "    json.dump(data, # 딕셔너리 리스트\n",
    "              jsonfile, ensure_ascii=False, indent=' ')"
   ]
  },
  {
   "cell_type": "code",
   "execution_count": 42,
   "id": "00e17297",
   "metadata": {},
   "outputs": [],
   "source": [
    "# 2. 객체 리스트를 json 파일로 저장(dump)\n",
    "class Member:\n",
    "    def __init__(self, name, age, email, address):\n",
    "        self.name = name\n",
    "        self.age = age\n",
    "        self.email = email\n",
    "        self.address = address\n",
    "    def as_dict(self):\n",
    "        '객체를 딕셔너리로 바꿔 return 하는 함수(json.dump시 필요함!)'\n",
    "        return {\"name\":self.name,\n",
    "                \"age\":self.age,\n",
    "                \"email\":self.email,\n",
    "                \"address\":self.address}\n",
    "    def __str__(self):\n",
    "        return \"이름 : {}, 나이 : {}, 메일 : {}, \\t주소 : {}\".format(self.name,\n",
    "                                                            self.age,\n",
    "                                                            self.email,\n",
    "                                                            self.address)\n",
    "    def __eq__(self, other):\n",
    "        '''\n",
    "        m1.__eq__(m2) 호출시 두 객체의 속성변수들의 값이 모두 일치하는지 여부\n",
    "        m1 == m2 구현시 두 객체의 속성변수들의 값이 모두 일치하는지 여부\n",
    "        '''\n",
    "        if isinstance(other, Member):\n",
    "            return self.name==other.name and \\\n",
    "                   self.age==other.age and \\\n",
    "                   self.email==other.email and\\\n",
    "                   self.address==other.address\n",
    "        else:\n",
    "            return False"
   ]
  },
  {
   "cell_type": "code",
   "execution_count": 43,
   "id": "3b77f1b9",
   "metadata": {},
   "outputs": [],
   "source": [
    "member_list = [Member(\"홍길동\", 20, \"h@h.com\", \"서울\"),\n",
    "              Member(\"김길동\", 25, \"kim@h.com\", \"대전\"),\n",
    "              Member(\"신길동\", 30, \"sin@h.com\", \"대구\"),]"
   ]
  },
  {
   "cell_type": "code",
   "execution_count": 44,
   "id": "0271b457",
   "metadata": {},
   "outputs": [
    {
     "name": "stdout",
     "output_type": "stream",
     "text": [
      "이름 : 홍길동, 나이 : 20, 메일 : h@h.com, \t주소 : 서울\n",
      "이름 : 김길동, 나이 : 25, 메일 : kim@h.com, \t주소 : 대전\n",
      "이름 : 신길동, 나이 : 30, 메일 : sin@h.com, \t주소 : 대구\n"
     ]
    }
   ],
   "source": [
    "for member in member_list:\n",
    "    print(member)"
   ]
  },
  {
   "cell_type": "code",
   "execution_count": 45,
   "id": "df51e29f",
   "metadata": {},
   "outputs": [],
   "source": [
    "with open('data/ch09_member2.json', 'w', encoding='UTF-8') as jsonfile:\n",
    "    json.dump(member_list, # 객체 리스트\n",
    "             jsonfile, ensure_ascii=False, indent=' ', \n",
    "             default=Member.as_dict) # 객체를 딕셔너리형태로 return하는 인스턴스 함수 "
   ]
  },
  {
   "cell_type": "code",
   "execution_count": 46,
   "id": "76d08c8d",
   "metadata": {},
   "outputs": [
    {
     "name": "stdout",
     "output_type": "stream",
     "text": [
      "Variable         Type             Data/Info\n",
      "-------------------------------------------\n",
      "Member           type             <class '__main__.Member'>\n",
      "autopep8         module           <module 'autopep8' from '<...>e-packages\\\\autopep8.py'>\n",
      "csv              module           <module 'csv' from 'C:\\\\U<...>\\anaconda3\\\\lib\\\\csv.py'>\n",
      "data             list             n=3\n",
      "dict_reader      DictReader       <csv.DictReader object at 0x0000014632EB2B90>\n",
      "dict_writer      DictWriter       <csv.DictWriter object at 0x00000146307C59C0>\n",
      "f                TextIOWrapper    <_io.TextIOWrapper name='<...>ode='a' encoding='utf-8'>\n",
      "fieldnames       list             n=4\n",
      "idx              int              2\n",
      "json             module           <module 'json' from 'C:\\\\<...>\\lib\\\\json\\\\__init__.py'>\n",
      "jsonfile         TextIOWrapper    <_io.TextIOWrapper name='<...>ode='w' encoding='UTF-8'>\n",
      "line             str              김길동, 20, 안양\\n\n",
      "lines            list             n=0\n",
      "load_user_list   list             n=3\n",
      "member           Member           이름 : 신길동, 나이 : 30, 메일 : sin@h.com, \t주소 : 대구\n",
      "member_list      list             n=3\n",
      "pd               module           <module 'pandas' from 'C:<...>es\\\\pandas\\\\__init__.py'>\n",
      "pickle           module           <module 'pickle' from 'C:<...>aconda3\\\\lib\\\\pickle.py'>\n",
      "reader           reader           <_csv.reader object at 0x0000014630C49600>\n",
      "result           list             n=3\n",
      "row              dict             n=5\n",
      "textlist         list             n=2\n",
      "user             list             n=4\n",
      "user1            dict             n=4\n",
      "user2            dict             n=4\n",
      "user3            dict             n=4\n",
      "user_dict        list             n=3\n",
      "user_list        list             n=3\n",
      "userlist         list             n=3\n",
      "writer           writer           <_csv.writer object at 0x0000014630BF3700>\n",
      "yapf_reformat    function         <function yapf_reformat at 0x0000014630AAF640>\n"
     ]
    }
   ],
   "source": [
    "# 현재 세션(현재 실행중인 jupyter notebook)에 존재하는 변수들의 목록\n",
    "# 매직 명령어 : jupyter notebook 의 IPYTHON 환경에서만 제공\n",
    "%whos"
   ]
  },
  {
   "cell_type": "markdown",
   "id": "70a814a8",
   "metadata": {},
   "source": [
    "## 4.2 JSON load(파일 읽기)\n",
    "1. json파일을 딕셔너리 리스트 변수로 읽기\n",
    "2. json파일을 객체 리스트 변수로 읽기"
   ]
  },
  {
   "cell_type": "code",
   "execution_count": 47,
   "id": "c067757d",
   "metadata": {},
   "outputs": [
    {
     "name": "stdout",
     "output_type": "stream",
     "text": [
      "{'name': '홍길동', 'age': 20, 'email': 'h@h.com', 'address': '서울'}\n",
      "{'name': '김길동', 'age': 25, 'email': 'k@h.com', 'address': '대구'}\n",
      "{'name': '신길동', 'age': 30, 'email': 's@h.com', 'address': '대전'}\n"
     ]
    }
   ],
   "source": [
    "# 1. json파일을 딕셔너리 리스트로 \n",
    "with open('data/ch09_member1.json') as jsonfile:\n",
    "    load_data = json.load(jsonfile)\n",
    "for row in load_data:\n",
    "    print(row)"
   ]
  },
  {
   "cell_type": "code",
   "execution_count": 48,
   "id": "b882587d",
   "metadata": {},
   "outputs": [
    {
     "data": {
      "text/plain": [
       "(list, dict)"
      ]
     },
     "execution_count": 48,
     "metadata": {},
     "output_type": "execute_result"
    }
   ],
   "source": [
    "type(load_data), type(load_data[0])"
   ]
  },
  {
   "cell_type": "code",
   "execution_count": 49,
   "id": "38a1dc1a",
   "metadata": {},
   "outputs": [],
   "source": [
    "# 2. json 파일(ch09_member2.json)을 객체 리스트로 "
   ]
  },
  {
   "cell_type": "code",
   "execution_count": 50,
   "id": "ff90d337",
   "metadata": {},
   "outputs": [],
   "source": [
    "def as_member(dic):\n",
    "    '딕셔너리 데이터를 매개변수로 받아 객체로 반환 하는 함수'\n",
    "    return Member(dic['name'],dic['age'],dic['email'],dic[\"address\"])"
   ]
  },
  {
   "cell_type": "code",
   "execution_count": 51,
   "id": "536c83ab",
   "metadata": {},
   "outputs": [],
   "source": [
    "with open('data/ch09_member2.json', 'r', encoding='UTF-8')as jsonfile:\n",
    "    load_member_list = json.load(jsonfile, object_hook=as_member)"
   ]
  },
  {
   "cell_type": "code",
   "execution_count": 52,
   "id": "e5b1829a",
   "metadata": {},
   "outputs": [
    {
     "data": {
      "text/plain": [
       "(list, __main__.Member)"
      ]
     },
     "execution_count": 52,
     "metadata": {},
     "output_type": "execute_result"
    }
   ],
   "source": [
    "type(load_member_list), type(load_member_list[0])"
   ]
  },
  {
   "cell_type": "code",
   "execution_count": 53,
   "id": "56c4837b",
   "metadata": {},
   "outputs": [],
   "source": [
    "# member_list => ch09_member2.json => load_member_list"
   ]
  },
  {
   "cell_type": "code",
   "execution_count": 54,
   "id": "0e0c0198",
   "metadata": {},
   "outputs": [
    {
     "name": "stdout",
     "output_type": "stream",
     "text": [
      "두 객체 리스트의 모든 데이터가 일치하는지 여부 : True\n"
     ]
    }
   ],
   "source": [
    "# member_list 와 load_member_list의 모든 데이터가 일치하는지 확인\n",
    "result = []\n",
    "for idx in range(len(member_list)):\n",
    "    result.append(member_list[idx]==load_member_list[idx])\n",
    "print('두 객체 리스트의 모든 데이터가 일치하는지 여부 :', all(result))"
   ]
  },
  {
   "cell_type": "code",
   "execution_count": 55,
   "id": "3fbcfd5b",
   "metadata": {},
   "outputs": [
    {
     "data": {
      "text/html": [
       "<div>\n",
       "<style scoped>\n",
       "    .dataframe tbody tr th:only-of-type {\n",
       "        vertical-align: middle;\n",
       "    }\n",
       "\n",
       "    .dataframe tbody tr th {\n",
       "        vertical-align: top;\n",
       "    }\n",
       "\n",
       "    .dataframe thead th {\n",
       "        text-align: right;\n",
       "    }\n",
       "</style>\n",
       "<table border=\"1\" class=\"dataframe\">\n",
       "  <thead>\n",
       "    <tr style=\"text-align: right;\">\n",
       "      <th></th>\n",
       "      <th>name</th>\n",
       "      <th>age</th>\n",
       "      <th>email</th>\n",
       "      <th>address</th>\n",
       "    </tr>\n",
       "  </thead>\n",
       "  <tbody>\n",
       "    <tr>\n",
       "      <th>0</th>\n",
       "      <td>홍길동</td>\n",
       "      <td>20</td>\n",
       "      <td>h@h.com</td>\n",
       "      <td>서울</td>\n",
       "    </tr>\n",
       "    <tr>\n",
       "      <th>1</th>\n",
       "      <td>김길동</td>\n",
       "      <td>25</td>\n",
       "      <td>kim@h.com</td>\n",
       "      <td>대전</td>\n",
       "    </tr>\n",
       "    <tr>\n",
       "      <th>2</th>\n",
       "      <td>신길동</td>\n",
       "      <td>30</td>\n",
       "      <td>sin@h.com</td>\n",
       "      <td>대구</td>\n",
       "    </tr>\n",
       "  </tbody>\n",
       "</table>\n",
       "</div>"
      ],
      "text/plain": [
       "  name  age      email address\n",
       "0  홍길동   20    h@h.com      서울\n",
       "1  김길동   25  kim@h.com      대전\n",
       "2  신길동   30  sin@h.com      대구"
      ]
     },
     "execution_count": 55,
     "metadata": {},
     "output_type": "execute_result"
    }
   ],
   "source": [
    "# json파일을 데이터프레임 으로 읽기\n",
    "import pandas as pd\n",
    "member = pd.read_json('data/ch09_member2.json') # utf-8 기본값 으로 들어가있음\n",
    "member"
   ]
  },
  {
   "cell_type": "code",
   "execution_count": 56,
   "id": "996e8dd3",
   "metadata": {},
   "outputs": [],
   "source": [
    "# open : 함수의 기본 encoding은 기본 함수 CP949\n",
    "# pd.read_ : 함수의 기본 encoding은 UTF-8"
   ]
  },
  {
   "cell_type": "code",
   "execution_count": 57,
   "id": "0a52c3b8",
   "metadata": {},
   "outputs": [
    {
     "data": {
      "text/html": [
       "<div>\n",
       "<style scoped>\n",
       "    .dataframe tbody tr th:only-of-type {\n",
       "        vertical-align: middle;\n",
       "    }\n",
       "\n",
       "    .dataframe tbody tr th {\n",
       "        vertical-align: top;\n",
       "    }\n",
       "\n",
       "    .dataframe thead th {\n",
       "        text-align: right;\n",
       "    }\n",
       "</style>\n",
       "<table border=\"1\" class=\"dataframe\">\n",
       "  <thead>\n",
       "    <tr style=\"text-align: right;\">\n",
       "      <th></th>\n",
       "      <th>name</th>\n",
       "      <th>age</th>\n",
       "      <th>email</th>\n",
       "      <th>address</th>\n",
       "    </tr>\n",
       "  </thead>\n",
       "  <tbody>\n",
       "    <tr>\n",
       "      <th>0</th>\n",
       "      <td>홍길동</td>\n",
       "      <td>20</td>\n",
       "      <td>h@h.com</td>\n",
       "      <td>서울</td>\n",
       "    </tr>\n",
       "    <tr>\n",
       "      <th>1</th>\n",
       "      <td>김길동</td>\n",
       "      <td>25</td>\n",
       "      <td>k@h.com</td>\n",
       "      <td>대구</td>\n",
       "    </tr>\n",
       "    <tr>\n",
       "      <th>2</th>\n",
       "      <td>신길동</td>\n",
       "      <td>30</td>\n",
       "      <td>s@h.com</td>\n",
       "      <td>대전</td>\n",
       "    </tr>\n",
       "  </tbody>\n",
       "</table>\n",
       "</div>"
      ],
      "text/plain": [
       "  name  age    email address\n",
       "0  홍길동   20  h@h.com      서울\n",
       "1  김길동   25  k@h.com      대구\n",
       "2  신길동   30  s@h.com      대전"
      ]
     },
     "execution_count": 57,
     "metadata": {},
     "output_type": "execute_result"
    }
   ],
   "source": [
    "member = pd.read_json('data/ch09_member1.json', encoding='cp949')\n",
    "member"
   ]
  },
  {
   "cell_type": "code",
   "execution_count": 58,
   "id": "7d1610c1",
   "metadata": {},
   "outputs": [
    {
     "data": {
      "text/plain": [
       "pandas.core.frame.DataFrame"
      ]
     },
     "execution_count": 58,
     "metadata": {},
     "output_type": "execute_result"
    }
   ],
   "source": [
    "type(member)"
   ]
  },
  {
   "cell_type": "markdown",
   "id": "b7c77036",
   "metadata": {},
   "source": [
    "# 5절. hdf5파일 쓰기/읽기(딕셔너리, 데이터프레임)\n",
    "- h5py 사용\n",
    "## 5.1 hdf5파일 쓰기\n",
    "1. 딕셔너리 데이터를 hdf5파일에 쓰기\n",
    "2. 데이터프레임을 hdf5파일에 쓰기"
   ]
  },
  {
   "cell_type": "code",
   "execution_count": null,
   "id": "5c3b48a3",
   "metadata": {},
   "outputs": [],
   "source": []
  },
  {
   "cell_type": "code",
   "execution_count": 59,
   "id": "ffd6a403",
   "metadata": {},
   "outputs": [
    {
     "data": {
      "text/html": [
       "<div>\n",
       "<style scoped>\n",
       "    .dataframe tbody tr th:only-of-type {\n",
       "        vertical-align: middle;\n",
       "    }\n",
       "\n",
       "    .dataframe tbody tr th {\n",
       "        vertical-align: top;\n",
       "    }\n",
       "\n",
       "    .dataframe thead th {\n",
       "        text-align: right;\n",
       "    }\n",
       "</style>\n",
       "<table border=\"1\" class=\"dataframe\">\n",
       "  <thead>\n",
       "    <tr style=\"text-align: right;\">\n",
       "      <th></th>\n",
       "      <th>sepal_length</th>\n",
       "      <th>sepal_width</th>\n",
       "      <th>petal_length</th>\n",
       "      <th>petal_width</th>\n",
       "      <th>species</th>\n",
       "    </tr>\n",
       "  </thead>\n",
       "  <tbody>\n",
       "    <tr>\n",
       "      <th>0</th>\n",
       "      <td>5.1</td>\n",
       "      <td>3.5</td>\n",
       "      <td>1.4</td>\n",
       "      <td>0.2</td>\n",
       "      <td>setosa</td>\n",
       "    </tr>\n",
       "    <tr>\n",
       "      <th>1</th>\n",
       "      <td>4.9</td>\n",
       "      <td>3.0</td>\n",
       "      <td>1.4</td>\n",
       "      <td>0.2</td>\n",
       "      <td>setosa</td>\n",
       "    </tr>\n",
       "    <tr>\n",
       "      <th>2</th>\n",
       "      <td>4.7</td>\n",
       "      <td>3.2</td>\n",
       "      <td>1.3</td>\n",
       "      <td>0.2</td>\n",
       "      <td>setosa</td>\n",
       "    </tr>\n",
       "    <tr>\n",
       "      <th>3</th>\n",
       "      <td>4.6</td>\n",
       "      <td>3.1</td>\n",
       "      <td>1.5</td>\n",
       "      <td>0.2</td>\n",
       "      <td>setosa</td>\n",
       "    </tr>\n",
       "    <tr>\n",
       "      <th>4</th>\n",
       "      <td>5.0</td>\n",
       "      <td>3.6</td>\n",
       "      <td>1.4</td>\n",
       "      <td>0.2</td>\n",
       "      <td>setosa</td>\n",
       "    </tr>\n",
       "    <tr>\n",
       "      <th>...</th>\n",
       "      <td>...</td>\n",
       "      <td>...</td>\n",
       "      <td>...</td>\n",
       "      <td>...</td>\n",
       "      <td>...</td>\n",
       "    </tr>\n",
       "    <tr>\n",
       "      <th>145</th>\n",
       "      <td>6.7</td>\n",
       "      <td>3.0</td>\n",
       "      <td>5.2</td>\n",
       "      <td>2.3</td>\n",
       "      <td>virginica</td>\n",
       "    </tr>\n",
       "    <tr>\n",
       "      <th>146</th>\n",
       "      <td>6.3</td>\n",
       "      <td>2.5</td>\n",
       "      <td>5.0</td>\n",
       "      <td>1.9</td>\n",
       "      <td>virginica</td>\n",
       "    </tr>\n",
       "    <tr>\n",
       "      <th>147</th>\n",
       "      <td>6.5</td>\n",
       "      <td>3.0</td>\n",
       "      <td>5.2</td>\n",
       "      <td>2.0</td>\n",
       "      <td>virginica</td>\n",
       "    </tr>\n",
       "    <tr>\n",
       "      <th>148</th>\n",
       "      <td>6.2</td>\n",
       "      <td>3.4</td>\n",
       "      <td>5.4</td>\n",
       "      <td>2.3</td>\n",
       "      <td>virginica</td>\n",
       "    </tr>\n",
       "    <tr>\n",
       "      <th>149</th>\n",
       "      <td>5.9</td>\n",
       "      <td>3.0</td>\n",
       "      <td>5.1</td>\n",
       "      <td>1.8</td>\n",
       "      <td>virginica</td>\n",
       "    </tr>\n",
       "  </tbody>\n",
       "</table>\n",
       "<p>150 rows × 5 columns</p>\n",
       "</div>"
      ],
      "text/plain": [
       "     sepal_length  sepal_width  petal_length  petal_width    species\n",
       "0             5.1          3.5           1.4          0.2     setosa\n",
       "1             4.9          3.0           1.4          0.2     setosa\n",
       "2             4.7          3.2           1.3          0.2     setosa\n",
       "3             4.6          3.1           1.5          0.2     setosa\n",
       "4             5.0          3.6           1.4          0.2     setosa\n",
       "..            ...          ...           ...          ...        ...\n",
       "145           6.7          3.0           5.2          2.3  virginica\n",
       "146           6.3          2.5           5.0          1.9  virginica\n",
       "147           6.5          3.0           5.2          2.0  virginica\n",
       "148           6.2          3.4           5.4          2.3  virginica\n",
       "149           5.9          3.0           5.1          1.8  virginica\n",
       "\n",
       "[150 rows x 5 columns]"
      ]
     },
     "execution_count": 59,
     "metadata": {},
     "output_type": "execute_result"
    }
   ],
   "source": [
    "import seaborn as sns\n",
    "iris_df = sns.load_dataset(\"iris\")\n",
    "iris_df"
   ]
  },
  {
   "cell_type": "code",
   "execution_count": 60,
   "id": "4878dd07",
   "metadata": {},
   "outputs": [
    {
     "data": {
      "text/plain": [
       "pandas.core.frame.DataFrame"
      ]
     },
     "execution_count": 60,
     "metadata": {},
     "output_type": "execute_result"
    }
   ],
   "source": [
    "type(iris_df)"
   ]
  },
  {
   "cell_type": "code",
   "execution_count": 61,
   "id": "277719cd",
   "metadata": {},
   "outputs": [
    {
     "data": {
      "text/html": [
       "<div>\n",
       "<style scoped>\n",
       "    .dataframe tbody tr th:only-of-type {\n",
       "        vertical-align: middle;\n",
       "    }\n",
       "\n",
       "    .dataframe tbody tr th {\n",
       "        vertical-align: top;\n",
       "    }\n",
       "\n",
       "    .dataframe thead th {\n",
       "        text-align: right;\n",
       "    }\n",
       "</style>\n",
       "<table border=\"1\" class=\"dataframe\">\n",
       "  <thead>\n",
       "    <tr style=\"text-align: right;\">\n",
       "      <th></th>\n",
       "      <th>sepal_length</th>\n",
       "      <th>sepal_width</th>\n",
       "      <th>petal_length</th>\n",
       "      <th>petal_width</th>\n",
       "      <th>species</th>\n",
       "    </tr>\n",
       "  </thead>\n",
       "  <tbody>\n",
       "    <tr>\n",
       "      <th>0</th>\n",
       "      <td>5.1</td>\n",
       "      <td>3.5</td>\n",
       "      <td>1.4</td>\n",
       "      <td>0.2</td>\n",
       "      <td>setosa</td>\n",
       "    </tr>\n",
       "    <tr>\n",
       "      <th>1</th>\n",
       "      <td>4.9</td>\n",
       "      <td>3.0</td>\n",
       "      <td>1.4</td>\n",
       "      <td>0.2</td>\n",
       "      <td>setosa</td>\n",
       "    </tr>\n",
       "    <tr>\n",
       "      <th>2</th>\n",
       "      <td>4.7</td>\n",
       "      <td>3.2</td>\n",
       "      <td>1.3</td>\n",
       "      <td>0.2</td>\n",
       "      <td>setosa</td>\n",
       "    </tr>\n",
       "    <tr>\n",
       "      <th>3</th>\n",
       "      <td>4.6</td>\n",
       "      <td>3.1</td>\n",
       "      <td>1.5</td>\n",
       "      <td>0.2</td>\n",
       "      <td>setosa</td>\n",
       "    </tr>\n",
       "    <tr>\n",
       "      <th>4</th>\n",
       "      <td>5.0</td>\n",
       "      <td>3.6</td>\n",
       "      <td>1.4</td>\n",
       "      <td>0.2</td>\n",
       "      <td>setosa</td>\n",
       "    </tr>\n",
       "  </tbody>\n",
       "</table>\n",
       "</div>"
      ],
      "text/plain": [
       "   sepal_length  sepal_width  petal_length  petal_width species\n",
       "0           5.1          3.5           1.4          0.2  setosa\n",
       "1           4.9          3.0           1.4          0.2  setosa\n",
       "2           4.7          3.2           1.3          0.2  setosa\n",
       "3           4.6          3.1           1.5          0.2  setosa\n",
       "4           5.0          3.6           1.4          0.2  setosa"
      ]
     },
     "execution_count": 61,
     "metadata": {},
     "output_type": "execute_result"
    }
   ],
   "source": [
    "iris_df.head()"
   ]
  },
  {
   "cell_type": "code",
   "execution_count": 62,
   "id": "97669445",
   "metadata": {},
   "outputs": [
    {
     "data": {
      "text/plain": [
       "{'sepal_length': {0: 5.1,\n",
       "  1: 4.9,\n",
       "  2: 4.7,\n",
       "  3: 4.6,\n",
       "  4: 5.0,\n",
       "  5: 5.4,\n",
       "  6: 4.6,\n",
       "  7: 5.0,\n",
       "  8: 4.4,\n",
       "  9: 4.9,\n",
       "  10: 5.4,\n",
       "  11: 4.8,\n",
       "  12: 4.8,\n",
       "  13: 4.3,\n",
       "  14: 5.8,\n",
       "  15: 5.7,\n",
       "  16: 5.4,\n",
       "  17: 5.1,\n",
       "  18: 5.7,\n",
       "  19: 5.1,\n",
       "  20: 5.4,\n",
       "  21: 5.1,\n",
       "  22: 4.6,\n",
       "  23: 5.1,\n",
       "  24: 4.8,\n",
       "  25: 5.0,\n",
       "  26: 5.0,\n",
       "  27: 5.2,\n",
       "  28: 5.2,\n",
       "  29: 4.7,\n",
       "  30: 4.8,\n",
       "  31: 5.4,\n",
       "  32: 5.2,\n",
       "  33: 5.5,\n",
       "  34: 4.9,\n",
       "  35: 5.0,\n",
       "  36: 5.5,\n",
       "  37: 4.9,\n",
       "  38: 4.4,\n",
       "  39: 5.1,\n",
       "  40: 5.0,\n",
       "  41: 4.5,\n",
       "  42: 4.4,\n",
       "  43: 5.0,\n",
       "  44: 5.1,\n",
       "  45: 4.8,\n",
       "  46: 5.1,\n",
       "  47: 4.6,\n",
       "  48: 5.3,\n",
       "  49: 5.0,\n",
       "  50: 7.0,\n",
       "  51: 6.4,\n",
       "  52: 6.9,\n",
       "  53: 5.5,\n",
       "  54: 6.5,\n",
       "  55: 5.7,\n",
       "  56: 6.3,\n",
       "  57: 4.9,\n",
       "  58: 6.6,\n",
       "  59: 5.2,\n",
       "  60: 5.0,\n",
       "  61: 5.9,\n",
       "  62: 6.0,\n",
       "  63: 6.1,\n",
       "  64: 5.6,\n",
       "  65: 6.7,\n",
       "  66: 5.6,\n",
       "  67: 5.8,\n",
       "  68: 6.2,\n",
       "  69: 5.6,\n",
       "  70: 5.9,\n",
       "  71: 6.1,\n",
       "  72: 6.3,\n",
       "  73: 6.1,\n",
       "  74: 6.4,\n",
       "  75: 6.6,\n",
       "  76: 6.8,\n",
       "  77: 6.7,\n",
       "  78: 6.0,\n",
       "  79: 5.7,\n",
       "  80: 5.5,\n",
       "  81: 5.5,\n",
       "  82: 5.8,\n",
       "  83: 6.0,\n",
       "  84: 5.4,\n",
       "  85: 6.0,\n",
       "  86: 6.7,\n",
       "  87: 6.3,\n",
       "  88: 5.6,\n",
       "  89: 5.5,\n",
       "  90: 5.5,\n",
       "  91: 6.1,\n",
       "  92: 5.8,\n",
       "  93: 5.0,\n",
       "  94: 5.6,\n",
       "  95: 5.7,\n",
       "  96: 5.7,\n",
       "  97: 6.2,\n",
       "  98: 5.1,\n",
       "  99: 5.7,\n",
       "  100: 6.3,\n",
       "  101: 5.8,\n",
       "  102: 7.1,\n",
       "  103: 6.3,\n",
       "  104: 6.5,\n",
       "  105: 7.6,\n",
       "  106: 4.9,\n",
       "  107: 7.3,\n",
       "  108: 6.7,\n",
       "  109: 7.2,\n",
       "  110: 6.5,\n",
       "  111: 6.4,\n",
       "  112: 6.8,\n",
       "  113: 5.7,\n",
       "  114: 5.8,\n",
       "  115: 6.4,\n",
       "  116: 6.5,\n",
       "  117: 7.7,\n",
       "  118: 7.7,\n",
       "  119: 6.0,\n",
       "  120: 6.9,\n",
       "  121: 5.6,\n",
       "  122: 7.7,\n",
       "  123: 6.3,\n",
       "  124: 6.7,\n",
       "  125: 7.2,\n",
       "  126: 6.2,\n",
       "  127: 6.1,\n",
       "  128: 6.4,\n",
       "  129: 7.2,\n",
       "  130: 7.4,\n",
       "  131: 7.9,\n",
       "  132: 6.4,\n",
       "  133: 6.3,\n",
       "  134: 6.1,\n",
       "  135: 7.7,\n",
       "  136: 6.3,\n",
       "  137: 6.4,\n",
       "  138: 6.0,\n",
       "  139: 6.9,\n",
       "  140: 6.7,\n",
       "  141: 6.9,\n",
       "  142: 5.8,\n",
       "  143: 6.8,\n",
       "  144: 6.7,\n",
       "  145: 6.7,\n",
       "  146: 6.3,\n",
       "  147: 6.5,\n",
       "  148: 6.2,\n",
       "  149: 5.9},\n",
       " 'sepal_width': {0: 3.5,\n",
       "  1: 3.0,\n",
       "  2: 3.2,\n",
       "  3: 3.1,\n",
       "  4: 3.6,\n",
       "  5: 3.9,\n",
       "  6: 3.4,\n",
       "  7: 3.4,\n",
       "  8: 2.9,\n",
       "  9: 3.1,\n",
       "  10: 3.7,\n",
       "  11: 3.4,\n",
       "  12: 3.0,\n",
       "  13: 3.0,\n",
       "  14: 4.0,\n",
       "  15: 4.4,\n",
       "  16: 3.9,\n",
       "  17: 3.5,\n",
       "  18: 3.8,\n",
       "  19: 3.8,\n",
       "  20: 3.4,\n",
       "  21: 3.7,\n",
       "  22: 3.6,\n",
       "  23: 3.3,\n",
       "  24: 3.4,\n",
       "  25: 3.0,\n",
       "  26: 3.4,\n",
       "  27: 3.5,\n",
       "  28: 3.4,\n",
       "  29: 3.2,\n",
       "  30: 3.1,\n",
       "  31: 3.4,\n",
       "  32: 4.1,\n",
       "  33: 4.2,\n",
       "  34: 3.1,\n",
       "  35: 3.2,\n",
       "  36: 3.5,\n",
       "  37: 3.6,\n",
       "  38: 3.0,\n",
       "  39: 3.4,\n",
       "  40: 3.5,\n",
       "  41: 2.3,\n",
       "  42: 3.2,\n",
       "  43: 3.5,\n",
       "  44: 3.8,\n",
       "  45: 3.0,\n",
       "  46: 3.8,\n",
       "  47: 3.2,\n",
       "  48: 3.7,\n",
       "  49: 3.3,\n",
       "  50: 3.2,\n",
       "  51: 3.2,\n",
       "  52: 3.1,\n",
       "  53: 2.3,\n",
       "  54: 2.8,\n",
       "  55: 2.8,\n",
       "  56: 3.3,\n",
       "  57: 2.4,\n",
       "  58: 2.9,\n",
       "  59: 2.7,\n",
       "  60: 2.0,\n",
       "  61: 3.0,\n",
       "  62: 2.2,\n",
       "  63: 2.9,\n",
       "  64: 2.9,\n",
       "  65: 3.1,\n",
       "  66: 3.0,\n",
       "  67: 2.7,\n",
       "  68: 2.2,\n",
       "  69: 2.5,\n",
       "  70: 3.2,\n",
       "  71: 2.8,\n",
       "  72: 2.5,\n",
       "  73: 2.8,\n",
       "  74: 2.9,\n",
       "  75: 3.0,\n",
       "  76: 2.8,\n",
       "  77: 3.0,\n",
       "  78: 2.9,\n",
       "  79: 2.6,\n",
       "  80: 2.4,\n",
       "  81: 2.4,\n",
       "  82: 2.7,\n",
       "  83: 2.7,\n",
       "  84: 3.0,\n",
       "  85: 3.4,\n",
       "  86: 3.1,\n",
       "  87: 2.3,\n",
       "  88: 3.0,\n",
       "  89: 2.5,\n",
       "  90: 2.6,\n",
       "  91: 3.0,\n",
       "  92: 2.6,\n",
       "  93: 2.3,\n",
       "  94: 2.7,\n",
       "  95: 3.0,\n",
       "  96: 2.9,\n",
       "  97: 2.9,\n",
       "  98: 2.5,\n",
       "  99: 2.8,\n",
       "  100: 3.3,\n",
       "  101: 2.7,\n",
       "  102: 3.0,\n",
       "  103: 2.9,\n",
       "  104: 3.0,\n",
       "  105: 3.0,\n",
       "  106: 2.5,\n",
       "  107: 2.9,\n",
       "  108: 2.5,\n",
       "  109: 3.6,\n",
       "  110: 3.2,\n",
       "  111: 2.7,\n",
       "  112: 3.0,\n",
       "  113: 2.5,\n",
       "  114: 2.8,\n",
       "  115: 3.2,\n",
       "  116: 3.0,\n",
       "  117: 3.8,\n",
       "  118: 2.6,\n",
       "  119: 2.2,\n",
       "  120: 3.2,\n",
       "  121: 2.8,\n",
       "  122: 2.8,\n",
       "  123: 2.7,\n",
       "  124: 3.3,\n",
       "  125: 3.2,\n",
       "  126: 2.8,\n",
       "  127: 3.0,\n",
       "  128: 2.8,\n",
       "  129: 3.0,\n",
       "  130: 2.8,\n",
       "  131: 3.8,\n",
       "  132: 2.8,\n",
       "  133: 2.8,\n",
       "  134: 2.6,\n",
       "  135: 3.0,\n",
       "  136: 3.4,\n",
       "  137: 3.1,\n",
       "  138: 3.0,\n",
       "  139: 3.1,\n",
       "  140: 3.1,\n",
       "  141: 3.1,\n",
       "  142: 2.7,\n",
       "  143: 3.2,\n",
       "  144: 3.3,\n",
       "  145: 3.0,\n",
       "  146: 2.5,\n",
       "  147: 3.0,\n",
       "  148: 3.4,\n",
       "  149: 3.0},\n",
       " 'petal_length': {0: 1.4,\n",
       "  1: 1.4,\n",
       "  2: 1.3,\n",
       "  3: 1.5,\n",
       "  4: 1.4,\n",
       "  5: 1.7,\n",
       "  6: 1.4,\n",
       "  7: 1.5,\n",
       "  8: 1.4,\n",
       "  9: 1.5,\n",
       "  10: 1.5,\n",
       "  11: 1.6,\n",
       "  12: 1.4,\n",
       "  13: 1.1,\n",
       "  14: 1.2,\n",
       "  15: 1.5,\n",
       "  16: 1.3,\n",
       "  17: 1.4,\n",
       "  18: 1.7,\n",
       "  19: 1.5,\n",
       "  20: 1.7,\n",
       "  21: 1.5,\n",
       "  22: 1.0,\n",
       "  23: 1.7,\n",
       "  24: 1.9,\n",
       "  25: 1.6,\n",
       "  26: 1.6,\n",
       "  27: 1.5,\n",
       "  28: 1.4,\n",
       "  29: 1.6,\n",
       "  30: 1.6,\n",
       "  31: 1.5,\n",
       "  32: 1.5,\n",
       "  33: 1.4,\n",
       "  34: 1.5,\n",
       "  35: 1.2,\n",
       "  36: 1.3,\n",
       "  37: 1.4,\n",
       "  38: 1.3,\n",
       "  39: 1.5,\n",
       "  40: 1.3,\n",
       "  41: 1.3,\n",
       "  42: 1.3,\n",
       "  43: 1.6,\n",
       "  44: 1.9,\n",
       "  45: 1.4,\n",
       "  46: 1.6,\n",
       "  47: 1.4,\n",
       "  48: 1.5,\n",
       "  49: 1.4,\n",
       "  50: 4.7,\n",
       "  51: 4.5,\n",
       "  52: 4.9,\n",
       "  53: 4.0,\n",
       "  54: 4.6,\n",
       "  55: 4.5,\n",
       "  56: 4.7,\n",
       "  57: 3.3,\n",
       "  58: 4.6,\n",
       "  59: 3.9,\n",
       "  60: 3.5,\n",
       "  61: 4.2,\n",
       "  62: 4.0,\n",
       "  63: 4.7,\n",
       "  64: 3.6,\n",
       "  65: 4.4,\n",
       "  66: 4.5,\n",
       "  67: 4.1,\n",
       "  68: 4.5,\n",
       "  69: 3.9,\n",
       "  70: 4.8,\n",
       "  71: 4.0,\n",
       "  72: 4.9,\n",
       "  73: 4.7,\n",
       "  74: 4.3,\n",
       "  75: 4.4,\n",
       "  76: 4.8,\n",
       "  77: 5.0,\n",
       "  78: 4.5,\n",
       "  79: 3.5,\n",
       "  80: 3.8,\n",
       "  81: 3.7,\n",
       "  82: 3.9,\n",
       "  83: 5.1,\n",
       "  84: 4.5,\n",
       "  85: 4.5,\n",
       "  86: 4.7,\n",
       "  87: 4.4,\n",
       "  88: 4.1,\n",
       "  89: 4.0,\n",
       "  90: 4.4,\n",
       "  91: 4.6,\n",
       "  92: 4.0,\n",
       "  93: 3.3,\n",
       "  94: 4.2,\n",
       "  95: 4.2,\n",
       "  96: 4.2,\n",
       "  97: 4.3,\n",
       "  98: 3.0,\n",
       "  99: 4.1,\n",
       "  100: 6.0,\n",
       "  101: 5.1,\n",
       "  102: 5.9,\n",
       "  103: 5.6,\n",
       "  104: 5.8,\n",
       "  105: 6.6,\n",
       "  106: 4.5,\n",
       "  107: 6.3,\n",
       "  108: 5.8,\n",
       "  109: 6.1,\n",
       "  110: 5.1,\n",
       "  111: 5.3,\n",
       "  112: 5.5,\n",
       "  113: 5.0,\n",
       "  114: 5.1,\n",
       "  115: 5.3,\n",
       "  116: 5.5,\n",
       "  117: 6.7,\n",
       "  118: 6.9,\n",
       "  119: 5.0,\n",
       "  120: 5.7,\n",
       "  121: 4.9,\n",
       "  122: 6.7,\n",
       "  123: 4.9,\n",
       "  124: 5.7,\n",
       "  125: 6.0,\n",
       "  126: 4.8,\n",
       "  127: 4.9,\n",
       "  128: 5.6,\n",
       "  129: 5.8,\n",
       "  130: 6.1,\n",
       "  131: 6.4,\n",
       "  132: 5.6,\n",
       "  133: 5.1,\n",
       "  134: 5.6,\n",
       "  135: 6.1,\n",
       "  136: 5.6,\n",
       "  137: 5.5,\n",
       "  138: 4.8,\n",
       "  139: 5.4,\n",
       "  140: 5.6,\n",
       "  141: 5.1,\n",
       "  142: 5.1,\n",
       "  143: 5.9,\n",
       "  144: 5.7,\n",
       "  145: 5.2,\n",
       "  146: 5.0,\n",
       "  147: 5.2,\n",
       "  148: 5.4,\n",
       "  149: 5.1},\n",
       " 'petal_width': {0: 0.2,\n",
       "  1: 0.2,\n",
       "  2: 0.2,\n",
       "  3: 0.2,\n",
       "  4: 0.2,\n",
       "  5: 0.4,\n",
       "  6: 0.3,\n",
       "  7: 0.2,\n",
       "  8: 0.2,\n",
       "  9: 0.1,\n",
       "  10: 0.2,\n",
       "  11: 0.2,\n",
       "  12: 0.1,\n",
       "  13: 0.1,\n",
       "  14: 0.2,\n",
       "  15: 0.4,\n",
       "  16: 0.4,\n",
       "  17: 0.3,\n",
       "  18: 0.3,\n",
       "  19: 0.3,\n",
       "  20: 0.2,\n",
       "  21: 0.4,\n",
       "  22: 0.2,\n",
       "  23: 0.5,\n",
       "  24: 0.2,\n",
       "  25: 0.2,\n",
       "  26: 0.4,\n",
       "  27: 0.2,\n",
       "  28: 0.2,\n",
       "  29: 0.2,\n",
       "  30: 0.2,\n",
       "  31: 0.4,\n",
       "  32: 0.1,\n",
       "  33: 0.2,\n",
       "  34: 0.2,\n",
       "  35: 0.2,\n",
       "  36: 0.2,\n",
       "  37: 0.1,\n",
       "  38: 0.2,\n",
       "  39: 0.2,\n",
       "  40: 0.3,\n",
       "  41: 0.3,\n",
       "  42: 0.2,\n",
       "  43: 0.6,\n",
       "  44: 0.4,\n",
       "  45: 0.3,\n",
       "  46: 0.2,\n",
       "  47: 0.2,\n",
       "  48: 0.2,\n",
       "  49: 0.2,\n",
       "  50: 1.4,\n",
       "  51: 1.5,\n",
       "  52: 1.5,\n",
       "  53: 1.3,\n",
       "  54: 1.5,\n",
       "  55: 1.3,\n",
       "  56: 1.6,\n",
       "  57: 1.0,\n",
       "  58: 1.3,\n",
       "  59: 1.4,\n",
       "  60: 1.0,\n",
       "  61: 1.5,\n",
       "  62: 1.0,\n",
       "  63: 1.4,\n",
       "  64: 1.3,\n",
       "  65: 1.4,\n",
       "  66: 1.5,\n",
       "  67: 1.0,\n",
       "  68: 1.5,\n",
       "  69: 1.1,\n",
       "  70: 1.8,\n",
       "  71: 1.3,\n",
       "  72: 1.5,\n",
       "  73: 1.2,\n",
       "  74: 1.3,\n",
       "  75: 1.4,\n",
       "  76: 1.4,\n",
       "  77: 1.7,\n",
       "  78: 1.5,\n",
       "  79: 1.0,\n",
       "  80: 1.1,\n",
       "  81: 1.0,\n",
       "  82: 1.2,\n",
       "  83: 1.6,\n",
       "  84: 1.5,\n",
       "  85: 1.6,\n",
       "  86: 1.5,\n",
       "  87: 1.3,\n",
       "  88: 1.3,\n",
       "  89: 1.3,\n",
       "  90: 1.2,\n",
       "  91: 1.4,\n",
       "  92: 1.2,\n",
       "  93: 1.0,\n",
       "  94: 1.3,\n",
       "  95: 1.2,\n",
       "  96: 1.3,\n",
       "  97: 1.3,\n",
       "  98: 1.1,\n",
       "  99: 1.3,\n",
       "  100: 2.5,\n",
       "  101: 1.9,\n",
       "  102: 2.1,\n",
       "  103: 1.8,\n",
       "  104: 2.2,\n",
       "  105: 2.1,\n",
       "  106: 1.7,\n",
       "  107: 1.8,\n",
       "  108: 1.8,\n",
       "  109: 2.5,\n",
       "  110: 2.0,\n",
       "  111: 1.9,\n",
       "  112: 2.1,\n",
       "  113: 2.0,\n",
       "  114: 2.4,\n",
       "  115: 2.3,\n",
       "  116: 1.8,\n",
       "  117: 2.2,\n",
       "  118: 2.3,\n",
       "  119: 1.5,\n",
       "  120: 2.3,\n",
       "  121: 2.0,\n",
       "  122: 2.0,\n",
       "  123: 1.8,\n",
       "  124: 2.1,\n",
       "  125: 1.8,\n",
       "  126: 1.8,\n",
       "  127: 1.8,\n",
       "  128: 2.1,\n",
       "  129: 1.6,\n",
       "  130: 1.9,\n",
       "  131: 2.0,\n",
       "  132: 2.2,\n",
       "  133: 1.5,\n",
       "  134: 1.4,\n",
       "  135: 2.3,\n",
       "  136: 2.4,\n",
       "  137: 1.8,\n",
       "  138: 1.8,\n",
       "  139: 2.1,\n",
       "  140: 2.4,\n",
       "  141: 2.3,\n",
       "  142: 1.9,\n",
       "  143: 2.3,\n",
       "  144: 2.5,\n",
       "  145: 2.3,\n",
       "  146: 1.9,\n",
       "  147: 2.0,\n",
       "  148: 2.3,\n",
       "  149: 1.8},\n",
       " 'species': {0: 'setosa',\n",
       "  1: 'setosa',\n",
       "  2: 'setosa',\n",
       "  3: 'setosa',\n",
       "  4: 'setosa',\n",
       "  5: 'setosa',\n",
       "  6: 'setosa',\n",
       "  7: 'setosa',\n",
       "  8: 'setosa',\n",
       "  9: 'setosa',\n",
       "  10: 'setosa',\n",
       "  11: 'setosa',\n",
       "  12: 'setosa',\n",
       "  13: 'setosa',\n",
       "  14: 'setosa',\n",
       "  15: 'setosa',\n",
       "  16: 'setosa',\n",
       "  17: 'setosa',\n",
       "  18: 'setosa',\n",
       "  19: 'setosa',\n",
       "  20: 'setosa',\n",
       "  21: 'setosa',\n",
       "  22: 'setosa',\n",
       "  23: 'setosa',\n",
       "  24: 'setosa',\n",
       "  25: 'setosa',\n",
       "  26: 'setosa',\n",
       "  27: 'setosa',\n",
       "  28: 'setosa',\n",
       "  29: 'setosa',\n",
       "  30: 'setosa',\n",
       "  31: 'setosa',\n",
       "  32: 'setosa',\n",
       "  33: 'setosa',\n",
       "  34: 'setosa',\n",
       "  35: 'setosa',\n",
       "  36: 'setosa',\n",
       "  37: 'setosa',\n",
       "  38: 'setosa',\n",
       "  39: 'setosa',\n",
       "  40: 'setosa',\n",
       "  41: 'setosa',\n",
       "  42: 'setosa',\n",
       "  43: 'setosa',\n",
       "  44: 'setosa',\n",
       "  45: 'setosa',\n",
       "  46: 'setosa',\n",
       "  47: 'setosa',\n",
       "  48: 'setosa',\n",
       "  49: 'setosa',\n",
       "  50: 'versicolor',\n",
       "  51: 'versicolor',\n",
       "  52: 'versicolor',\n",
       "  53: 'versicolor',\n",
       "  54: 'versicolor',\n",
       "  55: 'versicolor',\n",
       "  56: 'versicolor',\n",
       "  57: 'versicolor',\n",
       "  58: 'versicolor',\n",
       "  59: 'versicolor',\n",
       "  60: 'versicolor',\n",
       "  61: 'versicolor',\n",
       "  62: 'versicolor',\n",
       "  63: 'versicolor',\n",
       "  64: 'versicolor',\n",
       "  65: 'versicolor',\n",
       "  66: 'versicolor',\n",
       "  67: 'versicolor',\n",
       "  68: 'versicolor',\n",
       "  69: 'versicolor',\n",
       "  70: 'versicolor',\n",
       "  71: 'versicolor',\n",
       "  72: 'versicolor',\n",
       "  73: 'versicolor',\n",
       "  74: 'versicolor',\n",
       "  75: 'versicolor',\n",
       "  76: 'versicolor',\n",
       "  77: 'versicolor',\n",
       "  78: 'versicolor',\n",
       "  79: 'versicolor',\n",
       "  80: 'versicolor',\n",
       "  81: 'versicolor',\n",
       "  82: 'versicolor',\n",
       "  83: 'versicolor',\n",
       "  84: 'versicolor',\n",
       "  85: 'versicolor',\n",
       "  86: 'versicolor',\n",
       "  87: 'versicolor',\n",
       "  88: 'versicolor',\n",
       "  89: 'versicolor',\n",
       "  90: 'versicolor',\n",
       "  91: 'versicolor',\n",
       "  92: 'versicolor',\n",
       "  93: 'versicolor',\n",
       "  94: 'versicolor',\n",
       "  95: 'versicolor',\n",
       "  96: 'versicolor',\n",
       "  97: 'versicolor',\n",
       "  98: 'versicolor',\n",
       "  99: 'versicolor',\n",
       "  100: 'virginica',\n",
       "  101: 'virginica',\n",
       "  102: 'virginica',\n",
       "  103: 'virginica',\n",
       "  104: 'virginica',\n",
       "  105: 'virginica',\n",
       "  106: 'virginica',\n",
       "  107: 'virginica',\n",
       "  108: 'virginica',\n",
       "  109: 'virginica',\n",
       "  110: 'virginica',\n",
       "  111: 'virginica',\n",
       "  112: 'virginica',\n",
       "  113: 'virginica',\n",
       "  114: 'virginica',\n",
       "  115: 'virginica',\n",
       "  116: 'virginica',\n",
       "  117: 'virginica',\n",
       "  118: 'virginica',\n",
       "  119: 'virginica',\n",
       "  120: 'virginica',\n",
       "  121: 'virginica',\n",
       "  122: 'virginica',\n",
       "  123: 'virginica',\n",
       "  124: 'virginica',\n",
       "  125: 'virginica',\n",
       "  126: 'virginica',\n",
       "  127: 'virginica',\n",
       "  128: 'virginica',\n",
       "  129: 'virginica',\n",
       "  130: 'virginica',\n",
       "  131: 'virginica',\n",
       "  132: 'virginica',\n",
       "  133: 'virginica',\n",
       "  134: 'virginica',\n",
       "  135: 'virginica',\n",
       "  136: 'virginica',\n",
       "  137: 'virginica',\n",
       "  138: 'virginica',\n",
       "  139: 'virginica',\n",
       "  140: 'virginica',\n",
       "  141: 'virginica',\n",
       "  142: 'virginica',\n",
       "  143: 'virginica',\n",
       "  144: 'virginica',\n",
       "  145: 'virginica',\n",
       "  146: 'virginica',\n",
       "  147: 'virginica',\n",
       "  148: 'virginica',\n",
       "  149: 'virginica'}}"
      ]
     },
     "execution_count": 62,
     "metadata": {},
     "output_type": "execute_result"
    }
   ],
   "source": [
    "iris_dic = iris_df.to_dict() # 데이터 프레임 변수를 딕셔너리로 형변환\n",
    "iris_dic"
   ]
  },
  {
   "cell_type": "code",
   "execution_count": 63,
   "id": "2f9acb26",
   "metadata": {},
   "outputs": [
    {
     "data": {
      "text/plain": [
       "['sepal_length', 'sepal_width', 'petal_length', 'petal_width', 'species']"
      ]
     },
     "execution_count": 63,
     "metadata": {},
     "output_type": "execute_result"
    }
   ],
   "source": [
    "list(iris_dic.keys()) #hdf파일에 출력시 group이 될 키"
   ]
  },
  {
   "cell_type": "code",
   "execution_count": 64,
   "id": "e5bc8233",
   "metadata": {},
   "outputs": [
    {
     "name": "stdout",
     "output_type": "stream",
     "text": [
      "그룹명 : sepal_length\n",
      "{0: 5.1, 1: 4.9, 2: 4.7, 3: 4.6, 4: 5.0, 5: 5.4, 6: 4.6, 7: 5.0, 8: 4.4, 9: 4.9, 10: 5.4, 11: 4.8, 12: 4.8, 13: 4.3, 14: 5.8, 15: 5.7, 16: 5.4, 17: 5.1, 18: 5.7, 19: 5.1, 20: 5.4, 21: 5.1, 22: 4.6, 23: 5.1, 24: 4.8, 25: 5.0, 26: 5.0, 27: 5.2, 28: 5.2, 29: 4.7, 30: 4.8, 31: 5.4, 32: 5.2, 33: 5.5, 34: 4.9, 35: 5.0, 36: 5.5, 37: 4.9, 38: 4.4, 39: 5.1, 40: 5.0, 41: 4.5, 42: 4.4, 43: 5.0, 44: 5.1, 45: 4.8, 46: 5.1, 47: 4.6, 48: 5.3, 49: 5.0, 50: 7.0, 51: 6.4, 52: 6.9, 53: 5.5, 54: 6.5, 55: 5.7, 56: 6.3, 57: 4.9, 58: 6.6, 59: 5.2, 60: 5.0, 61: 5.9, 62: 6.0, 63: 6.1, 64: 5.6, 65: 6.7, 66: 5.6, 67: 5.8, 68: 6.2, 69: 5.6, 70: 5.9, 71: 6.1, 72: 6.3, 73: 6.1, 74: 6.4, 75: 6.6, 76: 6.8, 77: 6.7, 78: 6.0, 79: 5.7, 80: 5.5, 81: 5.5, 82: 5.8, 83: 6.0, 84: 5.4, 85: 6.0, 86: 6.7, 87: 6.3, 88: 5.6, 89: 5.5, 90: 5.5, 91: 6.1, 92: 5.8, 93: 5.0, 94: 5.6, 95: 5.7, 96: 5.7, 97: 6.2, 98: 5.1, 99: 5.7, 100: 6.3, 101: 5.8, 102: 7.1, 103: 6.3, 104: 6.5, 105: 7.6, 106: 4.9, 107: 7.3, 108: 6.7, 109: 7.2, 110: 6.5, 111: 6.4, 112: 6.8, 113: 5.7, 114: 5.8, 115: 6.4, 116: 6.5, 117: 7.7, 118: 7.7, 119: 6.0, 120: 6.9, 121: 5.6, 122: 7.7, 123: 6.3, 124: 6.7, 125: 7.2, 126: 6.2, 127: 6.1, 128: 6.4, 129: 7.2, 130: 7.4, 131: 7.9, 132: 6.4, 133: 6.3, 134: 6.1, 135: 7.7, 136: 6.3, 137: 6.4, 138: 6.0, 139: 6.9, 140: 6.7, 141: 6.9, 142: 5.8, 143: 6.8, 144: 6.7, 145: 6.7, 146: 6.3, 147: 6.5, 148: 6.2, 149: 5.9}\n",
      "그룹명 : sepal_width\n",
      "{0: 3.5, 1: 3.0, 2: 3.2, 3: 3.1, 4: 3.6, 5: 3.9, 6: 3.4, 7: 3.4, 8: 2.9, 9: 3.1, 10: 3.7, 11: 3.4, 12: 3.0, 13: 3.0, 14: 4.0, 15: 4.4, 16: 3.9, 17: 3.5, 18: 3.8, 19: 3.8, 20: 3.4, 21: 3.7, 22: 3.6, 23: 3.3, 24: 3.4, 25: 3.0, 26: 3.4, 27: 3.5, 28: 3.4, 29: 3.2, 30: 3.1, 31: 3.4, 32: 4.1, 33: 4.2, 34: 3.1, 35: 3.2, 36: 3.5, 37: 3.6, 38: 3.0, 39: 3.4, 40: 3.5, 41: 2.3, 42: 3.2, 43: 3.5, 44: 3.8, 45: 3.0, 46: 3.8, 47: 3.2, 48: 3.7, 49: 3.3, 50: 3.2, 51: 3.2, 52: 3.1, 53: 2.3, 54: 2.8, 55: 2.8, 56: 3.3, 57: 2.4, 58: 2.9, 59: 2.7, 60: 2.0, 61: 3.0, 62: 2.2, 63: 2.9, 64: 2.9, 65: 3.1, 66: 3.0, 67: 2.7, 68: 2.2, 69: 2.5, 70: 3.2, 71: 2.8, 72: 2.5, 73: 2.8, 74: 2.9, 75: 3.0, 76: 2.8, 77: 3.0, 78: 2.9, 79: 2.6, 80: 2.4, 81: 2.4, 82: 2.7, 83: 2.7, 84: 3.0, 85: 3.4, 86: 3.1, 87: 2.3, 88: 3.0, 89: 2.5, 90: 2.6, 91: 3.0, 92: 2.6, 93: 2.3, 94: 2.7, 95: 3.0, 96: 2.9, 97: 2.9, 98: 2.5, 99: 2.8, 100: 3.3, 101: 2.7, 102: 3.0, 103: 2.9, 104: 3.0, 105: 3.0, 106: 2.5, 107: 2.9, 108: 2.5, 109: 3.6, 110: 3.2, 111: 2.7, 112: 3.0, 113: 2.5, 114: 2.8, 115: 3.2, 116: 3.0, 117: 3.8, 118: 2.6, 119: 2.2, 120: 3.2, 121: 2.8, 122: 2.8, 123: 2.7, 124: 3.3, 125: 3.2, 126: 2.8, 127: 3.0, 128: 2.8, 129: 3.0, 130: 2.8, 131: 3.8, 132: 2.8, 133: 2.8, 134: 2.6, 135: 3.0, 136: 3.4, 137: 3.1, 138: 3.0, 139: 3.1, 140: 3.1, 141: 3.1, 142: 2.7, 143: 3.2, 144: 3.3, 145: 3.0, 146: 2.5, 147: 3.0, 148: 3.4, 149: 3.0}\n",
      "그룹명 : petal_length\n",
      "{0: 1.4, 1: 1.4, 2: 1.3, 3: 1.5, 4: 1.4, 5: 1.7, 6: 1.4, 7: 1.5, 8: 1.4, 9: 1.5, 10: 1.5, 11: 1.6, 12: 1.4, 13: 1.1, 14: 1.2, 15: 1.5, 16: 1.3, 17: 1.4, 18: 1.7, 19: 1.5, 20: 1.7, 21: 1.5, 22: 1.0, 23: 1.7, 24: 1.9, 25: 1.6, 26: 1.6, 27: 1.5, 28: 1.4, 29: 1.6, 30: 1.6, 31: 1.5, 32: 1.5, 33: 1.4, 34: 1.5, 35: 1.2, 36: 1.3, 37: 1.4, 38: 1.3, 39: 1.5, 40: 1.3, 41: 1.3, 42: 1.3, 43: 1.6, 44: 1.9, 45: 1.4, 46: 1.6, 47: 1.4, 48: 1.5, 49: 1.4, 50: 4.7, 51: 4.5, 52: 4.9, 53: 4.0, 54: 4.6, 55: 4.5, 56: 4.7, 57: 3.3, 58: 4.6, 59: 3.9, 60: 3.5, 61: 4.2, 62: 4.0, 63: 4.7, 64: 3.6, 65: 4.4, 66: 4.5, 67: 4.1, 68: 4.5, 69: 3.9, 70: 4.8, 71: 4.0, 72: 4.9, 73: 4.7, 74: 4.3, 75: 4.4, 76: 4.8, 77: 5.0, 78: 4.5, 79: 3.5, 80: 3.8, 81: 3.7, 82: 3.9, 83: 5.1, 84: 4.5, 85: 4.5, 86: 4.7, 87: 4.4, 88: 4.1, 89: 4.0, 90: 4.4, 91: 4.6, 92: 4.0, 93: 3.3, 94: 4.2, 95: 4.2, 96: 4.2, 97: 4.3, 98: 3.0, 99: 4.1, 100: 6.0, 101: 5.1, 102: 5.9, 103: 5.6, 104: 5.8, 105: 6.6, 106: 4.5, 107: 6.3, 108: 5.8, 109: 6.1, 110: 5.1, 111: 5.3, 112: 5.5, 113: 5.0, 114: 5.1, 115: 5.3, 116: 5.5, 117: 6.7, 118: 6.9, 119: 5.0, 120: 5.7, 121: 4.9, 122: 6.7, 123: 4.9, 124: 5.7, 125: 6.0, 126: 4.8, 127: 4.9, 128: 5.6, 129: 5.8, 130: 6.1, 131: 6.4, 132: 5.6, 133: 5.1, 134: 5.6, 135: 6.1, 136: 5.6, 137: 5.5, 138: 4.8, 139: 5.4, 140: 5.6, 141: 5.1, 142: 5.1, 143: 5.9, 144: 5.7, 145: 5.2, 146: 5.0, 147: 5.2, 148: 5.4, 149: 5.1}\n",
      "그룹명 : petal_width\n",
      "{0: 0.2, 1: 0.2, 2: 0.2, 3: 0.2, 4: 0.2, 5: 0.4, 6: 0.3, 7: 0.2, 8: 0.2, 9: 0.1, 10: 0.2, 11: 0.2, 12: 0.1, 13: 0.1, 14: 0.2, 15: 0.4, 16: 0.4, 17: 0.3, 18: 0.3, 19: 0.3, 20: 0.2, 21: 0.4, 22: 0.2, 23: 0.5, 24: 0.2, 25: 0.2, 26: 0.4, 27: 0.2, 28: 0.2, 29: 0.2, 30: 0.2, 31: 0.4, 32: 0.1, 33: 0.2, 34: 0.2, 35: 0.2, 36: 0.2, 37: 0.1, 38: 0.2, 39: 0.2, 40: 0.3, 41: 0.3, 42: 0.2, 43: 0.6, 44: 0.4, 45: 0.3, 46: 0.2, 47: 0.2, 48: 0.2, 49: 0.2, 50: 1.4, 51: 1.5, 52: 1.5, 53: 1.3, 54: 1.5, 55: 1.3, 56: 1.6, 57: 1.0, 58: 1.3, 59: 1.4, 60: 1.0, 61: 1.5, 62: 1.0, 63: 1.4, 64: 1.3, 65: 1.4, 66: 1.5, 67: 1.0, 68: 1.5, 69: 1.1, 70: 1.8, 71: 1.3, 72: 1.5, 73: 1.2, 74: 1.3, 75: 1.4, 76: 1.4, 77: 1.7, 78: 1.5, 79: 1.0, 80: 1.1, 81: 1.0, 82: 1.2, 83: 1.6, 84: 1.5, 85: 1.6, 86: 1.5, 87: 1.3, 88: 1.3, 89: 1.3, 90: 1.2, 91: 1.4, 92: 1.2, 93: 1.0, 94: 1.3, 95: 1.2, 96: 1.3, 97: 1.3, 98: 1.1, 99: 1.3, 100: 2.5, 101: 1.9, 102: 2.1, 103: 1.8, 104: 2.2, 105: 2.1, 106: 1.7, 107: 1.8, 108: 1.8, 109: 2.5, 110: 2.0, 111: 1.9, 112: 2.1, 113: 2.0, 114: 2.4, 115: 2.3, 116: 1.8, 117: 2.2, 118: 2.3, 119: 1.5, 120: 2.3, 121: 2.0, 122: 2.0, 123: 1.8, 124: 2.1, 125: 1.8, 126: 1.8, 127: 1.8, 128: 2.1, 129: 1.6, 130: 1.9, 131: 2.0, 132: 2.2, 133: 1.5, 134: 1.4, 135: 2.3, 136: 2.4, 137: 1.8, 138: 1.8, 139: 2.1, 140: 2.4, 141: 2.3, 142: 1.9, 143: 2.3, 144: 2.5, 145: 2.3, 146: 1.9, 147: 2.0, 148: 2.3, 149: 1.8}\n",
      "그룹명 : species\n",
      "{0: 'setosa', 1: 'setosa', 2: 'setosa', 3: 'setosa', 4: 'setosa', 5: 'setosa', 6: 'setosa', 7: 'setosa', 8: 'setosa', 9: 'setosa', 10: 'setosa', 11: 'setosa', 12: 'setosa', 13: 'setosa', 14: 'setosa', 15: 'setosa', 16: 'setosa', 17: 'setosa', 18: 'setosa', 19: 'setosa', 20: 'setosa', 21: 'setosa', 22: 'setosa', 23: 'setosa', 24: 'setosa', 25: 'setosa', 26: 'setosa', 27: 'setosa', 28: 'setosa', 29: 'setosa', 30: 'setosa', 31: 'setosa', 32: 'setosa', 33: 'setosa', 34: 'setosa', 35: 'setosa', 36: 'setosa', 37: 'setosa', 38: 'setosa', 39: 'setosa', 40: 'setosa', 41: 'setosa', 42: 'setosa', 43: 'setosa', 44: 'setosa', 45: 'setosa', 46: 'setosa', 47: 'setosa', 48: 'setosa', 49: 'setosa', 50: 'versicolor', 51: 'versicolor', 52: 'versicolor', 53: 'versicolor', 54: 'versicolor', 55: 'versicolor', 56: 'versicolor', 57: 'versicolor', 58: 'versicolor', 59: 'versicolor', 60: 'versicolor', 61: 'versicolor', 62: 'versicolor', 63: 'versicolor', 64: 'versicolor', 65: 'versicolor', 66: 'versicolor', 67: 'versicolor', 68: 'versicolor', 69: 'versicolor', 70: 'versicolor', 71: 'versicolor', 72: 'versicolor', 73: 'versicolor', 74: 'versicolor', 75: 'versicolor', 76: 'versicolor', 77: 'versicolor', 78: 'versicolor', 79: 'versicolor', 80: 'versicolor', 81: 'versicolor', 82: 'versicolor', 83: 'versicolor', 84: 'versicolor', 85: 'versicolor', 86: 'versicolor', 87: 'versicolor', 88: 'versicolor', 89: 'versicolor', 90: 'versicolor', 91: 'versicolor', 92: 'versicolor', 93: 'versicolor', 94: 'versicolor', 95: 'versicolor', 96: 'versicolor', 97: 'versicolor', 98: 'versicolor', 99: 'versicolor', 100: 'virginica', 101: 'virginica', 102: 'virginica', 103: 'virginica', 104: 'virginica', 105: 'virginica', 106: 'virginica', 107: 'virginica', 108: 'virginica', 109: 'virginica', 110: 'virginica', 111: 'virginica', 112: 'virginica', 113: 'virginica', 114: 'virginica', 115: 'virginica', 116: 'virginica', 117: 'virginica', 118: 'virginica', 119: 'virginica', 120: 'virginica', 121: 'virginica', 122: 'virginica', 123: 'virginica', 124: 'virginica', 125: 'virginica', 126: 'virginica', 127: 'virginica', 128: 'virginica', 129: 'virginica', 130: 'virginica', 131: 'virginica', 132: 'virginica', 133: 'virginica', 134: 'virginica', 135: 'virginica', 136: 'virginica', 137: 'virginica', 138: 'virginica', 139: 'virginica', 140: 'virginica', 141: 'virginica', 142: 'virginica', 143: 'virginica', 144: 'virginica', 145: 'virginica', 146: 'virginica', 147: 'virginica', 148: 'virginica', 149: 'virginica'}\n"
     ]
    }
   ],
   "source": [
    "for group, value in iris_dic.items():\n",
    "    print('그룹명 :',group)\n",
    "    print(value)"
   ]
  },
  {
   "cell_type": "code",
   "execution_count": 65,
   "id": "673942bf",
   "metadata": {},
   "outputs": [
    {
     "name": "stdout",
     "output_type": "stream",
     "text": [
      "그룹 : sepal_length\n",
      "0:5.1\t1:4.9\t2:4.7\t3:4.6\t4:5.0\t5:5.4\t6:4.6\t7:5.0\t8:4.4\t9:4.9\t10:5.4\t11:4.8\t12:4.8\t13:4.3\t14:5.8\t15:5.7\t16:5.4\t17:5.1\t18:5.7\t19:5.1\t20:5.4\t21:5.1\t22:4.6\t23:5.1\t24:4.8\t25:5.0\t26:5.0\t27:5.2\t28:5.2\t29:4.7\t30:4.8\t31:5.4\t32:5.2\t33:5.5\t34:4.9\t35:5.0\t36:5.5\t37:4.9\t38:4.4\t39:5.1\t40:5.0\t41:4.5\t42:4.4\t43:5.0\t44:5.1\t45:4.8\t46:5.1\t47:4.6\t48:5.3\t49:5.0\t50:7.0\t51:6.4\t52:6.9\t53:5.5\t54:6.5\t55:5.7\t56:6.3\t57:4.9\t58:6.6\t59:5.2\t60:5.0\t61:5.9\t62:6.0\t63:6.1\t64:5.6\t65:6.7\t66:5.6\t67:5.8\t68:6.2\t69:5.6\t70:5.9\t71:6.1\t72:6.3\t73:6.1\t74:6.4\t75:6.6\t76:6.8\t77:6.7\t78:6.0\t79:5.7\t80:5.5\t81:5.5\t82:5.8\t83:6.0\t84:5.4\t85:6.0\t86:6.7\t87:6.3\t88:5.6\t89:5.5\t90:5.5\t91:6.1\t92:5.8\t93:5.0\t94:5.6\t95:5.7\t96:5.7\t97:6.2\t98:5.1\t99:5.7\t100:6.3\t101:5.8\t102:7.1\t103:6.3\t104:6.5\t105:7.6\t106:4.9\t107:7.3\t108:6.7\t109:7.2\t110:6.5\t111:6.4\t112:6.8\t113:5.7\t114:5.8\t115:6.4\t116:6.5\t117:7.7\t118:7.7\t119:6.0\t120:6.9\t121:5.6\t122:7.7\t123:6.3\t124:6.7\t125:7.2\t126:6.2\t127:6.1\t128:6.4\t129:7.2\t130:7.4\t131:7.9\t132:6.4\t133:6.3\t134:6.1\t135:7.7\t136:6.3\t137:6.4\t138:6.0\t139:6.9\t140:6.7\t141:6.9\t142:5.8\t143:6.8\t144:6.7\t145:6.7\t146:6.3\t147:6.5\t148:6.2\t149:5.9\t\n",
      "그룹 : sepal_width\n",
      "0:3.5\t1:3.0\t2:3.2\t3:3.1\t4:3.6\t5:3.9\t6:3.4\t7:3.4\t8:2.9\t9:3.1\t10:3.7\t11:3.4\t12:3.0\t13:3.0\t14:4.0\t15:4.4\t16:3.9\t17:3.5\t18:3.8\t19:3.8\t20:3.4\t21:3.7\t22:3.6\t23:3.3\t24:3.4\t25:3.0\t26:3.4\t27:3.5\t28:3.4\t29:3.2\t30:3.1\t31:3.4\t32:4.1\t33:4.2\t34:3.1\t35:3.2\t36:3.5\t37:3.6\t38:3.0\t39:3.4\t40:3.5\t41:2.3\t42:3.2\t43:3.5\t44:3.8\t45:3.0\t46:3.8\t47:3.2\t48:3.7\t49:3.3\t50:3.2\t51:3.2\t52:3.1\t53:2.3\t54:2.8\t55:2.8\t56:3.3\t57:2.4\t58:2.9\t59:2.7\t60:2.0\t61:3.0\t62:2.2\t63:2.9\t64:2.9\t65:3.1\t66:3.0\t67:2.7\t68:2.2\t69:2.5\t70:3.2\t71:2.8\t72:2.5\t73:2.8\t74:2.9\t75:3.0\t76:2.8\t77:3.0\t78:2.9\t79:2.6\t80:2.4\t81:2.4\t82:2.7\t83:2.7\t84:3.0\t85:3.4\t86:3.1\t87:2.3\t88:3.0\t89:2.5\t90:2.6\t91:3.0\t92:2.6\t93:2.3\t94:2.7\t95:3.0\t96:2.9\t97:2.9\t98:2.5\t99:2.8\t100:3.3\t101:2.7\t102:3.0\t103:2.9\t104:3.0\t105:3.0\t106:2.5\t107:2.9\t108:2.5\t109:3.6\t110:3.2\t111:2.7\t112:3.0\t113:2.5\t114:2.8\t115:3.2\t116:3.0\t117:3.8\t118:2.6\t119:2.2\t120:3.2\t121:2.8\t122:2.8\t123:2.7\t124:3.3\t125:3.2\t126:2.8\t127:3.0\t128:2.8\t129:3.0\t130:2.8\t131:3.8\t132:2.8\t133:2.8\t134:2.6\t135:3.0\t136:3.4\t137:3.1\t138:3.0\t139:3.1\t140:3.1\t141:3.1\t142:2.7\t143:3.2\t144:3.3\t145:3.0\t146:2.5\t147:3.0\t148:3.4\t149:3.0\t\n",
      "그룹 : petal_length\n",
      "0:1.4\t1:1.4\t2:1.3\t3:1.5\t4:1.4\t5:1.7\t6:1.4\t7:1.5\t8:1.4\t9:1.5\t10:1.5\t11:1.6\t12:1.4\t13:1.1\t14:1.2\t15:1.5\t16:1.3\t17:1.4\t18:1.7\t19:1.5\t20:1.7\t21:1.5\t22:1.0\t23:1.7\t24:1.9\t25:1.6\t26:1.6\t27:1.5\t28:1.4\t29:1.6\t30:1.6\t31:1.5\t32:1.5\t33:1.4\t34:1.5\t35:1.2\t36:1.3\t37:1.4\t38:1.3\t39:1.5\t40:1.3\t41:1.3\t42:1.3\t43:1.6\t44:1.9\t45:1.4\t46:1.6\t47:1.4\t48:1.5\t49:1.4\t50:4.7\t51:4.5\t52:4.9\t53:4.0\t54:4.6\t55:4.5\t56:4.7\t57:3.3\t58:4.6\t59:3.9\t60:3.5\t61:4.2\t62:4.0\t63:4.7\t64:3.6\t65:4.4\t66:4.5\t67:4.1\t68:4.5\t69:3.9\t70:4.8\t71:4.0\t72:4.9\t73:4.7\t74:4.3\t75:4.4\t76:4.8\t77:5.0\t78:4.5\t79:3.5\t80:3.8\t81:3.7\t82:3.9\t83:5.1\t84:4.5\t85:4.5\t86:4.7\t87:4.4\t88:4.1\t89:4.0\t90:4.4\t91:4.6\t92:4.0\t93:3.3\t94:4.2\t95:4.2\t96:4.2\t97:4.3\t98:3.0\t99:4.1\t100:6.0\t101:5.1\t102:5.9\t103:5.6\t104:5.8\t105:6.6\t106:4.5\t107:6.3\t108:5.8\t109:6.1\t110:5.1\t111:5.3\t112:5.5\t113:5.0\t114:5.1\t115:5.3\t116:5.5\t117:6.7\t118:6.9\t119:5.0\t120:5.7\t121:4.9\t122:6.7\t123:4.9\t124:5.7\t125:6.0\t126:4.8\t127:4.9\t128:5.6\t129:5.8\t130:6.1\t131:6.4\t132:5.6\t133:5.1\t134:5.6\t135:6.1\t136:5.6\t137:5.5\t138:4.8\t139:5.4\t140:5.6\t141:5.1\t142:5.1\t143:5.9\t144:5.7\t145:5.2\t146:5.0\t147:5.2\t148:5.4\t149:5.1\t\n",
      "그룹 : petal_width\n",
      "0:0.2\t1:0.2\t2:0.2\t3:0.2\t4:0.2\t5:0.4\t6:0.3\t7:0.2\t8:0.2\t9:0.1\t10:0.2\t11:0.2\t12:0.1\t13:0.1\t14:0.2\t15:0.4\t16:0.4\t17:0.3\t18:0.3\t19:0.3\t20:0.2\t21:0.4\t22:0.2\t23:0.5\t24:0.2\t25:0.2\t26:0.4\t27:0.2\t28:0.2\t29:0.2\t30:0.2\t31:0.4\t32:0.1\t33:0.2\t34:0.2\t35:0.2\t36:0.2\t37:0.1\t38:0.2\t39:0.2\t40:0.3\t41:0.3\t42:0.2\t43:0.6\t44:0.4\t45:0.3\t46:0.2\t47:0.2\t48:0.2\t49:0.2\t50:1.4\t51:1.5\t52:1.5\t53:1.3\t54:1.5\t55:1.3\t56:1.6\t57:1.0\t58:1.3\t59:1.4\t60:1.0\t61:1.5\t62:1.0\t63:1.4\t64:1.3\t65:1.4\t66:1.5\t67:1.0\t68:1.5\t69:1.1\t70:1.8\t71:1.3\t72:1.5\t73:1.2\t74:1.3\t75:1.4\t76:1.4\t77:1.7\t78:1.5\t79:1.0\t80:1.1\t81:1.0\t82:1.2\t83:1.6\t84:1.5\t85:1.6\t86:1.5\t87:1.3\t88:1.3\t89:1.3\t90:1.2\t91:1.4\t92:1.2\t93:1.0\t94:1.3\t95:1.2\t96:1.3\t97:1.3\t98:1.1\t99:1.3\t100:2.5\t101:1.9\t102:2.1\t103:1.8\t104:2.2\t105:2.1\t106:1.7\t107:1.8\t108:1.8\t109:2.5\t110:2.0\t111:1.9\t112:2.1\t113:2.0\t114:2.4\t115:2.3\t116:1.8\t117:2.2\t118:2.3\t119:1.5\t120:2.3\t121:2.0\t122:2.0\t123:1.8\t124:2.1\t125:1.8\t126:1.8\t127:1.8\t128:2.1\t129:1.6\t130:1.9\t131:2.0\t132:2.2\t133:1.5\t134:1.4\t135:2.3\t136:2.4\t137:1.8\t138:1.8\t139:2.1\t140:2.4\t141:2.3\t142:1.9\t143:2.3\t144:2.5\t145:2.3\t146:1.9\t147:2.0\t148:2.3\t149:1.8\t\n",
      "그룹 : species\n",
      "0:setosa\t1:setosa\t2:setosa\t3:setosa\t4:setosa\t5:setosa\t6:setosa\t7:setosa\t8:setosa\t9:setosa\t10:setosa\t11:setosa\t12:setosa\t13:setosa\t14:setosa\t15:setosa\t16:setosa\t17:setosa\t18:setosa\t19:setosa\t20:setosa\t21:setosa\t22:setosa\t23:setosa\t24:setosa\t25:setosa\t26:setosa\t27:setosa\t28:setosa\t29:setosa\t30:setosa\t31:setosa\t32:setosa\t33:setosa\t34:setosa\t35:setosa\t36:setosa\t37:setosa\t38:setosa\t39:setosa\t40:setosa\t41:setosa\t42:setosa\t43:setosa\t44:setosa\t45:setosa\t46:setosa\t47:setosa\t48:setosa\t49:setosa\t50:versicolor\t51:versicolor\t52:versicolor\t53:versicolor\t54:versicolor\t55:versicolor\t56:versicolor\t57:versicolor\t58:versicolor\t59:versicolor\t60:versicolor\t61:versicolor\t62:versicolor\t63:versicolor\t64:versicolor\t65:versicolor\t66:versicolor\t67:versicolor\t68:versicolor\t69:versicolor\t70:versicolor\t71:versicolor\t72:versicolor\t73:versicolor\t74:versicolor\t75:versicolor\t76:versicolor\t77:versicolor\t78:versicolor\t79:versicolor\t80:versicolor\t81:versicolor\t82:versicolor\t83:versicolor\t84:versicolor\t85:versicolor\t86:versicolor\t87:versicolor\t88:versicolor\t89:versicolor\t90:versicolor\t91:versicolor\t92:versicolor\t93:versicolor\t94:versicolor\t95:versicolor\t96:versicolor\t97:versicolor\t98:versicolor\t99:versicolor\t100:virginica\t101:virginica\t102:virginica\t103:virginica\t104:virginica\t105:virginica\t106:virginica\t107:virginica\t108:virginica\t109:virginica\t110:virginica\t111:virginica\t112:virginica\t113:virginica\t114:virginica\t115:virginica\t116:virginica\t117:virginica\t118:virginica\t119:virginica\t120:virginica\t121:virginica\t122:virginica\t123:virginica\t124:virginica\t125:virginica\t126:virginica\t127:virginica\t128:virginica\t129:virginica\t130:virginica\t131:virginica\t132:virginica\t133:virginica\t134:virginica\t135:virginica\t136:virginica\t137:virginica\t138:virginica\t139:virginica\t140:virginica\t141:virginica\t142:virginica\t143:virginica\t144:virginica\t145:virginica\t146:virginica\t147:virginica\t148:virginica\t149:virginica\t\n"
     ]
    }
   ],
   "source": [
    "for group, value in iris_dic.items():\n",
    "    print('그룹 :', group)\n",
    "    for key, data in value.items():\n",
    "        print('{}:{}'.format(str(key), data), end='\\t')\n",
    "    print()"
   ]
  },
  {
   "cell_type": "code",
   "execution_count": 66,
   "id": "444176b3",
   "metadata": {},
   "outputs": [
    {
     "ename": "PermissionError",
     "evalue": "[Errno 13] Unable to create file (file write failed: time = Tue Nov 19 16:18:04 2024\n, filename = 'data/ch09_iris.hdf5', file descriptor = 3, errno = 13, error message = 'Permission denied', buf = 000001463489ADB8, total write size = 96, bytes this sub-write = 96, bytes actually written = 18446744073709551615, offset = 0)",
     "output_type": "error",
     "traceback": [
      "\u001b[1;31m---------------------------------------------------------------------------\u001b[0m",
      "\u001b[1;31mPermissionError\u001b[0m                           Traceback (most recent call last)",
      "Cell \u001b[1;32mIn[66], line 3\u001b[0m\n\u001b[0;32m      1\u001b[0m \u001b[38;5;66;03m# 딕셔너리 데이터를 hdf파일로 쓰기\u001b[39;00m\n\u001b[0;32m      2\u001b[0m \u001b[38;5;28;01mimport\u001b[39;00m \u001b[38;5;21;01mh5py\u001b[39;00m\n\u001b[1;32m----> 3\u001b[0m \u001b[38;5;28;01mwith\u001b[39;00m \u001b[43mh5py\u001b[49m\u001b[38;5;241;43m.\u001b[39;49m\u001b[43mFile\u001b[49m\u001b[43m(\u001b[49m\u001b[38;5;124;43m'\u001b[39;49m\u001b[38;5;124;43mdata/ch09_iris.hdf5\u001b[39;49m\u001b[38;5;124;43m'\u001b[39;49m\u001b[43m,\u001b[49m\u001b[43m \u001b[49m\u001b[38;5;124;43m'\u001b[39;49m\u001b[38;5;124;43mw\u001b[39;49m\u001b[38;5;124;43m'\u001b[39;49m\u001b[43m)\u001b[49m \u001b[38;5;28;01mas\u001b[39;00m f:\n\u001b[0;32m      4\u001b[0m     \u001b[38;5;28;01mfor\u001b[39;00m group, value \u001b[38;5;129;01min\u001b[39;00m iris_dic\u001b[38;5;241m.\u001b[39mitems():\n\u001b[0;32m      5\u001b[0m         grp \u001b[38;5;241m=\u001b[39m f\u001b[38;5;241m.\u001b[39mcreate_group(group)\n",
      "File \u001b[1;32m~\\anaconda3\\lib\\site-packages\\h5py\\_hl\\files.py:533\u001b[0m, in \u001b[0;36mFile.__init__\u001b[1;34m(self, name, mode, driver, libver, userblock_size, swmr, rdcc_nslots, rdcc_nbytes, rdcc_w0, track_order, fs_strategy, fs_persist, fs_threshold, fs_page_size, page_buf_size, min_meta_keep, min_raw_keep, locking, alignment_threshold, alignment_interval, **kwds)\u001b[0m\n\u001b[0;32m    525\u001b[0m     fapl \u001b[38;5;241m=\u001b[39m make_fapl(driver, libver, rdcc_nslots, rdcc_nbytes, rdcc_w0,\n\u001b[0;32m    526\u001b[0m                      locking, page_buf_size, min_meta_keep, min_raw_keep,\n\u001b[0;32m    527\u001b[0m                      alignment_threshold\u001b[38;5;241m=\u001b[39malignment_threshold,\n\u001b[0;32m    528\u001b[0m                      alignment_interval\u001b[38;5;241m=\u001b[39malignment_interval,\n\u001b[0;32m    529\u001b[0m                      \u001b[38;5;241m*\u001b[39m\u001b[38;5;241m*\u001b[39mkwds)\n\u001b[0;32m    530\u001b[0m     fcpl \u001b[38;5;241m=\u001b[39m make_fcpl(track_order\u001b[38;5;241m=\u001b[39mtrack_order, fs_strategy\u001b[38;5;241m=\u001b[39mfs_strategy,\n\u001b[0;32m    531\u001b[0m                      fs_persist\u001b[38;5;241m=\u001b[39mfs_persist, fs_threshold\u001b[38;5;241m=\u001b[39mfs_threshold,\n\u001b[0;32m    532\u001b[0m                      fs_page_size\u001b[38;5;241m=\u001b[39mfs_page_size)\n\u001b[1;32m--> 533\u001b[0m     fid \u001b[38;5;241m=\u001b[39m \u001b[43mmake_fid\u001b[49m\u001b[43m(\u001b[49m\u001b[43mname\u001b[49m\u001b[43m,\u001b[49m\u001b[43m \u001b[49m\u001b[43mmode\u001b[49m\u001b[43m,\u001b[49m\u001b[43m \u001b[49m\u001b[43muserblock_size\u001b[49m\u001b[43m,\u001b[49m\u001b[43m \u001b[49m\u001b[43mfapl\u001b[49m\u001b[43m,\u001b[49m\u001b[43m \u001b[49m\u001b[43mfcpl\u001b[49m\u001b[43m,\u001b[49m\u001b[43m \u001b[49m\u001b[43mswmr\u001b[49m\u001b[38;5;241;43m=\u001b[39;49m\u001b[43mswmr\u001b[49m\u001b[43m)\u001b[49m\n\u001b[0;32m    535\u001b[0m \u001b[38;5;28;01mif\u001b[39;00m \u001b[38;5;28misinstance\u001b[39m(libver, \u001b[38;5;28mtuple\u001b[39m):\n\u001b[0;32m    536\u001b[0m     \u001b[38;5;28mself\u001b[39m\u001b[38;5;241m.\u001b[39m_libver \u001b[38;5;241m=\u001b[39m libver\n",
      "File \u001b[1;32m~\\anaconda3\\lib\\site-packages\\h5py\\_hl\\files.py:232\u001b[0m, in \u001b[0;36mmake_fid\u001b[1;34m(name, mode, userblock_size, fapl, fcpl, swmr)\u001b[0m\n\u001b[0;32m    230\u001b[0m     fid \u001b[38;5;241m=\u001b[39m h5f\u001b[38;5;241m.\u001b[39mcreate(name, h5f\u001b[38;5;241m.\u001b[39mACC_EXCL, fapl\u001b[38;5;241m=\u001b[39mfapl, fcpl\u001b[38;5;241m=\u001b[39mfcpl)\n\u001b[0;32m    231\u001b[0m \u001b[38;5;28;01melif\u001b[39;00m mode \u001b[38;5;241m==\u001b[39m \u001b[38;5;124m'\u001b[39m\u001b[38;5;124mw\u001b[39m\u001b[38;5;124m'\u001b[39m:\n\u001b[1;32m--> 232\u001b[0m     fid \u001b[38;5;241m=\u001b[39m \u001b[43mh5f\u001b[49m\u001b[38;5;241;43m.\u001b[39;49m\u001b[43mcreate\u001b[49m\u001b[43m(\u001b[49m\u001b[43mname\u001b[49m\u001b[43m,\u001b[49m\u001b[43m \u001b[49m\u001b[43mh5f\u001b[49m\u001b[38;5;241;43m.\u001b[39;49m\u001b[43mACC_TRUNC\u001b[49m\u001b[43m,\u001b[49m\u001b[43m \u001b[49m\u001b[43mfapl\u001b[49m\u001b[38;5;241;43m=\u001b[39;49m\u001b[43mfapl\u001b[49m\u001b[43m,\u001b[49m\u001b[43m \u001b[49m\u001b[43mfcpl\u001b[49m\u001b[38;5;241;43m=\u001b[39;49m\u001b[43mfcpl\u001b[49m\u001b[43m)\u001b[49m\n\u001b[0;32m    233\u001b[0m \u001b[38;5;28;01melif\u001b[39;00m mode \u001b[38;5;241m==\u001b[39m \u001b[38;5;124m'\u001b[39m\u001b[38;5;124ma\u001b[39m\u001b[38;5;124m'\u001b[39m:\n\u001b[0;32m    234\u001b[0m     \u001b[38;5;66;03m# Open in append mode (read/write).\u001b[39;00m\n\u001b[0;32m    235\u001b[0m     \u001b[38;5;66;03m# If that fails, create a new file only if it won't clobber an\u001b[39;00m\n\u001b[0;32m    236\u001b[0m     \u001b[38;5;66;03m# existing one (ACC_EXCL)\u001b[39;00m\n\u001b[0;32m    237\u001b[0m     \u001b[38;5;28;01mtry\u001b[39;00m:\n",
      "File \u001b[1;32mh5py\\_objects.pyx:54\u001b[0m, in \u001b[0;36mh5py._objects.with_phil.wrapper\u001b[1;34m()\u001b[0m\n",
      "File \u001b[1;32mh5py\\_objects.pyx:55\u001b[0m, in \u001b[0;36mh5py._objects.with_phil.wrapper\u001b[1;34m()\u001b[0m\n",
      "File \u001b[1;32mh5py\\h5f.pyx:126\u001b[0m, in \u001b[0;36mh5py.h5f.create\u001b[1;34m()\u001b[0m\n",
      "\u001b[1;31mPermissionError\u001b[0m: [Errno 13] Unable to create file (file write failed: time = Tue Nov 19 16:18:04 2024\n, filename = 'data/ch09_iris.hdf5', file descriptor = 3, errno = 13, error message = 'Permission denied', buf = 000001463489ADB8, total write size = 96, bytes this sub-write = 96, bytes actually written = 18446744073709551615, offset = 0)"
     ]
    }
   ],
   "source": [
    "# 딕셔너리 데이터를 hdf파일로 쓰기\n",
    "import h5py\n",
    "with h5py.File('data/ch09_iris.hdf5', 'w') as f:\n",
    "    for group, value in iris_dic.items():\n",
    "        grp = f.create_group(group)\n",
    "        for key, data in value.items():\n",
    "            grp.create_dataset(str(key), data=data)"
   ]
  },
  {
   "cell_type": "code",
   "execution_count": null,
   "id": "43f6f3c2",
   "metadata": {},
   "outputs": [],
   "source": [
    "# 데이터프레임을 hdf파일로 쓰기\n",
    "iris_df.to_hdf('data/ch09_iris2.hdf5', key='iris')"
   ]
  },
  {
   "cell_type": "code",
   "execution_count": null,
   "id": "ed434167",
   "metadata": {},
   "outputs": [],
   "source": [
    "iris_df"
   ]
  },
  {
   "cell_type": "markdown",
   "id": "6664eae8",
   "metadata": {},
   "source": [
    "## 5.2 hdf5 파일 읽기\n",
    "1. hdf5파일에서 데이터프레임으로 읽기 \n",
    "2. hdf5파일에서 딕셔너리로 읽기"
   ]
  },
  {
   "cell_type": "code",
   "execution_count": null,
   "id": "565ba720",
   "metadata": {},
   "outputs": [],
   "source": [
    "# hdf5파일에서 데이터프레임 변수로 읽어오기\n",
    "load_iris_df = pd.read_hdf('data/ch09_iris2.hdf5', key='iris')\n",
    "load_iris_df"
   ]
  },
  {
   "cell_type": "code",
   "execution_count": null,
   "id": "5a411e7e",
   "metadata": {},
   "outputs": [],
   "source": [
    "# hdf파일을 딕셔너리 변수로 읽어오기"
   ]
  },
  {
   "cell_type": "code",
   "execution_count": null,
   "id": "ac1edc34",
   "metadata": {},
   "outputs": [],
   "source": [
    "dict_data = {}\n",
    "dict_data['name'] = '홍길동'\n",
    "dict_data"
   ]
  },
  {
   "cell_type": "code",
   "execution_count": null,
   "id": "54c1537e",
   "metadata": {},
   "outputs": [],
   "source": [
    "dict_data = {}\n",
    "dict_data.update({'name':'홍길동'})\n",
    "dict_data"
   ]
  },
  {
   "cell_type": "code",
   "execution_count": null,
   "id": "07770e19",
   "metadata": {},
   "outputs": [],
   "source": [
    "# hdf5 파일의 내용을 읽어 출력하기\n",
    "with h5py.File('data/ch09_iris.hdf5', 'r') as f:\n",
    "    for group, value in f.items():\n",
    "        print('그룹 :', group)\n",
    "        for key, data in value.items():\n",
    "            print('{}:{}'.format(key, data[()]), end='\\t')"
   ]
  },
  {
   "cell_type": "code",
   "execution_count": null,
   "id": "68122836",
   "metadata": {},
   "outputs": [],
   "source": [
    "# hdf5 파일의 내용을 딕셔너리에 담기 \n",
    "iris_dic2 = {}\n",
    "with h5py.File('data/ch09_iris.hdf5', 'r') as f:\n",
    "    for group, value in f.items():\n",
    "        cols = {}\n",
    "        for key, data in value.items():\n",
    "#             cols[int(key)] = data[()]\n",
    "            cols.update({int(key) : data[()]})\n",
    "        iris_dic2[group] = cols"
   ]
  },
  {
   "cell_type": "code",
   "execution_count": null,
   "id": "edca10ad",
   "metadata": {},
   "outputs": [],
   "source": [
    "for group, value in iris_dic2.items():\n",
    "    print('그룹 :',group)\n",
    "    print(value)\n",
    "    print()"
   ]
  },
  {
   "cell_type": "markdown",
   "id": "9daa0a55",
   "metadata": {},
   "source": [
    "# 6절. 연습문제 : 고객관리\n",
    "- 프로그램 실행 시작시 : \n",
    "    * 'data/ch09_customers.txt'(프로그램 실행시 백업용 데이터) 파일이 있으면 파일 input \n",
    "    * 'data/ch09_customers.txt' 파일이 없으면 빈 파일 생성\n",
    "    * 'data/ch09_customers.txt' 파일 내용 :\n",
    "    ```\n",
    "        홍길동, 010-5131-3156, hong@h.com, 30, 5, 열심히 \n",
    "        김길동, 010-5211-3216, kim@h.com, 35, 5, 대충\n",
    "        유길동, 010-1235-9063, yu@h.com, 20, 2, 까칠해\n",
    "    ```\n",
    "- Customer 클래스 작성(고객데이터 타입)\n",
    "    * __init__, __str__, as_dic(csv파일출력을위해서), to_list_style(txt파일 출력을 위해 list)\n",
    "- 1 입력"
   ]
  },
  {
   "cell_type": "code",
   "execution_count": 95,
   "id": "e0edd908",
   "metadata": {},
   "outputs": [],
   "source": [
    "class Customer:\n",
    "    def __init__(self, name, tel, email, age, grade, etc):\n",
    "        self.name = name\n",
    "        self.tel = tel\n",
    "        self.email = email\n",
    "        self.age = age\n",
    "        self.grade = grade\n",
    "        self.etc = etc\n",
    "    def as_dic(self):\n",
    "        return {'name' : self.name,\n",
    "               'tel' : self.tel,\n",
    "               'email' : self.email,\n",
    "               'age' : self.age,\n",
    "               'grade' : self.grade,\n",
    "               'etc' : self.etc}\n",
    "    def to_list_style(self):\n",
    "        temp = [self.grade, self.name, self.tel, self.email, self.age, self.etc]\n",
    "        return ','.join(temp)\n",
    "    def __str__(self):\n",
    "        return \"{:>5} {:3} {:15} {:15} {:3} {}\".format('*'*self.grade,\n",
    "                                                                 self.name,\n",
    "                                                                 self.tel,\n",
    "                                                                 self.email,\n",
    "                                                                 self.age,\n",
    "                                                                 self.etc)\n",
    "    # :>5 :3 :15 :15 :3 "
   ]
  },
  {
   "cell_type": "code",
   "execution_count": null,
   "id": "ebfa95af",
   "metadata": {},
   "outputs": [],
   "source": [
    "def to_customer(row):\n",
    "    data = row.strip().split(',')\n",
    "    name = data[0]\n",
    "    tel = int(data[1].strip()) # strip은 앞뒤 white space 제거\n",
    "    email = data[2].strip()\n",
    "    age = int(data[3].strip())\n",
    "    grade = int(data[4].strip())\n",
    "    etc = data[5].strip()\n",
    "    return Customer(name, tel, email, age, grade, etc)"
   ]
  },
  {
   "cell_type": "code",
   "execution_count": 97,
   "id": "57956754",
   "metadata": {},
   "outputs": [],
   "source": [
    "def load_customer():\n",
    "    customer_list = []\n",
    "    try:\n",
    "        with open('data/ch09_customer.txt','r', encoding='utf-8') as f:\n",
    "            rows = f.readlines()\n",
    "            for row in rows:\n",
    "                try:\n",
    "                    customer = to_customer(row)\n",
    "                    customer_list.append(customer)\n",
    "                except ValueError as e:\n",
    "                    print(e)\n",
    "    except FileNotFoundError:\n",
    "        with open('data/ch09_customer.txt','w', encoding='utf-8') as f:\n",
    "            f.write('')\n",
    "    return customer_list"
   ]
  },
  {
   "cell_type": "code",
   "execution_count": 98,
   "id": "f939100e",
   "metadata": {},
   "outputs": [],
   "source": [
    "def fn1_insert_customer_info():\n",
    "    print(\"고객 정보 입력\")\n",
    "    name = input(\"이름: \")\n",
    "    tel = input(\"전화번호: \")\n",
    "    email = input(\"이메일: \")\n",
    "    age = input(\"나이: \")\n",
    "    etc = input(\"기타 정보: \")\n",
    "    grade = int(input(\"등급 (숫자): \"))\n",
    "    return Customer(name, tel, email, age, grade, etc)"
   ]
  },
  {
   "cell_type": "code",
   "execution_count": 99,
   "id": "1d2c9f9b",
   "metadata": {},
   "outputs": [],
   "source": [
    "def fn2_print_customers(customer_list):\n",
    "    print('=======================================================')\n",
    "    print(\"\\t\\t\\t고객 정보\")\n",
    "    print('-------------------------------------------------------')\n",
    "    print('GRADE\\t이름\\t전화\\t\\t메일\\t나이\\t기타\\t')\n",
    "    for customer in customer_list:\n",
    "        print(customer)"
   ]
  },
  {
   "cell_type": "code",
   "execution_count": 100,
   "id": "8446db81",
   "metadata": {},
   "outputs": [],
   "source": [
    "def fn3_delete_customer(customer_list):\n",
    "    print(\"고객 삭제\")\n",
    "    name = input(\"삭제하실 고객 이름 :\").strip()\n",
    "    delete_flag = False\n",
    "    for customer in customer_list:\n",
    "        if customer.name == name:\n",
    "            customer_list.remove(customer)\n",
    "            delete_flag = True\n",
    "    if delete_flag:\n",
    "        print(\"{} 해당 고객을 삭제했습니다.\".format(name))\n",
    "    else:\n",
    "        print(\"{} 해당 고객은 저희 고객이 아닙니다\".format(name))"
   ]
  },
  {
   "cell_type": "code",
   "execution_count": 101,
   "id": "6ab054d4",
   "metadata": {},
   "outputs": [],
   "source": [
    "result = []\n",
    "def fn4_search_customer(customer_list):\n",
    "    print(\"검색할 고객 정보\")\n",
    "    name = input(\"검색하실 고객 이름 :\").strip()\n",
    "    name_ = False\n",
    "    for customer in customer_list:\n",
    "        if name in customer.name:\n",
    "            name_ = True\n",
    "    if name_:\n",
    "        print(customer)\n",
    "    else:\n",
    "        print(\"검색하신 {} 고객은 존재하지 않습니다.\".format(name))"
   ]
  },
  {
   "cell_type": "code",
   "execution_count": 102,
   "id": "b8d2b313",
   "metadata": {},
   "outputs": [],
   "source": [
    "def fn5_save_customer_csv(customer_list):\n",
    "    with open('data/ch09_customer.csv', 'w', encoding='utf-8') as f:\n",
    "        writer = csv.writer(f, quoting=csv.QUOTE_NONNUMERIC)\n",
    "        writer.writerows(customer_list)"
   ]
  },
  {
   "cell_type": "code",
   "execution_count": 103,
   "id": "7cad7924",
   "metadata": {},
   "outputs": [],
   "source": [
    "def fn9_save_customer_txt(customer_list):\n",
    "    print(\"고객 정보 txt 저장\")\n",
    "    filename = \"data/ch09_customer.txt\"\n",
    "    with open(filename, mode='w', encoding='utf-8') as file:\n",
    "        for customer in customer_list:\n",
    "            file.write(str(customer) + '\\n')\n",
    "    print(\"{} 파일에 저장되었습니다.\".format(filename))"
   ]
  },
  {
   "cell_type": "code",
   "execution_count": null,
   "id": "3e537424",
   "metadata": {},
   "outputs": [],
   "source": [
    "def main():\n",
    "    global customer_list\n",
    "    customer_list = load_customer()\n",
    "    while True:\n",
    "        print(\"1:입력 \",\" 2:전체출력 \",\" 3:삭제 \",\" 4:이름찾기 \",\" 5:내보내기 (CSV)\", \" 9:종료 \", sep=' | ', end='')\n",
    "        fn = int(input('메뉴선택 :'))\n",
    "        if fn == 1:\n",
    "            customer = fn1_insert_customer_info() \n",
    "            customer_list.append(customer)\n",
    "        elif fn == 2:\n",
    "            fn2_print_customers(customer_list)\n",
    "        elif fn == 3:\n",
    "            fn3_delete_customer(customer_list)\n",
    "        elif fn == 4:\n",
    "            fn4_search_customer(customer_list)\n",
    "        elif fn == 5:\n",
    "            fn5_save_customer_csv(customer_list)\n",
    "        elif fn == 9:\n",
    "            fn9_save_customer_txt(customer_list)\n",
    "            break\n",
    "if __name__ == '__main__':\n",
    "    main()"
   ]
  },
  {
   "cell_type": "code",
   "execution_count": null,
   "id": "51adf40b",
   "metadata": {},
   "outputs": [],
   "source": []
  },
  {
   "cell_type": "code",
   "execution_count": null,
   "id": "b29bb9cf",
   "metadata": {},
   "outputs": [],
   "source": []
  },
  {
   "cell_type": "code",
   "execution_count": null,
   "id": "1a6fe621",
   "metadata": {},
   "outputs": [],
   "source": []
  },
  {
   "cell_type": "code",
   "execution_count": null,
   "id": "23d82c74",
   "metadata": {},
   "outputs": [],
   "source": []
  },
  {
   "cell_type": "code",
   "execution_count": null,
   "id": "f4b30975",
   "metadata": {},
   "outputs": [],
   "source": []
  },
  {
   "cell_type": "code",
   "execution_count": null,
   "id": "9e7d46b8",
   "metadata": {},
   "outputs": [],
   "source": [
    " "
   ]
  },
  {
   "cell_type": "code",
   "execution_count": null,
   "id": "e95ef7b8",
   "metadata": {},
   "outputs": [],
   "source": []
  },
  {
   "cell_type": "code",
   "execution_count": null,
   "id": "184f6686",
   "metadata": {},
   "outputs": [],
   "source": []
  },
  {
   "cell_type": "code",
   "execution_count": null,
   "id": "e9d3c14a",
   "metadata": {},
   "outputs": [],
   "source": []
  },
  {
   "cell_type": "code",
   "execution_count": null,
   "id": "e2f62e5f",
   "metadata": {},
   "outputs": [],
   "source": []
  },
  {
   "cell_type": "code",
   "execution_count": null,
   "id": "105e1b59",
   "metadata": {},
   "outputs": [],
   "source": []
  },
  {
   "cell_type": "code",
   "execution_count": null,
   "id": "86e1702b",
   "metadata": {},
   "outputs": [],
   "source": []
  },
  {
   "cell_type": "code",
   "execution_count": null,
   "id": "27e278d6",
   "metadata": {},
   "outputs": [],
   "source": []
  },
  {
   "cell_type": "code",
   "execution_count": null,
   "id": "2039aeef",
   "metadata": {},
   "outputs": [],
   "source": []
  },
  {
   "cell_type": "code",
   "execution_count": null,
   "id": "fa8f455e",
   "metadata": {},
   "outputs": [],
   "source": []
  },
  {
   "cell_type": "code",
   "execution_count": null,
   "id": "06a8f2b0",
   "metadata": {},
   "outputs": [],
   "source": []
  },
  {
   "cell_type": "code",
   "execution_count": null,
   "id": "e6b42938",
   "metadata": {},
   "outputs": [],
   "source": []
  },
  {
   "cell_type": "code",
   "execution_count": null,
   "id": "17e55d1d",
   "metadata": {},
   "outputs": [],
   "source": []
  },
  {
   "cell_type": "code",
   "execution_count": null,
   "id": "a2d183eb",
   "metadata": {},
   "outputs": [],
   "source": []
  },
  {
   "cell_type": "code",
   "execution_count": null,
   "id": "f6c7c99e",
   "metadata": {},
   "outputs": [],
   "source": []
  },
  {
   "cell_type": "code",
   "execution_count": null,
   "id": "b036dbd5",
   "metadata": {},
   "outputs": [],
   "source": []
  },
  {
   "cell_type": "code",
   "execution_count": null,
   "id": "37559252",
   "metadata": {},
   "outputs": [],
   "source": []
  },
  {
   "cell_type": "code",
   "execution_count": null,
   "id": "2089130e",
   "metadata": {},
   "outputs": [],
   "source": []
  },
  {
   "cell_type": "code",
   "execution_count": null,
   "id": "00da5a7a",
   "metadata": {},
   "outputs": [],
   "source": []
  },
  {
   "cell_type": "code",
   "execution_count": null,
   "id": "7b0c897a",
   "metadata": {},
   "outputs": [],
   "source": []
  },
  {
   "cell_type": "code",
   "execution_count": null,
   "id": "b363b83a",
   "metadata": {},
   "outputs": [],
   "source": []
  },
  {
   "cell_type": "code",
   "execution_count": null,
   "id": "f6db78f9",
   "metadata": {},
   "outputs": [],
   "source": []
  },
  {
   "cell_type": "code",
   "execution_count": null,
   "id": "9481e08b",
   "metadata": {},
   "outputs": [],
   "source": []
  },
  {
   "cell_type": "code",
   "execution_count": null,
   "id": "86077253",
   "metadata": {},
   "outputs": [],
   "source": []
  },
  {
   "cell_type": "code",
   "execution_count": null,
   "id": "1e00a264",
   "metadata": {},
   "outputs": [],
   "source": []
  },
  {
   "cell_type": "code",
   "execution_count": null,
   "id": "7050c5e6",
   "metadata": {},
   "outputs": [],
   "source": []
  },
  {
   "cell_type": "code",
   "execution_count": null,
   "id": "018b7abf",
   "metadata": {},
   "outputs": [],
   "source": []
  },
  {
   "cell_type": "code",
   "execution_count": null,
   "id": "a94b52fb",
   "metadata": {},
   "outputs": [],
   "source": []
  }
 ],
 "metadata": {
  "kernelspec": {
   "display_name": "Python 3 (ipykernel)",
   "language": "python",
   "name": "python3"
  },
  "language_info": {
   "codemirror_mode": {
    "name": "ipython",
    "version": 3
   },
   "file_extension": ".py",
   "mimetype": "text/x-python",
   "name": "python",
   "nbconvert_exporter": "python",
   "pygments_lexer": "ipython3",
   "version": "3.10.9"
  },
  "toc": {
   "base_numbering": 1,
   "nav_menu": {},
   "number_sections": true,
   "sideBar": true,
   "skip_h1_title": false,
   "title_cell": "Table of Contents",
   "title_sidebar": "Contents",
   "toc_cell": false,
   "toc_position": {
    "height": "calc(100% - 180px)",
    "left": "10px",
    "top": "150px",
    "width": "207.797px"
   },
   "toc_section_display": true,
   "toc_window_display": true
  }
 },
 "nbformat": 4,
 "nbformat_minor": 5
}
