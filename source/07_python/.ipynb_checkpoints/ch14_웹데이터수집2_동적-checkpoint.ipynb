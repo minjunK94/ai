{
 "cells": [
  {
   "cell_type": "markdown",
   "id": "ae4dbabb",
   "metadata": {},
   "source": [
    "<b><font color=\"red\" size=\"6\">ch14. 웹데이터수집</font></b>\n",
    "# 1절. Selenium을 이용한 동적 웹크롤링 문법\n",
    "- https://selenium-python.readthedocs.io/index.html\n",
    "    * pip install selenium"
   ]
  },
  {
   "cell_type": "code",
   "execution_count": 7,
   "id": "2c74fdf9",
   "metadata": {},
   "outputs": [],
   "source": [
    "from selenium import webdriver\n",
    "from selenium.webdriver.common.by import By\n",
    "import time"
   ]
  },
  {
   "cell_type": "code",
   "execution_count": 25,
   "id": "ca7488ee",
   "metadata": {},
   "outputs": [],
   "source": [
    "dv = webdriver.Chrome()\n",
    "dv.get('http://python.org')\n",
    "elem = dv.find_element(By.NAME, 'q')\n",
    "elem.clear()\n",
    "elem.send_keys('pycon')"
   ]
  },
  {
   "cell_type": "code",
   "execution_count": 9,
   "id": "924f5214",
   "metadata": {},
   "outputs": [],
   "source": [
    "from selenium.webdriver.common.keys import Keys\n",
    "elem.send_keys(Keys.RETURN) # enter키 효과"
   ]
  },
  {
   "cell_type": "code",
   "execution_count": 26,
   "id": "43f9a4ed",
   "metadata": {},
   "outputs": [],
   "source": [
    "btn_elem = dv.find_element(By.CSS_SELECTOR, 'button#submit')\n",
    "btn_elem.click()"
   ]
  },
  {
   "cell_type": "code",
   "execution_count": 27,
   "id": "7972b600",
   "metadata": {},
   "outputs": [
    {
     "name": "stdout",
     "output_type": "stream",
     "text": [
      "PSF PyCon Trademark Usage Policy - https://www.python.org/psf/trademarks/pycon\n",
      "PyCon Italia 2016 (PyCon Sette) - https://www.python.org/events/python-events/378/\n",
      "PyCon Australia 2013 - https://www.python.org/events/python-events/57/\n",
      "PyCon AU 2019 - https://www.python.org/events/python-events/776/\n",
      "PyCon Australia 2014 - https://www.python.org/events/python-events/10/\n",
      "PyCon Ireland 2012 - https://www.python.org/events/python-events/76/\n",
      "PyCon Ireland 2016 - https://www.python.org/events/python-events/429/\n",
      "PyCon Ireland 2022 - https://www.python.org/events/python-events/1320/\n",
      "PyCon Australia 2014 - https://www.python.org/events/python-events/1447/\n",
      "PyCon Ireland 2024 - https://www.python.org/events/python-events/1862/\n",
      "PyCon APAC 2025 - https://www.python.org/events/python-events/1879/\n",
      "PyCon AU 2018 - https://www.python.org/events/python-events/696/\n",
      "PyCon APAC 2022 - https://www.python.org/events/python-events/1216/\n",
      "PyCon PH 2024 - https://www.python.org/events/python-events/1661/\n",
      "PyCon Ireland 2023 - https://www.python.org/events/python-events/1568/\n",
      "PyCon PL 2014 - https://www.python.org/events/python-events/191/\n",
      "PyCon MY 2015 - https://www.python.org/events/python-events/313/\n",
      "PyCon Ireland 2015 - https://www.python.org/events/python-events/333/\n",
      "PyCon AU 2015 - https://www.python.org/events/python-events/273/\n",
      "PyCon Australia 2016 - https://www.python.org/events/python-events/357/\n"
     ]
    }
   ],
   "source": [
    "result_list = dv.find_elements(By.CSS_SELECTOR, 'li > h3 > a')\n",
    "for result in result_list:\n",
    "    print(\"%s - %s\" % (result.text, result.get_attribute('href')))"
   ]
  },
  {
   "cell_type": "code",
   "execution_count": 28,
   "id": "2c5795d5",
   "metadata": {},
   "outputs": [
    {
     "name": "stdout",
     "output_type": "stream",
     "text": [
      "PSF PyCon Trademark Usage Policy - https://www.python.org/psf/trademarks/pycon\n",
      "PyCon Italia 2016 (PyCon Sette) - https://www.python.org/events/python-events/378/\n",
      "PyCon Australia 2013 - https://www.python.org/events/python-events/57/\n",
      "PyCon AU 2019 - https://www.python.org/events/python-events/776/\n",
      "PyCon Australia 2014 - https://www.python.org/events/python-events/10/\n",
      "PyCon Ireland 2012 - https://www.python.org/events/python-events/76/\n",
      "PyCon Ireland 2016 - https://www.python.org/events/python-events/429/\n",
      "PyCon Ireland 2022 - https://www.python.org/events/python-events/1320/\n",
      "PyCon Australia 2014 - https://www.python.org/events/python-events/1447/\n",
      "PyCon Ireland 2024 - https://www.python.org/events/python-events/1862/\n",
      "PyCon APAC 2025 - https://www.python.org/events/python-events/1879/\n",
      "PyCon AU 2018 - https://www.python.org/events/python-events/696/\n",
      "PyCon APAC 2022 - https://www.python.org/events/python-events/1216/\n",
      "PyCon PH 2024 - https://www.python.org/events/python-events/1661/\n",
      "PyCon Ireland 2023 - https://www.python.org/events/python-events/1568/\n",
      "PyCon PL 2014 - https://www.python.org/events/python-events/191/\n",
      "PyCon MY 2015 - https://www.python.org/events/python-events/313/\n",
      "PyCon Ireland 2015 - https://www.python.org/events/python-events/333/\n",
      "PyCon AU 2015 - https://www.python.org/events/python-events/273/\n",
      "PyCon Australia 2016 - https://www.python.org/events/python-events/357/\n"
     ]
    }
   ],
   "source": [
    "from bs4 import BeautifulSoup\n",
    "soup = BeautifulSoup(dv.page_source, 'html.parser')\n",
    "result_list = soup.select('li > h3 > a')\n",
    "for result in result_list:\n",
    "    print('%s - %s' % (result.text, domain+result.attrs['href']))"
   ]
  },
  {
   "cell_type": "code",
   "execution_count": 22,
   "id": "cd42a5be",
   "metadata": {},
   "outputs": [
    {
     "name": "stdout",
     "output_type": "stream",
     "text": [
      "https://www.python.org/search/?q=pycon\n",
      "https www.python.org\n",
      "https://www.python.org\n"
     ]
    }
   ],
   "source": [
    "from urllib.parse import urlparse\n",
    "current_url = dv.current_url # 셀레니윰을 통해 접근한 현재 url\n",
    "print(current_url) # 현재 주소\n",
    "parse_url = urlparse(current_url)\n",
    "print(parse_url.scheme, parse_url.netloc)\n",
    "domain = f'{parse_url.scheme}://{parse_url.netloc}'\n",
    "print(domain) # 도메인"
   ]
  },
  {
   "cell_type": "code",
   "execution_count": 29,
   "id": "7add8777",
   "metadata": {},
   "outputs": [],
   "source": [
    "dv.close() # 브라우저 종료"
   ]
  },
  {
   "cell_type": "markdown",
   "id": "6d703c38",
   "metadata": {},
   "source": [
    "# 2절. 동적웹크롤링 예제\n",
    "## 2-1 다음 뉴스 검색"
   ]
  },
  {
   "cell_type": "code",
   "execution_count": 37,
   "id": "2caa08ec",
   "metadata": {},
   "outputs": [],
   "source": [
    "dv = webdriver.Chrome()\n",
    "dv.get('https://www.daum.net/')\n",
    "elem = dv.find_element(By.NAME, 'q')\n",
    "elem.clear()\n",
    "elem.send_keys('토마토파스타')\n",
    "elem.send_keys(Keys.RETURN)\n",
    "news_tab = dv.find_element(By.CLASS_NAME, 'inner_tab')\n",
    "news_tab.click()"
   ]
  },
  {
   "cell_type": "code",
   "execution_count": 38,
   "id": "2abaaad1",
   "metadata": {},
   "outputs": [],
   "source": [
    "dv.close()"
   ]
  },
  {
   "cell_type": "code",
   "execution_count": null,
   "id": "0835d03b",
   "metadata": {},
   "outputs": [],
   "source": [
    "from selenium import webdriver\n",
    "from selenium.webdriver.common.by import By\n",
    "from selenium.webdriver.common.keys import Keys\n",
    "import time\n",
    "import pandas as pd"
   ]
  },
  {
   "cell_type": "code",
   "execution_count": 68,
   "id": "83abb6eb",
   "metadata": {},
   "outputs": [
    {
     "name": "stdout",
     "output_type": "stream",
     "text": [
      "검색 하실 단어를 입력해주세요 : 파스타\n"
     ]
    }
   ],
   "source": [
    "driver = webdriver.Chrome()\n",
    "time.sleep(2)\n",
    "url = 'https://www.daum.net/'\n",
    "driver.get(url)\n",
    "driver.implicitly_wait(0.5) # time.sleep(0.5) 두개가 동일한 명령어\n",
    "driver.find_element(By.CLASS_NAME, 'tf_keyword').click()\n",
    "query = input('검색 하실 단어를 입력해주세요 : ')\n",
    "driver.find_element(By.CSS_SELECTOR, 'input[type=\"text\"]').send_keys(query)\n",
    "driver.find_element(By.CLASS_NAME, 'btn_ksearch').click()\n",
    "time.sleep(1)\n",
    "# driver.find_elements(By.CSS_SELECTOR, 'ul.list_tab > li')[4].click()\n",
    "tabs = driver.find_elements(By.CSS_SELECTOR, 'ul.list_tab > li')\n",
    "for tab in tabs:\n",
    "    if '뉴스' in tab.text:\n",
    "        tab.click()\n",
    "        break "
   ]
  },
  {
   "cell_type": "code",
   "execution_count": 74,
   "id": "5211859d",
   "metadata": {},
   "outputs": [
    {
     "name": "stdout",
     "output_type": "stream",
     "text": [
      "류승범 “드라마 ‘파스타’ 출연? 전 연인 공효진 부탁에...” http://v.daum.net/v/20241210155701725\n",
      "류승범, 10년 사귄 공효진 쿨하게 언급...\"'파스타'? 효진양 부탁으로 출연\" ('컬투쇼') http://v.daum.net/v/20241209144531242\n",
      "\"공효진 부탁에 출연\"…류승범, 전 연인 언급 '파스타' 비화 공개 [엑's 이슈] http://v.daum.net/v/20241210073448252\n",
      "류승범, 前여친 공효진 언급...\"'파스타' 특출? 효진양 부탁에\" [Oh!쎈 포인트] http://v.daum.net/v/20241210105716156\n",
      "깊은 겨울 맛 굴 크림파스타 http://v.daum.net/v/20241128090123664\n",
      "케이크·파스타에 들어있는 ‘이것’···암세포 성장 2배까지 키운다는데 http://v.daum.net/v/20241210094111607\n",
      "풀무원, 이탈리아 파스타 기술 공유받기로 http://v.daum.net/v/20241201132644672\n",
      "풀무원, 파스타 생산설비 제조사 GEA와 협력…글로벌 경쟁력 강화 http://v.daum.net/v/20241201094848236\n",
      "몸속 암세포 2배 빠르게 키운다…파스타 만들 때도 사용한 재료 http://v.daum.net/v/20241208172301360\n",
      "엄정화 ‘살 안 찌는’ 파스타 레시피 공개 … ‘이 재료’ 쓰는 게 핵심? http://v.daum.net/v/20241202103755891\n"
     ]
    }
   ],
   "source": [
    "news_list = []\n",
    "bodies = driver.find_elements(By.CSS_SELECTOR, 'div.item-title > strong.tit-g')\n",
    "for body in bodies:\n",
    "    a = body.find_element(By.TAG_NAME, 'a')\n",
    "    title = a.text\n",
    "    link = a.get_attribute('href')\n",
    "    news_list.append([title, link])\n",
    "    print(title, link)"
   ]
  },
  {
   "cell_type": "code",
   "execution_count": 75,
   "id": "b2f50797",
   "metadata": {},
   "outputs": [],
   "source": [
    "page_nav = driver.find_element(By.CSS_SELECTOR, 'div.inner_paging')\n",
    "next_page = page_nav.find_element(By.LINK_TEXT, \"2\")\n",
    "next_page.click()"
   ]
  },
  {
   "cell_type": "code",
   "execution_count": 45,
   "id": "06132c03",
   "metadata": {},
   "outputs": [],
   "source": [
    "driver.find_element(By.CSS_SELECTOR, 'input[type=\"text\"]').clear()"
   ]
  },
  {
   "cell_type": "markdown",
   "id": "37c8c504",
   "metadata": {},
   "source": [
    "## 2-2 페이징 처리\n",
    "- 다음 뉴스 페이징 처리"
   ]
  },
  {
   "cell_type": "code",
   "execution_count": 81,
   "id": "bb935561",
   "metadata": {},
   "outputs": [
    {
     "name": "stdout",
     "output_type": "stream",
     "text": [
      "검색 하실 단어를 입력해주세요 : 잔망루피\n",
      "크롤링 할 페이지수 입력해주세요 : 5\n"
     ]
    },
    {
     "data": {
      "text/html": [
       "<div>\n",
       "<style scoped>\n",
       "    .dataframe tbody tr th:only-of-type {\n",
       "        vertical-align: middle;\n",
       "    }\n",
       "\n",
       "    .dataframe tbody tr th {\n",
       "        vertical-align: top;\n",
       "    }\n",
       "\n",
       "    .dataframe thead th {\n",
       "        text-align: right;\n",
       "    }\n",
       "</style>\n",
       "<table border=\"1\" class=\"dataframe\">\n",
       "  <thead>\n",
       "    <tr style=\"text-align: right;\">\n",
       "      <th></th>\n",
       "      <th>title</th>\n",
       "      <th>link</th>\n",
       "    </tr>\n",
       "  </thead>\n",
       "  <tbody>\n",
       "    <tr>\n",
       "      <th>0</th>\n",
       "      <td>광동제약, ‘비타500 콜라겐 잔망루피 윈터에디션’ 올 겨울 한정 판매</td>\n",
       "      <td>http://v.daum.net/v/20241211095100746</td>\n",
       "    </tr>\n",
       "    <tr>\n",
       "      <th>1</th>\n",
       "      <td>가나디 vs 망곰 vs 잔망루피…올해 가장 많이 사랑받은 카카오 이모티콘은?</td>\n",
       "      <td>http://v.daum.net/v/20241127112150588</td>\n",
       "    </tr>\n",
       "    <tr>\n",
       "      <th>2</th>\n",
       "      <td>'해녀·감귤·돌하르방' 제주 잔망루피 피규어 1000개 한정 판매</td>\n",
       "      <td>http://v.daum.net/v/20241129140312806</td>\n",
       "    </tr>\n",
       "    <tr>\n",
       "      <th>3</th>\n",
       "      <td>동서식품 한정판 ‘미떼 X 잔망루피’ 신규 디지털 광고 공개</td>\n",
       "      <td>http://v.daum.net/v/20241111083955187</td>\n",
       "    </tr>\n",
       "    <tr>\n",
       "      <th>4</th>\n",
       "      <td>'완전 럭키미떼잖아'…동서식품, '잔망루피' 협업 광고 공개</td>\n",
       "      <td>http://v.daum.net/v/20241111084854426</td>\n",
       "    </tr>\n",
       "    <tr>\n",
       "      <th>5</th>\n",
       "      <td>올해 인기 이모티콘은 잔망루피, 춘식이 등…13년 간 총2800억건 주고받아</td>\n",
       "      <td>http://v.daum.net/v/20241127155914789</td>\n",
       "    </tr>\n",
       "    <tr>\n",
       "      <th>6</th>\n",
       "      <td>모나미, MZ세대 겨냥 ‘잔망루피’ 콜라보 볼펜세트 출시</td>\n",
       "      <td>http://v.daum.net/v/20241021090606134</td>\n",
       "    </tr>\n",
       "    <tr>\n",
       "      <th>7</th>\n",
       "      <td>\"카카오톡 선물하기로 만나요\" 뚜레쥬르, 잔망루피 협업 제품 출시</td>\n",
       "      <td>http://v.daum.net/v/20241029083420500</td>\n",
       "    </tr>\n",
       "    <tr>\n",
       "      <th>8</th>\n",
       "      <td>'카트라이더 러쉬플러스' 잔망루피와 컬래버레이션 실시</td>\n",
       "      <td>http://v.daum.net/v/20241002140303164</td>\n",
       "    </tr>\n",
       "    <tr>\n",
       "      <th>9</th>\n",
       "      <td>파마리서치 \"리쥬더마, 잔망루피와 콜라보\"…제품 출시</td>\n",
       "      <td>http://v.daum.net/v/20240930141638411</td>\n",
       "    </tr>\n",
       "    <tr>\n",
       "      <th>10</th>\n",
       "      <td>넥슨 '카러플', 인기 캐릭터 '잔망루피' 컬래버 실시</td>\n",
       "      <td>http://v.daum.net/v/20241002200122662</td>\n",
       "    </tr>\n",
       "    <tr>\n",
       "      <th>11</th>\n",
       "      <td>잔망루피와 신나는 카러플 레이스 시작</td>\n",
       "      <td>http://v.daum.net/v/20241002111559434</td>\n",
       "    </tr>\n",
       "    <tr>\n",
       "      <th>12</th>\n",
       "      <td>넥슨, ‘카러플’x‘잔망루피’와 컬래버…‘올림포스 ZMLP에디션’ 공개</td>\n",
       "      <td>http://v.daum.net/v/20241002113900447</td>\n",
       "    </tr>\n",
       "    <tr>\n",
       "      <th>13</th>\n",
       "      <td>뚜레쥬르, 카카오쇼핑라이브 할인 프로모션…\"최대 25% 할인\"</td>\n",
       "      <td>http://v.daum.net/v/20241112081632712</td>\n",
       "    </tr>\n",
       "    <tr>\n",
       "      <th>14</th>\n",
       "      <td>잔망루피·캐치티니핑·짱구 다 모였다, 신세계免 '캐릭터 대전'</td>\n",
       "      <td>http://v.daum.net/v/20240823141832447</td>\n",
       "    </tr>\n",
       "    <tr>\n",
       "      <th>15</th>\n",
       "      <td>락앤락, ‘메트로 잔망루피 밀폐머그’ 출시</td>\n",
       "      <td>http://v.daum.net/v/20240805155842143</td>\n",
       "    </tr>\n",
       "    <tr>\n",
       "      <th>16</th>\n",
       "      <td>뽀로로·타요·잔망루피…유아동 IP 강자 [IPO 기업 대해부]</td>\n",
       "      <td>http://v.daum.net/v/20240625210314035</td>\n",
       "    </tr>\n",
       "    <tr>\n",
       "      <th>17</th>\n",
       "      <td>카카오 이모티콘 13주년…70만개 이모티콘 출시, 2800억건 발신</td>\n",
       "      <td>http://v.daum.net/v/20241127113345380</td>\n",
       "    </tr>\n",
       "    <tr>\n",
       "      <th>18</th>\n",
       "      <td>에이피알 부스터 프로, 1년만에 77만대 팔렸다</td>\n",
       "      <td>http://v.daum.net/v/20241127104706785</td>\n",
       "    </tr>\n",
       "    <tr>\n",
       "      <th>19</th>\n",
       "      <td>에이피알 ‘부스터 프로’, 누적 판매 77만 대 돌파</td>\n",
       "      <td>http://v.daum.net/v/20241204192052201</td>\n",
       "    </tr>\n",
       "    <tr>\n",
       "      <th>20</th>\n",
       "      <td>맥심커피로 직장인들 위로하는 잔망루피</td>\n",
       "      <td>http://v.daum.net/v/20240728182410944</td>\n",
       "    </tr>\n",
       "    <tr>\n",
       "      <th>21</th>\n",
       "      <td>한화호텔앤드리조트, 온라인 리워즈 서비스 ‘H-LIVE Club’ 가입자 수 100...</td>\n",
       "      <td>http://v.daum.net/v/20241119122010015</td>\n",
       "    </tr>\n",
       "    <tr>\n",
       "      <th>22</th>\n",
       "      <td>\"맥심과 잔망루피가 만난 이유\" 식품업계, 캐릭터 활용한 마케팅 활발</td>\n",
       "      <td>http://v.daum.net/v/20240728121645630</td>\n",
       "    </tr>\n",
       "    <tr>\n",
       "      <th>23</th>\n",
       "      <td>카톡 이모티콘 누적 사용량 2800억 개…올해 인기 높았던 건?</td>\n",
       "      <td>http://v.daum.net/v/20241127111801335</td>\n",
       "    </tr>\n",
       "    <tr>\n",
       "      <th>24</th>\n",
       "      <td>제주삼다수X잔망루피, 콜라보레이션 한정판 라벨 출시</td>\n",
       "      <td>http://v.daum.net/v/20240702175607964</td>\n",
       "    </tr>\n",
       "    <tr>\n",
       "      <th>25</th>\n",
       "      <td>LG, 14~16일 롯데전 ‘잔망루피 데이’ 이벤트 진행...16일 그룹 ‘더보이즈...</td>\n",
       "      <td>http://v.daum.net/v/20240613104320391</td>\n",
       "    </tr>\n",
       "    <tr>\n",
       "      <th>26</th>\n",
       "      <td>[Cooking&amp;Food] 막걸리Ｘ패션, 핫초코Ｘ캐릭터…색다른 조합에 지갑 열린다</td>\n",
       "      <td>http://v.daum.net/v/20241122053155564</td>\n",
       "    </tr>\n",
       "    <tr>\n",
       "      <th>27</th>\n",
       "      <td>호남권 첫 '잔망루피' 팝업스토어 열린 광주신세계···오픈 첫 날부터 '웨이팅'</td>\n",
       "      <td>http://v.daum.net/v/20240816090433179</td>\n",
       "    </tr>\n",
       "    <tr>\n",
       "      <th>28</th>\n",
       "      <td>LG '잔망루피 데이' 연다, 롯데와 주말 3연전 시구자 공개</td>\n",
       "      <td>http://v.daum.net/v/20240613110344461</td>\n",
       "    </tr>\n",
       "    <tr>\n",
       "      <th>29</th>\n",
       "      <td>뽀로로 잔망루피와 만난 '맥심 커피믹스' 올 여름 소장각이네</td>\n",
       "      <td>http://v.daum.net/v/20240627154836576</td>\n",
       "    </tr>\n",
       "    <tr>\n",
       "      <th>30</th>\n",
       "      <td>“카톡 이모티콘, 터지면 돈 벌죠”… 그런데 70만개랑 경쟁해야 된다고?</td>\n",
       "      <td>http://v.daum.net/v/20241127110617687</td>\n",
       "    </tr>\n",
       "    <tr>\n",
       "      <th>31</th>\n",
       "      <td>해외에서도 불티···에이피알 부스터프로, 판매량 77만대 돌파</td>\n",
       "      <td>http://v.daum.net/v/20241128060029152</td>\n",
       "    </tr>\n",
       "    <tr>\n",
       "      <th>32</th>\n",
       "      <td>[오늘의 브랜드] 동서식품, 한정판 ‘맥심 커피믹스 X 잔망루피 스페셜 패키지’ 출시</td>\n",
       "      <td>http://v.daum.net/v/20240627171112458</td>\n",
       "    </tr>\n",
       "    <tr>\n",
       "      <th>33</th>\n",
       "      <td>동서식품, 커피믹스 한잔으로 진한 집중의 시간을</td>\n",
       "      <td>http://v.daum.net/v/20241128161113901</td>\n",
       "    </tr>\n",
       "    <tr>\n",
       "      <th>34</th>\n",
       "      <td>샥즈, '샥즈 오픈핏 에어 X 잔망루피 에디션' 출시</td>\n",
       "      <td>http://v.daum.net/v/20240715094215560</td>\n",
       "    </tr>\n",
       "    <tr>\n",
       "      <th>35</th>\n",
       "      <td>제주삼다수 라벨 속으로 여름휴가 온 '잔망루피'</td>\n",
       "      <td>http://v.daum.net/v/20240701103342589</td>\n",
       "    </tr>\n",
       "    <tr>\n",
       "      <th>36</th>\n",
       "      <td>\"군침이 싹 도는\" 잔망루피랑 맥심 한 '잔망' 하세요</td>\n",
       "      <td>http://v.daum.net/v/20240627100647626</td>\n",
       "    </tr>\n",
       "    <tr>\n",
       "      <th>37</th>\n",
       "      <td>박보영 이어 잔망루피까지, ‘맥심 모카골드’ 이유있는 자신감</td>\n",
       "      <td>http://v.daum.net/v/20240730060135921</td>\n",
       "    </tr>\n",
       "    <tr>\n",
       "      <th>38</th>\n",
       "      <td>'잔망루피와 함께하는 여름'</td>\n",
       "      <td>http://v.daum.net/v/20240718170315304</td>\n",
       "    </tr>\n",
       "    <tr>\n",
       "      <th>39</th>\n",
       "      <td>LG, 주말 홈 3연전서 승리 기원 시구·'잔망루피 데이' 진행</td>\n",
       "      <td>http://v.daum.net/v/20240613102204247</td>\n",
       "    </tr>\n",
       "    <tr>\n",
       "      <th>40</th>\n",
       "      <td>LG, 롯데와 주말 3연전 '잔망루피데이'…박해민 1500안타·2000루타 시상식도</td>\n",
       "      <td>http://v.daum.net/v/20240613145604741</td>\n",
       "    </tr>\n",
       "    <tr>\n",
       "      <th>41</th>\n",
       "      <td>이색 콘텐츠로 MZ 사로 잡은 한화호텔앤리조트…'H-LIVE Club'가입자100만 돌파</td>\n",
       "      <td>http://v.daum.net/v/20241119143256492</td>\n",
       "    </tr>\n",
       "    <tr>\n",
       "      <th>42</th>\n",
       "      <td>‘잔망루피’ 카톡 미니 이모티콘, 구독으로 못 산다…왜?</td>\n",
       "      <td>http://v.daum.net/v/20240624143702530</td>\n",
       "    </tr>\n",
       "    <tr>\n",
       "      <th>43</th>\n",
       "      <td>'잔망루피' 입은 에이피알 '부스터프로' 한정판 출시</td>\n",
       "      <td>http://v.daum.net/v/20240416145157350</td>\n",
       "    </tr>\n",
       "    <tr>\n",
       "      <th>44</th>\n",
       "      <td>뷰티업계, ‘연예인보다 캐릭터’… “IP 협업이 더 잘나가”</td>\n",
       "      <td>http://v.daum.net/v/20241106060101065</td>\n",
       "    </tr>\n",
       "    <tr>\n",
       "      <th>45</th>\n",
       "      <td>잔망루피·최고심 인기 캐릭터…카카오 미니 이모티콘으로 만난다</td>\n",
       "      <td>http://v.daum.net/v/20240618170000844</td>\n",
       "    </tr>\n",
       "    <tr>\n",
       "      <th>46</th>\n",
       "      <td>이븐 유승언, 잔망라이브 반응 뜨겁더니…잔망루피와 컬래버 음원 발표</td>\n",
       "      <td>http://v.daum.net/v/20240405112237666</td>\n",
       "    </tr>\n",
       "    <tr>\n",
       "      <th>47</th>\n",
       "      <td>“잔망루피가 작아졌다”…카카오, 신규 미니 이모티콘 8종 출시</td>\n",
       "      <td>http://v.daum.net/v/20240618110401960</td>\n",
       "    </tr>\n",
       "    <tr>\n",
       "      <th>48</th>\n",
       "      <td>제주항공 \"산리오 협업 기획상품, 누적 판매량 36만개 돌파\"</td>\n",
       "      <td>http://v.daum.net/v/20241104103625198</td>\n",
       "    </tr>\n",
       "    <tr>\n",
       "      <th>49</th>\n",
       "      <td>폭발적인 팬 증가…입장 수입·굿즈 매출 '웃음꽃'[프로야구 흑자전환 토대②]</td>\n",
       "      <td>http://v.daum.net/v/20241110080037316</td>\n",
       "    </tr>\n",
       "  </tbody>\n",
       "</table>\n",
       "</div>"
      ],
      "text/plain": [
       "                                                title                                   link\n",
       "0             광동제약, ‘비타500 콜라겐 잔망루피 윈터에디션’ 올 겨울 한정 판매  http://v.daum.net/v/20241211095100746\n",
       "1          가나디 vs 망곰 vs 잔망루피…올해 가장 많이 사랑받은 카카오 이모티콘은?  http://v.daum.net/v/20241127112150588\n",
       "2                '해녀·감귤·돌하르방' 제주 잔망루피 피규어 1000개 한정 판매  http://v.daum.net/v/20241129140312806\n",
       "3                   동서식품 한정판 ‘미떼 X 잔망루피’ 신규 디지털 광고 공개  http://v.daum.net/v/20241111083955187\n",
       "4                   '완전 럭키미떼잖아'…동서식품, '잔망루피' 협업 광고 공개  http://v.daum.net/v/20241111084854426\n",
       "5          올해 인기 이모티콘은 잔망루피, 춘식이 등…13년 간 총2800억건 주고받아  http://v.daum.net/v/20241127155914789\n",
       "6                     모나미, MZ세대 겨냥 ‘잔망루피’ 콜라보 볼펜세트 출시  http://v.daum.net/v/20241021090606134\n",
       "7                \"카카오톡 선물하기로 만나요\" 뚜레쥬르, 잔망루피 협업 제품 출시  http://v.daum.net/v/20241029083420500\n",
       "8                       '카트라이더 러쉬플러스' 잔망루피와 컬래버레이션 실시  http://v.daum.net/v/20241002140303164\n",
       "9                       파마리서치 \"리쥬더마, 잔망루피와 콜라보\"…제품 출시  http://v.daum.net/v/20240930141638411\n",
       "10                     넥슨 '카러플', 인기 캐릭터 '잔망루피' 컬래버 실시  http://v.daum.net/v/20241002200122662\n",
       "11                               잔망루피와 신나는 카러플 레이스 시작  http://v.daum.net/v/20241002111559434\n",
       "12            넥슨, ‘카러플’x‘잔망루피’와 컬래버…‘올림포스 ZMLP에디션’ 공개  http://v.daum.net/v/20241002113900447\n",
       "13                 뚜레쥬르, 카카오쇼핑라이브 할인 프로모션…\"최대 25% 할인\"  http://v.daum.net/v/20241112081632712\n",
       "14                 잔망루피·캐치티니핑·짱구 다 모였다, 신세계免 '캐릭터 대전'  http://v.daum.net/v/20240823141832447\n",
       "15                            락앤락, ‘메트로 잔망루피 밀폐머그’ 출시  http://v.daum.net/v/20240805155842143\n",
       "16                 뽀로로·타요·잔망루피…유아동 IP 강자 [IPO 기업 대해부]  http://v.daum.net/v/20240625210314035\n",
       "17              카카오 이모티콘 13주년…70만개 이모티콘 출시, 2800억건 발신  http://v.daum.net/v/20241127113345380\n",
       "18                         에이피알 부스터 프로, 1년만에 77만대 팔렸다  http://v.daum.net/v/20241127104706785\n",
       "19                      에이피알 ‘부스터 프로’, 누적 판매 77만 대 돌파  http://v.daum.net/v/20241204192052201\n",
       "20                               맥심커피로 직장인들 위로하는 잔망루피  http://v.daum.net/v/20240728182410944\n",
       "21  한화호텔앤드리조트, 온라인 리워즈 서비스 ‘H-LIVE Club’ 가입자 수 100...  http://v.daum.net/v/20241119122010015\n",
       "22             \"맥심과 잔망루피가 만난 이유\" 식품업계, 캐릭터 활용한 마케팅 활발  http://v.daum.net/v/20240728121645630\n",
       "23                카톡 이모티콘 누적 사용량 2800억 개…올해 인기 높았던 건?  http://v.daum.net/v/20241127111801335\n",
       "24                       제주삼다수X잔망루피, 콜라보레이션 한정판 라벨 출시  http://v.daum.net/v/20240702175607964\n",
       "25  LG, 14~16일 롯데전 ‘잔망루피 데이’ 이벤트 진행...16일 그룹 ‘더보이즈...  http://v.daum.net/v/20240613104320391\n",
       "26      [Cooking&Food] 막걸리Ｘ패션, 핫초코Ｘ캐릭터…색다른 조합에 지갑 열린다  http://v.daum.net/v/20241122053155564\n",
       "27       호남권 첫 '잔망루피' 팝업스토어 열린 광주신세계···오픈 첫 날부터 '웨이팅'  http://v.daum.net/v/20240816090433179\n",
       "28                 LG '잔망루피 데이' 연다, 롯데와 주말 3연전 시구자 공개  http://v.daum.net/v/20240613110344461\n",
       "29                  뽀로로 잔망루피와 만난 '맥심 커피믹스' 올 여름 소장각이네  http://v.daum.net/v/20240627154836576\n",
       "30           “카톡 이모티콘, 터지면 돈 벌죠”… 그런데 70만개랑 경쟁해야 된다고?  http://v.daum.net/v/20241127110617687\n",
       "31                 해외에서도 불티···에이피알 부스터프로, 판매량 77만대 돌파  http://v.daum.net/v/20241128060029152\n",
       "32    [오늘의 브랜드] 동서식품, 한정판 ‘맥심 커피믹스 X 잔망루피 스페셜 패키지’ 출시  http://v.daum.net/v/20240627171112458\n",
       "33                         동서식품, 커피믹스 한잔으로 진한 집중의 시간을  http://v.daum.net/v/20241128161113901\n",
       "34                      샥즈, '샥즈 오픈핏 에어 X 잔망루피 에디션' 출시  http://v.daum.net/v/20240715094215560\n",
       "35                         제주삼다수 라벨 속으로 여름휴가 온 '잔망루피'  http://v.daum.net/v/20240701103342589\n",
       "36                     \"군침이 싹 도는\" 잔망루피랑 맥심 한 '잔망' 하세요  http://v.daum.net/v/20240627100647626\n",
       "37                  박보영 이어 잔망루피까지, ‘맥심 모카골드’ 이유있는 자신감  http://v.daum.net/v/20240730060135921\n",
       "38                                    '잔망루피와 함께하는 여름'  http://v.daum.net/v/20240718170315304\n",
       "39                LG, 주말 홈 3연전서 승리 기원 시구·'잔망루피 데이' 진행  http://v.daum.net/v/20240613102204247\n",
       "40     LG, 롯데와 주말 3연전 '잔망루피데이'…박해민 1500안타·2000루타 시상식도  http://v.daum.net/v/20240613145604741\n",
       "41  이색 콘텐츠로 MZ 사로 잡은 한화호텔앤리조트…'H-LIVE Club'가입자100만 돌파  http://v.daum.net/v/20241119143256492\n",
       "42                    ‘잔망루피’ 카톡 미니 이모티콘, 구독으로 못 산다…왜?  http://v.daum.net/v/20240624143702530\n",
       "43                      '잔망루피' 입은 에이피알 '부스터프로' 한정판 출시  http://v.daum.net/v/20240416145157350\n",
       "44                  뷰티업계, ‘연예인보다 캐릭터’… “IP 협업이 더 잘나가”  http://v.daum.net/v/20241106060101065\n",
       "45                  잔망루피·최고심 인기 캐릭터…카카오 미니 이모티콘으로 만난다  http://v.daum.net/v/20240618170000844\n",
       "46              이븐 유승언, 잔망라이브 반응 뜨겁더니…잔망루피와 컬래버 음원 발표  http://v.daum.net/v/20240405112237666\n",
       "47                 “잔망루피가 작아졌다”…카카오, 신규 미니 이모티콘 8종 출시  http://v.daum.net/v/20240618110401960\n",
       "48                 제주항공 \"산리오 협업 기획상품, 누적 판매량 36만개 돌파\"  http://v.daum.net/v/20241104103625198\n",
       "49         폭발적인 팬 증가…입장 수입·굿즈 매출 '웃음꽃'[프로야구 흑자전환 토대②]  http://v.daum.net/v/20241110080037316"
      ]
     },
     "execution_count": 81,
     "metadata": {},
     "output_type": "execute_result"
    }
   ],
   "source": [
    "# 입력한 페이지 만큼 검색하여 결과를 데이터프레임으로 출력\n",
    "query = input('검색 하실 단어를 입력해주세요 : ')\n",
    "page_numbers = int(input('크롤링 할 페이지수 입력해주세요 : '))\n",
    "driver = webdriver.Chrome()\n",
    "time.sleep(1)\n",
    "url = 'https://www.daum.net/'\n",
    "driver.get(url)\n",
    "driver.implicitly_wait(0.5) # time.sleep(0.5) 두개가 동일한 명령어\n",
    "driver.find_element(By.CLASS_NAME, 'tf_keyword').click()\n",
    "driver.find_element(By.CSS_SELECTOR, 'input[type=\"text\"]').send_keys(query)\n",
    "driver.find_element(By.CLASS_NAME, 'btn_ksearch').click()\n",
    "time.sleep(1)\n",
    "tabs = driver.find_elements(By.CSS_SELECTOR, 'ul.list_tab > li')\n",
    "for tab in tabs:\n",
    "    if '뉴스' in tab.text:\n",
    "        tab.click()\n",
    "        break \n",
    "        \n",
    "news_list = []\n",
    "\n",
    "for page_number in range(1, page_numbers+1):\n",
    "    bodies = driver.find_elements(By.CSS_SELECTOR, 'div.item-title > strong.tit-g')\n",
    "    for body in bodies:\n",
    "        a = body.find_element(By.TAG_NAME, 'a')\n",
    "        title = a.text\n",
    "        link = a.get_attribute('href')\n",
    "        news_list.append([title, link])\n",
    "\n",
    "    page_nav = driver.find_element(By.CSS_SELECTOR, 'div.inner_paging')\n",
    "    next_page = page_nav.find_element(By.LINK_TEXT, str(page_number+1))\n",
    "    time.sleep(1)\n",
    "    next_page.click()\n",
    "driver.close()\n",
    "display(pd.DataFrame(news_list, columns=['title', 'link']).head(5))\n"
   ]
  },
  {
   "cell_type": "markdown",
   "id": "ebf60bc3",
   "metadata": {},
   "source": [
    "## 2-3 맞춤법 검사기\n",
    "- 네이버 맞춤법 검사기 이용"
   ]
  },
  {
   "cell_type": "code",
   "execution_count": 1,
   "id": "23f9f7e1",
   "metadata": {},
   "outputs": [],
   "source": [
    "from selenium import webdriver\n",
    "from selenium.webdriver.common.keys import Keys\n",
    "from selenium.webdriver.common.by import By\n",
    "from bs4 import BeautifulSoup\n",
    "import time"
   ]
  },
  {
   "cell_type": "code",
   "execution_count": 17,
   "id": "e9f2c043",
   "metadata": {},
   "outputs": [
    {
     "data": {
      "text/plain": [
       "'안녕하세요. 안녕하세요. 반갑습니다'"
      ]
     },
     "execution_count": 17,
     "metadata": {},
     "output_type": "execute_result"
    }
   ],
   "source": [
    "driver = webdriver.Chrome()\n",
    "time.sleep(1)\n",
    "driver.get('https://www.naver.com/')\n",
    "elem = driver.find_element(By.CSS_SELECTOR, 'input#query')\n",
    "elem.send_keys('맞춤법 검사기')\n",
    "elem.send_keys(Keys.RETURN)\n",
    "\n",
    "textarea = driver.find_element(By.CLASS_NAME, 'txt_gray')\n",
    "textarea.send_keys('안녕하세요. 안뇽하세요. 방갑습니다')\n",
    "\n",
    "button = driver.find_element(By.CLASS_NAME, 'btn_check')\n",
    "button.click()\n",
    "time.sleep(1)\n",
    "soup = BeautifulSoup(driver.page_source, 'html.parser')\n",
    "result = soup.select_one('p._result_text.stand_txt').text\n",
    "result"
   ]
  },
  {
   "cell_type": "markdown",
   "id": "13fab9f7",
   "metadata": {},
   "source": [
    "### 맞춤법 검사 전 text 파일을 맞춤법 검사 완료된 text 파일로 output"
   ]
  },
  {
   "cell_type": "code",
   "execution_count": 26,
   "id": "41888ea2",
   "metadata": {},
   "outputs": [
    {
     "name": "stdout",
     "output_type": "stream",
     "text": [
      "211\n",
      "199\n",
      "222\n"
     ]
    }
   ],
   "source": [
    "with open('data/ch14_맞춤법검사전.txt', 'r', encoding='utf-8') as f:\n",
    "    text = f.read()\n",
    "ready_list = []\n",
    "while(len(text) > 300):\n",
    "    temp = text[:300]\n",
    "    last_dot_index = temp.rfind('\\n')\n",
    "    ready_list.append(text[:last_dot_index+1])\n",
    "    print(last_dot_index)\n",
    "    text = text[last_dot_index : ]\n",
    "ready_list.append(text)"
   ]
  },
  {
   "cell_type": "code",
   "execution_count": 27,
   "id": "f2ac4131",
   "metadata": {},
   "outputs": [
    {
     "data": {
      "text/plain": [
       "[212, 200, 223, 298]"
      ]
     },
     "execution_count": 27,
     "metadata": {},
     "output_type": "execute_result"
    }
   ],
   "source": [
    "# ready_list 확인\n",
    "[len(ready) for ready in ready_list]"
   ]
  },
  {
   "cell_type": "code",
   "execution_count": 36,
   "id": "174967c1",
   "metadata": {},
   "outputs": [
    {
     "name": "stdout",
     "output_type": "stream",
     "text": [
      "안녕하세요. 반갑습니다노벨문학상은 매년 세계에서 뛰어난 문학적 업적을 이룬 작가에게 수여되는 상으로, 스웨덴의 발명가 알프레드 노벨의 유언에 따라 1901년부터 제정되었습니다. 노벨은 자신의 재산을 사용하여 인류에 공헌한 분야에 상을 주기로 하였고, 그중 하나가 바로 문학이었습니다. 매년 수상자는 스웨덴 왕이 공식 발표하며, 시상식은 이듬해 12월 스톡홀름에서 열립니다.\n",
      "이 상은 특정 장르에 제한을 두지 않고, 다양한 분야에서 뛰어난 업적을 이룬 작가들에게 주어집니다. 주로 소설가, 시인, 극작가 등이 수상자로 선정되며, 문학적 기여를 인정받은 작가에게 수여됩니다. 노벨문학상은 그저 문학적 성취를 인정하는 것에 그치지 않고, 작가의 작품이 인류에 미친 영향, 사회적 메시지, 그리고 문화적 기여 등을 평가하는 상입니다.\n",
      "노벨문학상의 수상자들은 종종 사회적 문제를 다룬 작품을 통해 큰 영향을 미칩니다. 예를 들어, 알베르 카뮈는 실존주의와 부조리 문제를 다룬 작품으로, 토니 모리슨은 아프리카계 미국인의 역사와 문화를 탐구하는 작품으로 수상했습니다. 이처럼 노벨문학상은 단순히 뛰어난 문학 작품을 인정하는 것 이상으로, 작가가 창조한 작품을 통해 세계의 문제를 성찰하고 해결책을 제시하는 데 중요한 역할을 합니다.\n",
      "최근에는 현대 사회의 다양한 이슈들이 문학작품의 주제로 등장하면서, 노벨문학상도 그 방향에 영향을 받고 있습니다. 환경 문제, 인종 문제, 디지털 문학 등 새로운 시대적 흐름을 반영하는 작품들이 수상작으로 선정되는 추세입니다. 예를 들어, 2023년에는 일본의 소설가 오카자키 아미가 수상했으며, 그녀는 인간관계의 복잡성과 심리적 깊이를 탐구하는 작품으로 인정받았습니다.노벨문학상은 전 세계 문학계에서 가장 권위 있는 상으로, 작가들에게 큰 명예를 안겨주며, 그들의 작품이 전 세계에 더 널리 퍼질 수 있는 기회를 제공합니다.\n",
      "\n"
     ]
    }
   ],
   "source": [
    "driver = webdriver.Chrome()\n",
    "time.sleep(1)\n",
    "driver.get('https://www.naver.com/')\n",
    "elem = driver.find_element(By.NAME, 'query')\n",
    "elem.send_keys('맞춤법 검사기')\n",
    "time.sleep(1)\n",
    "elem.send_keys(Keys.RETURN)\n",
    "time.sleep(1)\n",
    "\n",
    "results = '' # 맞춤법 검사 완료된 text\n",
    "textarea = driver.find_element(By.CLASS_NAME, 'txt_gray')\n",
    "\n",
    "for ready in ready_list:\n",
    "    textarea.send_keys(Keys.CONTROL, 'a')\n",
    "    textarea.send_keys(ready)\n",
    "    button = driver.find_element(By.CLASS_NAME, 'btn_check')\n",
    "    button.click()\n",
    "    time.sleep(1)\n",
    "    soup = BeautifulSoup(driver.page_source, \"html.parser\")\n",
    "    result = soup.select_one('p._result_text').text\n",
    "    results += result + \"\\n\"\n",
    "driver.close()\n",
    "print(results)"
   ]
  },
  {
   "cell_type": "code",
   "execution_count": 37,
   "id": "73fddf55",
   "metadata": {},
   "outputs": [],
   "source": [
    "# 맞춤법 결과 results를 data/ch14_맞춤법검사후.txt로 출력\n",
    "with open('data/ch14_맞춤법검사후.txt', 'w', encoding='utf-8') as f:\n",
    "    f.write(results)"
   ]
  },
  {
   "cell_type": "markdown",
   "id": "8f2da636",
   "metadata": {},
   "source": [
    "# 3절. 자동화\n",
    "## 3-1 컴퓨터가 파이썬을 실행\n",
    "    - unix : corn\n",
    "    - win : 작업스케줄러\n",
    "        * window + R : taskschd.msc \n",
    "## 3-2 파이썬 프로그램에서 스케쥴링\n",
    "    - pip install schedule"
   ]
  },
  {
   "cell_type": "code",
   "execution_count": 1,
   "id": "7b038db3",
   "metadata": {},
   "outputs": [
    {
     "name": "stdout",
     "output_type": "stream",
     "text": [
      "작업 실행 되었습니다\n",
      "작업 실행 되었습니다\n",
      "작업 실행 되었습니다\n",
      "작업 실행 되었습니다\n",
      "작업 실행 되었습니다\n",
      "작업 실행 되었습니다\n",
      "작업 실행 되었습니다\n",
      "작업 실행 되었습니다\n",
      "작업 실행 되었습니다\n",
      "작업 실행 되었습니다\n",
      "작업 실행 되었습니다\n",
      "작업 실행 되었습니다\n",
      "작업 실행 되었습니다\n",
      "작업 실행 되었습니다\n",
      "작업 실행 되었습니다\n",
      "작업 실행 되었습니다\n",
      "작업 실행 되었습니다\n",
      "작업 실행 되었습니다\n"
     ]
    },
    {
     "ename": "KeyboardInterrupt",
     "evalue": "",
     "output_type": "error",
     "traceback": [
      "\u001b[1;31m---------------------------------------------------------------------------\u001b[0m",
      "\u001b[1;31mKeyboardInterrupt\u001b[0m                         Traceback (most recent call last)",
      "Cell \u001b[1;32mIn[1], line 15\u001b[0m\n\u001b[0;32m     13\u001b[0m \u001b[38;5;28;01mwhile\u001b[39;00m \u001b[38;5;28;01mTrue\u001b[39;00m:\n\u001b[0;32m     14\u001b[0m     schedule\u001b[38;5;241m.\u001b[39mrun_pending()\n\u001b[1;32m---> 15\u001b[0m     \u001b[43mtime\u001b[49m\u001b[38;5;241;43m.\u001b[39;49m\u001b[43msleep\u001b[49m\u001b[43m(\u001b[49m\u001b[38;5;241;43m1\u001b[39;49m\u001b[43m)\u001b[49m\n",
      "\u001b[1;31mKeyboardInterrupt\u001b[0m: "
     ]
    }
   ],
   "source": [
    "import schedule\n",
    "import time\n",
    "\n",
    "def job():\n",
    "    print('작업 실행 되었습니다')\n",
    "# job 함수는 10초마다 수행\n",
    "schedule.every(10).seconds.do(job)\n",
    "# schedule.every().day.at(\"17:59\").do(job) 매일 매일\n",
    "# schedule.every().hour.do(job)\n",
    "# schedule.every().minutes.do(job)\n",
    "\n",
    "# 무한 루프를 돌며 스케줄된 작업이 있는지 확인하고 자동화\n",
    "while True:\n",
    "    schedule.run_pending()\n",
    "    time.sleep(1)"
   ]
  },
  {
   "cell_type": "code",
   "execution_count": null,
   "id": "b713a069",
   "metadata": {},
   "outputs": [],
   "source": [
    "def test():\n",
    "    "
   ]
  },
  {
   "cell_type": "code",
   "execution_count": null,
   "id": "b377676e",
   "metadata": {},
   "outputs": [],
   "source": []
  },
  {
   "cell_type": "code",
   "execution_count": null,
   "id": "b27de674",
   "metadata": {},
   "outputs": [],
   "source": []
  },
  {
   "cell_type": "code",
   "execution_count": null,
   "id": "05251360",
   "metadata": {},
   "outputs": [],
   "source": []
  },
  {
   "cell_type": "code",
   "execution_count": null,
   "id": "2ea452d6",
   "metadata": {},
   "outputs": [],
   "source": []
  },
  {
   "cell_type": "code",
   "execution_count": null,
   "id": "8f09a2e7",
   "metadata": {},
   "outputs": [],
   "source": []
  },
  {
   "cell_type": "code",
   "execution_count": null,
   "id": "50185a1e",
   "metadata": {},
   "outputs": [],
   "source": []
  },
  {
   "cell_type": "code",
   "execution_count": null,
   "id": "33668b1c",
   "metadata": {},
   "outputs": [],
   "source": []
  },
  {
   "cell_type": "code",
   "execution_count": null,
   "id": "89a71f4f",
   "metadata": {},
   "outputs": [],
   "source": []
  },
  {
   "cell_type": "code",
   "execution_count": null,
   "id": "a85a8fc1",
   "metadata": {},
   "outputs": [],
   "source": []
  },
  {
   "cell_type": "code",
   "execution_count": null,
   "id": "dd57aada",
   "metadata": {},
   "outputs": [],
   "source": []
  },
  {
   "cell_type": "code",
   "execution_count": null,
   "id": "f915347d",
   "metadata": {},
   "outputs": [],
   "source": []
  }
 ],
 "metadata": {
  "kernelspec": {
   "display_name": "Python 3 (ipykernel)",
   "language": "python",
   "name": "python3"
  },
  "language_info": {
   "codemirror_mode": {
    "name": "ipython",
    "version": 3
   },
   "file_extension": ".py",
   "mimetype": "text/x-python",
   "name": "python",
   "nbconvert_exporter": "python",
   "pygments_lexer": "ipython3",
   "version": "3.10.9"
  },
  "toc": {
   "base_numbering": 1,
   "nav_menu": {},
   "number_sections": true,
   "sideBar": true,
   "skip_h1_title": false,
   "title_cell": "Table of Contents",
   "title_sidebar": "Contents",
   "toc_cell": false,
   "toc_position": {},
   "toc_section_display": true,
   "toc_window_display": false
  }
 },
 "nbformat": 4,
 "nbformat_minor": 5
}
