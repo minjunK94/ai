{
 "cells": [
  {
   "cell_type": "markdown",
   "id": "80868524",
   "metadata": {},
   "source": [
    "# 연습문제"
   ]
  },
  {
   "cell_type": "code",
   "execution_count": 1,
   "id": "e3cfc47b",
   "metadata": {},
   "outputs": [],
   "source": [
    "from selenium import webdriver\n",
    "from selenium.webdriver.common.keys import Keys\n",
    "from selenium.webdriver.common.by import By\n",
    "from bs4 import BeautifulSoup\n",
    "import time"
   ]
  },
  {
   "cell_type": "code",
   "execution_count": 21,
   "id": "17227c7e",
   "metadata": {},
   "outputs": [],
   "source": [
    "with open('data/ch14_맞춤법검사후.txt', 'r', encoding='utf-8') as f:\n",
    "    text = f.read()\n",
    "ready_list = []\n",
    "while(len(text) > 380):\n",
    "    temp = text[:380]\n",
    "    last_index = temp.rfind('\\n')\n",
    "    ready_list.append(text[:last_index+1])\n",
    "    text = text[last_index : ]\n",
    "ready_list.append(text)"
   ]
  },
  {
   "cell_type": "code",
   "execution_count": 22,
   "id": "f8b8a181",
   "metadata": {},
   "outputs": [
    {
     "data": {
      "text/plain": [
       "[209, 199, 222, 296]"
      ]
     },
     "execution_count": 22,
     "metadata": {},
     "output_type": "execute_result"
    }
   ],
   "source": [
    "[len(ready) for ready in ready_list]"
   ]
  },
  {
   "cell_type": "code",
   "execution_count": 23,
   "id": "ff03158d",
   "metadata": {},
   "outputs": [
    {
     "name": "stdout",
     "output_type": "stream",
     "text": [
      " Hello. Nice to meet you. The Nobel Prize for Literature is awarded annually to writers who have achieved outstanding literary achievements in the world. It was established in 1901 in accordance with the will of Swedish inventor Alfred Nobel.,Nobel decided to use his fortune to award prizes to the fields that contributed to humanity, one of which was literature. Every year the winners are officially announced by the Swedish king, and the awards ceremony is held in Stockholm in December of the following year. \n",
      " The award is not limited to a specific genre, but is given to writers who have achieved outstanding achievements in a variety of fields; primarily novelists, poets, playwrights, etc., and is awarded to writers who have been recognized for their literary contributions.,The Nobel Prize for Literature is not just about acknowledging literary achievement, but also evaluating the impact of the artist's work on humanity, social messages, and cultural contributions. \n",
      " Winners of the Nobel Prize in Literature often make a major impact through works that address social issues; for example, Albert Camus won for works that address existentialism and the absurd, and Toni Morrison won for works that explore African-American history and culture.,As such, the Nobel Prize for Literature plays an important role in reflecting on the problems of the world and presenting solutions through works created by writers, rather than simply recognizing outstanding literary works. \n",
      " In recent years, as various issues of modern society have emerged as the subject of literary works, the Nobel Prize for Literature has been influenced by that direction, and works reflecting new trends such as environmental issues, racial issues, and digital literature have been selected as winners.,For example, in 2023, Japanese novelist Ami Okazaki won the prize, and she was recognized for her work exploring the complexities and psychological depths of human relationships.The Nobel Prize for Literature is the most prestigious prize in the world of literature, giving great honor to writers and providing an opportunity for their work to spread more widely around the world. \n",
      "\n"
     ]
    }
   ],
   "source": [
    "driver = webdriver.Chrome()\n",
    "time.sleep(1)\n",
    "driver.get('https://www.daum.net')\n",
    "el = driver.find_element(By.CLASS_NAME, 'tf_keyword')\n",
    "el.send_keys('kakao i 번역')\n",
    "time.sleep(1)\n",
    "el.send_keys(Keys.RETURN)\n",
    "texts = driver.find_element(By.CLASS_NAME, 'translate_area ')\n",
    "texts.click()\n",
    "time.sleep(1)\n",
    "results = ''\n",
    "# texts.send_keys('하이용')\n",
    "for ready in ready_list:\n",
    "    texts.send_keys(Keys.CONTROL, 'a')\n",
    "    texts.send_keys(ready)\n",
    "    button = driver.find_element(By.CLASS_NAME, 'btn_translate')\n",
    "    button.click()\n",
    "    time.sleep(1)\n",
    "    soup = BeautifulSoup(driver.page_source, \"html.parser\")\n",
    "    result = soup.select_one('div.result_area').text\n",
    "    results += result + \"\\n\"\n",
    "driver.close()\n",
    "print(results)"
   ]
  },
  {
   "cell_type": "code",
   "execution_count": 24,
   "id": "93aee758",
   "metadata": {},
   "outputs": [],
   "source": [
    "with open('data/ch14_맞춤법검사후_번역본.txt', 'w', encoding='utf-8') as f:\n",
    "    f.write(results)"
   ]
  },
  {
   "cell_type": "code",
   "execution_count": null,
   "id": "62fec28b",
   "metadata": {},
   "outputs": [],
   "source": []
  }
 ],
 "metadata": {
  "kernelspec": {
   "display_name": "Python 3 (ipykernel)",
   "language": "python",
   "name": "python3"
  },
  "language_info": {
   "codemirror_mode": {
    "name": "ipython",
    "version": 3
   },
   "file_extension": ".py",
   "mimetype": "text/x-python",
   "name": "python",
   "nbconvert_exporter": "python",
   "pygments_lexer": "ipython3",
   "version": "3.10.9"
  },
  "toc": {
   "base_numbering": 1,
   "nav_menu": {},
   "number_sections": true,
   "sideBar": true,
   "skip_h1_title": false,
   "title_cell": "Table of Contents",
   "title_sidebar": "Contents",
   "toc_cell": false,
   "toc_position": {},
   "toc_section_display": true,
   "toc_window_display": false
  }
 },
 "nbformat": 4,
 "nbformat_minor": 5
}
