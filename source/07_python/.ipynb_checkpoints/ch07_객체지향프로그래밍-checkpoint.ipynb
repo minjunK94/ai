{
 "cells": [
  {
   "cell_type": "markdown",
   "id": "f59ef0b1",
   "metadata": {},
   "source": [
    "<b><font color=\"red\" size=\"8\">ch07. 객체지향 프로그램밍</font></b>"
   ]
  },
  {
   "cell_type": "markdown",
   "id": "bc154f19",
   "metadata": {},
   "source": [
    "# 1절. 객체와 클래스\n",
    "```\n",
    "class 클래스명(상속받을 클래스명 / Object):\n",
    "    변수 or 함수들을 사용\n",
    "```"
   ]
  },
  {
   "cell_type": "code",
   "execution_count": 1,
   "id": "d9331bac",
   "metadata": {},
   "outputs": [],
   "source": [
    "class Person:\n",
    "    '''\n",
    "    Person class docstring \n",
    "    class Person{\n",
    "        public String toString(){\n",
    "        \n",
    "        }\n",
    "    }\n",
    "    p = new Person()\n",
    "    sysout(p)\n",
    "    '''\n",
    "    pass\n",
    "p = Person()"
   ]
  },
  {
   "cell_type": "code",
   "execution_count": 2,
   "id": "e17086e8",
   "metadata": {},
   "outputs": [
    {
     "data": {
      "text/plain": [
       "__main__.Person"
      ]
     },
     "execution_count": 2,
     "metadata": {},
     "output_type": "execute_result"
    }
   ],
   "source": [
    "type(p)"
   ]
  },
  {
   "cell_type": "code",
   "execution_count": 3,
   "id": "fe6163b9",
   "metadata": {},
   "outputs": [
    {
     "name": "stdout",
     "output_type": "stream",
     "text": [
      "<__main__.Person object at 0x000001983EA4D8A0>\n"
     ]
    }
   ],
   "source": [
    "print(p)"
   ]
  },
  {
   "cell_type": "markdown",
   "id": "c8d0edd2",
   "metadata": {},
   "source": [
    "# 2절. 변수와 메소드\n",
    "- 클래스변수 vs. 인스턴스변수 vs static 변수\n",
    "- 인스턴스메소드 vs static메소드 vs 클래스메소드"
   ]
  },
  {
   "cell_type": "code",
   "execution_count": 4,
   "id": "753ccef0",
   "metadata": {},
   "outputs": [
    {
     "name": "stdout",
     "output_type": "stream",
     "text": [
      "홍길동 남자\n",
      "<class '__main__.Person'>\n"
     ]
    }
   ],
   "source": [
    "# 클래스 변수 추가 : 클래스 내부에 선언되며, \n",
    "# 생성된 모든 인스턴스에서 동일한 값 가진다. \n",
    "# 클래스명.클래스변수를 수정하면 모든 인스턴스에 반영 될 수 있음\n",
    "# 인스턴스.클래스변수로 수정하면 해당 인스턴스만 반영 됨\n",
    "class Person:\n",
    "    '''\n",
    "    class Person{\n",
    "        String name = '홍길동';\n",
    "        String gender = '남자';\n",
    "    }\n",
    "    '''\n",
    "    name = '홍길동'\n",
    "    gender = '남자'\n",
    "print(Person.name, Person.gender)\n",
    "print(Person)"
   ]
  },
  {
   "cell_type": "code",
   "execution_count": 5,
   "id": "0a489c22",
   "metadata": {},
   "outputs": [
    {
     "name": "stdout",
     "output_type": "stream",
     "text": [
      "클래스 영역 변수 : 홍길동 남자\n",
      "p1객체의 변수 : 홍길동 남자\n",
      "p2객체의 변수 : 홍길동 남자\n"
     ]
    }
   ],
   "source": [
    "p1 = Person()\n",
    "p2 = Person()\n",
    "print('클래스 영역 변수 :', Person.name,Person.gender)\n",
    "print('p1객체의 변수 :', p1.name, p1.gender)\n",
    "print('p2객체의 변수 :', p2.name, p2.gender)"
   ]
  },
  {
   "cell_type": "code",
   "execution_count": 6,
   "id": "8c179394",
   "metadata": {},
   "outputs": [
    {
     "name": "stdout",
     "output_type": "stream",
     "text": [
      "클래스 영역 변수 : 홍길동 남자\n",
      "p1객체의 변수 : 이순신 남자\n",
      "p2객체의 변수 : 홍길동 남자\n"
     ]
    }
   ],
   "source": [
    "p1.name = '이순신'\n",
    "print('클래스 영역 변수 :', Person.name,Person.gender)\n",
    "print('p1객체의 변수 :', p1.name, p1.gender)\n",
    "print('p2객체의 변수 :', p2.name, p2.gender)"
   ]
  },
  {
   "cell_type": "code",
   "execution_count": 7,
   "id": "e5b424c9",
   "metadata": {},
   "outputs": [
    {
     "name": "stdout",
     "output_type": "stream",
     "text": [
      "클래스 영역 변수 : 유관순 여자\n",
      "p1객체의 변수 : 이순신 여자\n",
      "p2객체의 변수 : 유관순 여자\n"
     ]
    }
   ],
   "source": [
    "Person.name = '유관순'\n",
    "Person.gender = '여자'\n",
    "print('클래스 영역 변수 :', Person.name,Person.gender)\n",
    "print('p1객체의 변수 :', p1.name, p1.gender)\n",
    "print('p2객체의 변수 :', p2.name, p2.gender)"
   ]
  },
  {
   "cell_type": "code",
   "execution_count": 8,
   "id": "03fb87b4",
   "metadata": {},
   "outputs": [],
   "source": [
    "# 메소드 추가 \n",
    "class Person:\n",
    "    name = '홍길동'\n",
    "    gender = '남자'\n",
    "    def print_info():\n",
    "        print('Person 메소드')\n",
    "        print(\"{}는 {}입니다\".format(Person.name, Person.gender))"
   ]
  },
  {
   "cell_type": "code",
   "execution_count": 9,
   "id": "9f650364",
   "metadata": {},
   "outputs": [
    {
     "name": "stdout",
     "output_type": "stream",
     "text": [
      "홍길동 남자\n",
      "Person 메소드\n",
      "홍길동는 남자입니다\n"
     ]
    }
   ],
   "source": [
    "print(Person.name, Person.gender)\n",
    "Person.print_info()"
   ]
  },
  {
   "cell_type": "code",
   "execution_count": 10,
   "id": "34799bec",
   "metadata": {},
   "outputs": [
    {
     "name": "stdout",
     "output_type": "stream",
     "text": [
      "클래스 변수 영역 : 홍길동 남자\n"
     ]
    },
    {
     "ename": "NameError",
     "evalue": "name 'gender' is not defined",
     "output_type": "error",
     "traceback": [
      "\u001b[1;31m---------------------------------------------------------------------------\u001b[0m",
      "\u001b[1;31mNameError\u001b[0m                                 Traceback (most recent call last)",
      "Cell \u001b[1;32mIn[10], line 5\u001b[0m\n\u001b[0;32m      3\u001b[0m p1\u001b[38;5;241m.\u001b[39mgender \u001b[38;5;241m=\u001b[39m \u001b[38;5;124m'\u001b[39m\u001b[38;5;124m여성\u001b[39m\u001b[38;5;124m'\u001b[39m\n\u001b[0;32m      4\u001b[0m \u001b[38;5;28mprint\u001b[39m(\u001b[38;5;124m'\u001b[39m\u001b[38;5;124m클래스 변수 영역 :\u001b[39m\u001b[38;5;124m'\u001b[39m,Person\u001b[38;5;241m.\u001b[39mname, Person\u001b[38;5;241m.\u001b[39mgender)\n\u001b[1;32m----> 5\u001b[0m \u001b[38;5;28mprint\u001b[39m(\u001b[38;5;124m'\u001b[39m\u001b[38;5;124m객체 영역 :\u001b[39m\u001b[38;5;124m'\u001b[39m,p1\u001b[38;5;241m.\u001b[39mname, p1,\u001b[43mgender\u001b[49m)\n\u001b[0;32m      6\u001b[0m p1\u001b[38;5;241m.\u001b[39mprint_info()\n",
      "\u001b[1;31mNameError\u001b[0m: name 'gender' is not defined"
     ]
    }
   ],
   "source": [
    "p1 = Person()\n",
    "p1.name = '유관순'\n",
    "p1.gender = '여성'\n",
    "print('클래스 변수 영역 :',Person.name, Person.gender)\n",
    "print('객체 영역 :',p1.name, p1,gender)\n",
    "p1.print_info()"
   ]
  },
  {
   "cell_type": "code",
   "execution_count": null,
   "id": "d4404295",
   "metadata": {},
   "outputs": [],
   "source": [
    "# 에러발생 원인은 : 인스턴스 메소드도 아니고, 클래스 메소드도 아니고, staticmethod도 아님\n",
    "# staticmethod처럼 실행은 가능!"
   ]
  },
  {
   "cell_type": "markdown",
   "id": "26eed99e",
   "metadata": {},
   "source": [
    "※ 인스턴스 메소드 & 클래스 메소드 & Static 메소드 \n",
    "- 인스턴스 메소드 : 첫번째 인자에 self를 꼭 명시. 객체를 통해서만 호출할 메소드\n",
    "- 클래스 메소드 : 메소드 위에 @classmethod 선언한 메소드. 첫번째 인자에 cls,clz,clazz 꼭 사용 해야함\n",
    "- Static 메소드 : 메소드 위에 @staticmethod 선언한 메소드. 인자를 넣지 않음"
   ]
  },
  {
   "cell_type": "code",
   "execution_count": 11,
   "id": "8ea2ac94",
   "metadata": {},
   "outputs": [],
   "source": [
    "# 인스턴스 메소드(객체가 호출할 수 있는 함수)\n",
    "class Person:\n",
    "    name = '홍길동'\n",
    "    gender = '남자'\n",
    "    age = '30'\n",
    "    # 인스턴스 메소드 선언시 첫번째 인자에 self 넣고 선언.\n",
    "    # 실제 호출시에는 매개변수에 self를 사용 안함 self의 의미는 Java 에 this\n",
    "    def print_info(self):\n",
    "        print('인스턴스 변수 정보 : {}님은 {}살이고 {}입니다'.format(self.name, self.age, self.gender))\n",
    "        print('클래스 정보 : {}님은 {}살이고 {}입니다'.format(Person.name,Person.age,Person.gender))\n",
    "    "
   ]
  },
  {
   "cell_type": "code",
   "execution_count": 16,
   "id": "063e8d47",
   "metadata": {},
   "outputs": [
    {
     "name": "stdout",
     "output_type": "stream",
     "text": [
      "홍길동 30 남자\n",
      "인스턴스 변수 정보 : 신사임당님은 30살이고 여성입니다\n",
      "클래스 정보 : 홍길동님은 30살이고 남자입니다\n"
     ]
    }
   ],
   "source": [
    "print(Person.name, Person.age, Person.gender)\n",
    "p1 = Person()\n",
    "p2 = Person()\n",
    "p1.name = \"신사임당\"\n",
    "p1.gender = \"여성\"\n",
    "p1.print_info()"
   ]
  },
  {
   "cell_type": "code",
   "execution_count": 17,
   "id": "b86f4482",
   "metadata": {},
   "outputs": [
    {
     "name": "stdout",
     "output_type": "stream",
     "text": [
      "인스턴스 변수 정보 : 신사임당님은 30살이고 여성입니다\n",
      "클래스 정보 : 홍길동님은 30살이고 남자입니다\n"
     ]
    }
   ],
   "source": [
    "Person.print_info(p1) # 사용 안함"
   ]
  },
  {
   "cell_type": "code",
   "execution_count": 18,
   "id": "762241e1",
   "metadata": {},
   "outputs": [
    {
     "name": "stdout",
     "output_type": "stream",
     "text": [
      "인스턴스 변수 정보 : 홍길동님은 30살이고 남자입니다\n",
      "클래스 정보 : 홍길동님은 30살이고 남자입니다\n"
     ]
    }
   ],
   "source": [
    "p2.print_info()"
   ]
  },
  {
   "cell_type": "code",
   "execution_count": 19,
   "id": "71737fb1",
   "metadata": {},
   "outputs": [],
   "source": [
    "# 객체의 변수를 추가\n",
    "p1.address = '서울시'\n",
    "p1.nickname = '곰돌이 푸'"
   ]
  },
  {
   "cell_type": "code",
   "execution_count": 21,
   "id": "c7310ee8",
   "metadata": {},
   "outputs": [
    {
     "name": "stdout",
     "output_type": "stream",
     "text": [
      "신사임당 여성 30 서울시 곰돌이 푸\n",
      "홍길동 남자 30\n"
     ]
    }
   ],
   "source": [
    "print(p1.name, p1.gender, p1.age, p1.address, p1.nickname)\n",
    "print(p2.name, p2.gender, p2.age)"
   ]
  },
  {
   "cell_type": "code",
   "execution_count": 22,
   "id": "3c745250",
   "metadata": {},
   "outputs": [
    {
     "name": "stdout",
     "output_type": "stream",
     "text": [
      "인스턴스 변수 정보 : 신사임당님은 30살이고 여성입니다\n",
      "클래스 정보 : 홍길동님은 30살이고 남자입니다\n"
     ]
    }
   ],
   "source": [
    "p1.print_info()"
   ]
  },
  {
   "cell_type": "code",
   "execution_count": 25,
   "id": "8077831f",
   "metadata": {},
   "outputs": [],
   "source": [
    "# 3가지 메소드를 다 상ㅇ\n",
    "class Person:\n",
    "    name = '홍길동'\n",
    "    gender = '남성'\n",
    "    def print_info(self): # 변수.print_info()로 호출\n",
    "        print(\"일반(인스턴스=객체)메소드 - {}는 {}입니다\".format(self.name, self.gender))\n",
    "    def change_info(self, name, gender=\"남자\"): #변수.change_info(\"신길숙\",\"여자\")로 호출\n",
    "        self.name = name\n",
    "        self.gender = gender\n",
    "        print(\"일반(인스턴스) 메소드를 통해 {}로 이름 변경 완료\".format(self.name))\n",
    "    @classmethod\n",
    "    def do_(clz): # clz == Person\n",
    "        clz.name = '신사임당' # 클래스영역의 클래스 변수 수정\n",
    "        clz.gender = '여성'\n",
    "        print(\"클래스 메소드 - {}는 {}입니다\".format(clz.name, clz.gender))\n",
    "    @staticmethod\n",
    "    def that_(): # 클래스 변수를 이용하지 않고 로직\n",
    "        Person.name = \"신길동\"\n",
    "        Person.gender = '남자'\n",
    "        print(\"static 메소드 -{}는 {}입니다\".format(Person.name, Person.gender))"
   ]
  },
  {
   "cell_type": "code",
   "execution_count": 32,
   "id": "4ca0ed30",
   "metadata": {},
   "outputs": [
    {
     "name": "stdout",
     "output_type": "stream",
     "text": [
      "일반(인스턴스=객체)메소드 - 신사임당는 여성입니다\n",
      "일반(인스턴스) 메소드를 통해 이순신로 이름 변경 완료\n",
      "일반(인스턴스=객체)메소드 - 이순신는 남자입니다\n"
     ]
    }
   ],
   "source": [
    "p1 = Person()\n",
    "p1.print_info()\n",
    "p1.change_info(\"이순신\",\"남자\")\n",
    "p1.print_info()"
   ]
  },
  {
   "cell_type": "code",
   "execution_count": 28,
   "id": "20d0c783",
   "metadata": {},
   "outputs": [
    {
     "name": "stdout",
     "output_type": "stream",
     "text": [
      "일반(인스턴스=객체)메소드 - 이순신는 여성입니다\n"
     ]
    }
   ],
   "source": [
    "p1.name = \"이순신\"\n",
    "p1.print_info()"
   ]
  },
  {
   "cell_type": "code",
   "execution_count": 33,
   "id": "c4fbc101",
   "metadata": {},
   "outputs": [
    {
     "name": "stdout",
     "output_type": "stream",
     "text": [
      "클래스 메소드 - 신사임당는 여성입니다\n",
      "일반(인스턴스=객체)메소드 - 이순신는 남자입니다\n"
     ]
    }
   ],
   "source": [
    "Person.do_()\n",
    "p1.print_info()"
   ]
  },
  {
   "cell_type": "code",
   "execution_count": 34,
   "id": "17f09fda",
   "metadata": {},
   "outputs": [
    {
     "name": "stdout",
     "output_type": "stream",
     "text": [
      "일반(인스턴스=객체)메소드 - 신사임당는 여성입니다\n"
     ]
    }
   ],
   "source": [
    "p2 = Person()\n",
    "p2.print_info()"
   ]
  },
  {
   "cell_type": "code",
   "execution_count": 36,
   "id": "9d8cff85",
   "metadata": {},
   "outputs": [
    {
     "name": "stdout",
     "output_type": "stream",
     "text": [
      "클래스 메소드 - 신사임당는 여성입니다\n",
      "일반(인스턴스=객체)메소드 - 신사임당는 여성입니다\n"
     ]
    }
   ],
   "source": [
    "Person.do_()\n",
    "p2.print_info()"
   ]
  },
  {
   "cell_type": "code",
   "execution_count": null,
   "id": "63eef60a",
   "metadata": {},
   "outputs": [],
   "source": [
    "p2.age = 30"
   ]
  },
  {
   "cell_type": "markdown",
   "id": "2cd17da8",
   "metadata": {},
   "source": [
    "# 3절. 생성자(__init__)와 소멸자(__del__)\n",
    "```\n",
    "생성자 : __init__ (self,매개변수...) 객체가 생성될 때 자동 실행\n",
    "        생성시 필요한 코드 (인스턴스 변수 초기화)를 포함\n",
    "소멸자 : __del__(self) : 객체가 소명될때 자동 실행\n",
    "        소멸시 필요한 코드를 포함 \n",
    "        인스턴스 객체의 레퍼런스 카운트가 0이 될때 실행\n",
    "```"
   ]
  },
  {
   "cell_type": "code",
   "execution_count": 1,
   "id": "bc6a245f",
   "metadata": {},
   "outputs": [],
   "source": [
    "class Person:\n",
    "    # 생성자를 이용한 인스턴스 변수 초기화\n",
    "    def __init__(self, name=\"홍길동\", gender=\"남자\"):\n",
    "        self.name = name # 인스턴스 변수\n",
    "        self.gender = gender\n",
    "        print('Person 객체를 생성합니다')\n",
    "        \n",
    "    def __del__(self):\n",
    "        print(\"Person 객체를 소멸합니다.\")\n",
    "        \n",
    "    def print_info(self):\n",
    "        print(\"{}는 {}입니다\".format(self.name, self.gender))\n",
    "        \n",
    "    def __str__(self):\n",
    "        return \"%s는 %s\" % (self.name, self.gender)"
   ]
  },
  {
   "cell_type": "code",
   "execution_count": 3,
   "id": "339a368b",
   "metadata": {},
   "outputs": [
    {
     "name": "stdout",
     "output_type": "stream",
     "text": [
      "Person 객체를 생성합니다\n",
      "Person 객체를 소멸합니다.\n",
      "Person 객체를 생성합니다\n",
      "Person 객체를 생성합니다\n",
      "Person 객체를 생성합니다\n",
      "Person 객체를 생성합니다\n"
     ]
    }
   ],
   "source": [
    "p1 = Person(\"홍길동\",\"남자\")\n",
    "p2 = Person(gender=\"여자\", name=\"홍길순\")\n",
    "p3 = Person(\"신길동\") # 성별은 기본값 '남자'로 생성이됨\n",
    "p4 = Person(gender=\"여자\") # 이름은 기본값 '홍길동'으로 들어감\n",
    "p5 = Person()"
   ]
  },
  {
   "cell_type": "code",
   "execution_count": 4,
   "id": "91c8cb62",
   "metadata": {},
   "outputs": [
    {
     "name": "stdout",
     "output_type": "stream",
     "text": [
      "홍길동는 남자입니다\n",
      "홍길순는 여자입니다\n",
      "신길동는 남자입니다\n",
      "홍길동는 여자입니다\n",
      "홍길동는 남자입니다\n"
     ]
    }
   ],
   "source": [
    "p1.print_info()\n",
    "p2.print_info()\n",
    "p3.print_info()\n",
    "p4.print_info()\n",
    "p5.print_info()"
   ]
  },
  {
   "cell_type": "code",
   "execution_count": 6,
   "id": "7787dc38",
   "metadata": {},
   "outputs": [
    {
     "name": "stdout",
     "output_type": "stream",
     "text": [
      "p1 = <__main__.Person object at 0x000001E2180709D0>\n",
      "p2 = <__main__.Person object at 0x000001E2180722F0>\n",
      "p3 = <__main__.Person object at 0x000001E218071E70>\n",
      "p4 = <__main__.Person object at 0x000001E218072350>\n",
      "p5 = <__main__.Person object at 0x000001E218071A50>\n"
     ]
    }
   ],
   "source": [
    "print('p1 =', p1)\n",
    "print('p2 =', p2)\n",
    "print('p3 =', p3)\n",
    "print('p4 =', p4)\n",
    "print('p5 =', p5)"
   ]
  },
  {
   "cell_type": "code",
   "execution_count": 7,
   "id": "ec9161d5",
   "metadata": {},
   "outputs": [
    {
     "name": "stdout",
     "output_type": "stream",
     "text": [
      "Person 객체를 소멸합니다.\n"
     ]
    }
   ],
   "source": [
    "del p5"
   ]
  },
  {
   "cell_type": "code",
   "execution_count": 10,
   "id": "7b04e7b8",
   "metadata": {},
   "outputs": [
    {
     "name": "stdout",
     "output_type": "stream",
     "text": [
      "<__main__.Person object at 0x000001E2180709D0>\n"
     ]
    }
   ],
   "source": [
    "print(p1)"
   ]
  },
  {
   "cell_type": "code",
   "execution_count": 11,
   "id": "dc98aadd",
   "metadata": {},
   "outputs": [
    {
     "name": "stdout",
     "output_type": "stream",
     "text": [
      "Person 객체를 소멸합니다.\n"
     ]
    }
   ],
   "source": [
    "p2 = p1"
   ]
  },
  {
   "cell_type": "code",
   "execution_count": 12,
   "id": "00c875d2",
   "metadata": {},
   "outputs": [
    {
     "data": {
      "text/plain": [
       "(2070577351120, 2070577351120)"
      ]
     },
     "execution_count": 12,
     "metadata": {},
     "output_type": "execute_result"
    }
   ],
   "source": [
    "id(p1), id(p2) "
   ]
  },
  {
   "cell_type": "code",
   "execution_count": 13,
   "id": "40786d36",
   "metadata": {},
   "outputs": [],
   "source": [
    " del p1 # 객체 레퍼런스 카운트가 1이여서 소멸자 생성 안함"
   ]
  },
  {
   "cell_type": "code",
   "execution_count": 14,
   "id": "f8720da4",
   "metadata": {},
   "outputs": [
    {
     "name": "stdout",
     "output_type": "stream",
     "text": [
      "Person 객체를 소멸합니다.\n"
     ]
    }
   ],
   "source": [
    "del p2"
   ]
  },
  {
   "cell_type": "markdown",
   "id": "bdc24816",
   "metadata": {},
   "source": [
    "# 4절. static변수\n",
    "- 변수종류 :\n",
    "    * 인스턴스변수 : 생성자를 통함\n",
    "    * 클래스변수 : 클래스내선언\n",
    "    * static 변수 : 클래스 내에 선언한 변수 중 변수명앞에 __(under scor 2개)를 붙임 \n",
    "```\n",
    "    변수명 앞에 __을 붙이면, 클래스명.__클래스명__static변수명으로 참조\n",
    "    클래스 변수는 클래스나 인스턴스에서 바로 접근 가능 .\n",
    "    반면, __로 시작하는 변수는 바로 접근 불가하고 클래스명._클래스명__static변수명으로\n",
    "    접근해야 하므로 외부에서 실수로 접근 하거나 변경하는 것을 방지\n",
    "    static 변수는 클래스 내부에서만 접근 하도록 하려는 의도를 전달하는 용도\n",
    "```"
   ]
  },
  {
   "cell_type": "code",
   "execution_count": 15,
   "id": "84698d46",
   "metadata": {},
   "outputs": [
    {
     "data": {
      "text/plain": [
       "'홍길동'"
      ]
     },
     "execution_count": 15,
     "metadata": {},
     "output_type": "execute_result"
    }
   ],
   "source": [
    "class Person:\n",
    "    name = '홍길동'\n",
    "    __count = 0\n",
    "p = Person()\n",
    "p.name"
   ]
  },
  {
   "cell_type": "code",
   "execution_count": 17,
   "id": "d0bef8f7",
   "metadata": {},
   "outputs": [
    {
     "data": {
      "text/plain": [
       "0"
      ]
     },
     "execution_count": 17,
     "metadata": {},
     "output_type": "execute_result"
    }
   ],
   "source": [
    "Person._Person__count"
   ]
  },
  {
   "cell_type": "markdown",
   "id": "6a16ce96",
   "metadata": {},
   "source": [
    "# 5절 상속과 재정의"
   ]
  },
  {
   "cell_type": "code",
   "execution_count": 18,
   "id": "26d011f5",
   "metadata": {},
   "outputs": [
    {
     "name": "stdout",
     "output_type": "stream",
     "text": [
      "두수를 초기화\n",
      "num1 > 2, num2 > 2\n"
     ]
    }
   ],
   "source": [
    "class Cal:\n",
    "    def __init__(self, num1=1, num2=2):\n",
    "        print('두수를 초기화')\n",
    "        self.num1 = num1\n",
    "        self.num2 = num2\n",
    "    def add(self):\n",
    "        return self.num1+self.num2\n",
    "    def sub(self):\n",
    "#         if self.num1 >= self.num2:\n",
    "#             return self.num1-self.num2\n",
    "#         else:\n",
    "#             return self.num2-self.num1\n",
    "        return self.num1-self.num2 if self.num1>=self.num2 else self.num2-self.num1\n",
    "    def __str__(self):\n",
    "        return 'num1 > %d, num2 > %d' % (self.num1, self.num2)\n",
    "    \n",
    "class Cal_inherit(Cal):\n",
    "    def mul(self):\n",
    "        return self.num1*self.num2\n",
    "obj = Cal_inherit(2, 2)\n",
    "print(obj)"
   ]
  },
  {
   "cell_type": "code",
   "execution_count": 19,
   "id": "e518bb0a",
   "metadata": {},
   "outputs": [
    {
     "name": "stdout",
     "output_type": "stream",
     "text": [
      "4\n",
      "0\n",
      "4\n"
     ]
    }
   ],
   "source": [
    "print(obj.add())\n",
    "print(obj.sub())\n",
    "print(obj.mul())"
   ]
  },
  {
   "cell_type": "code",
   "execution_count": 20,
   "id": "2de2f643",
   "metadata": {},
   "outputs": [],
   "source": [
    "class Person:\n",
    "    'Person은 이름과 성멸 멤버변수가 있습니다.'\n",
    "    def __init__(self, name, gender):\n",
    "        print('Person 객체 생성')\n",
    "        self.name = name\n",
    "        self.gender = gender\n",
    "    def __del__(self):\n",
    "        print('Person 객체 소멸됩니다')\n",
    "    def print_info(self):\n",
    "        '객체 이름과성별을 출력합니다'\n",
    "        print('{}님은 {}입니다'.format(self.name, self.gender))\n",
    "    def __str__(self):\n",
    "        return '{}님은 {}입니다'.format(self.name, self.gender)"
   ]
  },
  {
   "cell_type": "markdown",
   "id": "8bff4053",
   "metadata": {},
   "source": [
    "### super()이용"
   ]
  },
  {
   "cell_type": "code",
   "execution_count": 23,
   "id": "d4957e24",
   "metadata": {},
   "outputs": [],
   "source": [
    "class Student(Person):\n",
    "    'name과 gender(상속받음)에 major변수를 갖는 Student 타입'\n",
    "    # 생성자 다시 만들어야 함\n",
    "    def __init__(self, name, gender, major):\n",
    "        # 부모클래스의 생성자를 호출해서 name과 gender초기화\n",
    "        # Person.__init__(self, name, gender)\n",
    "        super().__init__(name, gender)\n",
    "        self.major = major\n",
    "    def __del__(self):\n",
    "        pass # 사용하기 싫으면 pass를 넣어서 아무동작 실행안되게 만든다\n",
    "    def print_info(self): # 재정의(override)\n",
    "        # print(\"{}는 {}입니다 \\n 전공은 {}입니다\".format(self.name, self.gender, self.major))\n",
    "        super().print_info() # 상위 클래스 Person 의 print_info를 실행한후 \n",
    "        print(\"전공은 {}입니다\".format(self.major))\n",
    "    def __str__(self):\n",
    "        return super().__str__() + \" 그리고 전공은 {}입니다\".format(self.major)"
   ]
  },
  {
   "cell_type": "code",
   "execution_count": 24,
   "id": "0dc8f707",
   "metadata": {},
   "outputs": [
    {
     "name": "stdout",
     "output_type": "stream",
     "text": [
      "Person 객체 생성\n",
      "홍길동님은 남자입니다 그리고 전공은 AI 빅데이터입니다\n"
     ]
    }
   ],
   "source": [
    "s1 = Student(\"홍길동\",\"남자\",\"AI 빅데이터\")\n",
    "print(s1)"
   ]
  },
  {
   "cell_type": "code",
   "execution_count": 25,
   "id": "89c90613",
   "metadata": {},
   "outputs": [
    {
     "name": "stdout",
     "output_type": "stream",
     "text": [
      "홍길동님은 남자입니다\n",
      "전공은 AI 빅데이터입니다\n"
     ]
    }
   ],
   "source": [
    "s1.print_info()"
   ]
  },
  {
   "cell_type": "code",
   "execution_count": 27,
   "id": "e4279e46",
   "metadata": {},
   "outputs": [
    {
     "name": "stdout",
     "output_type": "stream",
     "text": [
      "True\n",
      "True\n"
     ]
    }
   ],
   "source": [
    "print(isinstance(s1, Student))\n",
    "print(isinstance(s1, Person))"
   ]
  },
  {
   "cell_type": "markdown",
   "id": "e12b7d4e",
   "metadata": {},
   "source": [
    "### 상속과 static 변수 활용"
   ]
  },
  {
   "cell_type": "code",
   "execution_count": 31,
   "id": "dcfe0ec0",
   "metadata": {},
   "outputs": [],
   "source": [
    "class Person:\n",
    "    'Person = name, gender'\n",
    "    def __init__(self, name, gender):\n",
    "        self.name = name\n",
    "        self.gender = gender\n",
    "    def print_info(self): # 추상메소드 흉내\n",
    "        raise Exception('이 메소드는 반드시 구현되어야 합니다')\n",
    "    def __str__(self):\n",
    "        return '{}님은 {}'.format(self.name, self.gender)\n",
    "class Student(Person):\n",
    "    '''\n",
    "    name과 gender(상속)에 major변수는 갖는 Student 타입\n",
    "    객체 생성마다 몇번째 객체인지 저장(static 변수)\n",
    "    '''\n",
    "    __count = 0 # static 변수(객체 객수가 저장될 변수)\n",
    "    # 변수명 앞에 __ 붙으면, \"클래스명._클래스명__static변수\"\n",
    "    def __init__(self, name, gender, major):\n",
    "        Student._Student__count += 1 # __count += 1 은 사용 불가\n",
    "        super().__init__(name, gender)\n",
    "        self.major = major\n",
    "    def __dal__(self):\n",
    "        Student._Student__count -= 1\n",
    "    def print_info(self):\n",
    "        print(\"{}님은 {}, 전공은 {}입니다 - 이상 {}번째 인스턴스입니다\".format(self.name, self.gender, self.major, Student._Student__count))\n",
    "    def __str__(self):\n",
    "        return super().__str__() + ', 전공은 {}입니다'.format(self.major)\n",
    "    @classmethod\n",
    "    def get_count(cls):\n",
    "        return Student._Student__count"
   ]
  },
  {
   "cell_type": "code",
   "execution_count": 32,
   "id": "b978da02",
   "metadata": {},
   "outputs": [
    {
     "name": "stdout",
     "output_type": "stream",
     "text": [
      "홍길동님은 남성\n"
     ]
    }
   ],
   "source": [
    "p = Person(\"홍길동\",\"남성\")\n",
    "print(p)"
   ]
  },
  {
   "cell_type": "code",
   "execution_count": null,
   "id": "ce0bc6cb",
   "metadata": {},
   "outputs": [],
   "source": [
    "# p.print_info() 강제 예외 발생"
   ]
  },
  {
   "cell_type": "code",
   "execution_count": 33,
   "id": "a8930b55",
   "metadata": {},
   "outputs": [
    {
     "name": "stdout",
     "output_type": "stream",
     "text": [
      "홍학생님은 남성, 전공은 AI 빅데이터입니다\n",
      "객체의 갯수 : 1\n",
      "객체의 갯수 : 1\n"
     ]
    }
   ],
   "source": [
    "s1 = Student(\"홍학생\", \"남성\", \"AI 빅데이터\")\n",
    "print(s1)\n",
    "print('객체의 갯수 :', Student.get_count())\n",
    "print('객체의 갯수 :', Student._Student__count)"
   ]
  },
  {
   "cell_type": "code",
   "execution_count": 34,
   "id": "3b8dd725",
   "metadata": {},
   "outputs": [
    {
     "name": "stdout",
     "output_type": "stream",
     "text": [
      "홍학생님은 남성, 전공은 AI 빅데이터입니다 - 이상 1번째 인스턴스입니다\n"
     ]
    }
   ],
   "source": [
    "s1.print_info()"
   ]
  },
  {
   "cell_type": "code",
   "execution_count": 36,
   "id": "e7833ce0",
   "metadata": {},
   "outputs": [
    {
     "name": "stdout",
     "output_type": "stream",
     "text": [
      "신길숙님은 여자, 전공은 통계학입니다 - 이상 3번째 인스턴스입니다\n",
      "객체 갯수 : 3\n"
     ]
    }
   ],
   "source": [
    "s2 = Student(\"신길숙\",\"여자\",\"통계학\")\n",
    "s2.print_info()\n",
    "print('객체 갯수 :', Student.get_count())"
   ]
  },
  {
   "cell_type": "code",
   "execution_count": 37,
   "id": "1aadc727",
   "metadata": {},
   "outputs": [
    {
     "data": {
      "text/plain": [
       "{'name': '신길숙', 'gender': '여자', 'major': '통계학'}"
      ]
     },
     "execution_count": 37,
     "metadata": {},
     "output_type": "execute_result"
    }
   ],
   "source": [
    "s2.__dict__"
   ]
  },
  {
   "cell_type": "code",
   "execution_count": 38,
   "id": "dbddfe49",
   "metadata": {},
   "outputs": [
    {
     "name": "stdout",
     "output_type": "stream",
     "text": [
      "객체 갯수 : 3\n"
     ]
    }
   ],
   "source": [
    "del s1\n",
    "print('객체 갯수 :' , Student.get_count())"
   ]
  },
  {
   "cell_type": "code",
   "execution_count": 44,
   "id": "65f62679",
   "metadata": {},
   "outputs": [],
   "source": [
    "class Product:\n",
    "    __count = 100\n",
    "    def __init__(self, name, price):\n",
    "        Product._Product__count += 1\n",
    "        self.serialno = Product._Product__count\n",
    "        self.name = name\n",
    "        self.price = price\n",
    "    def __str__(self):\n",
    "        return 'serialno : {}\\n상품명 : {}\\n가격 : {}원'.format(self.serialno, self.name, self.price) "
   ]
  },
  {
   "cell_type": "code",
   "execution_count": 45,
   "id": "62aae1e5",
   "metadata": {},
   "outputs": [],
   "source": [
    "p1 = Product(\"새우깡\", 2000)\n",
    "p2 = Product(\"양파깡\", 1600)\n",
    "p3 = Product(\"감자짱\", 1800)"
   ]
  },
  {
   "cell_type": "code",
   "execution_count": 46,
   "id": "598344f9",
   "metadata": {},
   "outputs": [
    {
     "name": "stdout",
     "output_type": "stream",
     "text": [
      "serialno : 101\n",
      "상품명 : 새우깡\n",
      "가격 : 2000원\n",
      "serialno : 102\n",
      "상품명 : 양파깡\n",
      "가격 : 1600원\n",
      "serialno : 103\n",
      "상품명 : 감자짱\n",
      "가격 : 1800원\n"
     ]
    }
   ],
   "source": [
    "print(p1)\n",
    "print(p2)\n",
    "print(p3)"
   ]
  },
  {
   "cell_type": "code",
   "execution_count": 47,
   "id": "5c4d2562",
   "metadata": {},
   "outputs": [
    {
     "name": "stdout",
     "output_type": "stream",
     "text": [
      "생성된 최종 시리얼 번호 : 103\n"
     ]
    }
   ],
   "source": [
    "print('생성된 최종 시리얼 번호 :', Product._Product__count)"
   ]
  },
  {
   "cell_type": "code",
   "execution_count": 56,
   "id": "f865b8f0",
   "metadata": {},
   "outputs": [],
   "source": [
    "# 연습 문제 실습형 1번\n",
    "class Shape:\n",
    "    def __init__(self, x=0, y=0):\n",
    "        self.x = x\n",
    "        self.y = y\n",
    "        \n",
    "    def move(self, x, y):\n",
    "        self.x += x\n",
    "        self.y += y\n",
    "        \n",
    "    def __str__(self):\n",
    "        return \"좌표 x={}, y={}값\".format(self.x, self.y)\n",
    "    \n",
    "    def calc_area(self):\n",
    "        raise Exception()\n",
    "        \n",
    "    @staticmethod\n",
    "    def that_():\n",
    "        Shape.x = 120\n",
    "        Shape.y = 180\n",
    "        print(\"static 메소드 {}는 {}입니다\".format(Shape.x, Shape.y))"
   ]
  },
  {
   "cell_type": "code",
   "execution_count": 65,
   "id": "6106c95a",
   "metadata": {},
   "outputs": [],
   "source": [
    "class Triangle(Shape):\n",
    "    __count = 0\n",
    "\n",
    "    def __init__(self, width, height, x=0, y=0):\n",
    "        super().__init__(x, y)\n",
    "        self.width = width\n",
    "        self.height = height\n",
    "        Triangle._Triangle__count += 1\n",
    "\n",
    "    def __del__(self):\n",
    "        Triangle._Triangle__count -= 1\n",
    "\n",
    "    def calc_area(self):\n",
    "        return self.width * self.height / 2\n",
    "\n",
    "    def __str__(self):\n",
    "        return \"x={}, \\ny={}, \\nwidth={}, \\nheight={}\".format(self.x, self.y, self.width, self.height)\n",
    "    @classmethod\n",
    "    def get_count(cls):\n",
    "        return Triangle._Triangle__count"
   ]
  },
  {
   "cell_type": "code",
   "execution_count": 59,
   "id": "d9e4d10b",
   "metadata": {},
   "outputs": [],
   "source": [
    "Shape1 = Shape(2, 5)\n",
    "Shape2 = Shape(5, 2)"
   ]
  },
  {
   "cell_type": "code",
   "execution_count": 67,
   "id": "840156a5",
   "metadata": {},
   "outputs": [
    {
     "name": "stdout",
     "output_type": "stream",
     "text": [
      "x=0, \n",
      "y=10, \n",
      "width=4, \n",
      "height=3\n"
     ]
    }
   ],
   "source": [
    "t1 = Triangle(4, 3, y=10)\n",
    "print(t1)"
   ]
  },
  {
   "cell_type": "code",
   "execution_count": 61,
   "id": "2b64ebf1",
   "metadata": {},
   "outputs": [],
   "source": [
    "Shape2 = Triangle(10, 28)"
   ]
  },
  {
   "cell_type": "code",
   "execution_count": 62,
   "id": "b53223aa",
   "metadata": {},
   "outputs": [
    {
     "name": "stdout",
     "output_type": "stream",
     "text": [
      "x=0, \n",
      "y=0, \n",
      "width=10, \n",
      "height=28\n"
     ]
    }
   ],
   "source": [
    "print(Shape2)"
   ]
  },
  {
   "cell_type": "code",
   "execution_count": 64,
   "id": "8b733f79",
   "metadata": {},
   "outputs": [
    {
     "data": {
      "text/plain": [
       "True"
      ]
     },
     "execution_count": 64,
     "metadata": {},
     "output_type": "execute_result"
    }
   ],
   "source": [
    "isinstance(Shape2, Triangle)"
   ]
  },
  {
   "cell_type": "code",
   "execution_count": null,
   "id": "c4f7214d",
   "metadata": {},
   "outputs": [],
   "source": [
    "# 서술형 연습문제\n",
    "# 1번 = ①\n",
    "# 2번 = ②\n",
    "# 3번 = ② > ④\n",
    "# def print_info(self):\n",
    "# 4번 = ④ > ①\n",
    "# 생성자는 중복(Overloading)정의해서 사용할수 있다\n",
    "# 5번 = ② \n",
    "# 6번 = ③\n",
    "# 7번 = ④ > ②\n",
    "# obj.method_a()\n",
    "# 8번 = ② > ③\n",
    "# 9번 = ③ > ②"
   ]
  },
  {
   "cell_type": "code",
   "execution_count": null,
   "id": "783fcb61",
   "metadata": {},
   "outputs": [],
   "source": []
  },
  {
   "cell_type": "code",
   "execution_count": null,
   "id": "8c71c370",
   "metadata": {},
   "outputs": [],
   "source": []
  },
  {
   "cell_type": "code",
   "execution_count": null,
   "id": "3f873a66",
   "metadata": {},
   "outputs": [],
   "source": []
  },
  {
   "cell_type": "code",
   "execution_count": null,
   "id": "ed06ba2a",
   "metadata": {},
   "outputs": [],
   "source": []
  },
  {
   "cell_type": "code",
   "execution_count": null,
   "id": "8e77b3c2",
   "metadata": {},
   "outputs": [],
   "source": []
  },
  {
   "cell_type": "code",
   "execution_count": null,
   "id": "bfae2be1",
   "metadata": {},
   "outputs": [],
   "source": []
  },
  {
   "cell_type": "code",
   "execution_count": null,
   "id": "2eece492",
   "metadata": {},
   "outputs": [],
   "source": []
  }
 ],
 "metadata": {
  "kernelspec": {
   "display_name": "Python 3 (ipykernel)",
   "language": "python",
   "name": "python3"
  },
  "language_info": {
   "codemirror_mode": {
    "name": "ipython",
    "version": 3
   },
   "file_extension": ".py",
   "mimetype": "text/x-python",
   "name": "python",
   "nbconvert_exporter": "python",
   "pygments_lexer": "ipython3",
   "version": "3.10.9"
  },
  "toc": {
   "base_numbering": 1,
   "nav_menu": {},
   "number_sections": true,
   "sideBar": true,
   "skip_h1_title": false,
   "title_cell": "Table of Contents",
   "title_sidebar": "Contents",
   "toc_cell": false,
   "toc_position": {
    "height": "calc(100% - 180px)",
    "left": "10px",
    "top": "150px",
    "width": "175.594px"
   },
   "toc_section_display": true,
   "toc_window_display": true
  }
 },
 "nbformat": 4,
 "nbformat_minor": 5
}
