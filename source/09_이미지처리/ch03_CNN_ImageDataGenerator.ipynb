{
 "cells": [
  {
   "cell_type": "code",
   "execution_count": 2,
   "id": "2f5b7fad",
   "metadata": {},
   "outputs": [
    {
     "data": {
      "image/png": "[encoded data removed]",
      "text/plain": [
       "<PIL.PngImagePlugin.PngImageFile image mode=RGBA size=28x28>"
      ]
     },
     "metadata": {},
     "output_type": "display_data"
    },
    {
     "data": {
      "text/plain": [
       "(28, 28, 4)"
      ]
     },
     "execution_count": 2,
     "metadata": {},
     "output_type": "execute_result"
    }
   ],
   "source": [
    "from PIL import Image\n",
    "import numpy as np\n",
    "c0 = Image.open('data/test/0/1.png')\n",
    "display(c0)\n",
    "c0_numpy = np.array(c0)\n",
    "c0_numpy.shape"
   ]
  },
  {
   "cell_type": "code",
   "execution_count": 3,
   "id": "4582922d",
   "metadata": {},
   "outputs": [
    {
     "data": {
      "text/plain": [
       "(28, 28, 3)"
      ]
     },
     "execution_count": 3,
     "metadata": {},
     "output_type": "execute_result"
    }
   ],
   "source": [
    "c0_numpy[:, :, :-1].shape"
   ]
  },
  {
   "cell_type": "markdown",
   "id": "c49abef6",
   "metadata": {},
   "source": [
    "# 1. CNN"
   ]
  },
  {
   "cell_type": "code",
   "execution_count": 5,
   "id": "0cbfeae7",
   "metadata": {},
   "outputs": [],
   "source": [
    "import numpy as np\n",
    "from tensorflow.keras.preprocessing.image import ImageDataGenerator\n",
    "from tensorflow.keras.models import Sequential\n",
    "from tensorflow.keras.layers import Conv2D, MaxPool2D, Flatten, Dense, Dropout\n",
    "from PIL import Image\n",
    "np.random.seed(3)"
   ]
  },
  {
   "cell_type": "code",
   "execution_count": 7,
   "id": "792ae8fe",
   "metadata": {},
   "outputs": [
    {
     "data": {
      "text/plain": [
       "(24, 24, 4)"
      ]
     },
     "execution_count": 7,
     "metadata": {},
     "output_type": "execute_result"
    }
   ],
   "source": [
    "circle = Image.open('data/handwriting/handwriting_shape/train/circle/circle001.png')\n",
    "np.array(circle).shape\n",
    "# 모든 이미지의 shape 같을 필요는 없음"
   ]
  },
  {
   "cell_type": "code",
   "execution_count": 12,
   "id": "f4c976d9",
   "metadata": {},
   "outputs": [
    {
     "name": "stdout",
     "output_type": "stream",
     "text": [
      "Found 45 images belonging to 3 classes.\n",
      "Found 15 images belonging to 3 classes.\n"
     ]
    }
   ],
   "source": [
    "# 1. 데이터 생성하기 학습훈련셋 : (data/handwriting/handwriting_shape/train/*) \n",
    "                # 테스트 셋 : (data/handwriting/handwriting_shape/test/*) \n",
    "train_datagen = ImageDataGenerator(rescale=1./255) # 0~1사이의 값으로 스케일 조정\n",
    "train_data = train_datagen.flow_from_directory( \n",
    "    'data/handwriting/handwriting_shape/train/',# train 아래 폴더명이 라벨\n",
    "    target_size=(24,24), # 넘파이 배열의 이미지 크기 조정\n",
    "    class_mode='categorical', # 원핫인코딩 형식으로 반환\n",
    "    batch_size=3 # 한번에 반환할 이미지와 라벨수 \n",
    ")\n",
    "test_datagen = ImageDataGenerator(rescale=1./255)\n",
    "test_data = test_datagen.flow_from_directory(\n",
    "    'data/handwriting/handwriting_shape/test/',\n",
    "    target_size=(24,24),\n",
    "    class_mode='categorical',\n",
    "    batch_size=3,\n",
    "    shuffle=False # 이미지와 라벨 순서가 고정\n",
    ")"
   ]
  },
  {
   "cell_type": "code",
   "execution_count": 13,
   "id": "2af59634",
   "metadata": {},
   "outputs": [
    {
     "data": {
      "text/plain": [
       "<keras.preprocessing.image.DirectoryIterator at 0x2aa13b6e440>"
      ]
     },
     "execution_count": 13,
     "metadata": {},
     "output_type": "execute_result"
    }
   ],
   "source": [
    "test_data"
   ]
  },
  {
   "cell_type": "code",
   "execution_count": 14,
   "id": "733b4a23",
   "metadata": {},
   "outputs": [
    {
     "data": {
      "text/plain": [
       "array([[[[1., 1., 1.],\n",
       "         [1., 1., 1.],\n",
       "         [1., 1., 1.],\n",
       "         ...,\n",
       "         [1., 1., 1.],\n",
       "         [1., 1., 1.],\n",
       "         [1., 1., 1.]],\n",
       "\n",
       "        [[1., 1., 1.],\n",
       "         [1., 1., 1.],\n",
       "         [1., 1., 1.],\n",
       "         ...,\n",
       "         [1., 1., 1.],\n",
       "         [1., 1., 1.],\n",
       "         [1., 1., 1.]],\n",
       "\n",
       "        [[1., 1., 1.],\n",
       "         [1., 1., 1.],\n",
       "         [1., 1., 1.],\n",
       "         ...,\n",
       "         [1., 1., 1.],\n",
       "         [1., 1., 1.],\n",
       "         [1., 1., 1.]],\n",
       "\n",
       "        ...,\n",
       "\n",
       "        [[1., 1., 1.],\n",
       "         [1., 1., 1.],\n",
       "         [1., 1., 1.],\n",
       "         ...,\n",
       "         [1., 1., 1.],\n",
       "         [1., 1., 1.],\n",
       "         [1., 1., 1.]],\n",
       "\n",
       "        [[1., 1., 1.],\n",
       "         [1., 1., 1.],\n",
       "         [1., 1., 1.],\n",
       "         ...,\n",
       "         [1., 1., 1.],\n",
       "         [1., 1., 1.],\n",
       "         [1., 1., 1.]],\n",
       "\n",
       "        [[1., 1., 1.],\n",
       "         [1., 1., 1.],\n",
       "         [1., 1., 1.],\n",
       "         ...,\n",
       "         [1., 1., 1.],\n",
       "         [1., 1., 1.],\n",
       "         [1., 1., 1.]]],\n",
       "\n",
       "\n",
       "       [[[1., 1., 1.],\n",
       "         [1., 1., 1.],\n",
       "         [1., 1., 1.],\n",
       "         ...,\n",
       "         [1., 1., 1.],\n",
       "         [1., 1., 1.],\n",
       "         [1., 1., 1.]],\n",
       "\n",
       "        [[1., 1., 1.],\n",
       "         [1., 1., 1.],\n",
       "         [1., 1., 1.],\n",
       "         ...,\n",
       "         [1., 1., 1.],\n",
       "         [1., 1., 1.],\n",
       "         [1., 1., 1.]],\n",
       "\n",
       "        [[1., 1., 1.],\n",
       "         [1., 1., 1.],\n",
       "         [1., 1., 1.],\n",
       "         ...,\n",
       "         [1., 1., 1.],\n",
       "         [1., 1., 1.],\n",
       "         [1., 1., 1.]],\n",
       "\n",
       "        ...,\n",
       "\n",
       "        [[1., 1., 1.],\n",
       "         [1., 1., 1.],\n",
       "         [1., 1., 1.],\n",
       "         ...,\n",
       "         [1., 1., 1.],\n",
       "         [1., 1., 1.],\n",
       "         [1., 1., 1.]],\n",
       "\n",
       "        [[1., 1., 1.],\n",
       "         [1., 1., 1.],\n",
       "         [1., 1., 1.],\n",
       "         ...,\n",
       "         [1., 1., 1.],\n",
       "         [1., 1., 1.],\n",
       "         [1., 1., 1.]],\n",
       "\n",
       "        [[1., 1., 1.],\n",
       "         [1., 1., 1.],\n",
       "         [1., 1., 1.],\n",
       "         ...,\n",
       "         [1., 1., 1.],\n",
       "         [1., 1., 1.],\n",
       "         [1., 1., 1.]]],\n",
       "\n",
       "\n",
       "       [[[1., 1., 1.],\n",
       "         [1., 1., 1.],\n",
       "         [1., 1., 1.],\n",
       "         ...,\n",
       "         [1., 1., 1.],\n",
       "         [1., 1., 1.],\n",
       "         [1., 1., 1.]],\n",
       "\n",
       "        [[1., 1., 1.],\n",
       "         [1., 1., 1.],\n",
       "         [1., 1., 1.],\n",
       "         ...,\n",
       "         [1., 1., 1.],\n",
       "         [1., 1., 1.],\n",
       "         [1., 1., 1.]],\n",
       "\n",
       "        [[1., 1., 1.],\n",
       "         [1., 1., 1.],\n",
       "         [1., 1., 1.],\n",
       "         ...,\n",
       "         [1., 1., 1.],\n",
       "         [1., 1., 1.],\n",
       "         [1., 1., 1.]],\n",
       "\n",
       "        ...,\n",
       "\n",
       "        [[1., 1., 1.],\n",
       "         [1., 1., 1.],\n",
       "         [1., 1., 1.],\n",
       "         ...,\n",
       "         [1., 1., 1.],\n",
       "         [1., 1., 1.],\n",
       "         [1., 1., 1.]],\n",
       "\n",
       "        [[1., 1., 1.],\n",
       "         [1., 1., 1.],\n",
       "         [1., 1., 1.],\n",
       "         ...,\n",
       "         [1., 1., 1.],\n",
       "         [1., 1., 1.],\n",
       "         [1., 1., 1.]],\n",
       "\n",
       "        [[1., 1., 1.],\n",
       "         [1., 1., 1.],\n",
       "         [1., 1., 1.],\n",
       "         ...,\n",
       "         [1., 1., 1.],\n",
       "         [1., 1., 1.],\n",
       "         [1., 1., 1.]]]], dtype=float32)"
      ]
     },
     "execution_count": 14,
     "metadata": {},
     "output_type": "execute_result"
    }
   ],
   "source": [
    "X_images, Y_labels = next(test_data) # 한 배치 사이즈 만큼 데이터 가져오기\n",
    "X_images"
   ]
  },
  {
   "cell_type": "code",
   "execution_count": 15,
   "id": "2279f2e8",
   "metadata": {},
   "outputs": [
    {
     "name": "stdout",
     "output_type": "stream",
     "text": [
      "15\n",
      "3\n"
     ]
    }
   ],
   "source": [
    "print(test_data.n) # 데이터 전체 갯수\n",
    "print(test_data.batch_size) # 배치 사이즈"
   ]
  },
  {
   "cell_type": "code",
   "execution_count": 17,
   "id": "aad3dea0",
   "metadata": {},
   "outputs": [
    {
     "name": "stdout",
     "output_type": "stream",
     "text": [
      "(15, 24, 24, 3)\n",
      "(15, 3)\n"
     ]
    }
   ],
   "source": [
    "# 전체 가져오기\n",
    "all_images = [] # 독립변수\n",
    "all_labels = [] # 종속변수\n",
    "for images, labels in test_data:\n",
    "    all_images.append(images)\n",
    "    all_labels.append(labels)\n",
    "    if len(all_images) * test_data.batch_size >= test_data.n:\n",
    "        break\n",
    "X_test_images = np.concatenate(all_images)\n",
    "Y_test_labels = np.concatenate(all_labels)\n",
    "\n",
    "print(X_test_images.shape)\n",
    "print(Y_test_labels.shape)"
   ]
  },
  {
   "cell_type": "code",
   "execution_count": 24,
   "id": "c59d90f6",
   "metadata": {},
   "outputs": [
    {
     "name": "stdout",
     "output_type": "stream",
     "text": [
      "Model: \"sequential_2\"\n",
      "_________________________________________________________________\n",
      " Layer (type)                Output Shape              Param #   \n",
      "=================================================================\n",
      " conv2d_4 (Conv2D)           (None, 22, 22, 32)        896       \n",
      "                                                                 \n",
      " conv2d_5 (Conv2D)           (None, 20, 20, 64)        18496     \n",
      "                                                                 \n",
      " max_pooling2d_2 (MaxPooling  (None, 10, 10, 64)       0         \n",
      " 2D)                                                             \n",
      "                                                                 \n",
      " flatten_2 (Flatten)         (None, 6400)              0         \n",
      "                                                                 \n",
      " dense_4 (Dense)             (None, 128)               819328    \n",
      "                                                                 \n",
      " dense_5 (Dense)             (None, 3)                 387       \n",
      "                                                                 \n",
      "=================================================================\n",
      "Total params: 839,107\n",
      "Trainable params: 839,107\n",
      "Non-trainable params: 0\n",
      "_________________________________________________________________\n"
     ]
    }
   ],
   "source": [
    "# 2. 모델구성\n",
    "model = Sequential()\n",
    "model.add(Conv2D(32,\n",
    "                kernel_size=(3,3),\n",
    "                activation='relu',\n",
    "                input_shape=(24,24,3)))\n",
    "model.add(Conv2D(64,\n",
    "                kernel_size=(3,3),\n",
    "                activation='relu',\n",
    "                ))\n",
    "model.add(MaxPool2D(pool_size=(2,2)))\n",
    "model.add(Flatten()) # 3차원 데이터를 1차원으로\n",
    "model.add(Dense(units=128,\n",
    "               activation='relu'))\n",
    "model.add(Dense(units=3,\n",
    "               activation='softmax'))\n",
    "model.summary()"
   ]
  },
  {
   "cell_type": "code",
   "execution_count": 25,
   "id": "81a29247",
   "metadata": {},
   "outputs": [],
   "source": [
    "# 3. 학습설정\n",
    "model.compile(loss='categorical_crossentropy',\n",
    "             optimizer='adam',\n",
    "             metrics=['accuracy'])"
   ]
  },
  {
   "cell_type": "code",
   "execution_count": 26,
   "id": "e1d49dd3",
   "metadata": {},
   "outputs": [
    {
     "name": "stdout",
     "output_type": "stream",
     "text": [
      "Epoch 1/50\n",
      "15/15 [==============================] - 1s 22ms/step - loss: 1.0440 - accuracy: 0.5333 - val_loss: 0.6292 - val_accuracy: 0.9333\n",
      "Epoch 2/50\n",
      "15/15 [==============================] - 0s 8ms/step - loss: 0.2921 - accuracy: 0.9111 - val_loss: 0.1109 - val_accuracy: 1.0000\n",
      "Epoch 3/50\n",
      "15/15 [==============================] - 0s 7ms/step - loss: 0.0322 - accuracy: 1.0000 - val_loss: 0.0415 - val_accuracy: 1.0000\n",
      "Epoch 4/50\n",
      "15/15 [==============================] - 0s 7ms/step - loss: 0.0056 - accuracy: 1.0000 - val_loss: 0.0099 - val_accuracy: 1.0000\n",
      "Epoch 5/50\n",
      "15/15 [==============================] - 0s 7ms/step - loss: 0.0010 - accuracy: 1.0000 - val_loss: 0.0070 - val_accuracy: 1.0000\n",
      "Epoch 6/50\n",
      "15/15 [==============================] - 0s 7ms/step - loss: 5.3034e-04 - accuracy: 1.0000 - val_loss: 0.0061 - val_accuracy: 1.0000\n",
      "Epoch 7/50\n",
      "15/15 [==============================] - 0s 7ms/step - loss: 2.4855e-04 - accuracy: 1.0000 - val_loss: 0.0078 - val_accuracy: 1.0000\n",
      "Epoch 8/50\n",
      "15/15 [==============================] - 0s 7ms/step - loss: 2.0137e-04 - accuracy: 1.0000 - val_loss: 0.0077 - val_accuracy: 1.0000\n",
      "Epoch 9/50\n",
      "15/15 [==============================] - 0s 7ms/step - loss: 1.5713e-04 - accuracy: 1.0000 - val_loss: 0.0062 - val_accuracy: 1.0000\n",
      "Epoch 10/50\n",
      "15/15 [==============================] - 0s 7ms/step - loss: 1.3168e-04 - accuracy: 1.0000 - val_loss: 0.0061 - val_accuracy: 1.0000\n",
      "Epoch 11/50\n",
      "15/15 [==============================] - 0s 7ms/step - loss: 1.1812e-04 - accuracy: 1.0000 - val_loss: 0.0059 - val_accuracy: 1.0000\n",
      "Epoch 12/50\n",
      "15/15 [==============================] - 0s 7ms/step - loss: 9.7137e-05 - accuracy: 1.0000 - val_loss: 0.0058 - val_accuracy: 1.0000\n",
      "Epoch 13/50\n",
      "15/15 [==============================] - 0s 7ms/step - loss: 8.4926e-05 - accuracy: 1.0000 - val_loss: 0.0057 - val_accuracy: 1.0000\n",
      "Epoch 14/50\n",
      "15/15 [==============================] - 0s 7ms/step - loss: 7.5354e-05 - accuracy: 1.0000 - val_loss: 0.0054 - val_accuracy: 1.0000\n",
      "Epoch 15/50\n",
      "15/15 [==============================] - 0s 7ms/step - loss: 6.8759e-05 - accuracy: 1.0000 - val_loss: 0.0056 - val_accuracy: 1.0000\n",
      "Epoch 16/50\n",
      "15/15 [==============================] - 0s 8ms/step - loss: 5.9278e-05 - accuracy: 1.0000 - val_loss: 0.0050 - val_accuracy: 1.0000\n",
      "Epoch 17/50\n",
      "15/15 [==============================] - 0s 7ms/step - loss: 5.2209e-05 - accuracy: 1.0000 - val_loss: 0.0051 - val_accuracy: 1.0000\n",
      "Epoch 18/50\n",
      "15/15 [==============================] - 0s 7ms/step - loss: 4.6197e-05 - accuracy: 1.0000 - val_loss: 0.0049 - val_accuracy: 1.0000\n",
      "Epoch 19/50\n",
      "15/15 [==============================] - 0s 7ms/step - loss: 4.1784e-05 - accuracy: 1.0000 - val_loss: 0.0052 - val_accuracy: 1.0000\n",
      "Epoch 20/50\n",
      "15/15 [==============================] - 0s 7ms/step - loss: 3.6606e-05 - accuracy: 1.0000 - val_loss: 0.0049 - val_accuracy: 1.0000\n",
      "Epoch 21/50\n",
      "15/15 [==============================] - 0s 7ms/step - loss: 3.3761e-05 - accuracy: 1.0000 - val_loss: 0.0045 - val_accuracy: 1.0000\n",
      "Epoch 22/50\n",
      "15/15 [==============================] - 0s 9ms/step - loss: 2.9396e-05 - accuracy: 1.0000 - val_loss: 0.0045 - val_accuracy: 1.0000\n",
      "Epoch 23/50\n",
      "15/15 [==============================] - 0s 8ms/step - loss: 2.6622e-05 - accuracy: 1.0000 - val_loss: 0.0046 - val_accuracy: 1.0000\n",
      "Epoch 24/50\n",
      "15/15 [==============================] - 0s 9ms/step - loss: 2.4021e-05 - accuracy: 1.0000 - val_loss: 0.0046 - val_accuracy: 1.0000\n",
      "Epoch 25/50\n",
      "15/15 [==============================] - 0s 8ms/step - loss: 2.2175e-05 - accuracy: 1.0000 - val_loss: 0.0041 - val_accuracy: 1.0000\n",
      "Epoch 26/50\n",
      "15/15 [==============================] - 0s 9ms/step - loss: 1.9423e-05 - accuracy: 1.0000 - val_loss: 0.0042 - val_accuracy: 1.0000\n",
      "Epoch 27/50\n",
      "15/15 [==============================] - 0s 8ms/step - loss: 1.7793e-05 - accuracy: 1.0000 - val_loss: 0.0040 - val_accuracy: 1.0000\n",
      "Epoch 28/50\n",
      "15/15 [==============================] - 0s 7ms/step - loss: 1.6231e-05 - accuracy: 1.0000 - val_loss: 0.0044 - val_accuracy: 1.0000\n",
      "Epoch 29/50\n",
      "15/15 [==============================] - 0s 8ms/step - loss: 1.4811e-05 - accuracy: 1.0000 - val_loss: 0.0042 - val_accuracy: 1.0000\n",
      "Epoch 30/50\n",
      "15/15 [==============================] - 0s 8ms/step - loss: 1.3677e-05 - accuracy: 1.0000 - val_loss: 0.0037 - val_accuracy: 1.0000\n",
      "Epoch 31/50\n",
      "15/15 [==============================] - 0s 7ms/step - loss: 1.2432e-05 - accuracy: 1.0000 - val_loss: 0.0038 - val_accuracy: 1.0000\n",
      "Epoch 32/50\n",
      "15/15 [==============================] - 0s 7ms/step - loss: 1.1658e-05 - accuracy: 1.0000 - val_loss: 0.0042 - val_accuracy: 1.0000\n",
      "Epoch 33/50\n",
      "15/15 [==============================] - 0s 8ms/step - loss: 1.0819e-05 - accuracy: 1.0000 - val_loss: 0.0036 - val_accuracy: 1.0000\n",
      "Epoch 34/50\n",
      "15/15 [==============================] - 0s 9ms/step - loss: 9.9816e-06 - accuracy: 1.0000 - val_loss: 0.0035 - val_accuracy: 1.0000\n",
      "Epoch 35/50\n",
      "15/15 [==============================] - 0s 8ms/step - loss: 8.9406e-06 - accuracy: 1.0000 - val_loss: 0.0038 - val_accuracy: 1.0000\n",
      "Epoch 36/50\n",
      "15/15 [==============================] - 0s 7ms/step - loss: 8.3101e-06 - accuracy: 1.0000 - val_loss: 0.0037 - val_accuracy: 1.0000\n",
      "Epoch 37/50\n",
      "15/15 [==============================] - 0s 8ms/step - loss: 7.7247e-06 - accuracy: 1.0000 - val_loss: 0.0035 - val_accuracy: 1.0000\n",
      "Epoch 38/50\n",
      "15/15 [==============================] - 0s 8ms/step - loss: 7.1101e-06 - accuracy: 1.0000 - val_loss: 0.0035 - val_accuracy: 1.0000\n",
      "Epoch 39/50\n",
      "15/15 [==============================] - 0s 8ms/step - loss: 6.6809e-06 - accuracy: 1.0000 - val_loss: 0.0036 - val_accuracy: 1.0000\n",
      "Epoch 40/50\n",
      "15/15 [==============================] - 0s 8ms/step - loss: 6.2624e-06 - accuracy: 1.0000 - val_loss: 0.0034 - val_accuracy: 1.0000\n",
      "Epoch 41/50\n",
      "15/15 [==============================] - 0s 9ms/step - loss: 5.8359e-06 - accuracy: 1.0000 - val_loss: 0.0034 - val_accuracy: 1.0000\n",
      "Epoch 42/50\n",
      "15/15 [==============================] - 0s 10ms/step - loss: 5.5313e-06 - accuracy: 1.0000 - val_loss: 0.0034 - val_accuracy: 1.0000\n",
      "Epoch 43/50\n",
      "15/15 [==============================] - 0s 9ms/step - loss: 5.1577e-06 - accuracy: 1.0000 - val_loss: 0.0034 - val_accuracy: 1.0000\n",
      "Epoch 44/50\n",
      "15/15 [==============================] - 0s 10ms/step - loss: 4.8981e-06 - accuracy: 1.0000 - val_loss: 0.0035 - val_accuracy: 1.0000\n",
      "Epoch 45/50\n",
      "15/15 [==============================] - 0s 11ms/step - loss: 4.6438e-06 - accuracy: 1.0000 - val_loss: 0.0032 - val_accuracy: 1.0000\n",
      "Epoch 46/50\n",
      "15/15 [==============================] - 0s 10ms/step - loss: 4.3339e-06 - accuracy: 1.0000 - val_loss: 0.0031 - val_accuracy: 1.0000\n",
      "Epoch 47/50\n",
      "15/15 [==============================] - 0s 9ms/step - loss: 4.0902e-06 - accuracy: 1.0000 - val_loss: 0.0031 - val_accuracy: 1.0000\n",
      "Epoch 48/50\n",
      "15/15 [==============================] - 0s 10ms/step - loss: 3.8783e-06 - accuracy: 1.0000 - val_loss: 0.0031 - val_accuracy: 1.0000\n",
      "Epoch 49/50\n",
      "15/15 [==============================] - 0s 13ms/step - loss: 3.6902e-06 - accuracy: 1.0000 - val_loss: 0.0031 - val_accuracy: 1.0000\n",
      "Epoch 50/50\n",
      "15/15 [==============================] - 0s 11ms/step - loss: 3.5021e-06 - accuracy: 1.0000 - val_loss: 0.0030 - val_accuracy: 1.0000\n"
     ]
    },
    {
     "data": {
      "text/plain": [
       "<keras.callbacks.History at 0x2aa3daaa5c0>"
      ]
     },
     "execution_count": 26,
     "metadata": {},
     "output_type": "execute_result"
    }
   ],
   "source": [
    "# 4. 학습시키기\n",
    "model.fit(train_data,\n",
    "         epochs=50,\n",
    "         validation_data=test_data)"
   ]
  },
  {
   "cell_type": "code",
   "execution_count": 27,
   "id": "7d670b85",
   "metadata": {},
   "outputs": [
    {
     "name": "stdout",
     "output_type": "stream",
     "text": [
      "5/5 [==============================] - 0s 6ms/step - loss: 0.0030 - accuracy: 1.0000\n",
      "0.002985743572935462\n",
      "1.0\n"
     ]
    }
   ],
   "source": [
    "# 모델 평가\n",
    "loss, accuracy = model.evaluate(test_data)\n",
    "print(loss)\n",
    "print(accuracy)"
   ]
  },
  {
   "cell_type": "code",
   "execution_count": 29,
   "id": "65c3c80f",
   "metadata": {},
   "outputs": [
    {
     "name": "stdout",
     "output_type": "stream",
     "text": [
      "5/5 [==============================] - 0s 4ms/step\n"
     ]
    },
    {
     "data": {
      "text/plain": [
       "array([0, 0, 0, 0, 0, 1, 1, 1, 1, 1, 2, 2, 2, 2, 2], dtype=int64)"
      ]
     },
     "execution_count": 29,
     "metadata": {},
     "output_type": "execute_result"
    }
   ],
   "source": [
    "# 예측하기\n",
    "yhat = model.predict(test_data)\n",
    "yhat.argmax(axis=1)"
   ]
  },
  {
   "cell_type": "code",
   "execution_count": 32,
   "id": "6200066f",
   "metadata": {},
   "outputs": [
    {
     "data": {
      "text/plain": [
       "array([[1.00, 0.00, 0.00],\n",
       "       [1.00, 0.00, 0.00],\n",
       "       [1.00, 0.00, 0.00],\n",
       "       [1.00, 0.00, 0.00],\n",
       "       [1.00, 0.00, 0.00],\n",
       "       [0.00, 1.00, 0.00],\n",
       "       [0.00, 1.00, 0.00],\n",
       "       [0.00, 1.00, 0.00],\n",
       "       [0.00, 1.00, 0.00],\n",
       "       [0.01, 0.96, 0.03],\n",
       "       [0.00, 0.00, 1.00],\n",
       "       [0.00, 0.00, 1.00],\n",
       "       [0.00, 0.00, 1.00],\n",
       "       [0.00, 0.00, 1.00],\n",
       "       [0.00, 0.00, 1.00]], dtype=float32)"
      ]
     },
     "execution_count": 32,
     "metadata": {},
     "output_type": "execute_result"
    }
   ],
   "source": [
    "np.set_printoptions(formatter={'float':lambda x : \"{:0.2f}\".format(x)})\n",
    "yhat"
   ]
  },
  {
   "cell_type": "code",
   "execution_count": 30,
   "id": "5661dffe",
   "metadata": {},
   "outputs": [
    {
     "data": {
      "text/plain": [
       "array([0, 0, 0, 0, 0, 1, 1, 1, 1, 1, 2, 2, 2, 2, 2])"
      ]
     },
     "execution_count": 30,
     "metadata": {},
     "output_type": "execute_result"
    }
   ],
   "source": [
    "# 실제 데이터\n",
    "test_data.labels"
   ]
  },
  {
   "cell_type": "markdown",
   "id": "fe92b8cc",
   "metadata": {},
   "source": [
    "# 2. 데이터 증강을 통한 CNNaccuracy 올리기\n",
    "- 데이터 추가 확보\n",
    "- 이미지 데이터를 증강(데이터 늘리기) : train set에서만 \n",
    "- 레이어층(Conv2D, MaxPooling, 배치정규화, Dense)\n",
    "- 활성화함수, 옵티마이저, Dropout(과적합 다소 해결)"
   ]
  },
  {
   "cell_type": "code",
   "execution_count": 33,
   "id": "000c513a",
   "metadata": {},
   "outputs": [
    {
     "name": "stdout",
     "output_type": "stream",
     "text": [
      "Found 45 images belonging to 3 classes.\n",
      "Found 15 images belonging to 3 classes.\n"
     ]
    }
   ],
   "source": [
    "# 1. 데이터 생성\n",
    "train_datagen = ImageDataGenerator(rescale=1./255, # 스케일 조정\n",
    "                                  rotation_range=10, # 이미지를 최대 ±10도 회전\n",
    "                                  width_shift_range=0.2, # 가로 방향으로 최대 20% 이동\n",
    "                                  height_shift_range=0.2, # 세로 방향으로 최대 20% 이동\n",
    "                                  fill_mode='nearest', # 이미지 확대시 채우는 방식\n",
    "                                  shear_range=0.7, # 최대 0.7 라디안(40도)으로 이미지 밀림\n",
    "                                  zoom_range=[0.9, 1.5], # 90~150% 크기로 확대/축소\n",
    "                                  horizontal_flip=True, # 수평 방향 뒤집기\n",
    "                                  vertical_flip=True, # 수직 방향 뒤집기\n",
    "                                  \n",
    "                                  )\n",
    "train_data = train_datagen.flow_from_directory(\n",
    "        'data/handwriting/handwriting_shape/train',\n",
    "        target_size=(24,24),\n",
    "        class_mode='categorical',\n",
    "        batch_size=3)\n",
    "test_datagen = ImageDataGenerator(rescale=1./255)\n",
    "test_data = test_datagen.flow_from_directory(\n",
    "    'data/handwriting/handwriting_shape/test',\n",
    "        target_size=(24,24),\n",
    "        class_mode='categorical',\n",
    "        batch_size=3,\n",
    "#         shuffle=True  기본값\n",
    ")"
   ]
  },
  {
   "cell_type": "code",
   "execution_count": 34,
   "id": "1a7cbcef",
   "metadata": {},
   "outputs": [
    {
     "name": "stdout",
     "output_type": "stream",
     "text": [
      "Epoch 1/50\n",
      "15/15 [==============================] - 1s 21ms/step - loss: 1.1528 - accuracy: 0.2444 - val_loss: 1.0968 - val_accuracy: 0.4000\n",
      "Epoch 2/50\n",
      "15/15 [==============================] - 0s 9ms/step - loss: 1.1101 - accuracy: 0.3333 - val_loss: 1.0908 - val_accuracy: 0.3333\n",
      "Epoch 3/50\n",
      "15/15 [==============================] - 0s 8ms/step - loss: 1.0914 - accuracy: 0.3778 - val_loss: 1.0945 - val_accuracy: 0.3333\n",
      "Epoch 4/50\n",
      "15/15 [==============================] - 0s 8ms/step - loss: 1.1101 - accuracy: 0.2889 - val_loss: 1.0934 - val_accuracy: 0.3333\n",
      "Epoch 5/50\n",
      "15/15 [==============================] - 0s 8ms/step - loss: 1.0830 - accuracy: 0.5111 - val_loss: 1.0670 - val_accuracy: 0.4667\n",
      "Epoch 6/50\n",
      "15/15 [==============================] - 0s 8ms/step - loss: 1.0320 - accuracy: 0.5778 - val_loss: 1.0904 - val_accuracy: 0.4000\n",
      "Epoch 7/50\n",
      "15/15 [==============================] - 0s 10ms/step - loss: 0.9714 - accuracy: 0.4889 - val_loss: 1.2530 - val_accuracy: 0.4000\n",
      "Epoch 8/50\n",
      "15/15 [==============================] - 0s 10ms/step - loss: 0.8629 - accuracy: 0.6000 - val_loss: 1.1449 - val_accuracy: 0.4000\n",
      "Epoch 9/50\n",
      "15/15 [==============================] - 0s 8ms/step - loss: 0.8781 - accuracy: 0.6000 - val_loss: 0.8109 - val_accuracy: 0.4667\n",
      "Epoch 10/50\n",
      "15/15 [==============================] - 0s 8ms/step - loss: 0.8260 - accuracy: 0.6222 - val_loss: 1.0146 - val_accuracy: 0.3333\n",
      "Epoch 11/50\n",
      "15/15 [==============================] - 0s 9ms/step - loss: 0.6606 - accuracy: 0.6222 - val_loss: 0.9730 - val_accuracy: 0.2000\n",
      "Epoch 12/50\n",
      "15/15 [==============================] - 0s 9ms/step - loss: 0.7723 - accuracy: 0.5778 - val_loss: 0.7619 - val_accuracy: 0.4667\n",
      "Epoch 13/50\n",
      "15/15 [==============================] - 0s 8ms/step - loss: 0.5232 - accuracy: 0.7778 - val_loss: 1.6363 - val_accuracy: 0.3333\n",
      "Epoch 14/50\n",
      "15/15 [==============================] - 0s 8ms/step - loss: 0.6954 - accuracy: 0.6000 - val_loss: 0.6645 - val_accuracy: 0.8667\n",
      "Epoch 15/50\n",
      "15/15 [==============================] - 0s 8ms/step - loss: 0.6079 - accuracy: 0.6889 - val_loss: 2.0581 - val_accuracy: 0.4667\n",
      "Epoch 16/50\n",
      "15/15 [==============================] - 0s 8ms/step - loss: 0.6111 - accuracy: 0.6444 - val_loss: 1.3525 - val_accuracy: 0.3333\n",
      "Epoch 17/50\n",
      "15/15 [==============================] - 0s 8ms/step - loss: 0.4288 - accuracy: 0.8000 - val_loss: 0.6568 - val_accuracy: 0.6667\n",
      "Epoch 18/50\n",
      "15/15 [==============================] - 0s 11ms/step - loss: 0.7121 - accuracy: 0.7333 - val_loss: 1.5265 - val_accuracy: 0.6000\n",
      "Epoch 19/50\n",
      "15/15 [==============================] - 0s 10ms/step - loss: 0.5643 - accuracy: 0.7778 - val_loss: 0.3580 - val_accuracy: 0.9333\n",
      "Epoch 20/50\n",
      "15/15 [==============================] - 0s 9ms/step - loss: 0.5908 - accuracy: 0.7556 - val_loss: 0.2821 - val_accuracy: 0.9333\n",
      "Epoch 21/50\n",
      "15/15 [==============================] - 0s 9ms/step - loss: 0.3482 - accuracy: 0.8667 - val_loss: 0.4113 - val_accuracy: 0.8667\n",
      "Epoch 22/50\n",
      "15/15 [==============================] - 0s 9ms/step - loss: 0.3648 - accuracy: 0.8667 - val_loss: 0.1664 - val_accuracy: 0.9333\n",
      "Epoch 23/50\n",
      "15/15 [==============================] - 0s 9ms/step - loss: 0.4956 - accuracy: 0.8444 - val_loss: 0.6455 - val_accuracy: 0.7333\n",
      "Epoch 24/50\n",
      "15/15 [==============================] - 0s 9ms/step - loss: 0.4590 - accuracy: 0.8444 - val_loss: 0.1449 - val_accuracy: 0.8667\n",
      "Epoch 25/50\n",
      "15/15 [==============================] - 0s 9ms/step - loss: 0.3630 - accuracy: 0.8444 - val_loss: 0.0703 - val_accuracy: 1.0000\n",
      "Epoch 26/50\n",
      "15/15 [==============================] - 0s 9ms/step - loss: 0.2253 - accuracy: 0.9333 - val_loss: 1.1764 - val_accuracy: 0.6000\n",
      "Epoch 27/50\n",
      "15/15 [==============================] - 0s 9ms/step - loss: 0.2546 - accuracy: 0.9111 - val_loss: 0.1490 - val_accuracy: 0.8667\n",
      "Epoch 28/50\n",
      "15/15 [==============================] - 0s 10ms/step - loss: 0.1349 - accuracy: 0.9333 - val_loss: 0.5665 - val_accuracy: 0.7333\n",
      "Epoch 29/50\n",
      "15/15 [==============================] - 0s 13ms/step - loss: 0.1755 - accuracy: 0.9556 - val_loss: 0.4603 - val_accuracy: 0.8000\n",
      "Epoch 30/50\n",
      "15/15 [==============================] - 0s 12ms/step - loss: 0.2805 - accuracy: 0.8889 - val_loss: 0.2327 - val_accuracy: 0.8000\n",
      "Epoch 31/50\n",
      "15/15 [==============================] - 0s 9ms/step - loss: 0.0687 - accuracy: 0.9778 - val_loss: 0.1725 - val_accuracy: 0.8667\n",
      "Epoch 32/50\n",
      "15/15 [==============================] - 0s 9ms/step - loss: 0.2679 - accuracy: 0.9111 - val_loss: 0.8341 - val_accuracy: 0.8000\n",
      "Epoch 33/50\n",
      "15/15 [==============================] - 0s 9ms/step - loss: 0.4530 - accuracy: 0.8222 - val_loss: 0.1039 - val_accuracy: 1.0000\n",
      "Epoch 34/50\n",
      "15/15 [==============================] - 0s 9ms/step - loss: 0.3126 - accuracy: 0.9333 - val_loss: 0.2635 - val_accuracy: 0.8667\n",
      "Epoch 35/50\n",
      "15/15 [==============================] - 0s 10ms/step - loss: 0.1967 - accuracy: 0.9333 - val_loss: 0.2464 - val_accuracy: 0.9333\n",
      "Epoch 36/50\n",
      "15/15 [==============================] - 0s 10ms/step - loss: 0.1565 - accuracy: 0.9333 - val_loss: 0.0739 - val_accuracy: 1.0000\n",
      "Epoch 37/50\n",
      "15/15 [==============================] - 0s 10ms/step - loss: 0.0740 - accuracy: 1.0000 - val_loss: 0.0858 - val_accuracy: 0.9333\n",
      "Epoch 38/50\n",
      "15/15 [==============================] - 0s 10ms/step - loss: 0.2868 - accuracy: 0.9333 - val_loss: 0.3375 - val_accuracy: 0.8000\n",
      "Epoch 39/50\n",
      "15/15 [==============================] - 0s 10ms/step - loss: 0.1883 - accuracy: 0.9333 - val_loss: 0.4755 - val_accuracy: 0.8000\n",
      "Epoch 40/50\n",
      "15/15 [==============================] - 0s 9ms/step - loss: 0.1937 - accuracy: 0.9333 - val_loss: 0.0063 - val_accuracy: 1.0000\n",
      "Epoch 41/50\n",
      "15/15 [==============================] - 0s 11ms/step - loss: 0.2474 - accuracy: 0.9111 - val_loss: 0.0857 - val_accuracy: 1.0000\n",
      "Epoch 42/50\n",
      "15/15 [==============================] - 0s 11ms/step - loss: 0.1463 - accuracy: 0.9333 - val_loss: 0.3496 - val_accuracy: 0.8667\n",
      "Epoch 43/50\n",
      "15/15 [==============================] - 0s 9ms/step - loss: 0.0892 - accuracy: 0.9778 - val_loss: 0.1987 - val_accuracy: 0.9333\n",
      "Epoch 44/50\n",
      "15/15 [==============================] - 0s 10ms/step - loss: 0.1702 - accuracy: 0.9333 - val_loss: 0.4657 - val_accuracy: 0.8000\n",
      "Epoch 45/50\n",
      "15/15 [==============================] - 0s 10ms/step - loss: 0.0724 - accuracy: 1.0000 - val_loss: 0.3219 - val_accuracy: 0.9333\n",
      "Epoch 46/50\n",
      "15/15 [==============================] - 0s 11ms/step - loss: 0.0955 - accuracy: 0.9778 - val_loss: 0.3392 - val_accuracy: 0.8667\n",
      "Epoch 47/50\n",
      "15/15 [==============================] - 0s 10ms/step - loss: 0.1200 - accuracy: 0.9556 - val_loss: 0.0370 - val_accuracy: 1.0000\n",
      "Epoch 48/50\n",
      "15/15 [==============================] - 0s 12ms/step - loss: 0.0412 - accuracy: 0.9778 - val_loss: 0.0119 - val_accuracy: 1.0000\n",
      "Epoch 49/50\n",
      "15/15 [==============================] - 0s 12ms/step - loss: 0.0972 - accuracy: 0.9556 - val_loss: 0.0022 - val_accuracy: 1.0000\n",
      "Epoch 50/50\n",
      "15/15 [==============================] - 0s 11ms/step - loss: 0.0886 - accuracy: 0.9778 - val_loss: 0.0012 - val_accuracy: 1.0000\n"
     ]
    },
    {
     "data": {
      "text/plain": [
       "<keras.callbacks.History at 0x2aaa28b25c0>"
      ]
     },
     "execution_count": 34,
     "metadata": {},
     "output_type": "execute_result"
    }
   ],
   "source": [
    "# 2. 모델구성\n",
    "model = Sequential()\n",
    "model.add(Conv2D(64,\n",
    "                kernel_size=(3,3),\n",
    "                activation='relu',\n",
    "                input_shape=(24,24,3)))\n",
    "model.add(Conv2D(64,\n",
    "                kernel_size=(3,3),\n",
    "                activation='relu',\n",
    "                ))\n",
    "model.add(MaxPool2D(pool_size=(2,2)))\n",
    "model.add(Dropout(0.2))\n",
    "\n",
    "model.add(Conv2D(64,\n",
    "                kernel_size=(3,3),\n",
    "                activation='relu',\n",
    "                input_shape=(24,24,3)))\n",
    "model.add(Conv2D(64,\n",
    "                kernel_size=(3,3),\n",
    "                activation='relu',\n",
    "                ))\n",
    "model.add(MaxPool2D(pool_size=(2,2)))\n",
    "\n",
    "model.add(Flatten()) # 3차원 데이터를 1차원으로\n",
    "model.add(Dense(units=128,\n",
    "               activation='relu'))\n",
    "model.add(Dense(units=3,\n",
    "               activation='softmax'))\n",
    "# model.summary()\n",
    "# 3. 학습설정\n",
    "model.compile(loss='categorical_crossentropy',\n",
    "             optimizer='adam',\n",
    "             metrics=['accuracy'])\n",
    "# 4. 학습시키기\n",
    "model.fit(train_data,\n",
    "         epochs=50,\n",
    "         validation_data=test_data)"
   ]
  },
  {
   "cell_type": "code",
   "execution_count": 36,
   "id": "619ab8bf",
   "metadata": {},
   "outputs": [
    {
     "name": "stdout",
     "output_type": "stream",
     "text": [
      "5/5 [==============================] - 0s 6ms/step - loss: 0.0012 - accuracy: 1.0000\n",
      "정확도(accuracy) : 1.0\n"
     ]
    }
   ],
   "source": [
    "# 평가하기\n",
    "score = model.evaluate(test_data)\n",
    "print('정확도(accuracy) :', score[1])"
   ]
  },
  {
   "cell_type": "code",
   "execution_count": 37,
   "id": "af0fba7a",
   "metadata": {},
   "outputs": [
    {
     "name": "stdout",
     "output_type": "stream",
     "text": [
      "5/5 [==============================] - 0s 3ms/step\n",
      "[[0.00 1.00 0.00]\n",
      " [1.00 0.00 0.00]\n",
      " [0.00 0.00 1.00]\n",
      " [1.00 0.00 0.00]\n",
      " [0.00 1.00 0.00]\n",
      " [0.00 1.00 0.00]\n",
      " [1.00 0.00 0.00]\n",
      " [1.00 0.00 0.00]\n",
      " [0.00 1.00 0.00]\n",
      " [0.00 0.00 1.00]\n",
      " [0.00 0.00 1.00]\n",
      " [0.00 0.00 1.00]\n",
      " [0.01 0.00 0.98]\n",
      " [0.00 1.00 0.00]\n",
      " [1.00 0.00 0.00]]\n"
     ]
    }
   ],
   "source": [
    "pred = model.predict(test_data)\n",
    "print(pred)"
   ]
  },
  {
   "cell_type": "code",
   "execution_count": 39,
   "id": "a2561039",
   "metadata": {},
   "outputs": [
    {
     "data": {
      "text/plain": [
       "array([1, 0, 2, 0, 1, 1, 0, 0, 1, 2, 2, 2, 2, 1, 0], dtype=int64)"
      ]
     },
     "execution_count": 39,
     "metadata": {},
     "output_type": "execute_result"
    }
   ],
   "source": [
    "pred.argmax(axis=1)"
   ]
  },
  {
   "cell_type": "code",
   "execution_count": null,
   "id": "65698035",
   "metadata": {},
   "outputs": [],
   "source": []
  },
  {
   "cell_type": "code",
   "execution_count": null,
   "id": "96898bb3",
   "metadata": {},
   "outputs": [],
   "source": []
  },
  {
   "cell_type": "code",
   "execution_count": null,
   "id": "ff41fd59",
   "metadata": {},
   "outputs": [],
   "source": []
  },
  {
   "cell_type": "code",
   "execution_count": null,
   "id": "b5b84523",
   "metadata": {},
   "outputs": [],
   "source": []
  },
  {
   "cell_type": "code",
   "execution_count": null,
   "id": "6c2144f0",
   "metadata": {},
   "outputs": [],
   "source": []
  },
  {
   "cell_type": "code",
   "execution_count": null,
   "id": "d4c834d3",
   "metadata": {},
   "outputs": [],
   "source": []
  },
  {
   "cell_type": "code",
   "execution_count": null,
   "id": "5b9d49ec",
   "metadata": {},
   "outputs": [],
   "source": []
  },
  {
   "cell_type": "code",
   "execution_count": null,
   "id": "60f68fa0",
   "metadata": {},
   "outputs": [],
   "source": []
  },
  {
   "cell_type": "code",
   "execution_count": null,
   "id": "cf58729c",
   "metadata": {},
   "outputs": [],
   "source": []
  },
  {
   "cell_type": "code",
   "execution_count": null,
   "id": "b1f451d5",
   "metadata": {},
   "outputs": [],
   "source": []
  },
  {
   "cell_type": "code",
   "execution_count": null,
   "id": "66f8425b",
   "metadata": {},
   "outputs": [],
   "source": []
  },
  {
   "cell_type": "code",
   "execution_count": null,
   "id": "3733d3d0",
   "metadata": {},
   "outputs": [],
   "source": []
  },
  {
   "cell_type": "code",
   "execution_count": null,
   "id": "85af3da5",
   "metadata": {},
   "outputs": [],
   "source": []
  },
  {
   "cell_type": "code",
   "execution_count": null,
   "id": "89edd427",
   "metadata": {},
   "outputs": [],
   "source": []
  },
  {
   "cell_type": "code",
   "execution_count": null,
   "id": "068cd984",
   "metadata": {},
   "outputs": [],
   "source": []
  },
  {
   "cell_type": "code",
   "execution_count": null,
   "id": "280e1291",
   "metadata": {},
   "outputs": [],
   "source": []
  },
  {
   "cell_type": "code",
   "execution_count": null,
   "id": "5724ad98",
   "metadata": {},
   "outputs": [],
   "source": []
  },
  {
   "cell_type": "code",
   "execution_count": null,
   "id": "f6404404",
   "metadata": {},
   "outputs": [],
   "source": []
  },
  {
   "cell_type": "code",
   "execution_count": null,
   "id": "34ec0829",
   "metadata": {},
   "outputs": [],
   "source": []
  },
  {
   "cell_type": "code",
   "execution_count": null,
   "id": "5a361d7c",
   "metadata": {},
   "outputs": [],
   "source": []
  }
 ],
 "metadata": {
  "kernelspec": {
   "display_name": "Python 3 (ipykernel)",
   "language": "python",
   "name": "python3"
  },
  "language_info": {
   "codemirror_mode": {
    "name": "ipython",
    "version": 3
   },
   "file_extension": ".py",
   "mimetype": "text/x-python",
   "name": "python",
   "nbconvert_exporter": "python",
   "pygments_lexer": "ipython3",
   "version": "3.10.9"
  },
  "toc": {
   "base_numbering": 1,
   "nav_menu": {},
   "number_sections": true,
   "sideBar": true,
   "skip_h1_title": false,
   "title_cell": "Table of Contents",
   "title_sidebar": "Contents",
   "toc_cell": false,
   "toc_position": {},
   "toc_section_display": true,
   "toc_window_display": false
  }
 },
 "nbformat": 4,
 "nbformat_minor": 5
}
